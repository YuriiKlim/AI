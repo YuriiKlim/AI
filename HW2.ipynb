{
  "nbformat": 4,
  "nbformat_minor": 0,
  "metadata": {
    "colab": {
      "provenance": [],
      "include_colab_link": true
    },
    "kernelspec": {
      "name": "python3",
      "display_name": "Python 3"
    },
    "language_info": {
      "name": "python"
    }
  },
  "cells": [
    {
      "cell_type": "markdown",
      "metadata": {
        "id": "view-in-github",
        "colab_type": "text"
      },
      "source": [
        "<a href=\"https://colab.research.google.com/github/YuriiKlim/AI/blob/Neural_lesson2/HW2.ipynb\" target=\"_parent\"><img src=\"https://colab.research.google.com/assets/colab-badge.svg\" alt=\"Open In Colab\"/></a>"
      ]
    },
    {
      "cell_type": "markdown",
      "source": [
        "Імпорт модулів"
      ],
      "metadata": {
        "id": "w1r0k1UheNCz"
      }
    },
    {
      "cell_type": "code",
      "execution_count": 370,
      "metadata": {
        "id": "4XxgJqCDoExm"
      },
      "outputs": [],
      "source": [
        "import torch\n",
        "import pandas as pd\n",
        "import numpy as np\n",
        "\n",
        "device = \"cuda\" if torch.cuda.is_available() else \"cpu\"\n",
        "torch.set_default_device(device)"
      ]
    },
    {
      "cell_type": "markdown",
      "source": [
        "Дані медичне страхування"
      ],
      "metadata": {
        "id": "Kpk2KycTeQEE"
      }
    },
    {
      "cell_type": "code",
      "source": [
        "# трохи обробки даних\n",
        "df = pd.read_csv('https://raw.githubusercontent.com/HalyshAnton/IT-Step-Pyton-AI/main/module3/data/insurance.csv')\n",
        "\n",
        "df['sex'] = df['sex'].map({'male': 0, 'female':1})\n",
        "df['smoker'] = df['smoker'].map({'no': 0, 'yes':1})\n",
        "\n",
        "df = df.drop(columns=['region'])\n",
        "\n",
        "data = df[['age', 'bmi', 'expenses']]\n",
        "df[['age', 'bmi', 'expenses']] = (data - data.min()) / (data.max() - data.min())"
      ],
      "metadata": {
        "id": "926S2f5pdnH6"
      },
      "execution_count": 371,
      "outputs": []
    },
    {
      "cell_type": "code",
      "source": [
        "df"
      ],
      "metadata": {
        "colab": {
          "base_uri": "https://localhost:8080/",
          "height": 423
        },
        "id": "eG6_dawddqwd",
        "outputId": "a4f90e66-097f-4e2b-bb14-3cca12a61c9a"
      },
      "execution_count": 372,
      "outputs": [
        {
          "output_type": "execute_result",
          "data": {
            "text/plain": [
              "           age  sex       bmi  children  smoker  expenses\n",
              "0     0.021739    1  0.320755         0       1  0.251611\n",
              "1     0.000000    0  0.479784         1       0  0.009636\n",
              "2     0.217391    0  0.458221         3       0  0.053115\n",
              "3     0.326087    0  0.180593         0       0  0.333010\n",
              "4     0.304348    0  0.347709         0       0  0.043816\n",
              "...        ...  ...       ...       ...     ...       ...\n",
              "1333  0.695652    0  0.404313         3       0  0.151299\n",
              "1334  0.000000    1  0.428571         0       0  0.017305\n",
              "1335  0.000000    1  0.563342         0       0  0.008108\n",
              "1336  0.065217    1  0.264151         0       0  0.014144\n",
              "1337  0.934783    1  0.353100         0       1  0.447249\n",
              "\n",
              "[1338 rows x 6 columns]"
            ],
            "text/html": [
              "<div>\n",
              "<style scoped>\n",
              "    .dataframe tbody tr th:only-of-type {\n",
              "        vertical-align: middle;\n",
              "    }\n",
              "\n",
              "    .dataframe tbody tr th {\n",
              "        vertical-align: top;\n",
              "    }\n",
              "\n",
              "    .dataframe thead th {\n",
              "        text-align: right;\n",
              "    }\n",
              "</style>\n",
              "<table border=\"1\" class=\"dataframe\">\n",
              "  <thead>\n",
              "    <tr style=\"text-align: right;\">\n",
              "      <th></th>\n",
              "      <th>age</th>\n",
              "      <th>sex</th>\n",
              "      <th>bmi</th>\n",
              "      <th>children</th>\n",
              "      <th>smoker</th>\n",
              "      <th>expenses</th>\n",
              "    </tr>\n",
              "  </thead>\n",
              "  <tbody>\n",
              "    <tr>\n",
              "      <th>0</th>\n",
              "      <td>0.021739</td>\n",
              "      <td>1</td>\n",
              "      <td>0.320755</td>\n",
              "      <td>0</td>\n",
              "      <td>1</td>\n",
              "      <td>0.251611</td>\n",
              "    </tr>\n",
              "    <tr>\n",
              "      <th>1</th>\n",
              "      <td>0.000000</td>\n",
              "      <td>0</td>\n",
              "      <td>0.479784</td>\n",
              "      <td>1</td>\n",
              "      <td>0</td>\n",
              "      <td>0.009636</td>\n",
              "    </tr>\n",
              "    <tr>\n",
              "      <th>2</th>\n",
              "      <td>0.217391</td>\n",
              "      <td>0</td>\n",
              "      <td>0.458221</td>\n",
              "      <td>3</td>\n",
              "      <td>0</td>\n",
              "      <td>0.053115</td>\n",
              "    </tr>\n",
              "    <tr>\n",
              "      <th>3</th>\n",
              "      <td>0.326087</td>\n",
              "      <td>0</td>\n",
              "      <td>0.180593</td>\n",
              "      <td>0</td>\n",
              "      <td>0</td>\n",
              "      <td>0.333010</td>\n",
              "    </tr>\n",
              "    <tr>\n",
              "      <th>4</th>\n",
              "      <td>0.304348</td>\n",
              "      <td>0</td>\n",
              "      <td>0.347709</td>\n",
              "      <td>0</td>\n",
              "      <td>0</td>\n",
              "      <td>0.043816</td>\n",
              "    </tr>\n",
              "    <tr>\n",
              "      <th>...</th>\n",
              "      <td>...</td>\n",
              "      <td>...</td>\n",
              "      <td>...</td>\n",
              "      <td>...</td>\n",
              "      <td>...</td>\n",
              "      <td>...</td>\n",
              "    </tr>\n",
              "    <tr>\n",
              "      <th>1333</th>\n",
              "      <td>0.695652</td>\n",
              "      <td>0</td>\n",
              "      <td>0.404313</td>\n",
              "      <td>3</td>\n",
              "      <td>0</td>\n",
              "      <td>0.151299</td>\n",
              "    </tr>\n",
              "    <tr>\n",
              "      <th>1334</th>\n",
              "      <td>0.000000</td>\n",
              "      <td>1</td>\n",
              "      <td>0.428571</td>\n",
              "      <td>0</td>\n",
              "      <td>0</td>\n",
              "      <td>0.017305</td>\n",
              "    </tr>\n",
              "    <tr>\n",
              "      <th>1335</th>\n",
              "      <td>0.000000</td>\n",
              "      <td>1</td>\n",
              "      <td>0.563342</td>\n",
              "      <td>0</td>\n",
              "      <td>0</td>\n",
              "      <td>0.008108</td>\n",
              "    </tr>\n",
              "    <tr>\n",
              "      <th>1336</th>\n",
              "      <td>0.065217</td>\n",
              "      <td>1</td>\n",
              "      <td>0.264151</td>\n",
              "      <td>0</td>\n",
              "      <td>0</td>\n",
              "      <td>0.014144</td>\n",
              "    </tr>\n",
              "    <tr>\n",
              "      <th>1337</th>\n",
              "      <td>0.934783</td>\n",
              "      <td>1</td>\n",
              "      <td>0.353100</td>\n",
              "      <td>0</td>\n",
              "      <td>1</td>\n",
              "      <td>0.447249</td>\n",
              "    </tr>\n",
              "  </tbody>\n",
              "</table>\n",
              "<p>1338 rows × 6 columns</p>\n",
              "</div>"
            ]
          },
          "metadata": {},
          "execution_count": 372
        }
      ]
    },
    {
      "cell_type": "markdown",
      "source": [
        "Потрібно на основі інформації людини спрогнозувати розмір її страховки `expenses`"
      ],
      "metadata": {
        "id": "KAmkR_CFejgQ"
      }
    },
    {
      "cell_type": "markdown",
      "source": [
        "# Завдання 1\n",
        "Створіть клас Dataset"
      ],
      "metadata": {
        "id": "dBt0E5BJe6OK"
      }
    },
    {
      "cell_type": "code",
      "source": [
        "from torch.utils.data import Dataset\n",
        "\n",
        "class MyDataset(Dataset):\n",
        "    def __init__(self, X, y):\n",
        "      self.X = torch.FloatTensor(X.values).to(device)\n",
        "      self.y = torch.FloatTensor(y.values).to(device)\n",
        "      self.y = self.y.reshape(-1, 1)\n",
        "\n",
        "    def __len__(self):\n",
        "      return len(self.X)\n",
        "\n",
        "    def __getitem__(self, idx):\n",
        "      return self.X[idx], self.y[idx]\n",
        "\n",
        "# Create dataset object\n",
        "X = df.drop(columns=['expenses'])\n",
        "y = df['expenses']\n",
        "\n",
        "dataset = MyDataset(X, y)"
      ],
      "metadata": {
        "id": "vFtu1Wd1drwJ"
      },
      "execution_count": 373,
      "outputs": []
    },
    {
      "cell_type": "markdown",
      "source": [
        "# Завдання 2\n",
        "Створіть DataLoader. Перевірте розміри даних в першому пакеті. Розмір пакетів оберіть самостійно"
      ],
      "metadata": {
        "id": "zQlB_6WzfB8n"
      }
    },
    {
      "cell_type": "code",
      "source": [
        "from torch.utils.data import DataLoader\n",
        "\n",
        "batch_size = 256\n",
        "dataloader = DataLoader(dataset,\n",
        "                        batch_size=batch_size,\n",
        "                        shuffle=True,\n",
        "                        generator=torch.Generator(device=device))"
      ],
      "metadata": {
        "id": "-6-po4H4fZQy"
      },
      "execution_count": 374,
      "outputs": []
    },
    {
      "cell_type": "code",
      "source": [
        "X_batch, y_batch = next(iter(dataloader))"
      ],
      "metadata": {
        "id": "r9Jpz9iCoM5n"
      },
      "execution_count": 375,
      "outputs": []
    },
    {
      "cell_type": "code",
      "source": [
        "X_batch.shape"
      ],
      "metadata": {
        "id": "DqxQFJixoQtz",
        "outputId": "6582023f-b2b1-4238-ecc5-099feaf4ee97",
        "colab": {
          "base_uri": "https://localhost:8080/"
        }
      },
      "execution_count": 376,
      "outputs": [
        {
          "output_type": "execute_result",
          "data": {
            "text/plain": [
              "torch.Size([256, 5])"
            ]
          },
          "metadata": {},
          "execution_count": 376
        }
      ]
    },
    {
      "cell_type": "code",
      "source": [
        "y_batch.shape"
      ],
      "metadata": {
        "id": "MaMgPICgoUKl",
        "outputId": "8a913d42-38ba-4570-898c-5ba4d8094e22",
        "colab": {
          "base_uri": "https://localhost:8080/"
        }
      },
      "execution_count": 377,
      "outputs": [
        {
          "output_type": "execute_result",
          "data": {
            "text/plain": [
              "torch.Size([256, 1])"
            ]
          },
          "metadata": {},
          "execution_count": 377
        }
      ]
    },
    {
      "cell_type": "code",
      "source": [
        "X_batch.device"
      ],
      "metadata": {
        "id": "cWm_tK6JoYDT",
        "outputId": "15579747-a8d6-45c8-a715-de53b0a6f97d",
        "colab": {
          "base_uri": "https://localhost:8080/"
        }
      },
      "execution_count": 378,
      "outputs": [
        {
          "output_type": "execute_result",
          "data": {
            "text/plain": [
              "device(type='cuda', index=0)"
            ]
          },
          "metadata": {},
          "execution_count": 378
        }
      ]
    },
    {
      "cell_type": "markdown",
      "source": [
        "# Завдання 3\n",
        "Створіть нейромережу:\n",
        "* Кількість шарів оберіть між 1-5\n",
        "* Виберіть різні функції активації: Relu, LeakyRelu, Swish\n",
        "* Кілкість нейронів у прихованих шарах повинна **не зростати**"
      ],
      "metadata": {
        "id": "2W93LiDxfZrx"
      }
    },
    {
      "cell_type": "code",
      "source": [
        "from torch import nn, optim\n",
        "\n",
        "class Model(nn.Module):\n",
        "    def __init__(self, input_size=2, hidden_sizes=[4], output_size=1):\n",
        "        super(Model, self).__init__()\n",
        "        self.layers = nn.ModuleList()\n",
        "        self.layers.append(nn.Linear(input_size, hidden_sizes[0]))\n",
        "\n",
        "        for i in range(len(hidden_sizes) - 1):\n",
        "            self.layers.append(nn.LeakyReLU())\n",
        "            self.layers.append(nn.Linear(hidden_sizes[i], hidden_sizes[i + 1]))\n",
        "\n",
        "        self.layers.append(nn.ReLU())\n",
        "        self.layers.append(nn.Linear(hidden_sizes[-1], output_size))\n",
        "\n",
        "    def forward(self, x):\n",
        "        for layer in self.layers:\n",
        "            x = layer(x)\n",
        "        return x\n",
        "\n",
        "model = Model(input_size=5, hidden_sizes=[7], output_size=1)\n",
        "\n",
        "model"
      ],
      "metadata": {
        "id": "p9DHog7Xf7xE",
        "outputId": "18c25193-5e6d-4a76-847f-6773d31f7ad9",
        "colab": {
          "base_uri": "https://localhost:8080/"
        }
      },
      "execution_count": 379,
      "outputs": [
        {
          "output_type": "execute_result",
          "data": {
            "text/plain": [
              "Model(\n",
              "  (layers): ModuleList(\n",
              "    (0): Linear(in_features=5, out_features=7, bias=True)\n",
              "    (1): ReLU()\n",
              "    (2): Linear(in_features=7, out_features=1, bias=True)\n",
              "  )\n",
              ")"
            ]
          },
          "metadata": {},
          "execution_count": 379
        }
      ]
    },
    {
      "cell_type": "code",
      "source": [
        "from torchsummary import summary\n",
        "\n",
        "summary(model, input_size=(5,))"
      ],
      "metadata": {
        "id": "xloUa-RCoycM",
        "outputId": "1d5d96fb-7993-437c-ee60-028976466dc3",
        "colab": {
          "base_uri": "https://localhost:8080/"
        }
      },
      "execution_count": 380,
      "outputs": [
        {
          "output_type": "stream",
          "name": "stdout",
          "text": [
            "=================================================================\n",
            "Layer (type:depth-idx)                   Param #\n",
            "=================================================================\n",
            "├─ModuleList: 1-1                        --\n",
            "|    └─Linear: 2-1                       42\n",
            "|    └─ReLU: 2-2                         --\n",
            "|    └─Linear: 2-3                       8\n",
            "=================================================================\n",
            "Total params: 50\n",
            "Trainable params: 50\n",
            "Non-trainable params: 0\n",
            "=================================================================\n"
          ]
        },
        {
          "output_type": "execute_result",
          "data": {
            "text/plain": [
              "=================================================================\n",
              "Layer (type:depth-idx)                   Param #\n",
              "=================================================================\n",
              "├─ModuleList: 1-1                        --\n",
              "|    └─Linear: 2-1                       42\n",
              "|    └─ReLU: 2-2                         --\n",
              "|    └─Linear: 2-3                       8\n",
              "=================================================================\n",
              "Total params: 50\n",
              "Trainable params: 50\n",
              "Non-trainable params: 0\n",
              "================================================================="
            ]
          },
          "metadata": {},
          "execution_count": 380
        }
      ]
    },
    {
      "cell_type": "markdown",
      "source": [
        "# Завдання 4\n",
        "Визначте функцію втрат та оптимізатор"
      ],
      "metadata": {
        "id": "VmNUVkkUf8gB"
      }
    },
    {
      "cell_type": "code",
      "source": [
        "loss_fn = nn.MSELoss()\n",
        "\n",
        "optimizer = optim.SGD(model.parameters(), lr=0.01, momentum=0.99)"
      ],
      "metadata": {
        "id": "e1sw9oRBgDXR"
      },
      "execution_count": 381,
      "outputs": []
    },
    {
      "cell_type": "markdown",
      "source": [
        "# Завдання 5\n",
        "Натренуйте нейромережу. візміть невелику кількість епох"
      ],
      "metadata": {
        "id": "qTOFCl_egEFZ"
      }
    },
    {
      "cell_type": "code",
      "source": [
        "num_epochs = 200\n",
        "losses = []\n",
        "\n",
        "for epoch in range(num_epochs):\n",
        "    losses_ = []\n",
        "    for X_batch, y_batch in dataloader:\n",
        "        y_pred = model(X_batch)\n",
        "        loss = loss_fn(y_pred, y_batch)\n",
        "        losses_.append(loss.item())\n",
        "\n",
        "        loss.backward()\n",
        "        optimizer.step()\n",
        "        optimizer.zero_grad()\n",
        "\n",
        "    losses.append(np.mean(losses_))\n",
        "\n",
        "    if epoch % 20 == 0 or epoch == num_epochs -1:\n",
        "        print(f'Epoch {epoch + 1}/{num_epochs}, Loss={losses[-1]}')"
      ],
      "metadata": {
        "id": "Nxo4p3IUgOx5",
        "outputId": "7fdb61e1-f7e0-463d-b5af-4b8f28e75246",
        "colab": {
          "base_uri": "https://localhost:8080/"
        }
      },
      "execution_count": 382,
      "outputs": [
        {
          "output_type": "stream",
          "name": "stdout",
          "text": [
            "Epoch 1/200, Loss=0.0660591572523117\n",
            "Epoch 21/200, Loss=0.017224757932126522\n",
            "Epoch 41/200, Loss=0.012543644135197004\n",
            "Epoch 61/200, Loss=0.009330098905290166\n",
            "Epoch 81/200, Loss=0.009388239743808905\n",
            "Epoch 101/200, Loss=0.008813822098697225\n",
            "Epoch 121/200, Loss=0.008955806648979584\n",
            "Epoch 141/200, Loss=0.00854815806572636\n",
            "Epoch 161/200, Loss=0.008499488700181246\n",
            "Epoch 181/200, Loss=0.008217365791400274\n",
            "Epoch 200/200, Loss=0.008460353206222257\n"
          ]
        }
      ]
    },
    {
      "cell_type": "code",
      "source": [
        "import matplotlib.pyplot as plt\n",
        "\n",
        "plt.plot(range(1, num_epochs + 1), losses)\n",
        "plt.xlabel('Epoch')\n",
        "plt.ylabel('Loss')\n",
        "plt.title('Training Loss')\n",
        "plt.show()"
      ],
      "metadata": {
        "id": "Y3WV_FgYpOfI",
        "outputId": "578c4c9d-d89e-4a09-d7d4-71715eacd2e8",
        "colab": {
          "base_uri": "https://localhost:8080/",
          "height": 472
        }
      },
      "execution_count": 383,
      "outputs": [
        {
          "output_type": "display_data",
          "data": {
            "text/plain": [
              "<Figure size 640x480 with 1 Axes>"
            ],
            "image/png": "[encoded data removed]"
          },
          "metadata": {}
        }
      ]
    },
    {
      "cell_type": "code",
      "source": [
        "X.iloc[:1]"
      ],
      "metadata": {
        "id": "R-hDKH8Qsggn",
        "outputId": "5aea89cc-ab94-4435-c9c1-9a7af0a820c7",
        "colab": {
          "base_uri": "https://localhost:8080/",
          "height": 81
        }
      },
      "execution_count": 384,
      "outputs": [
        {
          "output_type": "execute_result",
          "data": {
            "text/plain": [
              "        age  sex       bmi  children  smoker\n",
              "0  0.021739    1  0.320755         0       1"
            ],
            "text/html": [
              "<div>\n",
              "<style scoped>\n",
              "    .dataframe tbody tr th:only-of-type {\n",
              "        vertical-align: middle;\n",
              "    }\n",
              "\n",
              "    .dataframe tbody tr th {\n",
              "        vertical-align: top;\n",
              "    }\n",
              "\n",
              "    .dataframe thead th {\n",
              "        text-align: right;\n",
              "    }\n",
              "</style>\n",
              "<table border=\"1\" class=\"dataframe\">\n",
              "  <thead>\n",
              "    <tr style=\"text-align: right;\">\n",
              "      <th></th>\n",
              "      <th>age</th>\n",
              "      <th>sex</th>\n",
              "      <th>bmi</th>\n",
              "      <th>children</th>\n",
              "      <th>smoker</th>\n",
              "    </tr>\n",
              "  </thead>\n",
              "  <tbody>\n",
              "    <tr>\n",
              "      <th>0</th>\n",
              "      <td>0.021739</td>\n",
              "      <td>1</td>\n",
              "      <td>0.320755</td>\n",
              "      <td>0</td>\n",
              "      <td>1</td>\n",
              "    </tr>\n",
              "  </tbody>\n",
              "</table>\n",
              "</div>"
            ]
          },
          "metadata": {},
          "execution_count": 384
        }
      ]
    },
    {
      "cell_type": "code",
      "source": [
        "X_data = torch.FloatTensor(X.iloc[:1].values)\n",
        "X_data = X_data.to(device)\n",
        "\n",
        "print(X_data)\n",
        "print(X_data.shape)"
      ],
      "metadata": {
        "id": "8qkVKdjGspro",
        "outputId": "5c8b3398-b97e-4619-d196-dc4d1a6fe73d",
        "colab": {
          "base_uri": "https://localhost:8080/"
        }
      },
      "execution_count": 385,
      "outputs": [
        {
          "output_type": "stream",
          "name": "stdout",
          "text": [
            "tensor([[0.0217, 1.0000, 0.3208, 0.0000, 1.0000]], device='cuda:0')\n",
            "torch.Size([1, 5])\n"
          ]
        }
      ]
    },
    {
      "cell_type": "markdown",
      "source": [
        "# Завдання 6\n",
        "Збережіть нейромережу та зробіть прогноз"
      ],
      "metadata": {
        "id": "aoclw4XlgPhB"
      }
    },
    {
      "cell_type": "code",
      "source": [
        "torch.save(model, 'model.pt')"
      ],
      "metadata": {
        "id": "UzVFg-KjgYgy"
      },
      "execution_count": 386,
      "outputs": []
    },
    {
      "cell_type": "code",
      "source": [
        "load_model = torch.load('model.pt')"
      ],
      "metadata": {
        "id": "uR_hS6weswOZ"
      },
      "execution_count": 387,
      "outputs": []
    },
    {
      "cell_type": "code",
      "source": [
        "load_model(X_data)"
      ],
      "metadata": {
        "id": "5WQPiSA3sz41",
        "outputId": "54720dcb-be9a-4d2d-8bfe-5cd60451a404",
        "colab": {
          "base_uri": "https://localhost:8080/"
        }
      },
      "execution_count": 388,
      "outputs": [
        {
          "output_type": "execute_result",
          "data": {
            "text/plain": [
              "tensor([[0.3585]], device='cuda:0', grad_fn=<AddmmBackward0>)"
            ]
          },
          "metadata": {},
          "execution_count": 388
        }
      ]
    },
    {
      "cell_type": "code",
      "source": [
        "with torch.no_grad():\n",
        "  print(load_model(X_data))"
      ],
      "metadata": {
        "id": "jQQf04JMs3P3",
        "outputId": "ebab8c81-d06d-49b6-9204-6dc13956a01f",
        "colab": {
          "base_uri": "https://localhost:8080/"
        }
      },
      "execution_count": 389,
      "outputs": [
        {
          "output_type": "stream",
          "name": "stdout",
          "text": [
            "tensor([[0.3585]], device='cuda:0')\n"
          ]
        }
      ]
    }
  ]
}