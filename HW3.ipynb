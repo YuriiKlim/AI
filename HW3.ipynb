{
  "nbformat": 4,
  "nbformat_minor": 0,
  "metadata": {
    "colab": {
      "provenance": [],
      "gpuType": "T4",
      "include_colab_link": true
    },
    "kernelspec": {
      "name": "python3",
      "display_name": "Python 3"
    },
    "language_info": {
      "name": "python"
    },
    "accelerator": "GPU"
  },
  "cells": [
    {
      "cell_type": "markdown",
      "metadata": {
        "id": "view-in-github",
        "colab_type": "text"
      },
      "source": [
        "<a href=\"https://colab.research.google.com/github/YuriiKlim/AI/blob/Neural_lesson3/HW3.ipynb\" target=\"_parent\"><img src=\"https://colab.research.google.com/assets/colab-badge.svg\" alt=\"Open In Colab\"/></a>"
      ]
    },
    {
      "cell_type": "markdown",
      "source": [
        "Імпорт модулів"
      ],
      "metadata": {
        "id": "w1r0k1UheNCz"
      }
    },
    {
      "cell_type": "code",
      "execution_count": 190,
      "metadata": {
        "id": "4XxgJqCDoExm",
        "outputId": "efbe3ac4-e83a-4eb0-9387-2386d71e7ed3",
        "colab": {
          "base_uri": "https://localhost:8080/"
        }
      },
      "outputs": [
        {
          "output_type": "execute_result",
          "data": {
            "text/plain": [
              "<torch._C.Generator at 0x1c04b7091b0>"
            ]
          },
          "metadata": {},
          "execution_count": 190
        }
      ],
      "source": [
        "import torch\n",
        "import pandas as pd\n",
        "import os\n",
        "\n",
        "os.environ['CUDA_LAUNCH_BLOCKING'] = '1'\n",
        "os.environ['TORCH_USE_CUDA_DSA'] = '1'\n",
        "\n",
        "\n",
        "device = \"cuda\" if torch.cuda.is_available() else \"cpu\"\n",
        "#torch.set_default_device(device)\n",
        "\n",
        "torch.manual_seed(0)"
      ]
    },
    {
      "cell_type": "markdown",
      "source": [
        "Дані про банани"
      ],
      "metadata": {
        "id": "Kpk2KycTeQEE"
      }
    },
    {
      "cell_type": "code",
      "source": [
        "# трохи обробки даних\n",
        "df = pd.read_csv('https://raw.githubusercontent.com/HalyshAnton/IT-Step-Pyton-AI/main/module3/data/banana_quality.csv')\n",
        "\n",
        "df['Quality'] = df['Quality'].map({'Good': 1, 'Bad': 0})\n",
        "\n",
        "columns = df.columns.delete(-1)\n",
        "data = df[columns]\n",
        "df[columns] = (data - data.min()) / (data.max() - data.min())"
      ],
      "metadata": {
        "id": "926S2f5pdnH6"
      },
      "execution_count": 191,
      "outputs": []
    },
    {
      "cell_type": "code",
      "source": [
        "df"
      ],
      "metadata": {
        "colab": {
          "base_uri": "https://localhost:8080/",
          "height": 423
        },
        "id": "eG6_dawddqwd",
        "outputId": "72031a33-1e45-4ca5-ea82-1078eba32da0"
      },
      "execution_count": 192,
      "outputs": [
        {
          "output_type": "execute_result",
          "data": {
            "text/plain": [
              "          Size    Weight  Sweetness  Softness  HarvestTime  Ripeness  \\\n",
              "0     0.380309  0.626747   0.680712  0.360975     0.567312  0.671933   \n",
              "1     0.349951  0.628093   0.485275  0.293682     0.481689  0.646850   \n",
              "2     0.478460  0.699448   0.572694  0.283811     0.499358  0.716580   \n",
              "3     0.446465  0.705394   0.595677  0.374028     0.473461  0.633590   \n",
              "4     0.541672  0.687704   0.458841  0.378242     0.442847  0.579430   \n",
              "...        ...       ...        ...       ...          ...       ...   \n",
              "7995  0.099172  0.645045   0.541670  0.652073     0.567537  0.495237   \n",
              "7996  0.554154  0.434381   0.259196  0.490009     0.450586  0.348024   \n",
              "7997  0.589947  0.456598   0.279220  0.521305     0.505481  0.380883   \n",
              "7998  0.367350  0.396800   0.388309  0.597746     0.488151  0.261917   \n",
              "7999  0.334225  0.446786   0.471829  0.556483     0.431943  0.396485   \n",
              "\n",
              "       Acidity  Quality  \n",
              "0     0.543416        1  \n",
              "1     0.545720        1  \n",
              "2     0.617337        1  \n",
              "3     0.556625        1  \n",
              "4     0.705908        1  \n",
              "...        ...      ...  \n",
              "7995  0.679413        0  \n",
              "7996  0.661191        0  \n",
              "7997  0.570661        0  \n",
              "7998  0.553153        0  \n",
              "7999  0.617870        0  \n",
              "\n",
              "[8000 rows x 8 columns]"
            ],
            "text/html": [
              "<div>\n",
              "<style scoped>\n",
              "    .dataframe tbody tr th:only-of-type {\n",
              "        vertical-align: middle;\n",
              "    }\n",
              "\n",
              "    .dataframe tbody tr th {\n",
              "        vertical-align: top;\n",
              "    }\n",
              "\n",
              "    .dataframe thead th {\n",
              "        text-align: right;\n",
              "    }\n",
              "</style>\n",
              "<table border=\"1\" class=\"dataframe\">\n",
              "  <thead>\n",
              "    <tr style=\"text-align: right;\">\n",
              "      <th></th>\n",
              "      <th>Size</th>\n",
              "      <th>Weight</th>\n",
              "      <th>Sweetness</th>\n",
              "      <th>Softness</th>\n",
              "      <th>HarvestTime</th>\n",
              "      <th>Ripeness</th>\n",
              "      <th>Acidity</th>\n",
              "      <th>Quality</th>\n",
              "    </tr>\n",
              "  </thead>\n",
              "  <tbody>\n",
              "    <tr>\n",
              "      <th>0</th>\n",
              "      <td>0.380309</td>\n",
              "      <td>0.626747</td>\n",
              "      <td>0.680712</td>\n",
              "      <td>0.360975</td>\n",
              "      <td>0.567312</td>\n",
              "      <td>0.671933</td>\n",
              "      <td>0.543416</td>\n",
              "      <td>1</td>\n",
              "    </tr>\n",
              "    <tr>\n",
              "      <th>1</th>\n",
              "      <td>0.349951</td>\n",
              "      <td>0.628093</td>\n",
              "      <td>0.485275</td>\n",
              "      <td>0.293682</td>\n",
              "      <td>0.481689</td>\n",
              "      <td>0.646850</td>\n",
              "      <td>0.545720</td>\n",
              "      <td>1</td>\n",
              "    </tr>\n",
              "    <tr>\n",
              "      <th>2</th>\n",
              "      <td>0.478460</td>\n",
              "      <td>0.699448</td>\n",
              "      <td>0.572694</td>\n",
              "      <td>0.283811</td>\n",
              "      <td>0.499358</td>\n",
              "      <td>0.716580</td>\n",
              "      <td>0.617337</td>\n",
              "      <td>1</td>\n",
              "    </tr>\n",
              "    <tr>\n",
              "      <th>3</th>\n",
              "      <td>0.446465</td>\n",
              "      <td>0.705394</td>\n",
              "      <td>0.595677</td>\n",
              "      <td>0.374028</td>\n",
              "      <td>0.473461</td>\n",
              "      <td>0.633590</td>\n",
              "      <td>0.556625</td>\n",
              "      <td>1</td>\n",
              "    </tr>\n",
              "    <tr>\n",
              "      <th>4</th>\n",
              "      <td>0.541672</td>\n",
              "      <td>0.687704</td>\n",
              "      <td>0.458841</td>\n",
              "      <td>0.378242</td>\n",
              "      <td>0.442847</td>\n",
              "      <td>0.579430</td>\n",
              "      <td>0.705908</td>\n",
              "      <td>1</td>\n",
              "    </tr>\n",
              "    <tr>\n",
              "      <th>...</th>\n",
              "      <td>...</td>\n",
              "      <td>...</td>\n",
              "      <td>...</td>\n",
              "      <td>...</td>\n",
              "      <td>...</td>\n",
              "      <td>...</td>\n",
              "      <td>...</td>\n",
              "      <td>...</td>\n",
              "    </tr>\n",
              "    <tr>\n",
              "      <th>7995</th>\n",
              "      <td>0.099172</td>\n",
              "      <td>0.645045</td>\n",
              "      <td>0.541670</td>\n",
              "      <td>0.652073</td>\n",
              "      <td>0.567537</td>\n",
              "      <td>0.495237</td>\n",
              "      <td>0.679413</td>\n",
              "      <td>0</td>\n",
              "    </tr>\n",
              "    <tr>\n",
              "      <th>7996</th>\n",
              "      <td>0.554154</td>\n",
              "      <td>0.434381</td>\n",
              "      <td>0.259196</td>\n",
              "      <td>0.490009</td>\n",
              "      <td>0.450586</td>\n",
              "      <td>0.348024</td>\n",
              "      <td>0.661191</td>\n",
              "      <td>0</td>\n",
              "    </tr>\n",
              "    <tr>\n",
              "      <th>7997</th>\n",
              "      <td>0.589947</td>\n",
              "      <td>0.456598</td>\n",
              "      <td>0.279220</td>\n",
              "      <td>0.521305</td>\n",
              "      <td>0.505481</td>\n",
              "      <td>0.380883</td>\n",
              "      <td>0.570661</td>\n",
              "      <td>0</td>\n",
              "    </tr>\n",
              "    <tr>\n",
              "      <th>7998</th>\n",
              "      <td>0.367350</td>\n",
              "      <td>0.396800</td>\n",
              "      <td>0.388309</td>\n",
              "      <td>0.597746</td>\n",
              "      <td>0.488151</td>\n",
              "      <td>0.261917</td>\n",
              "      <td>0.553153</td>\n",
              "      <td>0</td>\n",
              "    </tr>\n",
              "    <tr>\n",
              "      <th>7999</th>\n",
              "      <td>0.334225</td>\n",
              "      <td>0.446786</td>\n",
              "      <td>0.471829</td>\n",
              "      <td>0.556483</td>\n",
              "      <td>0.431943</td>\n",
              "      <td>0.396485</td>\n",
              "      <td>0.617870</td>\n",
              "      <td>0</td>\n",
              "    </tr>\n",
              "  </tbody>\n",
              "</table>\n",
              "<p>8000 rows × 8 columns</p>\n",
              "</div>"
            ]
          },
          "metadata": {},
          "execution_count": 192
        }
      ]
    },
    {
      "cell_type": "markdown",
      "source": [
        "Потрібно на основі інформації про банан спрогнозувати його якість `Quality`"
      ],
      "metadata": {
        "id": "KAmkR_CFejgQ"
      }
    },
    {
      "cell_type": "markdown",
      "source": [
        "# Завдання 1\n",
        "Створіть клас Dataset для тренувальних та тестових даних"
      ],
      "metadata": {
        "id": "dBt0E5BJe6OK"
      }
    },
    {
      "cell_type": "code",
      "source": [
        "from torch.utils.data import Dataset\n",
        "from sklearn.model_selection import train_test_split\n",
        "\n",
        "class MyDataset(Dataset):\n",
        "    def __init__(self, X, y):\n",
        "      self.X = torch.FloatTensor(X.values)\n",
        "      self.y = torch.FloatTensor(y.values)\n",
        "      self.y = self.y.reshape(-1, 1)\n",
        "\n",
        "    def __len__(self):\n",
        "      return len(self.X)\n",
        "\n",
        "    def __getitem__(self, idx):\n",
        "      return self.X[idx], self.y[idx]\n",
        "\n",
        "# Create dataset object\n",
        "X = df.drop(columns=['Quality'])\n",
        "y = df['Quality']\n",
        "\n",
        "dataset = MyDataset(X, y)"
      ],
      "metadata": {
        "id": "vFtu1Wd1drwJ"
      },
      "execution_count": 193,
      "outputs": []
    },
    {
      "cell_type": "code",
      "source": [
        "X_train, X_test, y_train, y_test = train_test_split(X, y,\n",
        "                                                    train_size=0.8,\n",
        "                                                    random_state=42,\n",
        "                                                    stratify=y)\n",
        "\n",
        "dataset_train = MyDataset(X_train, y_train)\n",
        "dataset_test = MyDataset(X_test, y_test)"
      ],
      "metadata": {
        "id": "v7_HYVnrEN-H"
      },
      "execution_count": 194,
      "outputs": []
    },
    {
      "cell_type": "markdown",
      "source": [
        "# Завдання 2\n",
        "Створіть DataLoader"
      ],
      "metadata": {
        "id": "zQlB_6WzfB8n"
      }
    },
    {
      "cell_type": "code",
      "source": [
        "import torch\n",
        "from torch.utils.data import DataLoader\n",
        "\n",
        "batch_size = 64\n",
        "device = \"cuda\" if torch.cuda.is_available() else \"cpu\"\n",
        "generator = torch.Generator(device=device) if device == \"cuda\" else torch.Generator()\n",
        "\n",
        "train_dl = DataLoader(dataset_train, batch_size=batch_size, shuffle=True, generator=generator)\n",
        "test_dl = DataLoader(dataset_test, batch_size=batch_size, shuffle=True, generator=generator)"
      ],
      "metadata": {
        "id": "-6-po4H4fZQy"
      },
      "execution_count": 195,
      "outputs": []
    },
    {
      "cell_type": "markdown",
      "source": [
        "# Завдання 3\n",
        "Створіть нейромережу"
      ],
      "metadata": {
        "id": "2W93LiDxfZrx"
      }
    },
    {
      "cell_type": "code",
      "source": [
        "from torch import nn, optim\n",
        "import matplotlib.pyplot as plt\n",
        "from sklearn.metrics import ConfusionMatrixDisplay, RocCurveDisplay\n",
        "import numpy as np\n",
        "\n",
        "class Model(nn.Module):\n",
        "    def __init__(self, input_size=2, hidden_sizes=[4], output_size=1, activation='sigmoid'):\n",
        "        super(Model, self).__init__()\n",
        "        self.layers = nn.ModuleList()\n",
        "        self.layers.append(nn.Linear(input_size, hidden_sizes[0]))\n",
        "\n",
        "        activation_func = self.get_activation(activation)\n",
        "\n",
        "        for i in range(len(hidden_sizes) - 1):\n",
        "            self.layers.append(activation_func)\n",
        "            self.layers.append(nn.Linear(hidden_sizes[i], hidden_sizes[i + 1]))\n",
        "\n",
        "        self.layers.append(activation_func)\n",
        "        self.layers.append(nn.Linear(hidden_sizes[-1], output_size))\n",
        "        self.output_activation = nn.Sigmoid()\n",
        "\n",
        "    def get_activation(self, activation):\n",
        "        if activation == 'sigmoid':\n",
        "            return nn.Sigmoid()\n",
        "        elif activation == 'relu':\n",
        "            return nn.ReLU()\n",
        "        elif activation == 'leaky_relu':\n",
        "            return nn.LeakyReLU()\n",
        "        elif activation == 'tanh':\n",
        "            return nn.Tanh()\n",
        "        else:\n",
        "            raise ValueError(\"Unknown activation function\")\n",
        "\n",
        "    def forward(self, x):\n",
        "        for layer in self.layers:\n",
        "            x = layer(x)\n",
        "        return self.output_activation(x)\n",
        "\n",
        "    def predict(self, x, device='cpu'):\n",
        "        if isinstance(x, pd.DataFrame):\n",
        "            x = torch.tensor(x.values, dtype=torch.float32)\n",
        "        elif isinstance(x, np.ndarray):\n",
        "            x = torch.tensor(x, dtype=torch.float32)\n",
        "        x = x.to(device)\n",
        "        self.to(device)\n",
        "        self.eval()\n",
        "        with torch.no_grad():\n",
        "            y_pred = self.forward(x)\n",
        "        return y_pred.cpu().numpy()\n",
        "\n",
        "model = Model(input_size=7, hidden_sizes=[20, 15, 10, 5], output_size=1, activation='sigmoid')\n"
      ],
      "metadata": {
        "id": "p9DHog7Xf7xE"
      },
      "execution_count": 196,
      "outputs": []
    },
    {
      "cell_type": "code",
      "source": [
        "from torchsummary import summary\n",
        "\n",
        "summary(model, input_size=(7,))"
      ],
      "metadata": {
        "id": "lyOaKqoAFiV_",
        "colab": {
          "base_uri": "https://localhost:8080/"
        },
        "outputId": "905ee682-de55-4c68-f9d1-57147de52e0a"
      },
      "execution_count": 197,
      "outputs": [
        {
          "output_type": "stream",
          "name": "stdout",
          "text": [
            "=================================================================\n",
            "Layer (type:depth-idx)                   Param #\n",
            "=================================================================\n",
            "├─ModuleList: 1-1                        --\n",
            "|    └─Linear: 2-1                       160\n",
            "|    └─Sigmoid: 2-2                      --\n",
            "|    └─Linear: 2-3                       315\n",
            "|    └─Linear: 2-4                       160\n",
            "|    └─Linear: 2-5                       55\n",
            "|    └─Linear: 2-6                       6\n",
            "├─Sigmoid: 1-2                           --\n",
            "=================================================================\n",
            "Total params: 696\n",
            "Trainable params: 696\n",
            "Non-trainable params: 0\n",
            "=================================================================\n"
          ]
        },
        {
          "output_type": "execute_result",
          "data": {
            "text/plain": [
              "=================================================================\n",
              "Layer (type:depth-idx)                   Param #\n",
              "=================================================================\n",
              "├─ModuleList: 1-1                        --\n",
              "|    └─Linear: 2-1                       160\n",
              "|    └─Sigmoid: 2-2                      --\n",
              "|    └─Linear: 2-3                       315\n",
              "|    └─Linear: 2-4                       160\n",
              "|    └─Linear: 2-5                       55\n",
              "|    └─Linear: 2-6                       6\n",
              "├─Sigmoid: 1-2                           --\n",
              "=================================================================\n",
              "Total params: 696\n",
              "Trainable params: 696\n",
              "Non-trainable params: 0\n",
              "================================================================="
            ]
          },
          "metadata": {},
          "execution_count": 197
        }
      ]
    },
    {
      "cell_type": "markdown",
      "source": [
        "# Завдання 4\n",
        "Визначте функцію втрат та оптимізатор"
      ],
      "metadata": {
        "id": "VmNUVkkUf8gB"
      }
    },
    {
      "cell_type": "code",
      "source": [
        "loss_fn = nn.BCELoss()\n",
        "\n",
        "optimizer = torch.optim.Adam(model.parameters(), lr=0.004)"
      ],
      "metadata": {
        "id": "PMNuudtjFf5D"
      },
      "execution_count": 198,
      "outputs": []
    },
    {
      "cell_type": "markdown",
      "source": [
        "# Завдання 5\n",
        "Натренуйте нейромережу. Візміть невелику кількість епох"
      ],
      "metadata": {
        "id": "qTOFCl_egEFZ"
      }
    },
    {
      "cell_type": "code",
      "source": [
        "import time\n",
        "\n",
        "def train(model, optimizer, loss_fn, train_dl, val_dl,\n",
        "          metrics=None, metrics_name=None, epochs=20, device='cpu', task='regression', log_interval=1):\n",
        "    metrics = metrics if metrics else []\n",
        "    metrics_name = metrics_name if metrics_name else [metric.__name__ for metric in metrics]\n",
        "\n",
        "    history = {}  # Collects per-epoch loss and metrics like Keras' fit().\n",
        "    history['loss'] = []\n",
        "    history['val_loss'] = []\n",
        "    for name in metrics_name:\n",
        "        history[name] = []\n",
        "        history[f'val_{name}'] = []\n",
        "\n",
        "    model.to(device)\n",
        "\n",
        "    start_time_train = time.time()\n",
        "\n",
        "    for epoch in range(epochs):\n",
        "        # --- TRAIN AND EVALUATE ON TRAINING SET -----------------------------\n",
        "        start_time_epoch = time.time()\n",
        "\n",
        "        model.train()\n",
        "        history_train = {name: 0 for name in ['loss'] + metrics_name}\n",
        "\n",
        "        for batch in train_dl:\n",
        "            x = batch[0].to(device)\n",
        "            y = batch[1].to(device)\n",
        "            y_pred = model(x)\n",
        "            loss = loss_fn(y_pred, y)\n",
        "\n",
        "            optimizer.zero_grad()\n",
        "            loss.backward()\n",
        "            optimizer.step()\n",
        "\n",
        "            y_pred = y_pred.detach().cpu().numpy()\n",
        "            y = y.detach().cpu().numpy()\n",
        "\n",
        "            history_train['loss'] += loss.item() * x.size(0)\n",
        "            for name, func in zip(metrics_name, metrics):\n",
        "                try:\n",
        "                    history_train[name] += func(y, y_pred) * x.size(0)\n",
        "                except:\n",
        "                    if task == 'binary':\n",
        "                        y_pred_ = y_pred.round()\n",
        "                    elif task == 'multiclass':\n",
        "                        y_pred_ = y_pred.argmax(axis=-1)\n",
        "                    history_train[name] += func(y, y_pred_) * x.size(0)\n",
        "\n",
        "        for name in history_train:\n",
        "            history_train[name] /= len(train_dl.dataset)\n",
        "\n",
        "        # --- EVALUATE ON VALIDATION SET -------------------------------------\n",
        "        model.eval()\n",
        "        history_val = {'val_' + name: 0 for name in metrics_name + ['loss']}\n",
        "\n",
        "        with torch.no_grad():\n",
        "            for batch in val_dl:\n",
        "                x = batch[0].to(device)\n",
        "                y = batch[1].to(device)\n",
        "                y_pred = model(x)\n",
        "                loss = loss_fn(y_pred, y)\n",
        "\n",
        "                y_pred = y_pred.cpu().numpy()\n",
        "                y = y.cpu().numpy()\n",
        "\n",
        "                history_val['val_loss'] += loss.item() * x.size(0)\n",
        "                for name, func in zip(metrics_name, metrics):\n",
        "                    try:\n",
        "                        history_val['val_' + name] += func(y, y_pred) * x.size(0)\n",
        "                    except:\n",
        "                        if task == 'binary':\n",
        "                            y_pred_ = y_pred.round()\n",
        "                        elif task == 'multiclass':\n",
        "                            y_pred_ = y_pred.argmax(axis=-1)\n",
        "\n",
        "                        history_val['val_' + name] += func(y, y_pred_) * x.size(0)\n",
        "\n",
        "        for name in history_val:\n",
        "            history_val[name] /= len(val_dl.dataset)\n",
        "\n",
        "        # PRINTING RESULTS\n",
        "        end_time_epoch = time.time()\n",
        "\n",
        "        for name in history_train:\n",
        "            history[name].append(history_train[name])\n",
        "            history['val_' + name].append(history_val['val_' + name])\n",
        "\n",
        "        total_time_epoch = end_time_epoch - start_time_epoch\n",
        "\n",
        "        if epoch + 1 == 1 or (epoch + 1) % log_interval == 0 or epoch + 1 == epochs:\n",
        "            print(f'Epoch {epoch + 1:4d} {total_time_epoch:4.0f}sec', end='\\t')\n",
        "            for name in history_train:\n",
        "                print(f'{name}: {history[name][-1]:10.3g}', end='\\t')\n",
        "                print(f\"val_{name}: {history['val_' + name][-1]:10.3g}\", end='\\t')\n",
        "            print()\n",
        "\n",
        "    # END OF TRAINING LOOP\n",
        "    end_time_train = time.time()\n",
        "    total_time_train = end_time_train - start_time_train\n",
        "    print()\n",
        "    print('Time total:     %5.2f sec' % (total_time_train))\n",
        "\n",
        "    return history"
      ],
      "metadata": {
        "id": "Nxo4p3IUgOx5"
      },
      "execution_count": 199,
      "outputs": []
    },
    {
      "cell_type": "code",
      "source": [
        "from sklearn.metrics import accuracy_score, roc_auc_score\n",
        "\n",
        "history = train(model, optimizer, loss_fn, train_dl, test_dl,\n",
        "                epochs=1000, #псіханув)\n",
        "                metrics=[accuracy_score, roc_auc_score],\n",
        "                device=device,\n",
        "                task='binary',\n",
        "                log_interval=100)"
      ],
      "metadata": {
        "id": "F46BDd7GFrk5",
        "colab": {
          "base_uri": "https://localhost:8080/"
        },
        "outputId": "f17c2131-74d2-4211-8299-2da7a30db0ef"
      },
      "execution_count": 200,
      "outputs": [
        {
          "output_type": "stream",
          "name": "stdout",
          "text": [
            "Epoch    1    1sec\tloss:      0.694\tval_loss:      0.693\taccuracy_score:      0.504\tval_accuracy_score:      0.501\troc_auc_score:      0.728\tval_roc_auc_score:      0.907\t\n",
            "Epoch  100    1sec\tloss:      0.236\tval_loss:      0.246\taccuracy_score:        0.9\tval_accuracy_score:      0.893\troc_auc_score:      0.966\tval_roc_auc_score:      0.964\t\n",
            "Epoch  200    1sec\tloss:      0.197\tval_loss:       0.18\taccuracy_score:      0.919\tval_accuracy_score:      0.927\troc_auc_score:      0.977\tval_roc_auc_score:       0.98\t\n",
            "Epoch  300    1sec\tloss:       0.12\tval_loss:      0.114\taccuracy_score:      0.961\tval_accuracy_score:      0.961\troc_auc_score:      0.989\tval_roc_auc_score:      0.989\t\n",
            "Epoch  400    1sec\tloss:     0.0821\tval_loss:     0.0866\taccuracy_score:      0.975\tval_accuracy_score:      0.976\troc_auc_score:      0.994\tval_roc_auc_score:      0.991\t\n",
            "Epoch  500    1sec\tloss:     0.0611\tval_loss:     0.0742\taccuracy_score:      0.983\tval_accuracy_score:      0.976\troc_auc_score:      0.995\tval_roc_auc_score:      0.994\t\n",
            "Epoch  600    1sec\tloss:     0.0581\tval_loss:     0.0604\taccuracy_score:      0.984\tval_accuracy_score:      0.983\troc_auc_score:      0.996\tval_roc_auc_score:      0.993\t\n",
            "Epoch  700    1sec\tloss:     0.0543\tval_loss:      0.055\taccuracy_score:      0.985\tval_accuracy_score:      0.985\troc_auc_score:      0.996\tval_roc_auc_score:      0.994\t\n",
            "Epoch  800    1sec\tloss:     0.0526\tval_loss:     0.0599\taccuracy_score:      0.986\tval_accuracy_score:      0.981\troc_auc_score:      0.996\tval_roc_auc_score:      0.995\t\n",
            "Epoch  900    1sec\tloss:     0.0506\tval_loss:     0.0568\taccuracy_score:      0.986\tval_accuracy_score:      0.984\troc_auc_score:      0.996\tval_roc_auc_score:      0.995\t\n",
            "Epoch 1000    1sec\tloss:     0.0463\tval_loss:     0.0586\taccuracy_score:      0.989\tval_accuracy_score:      0.984\troc_auc_score:      0.996\tval_roc_auc_score:      0.994\t\n",
            "\n",
            "Time total:     931.10 sec\n"
          ]
        }
      ]
    },
    {
      "cell_type": "code",
      "source": [
        "import matplotlib.pyplot as plt\n",
        "\n",
        "def plot_metric(history, name):\n",
        "    plt.title(f\"Model results with {name}\")\n",
        "    plt.plot(history[name], label='train')\n",
        "    plt.plot(history['val_' + name], label='val')\n",
        "    plt.xlabel('Epoch')\n",
        "    plt.ylabel(name)\n",
        "    plt.legend()\n",
        "\n",
        "plot_metric(history, 'loss')"
      ],
      "metadata": {
        "id": "7JzwHxVXF6nE",
        "colab": {
          "base_uri": "https://localhost:8080/",
          "height": 472
        },
        "outputId": "a55889a6-e41c-4bf7-8df5-b57fd47ba2c2"
      },
      "execution_count": 201,
      "outputs": [
        {
          "output_type": "display_data",
          "data": {
            "text/plain": [
              "<Figure size 640x480 with 1 Axes>"
            ],
            "image/png": "[encoded data removed]"
          },
          "metadata": {}
        }
      ]
    },
    {
      "cell_type": "code",
      "source": [
        "plot_metric(history, 'accuracy_score')"
      ],
      "metadata": {
        "id": "1m-Gp4cJF9y6",
        "colab": {
          "base_uri": "https://localhost:8080/",
          "height": 472
        },
        "outputId": "7c08a0c4-e562-43e9-99a3-7e654f397c32"
      },
      "execution_count": 202,
      "outputs": [
        {
          "output_type": "display_data",
          "data": {
            "text/plain": [
              "<Figure size 640x480 with 1 Axes>"
            ],
            "image/png": "[encoded data removed]"
          },
          "metadata": {}
        }
      ]
    },
    {
      "cell_type": "code",
      "source": [
        "print(X_test)"
      ],
      "metadata": {
        "id": "Nyi1Kk_EGEJ7",
        "colab": {
          "base_uri": "https://localhost:8080/"
        },
        "outputId": "23f6b398-538f-48df-e793-8997c4f3abbb"
      },
      "execution_count": 203,
      "outputs": [
        {
          "output_type": "stream",
          "name": "stdout",
          "text": [
            "          Size    Weight  Sweetness  Softness  HarvestTime  Ripeness   Acidity\n",
            "4521  0.640787  0.661019   0.289875  0.706441     0.772894  0.496322  0.568264\n",
            "5179  0.731932  0.551566   0.396122  0.622746     0.747596  0.575144  0.396509\n",
            "7805  0.391539  0.422934   0.484307  0.515155     0.355879  0.592770  0.566104\n",
            "3356  0.285113  0.576482   0.248229  0.343027     0.567906  0.558591  0.305671\n",
            "3390  0.436560  0.428849   0.328526  0.365394     0.422345  0.657472  0.420468\n",
            "...        ...       ...        ...       ...          ...       ...       ...\n",
            "4197  0.577112  0.351875   0.468190  0.480501     0.863271  0.631720  0.481836\n",
            "6746  0.485496  0.242423   0.268793  0.535827     0.278979  0.453500  0.470597\n",
            "510   0.493937  0.503982   0.544396  0.282634     0.399745  0.741070  0.735301\n",
            "6939  0.428285  0.444352   0.471615  0.522055     0.503189  0.468704  0.606567\n",
            "7642  0.281145  0.654773   0.357430  0.552547     0.560910  0.472904  0.811293\n",
            "\n",
            "[1600 rows x 7 columns]\n"
          ]
        }
      ]
    },
    {
      "cell_type": "code",
      "source": [
        "from sklearn.metrics import ConfusionMatrixDisplay, RocCurveDisplay\n",
        "\n",
        "model = model.to('cpu')\n",
        "y_pred = model.predict(X_test, device='cpu')\n",
        "\n",
        "ConfusionMatrixDisplay.from_predictions(y_test, y_pred.round())\n",
        "plt.plot()\n",
        "\n",
        "RocCurveDisplay.from_predictions(y_test, y_pred, pos_label=1)"
      ],
      "metadata": {
        "id": "4o-g6t63GZaE",
        "colab": {
          "base_uri": "https://localhost:8080/",
          "height": 901
        },
        "outputId": "7e82feeb-7cbe-426b-ab1b-b99be4608564"
      },
      "execution_count": 204,
      "outputs": [
        {
          "output_type": "execute_result",
          "data": {
            "text/plain": [
              "<sklearn.metrics._plot.roc_curve.RocCurveDisplay at 0x1c087135a90>"
            ]
          },
          "metadata": {},
          "execution_count": 204
        },
        {
          "output_type": "display_data",
          "data": {
            "text/plain": [
              "<Figure size 640x480 with 2 Axes>"
            ],
            "image/png": "[encoded data removed]"
          },
          "metadata": {}
        },
        {
          "output_type": "display_data",
          "data": {
            "text/plain": [
              "<Figure size 640x480 with 1 Axes>"
            ],
            "image/png": "[encoded data removed]"
          },
          "metadata": {}
        }
      ]
    },
    {
      "cell_type": "markdown",
      "source": [
        "# Завдання 6\n",
        "Збережіть нейромережу та зробіть прогноз"
      ],
      "metadata": {
        "id": "aoclw4XlgPhB"
      }
    },
    {
      "cell_type": "code",
      "source": [
        "torch.save(model.state_dict(), 'model.pth')"
      ],
      "metadata": {
        "id": "UzVFg-KjgYgy"
      },
      "execution_count": 205,
      "outputs": []
    },
    {
      "cell_type": "code",
      "source": [
        "model.load_state_dict(torch.load('model.pth'))"
      ],
      "metadata": {
        "id": "daPM3mJFPp57",
        "colab": {
          "base_uri": "https://localhost:8080/"
        },
        "outputId": "8a53b436-8b80-4b0e-e017-5e605bd99824"
      },
      "execution_count": 206,
      "outputs": [
        {
          "output_type": "execute_result",
          "data": {
            "text/plain": [
              "<All keys matched successfully>"
            ]
          },
          "metadata": {},
          "execution_count": 206
        }
      ]
    }
  ]
}