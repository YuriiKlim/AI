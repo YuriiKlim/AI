{
  "metadata": {
    "kernelspec": {
      "language": "python",
      "display_name": "Python 3",
      "name": "python3"
    },
    "language_info": {
      "name": "python",
      "version": "3.10.13",
      "mimetype": "text/x-python",
      "codemirror_mode": {
        "name": "ipython",
        "version": 3
      },
      "pygments_lexer": "ipython3",
      "nbconvert_exporter": "python",
      "file_extension": ".py"
    },
    "kaggle": {
      "accelerator": "gpu",
      "dataSources": [
        {
          "sourceId": 7882142,
          "sourceType": "datasetVersion",
          "datasetId": 4626328
        }
      ],
      "dockerImageVersionId": 30747,
      "isInternetEnabled": true,
      "language": "python",
      "sourceType": "notebook",
      "isGpuEnabled": true
    },
    "colab": {
      "name": "notebookb73a5dee87",
      "provenance": [],
      "include_colab_link": true
    }
  },
  "nbformat_minor": 0,
  "nbformat": 4,
  "cells": [
    {
      "cell_type": "markdown",
      "metadata": {
        "id": "view-in-github",
        "colab_type": "text"
      },
      "source": [
        "<a href=\"https://colab.research.google.com/github/YuriiKlim/AI/blob/Text_neural2/TextClassification_Lab1.ipynb\" target=\"_parent\"><img src=\"https://colab.research.google.com/assets/colab-badge.svg\" alt=\"Open In Colab\"/></a>"
      ]
    },
    {
      "source": [
        "\n",
        "# IMPORTANT: RUN THIS CELL IN ORDER TO IMPORT YOUR KAGGLE DATA SOURCES\n",
        "# TO THE CORRECT LOCATION (/kaggle/input) IN YOUR NOTEBOOK,\n",
        "# THEN FEEL FREE TO DELETE THIS CELL.\n",
        "# NOTE: THIS NOTEBOOK ENVIRONMENT DIFFERS FROM KAGGLE'S PYTHON\n",
        "# ENVIRONMENT SO THERE MAY BE MISSING LIBRARIES USED BY YOUR\n",
        "# NOTEBOOK.\n",
        "\n",
        "import os\n",
        "import sys\n",
        "from tempfile import NamedTemporaryFile\n",
        "from urllib.request import urlopen\n",
        "from urllib.parse import unquote, urlparse\n",
        "from urllib.error import HTTPError\n",
        "from zipfile import ZipFile\n",
        "import tarfile\n",
        "import shutil\n",
        "\n",
        "CHUNK_SIZE = 40960\n",
        "DATA_SOURCE_MAPPING = 'news-articles-classification-dataset-for-nlp-and-ml:https%3A%2F%2Fstorage.googleapis.com%2Fkaggle-data-sets%2F4626328%2F7882142%2Fbundle%2Farchive.zip%3FX-Goog-Algorithm%3DGOOG4-RSA-SHA256%26X-Goog-Credential%3Dgcp-kaggle-com%2540kaggle-161607.iam.gserviceaccount.com%252F20240820%252Fauto%252Fstorage%252Fgoog4_request%26X-Goog-Date%3D20240820T172053Z%26X-Goog-Expires%3D259200%26X-Goog-SignedHeaders%3Dhost%26X-Goog-Signature%3D2310c609f7e8bfc62727776434eadc73ef1594456934e24dc885ab218458eeab07ba190452cda5391fc4df11124367e052bb4a948fe1871bf7f75c3d3fb764c09cb1610760aa6f86d5c99772b37c46fb613dbacf2881a5dcf47b7b5b3417761227aac66d212bdf8d28c09d8da6b0024aa2ec15de25cd2d18b151b3182354abc9034ede964035d05e968c7a11896ed42f823661c97747c6ccf9ed06708c4e183f9e9cae47933283bb3d6c570f51696bcfc33c0bc619ee8fe133bcd98d0d6b4f1476d49ae834e31804ddf72e4e5a5d06a54f89974039d69c3932675548ecc62dd4afc22045d9043552855409ce2bfa726af6233c588eb2e9cd95398e44e1cf86bd'\n",
        "\n",
        "KAGGLE_INPUT_PATH='/kaggle/input'\n",
        "KAGGLE_WORKING_PATH='/kaggle/working'\n",
        "KAGGLE_SYMLINK='kaggle'\n",
        "\n",
        "!umount /kaggle/input/ 2> /dev/null\n",
        "shutil.rmtree('/kaggle/input', ignore_errors=True)\n",
        "os.makedirs(KAGGLE_INPUT_PATH, 0o777, exist_ok=True)\n",
        "os.makedirs(KAGGLE_WORKING_PATH, 0o777, exist_ok=True)\n",
        "\n",
        "try:\n",
        "  os.symlink(KAGGLE_INPUT_PATH, os.path.join(\"..\", '/kaggle/input'), target_is_directory=True)\n",
        "except FileExistsError:\n",
        "  pass\n",
        "try:\n",
        "  os.symlink(KAGGLE_WORKING_PATH, os.path.join(\"..\", '/kaggle/input'), target_is_directory=True)\n",
        "except FileExistsError:\n",
        "  pass\n",
        "\n",
        "for data_source_mapping in DATA_SOURCE_MAPPING.split(','):\n",
        "    directory, download_url_encoded = data_source_mapping.split(':')\n",
        "    download_url = unquote(download_url_encoded)\n",
        "    filename = urlparse(download_url).path\n",
        "    destination_path = os.path.join(KAGGLE_INPUT_PATH, directory)\n",
        "    try:\n",
        "        with urlopen(download_url) as fileres, NamedTemporaryFile() as tfile:\n",
        "            total_length = fileres.headers['content-length']\n",
        "            print(f'Downloading {directory}, {total_length} bytes compressed')\n",
        "            dl = 0\n",
        "            data = fileres.read(CHUNK_SIZE)\n",
        "            while len(data) > 0:\n",
        "                dl += len(data)\n",
        "                tfile.write(data)\n",
        "                done = int(50 * dl / int(total_length))\n",
        "                sys.stdout.write(f\"\\r[{'=' * done}{' ' * (50-done)}] {dl} bytes downloaded\")\n",
        "                sys.stdout.flush()\n",
        "                data = fileres.read(CHUNK_SIZE)\n",
        "            if filename.endswith('.zip'):\n",
        "              with ZipFile(tfile) as zfile:\n",
        "                zfile.extractall(destination_path)\n",
        "            else:\n",
        "              with tarfile.open(tfile.name) as tarfile:\n",
        "                tarfile.extractall(destination_path)\n",
        "            print(f'\\nDownloaded and uncompressed: {directory}')\n",
        "    except HTTPError as e:\n",
        "        print(f'Failed to load (likely expired) {download_url} to path {destination_path}')\n",
        "        continue\n",
        "    except OSError as e:\n",
        "        print(f'Failed to load {download_url} to path {destination_path}')\n",
        "        continue\n",
        "\n",
        "print('Data source import complete.')\n"
      ],
      "metadata": {
        "id": "C9g4786tzlK-",
        "outputId": "0824d35e-7a39-42b5-b507-03bf71caa53b",
        "colab": {
          "base_uri": "https://localhost:8080/"
        }
      },
      "cell_type": "code",
      "outputs": [
        {
          "output_type": "stream",
          "name": "stderr",
          "text": [
            "The system cannot find the path specified.\n"
          ]
        },
        {
          "output_type": "stream",
          "name": "stdout",
          "text": [
            "Downloading news-articles-classification-dataset-for-nlp-and-ml, 5837001 bytes compressed\n",
            "[==================================================] 5837001 bytes downloaded\n",
            "Downloaded and uncompressed: news-articles-classification-dataset-for-nlp-and-ml\n",
            "Data source import complete.\n"
          ]
        }
      ],
      "execution_count": 28
    },
    {
      "cell_type": "code",
      "source": [
        "# This Python 3 environment comes with many helpful analytics libraries installed\n",
        "# It is defined by the kaggle/python Docker image: https://github.com/kaggle/docker-python\n",
        "# For example, here's several helpful packages to load\n",
        "\n",
        "import numpy as np # linear algebra\n",
        "import pandas as pd # data processing, CSV file I/O (e.g. pd.read_csv)\n",
        "\n",
        "# Input data files are available in the read-only \"../input/\" directory\n",
        "# For example, running this (by clicking run or pressing Shift+Enter) will list all files under the input directory\n",
        "\n",
        "import os\n",
        "for dirname, _, filenames in os.walk('/kaggle/input'):\n",
        "    for filename in filenames:\n",
        "        print(os.path.join(dirname, filename))\n",
        "\n",
        "# You can write up to 20GB to the current directory (/kaggle/working/) that gets preserved as output when you create a version using \"Save & Run All\"\n",
        "# You can also write temporary files to /kaggle/temp/, but they won't be saved outside of the current session"
      ],
      "metadata": {
        "_uuid": "8f2839f25d086af736a60e9eeb907d3b93b6e0e5",
        "_cell_guid": "b1076dfc-b9ad-4769-8c92-a6c4dae69d19",
        "execution": {
          "iopub.status.busy": "2024-08-20T17:05:54.96506Z",
          "iopub.execute_input": "2024-08-20T17:05:54.965686Z",
          "iopub.status.idle": "2024-08-20T17:05:55.945081Z",
          "shell.execute_reply.started": "2024-08-20T17:05:54.965652Z",
          "shell.execute_reply": "2024-08-20T17:05:55.944191Z"
        },
        "trusted": true,
        "id": "YzrkKMr0zlLB",
        "outputId": "442b56c0-f870-4d0b-a664-42c965defe4c",
        "colab": {
          "base_uri": "https://localhost:8080/"
        }
      },
      "execution_count": 29,
      "outputs": [
        {
          "output_type": "stream",
          "name": "stdout",
          "text": [
            "/kaggle/input\\news-articles-classification-dataset-for-nlp-and-ml\\business_data.csv\n",
            "/kaggle/input\\news-articles-classification-dataset-for-nlp-and-ml\\education_data.csv\n",
            "/kaggle/input\\news-articles-classification-dataset-for-nlp-and-ml\\entertainment_data.csv\n",
            "/kaggle/input\\news-articles-classification-dataset-for-nlp-and-ml\\sports_data.csv\n",
            "/kaggle/input\\news-articles-classification-dataset-for-nlp-and-ml\\technology_data.csv\n"
          ]
        }
      ]
    },
    {
      "cell_type": "code",
      "source": [
        "import torch\n",
        "device = \"cuda\" if torch.cuda.is_available() else \"cpu\""
      ],
      "metadata": {
        "execution": {
          "iopub.status.busy": "2024-08-20T17:06:18.056439Z",
          "iopub.execute_input": "2024-08-20T17:06:18.056924Z",
          "iopub.status.idle": "2024-08-20T17:06:21.500487Z",
          "shell.execute_reply.started": "2024-08-20T17:06:18.056895Z",
          "shell.execute_reply": "2024-08-20T17:06:21.499701Z"
        },
        "trusted": true,
        "id": "FcrXuKpazlLC"
      },
      "execution_count": 30,
      "outputs": []
    },
    {
      "cell_type": "code",
      "source": [
        "business_df = pd.read_csv('/kaggle/input/news-articles-classification-dataset-for-nlp-and-ml/business_data.csv')\n",
        "education_df = pd.read_csv('/kaggle/input/news-articles-classification-dataset-for-nlp-and-ml/education_data.csv')\n",
        "entertainment_df = pd.read_csv('/kaggle/input/news-articles-classification-dataset-for-nlp-and-ml/entertainment_data.csv')\n",
        "sports_df = pd.read_csv('/kaggle/input/news-articles-classification-dataset-for-nlp-and-ml/sports_data.csv')\n",
        "technology_df = pd.read_csv('/kaggle/input/news-articles-classification-dataset-for-nlp-and-ml/technology_data.csv')\n",
        "\n",
        "combined_df = pd.concat([business_df, education_df, entertainment_df, sports_df, technology_df], ignore_index=True)\n",
        "\n",
        "combined_df"
      ],
      "metadata": {
        "execution": {
          "iopub.status.busy": "2024-08-20T17:17:38.793038Z",
          "iopub.execute_input": "2024-08-20T17:17:38.794001Z",
          "iopub.status.idle": "2024-08-20T17:17:39.104459Z",
          "shell.execute_reply.started": "2024-08-20T17:17:38.793964Z",
          "shell.execute_reply": "2024-08-20T17:17:39.10352Z"
        },
        "trusted": true,
        "id": "rw8AoE4LzlLC",
        "outputId": "e1ee42ab-b63e-44da-b99f-c8a0193f0719",
        "colab": {
          "base_uri": "https://localhost:8080/",
          "height": 475
        }
      },
      "execution_count": 31,
      "outputs": [
        {
          "output_type": "execute_result",
          "data": {
            "text/plain": [
              "                                              headlines  \\\n",
              "0     Nirmala Sitharaman to equal Morarji Desai’s re...   \n",
              "1     ‘Will densify network, want to be at least no....   \n",
              "2     Air India group to induct an aircraft every si...   \n",
              "3     Red Sea woes: Exporters seek increased credit ...   \n",
              "4     Air India group to induct a plane every 6 days...   \n",
              "...                                                 ...   \n",
              "9995  Vivaldi’s privacy and customisability-focused ...   \n",
              "9996  From Meta Quest 3 to Ray Ban Smart Glasses, he...   \n",
              "9997  Samsung Galaxy S24 rumoured to launch on Janua...   \n",
              "9998  ‘We continuously iterate… building prototypes,...   \n",
              "9999  ChatGPT users can now browse internet, OpenAI ...   \n",
              "\n",
              "                                            description  \\\n",
              "0     With the presentation of the interim budget on...   \n",
              "1     'In terms of market share, we aim to double it...   \n",
              "2     Air India currently has 117 operational aircra...   \n",
              "3     Rising attacks forced shippers to consider the...   \n",
              "4     Apart from fleet expansion, 2024 will also see...   \n",
              "...                                                 ...   \n",
              "9995  The Vivaldi browser is now available on iOS an...   \n",
              "9996  The future is here. Meta unveils its next-gen ...   \n",
              "9997  Samsung might shift the launch window of its u...   \n",
              "9998  Dyson's success in floorcare tech lies in inno...   \n",
              "9999  ChatGPT became the fastest-growing consumer ap...   \n",
              "\n",
              "                                                content  \\\n",
              "0     Sitharaman, the first full-time woman finance ...   \n",
              "1     The merger of Tata group’s budget airlines Air...   \n",
              "2     The Air India group plans to induct one aircra...   \n",
              "3     Indian exporters have asked the central govern...   \n",
              "4     The Air India group plans to induct one aircra...   \n",
              "...                                                 ...   \n",
              "9995  Vivaldi, the free browser founded by Opera co-...   \n",
              "9996  Meta has concluded its Connect 2023 event, unv...   \n",
              "9997  Samsung has been launching its Galaxy S series...   \n",
              "9998  “When things don’t go as planned, we return to...   \n",
              "9999  ChatGPT users will now be able to surf the web...   \n",
              "\n",
              "                                                    url    category  \n",
              "0     https://indianexpress.com/article/business/bud...    business  \n",
              "1     https://indianexpress.com/article/business/avi...    business  \n",
              "2     https://indianexpress.com/article/business/avi...    business  \n",
              "3     https://indianexpress.com/article/business/red...    business  \n",
              "4     https://indianexpress.com/article/business/avi...    business  \n",
              "...                                                 ...         ...  \n",
              "9995  https://indianexpress.com/article/technology/t...  technology  \n",
              "9996  https://indianexpress.com/article/technology/t...  technology  \n",
              "9997  https://indianexpress.com/article/technology/m...  technology  \n",
              "9998  https://indianexpress.com/article/technology/t...  technology  \n",
              "9999  https://indianexpress.com/article/technology/a...  technology  \n",
              "\n",
              "[10000 rows x 5 columns]"
            ],
            "text/html": [
              "<div>\n",
              "<style scoped>\n",
              "    .dataframe tbody tr th:only-of-type {\n",
              "        vertical-align: middle;\n",
              "    }\n",
              "\n",
              "    .dataframe tbody tr th {\n",
              "        vertical-align: top;\n",
              "    }\n",
              "\n",
              "    .dataframe thead th {\n",
              "        text-align: right;\n",
              "    }\n",
              "</style>\n",
              "<table border=\"1\" class=\"dataframe\">\n",
              "  <thead>\n",
              "    <tr style=\"text-align: right;\">\n",
              "      <th></th>\n",
              "      <th>headlines</th>\n",
              "      <th>description</th>\n",
              "      <th>content</th>\n",
              "      <th>url</th>\n",
              "      <th>category</th>\n",
              "    </tr>\n",
              "  </thead>\n",
              "  <tbody>\n",
              "    <tr>\n",
              "      <th>0</th>\n",
              "      <td>Nirmala Sitharaman to equal Morarji Desai’s re...</td>\n",
              "      <td>With the presentation of the interim budget on...</td>\n",
              "      <td>Sitharaman, the first full-time woman finance ...</td>\n",
              "      <td>https://indianexpress.com/article/business/bud...</td>\n",
              "      <td>business</td>\n",
              "    </tr>\n",
              "    <tr>\n",
              "      <th>1</th>\n",
              "      <td>‘Will densify network, want to be at least no....</td>\n",
              "      <td>'In terms of market share, we aim to double it...</td>\n",
              "      <td>The merger of Tata group’s budget airlines Air...</td>\n",
              "      <td>https://indianexpress.com/article/business/avi...</td>\n",
              "      <td>business</td>\n",
              "    </tr>\n",
              "    <tr>\n",
              "      <th>2</th>\n",
              "      <td>Air India group to induct an aircraft every si...</td>\n",
              "      <td>Air India currently has 117 operational aircra...</td>\n",
              "      <td>The Air India group plans to induct one aircra...</td>\n",
              "      <td>https://indianexpress.com/article/business/avi...</td>\n",
              "      <td>business</td>\n",
              "    </tr>\n",
              "    <tr>\n",
              "      <th>3</th>\n",
              "      <td>Red Sea woes: Exporters seek increased credit ...</td>\n",
              "      <td>Rising attacks forced shippers to consider the...</td>\n",
              "      <td>Indian exporters have asked the central govern...</td>\n",
              "      <td>https://indianexpress.com/article/business/red...</td>\n",
              "      <td>business</td>\n",
              "    </tr>\n",
              "    <tr>\n",
              "      <th>4</th>\n",
              "      <td>Air India group to induct a plane every 6 days...</td>\n",
              "      <td>Apart from fleet expansion, 2024 will also see...</td>\n",
              "      <td>The Air India group plans to induct one aircra...</td>\n",
              "      <td>https://indianexpress.com/article/business/avi...</td>\n",
              "      <td>business</td>\n",
              "    </tr>\n",
              "    <tr>\n",
              "      <th>...</th>\n",
              "      <td>...</td>\n",
              "      <td>...</td>\n",
              "      <td>...</td>\n",
              "      <td>...</td>\n",
              "      <td>...</td>\n",
              "    </tr>\n",
              "    <tr>\n",
              "      <th>9995</th>\n",
              "      <td>Vivaldi’s privacy and customisability-focused ...</td>\n",
              "      <td>The Vivaldi browser is now available on iOS an...</td>\n",
              "      <td>Vivaldi, the free browser founded by Opera co-...</td>\n",
              "      <td>https://indianexpress.com/article/technology/t...</td>\n",
              "      <td>technology</td>\n",
              "    </tr>\n",
              "    <tr>\n",
              "      <th>9996</th>\n",
              "      <td>From Meta Quest 3 to Ray Ban Smart Glasses, he...</td>\n",
              "      <td>The future is here. Meta unveils its next-gen ...</td>\n",
              "      <td>Meta has concluded its Connect 2023 event, unv...</td>\n",
              "      <td>https://indianexpress.com/article/technology/t...</td>\n",
              "      <td>technology</td>\n",
              "    </tr>\n",
              "    <tr>\n",
              "      <th>9997</th>\n",
              "      <td>Samsung Galaxy S24 rumoured to launch on Janua...</td>\n",
              "      <td>Samsung might shift the launch window of its u...</td>\n",
              "      <td>Samsung has been launching its Galaxy S series...</td>\n",
              "      <td>https://indianexpress.com/article/technology/m...</td>\n",
              "      <td>technology</td>\n",
              "    </tr>\n",
              "    <tr>\n",
              "      <th>9998</th>\n",
              "      <td>‘We continuously iterate… building prototypes,...</td>\n",
              "      <td>Dyson's success in floorcare tech lies in inno...</td>\n",
              "      <td>“When things don’t go as planned, we return to...</td>\n",
              "      <td>https://indianexpress.com/article/technology/t...</td>\n",
              "      <td>technology</td>\n",
              "    </tr>\n",
              "    <tr>\n",
              "      <th>9999</th>\n",
              "      <td>ChatGPT users can now browse internet, OpenAI ...</td>\n",
              "      <td>ChatGPT became the fastest-growing consumer ap...</td>\n",
              "      <td>ChatGPT users will now be able to surf the web...</td>\n",
              "      <td>https://indianexpress.com/article/technology/a...</td>\n",
              "      <td>technology</td>\n",
              "    </tr>\n",
              "  </tbody>\n",
              "</table>\n",
              "<p>10000 rows × 5 columns</p>\n",
              "</div>"
            ]
          },
          "metadata": {},
          "execution_count": 31
        }
      ]
    },
    {
      "cell_type": "code",
      "source": [
        "combined_df['text'] = combined_df['headlines'].fillna('') + \" \" + combined_df['description'].fillna('') + \" \" + combined_df['content'].fillna('')\n",
        "\n",
        "combined_df.rename(columns={'category': 'labels'}, inplace=True)\n",
        "\n",
        "df = combined_df[['labels', 'text']]\n",
        "\n",
        "df"
      ],
      "metadata": {
        "execution": {
          "iopub.status.busy": "2024-08-20T17:18:26.691047Z",
          "iopub.execute_input": "2024-08-20T17:18:26.692004Z",
          "iopub.status.idle": "2024-08-20T17:18:26.749746Z",
          "shell.execute_reply.started": "2024-08-20T17:18:26.691959Z",
          "shell.execute_reply": "2024-08-20T17:18:26.748675Z"
        },
        "trusted": true,
        "id": "-RkBMaNzzlLC",
        "outputId": "6bc17649-086a-4b35-912a-7d52d929715a",
        "colab": {
          "base_uri": "https://localhost:8080/",
          "height": 423
        }
      },
      "execution_count": 32,
      "outputs": [
        {
          "output_type": "execute_result",
          "data": {
            "text/plain": [
              "          labels                                               text\n",
              "0       business  Nirmala Sitharaman to equal Morarji Desai’s re...\n",
              "1       business  ‘Will densify network, want to be at least no....\n",
              "2       business  Air India group to induct an aircraft every si...\n",
              "3       business  Red Sea woes: Exporters seek increased credit ...\n",
              "4       business  Air India group to induct a plane every 6 days...\n",
              "...          ...                                                ...\n",
              "9995  technology  Vivaldi’s privacy and customisability-focused ...\n",
              "9996  technology  From Meta Quest 3 to Ray Ban Smart Glasses, he...\n",
              "9997  technology  Samsung Galaxy S24 rumoured to launch on Janua...\n",
              "9998  technology  ‘We continuously iterate… building prototypes,...\n",
              "9999  technology  ChatGPT users can now browse internet, OpenAI ...\n",
              "\n",
              "[10000 rows x 2 columns]"
            ],
            "text/html": [
              "<div>\n",
              "<style scoped>\n",
              "    .dataframe tbody tr th:only-of-type {\n",
              "        vertical-align: middle;\n",
              "    }\n",
              "\n",
              "    .dataframe tbody tr th {\n",
              "        vertical-align: top;\n",
              "    }\n",
              "\n",
              "    .dataframe thead th {\n",
              "        text-align: right;\n",
              "    }\n",
              "</style>\n",
              "<table border=\"1\" class=\"dataframe\">\n",
              "  <thead>\n",
              "    <tr style=\"text-align: right;\">\n",
              "      <th></th>\n",
              "      <th>labels</th>\n",
              "      <th>text</th>\n",
              "    </tr>\n",
              "  </thead>\n",
              "  <tbody>\n",
              "    <tr>\n",
              "      <th>0</th>\n",
              "      <td>business</td>\n",
              "      <td>Nirmala Sitharaman to equal Morarji Desai’s re...</td>\n",
              "    </tr>\n",
              "    <tr>\n",
              "      <th>1</th>\n",
              "      <td>business</td>\n",
              "      <td>‘Will densify network, want to be at least no....</td>\n",
              "    </tr>\n",
              "    <tr>\n",
              "      <th>2</th>\n",
              "      <td>business</td>\n",
              "      <td>Air India group to induct an aircraft every si...</td>\n",
              "    </tr>\n",
              "    <tr>\n",
              "      <th>3</th>\n",
              "      <td>business</td>\n",
              "      <td>Red Sea woes: Exporters seek increased credit ...</td>\n",
              "    </tr>\n",
              "    <tr>\n",
              "      <th>4</th>\n",
              "      <td>business</td>\n",
              "      <td>Air India group to induct a plane every 6 days...</td>\n",
              "    </tr>\n",
              "    <tr>\n",
              "      <th>...</th>\n",
              "      <td>...</td>\n",
              "      <td>...</td>\n",
              "    </tr>\n",
              "    <tr>\n",
              "      <th>9995</th>\n",
              "      <td>technology</td>\n",
              "      <td>Vivaldi’s privacy and customisability-focused ...</td>\n",
              "    </tr>\n",
              "    <tr>\n",
              "      <th>9996</th>\n",
              "      <td>technology</td>\n",
              "      <td>From Meta Quest 3 to Ray Ban Smart Glasses, he...</td>\n",
              "    </tr>\n",
              "    <tr>\n",
              "      <th>9997</th>\n",
              "      <td>technology</td>\n",
              "      <td>Samsung Galaxy S24 rumoured to launch on Janua...</td>\n",
              "    </tr>\n",
              "    <tr>\n",
              "      <th>9998</th>\n",
              "      <td>technology</td>\n",
              "      <td>‘We continuously iterate… building prototypes,...</td>\n",
              "    </tr>\n",
              "    <tr>\n",
              "      <th>9999</th>\n",
              "      <td>technology</td>\n",
              "      <td>ChatGPT users can now browse internet, OpenAI ...</td>\n",
              "    </tr>\n",
              "  </tbody>\n",
              "</table>\n",
              "<p>10000 rows × 2 columns</p>\n",
              "</div>"
            ]
          },
          "metadata": {},
          "execution_count": 32
        }
      ]
    },
    {
      "cell_type": "code",
      "source": [
        "from torch.utils.data import Dataset\n",
        "from sklearn.preprocessing import LabelEncoder\n",
        "import torchtext\n",
        "from torchtext.vocab import GloVe\n",
        "\n",
        "\n",
        "class MyDataset(Dataset):\n",
        "    def __init__(self, X, y, max_len=100):\n",
        "        self.X = X\n",
        "        self.y = y\n",
        "        self.max_len = max_len\n",
        "\n",
        "        self.label_encoder = LabelEncoder().fit(y)\n",
        "        self.vocab = torchtext.vocab.GloVe(name='840B', dim=300)\n",
        "\n",
        "    def __len__(self):\n",
        "        return len(self.X)\n",
        "\n",
        "    def __getitem__(self, idx):\n",
        "        label = self.label_encoder.transform([self.y.iloc[idx]])\n",
        "        label = torch.tensor(label)\n",
        "\n",
        "        text = self.X.iloc[idx]\n",
        "        tokens = text.split()\n",
        "\n",
        "        if len(tokens) > self.max_len:\n",
        "            tokens = tokens[:self.max_len]\n",
        "        else:\n",
        "            diff = self.max_len - len(tokens)\n",
        "\n",
        "            tokens += ['<pad>'] * diff\n",
        "\n",
        "        X = self.vocab.get_vecs_by_tokens(tokens, lower_case_backup=True)\n",
        "\n",
        "        return X, label[0]\n",
        "\n",
        "\n",
        "dataset = MyDataset(df['text'], df['labels'])"
      ],
      "metadata": {
        "execution": {
          "iopub.status.busy": "2024-08-20T17:20:28.092604Z",
          "iopub.execute_input": "2024-08-20T17:20:28.093596Z"
        },
        "trusted": true,
        "id": "UL-uqnUkzlLD"
      },
      "execution_count": 33,
      "outputs": []
    },
    {
      "cell_type": "code",
      "source": [
        "dataset[0][0].shape"
      ],
      "metadata": {
        "id": "k1IAwIS6z2fR",
        "outputId": "60ffbb7d-713e-46da-d136-49d1389c8ae5",
        "colab": {
          "base_uri": "https://localhost:8080/"
        }
      },
      "execution_count": 34,
      "outputs": [
        {
          "output_type": "execute_result",
          "data": {
            "text/plain": [
              "torch.Size([100, 300])"
            ]
          },
          "metadata": {},
          "execution_count": 34
        }
      ]
    },
    {
      "cell_type": "code",
      "source": [
        "from torch.utils.data import random_split\n",
        "\n",
        "train_ratio = 0.8\n",
        "\n",
        "train_data, test_data = random_split(dataset, [train_ratio, 1-train_ratio])"
      ],
      "metadata": {
        "id": "OKM-wAN12DXm"
      },
      "execution_count": 35,
      "outputs": []
    },
    {
      "cell_type": "code",
      "source": [
        "from torch.utils.data import DataLoader\n",
        "\n",
        "batch_size = 64\n",
        "\n",
        "train_loader = torch.utils.data.DataLoader(train_data, shuffle=True, batch_size=batch_size)\n",
        "test_loader = torch.utils.data.DataLoader(test_data, shuffle=True, batch_size=batch_size)"
      ],
      "metadata": {
        "id": "Binr3DRK3I4D"
      },
      "execution_count": 36,
      "outputs": []
    },
    {
      "cell_type": "code",
      "source": [
        "from torch import nn\n",
        "import torch.nn.functional as F\n",
        "import numpy as np\n",
        "import math\n",
        "from torch import Tensor\n",
        "\n",
        "\n",
        "class PositionalEncoding(nn.Module):\n",
        "\n",
        "    def __init__(self, d_model: int, dropout: float = 0.0, max_len: int = 5000):\n",
        "        super().__init__()\n",
        "        self.dropout = nn.Dropout(p=dropout)\n",
        "\n",
        "        position = torch.arange(max_len).unsqueeze(1)\n",
        "        div_term = torch.exp(torch.arange(0, d_model, 2) * (-math.log(10000.0) / d_model))\n",
        "        pe = torch.zeros(1, max_len, d_model)\n",
        "        pe[0, :, 0::2] = torch.sin(position * div_term)\n",
        "        pe[0, :, 1::2] = torch.cos(position * div_term)\n",
        "        self.register_buffer('pe', pe)\n",
        "\n",
        "    def forward(self, x: Tensor) -> Tensor:\n",
        "        \"\"\"\n",
        "        Arguments:\n",
        "            x: Tensor, shape ``[batch_size, seq_len, embedding_dim]``\n",
        "        \"\"\"\n",
        "        x = x + self.pe[:, :x.size(1)]\n",
        "        return self.dropout(x)"
      ],
      "metadata": {
        "id": "of6iOzKF3Ocw"
      },
      "execution_count": 37,
      "outputs": []
    },
    {
      "cell_type": "code",
      "source": [
        "class TextClassifier(nn.Module):\n",
        "    def __init__(self, encoding_dim, max_len, num_classes):\n",
        "        super().__init__()\n",
        "\n",
        "        self.pos_encoder = PositionalEncoding(d_model=encoding_dim, max_len=max_len)\n",
        "\n",
        "        self.encoder = nn.TransformerEncoder(\n",
        "            nn.TransformerEncoderLayer(d_model=encoding_dim, nhead=2, batch_first=True, dim_feedforward=64),\n",
        "            num_layers=1\n",
        "        )\n",
        "\n",
        "        self.flatten = nn.Flatten()\n",
        "\n",
        "        self.linear1 = nn.Linear(encoding_dim * max_len, num_classes)\n",
        "\n",
        "    def forward(self, x):\n",
        "        out = self.pos_encoder(x)\n",
        "        out = self.encoder(out)\n",
        "        out = self.flatten(out)\n",
        "        out = self.linear1(out)\n",
        "        return out\n",
        "\n",
        "    def predict(self, X, device='cpu'):\n",
        "        X = torch.FloatTensor(np.array(X)).to(device)\n",
        "\n",
        "        with torch.no_grad():\n",
        "            y_pred = F.softmax(self.forward(X), dim=-1)\n",
        "\n",
        "        return y_pred.cpu().numpy()\n",
        "\n",
        "device = torch.device('cuda' if torch.cuda.is_available() else 'cpu')\n",
        "model = TextClassifier(encoding_dim=300, max_len=100, num_classes=5).to(device)\n",
        "model"
      ],
      "metadata": {
        "id": "IE737QkC3ltX",
        "outputId": "5b20767b-b84e-409b-ac0b-93f5a80d89f4",
        "colab": {
          "base_uri": "https://localhost:8080/"
        }
      },
      "execution_count": 38,
      "outputs": [
        {
          "output_type": "execute_result",
          "data": {
            "text/plain": [
              "TextClassifier(\n",
              "  (pos_encoder): PositionalEncoding(\n",
              "    (dropout): Dropout(p=0.0, inplace=False)\n",
              "  )\n",
              "  (encoder): TransformerEncoder(\n",
              "    (layers): ModuleList(\n",
              "      (0): TransformerEncoderLayer(\n",
              "        (self_attn): MultiheadAttention(\n",
              "          (out_proj): NonDynamicallyQuantizableLinear(in_features=300, out_features=300, bias=True)\n",
              "        )\n",
              "        (linear1): Linear(in_features=300, out_features=64, bias=True)\n",
              "        (dropout): Dropout(p=0.1, inplace=False)\n",
              "        (linear2): Linear(in_features=64, out_features=300, bias=True)\n",
              "        (norm1): LayerNorm((300,), eps=1e-05, elementwise_affine=True)\n",
              "        (norm2): LayerNorm((300,), eps=1e-05, elementwise_affine=True)\n",
              "        (dropout1): Dropout(p=0.1, inplace=False)\n",
              "        (dropout2): Dropout(p=0.1, inplace=False)\n",
              "      )\n",
              "    )\n",
              "  )\n",
              "  (flatten): Flatten(start_dim=1, end_dim=-1)\n",
              "  (linear1): Linear(in_features=30000, out_features=5, bias=True)\n",
              ")"
            ]
          },
          "metadata": {},
          "execution_count": 38
        }
      ]
    },
    {
      "cell_type": "code",
      "source": [
        "params_num = 0\n",
        "\n",
        "for param in model.parameters():\n",
        "    size = param.size()\n",
        "\n",
        "    num = 1\n",
        "    for item in size:\n",
        "        num *= item\n",
        "    params_num += num\n",
        "\n",
        "params_num"
      ],
      "metadata": {
        "id": "8y3EKaQl4Lxn",
        "outputId": "3bd76fbb-3930-473d-c9b7-de269f3de755",
        "colab": {
          "base_uri": "https://localhost:8080/"
        }
      },
      "execution_count": 39,
      "outputs": [
        {
          "output_type": "execute_result",
          "data": {
            "text/plain": [
              "551169"
            ]
          },
          "metadata": {},
          "execution_count": 39
        }
      ]
    },
    {
      "cell_type": "code",
      "source": [
        "loss_fn = nn.CrossEntropyLoss()\n",
        "optimizer = torch.optim.AdamW(model.parameters(), lr=0.0001)"
      ],
      "metadata": {
        "id": "e7RtHXyS4VyU"
      },
      "execution_count": 40,
      "outputs": []
    },
    {
      "cell_type": "code",
      "source": [
        "import time\n",
        "\n",
        "def train(model, optimizer, loss_fn, train_dl, val_dl,\n",
        "          metrics=None, metrics_name=None, epochs=20, device='cpu', task='regression'):\n",
        "    '''\n",
        "    Runs training loop for classification problems. Returns Keras-style\n",
        "    per-epoch history of loss and accuracy over training and validation data.\n",
        "\n",
        "    Parameters\n",
        "    ----------\n",
        "    model : nn.Module\n",
        "        Neural network model\n",
        "    optimizer : torch.optim.Optimizer\n",
        "        Search space optimizer (e.g. Adam)\n",
        "    loss_fn :\n",
        "        Loss function (e.g. nn.CrossEntropyLoss())\n",
        "    train_dl :\n",
        "        Iterable dataloader for training data.\n",
        "    val_dl :\n",
        "        Iterable dataloader for validation data.\n",
        "    metrics: list\n",
        "        List of sklearn metrics functions to be calculated\n",
        "    metrics_name: list\n",
        "        List of matrics names\n",
        "    epochs : int\n",
        "        Number of epochs to run\n",
        "    device : string\n",
        "        Specifies 'cuda' or 'cpu'\n",
        "    task : string\n",
        "        type of problem. It can be regression, binary or multiclass\n",
        "\n",
        "    Returns\n",
        "    -------\n",
        "    Dictionary\n",
        "        Similar to Keras' fit(), the output dictionary contains per-epoch\n",
        "        history of training loss, training accuracy, validation loss, and\n",
        "        validation accuracy.\n",
        "    '''\n",
        "\n",
        "    print('train() called: model=%s, opt=%s(lr=%f), epochs=%d, device=%s\\n' % \\\n",
        "          (type(model).__name__, type(optimizer).__name__,\n",
        "           optimizer.param_groups[0]['lr'], epochs, device))\n",
        "\n",
        "    metrics = metrics if metrics else []\n",
        "    metrics_name = metrics_name if metrics_name else [metric.__name__ for metric in metrics]\n",
        "\n",
        "    history = {} # Collects per-epoch loss and metrics like Keras' fit().\n",
        "    history['loss'] = []\n",
        "    history['val_loss'] = []\n",
        "    for name in metrics_name:\n",
        "        history[name] = []\n",
        "        history[f'val_{name}'] = []\n",
        "\n",
        "    start_time_train = time.time()\n",
        "\n",
        "    for epoch in range(epochs):\n",
        "\n",
        "        # --- TRAIN AND EVALUATE ON TRAINING SET -----------------------------\n",
        "        start_time_epoch = time.time()\n",
        "\n",
        "        model.train()\n",
        "        history_train = {name: 0 for name in ['loss']+metrics_name}\n",
        "\n",
        "        for batch in train_dl:\n",
        "            x    = batch[0].to(device).float()\n",
        "            y    = batch[1].to(device).long()\n",
        "            y_pred = model(x)\n",
        "            loss = loss_fn(y_pred, y)\n",
        "\n",
        "            optimizer.zero_grad()\n",
        "            loss.backward()\n",
        "            optimizer.step()\n",
        "\n",
        "            y_pred = y_pred.detach().cpu().numpy()\n",
        "            y = y.detach().cpu().numpy()\n",
        "\n",
        "\n",
        "            history_train['loss'] += loss.item() * x.size(0)\n",
        "            for name, func in zip(metrics_name, metrics):\n",
        "              try:\n",
        "                  history_train[name] += func(y, y_pred) * x.size(0)\n",
        "              except:\n",
        "                  if task == 'binary': y_pred_ = y_pred.round()\n",
        "                  elif task == 'multiclass': y_pred_ = y_pred.argmax(axis=-1)\n",
        "                  history_train[name] += func(y, y_pred_) * x.size(0)\n",
        "\n",
        "        for name in history_train:\n",
        "            history_train[name] /= len(train_dl.dataset)\n",
        "\n",
        "\n",
        "        # --- EVALUATE ON VALIDATION SET -------------------------------------\n",
        "        model.eval()\n",
        "        history_val = {'val_' + name: 0 for name in metrics_name+['loss']}\n",
        "\n",
        "        with torch.no_grad():\n",
        "            for batch in val_dl:\n",
        "                x    = batch[0].to(device).float()\n",
        "                y    = batch[1].to(device).long()\n",
        "                y_pred = model(x)\n",
        "                loss = loss_fn(y_pred, y)\n",
        "\n",
        "                y_pred = y_pred.cpu().numpy()\n",
        "                y = y.cpu().numpy()\n",
        "\n",
        "                history_val['val_loss'] += loss.item() * x.size(0)\n",
        "                for name, func in zip(metrics_name, metrics):\n",
        "                    try:\n",
        "                        history_val['val_'+name] += func(y, y_pred) * x.size(0)\n",
        "                    except:\n",
        "                        if task == 'binary': y_pred_ = y_pred.round()\n",
        "                        elif task == 'multiclass': y_pred_ = y_pred.argmax(axis=-1)\n",
        "\n",
        "                        history_val['val_'+name] += func(y, y_pred_) * x.size(0)\n",
        "\n",
        "        for name in history_val:\n",
        "            history_val[name] /= len(val_dl.dataset)\n",
        "\n",
        "        # PRINTING RESULTS\n",
        "\n",
        "        end_time_epoch = time.time()\n",
        "\n",
        "        for name in history_train:\n",
        "            history[name].append(history_train[name])\n",
        "            history['val_'+name].append(history_val['val_'+name])\n",
        "\n",
        "        total_time_epoch = end_time_epoch - start_time_epoch\n",
        "\n",
        "        print(f'Epoch {epoch+1:4d} {total_time_epoch:4.0f}sec', end='\\t')\n",
        "        for name in history_train:\n",
        "            print(f'{name}: {history[name][-1]:10.3g}', end='\\t')\n",
        "            print(f\"val_{name}: {history['val_'+name][-1]:10.3g}\", end='\\t')\n",
        "        print()\n",
        "\n",
        "    # END OF TRAINING LOOP\n",
        "\n",
        "    end_time_train       = time.time()\n",
        "    total_time_train     = end_time_train - start_time_train\n",
        "    print()\n",
        "    print('Time total:     %5.2f sec' % (total_time_train))\n",
        "\n",
        "    return history"
      ],
      "metadata": {
        "id": "Ffze8fRW472N"
      },
      "execution_count": 41,
      "outputs": []
    },
    {
      "cell_type": "code",
      "source": [
        "from sklearn.metrics import accuracy_score, roc_auc_score\n",
        "\n",
        "history = train(model, optimizer, loss_fn, train_loader, test_loader,\n",
        "                epochs=20,\n",
        "                metrics=[accuracy_score],\n",
        "                device=device,\n",
        "                task='multiclass')"
      ],
      "metadata": {
        "id": "jIhVRGL15J6y",
        "outputId": "872adf63-98c6-4526-9a7d-88bf84b11381",
        "colab": {
          "base_uri": "https://localhost:8080/"
        }
      },
      "execution_count": 42,
      "outputs": [
        {
          "output_type": "stream",
          "name": "stdout",
          "text": [
            "train() called: model=TextClassifier, opt=AdamW(lr=0.000100), epochs=20, device=cuda\n",
            "\n",
            "Epoch    1    6sec\tloss:      0.702\tval_loss:      0.232\taccuracy_score:      0.765\tval_accuracy_score:      0.921\t\n",
            "Epoch    2    7sec\tloss:      0.155\tval_loss:      0.115\taccuracy_score:      0.949\tval_accuracy_score:      0.961\t\n",
            "Epoch    3    6sec\tloss:     0.0906\tval_loss:      0.119\taccuracy_score:      0.972\tval_accuracy_score:       0.96\t\n",
            "Epoch    4    7sec\tloss:     0.0684\tval_loss:      0.154\taccuracy_score:      0.979\tval_accuracy_score:      0.939\t\n",
            "Epoch    5    6sec\tloss:     0.0745\tval_loss:     0.0991\taccuracy_score:      0.976\tval_accuracy_score:       0.97\t\n",
            "Epoch    6    6sec\tloss:     0.0382\tval_loss:      0.103\taccuracy_score:      0.989\tval_accuracy_score:      0.965\t\n",
            "Epoch    7    7sec\tloss:     0.0261\tval_loss:      0.102\taccuracy_score:      0.994\tval_accuracy_score:      0.964\t\n",
            "Epoch    8    6sec\tloss:      0.025\tval_loss:      0.104\taccuracy_score:      0.994\tval_accuracy_score:      0.966\t\n",
            "Epoch    9    7sec\tloss:     0.0169\tval_loss:     0.0928\taccuracy_score:      0.998\tval_accuracy_score:      0.971\t\n",
            "Epoch   10    7sec\tloss:      0.011\tval_loss:      0.105\taccuracy_score:      0.999\tval_accuracy_score:      0.965\t\n",
            "Epoch   11    7sec\tloss:    0.00866\tval_loss:      0.108\taccuracy_score:          1\tval_accuracy_score:      0.964\t\n",
            "Epoch   12    7sec\tloss:    0.00685\tval_loss:     0.0964\taccuracy_score:          1\tval_accuracy_score:      0.968\t\n",
            "Epoch   13    7sec\tloss:    0.00548\tval_loss:      0.153\taccuracy_score:          1\tval_accuracy_score:      0.956\t\n",
            "Epoch   14    7sec\tloss:    0.00791\tval_loss:      0.103\taccuracy_score:      0.999\tval_accuracy_score:       0.97\t\n",
            "Epoch   15    6sec\tloss:    0.00366\tval_loss:      0.101\taccuracy_score:          1\tval_accuracy_score:       0.97\t\n",
            "Epoch   16    7sec\tloss:    0.00347\tval_loss:      0.125\taccuracy_score:          1\tval_accuracy_score:      0.966\t\n",
            "Epoch   17    7sec\tloss:      0.004\tval_loss:      0.113\taccuracy_score:          1\tval_accuracy_score:      0.966\t\n",
            "Epoch   18    6sec\tloss:    0.00249\tval_loss:      0.108\taccuracy_score:          1\tval_accuracy_score:      0.971\t\n",
            "Epoch   19    6sec\tloss:    0.00207\tval_loss:      0.112\taccuracy_score:          1\tval_accuracy_score:      0.969\t\n",
            "Epoch   20    6sec\tloss:    0.00182\tval_loss:      0.111\taccuracy_score:          1\tval_accuracy_score:      0.971\t\n",
            "\n",
            "Time total:     129.18 sec\n"
          ]
        }
      ]
    },
    {
      "cell_type": "code",
      "source": [
        "import matplotlib.pyplot as plt\n",
        "\n",
        "def plot_metric(history, name):\n",
        "    plt.title(f\"Model results with {name}\")\n",
        "    plt.plot(history[name], label='train')\n",
        "    plt.plot(history['val_'+name], label='val')\n",
        "    plt.xlabel('Epoch')\n",
        "    plt.ylabel(name)\n",
        "    plt.legend()\n",
        "\n",
        "\n",
        "plot_metric(history, 'loss')"
      ],
      "metadata": {
        "id": "y-zppIp-6dYz",
        "outputId": "b5f8c739-7a35-4bad-bf50-b377a575cc84",
        "colab": {
          "base_uri": "https://localhost:8080/",
          "height": 472
        }
      },
      "execution_count": 43,
      "outputs": [
        {
          "output_type": "display_data",
          "data": {
            "text/plain": [
              "<Figure size 640x480 with 1 Axes>"
            ],
            "image/png": "[encoded data removed]"
          },
          "metadata": {}
        }
      ]
    },
    {
      "cell_type": "code",
      "source": [
        "plot_metric(history, 'accuracy_score')"
      ],
      "metadata": {
        "id": "ewppa26r6hRr",
        "outputId": "6fcae5c9-3ca5-48aa-f3f1-3c49d03ef8d9",
        "colab": {
          "base_uri": "https://localhost:8080/",
          "height": 472
        }
      },
      "execution_count": 44,
      "outputs": [
        {
          "output_type": "display_data",
          "data": {
            "text/plain": [
              "<Figure size 640x480 with 1 Axes>"
            ],
            "image/png": "[encoded data removed]"
          },
          "metadata": {}
        }
      ]
    },
    {
      "cell_type": "code",
      "source": [
        "from sklearn.metrics import ConfusionMatrixDisplay\n",
        "\n",
        "model = model.to('cpu')\n",
        "\n",
        "loader = torch.utils.data.DataLoader(test_data, batch_size=len(test_data))\n",
        "X_test, y_test = next(iter(loader))\n",
        "\n",
        "y_pred = model.predict(X_test)\n",
        "\n",
        "ConfusionMatrixDisplay.from_predictions(y_test, y_pred.argmax(-1), display_labels=dataset.label_encoder.classes_)\n",
        "plt.xticks(rotation=90)\n",
        "plt.plot()"
      ],
      "metadata": {
        "id": "zZNDl3bt6k_L",
        "outputId": "5e899729-4432-4d14-8711-6014992a4d5c",
        "colab": {
          "base_uri": "https://localhost:8080/",
          "height": 553
        }
      },
      "execution_count": 45,
      "outputs": [
        {
          "output_type": "execute_result",
          "data": {
            "text/plain": [
              "[]"
            ]
          },
          "metadata": {},
          "execution_count": 45
        },
        {
          "output_type": "display_data",
          "data": {
            "text/plain": [
              "<Figure size 640x480 with 2 Axes>"
            ],
            "image/png": "[encoded data removed]"
          },
          "metadata": {}
        }
      ]
    },
    {
      "cell_type": "code",
      "source": [
        "from sklearn.metrics import classification_report\n",
        "\n",
        "print(classification_report(y_test, y_pred.argmax(-1), target_names=dataset.label_encoder.classes_))"
      ],
      "metadata": {
        "id": "jJSVi4yf6wKW",
        "outputId": "fd7fefa9-5b2f-4d90-d3eb-06f62323ebd9",
        "colab": {
          "base_uri": "https://localhost:8080/"
        }
      },
      "execution_count": 46,
      "outputs": [
        {
          "output_type": "stream",
          "name": "stdout",
          "text": [
            "               precision    recall  f1-score   support\n",
            "\n",
            "     business       0.96      0.96      0.96       373\n",
            "    education       0.97      0.99      0.98       389\n",
            "entertainment       0.98      0.99      0.98       408\n",
            "       sports       0.98      0.98      0.98       414\n",
            "   technology       0.97      0.94      0.95       415\n",
            "\n",
            "     accuracy                           0.97      1999\n",
            "    macro avg       0.97      0.97      0.97      1999\n",
            " weighted avg       0.97      0.97      0.97      1999\n",
            "\n"
          ]
        }
      ]
    }
  ]
}