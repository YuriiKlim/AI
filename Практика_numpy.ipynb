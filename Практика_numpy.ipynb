{
  "nbformat": 4,
  "nbformat_minor": 0,
  "metadata": {
    "colab": {
      "provenance": [],
      "include_colab_link": true
    },
    "kernelspec": {
      "name": "python3",
      "display_name": "Python 3"
    },
    "language_info": {
      "name": "python"
    }
  },
  "cells": [
    {
      "cell_type": "markdown",
      "metadata": {
        "id": "view-in-github",
        "colab_type": "text"
      },
      "source": [
        "<a href=\"https://colab.research.google.com/github/YuriiKlim/AI/blob/lesson2/%D0%9F%D1%80%D0%B0%D0%BA%D1%82%D0%B8%D0%BA%D0%B0_numpy.ipynb\" target=\"_parent\"><img src=\"https://colab.research.google.com/assets/colab-badge.svg\" alt=\"Open In Colab\"/></a>"
      ]
    },
    {
      "cell_type": "markdown",
      "source": [
        "Імпортуйте модуль numpy"
      ],
      "metadata": {
        "id": "rIioSM27QJ8x"
      }
    },
    {
      "cell_type": "code",
      "execution_count": 3,
      "metadata": {
        "id": "rDtfBq8ANBhL"
      },
      "outputs": [],
      "source": [
        "import numpy as np"
      ]
    },
    {
      "cell_type": "markdown",
      "source": [
        "# Завдання 1\n",
        "Створіть масив з елементами від 1 до 12. Виведіть розмір та тип масиву"
      ],
      "metadata": {
        "id": "npT_FnlcNwke"
      }
    },
    {
      "cell_type": "code",
      "source": [
        "array = np.arange(1, 13)\n",
        "print(array.shape)\n",
        "print(type(array))\n",
        "print(array.dtype)"
      ],
      "metadata": {
        "id": "02EdQMKlOZHr",
        "outputId": "6e24060d-e1f8-4750-b66d-ea08f98aa0c7",
        "colab": {
          "base_uri": "https://localhost:8080/"
        }
      },
      "execution_count": 44,
      "outputs": [
        {
          "output_type": "stream",
          "name": "stdout",
          "text": [
            "(12,)\n",
            "<class 'numpy.ndarray'>\n",
            "int32\n"
          ]
        }
      ]
    },
    {
      "cell_type": "markdown",
      "source": [
        "# Завдання 2\n",
        "Зробіть на основі попереднього масиву матрицю з 4 стовчиками. Змініть тип даних матриці на float32. Виведіть транспоновану матрицю."
      ],
      "metadata": {
        "id": "HH8hOwVhNxWE"
      }
    },
    {
      "cell_type": "code",
      "source": [
        "matrix = array.reshape(-1, 4)\n",
        "matrix = matrix.astype(np.float32)\n",
        "transposed_matrix = matrix.T\n",
        "print(transposed_matrix)"
      ],
      "metadata": {
        "id": "4jYqwTycOYbN",
        "outputId": "ae8929d2-dc64-47d9-e36d-3ed693a157b8",
        "colab": {
          "base_uri": "https://localhost:8080/"
        }
      },
      "execution_count": null,
      "outputs": [
        {
          "output_type": "stream",
          "name": "stdout",
          "text": [
            "[[ 1.  5.  9.]\n",
            " [ 2.  6. 10.]\n",
            " [ 3.  7. 11.]\n",
            " [ 4.  8. 12.]]\n"
          ]
        }
      ]
    },
    {
      "cell_type": "markdown",
      "source": [
        "#Завдання 3\n",
        "Створіть матрицю 8х8 з 0 та 1 розміщеними в шаховому порядку"
      ],
      "metadata": {
        "id": "T35Vjkz1Nxez"
      }
    },
    {
      "cell_type": "code",
      "source": [
        "chessboard_matrix = np.zeros((8, 8), dtype=int)\n",
        "chessboard_matrix[1::2, ::2] = 1\n",
        "chessboard_matrix[::2, 1::2] = 1\n",
        "print(chessboard_matrix)"
      ],
      "metadata": {
        "id": "mrbnfiPQPu_n",
        "outputId": "b566b6bd-c7c3-45d6-a44a-f76908dc1efb",
        "colab": {
          "base_uri": "https://localhost:8080/"
        }
      },
      "execution_count": 5,
      "outputs": [
        {
          "output_type": "stream",
          "name": "stdout",
          "text": [
            "[[0 1 0 1 0 1 0 1]\n",
            " [1 0 1 0 1 0 1 0]\n",
            " [0 1 0 1 0 1 0 1]\n",
            " [1 0 1 0 1 0 1 0]\n",
            " [0 1 0 1 0 1 0 1]\n",
            " [1 0 1 0 1 0 1 0]\n",
            " [0 1 0 1 0 1 0 1]\n",
            " [1 0 1 0 1 0 1 0]]\n"
          ]
        }
      ]
    },
    {
      "cell_type": "markdown",
      "source": [
        "# Завдання 4\n",
        "Створіть випадкову матрицю 4х3. Знайдіть суму елементів в стовпчиках\\рядках\\усій матриці"
      ],
      "metadata": {
        "id": "g87KAY1nNxoy"
      }
    },
    {
      "cell_type": "code",
      "source": [
        "random_matrix = np.random.rand(4, 3)"
      ],
      "metadata": {
        "id": "zFa5JCHjv2tj"
      },
      "execution_count": 36,
      "outputs": []
    },
    {
      "cell_type": "code",
      "source": [
        "sum_columns = random_matrix.sum(axis=0)\n",
        "sum_rows = random_matrix.sum(axis=1)\n",
        "sum_total = random_matrix.sum()\n",
        "print(sum_columns, sum_rows, sum_total)"
      ],
      "metadata": {
        "id": "RGA3022VQIZV",
        "colab": {
          "base_uri": "https://localhost:8080/"
        },
        "outputId": "1ce9fef1-503d-44f6-a489-33b4d3201be8"
      },
      "execution_count": 41,
      "outputs": [
        {
          "output_type": "stream",
          "name": "stdout",
          "text": [
            "[2.04733214 0.59221182 2.61155693] [1.35983992 0.72222049 2.02859656 1.14044393] 5.251100896654002\n"
          ]
        }
      ]
    },
    {
      "cell_type": "markdown",
      "source": [
        "# Завдання 5\n",
        "У попередній матриці від кожного рядка відніміть максимальний елемент цього рядка"
      ],
      "metadata": {
        "id": "AGH0TVVBNxx9"
      }
    },
    {
      "cell_type": "code",
      "source": [
        "adjusted_matrix = random_matrix - random_matrix.max(axis=1).reshape(-1, 1)\n",
        "print(adjusted_matrix)"
      ],
      "metadata": {
        "id": "TVYjbsBDQHTU",
        "colab": {
          "base_uri": "https://localhost:8080/"
        },
        "outputId": "bf0ed462-c04a-40d3-9e73-caf52f9e8e17"
      },
      "execution_count": 42,
      "outputs": [
        {
          "output_type": "stream",
          "name": "stdout",
          "text": [
            "[[-0.62895365 -0.93834445  0.        ]\n",
            " [ 0.         -0.38646336 -0.23383443]\n",
            " [ 0.         -0.44358371 -0.08227382]\n",
            " [-0.25137939 -0.56706184  0.        ]]\n"
          ]
        }
      ]
    },
    {
      "cell_type": "markdown",
      "source": [
        "# Завдання 6\n",
        "Є дані про вагу контейнерів для перевезення на кораблі: дрібний - 5 т,  малий - 10 т, середній - 25 т, великий - 40 т. На кораблі розміщено 20 дрібних, 5 малих, 10 середніх та 4 великих контейнерів. Знайти масу вантажу."
      ],
      "metadata": {
        "id": "cH8WhnsjQsXi"
      }
    },
    {
      "cell_type": "code",
      "source": [
        "weights_vector = np.array([5, 10, 25, 40])\n",
        "counts_vector = np.array([20, 5, 10, 4])\n",
        "total_weight_matrix_multiplication = np.dot(weights_vector, counts_vector)\n",
        "print(total_weight_matrix_multiplication)"
      ],
      "metadata": {
        "id": "BYrqqe9WR6g7",
        "colab": {
          "base_uri": "https://localhost:8080/"
        },
        "outputId": "94fca32b-3d09-4618-ef5a-b418f9704b30"
      },
      "execution_count": 46,
      "outputs": [
        {
          "output_type": "stream",
          "name": "stdout",
          "text": [
            "560\n"
          ]
        }
      ]
    },
    {
      "cell_type": "markdown",
      "source": [
        "# Завдання 7\n",
        "Тепер у нас декілька кораблів. Напишіть код для обчислення вантажу на кожному кораблі."
      ],
      "metadata": {
        "id": "IhdiDOh3Qrmb"
      }
    },
    {
      "cell_type": "code",
      "source": [
        "counts_matrix = np.array([\n",
        "    [20, 5, 10, 4],\n",
        "    [10, 8, 5, 6],\n",
        "    [15, 2, 8, 3]\n",
        "])\n",
        "\n",
        "weights_vector = np.array([5, 10, 25, 40])\n",
        "\n",
        "total_weights = np.dot(counts_matrix, weights_vector)\n",
        "print(total_weights)"
      ],
      "metadata": {
        "id": "gVUXPdFhSI95",
        "colab": {
          "base_uri": "https://localhost:8080/"
        },
        "outputId": "3c9a99a2-24a0-42f8-ec23-bb97e4b8a625"
      },
      "execution_count": 47,
      "outputs": [
        {
          "output_type": "stream",
          "name": "stdout",
          "text": [
            "[560 495 415]\n"
          ]
        }
      ]
    }
  ]
}