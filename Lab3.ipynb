{
  "nbformat": 4,
  "nbformat_minor": 0,
  "metadata": {
    "colab": {
      "provenance": [],
      "gpuType": "T4",
      "include_colab_link": true
    },
    "kernelspec": {
      "name": "python3",
      "display_name": "Python 3"
    },
    "language_info": {
      "name": "python"
    },
    "accelerator": "GPU"
  },
  "cells": [
    {
      "cell_type": "markdown",
      "metadata": {
        "id": "view-in-github",
        "colab_type": "text"
      },
      "source": [
        "<a href=\"https://colab.research.google.com/github/YuriiKlim/AI/blob/Neural_lesson3/Lab3.ipynb\" target=\"_parent\"><img src=\"https://colab.research.google.com/assets/colab-badge.svg\" alt=\"Open In Colab\"/></a>"
      ]
    },
    {
      "cell_type": "markdown",
      "source": [
        "Імпорт модулів"
      ],
      "metadata": {
        "id": "w1r0k1UheNCz"
      }
    },
    {
      "cell_type": "code",
      "execution_count": 77,
      "metadata": {
        "id": "4XxgJqCDoExm"
      },
      "outputs": [],
      "source": [
        "import torch\n",
        "import pandas as pd\n",
        "\n",
        "torch.manual_seed(0)\n",
        "\n",
        "device = \"cuda\" if torch.cuda.is_available() else \"cpu\"\n",
        "torch.set_default_device(device)"
      ]
    },
    {
      "cell_type": "markdown",
      "source": [
        "Дані про діабет"
      ],
      "metadata": {
        "id": "Kpk2KycTeQEE"
      }
    },
    {
      "cell_type": "code",
      "source": [
        "# трохи обробки даних\n",
        "df = pd.read_csv('https://raw.githubusercontent.com/HalyshAnton/IT-Step-Pyton-AI/main/module3/data/Healthcare-Diabetes.csv',\n",
        "                 index_col='Id')\n",
        "\n",
        "columns = df.columns.delete(-1)\n",
        "data = df[columns]\n",
        "df[columns] = (data - data.min()) / (data.max() - data.min())"
      ],
      "metadata": {
        "id": "926S2f5pdnH6"
      },
      "execution_count": 78,
      "outputs": []
    },
    {
      "cell_type": "code",
      "source": [
        "df"
      ],
      "metadata": {
        "id": "eG6_dawddqwd",
        "colab": {
          "base_uri": "https://localhost:8080/",
          "height": 455
        },
        "outputId": "25848971-7ad2-4998-ff48-65dc316b60ac"
      },
      "execution_count": 79,
      "outputs": [
        {
          "output_type": "execute_result",
          "data": {
            "text/plain": [
              "      Pregnancies   Glucose  BloodPressure  SkinThickness   Insulin       BMI  \\\n",
              "Id                                                                              \n",
              "1        0.352941  0.743719       0.590164       0.318182  0.000000  0.416873   \n",
              "2        0.058824  0.427136       0.540984       0.263636  0.000000  0.330025   \n",
              "3        0.470588  0.919598       0.524590       0.000000  0.000000  0.289082   \n",
              "4        0.058824  0.447236       0.540984       0.209091  0.111111  0.348635   \n",
              "5        0.000000  0.688442       0.327869       0.318182  0.198582  0.534739   \n",
              "...           ...       ...            ...            ...       ...       ...   \n",
              "2764     0.117647  0.376884       0.524590       0.218182  0.065012  0.368486   \n",
              "2765     0.470588  0.899497       0.590164       0.381818  0.153664  0.405707   \n",
              "2766     0.352941  0.427136       0.639344       0.000000  0.000000  0.387097   \n",
              "2767     0.000000  0.648241       0.901639       0.418182  0.153664  0.832506   \n",
              "2768     0.117647  0.407035       0.590164       0.136364  0.089835  0.373449   \n",
              "\n",
              "      DiabetesPedigreeFunction       Age  Outcome  \n",
              "Id                                                 \n",
              "1                     0.234415  0.483333        1  \n",
              "2                     0.116567  0.166667        0  \n",
              "3                     0.253629  0.183333        1  \n",
              "4                     0.038002  0.000000        0  \n",
              "5                     0.943638  0.200000        1  \n",
              "...                        ...       ...      ...  \n",
              "2764                  0.124680  0.200000        0  \n",
              "2765                  0.273698  0.250000        1  \n",
              "2766                  0.129804  0.350000        0  \n",
              "2767                  0.102904  0.083333        1  \n",
              "2768                  0.200256  0.066667        0  \n",
              "\n",
              "[2768 rows x 9 columns]"
            ],
            "text/html": [
              "\n",
              "  <div id=\"df-4462361c-93fc-4cb2-a8a6-8d241de64601\" class=\"colab-df-container\">\n",
              "    <div>\n",
              "<style scoped>\n",
              "    .dataframe tbody tr th:only-of-type {\n",
              "        vertical-align: middle;\n",
              "    }\n",
              "\n",
              "    .dataframe tbody tr th {\n",
              "        vertical-align: top;\n",
              "    }\n",
              "\n",
              "    .dataframe thead th {\n",
              "        text-align: right;\n",
              "    }\n",
              "</style>\n",
              "<table border=\"1\" class=\"dataframe\">\n",
              "  <thead>\n",
              "    <tr style=\"text-align: right;\">\n",
              "      <th></th>\n",
              "      <th>Pregnancies</th>\n",
              "      <th>Glucose</th>\n",
              "      <th>BloodPressure</th>\n",
              "      <th>SkinThickness</th>\n",
              "      <th>Insulin</th>\n",
              "      <th>BMI</th>\n",
              "      <th>DiabetesPedigreeFunction</th>\n",
              "      <th>Age</th>\n",
              "      <th>Outcome</th>\n",
              "    </tr>\n",
              "    <tr>\n",
              "      <th>Id</th>\n",
              "      <th></th>\n",
              "      <th></th>\n",
              "      <th></th>\n",
              "      <th></th>\n",
              "      <th></th>\n",
              "      <th></th>\n",
              "      <th></th>\n",
              "      <th></th>\n",
              "      <th></th>\n",
              "    </tr>\n",
              "  </thead>\n",
              "  <tbody>\n",
              "    <tr>\n",
              "      <th>1</th>\n",
              "      <td>0.352941</td>\n",
              "      <td>0.743719</td>\n",
              "      <td>0.590164</td>\n",
              "      <td>0.318182</td>\n",
              "      <td>0.000000</td>\n",
              "      <td>0.416873</td>\n",
              "      <td>0.234415</td>\n",
              "      <td>0.483333</td>\n",
              "      <td>1</td>\n",
              "    </tr>\n",
              "    <tr>\n",
              "      <th>2</th>\n",
              "      <td>0.058824</td>\n",
              "      <td>0.427136</td>\n",
              "      <td>0.540984</td>\n",
              "      <td>0.263636</td>\n",
              "      <td>0.000000</td>\n",
              "      <td>0.330025</td>\n",
              "      <td>0.116567</td>\n",
              "      <td>0.166667</td>\n",
              "      <td>0</td>\n",
              "    </tr>\n",
              "    <tr>\n",
              "      <th>3</th>\n",
              "      <td>0.470588</td>\n",
              "      <td>0.919598</td>\n",
              "      <td>0.524590</td>\n",
              "      <td>0.000000</td>\n",
              "      <td>0.000000</td>\n",
              "      <td>0.289082</td>\n",
              "      <td>0.253629</td>\n",
              "      <td>0.183333</td>\n",
              "      <td>1</td>\n",
              "    </tr>\n",
              "    <tr>\n",
              "      <th>4</th>\n",
              "      <td>0.058824</td>\n",
              "      <td>0.447236</td>\n",
              "      <td>0.540984</td>\n",
              "      <td>0.209091</td>\n",
              "      <td>0.111111</td>\n",
              "      <td>0.348635</td>\n",
              "      <td>0.038002</td>\n",
              "      <td>0.000000</td>\n",
              "      <td>0</td>\n",
              "    </tr>\n",
              "    <tr>\n",
              "      <th>5</th>\n",
              "      <td>0.000000</td>\n",
              "      <td>0.688442</td>\n",
              "      <td>0.327869</td>\n",
              "      <td>0.318182</td>\n",
              "      <td>0.198582</td>\n",
              "      <td>0.534739</td>\n",
              "      <td>0.943638</td>\n",
              "      <td>0.200000</td>\n",
              "      <td>1</td>\n",
              "    </tr>\n",
              "    <tr>\n",
              "      <th>...</th>\n",
              "      <td>...</td>\n",
              "      <td>...</td>\n",
              "      <td>...</td>\n",
              "      <td>...</td>\n",
              "      <td>...</td>\n",
              "      <td>...</td>\n",
              "      <td>...</td>\n",
              "      <td>...</td>\n",
              "      <td>...</td>\n",
              "    </tr>\n",
              "    <tr>\n",
              "      <th>2764</th>\n",
              "      <td>0.117647</td>\n",
              "      <td>0.376884</td>\n",
              "      <td>0.524590</td>\n",
              "      <td>0.218182</td>\n",
              "      <td>0.065012</td>\n",
              "      <td>0.368486</td>\n",
              "      <td>0.124680</td>\n",
              "      <td>0.200000</td>\n",
              "      <td>0</td>\n",
              "    </tr>\n",
              "    <tr>\n",
              "      <th>2765</th>\n",
              "      <td>0.470588</td>\n",
              "      <td>0.899497</td>\n",
              "      <td>0.590164</td>\n",
              "      <td>0.381818</td>\n",
              "      <td>0.153664</td>\n",
              "      <td>0.405707</td>\n",
              "      <td>0.273698</td>\n",
              "      <td>0.250000</td>\n",
              "      <td>1</td>\n",
              "    </tr>\n",
              "    <tr>\n",
              "      <th>2766</th>\n",
              "      <td>0.352941</td>\n",
              "      <td>0.427136</td>\n",
              "      <td>0.639344</td>\n",
              "      <td>0.000000</td>\n",
              "      <td>0.000000</td>\n",
              "      <td>0.387097</td>\n",
              "      <td>0.129804</td>\n",
              "      <td>0.350000</td>\n",
              "      <td>0</td>\n",
              "    </tr>\n",
              "    <tr>\n",
              "      <th>2767</th>\n",
              "      <td>0.000000</td>\n",
              "      <td>0.648241</td>\n",
              "      <td>0.901639</td>\n",
              "      <td>0.418182</td>\n",
              "      <td>0.153664</td>\n",
              "      <td>0.832506</td>\n",
              "      <td>0.102904</td>\n",
              "      <td>0.083333</td>\n",
              "      <td>1</td>\n",
              "    </tr>\n",
              "    <tr>\n",
              "      <th>2768</th>\n",
              "      <td>0.117647</td>\n",
              "      <td>0.407035</td>\n",
              "      <td>0.590164</td>\n",
              "      <td>0.136364</td>\n",
              "      <td>0.089835</td>\n",
              "      <td>0.373449</td>\n",
              "      <td>0.200256</td>\n",
              "      <td>0.066667</td>\n",
              "      <td>0</td>\n",
              "    </tr>\n",
              "  </tbody>\n",
              "</table>\n",
              "<p>2768 rows × 9 columns</p>\n",
              "</div>\n",
              "    <div class=\"colab-df-buttons\">\n",
              "\n",
              "  <div class=\"colab-df-container\">\n",
              "    <button class=\"colab-df-convert\" onclick=\"convertToInteractive('df-4462361c-93fc-4cb2-a8a6-8d241de64601')\"\n",
              "            title=\"Convert this dataframe to an interactive table.\"\n",
              "            style=\"display:none;\">\n",
              "\n",
              "  <svg xmlns=\"http://www.w3.org/2000/svg\" height=\"24px\" viewBox=\"0 -960 960 960\">\n",
              "    <path d=\"M120-120v-720h720v720H120Zm60-500h600v-160H180v160Zm220 220h160v-160H400v160Zm0 220h160v-160H400v160ZM180-400h160v-160H180v160Zm440 0h160v-160H620v160ZM180-180h160v-160H180v160Zm440 0h160v-160H620v160Z\"/>\n",
              "  </svg>\n",
              "    </button>\n",
              "\n",
              "  <style>\n",
              "    .colab-df-container {\n",
              "      display:flex;\n",
              "      gap: 12px;\n",
              "    }\n",
              "\n",
              "    .colab-df-convert {\n",
              "      background-color: #E8F0FE;\n",
              "      border: none;\n",
              "      border-radius: 50%;\n",
              "      cursor: pointer;\n",
              "      display: none;\n",
              "      fill: #1967D2;\n",
              "      height: 32px;\n",
              "      padding: 0 0 0 0;\n",
              "      width: 32px;\n",
              "    }\n",
              "\n",
              "    .colab-df-convert:hover {\n",
              "      background-color: #E2EBFA;\n",
              "      box-shadow: 0px 1px 2px rgba(60, 64, 67, 0.3), 0px 1px 3px 1px rgba(60, 64, 67, 0.15);\n",
              "      fill: #174EA6;\n",
              "    }\n",
              "\n",
              "    .colab-df-buttons div {\n",
              "      margin-bottom: 4px;\n",
              "    }\n",
              "\n",
              "    [theme=dark] .colab-df-convert {\n",
              "      background-color: #3B4455;\n",
              "      fill: #D2E3FC;\n",
              "    }\n",
              "\n",
              "    [theme=dark] .colab-df-convert:hover {\n",
              "      background-color: #434B5C;\n",
              "      box-shadow: 0px 1px 3px 1px rgba(0, 0, 0, 0.15);\n",
              "      filter: drop-shadow(0px 1px 2px rgba(0, 0, 0, 0.3));\n",
              "      fill: #FFFFFF;\n",
              "    }\n",
              "  </style>\n",
              "\n",
              "    <script>\n",
              "      const buttonEl =\n",
              "        document.querySelector('#df-4462361c-93fc-4cb2-a8a6-8d241de64601 button.colab-df-convert');\n",
              "      buttonEl.style.display =\n",
              "        google.colab.kernel.accessAllowed ? 'block' : 'none';\n",
              "\n",
              "      async function convertToInteractive(key) {\n",
              "        const element = document.querySelector('#df-4462361c-93fc-4cb2-a8a6-8d241de64601');\n",
              "        const dataTable =\n",
              "          await google.colab.kernel.invokeFunction('convertToInteractive',\n",
              "                                                    [key], {});\n",
              "        if (!dataTable) return;\n",
              "\n",
              "        const docLinkHtml = 'Like what you see? Visit the ' +\n",
              "          '<a target=\"_blank\" href=https://colab.research.google.com/notebooks/data_table.ipynb>data table notebook</a>'\n",
              "          + ' to learn more about interactive tables.';\n",
              "        element.innerHTML = '';\n",
              "        dataTable['output_type'] = 'display_data';\n",
              "        await google.colab.output.renderOutput(dataTable, element);\n",
              "        const docLink = document.createElement('div');\n",
              "        docLink.innerHTML = docLinkHtml;\n",
              "        element.appendChild(docLink);\n",
              "      }\n",
              "    </script>\n",
              "  </div>\n",
              "\n",
              "\n",
              "<div id=\"df-b63acd1a-b445-4c52-a9aa-c5620aa9d3f8\">\n",
              "  <button class=\"colab-df-quickchart\" onclick=\"quickchart('df-b63acd1a-b445-4c52-a9aa-c5620aa9d3f8')\"\n",
              "            title=\"Suggest charts\"\n",
              "            style=\"display:none;\">\n",
              "\n",
              "<svg xmlns=\"http://www.w3.org/2000/svg\" height=\"24px\"viewBox=\"0 0 24 24\"\n",
              "     width=\"24px\">\n",
              "    <g>\n",
              "        <path d=\"M19 3H5c-1.1 0-2 .9-2 2v14c0 1.1.9 2 2 2h14c1.1 0 2-.9 2-2V5c0-1.1-.9-2-2-2zM9 17H7v-7h2v7zm4 0h-2V7h2v10zm4 0h-2v-4h2v4z\"/>\n",
              "    </g>\n",
              "</svg>\n",
              "  </button>\n",
              "\n",
              "<style>\n",
              "  .colab-df-quickchart {\n",
              "      --bg-color: #E8F0FE;\n",
              "      --fill-color: #1967D2;\n",
              "      --hover-bg-color: #E2EBFA;\n",
              "      --hover-fill-color: #174EA6;\n",
              "      --disabled-fill-color: #AAA;\n",
              "      --disabled-bg-color: #DDD;\n",
              "  }\n",
              "\n",
              "  [theme=dark] .colab-df-quickchart {\n",
              "      --bg-color: #3B4455;\n",
              "      --fill-color: #D2E3FC;\n",
              "      --hover-bg-color: #434B5C;\n",
              "      --hover-fill-color: #FFFFFF;\n",
              "      --disabled-bg-color: #3B4455;\n",
              "      --disabled-fill-color: #666;\n",
              "  }\n",
              "\n",
              "  .colab-df-quickchart {\n",
              "    background-color: var(--bg-color);\n",
              "    border: none;\n",
              "    border-radius: 50%;\n",
              "    cursor: pointer;\n",
              "    display: none;\n",
              "    fill: var(--fill-color);\n",
              "    height: 32px;\n",
              "    padding: 0;\n",
              "    width: 32px;\n",
              "  }\n",
              "\n",
              "  .colab-df-quickchart:hover {\n",
              "    background-color: var(--hover-bg-color);\n",
              "    box-shadow: 0 1px 2px rgba(60, 64, 67, 0.3), 0 1px 3px 1px rgba(60, 64, 67, 0.15);\n",
              "    fill: var(--button-hover-fill-color);\n",
              "  }\n",
              "\n",
              "  .colab-df-quickchart-complete:disabled,\n",
              "  .colab-df-quickchart-complete:disabled:hover {\n",
              "    background-color: var(--disabled-bg-color);\n",
              "    fill: var(--disabled-fill-color);\n",
              "    box-shadow: none;\n",
              "  }\n",
              "\n",
              "  .colab-df-spinner {\n",
              "    border: 2px solid var(--fill-color);\n",
              "    border-color: transparent;\n",
              "    border-bottom-color: var(--fill-color);\n",
              "    animation:\n",
              "      spin 1s steps(1) infinite;\n",
              "  }\n",
              "\n",
              "  @keyframes spin {\n",
              "    0% {\n",
              "      border-color: transparent;\n",
              "      border-bottom-color: var(--fill-color);\n",
              "      border-left-color: var(--fill-color);\n",
              "    }\n",
              "    20% {\n",
              "      border-color: transparent;\n",
              "      border-left-color: var(--fill-color);\n",
              "      border-top-color: var(--fill-color);\n",
              "    }\n",
              "    30% {\n",
              "      border-color: transparent;\n",
              "      border-left-color: var(--fill-color);\n",
              "      border-top-color: var(--fill-color);\n",
              "      border-right-color: var(--fill-color);\n",
              "    }\n",
              "    40% {\n",
              "      border-color: transparent;\n",
              "      border-right-color: var(--fill-color);\n",
              "      border-top-color: var(--fill-color);\n",
              "    }\n",
              "    60% {\n",
              "      border-color: transparent;\n",
              "      border-right-color: var(--fill-color);\n",
              "    }\n",
              "    80% {\n",
              "      border-color: transparent;\n",
              "      border-right-color: var(--fill-color);\n",
              "      border-bottom-color: var(--fill-color);\n",
              "    }\n",
              "    90% {\n",
              "      border-color: transparent;\n",
              "      border-bottom-color: var(--fill-color);\n",
              "    }\n",
              "  }\n",
              "</style>\n",
              "\n",
              "  <script>\n",
              "    async function quickchart(key) {\n",
              "      const quickchartButtonEl =\n",
              "        document.querySelector('#' + key + ' button');\n",
              "      quickchartButtonEl.disabled = true;  // To prevent multiple clicks.\n",
              "      quickchartButtonEl.classList.add('colab-df-spinner');\n",
              "      try {\n",
              "        const charts = await google.colab.kernel.invokeFunction(\n",
              "            'suggestCharts', [key], {});\n",
              "      } catch (error) {\n",
              "        console.error('Error during call to suggestCharts:', error);\n",
              "      }\n",
              "      quickchartButtonEl.classList.remove('colab-df-spinner');\n",
              "      quickchartButtonEl.classList.add('colab-df-quickchart-complete');\n",
              "    }\n",
              "    (() => {\n",
              "      let quickchartButtonEl =\n",
              "        document.querySelector('#df-b63acd1a-b445-4c52-a9aa-c5620aa9d3f8 button');\n",
              "      quickchartButtonEl.style.display =\n",
              "        google.colab.kernel.accessAllowed ? 'block' : 'none';\n",
              "    })();\n",
              "  </script>\n",
              "</div>\n",
              "    </div>\n",
              "  </div>\n"
            ],
            "application/vnd.google.colaboratory.intrinsic+json": {
              "type": "dataframe",
              "variable_name": "df",
              "summary": "{\n  \"name\": \"df\",\n  \"rows\": 2768,\n  \"fields\": [\n    {\n      \"column\": \"Id\",\n      \"properties\": {\n        \"dtype\": \"number\",\n        \"std\": 799,\n        \"min\": 1,\n        \"max\": 2768,\n        \"num_unique_values\": 2768,\n        \"samples\": [\n          1379,\n          840,\n          2165\n        ],\n        \"semantic_type\": \"\",\n        \"description\": \"\"\n      }\n    },\n    {\n      \"column\": \"Pregnancies\",\n      \"properties\": {\n        \"dtype\": \"number\",\n        \"std\": 0.195517703956964,\n        \"min\": 0.0,\n        \"max\": 1.0,\n        \"num_unique_values\": 17,\n        \"samples\": [\n          0.35294117647058826,\n          0.058823529411764705,\n          0.17647058823529413\n        ],\n        \"semantic_type\": \"\",\n        \"description\": \"\"\n      }\n    },\n    {\n      \"column\": \"Glucose\",\n      \"properties\": {\n        \"dtype\": \"number\",\n        \"std\": 0.16098747865152976,\n        \"min\": 0.0,\n        \"max\": 1.0,\n        \"num_unique_values\": 136,\n        \"samples\": [\n          0.7587939698492462,\n          0.507537688442211,\n          0.5628140703517588\n        ],\n        \"semantic_type\": \"\",\n        \"description\": \"\"\n      }\n    },\n    {\n      \"column\": \"BloodPressure\",\n      \"properties\": {\n        \"dtype\": \"number\",\n        \"std\": 0.15763473889833937,\n        \"min\": 0.0,\n        \"max\": 1.0,\n        \"num_unique_values\": 47,\n        \"samples\": [\n          0.7049180327868853,\n          0.3770491803278688,\n          0.6967213114754098\n        ],\n        \"semantic_type\": \"\",\n        \"description\": \"\"\n      }\n    },\n    {\n      \"column\": \"SkinThickness\",\n      \"properties\": {\n        \"dtype\": \"number\",\n        \"std\": 0.14599632454605058,\n        \"min\": 0.0,\n        \"max\": 1.0,\n        \"num_unique_values\": 53,\n        \"samples\": [\n          0.22727272727272727,\n          0.41818181818181815,\n          0.07272727272727272\n        ],\n        \"semantic_type\": \"\",\n        \"description\": \"\"\n      }\n    },\n    {\n      \"column\": \"Insulin\",\n      \"properties\": {\n        \"dtype\": \"number\",\n        \"std\": 0.13274460163299112,\n        \"min\": 0.0,\n        \"max\": 1.0,\n        \"num_unique_values\": 187,\n        \"samples\": [\n          0.13238770685579196,\n          0.1524822695035461,\n          0.07446808510638298\n        ],\n        \"semantic_type\": \"\",\n        \"description\": \"\"\n      }\n    },\n    {\n      \"column\": \"BMI\",\n      \"properties\": {\n        \"dtype\": \"number\",\n        \"std\": 0.10020008956155356,\n        \"min\": 0.0,\n        \"max\": 1.0,\n        \"num_unique_values\": 253,\n        \"samples\": [\n          0.5620347394540943,\n          0.38461538461538464,\n          0.3287841191066998\n        ],\n        \"semantic_type\": \"\",\n        \"description\": \"\"\n      }\n    },\n    {\n      \"column\": \"DiabetesPedigreeFunction\",\n      \"properties\": {\n        \"dtype\": \"number\",\n        \"std\": 0.13905586378960583,\n        \"min\": 0.0,\n        \"max\": 1.0,\n        \"num_unique_values\": 523,\n        \"samples\": [\n          0.10418445772843722,\n          0.040990606319385135,\n          0.07258753202391117\n        ],\n        \"semantic_type\": \"\",\n        \"description\": \"\"\n      }\n    },\n    {\n      \"column\": \"Age\",\n      \"properties\": {\n        \"dtype\": \"number\",\n        \"std\": 0.1962871664622983,\n        \"min\": 0.0,\n        \"max\": 1.0,\n        \"num_unique_values\": 52,\n        \"samples\": [\n          0.65,\n          0.43333333333333335,\n          0.85\n        ],\n        \"semantic_type\": \"\",\n        \"description\": \"\"\n      }\n    },\n    {\n      \"column\": \"Outcome\",\n      \"properties\": {\n        \"dtype\": \"number\",\n        \"std\": 0,\n        \"min\": 0,\n        \"max\": 1,\n        \"num_unique_values\": 2,\n        \"samples\": [\n          0,\n          1\n        ],\n        \"semantic_type\": \"\",\n        \"description\": \"\"\n      }\n    }\n  ]\n}"
            }
          },
          "metadata": {},
          "execution_count": 79
        }
      ]
    },
    {
      "cell_type": "markdown",
      "source": [
        "Потрібно на основі інформації пацієнта виявити наявність діабету `Outcome`"
      ],
      "metadata": {
        "id": "KAmkR_CFejgQ"
      }
    },
    {
      "cell_type": "markdown",
      "source": [
        "# Завдання 1\n",
        "Створіть клас Dataset для тренувальних та тестових даних"
      ],
      "metadata": {
        "id": "dBt0E5BJe6OK"
      }
    },
    {
      "cell_type": "code",
      "source": [
        "from torch.utils.data import Dataset\n",
        "from sklearn.model_selection import train_test_split\n",
        "\n",
        "class MyDataset(Dataset):\n",
        "    def __init__(self, X, y):\n",
        "      self.X = torch.FloatTensor(X.values)\n",
        "      self.y = torch.FloatTensor(y.values)\n",
        "      self.y = self.y.reshape(-1, 1)\n",
        "\n",
        "    def __len__(self):\n",
        "      return len(self.X)\n",
        "\n",
        "    def __getitem__(self, idx):\n",
        "      return self.X[idx], self.y[idx]\n",
        "\n",
        "# Create dataset object\n",
        "X = df.drop(columns=['Outcome'])\n",
        "y = df['Outcome']\n",
        "\n",
        "dataset = MyDataset(X, y)"
      ],
      "metadata": {
        "id": "vFtu1Wd1drwJ"
      },
      "execution_count": 80,
      "outputs": []
    },
    {
      "cell_type": "code",
      "source": [
        "X_train, X_test, y_train, y_test = train_test_split(X, y,\n",
        "                                                    train_size=0.8,\n",
        "                                                    random_state=42,\n",
        "                                                    stratify=y)\n",
        "\n",
        "dataset_train = MyDataset(X_train, y_train)\n",
        "dataset_test = MyDataset(X_test, y_test)"
      ],
      "metadata": {
        "id": "MRZBJLUX8AeH"
      },
      "execution_count": 81,
      "outputs": []
    },
    {
      "cell_type": "markdown",
      "source": [
        "# Завдання 2\n",
        "Створіть DataLoader"
      ],
      "metadata": {
        "id": "zQlB_6WzfB8n"
      }
    },
    {
      "cell_type": "code",
      "source": [
        "from torch.utils.data import DataLoader\n",
        "\n",
        "batch_size = 64\n",
        "train_dl = DataLoader(dataset_train,\n",
        "                      batch_size=batch_size,\n",
        "                      generator=torch.Generator(device=device))\n",
        "test_dl = DataLoader(dataset_test,\n",
        "                     batch_size=batch_size,\n",
        "                     shuffle=True,\n",
        "                     generator=torch.Generator(device=device))"
      ],
      "metadata": {
        "id": "-6-po4H4fZQy"
      },
      "execution_count": 82,
      "outputs": []
    },
    {
      "cell_type": "markdown",
      "source": [
        "# Завдання 3\n",
        "Створіть нейромережу"
      ],
      "metadata": {
        "id": "2W93LiDxfZrx"
      }
    },
    {
      "cell_type": "code",
      "source": [
        "from torch import nn, optim\n",
        "import matplotlib.pyplot as plt\n",
        "from sklearn.metrics import ConfusionMatrixDisplay, RocCurveDisplay\n",
        "import numpy as np\n",
        "\n",
        "class Model(nn.Module):\n",
        "    def __init__(self, input_size=2, hidden_sizes=[4], output_size=1):\n",
        "        super(Model, self).__init__()\n",
        "        self.layers = nn.ModuleList()\n",
        "        self.layers.append(nn.Linear(input_size, hidden_sizes[0]))\n",
        "\n",
        "        for i in range(len(hidden_sizes) - 1):\n",
        "            self.layers.append(nn.Sigmoid())\n",
        "            self.layers.append(nn.Linear(hidden_sizes[i], hidden_sizes[i + 1]))\n",
        "\n",
        "        self.layers.append(nn.Sigmoid())\n",
        "        self.layers.append(nn.Linear(hidden_sizes[-1], output_size))\n",
        "\n",
        "    def forward(self, x):\n",
        "        for layer in self.layers:\n",
        "            x = layer(x)\n",
        "        return x\n",
        "\n",
        "    def predict(self, x, device='cpu'):\n",
        "        x = torch.FloatTensor(np.array(x)).to(device)\n",
        "        self.to(device)\n",
        "        self.eval()\n",
        "        with torch.no_grad():\n",
        "            y_pred = self.forward(x)\n",
        "        return y_pred.cpu().numpy()\n",
        "\n",
        "model = Model(input_size=8, hidden_sizes=[16, 10, 8, 4], output_size=1)"
      ],
      "metadata": {
        "id": "p9DHog7Xf7xE"
      },
      "execution_count": 83,
      "outputs": []
    },
    {
      "cell_type": "code",
      "source": [
        "from torchsummary import summary\n",
        "\n",
        "summary(model, input_size=(8,))"
      ],
      "metadata": {
        "id": "E_dQC1Dd8i8e",
        "colab": {
          "base_uri": "https://localhost:8080/"
        },
        "outputId": "6a69565f-b916-4703-e170-7b1da2733fa2"
      },
      "execution_count": 84,
      "outputs": [
        {
          "output_type": "stream",
          "name": "stdout",
          "text": [
            "----------------------------------------------------------------\n",
            "        Layer (type)               Output Shape         Param #\n",
            "================================================================\n",
            "            Linear-1                   [-1, 16]             144\n",
            "           Sigmoid-2                   [-1, 16]               0\n",
            "            Linear-3                   [-1, 10]             170\n",
            "           Sigmoid-4                   [-1, 10]               0\n",
            "            Linear-5                    [-1, 8]              88\n",
            "           Sigmoid-6                    [-1, 8]               0\n",
            "            Linear-7                    [-1, 4]              36\n",
            "           Sigmoid-8                    [-1, 4]               0\n",
            "            Linear-9                    [-1, 1]               5\n",
            "================================================================\n",
            "Total params: 443\n",
            "Trainable params: 443\n",
            "Non-trainable params: 0\n",
            "----------------------------------------------------------------\n",
            "Input size (MB): 0.00\n",
            "Forward/backward pass size (MB): 0.00\n",
            "Params size (MB): 0.00\n",
            "Estimated Total Size (MB): 0.00\n",
            "----------------------------------------------------------------\n"
          ]
        }
      ]
    },
    {
      "cell_type": "markdown",
      "source": [
        "# Завдання 4\n",
        "Визначте функцію втрат та оптимізатор"
      ],
      "metadata": {
        "id": "VmNUVkkUf8gB"
      }
    },
    {
      "cell_type": "code",
      "source": [
        "loss_fn = nn.BCELoss()\n",
        "\n",
        "optimizer = torch.optim.SGD(model.parameters(), lr=0.001, momentum=0.99)"
      ],
      "metadata": {
        "id": "k5vg7rew8qnH"
      },
      "execution_count": 85,
      "outputs": []
    },
    {
      "cell_type": "markdown",
      "source": [
        "# Завдання 5\n",
        "Натренуйте нейромережу. Візміть невелику кількість епох"
      ],
      "metadata": {
        "id": "qTOFCl_egEFZ"
      }
    },
    {
      "cell_type": "code",
      "source": [
        "# @title Функція для тренування\n",
        "import time\n",
        "\n",
        "def train(model, optimizer, loss_fn, train_dl, val_dl,\n",
        "          metrics=None, metrics_name=None, epochs=20, device='cpu', task='regression'):\n",
        "    '''\n",
        "    Runs training loop for classification problems. Returns Keras-style\n",
        "    per-epoch history of loss and accuracy over training and validation data.\n",
        "\n",
        "    Parameters\n",
        "    ----------\n",
        "    model : nn.Module\n",
        "        Neural network model\n",
        "    optimizer : torch.optim.Optimizer\n",
        "        Search space optimizer (e.g. Adam)\n",
        "    loss_fn :\n",
        "        Loss function (e.g. nn.CrossEntropyLoss())\n",
        "    train_dl :\n",
        "        Iterable dataloader for training data.\n",
        "    val_dl :\n",
        "        Iterable dataloader for validation data.\n",
        "    metrics: list\n",
        "        List of sklearn metrics functions to be calculated\n",
        "    metrics_name: list\n",
        "        List of matrics names\n",
        "    epochs : int\n",
        "        Number of epochs to run\n",
        "    device : string\n",
        "        Specifies 'cuda' or 'cpu'\n",
        "    task : string\n",
        "        type of problem. It can be regression, binary or multiclass\n",
        "\n",
        "    Returns\n",
        "    -------\n",
        "    Dictionary\n",
        "        Similar to Keras' fit(), the output dictionary contains per-epoch\n",
        "        history of training loss, training accuracy, validation loss, and\n",
        "        validation accuracy.\n",
        "    '''\n",
        "\n",
        "    print('train() called: model=%s, opt=%s(lr=%f), epochs=%d, device=%s\\n' % \\\n",
        "          (type(model).__name__, type(optimizer).__name__,\n",
        "           optimizer.param_groups[0]['lr'], epochs, device))\n",
        "\n",
        "    metrics = metrics if metrics else []\n",
        "    metrics_name = metrics_name if metrics_name else [metric.__name__ for metric in metrics]\n",
        "\n",
        "    history = {} # Collects per-epoch loss and metrics like Keras' fit().\n",
        "    history['loss'] = []\n",
        "    history['val_loss'] = []\n",
        "    for name in metrics_name:\n",
        "        history[name] = []\n",
        "        history[f'val_{name}'] = []\n",
        "\n",
        "    start_time_train = time.time()\n",
        "\n",
        "    for epoch in range(epochs):\n",
        "\n",
        "        # --- TRAIN AND EVALUATE ON TRAINING SET -----------------------------\n",
        "        start_time_epoch = time.time()\n",
        "\n",
        "        model.train()\n",
        "        history_train = {name: 0 for name in ['loss']+metrics_name}\n",
        "\n",
        "        for batch in train_dl:\n",
        "            x    = batch[0].to(device)\n",
        "            y    = batch[1].to(device)\n",
        "            y_pred = model(x)\n",
        "            loss = loss_fn(y_pred, y)\n",
        "\n",
        "            optimizer.zero_grad()\n",
        "            loss.backward()\n",
        "            optimizer.step()\n",
        "\n",
        "            y_pred = y_pred.detach().cpu().numpy()\n",
        "            y = y.detach().cpu().numpy()\n",
        "\n",
        "\n",
        "            history_train['loss'] += loss.item() * x.size(0)\n",
        "            for name, func in zip(metrics_name, metrics):\n",
        "              try:\n",
        "                  history_train[name] += func(y, y_pred) * x.size(0)\n",
        "              except:\n",
        "                  if task == 'binary': y_pred_ = y_pred.round()\n",
        "                  elif task == 'multiclass': y_pred_ = y_pred.argmax(axis=-1)\n",
        "                  history_train[name] += func(y, y_pred_) * x.size(0)\n",
        "\n",
        "        for name in history_train:\n",
        "            history_train[name] /= len(train_dl.dataset)\n",
        "\n",
        "\n",
        "        # --- EVALUATE ON VALIDATION SET -------------------------------------\n",
        "        model.eval()\n",
        "        history_val = {'val_' + name: 0 for name in metrics_name+['loss']}\n",
        "\n",
        "        with torch.no_grad():\n",
        "            for batch in val_dl:\n",
        "                x    = batch[0].to(device)\n",
        "                y    = batch[1].to(device)\n",
        "                y_pred = model(x)\n",
        "                loss = loss_fn(y_pred, y)\n",
        "\n",
        "                y_pred = y_pred.cpu().numpy()\n",
        "                y = y.cpu().numpy()\n",
        "\n",
        "                history_val['val_loss'] += loss.item() * x.size(0)\n",
        "                for name, func in zip(metrics_name, metrics):\n",
        "                    try:\n",
        "                        history_val['val_'+name] += func(y, y_pred) * x.size(0)\n",
        "                    except:\n",
        "                        if task == 'binary': y_pred_ = y_pred.round()\n",
        "                        elif task == 'multiclass': y_pred_ = y_pred.argmax(axis=-1)\n",
        "\n",
        "                        history_val['val_'+name] += func(y, y_pred_) * x.size(0)\n",
        "\n",
        "        for name in history_val:\n",
        "            history_val[name] /= len(val_dl.dataset)\n",
        "\n",
        "        # PRINTING RESULTS\n",
        "\n",
        "        end_time_epoch = time.time()\n",
        "\n",
        "        for name in history_train:\n",
        "            history[name].append(history_train[name])\n",
        "            history['val_'+name].append(history_val['val_'+name])\n",
        "\n",
        "        total_time_epoch = end_time_epoch - start_time_epoch\n",
        "\n",
        "        print(f'Epoch {epoch+1:4d} {total_time_epoch:4.0f}sec', end='\\t')\n",
        "        for name in history_train:\n",
        "            print(f'{name}: {history[name][-1]:10.3g}', end='\\t')\n",
        "            print(f\"val_{name}: {history['val_'+name][-1]:10.3g}\", end='\\t')\n",
        "        print()\n",
        "\n",
        "    # END OF TRAINING LOOP\n",
        "\n",
        "    end_time_train       = time.time()\n",
        "    total_time_train     = end_time_train - start_time_train\n",
        "    print()\n",
        "    print('Time total:     %5.2f sec' % (total_time_train))\n",
        "\n",
        "    return history"
      ],
      "metadata": {
        "id": "NSVzKWZpsl1m"
      },
      "execution_count": 86,
      "outputs": []
    },
    {
      "cell_type": "code",
      "source": [
        "from sklearn.metrics import accuracy_score, roc_auc_score\n",
        "\n",
        "history = train(model, optimizer, loss_fn, train_dl, test_dl,\n",
        "                epochs=50,\n",
        "                metrics=[accuracy_score, roc_auc_score],\n",
        "                device=device,\n",
        "                task='binary')"
      ],
      "metadata": {
        "id": "YsBsfBvX9eug",
        "colab": {
          "base_uri": "https://localhost:8080/"
        },
        "outputId": "825bf5b3-63dc-4467-e372-69534d0d2c50"
      },
      "execution_count": 87,
      "outputs": [
        {
          "output_type": "stream",
          "name": "stdout",
          "text": [
            "train() called: model=Model, opt=SGD(lr=0.001000), epochs=50, device=cuda\n",
            "\n",
            "Epoch    1    0sec\tloss:      0.648\tval_loss:      0.667\taccuracy_score:      0.656\tval_accuracy_score:      0.655\troc_auc_score:      0.494\tval_roc_auc_score:      0.483\t\n",
            "Epoch    2    0sec\tloss:      0.661\tval_loss:      0.655\taccuracy_score:      0.656\tval_accuracy_score:      0.655\troc_auc_score:        0.5\tval_roc_auc_score:      0.458\t\n",
            "Epoch    3    0sec\tloss:      0.644\tval_loss:      0.654\taccuracy_score:      0.656\tval_accuracy_score:      0.655\troc_auc_score:      0.496\tval_roc_auc_score:      0.484\t\n",
            "Epoch    4    0sec\tloss:      0.653\tval_loss:      0.648\taccuracy_score:      0.656\tval_accuracy_score:      0.655\troc_auc_score:      0.503\tval_roc_auc_score:      0.465\t\n",
            "Epoch    5    0sec\tloss:      0.644\tval_loss:      0.648\taccuracy_score:      0.656\tval_accuracy_score:      0.655\troc_auc_score:      0.498\tval_roc_auc_score:      0.486\t\n",
            "Epoch    6    0sec\tloss:      0.649\tval_loss:      0.645\taccuracy_score:      0.656\tval_accuracy_score:      0.655\troc_auc_score:      0.505\tval_roc_auc_score:      0.464\t\n",
            "Epoch    7    0sec\tloss:      0.644\tval_loss:      0.646\taccuracy_score:      0.656\tval_accuracy_score:      0.655\troc_auc_score:      0.501\tval_roc_auc_score:       0.49\t\n",
            "Epoch    8    0sec\tloss:      0.647\tval_loss:      0.644\taccuracy_score:      0.656\tval_accuracy_score:      0.655\troc_auc_score:      0.507\tval_roc_auc_score:      0.475\t\n",
            "Epoch    9    0sec\tloss:      0.644\tval_loss:      0.645\taccuracy_score:      0.656\tval_accuracy_score:      0.655\troc_auc_score:      0.504\tval_roc_auc_score:      0.491\t\n",
            "Epoch   10    0sec\tloss:      0.646\tval_loss:      0.644\taccuracy_score:      0.656\tval_accuracy_score:      0.655\troc_auc_score:      0.509\tval_roc_auc_score:      0.479\t\n",
            "Epoch   11    0sec\tloss:      0.645\tval_loss:      0.644\taccuracy_score:      0.656\tval_accuracy_score:      0.655\troc_auc_score:      0.506\tval_roc_auc_score:      0.485\t\n",
            "Epoch   12    0sec\tloss:      0.645\tval_loss:      0.644\taccuracy_score:      0.656\tval_accuracy_score:      0.655\troc_auc_score:      0.511\tval_roc_auc_score:      0.478\t\n",
            "Epoch   13    0sec\tloss:      0.645\tval_loss:      0.644\taccuracy_score:      0.656\tval_accuracy_score:      0.655\troc_auc_score:      0.509\tval_roc_auc_score:      0.485\t\n",
            "Epoch   14    0sec\tloss:      0.644\tval_loss:      0.644\taccuracy_score:      0.656\tval_accuracy_score:      0.655\troc_auc_score:      0.513\tval_roc_auc_score:      0.491\t\n",
            "Epoch   15    0sec\tloss:      0.645\tval_loss:      0.644\taccuracy_score:      0.656\tval_accuracy_score:      0.655\troc_auc_score:      0.512\tval_roc_auc_score:      0.496\t\n",
            "Epoch   16    0sec\tloss:      0.644\tval_loss:      0.644\taccuracy_score:      0.656\tval_accuracy_score:      0.655\troc_auc_score:      0.515\tval_roc_auc_score:      0.486\t\n",
            "Epoch   17    0sec\tloss:      0.645\tval_loss:      0.644\taccuracy_score:      0.656\tval_accuracy_score:      0.655\troc_auc_score:      0.514\tval_roc_auc_score:      0.484\t\n",
            "Epoch   18    0sec\tloss:      0.644\tval_loss:      0.644\taccuracy_score:      0.656\tval_accuracy_score:      0.655\troc_auc_score:      0.517\tval_roc_auc_score:      0.491\t\n",
            "Epoch   19    0sec\tloss:      0.645\tval_loss:      0.644\taccuracy_score:      0.656\tval_accuracy_score:      0.655\troc_auc_score:      0.517\tval_roc_auc_score:      0.491\t\n",
            "Epoch   20    0sec\tloss:      0.644\tval_loss:      0.644\taccuracy_score:      0.656\tval_accuracy_score:      0.655\troc_auc_score:       0.52\tval_roc_auc_score:      0.493\t\n",
            "Epoch   21    0sec\tloss:      0.645\tval_loss:      0.644\taccuracy_score:      0.656\tval_accuracy_score:      0.655\troc_auc_score:       0.52\tval_roc_auc_score:      0.484\t\n",
            "Epoch   22    0sec\tloss:      0.644\tval_loss:      0.644\taccuracy_score:      0.656\tval_accuracy_score:      0.655\troc_auc_score:      0.522\tval_roc_auc_score:      0.496\t\n",
            "Epoch   23    0sec\tloss:      0.645\tval_loss:      0.644\taccuracy_score:      0.656\tval_accuracy_score:      0.655\troc_auc_score:      0.522\tval_roc_auc_score:      0.495\t\n",
            "Epoch   24    0sec\tloss:      0.644\tval_loss:      0.644\taccuracy_score:      0.656\tval_accuracy_score:      0.655\troc_auc_score:      0.524\tval_roc_auc_score:        0.5\t\n",
            "Epoch   25    0sec\tloss:      0.645\tval_loss:      0.644\taccuracy_score:      0.656\tval_accuracy_score:      0.655\troc_auc_score:      0.524\tval_roc_auc_score:      0.498\t\n",
            "Epoch   26    0sec\tloss:      0.644\tval_loss:      0.644\taccuracy_score:      0.656\tval_accuracy_score:      0.655\troc_auc_score:      0.525\tval_roc_auc_score:      0.492\t\n",
            "Epoch   27    0sec\tloss:      0.644\tval_loss:      0.644\taccuracy_score:      0.656\tval_accuracy_score:      0.655\troc_auc_score:      0.526\tval_roc_auc_score:      0.495\t\n",
            "Epoch   28    0sec\tloss:      0.644\tval_loss:      0.644\taccuracy_score:      0.656\tval_accuracy_score:      0.655\troc_auc_score:      0.527\tval_roc_auc_score:      0.502\t\n",
            "Epoch   29    0sec\tloss:      0.644\tval_loss:      0.644\taccuracy_score:      0.656\tval_accuracy_score:      0.655\troc_auc_score:      0.528\tval_roc_auc_score:      0.498\t\n",
            "Epoch   30    0sec\tloss:      0.644\tval_loss:      0.644\taccuracy_score:      0.656\tval_accuracy_score:      0.655\troc_auc_score:      0.529\tval_roc_auc_score:       0.51\t\n",
            "Epoch   31    0sec\tloss:      0.644\tval_loss:      0.644\taccuracy_score:      0.656\tval_accuracy_score:      0.655\troc_auc_score:       0.53\tval_roc_auc_score:      0.493\t\n",
            "Epoch   32    0sec\tloss:      0.644\tval_loss:      0.644\taccuracy_score:      0.656\tval_accuracy_score:      0.655\troc_auc_score:      0.531\tval_roc_auc_score:      0.498\t\n",
            "Epoch   33    0sec\tloss:      0.644\tval_loss:      0.644\taccuracy_score:      0.656\tval_accuracy_score:      0.655\troc_auc_score:      0.532\tval_roc_auc_score:      0.499\t\n",
            "Epoch   34    0sec\tloss:      0.644\tval_loss:      0.644\taccuracy_score:      0.656\tval_accuracy_score:      0.655\troc_auc_score:      0.533\tval_roc_auc_score:      0.508\t\n",
            "Epoch   35    0sec\tloss:      0.644\tval_loss:      0.644\taccuracy_score:      0.656\tval_accuracy_score:      0.655\troc_auc_score:      0.534\tval_roc_auc_score:      0.511\t\n",
            "Epoch   36    0sec\tloss:      0.644\tval_loss:      0.644\taccuracy_score:      0.656\tval_accuracy_score:      0.655\troc_auc_score:      0.534\tval_roc_auc_score:      0.504\t\n",
            "Epoch   37    0sec\tloss:      0.644\tval_loss:      0.644\taccuracy_score:      0.656\tval_accuracy_score:      0.655\troc_auc_score:      0.535\tval_roc_auc_score:      0.506\t\n",
            "Epoch   38    0sec\tloss:      0.644\tval_loss:      0.644\taccuracy_score:      0.656\tval_accuracy_score:      0.655\troc_auc_score:      0.536\tval_roc_auc_score:      0.515\t\n",
            "Epoch   39    0sec\tloss:      0.644\tval_loss:      0.644\taccuracy_score:      0.656\tval_accuracy_score:      0.655\troc_auc_score:      0.537\tval_roc_auc_score:       0.51\t\n",
            "Epoch   40    0sec\tloss:      0.644\tval_loss:      0.644\taccuracy_score:      0.656\tval_accuracy_score:      0.655\troc_auc_score:      0.538\tval_roc_auc_score:      0.509\t\n",
            "Epoch   41    0sec\tloss:      0.644\tval_loss:      0.644\taccuracy_score:      0.656\tval_accuracy_score:      0.655\troc_auc_score:       0.54\tval_roc_auc_score:      0.515\t\n",
            "Epoch   42    0sec\tloss:      0.644\tval_loss:      0.644\taccuracy_score:      0.656\tval_accuracy_score:      0.655\troc_auc_score:      0.541\tval_roc_auc_score:      0.516\t\n",
            "Epoch   43    0sec\tloss:      0.644\tval_loss:      0.644\taccuracy_score:      0.656\tval_accuracy_score:      0.655\troc_auc_score:      0.541\tval_roc_auc_score:      0.517\t\n",
            "Epoch   44    0sec\tloss:      0.644\tval_loss:      0.644\taccuracy_score:      0.656\tval_accuracy_score:      0.655\troc_auc_score:      0.542\tval_roc_auc_score:      0.516\t\n",
            "Epoch   45    0sec\tloss:      0.644\tval_loss:      0.644\taccuracy_score:      0.656\tval_accuracy_score:      0.655\troc_auc_score:      0.544\tval_roc_auc_score:      0.517\t\n",
            "Epoch   46    0sec\tloss:      0.644\tval_loss:      0.644\taccuracy_score:      0.656\tval_accuracy_score:      0.655\troc_auc_score:      0.544\tval_roc_auc_score:      0.514\t\n",
            "Epoch   47    0sec\tloss:      0.644\tval_loss:      0.644\taccuracy_score:      0.656\tval_accuracy_score:      0.655\troc_auc_score:      0.545\tval_roc_auc_score:      0.519\t\n",
            "Epoch   48    0sec\tloss:      0.644\tval_loss:      0.644\taccuracy_score:      0.656\tval_accuracy_score:      0.655\troc_auc_score:      0.546\tval_roc_auc_score:       0.53\t\n",
            "Epoch   49    0sec\tloss:      0.644\tval_loss:      0.644\taccuracy_score:      0.656\tval_accuracy_score:      0.655\troc_auc_score:      0.548\tval_roc_auc_score:      0.514\t\n",
            "Epoch   50    0sec\tloss:      0.644\tval_loss:      0.644\taccuracy_score:      0.656\tval_accuracy_score:      0.655\troc_auc_score:      0.549\tval_roc_auc_score:      0.537\t\n",
            "\n",
            "Time total:     10.08 sec\n"
          ]
        }
      ]
    },
    {
      "cell_type": "code",
      "source": [
        "import matplotlib.pyplot as plt\n",
        "\n",
        "def plot_metric(history, name):\n",
        "  plt.title(f\"Model results with {name}\")\n",
        "  plt.plot(history[name], label='train')\n",
        "  plt.plot(history['val_'+name], label='val')\n",
        "  plt.xlabel('Epoch')\n",
        "  plt.ylabel(name)\n",
        "  plt.legend()\n",
        "\n",
        "\n",
        "plot_metric(history, 'loss')"
      ],
      "metadata": {
        "id": "QQeW-Ggl9qVb",
        "colab": {
          "base_uri": "https://localhost:8080/",
          "height": 472
        },
        "outputId": "ca45ba0e-9a2a-4190-bbe8-e95b0da1a9a5"
      },
      "execution_count": 88,
      "outputs": [
        {
          "output_type": "display_data",
          "data": {
            "text/plain": [
              "<Figure size 640x480 with 1 Axes>"
            ],
            "image/png": "[encoded data removed]"
          },
          "metadata": {}
        }
      ]
    },
    {
      "cell_type": "code",
      "source": [
        "plot_metric(history, 'accuracy_score')"
      ],
      "metadata": {
        "id": "wBZr5pdT9uWe",
        "colab": {
          "base_uri": "https://localhost:8080/",
          "height": 472
        },
        "outputId": "0a6c6d2d-10ab-4e84-d687-b9c183613565"
      },
      "execution_count": 89,
      "outputs": [
        {
          "output_type": "display_data",
          "data": {
            "text/plain": [
              "<Figure size 640x480 with 1 Axes>"
            ],
            "image/png": "[encoded data removed]"
          },
          "metadata": {}
        }
      ]
    },
    {
      "cell_type": "code",
      "source": [
        "print(X_test)"
      ],
      "metadata": {
        "id": "HPSo7G0MBzbn",
        "colab": {
          "base_uri": "https://localhost:8080/"
        },
        "outputId": "66b5e8eb-7b74-4639-cde6-e6a2f8406e5b"
      },
      "execution_count": 90,
      "outputs": [
        {
          "output_type": "stream",
          "name": "stdout",
          "text": [
            "      Pregnancies   Glucose  BloodPressure  SkinThickness   Insulin       BMI  \\\n",
            "Id                                                                              \n",
            "714      0.000000  0.673367       0.475410       0.181818  0.343972  0.327543   \n",
            "437      0.705882  0.703518       0.696721       0.300000  0.000000  0.464020   \n",
            "771      0.000000  0.728643       0.000000       0.000000  0.000000  0.548387   \n",
            "1012     0.352941  0.597990       0.409836       0.200000  0.208038  0.336228   \n",
            "2326     0.411765  0.979899       0.573770       0.300000  0.171395  0.311414   \n",
            "...           ...       ...            ...            ...       ...       ...   \n",
            "1752     0.117647  0.457286       0.508197       0.000000  0.000000  0.338710   \n",
            "2704     0.411765  0.804020       0.442623       0.290909  0.206856  0.378412   \n",
            "856      0.117647  0.502513       0.557377       0.227273  0.083924  0.477667   \n",
            "1285     0.529412  0.728643       0.721311       0.309091  0.195035  0.375931   \n",
            "2192     0.294118  0.482412       0.606557       0.163636  0.079196  0.416873   \n",
            "\n",
            "      DiabetesPedigreeFunction       Age  \n",
            "Id                                        \n",
            "714                   0.116994  0.000000  \n",
            "437                   0.070880  0.333333  \n",
            "771                   0.235696  0.166667  \n",
            "1012                  0.529462  0.200000  \n",
            "2326                  0.036294  0.566667  \n",
            "...                        ...       ...  \n",
            "1752                  0.190863  0.016667  \n",
            "2704                  0.217763  0.300000  \n",
            "856                   0.105038  0.083333  \n",
            "1285                  0.295901  0.533333  \n",
            "2192                  0.392400  0.366667  \n",
            "\n",
            "[554 rows x 8 columns]\n"
          ]
        }
      ]
    },
    {
      "cell_type": "code",
      "source": [
        "from sklearn.metrics import ConfusionMatrixDisplay, RocCurveDisplay\n",
        "\n",
        "X_test_numpy = X_test.values.astype(np.float32)\n",
        "\n",
        "y_pred = model.predict(X_test_numpy)\n",
        "\n",
        "ConfusionMatrixDisplay.from_predictions(y_test, y_pred.round())\n",
        "plt.show()\n",
        "\n",
        "RocCurveDisplay.from_predictions(y_test, y_pred, pos_label=1)\n",
        "plt.show()"
      ],
      "metadata": {
        "id": "xTqb8wS4IXzT",
        "colab": {
          "base_uri": "https://localhost:8080/",
          "height": 881
        },
        "outputId": "a4cf5fd3-1ca5-4091-9579-410703b6d842"
      },
      "execution_count": 91,
      "outputs": [
        {
          "output_type": "display_data",
          "data": {
            "text/plain": [
              "<Figure size 640x480 with 2 Axes>"
            ],
            "image/png": "[encoded data removed]"
          },
          "metadata": {}
        },
        {
          "output_type": "display_data",
          "data": {
            "text/plain": [
              "<Figure size 640x480 with 1 Axes>"
            ],
            "image/png": "[encoded data removed]"
          },
          "metadata": {}
        }
      ]
    },
    {
      "cell_type": "markdown",
      "source": [
        "# Завдання 6\n",
        "Збережіть нейромережу та зробіть прогноз"
      ],
      "metadata": {
        "id": "aoclw4XlgPhB"
      }
    },
    {
      "cell_type": "code",
      "source": [
        "torch.save(model.state_dict(), 'model.pth')"
      ],
      "metadata": {
        "id": "UzVFg-KjgYgy"
      },
      "execution_count": 92,
      "outputs": []
    },
    {
      "cell_type": "code",
      "source": [
        "model.load_state_dict(torch.load('model.pth'))"
      ],
      "metadata": {
        "colab": {
          "base_uri": "https://localhost:8080/"
        },
        "id": "yHpmi7IoOzQT",
        "outputId": "781fbd12-25a3-48cc-c876-aaf88880ede9"
      },
      "execution_count": 93,
      "outputs": [
        {
          "output_type": "execute_result",
          "data": {
            "text/plain": [
              "<All keys matched successfully>"
            ]
          },
          "metadata": {},
          "execution_count": 93
        }
      ]
    }
  ]
}