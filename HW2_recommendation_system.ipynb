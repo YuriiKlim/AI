{
  "nbformat": 4,
  "nbformat_minor": 0,
  "metadata": {
    "colab": {
      "provenance": [],
      "include_colab_link": true
    },
    "kernelspec": {
      "name": "python3",
      "display_name": "Python 3"
    },
    "language_info": {
      "name": "python"
    }
  },
  "cells": [
    {
      "cell_type": "markdown",
      "metadata": {
        "id": "view-in-github",
        "colab_type": "text"
      },
      "source": [
        "<a href=\"https://colab.research.google.com/github/YuriiKlim/AI/blob/learning_without_teacher/HW2_recommendation_system.ipynb\" target=\"_parent\"><img src=\"https://colab.research.google.com/assets/colab-badge.svg\" alt=\"Open In Colab\"/></a>"
      ]
    },
    {
      "cell_type": "markdown",
      "source": [
        "# Завдання\n",
        "\n",
        "* Створіть Reader\n",
        "* Створіть датасет та розділіть його на тренувальні та тестові дані\n",
        "* Виберіть метрики для поріняння якості моделей\n",
        "* На основі метрик виберіть найкращу модель\n",
        "\n"
      ],
      "metadata": {
        "id": "cpuh9s2eYX3v"
      }
    },
    {
      "cell_type": "code",
      "source": [
        "!pip install -q surprise"
      ],
      "metadata": {
        "id": "XkMcs8o5VXMf",
        "outputId": "bc1b2657-e352-401b-ead2-6711beba1bbc",
        "colab": {
          "base_uri": "https://localhost:8080/"
        }
      },
      "execution_count": 1,
      "outputs": [
        {
          "output_type": "stream",
          "name": "stdout",
          "text": [
            "\u001b[?25l     \u001b[90m━━━━━━━━━━━━━━━━━━━━━━━━━━━━━━━━━━━━━━━━\u001b[0m \u001b[32m0.0/154.4 kB\u001b[0m \u001b[31m?\u001b[0m eta \u001b[36m-:--:--\u001b[0m\r\u001b[2K     \u001b[91m━━━━━━━━━━━━━━━━━━━━━━━━━━━━━━━\u001b[0m\u001b[91m╸\u001b[0m\u001b[90m━━━━━━━━\u001b[0m \u001b[32m122.9/154.4 kB\u001b[0m \u001b[31m3.5 MB/s\u001b[0m eta \u001b[36m0:00:01\u001b[0m\r\u001b[2K     \u001b[90m━━━━━━━━━━━━━━━━━━━━━━━━━━━━━━━━━━━━━━━━\u001b[0m \u001b[32m154.4/154.4 kB\u001b[0m \u001b[31m2.6 MB/s\u001b[0m eta \u001b[36m0:00:00\u001b[0m\n",
            "\u001b[?25h  Installing build dependencies ... \u001b[?25l\u001b[?25hdone\n",
            "  Getting requirements to build wheel ... \u001b[?25l\u001b[?25hdone\n",
            "  Preparing metadata (pyproject.toml) ... \u001b[?25l\u001b[?25hdone\n",
            "  Building wheel for scikit-surprise (pyproject.toml) ... \u001b[?25l\u001b[?25hdone\n"
          ]
        }
      ]
    },
    {
      "cell_type": "code",
      "execution_count": 17,
      "metadata": {
        "colab": {
          "base_uri": "https://localhost:8080/",
          "height": 423
        },
        "id": "wIK2PWg8YMIs",
        "outputId": "15cfbf49-7875-4caa-8093-6ebddfd81c8b"
      },
      "outputs": [
        {
          "output_type": "execute_result",
          "data": {
            "text/plain": [
              "       user_id  movie_id  rating   timestamp\n",
              "0          172     94969     5.0  1396067836\n",
              "1          172     98956     4.0  1396067879\n",
              "2          176     73881     4.0  1499807147\n",
              "3          221      1900     4.5  1288550866\n",
              "4          333     33688     4.0  1412015122\n",
              "...        ...       ...     ...         ...\n",
              "17599   283147     51884     4.0  1180099240\n",
              "17600   283175      1900     4.5  1201692263\n",
              "17601   283188     35828     5.0  1448785273\n",
              "17602   283195      1900     4.5  1138601386\n",
              "17603   283195     51884     4.5  1192758024\n",
              "\n",
              "[17604 rows x 4 columns]"
            ],
            "text/html": [
              "\n",
              "  <div id=\"df-6401c064-16e4-4075-99aa-99815f18e253\" class=\"colab-df-container\">\n",
              "    <div>\n",
              "<style scoped>\n",
              "    .dataframe tbody tr th:only-of-type {\n",
              "        vertical-align: middle;\n",
              "    }\n",
              "\n",
              "    .dataframe tbody tr th {\n",
              "        vertical-align: top;\n",
              "    }\n",
              "\n",
              "    .dataframe thead th {\n",
              "        text-align: right;\n",
              "    }\n",
              "</style>\n",
              "<table border=\"1\" class=\"dataframe\">\n",
              "  <thead>\n",
              "    <tr style=\"text-align: right;\">\n",
              "      <th></th>\n",
              "      <th>user_id</th>\n",
              "      <th>movie_id</th>\n",
              "      <th>rating</th>\n",
              "      <th>timestamp</th>\n",
              "    </tr>\n",
              "  </thead>\n",
              "  <tbody>\n",
              "    <tr>\n",
              "      <th>0</th>\n",
              "      <td>172</td>\n",
              "      <td>94969</td>\n",
              "      <td>5.0</td>\n",
              "      <td>1396067836</td>\n",
              "    </tr>\n",
              "    <tr>\n",
              "      <th>1</th>\n",
              "      <td>172</td>\n",
              "      <td>98956</td>\n",
              "      <td>4.0</td>\n",
              "      <td>1396067879</td>\n",
              "    </tr>\n",
              "    <tr>\n",
              "      <th>2</th>\n",
              "      <td>176</td>\n",
              "      <td>73881</td>\n",
              "      <td>4.0</td>\n",
              "      <td>1499807147</td>\n",
              "    </tr>\n",
              "    <tr>\n",
              "      <th>3</th>\n",
              "      <td>221</td>\n",
              "      <td>1900</td>\n",
              "      <td>4.5</td>\n",
              "      <td>1288550866</td>\n",
              "    </tr>\n",
              "    <tr>\n",
              "      <th>4</th>\n",
              "      <td>333</td>\n",
              "      <td>33688</td>\n",
              "      <td>4.0</td>\n",
              "      <td>1412015122</td>\n",
              "    </tr>\n",
              "    <tr>\n",
              "      <th>...</th>\n",
              "      <td>...</td>\n",
              "      <td>...</td>\n",
              "      <td>...</td>\n",
              "      <td>...</td>\n",
              "    </tr>\n",
              "    <tr>\n",
              "      <th>17599</th>\n",
              "      <td>283147</td>\n",
              "      <td>51884</td>\n",
              "      <td>4.0</td>\n",
              "      <td>1180099240</td>\n",
              "    </tr>\n",
              "    <tr>\n",
              "      <th>17600</th>\n",
              "      <td>283175</td>\n",
              "      <td>1900</td>\n",
              "      <td>4.5</td>\n",
              "      <td>1201692263</td>\n",
              "    </tr>\n",
              "    <tr>\n",
              "      <th>17601</th>\n",
              "      <td>283188</td>\n",
              "      <td>35828</td>\n",
              "      <td>5.0</td>\n",
              "      <td>1448785273</td>\n",
              "    </tr>\n",
              "    <tr>\n",
              "      <th>17602</th>\n",
              "      <td>283195</td>\n",
              "      <td>1900</td>\n",
              "      <td>4.5</td>\n",
              "      <td>1138601386</td>\n",
              "    </tr>\n",
              "    <tr>\n",
              "      <th>17603</th>\n",
              "      <td>283195</td>\n",
              "      <td>51884</td>\n",
              "      <td>4.5</td>\n",
              "      <td>1192758024</td>\n",
              "    </tr>\n",
              "  </tbody>\n",
              "</table>\n",
              "<p>17604 rows × 4 columns</p>\n",
              "</div>\n",
              "    <div class=\"colab-df-buttons\">\n",
              "\n",
              "  <div class=\"colab-df-container\">\n",
              "    <button class=\"colab-df-convert\" onclick=\"convertToInteractive('df-6401c064-16e4-4075-99aa-99815f18e253')\"\n",
              "            title=\"Convert this dataframe to an interactive table.\"\n",
              "            style=\"display:none;\">\n",
              "\n",
              "  <svg xmlns=\"http://www.w3.org/2000/svg\" height=\"24px\" viewBox=\"0 -960 960 960\">\n",
              "    <path d=\"M120-120v-720h720v720H120Zm60-500h600v-160H180v160Zm220 220h160v-160H400v160Zm0 220h160v-160H400v160ZM180-400h160v-160H180v160Zm440 0h160v-160H620v160ZM180-180h160v-160H180v160Zm440 0h160v-160H620v160Z\"/>\n",
              "  </svg>\n",
              "    </button>\n",
              "\n",
              "  <style>\n",
              "    .colab-df-container {\n",
              "      display:flex;\n",
              "      gap: 12px;\n",
              "    }\n",
              "\n",
              "    .colab-df-convert {\n",
              "      background-color: #E8F0FE;\n",
              "      border: none;\n",
              "      border-radius: 50%;\n",
              "      cursor: pointer;\n",
              "      display: none;\n",
              "      fill: #1967D2;\n",
              "      height: 32px;\n",
              "      padding: 0 0 0 0;\n",
              "      width: 32px;\n",
              "    }\n",
              "\n",
              "    .colab-df-convert:hover {\n",
              "      background-color: #E2EBFA;\n",
              "      box-shadow: 0px 1px 2px rgba(60, 64, 67, 0.3), 0px 1px 3px 1px rgba(60, 64, 67, 0.15);\n",
              "      fill: #174EA6;\n",
              "    }\n",
              "\n",
              "    .colab-df-buttons div {\n",
              "      margin-bottom: 4px;\n",
              "    }\n",
              "\n",
              "    [theme=dark] .colab-df-convert {\n",
              "      background-color: #3B4455;\n",
              "      fill: #D2E3FC;\n",
              "    }\n",
              "\n",
              "    [theme=dark] .colab-df-convert:hover {\n",
              "      background-color: #434B5C;\n",
              "      box-shadow: 0px 1px 3px 1px rgba(0, 0, 0, 0.15);\n",
              "      filter: drop-shadow(0px 1px 2px rgba(0, 0, 0, 0.3));\n",
              "      fill: #FFFFFF;\n",
              "    }\n",
              "  </style>\n",
              "\n",
              "    <script>\n",
              "      const buttonEl =\n",
              "        document.querySelector('#df-6401c064-16e4-4075-99aa-99815f18e253 button.colab-df-convert');\n",
              "      buttonEl.style.display =\n",
              "        google.colab.kernel.accessAllowed ? 'block' : 'none';\n",
              "\n",
              "      async function convertToInteractive(key) {\n",
              "        const element = document.querySelector('#df-6401c064-16e4-4075-99aa-99815f18e253');\n",
              "        const dataTable =\n",
              "          await google.colab.kernel.invokeFunction('convertToInteractive',\n",
              "                                                    [key], {});\n",
              "        if (!dataTable) return;\n",
              "\n",
              "        const docLinkHtml = 'Like what you see? Visit the ' +\n",
              "          '<a target=\"_blank\" href=https://colab.research.google.com/notebooks/data_table.ipynb>data table notebook</a>'\n",
              "          + ' to learn more about interactive tables.';\n",
              "        element.innerHTML = '';\n",
              "        dataTable['output_type'] = 'display_data';\n",
              "        await google.colab.output.renderOutput(dataTable, element);\n",
              "        const docLink = document.createElement('div');\n",
              "        docLink.innerHTML = docLinkHtml;\n",
              "        element.appendChild(docLink);\n",
              "      }\n",
              "    </script>\n",
              "  </div>\n",
              "\n",
              "\n",
              "<div id=\"df-f2a1cea8-8d3e-4d30-b071-d8ec46fb622b\">\n",
              "  <button class=\"colab-df-quickchart\" onclick=\"quickchart('df-f2a1cea8-8d3e-4d30-b071-d8ec46fb622b')\"\n",
              "            title=\"Suggest charts\"\n",
              "            style=\"display:none;\">\n",
              "\n",
              "<svg xmlns=\"http://www.w3.org/2000/svg\" height=\"24px\"viewBox=\"0 0 24 24\"\n",
              "     width=\"24px\">\n",
              "    <g>\n",
              "        <path d=\"M19 3H5c-1.1 0-2 .9-2 2v14c0 1.1.9 2 2 2h14c1.1 0 2-.9 2-2V5c0-1.1-.9-2-2-2zM9 17H7v-7h2v7zm4 0h-2V7h2v10zm4 0h-2v-4h2v4z\"/>\n",
              "    </g>\n",
              "</svg>\n",
              "  </button>\n",
              "\n",
              "<style>\n",
              "  .colab-df-quickchart {\n",
              "      --bg-color: #E8F0FE;\n",
              "      --fill-color: #1967D2;\n",
              "      --hover-bg-color: #E2EBFA;\n",
              "      --hover-fill-color: #174EA6;\n",
              "      --disabled-fill-color: #AAA;\n",
              "      --disabled-bg-color: #DDD;\n",
              "  }\n",
              "\n",
              "  [theme=dark] .colab-df-quickchart {\n",
              "      --bg-color: #3B4455;\n",
              "      --fill-color: #D2E3FC;\n",
              "      --hover-bg-color: #434B5C;\n",
              "      --hover-fill-color: #FFFFFF;\n",
              "      --disabled-bg-color: #3B4455;\n",
              "      --disabled-fill-color: #666;\n",
              "  }\n",
              "\n",
              "  .colab-df-quickchart {\n",
              "    background-color: var(--bg-color);\n",
              "    border: none;\n",
              "    border-radius: 50%;\n",
              "    cursor: pointer;\n",
              "    display: none;\n",
              "    fill: var(--fill-color);\n",
              "    height: 32px;\n",
              "    padding: 0;\n",
              "    width: 32px;\n",
              "  }\n",
              "\n",
              "  .colab-df-quickchart:hover {\n",
              "    background-color: var(--hover-bg-color);\n",
              "    box-shadow: 0 1px 2px rgba(60, 64, 67, 0.3), 0 1px 3px 1px rgba(60, 64, 67, 0.15);\n",
              "    fill: var(--button-hover-fill-color);\n",
              "  }\n",
              "\n",
              "  .colab-df-quickchart-complete:disabled,\n",
              "  .colab-df-quickchart-complete:disabled:hover {\n",
              "    background-color: var(--disabled-bg-color);\n",
              "    fill: var(--disabled-fill-color);\n",
              "    box-shadow: none;\n",
              "  }\n",
              "\n",
              "  .colab-df-spinner {\n",
              "    border: 2px solid var(--fill-color);\n",
              "    border-color: transparent;\n",
              "    border-bottom-color: var(--fill-color);\n",
              "    animation:\n",
              "      spin 1s steps(1) infinite;\n",
              "  }\n",
              "\n",
              "  @keyframes spin {\n",
              "    0% {\n",
              "      border-color: transparent;\n",
              "      border-bottom-color: var(--fill-color);\n",
              "      border-left-color: var(--fill-color);\n",
              "    }\n",
              "    20% {\n",
              "      border-color: transparent;\n",
              "      border-left-color: var(--fill-color);\n",
              "      border-top-color: var(--fill-color);\n",
              "    }\n",
              "    30% {\n",
              "      border-color: transparent;\n",
              "      border-left-color: var(--fill-color);\n",
              "      border-top-color: var(--fill-color);\n",
              "      border-right-color: var(--fill-color);\n",
              "    }\n",
              "    40% {\n",
              "      border-color: transparent;\n",
              "      border-right-color: var(--fill-color);\n",
              "      border-top-color: var(--fill-color);\n",
              "    }\n",
              "    60% {\n",
              "      border-color: transparent;\n",
              "      border-right-color: var(--fill-color);\n",
              "    }\n",
              "    80% {\n",
              "      border-color: transparent;\n",
              "      border-right-color: var(--fill-color);\n",
              "      border-bottom-color: var(--fill-color);\n",
              "    }\n",
              "    90% {\n",
              "      border-color: transparent;\n",
              "      border-bottom-color: var(--fill-color);\n",
              "    }\n",
              "  }\n",
              "</style>\n",
              "\n",
              "  <script>\n",
              "    async function quickchart(key) {\n",
              "      const quickchartButtonEl =\n",
              "        document.querySelector('#' + key + ' button');\n",
              "      quickchartButtonEl.disabled = true;  // To prevent multiple clicks.\n",
              "      quickchartButtonEl.classList.add('colab-df-spinner');\n",
              "      try {\n",
              "        const charts = await google.colab.kernel.invokeFunction(\n",
              "            'suggestCharts', [key], {});\n",
              "      } catch (error) {\n",
              "        console.error('Error during call to suggestCharts:', error);\n",
              "      }\n",
              "      quickchartButtonEl.classList.remove('colab-df-spinner');\n",
              "      quickchartButtonEl.classList.add('colab-df-quickchart-complete');\n",
              "    }\n",
              "    (() => {\n",
              "      let quickchartButtonEl =\n",
              "        document.querySelector('#df-f2a1cea8-8d3e-4d30-b071-d8ec46fb622b button');\n",
              "      quickchartButtonEl.style.display =\n",
              "        google.colab.kernel.accessAllowed ? 'block' : 'none';\n",
              "    })();\n",
              "  </script>\n",
              "</div>\n",
              "    </div>\n",
              "  </div>\n"
            ],
            "application/vnd.google.colaboratory.intrinsic+json": {
              "type": "dataframe",
              "variable_name": "df",
              "summary": "{\n  \"name\": \"df\",\n  \"rows\": 17604,\n  \"fields\": [\n    {\n      \"column\": \"user_id\",\n      \"properties\": {\n        \"dtype\": \"number\",\n        \"std\": 81731,\n        \"min\": 172,\n        \"max\": 283195,\n        \"num_unique_values\": 5667,\n        \"samples\": [\n          236287,\n          217639,\n          248726\n        ],\n        \"semantic_type\": \"\",\n        \"description\": \"\"\n      }\n    },\n    {\n      \"column\": \"movie_id\",\n      \"properties\": {\n        \"dtype\": \"number\",\n        \"std\": 51285,\n        \"min\": 139,\n        \"max\": 193843,\n        \"num_unique_values\": 779,\n        \"samples\": [\n          146184,\n          135791,\n          141201\n        ],\n        \"semantic_type\": \"\",\n        \"description\": \"\"\n      }\n    },\n    {\n      \"column\": \"rating\",\n      \"properties\": {\n        \"dtype\": \"number\",\n        \"std\": 1.203144353497351,\n        \"min\": 0.5,\n        \"max\": 5.0,\n        \"num_unique_values\": 10,\n        \"samples\": [\n          1.0,\n          4.0,\n          0.5\n        ],\n        \"semantic_type\": \"\",\n        \"description\": \"\"\n      }\n    },\n    {\n      \"column\": \"timestamp\",\n      \"properties\": {\n        \"dtype\": \"number\",\n        \"std\": 151508281,\n        \"min\": 828222421,\n        \"max\": 1537933852,\n        \"num_unique_values\": 16385,\n        \"samples\": [\n          1461617327,\n          1494358048,\n          1489828939\n        ],\n        \"semantic_type\": \"\",\n        \"description\": \"\"\n      }\n    }\n  ]\n}"
            }
          },
          "metadata": {},
          "execution_count": 17
        }
      ],
      "source": [
        "from surprise import BaselineOnly\n",
        "from surprise import KNNBasic\n",
        "from surprise import BaselineOnly, accuracy\n",
        "from surprise import CoClustering\n",
        "import pandas as pd\n",
        "\n",
        "df = pd.read_csv(\"https://raw.githubusercontent.com/HalyshAnton/IT-Step-Pyton-AI/main/module7/data/ratings.csv\")\n",
        "\n",
        "df"
      ]
    },
    {
      "cell_type": "code",
      "source": [
        "df.describe()"
      ],
      "metadata": {
        "id": "B5IDjPS_Ze9U",
        "outputId": "b2fb1d08-ee4c-4cb0-a146-efcd1dfc9886",
        "colab": {
          "base_uri": "https://localhost:8080/",
          "height": 300
        }
      },
      "execution_count": 3,
      "outputs": [
        {
          "output_type": "execute_result",
          "data": {
            "text/plain": [
              "             user_id       movie_id        rating     timestamp\n",
              "count   17604.000000   17604.000000  17604.000000  1.760400e+04\n",
              "mean   141251.609009   88913.605942      3.465945  1.403256e+09\n",
              "std     81731.882435   51285.238375      1.203144  1.515083e+08\n",
              "min       172.000000     139.000000      0.500000  8.282224e+08\n",
              "25%     71256.000000   55098.000000      3.000000  1.395695e+09\n",
              "50%    138487.000000   89554.000000      3.500000  1.456552e+09\n",
              "75%    210264.500000  134779.500000      4.500000  1.494418e+09\n",
              "max    283195.000000  193843.000000      5.000000  1.537934e+09"
            ],
            "text/html": [
              "\n",
              "  <div id=\"df-4e9eb758-963b-4961-b215-8e22dc8c7226\" class=\"colab-df-container\">\n",
              "    <div>\n",
              "<style scoped>\n",
              "    .dataframe tbody tr th:only-of-type {\n",
              "        vertical-align: middle;\n",
              "    }\n",
              "\n",
              "    .dataframe tbody tr th {\n",
              "        vertical-align: top;\n",
              "    }\n",
              "\n",
              "    .dataframe thead th {\n",
              "        text-align: right;\n",
              "    }\n",
              "</style>\n",
              "<table border=\"1\" class=\"dataframe\">\n",
              "  <thead>\n",
              "    <tr style=\"text-align: right;\">\n",
              "      <th></th>\n",
              "      <th>user_id</th>\n",
              "      <th>movie_id</th>\n",
              "      <th>rating</th>\n",
              "      <th>timestamp</th>\n",
              "    </tr>\n",
              "  </thead>\n",
              "  <tbody>\n",
              "    <tr>\n",
              "      <th>count</th>\n",
              "      <td>17604.000000</td>\n",
              "      <td>17604.000000</td>\n",
              "      <td>17604.000000</td>\n",
              "      <td>1.760400e+04</td>\n",
              "    </tr>\n",
              "    <tr>\n",
              "      <th>mean</th>\n",
              "      <td>141251.609009</td>\n",
              "      <td>88913.605942</td>\n",
              "      <td>3.465945</td>\n",
              "      <td>1.403256e+09</td>\n",
              "    </tr>\n",
              "    <tr>\n",
              "      <th>std</th>\n",
              "      <td>81731.882435</td>\n",
              "      <td>51285.238375</td>\n",
              "      <td>1.203144</td>\n",
              "      <td>1.515083e+08</td>\n",
              "    </tr>\n",
              "    <tr>\n",
              "      <th>min</th>\n",
              "      <td>172.000000</td>\n",
              "      <td>139.000000</td>\n",
              "      <td>0.500000</td>\n",
              "      <td>8.282224e+08</td>\n",
              "    </tr>\n",
              "    <tr>\n",
              "      <th>25%</th>\n",
              "      <td>71256.000000</td>\n",
              "      <td>55098.000000</td>\n",
              "      <td>3.000000</td>\n",
              "      <td>1.395695e+09</td>\n",
              "    </tr>\n",
              "    <tr>\n",
              "      <th>50%</th>\n",
              "      <td>138487.000000</td>\n",
              "      <td>89554.000000</td>\n",
              "      <td>3.500000</td>\n",
              "      <td>1.456552e+09</td>\n",
              "    </tr>\n",
              "    <tr>\n",
              "      <th>75%</th>\n",
              "      <td>210264.500000</td>\n",
              "      <td>134779.500000</td>\n",
              "      <td>4.500000</td>\n",
              "      <td>1.494418e+09</td>\n",
              "    </tr>\n",
              "    <tr>\n",
              "      <th>max</th>\n",
              "      <td>283195.000000</td>\n",
              "      <td>193843.000000</td>\n",
              "      <td>5.000000</td>\n",
              "      <td>1.537934e+09</td>\n",
              "    </tr>\n",
              "  </tbody>\n",
              "</table>\n",
              "</div>\n",
              "    <div class=\"colab-df-buttons\">\n",
              "\n",
              "  <div class=\"colab-df-container\">\n",
              "    <button class=\"colab-df-convert\" onclick=\"convertToInteractive('df-4e9eb758-963b-4961-b215-8e22dc8c7226')\"\n",
              "            title=\"Convert this dataframe to an interactive table.\"\n",
              "            style=\"display:none;\">\n",
              "\n",
              "  <svg xmlns=\"http://www.w3.org/2000/svg\" height=\"24px\" viewBox=\"0 -960 960 960\">\n",
              "    <path d=\"M120-120v-720h720v720H120Zm60-500h600v-160H180v160Zm220 220h160v-160H400v160Zm0 220h160v-160H400v160ZM180-400h160v-160H180v160Zm440 0h160v-160H620v160ZM180-180h160v-160H180v160Zm440 0h160v-160H620v160Z\"/>\n",
              "  </svg>\n",
              "    </button>\n",
              "\n",
              "  <style>\n",
              "    .colab-df-container {\n",
              "      display:flex;\n",
              "      gap: 12px;\n",
              "    }\n",
              "\n",
              "    .colab-df-convert {\n",
              "      background-color: #E8F0FE;\n",
              "      border: none;\n",
              "      border-radius: 50%;\n",
              "      cursor: pointer;\n",
              "      display: none;\n",
              "      fill: #1967D2;\n",
              "      height: 32px;\n",
              "      padding: 0 0 0 0;\n",
              "      width: 32px;\n",
              "    }\n",
              "\n",
              "    .colab-df-convert:hover {\n",
              "      background-color: #E2EBFA;\n",
              "      box-shadow: 0px 1px 2px rgba(60, 64, 67, 0.3), 0px 1px 3px 1px rgba(60, 64, 67, 0.15);\n",
              "      fill: #174EA6;\n",
              "    }\n",
              "\n",
              "    .colab-df-buttons div {\n",
              "      margin-bottom: 4px;\n",
              "    }\n",
              "\n",
              "    [theme=dark] .colab-df-convert {\n",
              "      background-color: #3B4455;\n",
              "      fill: #D2E3FC;\n",
              "    }\n",
              "\n",
              "    [theme=dark] .colab-df-convert:hover {\n",
              "      background-color: #434B5C;\n",
              "      box-shadow: 0px 1px 3px 1px rgba(0, 0, 0, 0.15);\n",
              "      filter: drop-shadow(0px 1px 2px rgba(0, 0, 0, 0.3));\n",
              "      fill: #FFFFFF;\n",
              "    }\n",
              "  </style>\n",
              "\n",
              "    <script>\n",
              "      const buttonEl =\n",
              "        document.querySelector('#df-4e9eb758-963b-4961-b215-8e22dc8c7226 button.colab-df-convert');\n",
              "      buttonEl.style.display =\n",
              "        google.colab.kernel.accessAllowed ? 'block' : 'none';\n",
              "\n",
              "      async function convertToInteractive(key) {\n",
              "        const element = document.querySelector('#df-4e9eb758-963b-4961-b215-8e22dc8c7226');\n",
              "        const dataTable =\n",
              "          await google.colab.kernel.invokeFunction('convertToInteractive',\n",
              "                                                    [key], {});\n",
              "        if (!dataTable) return;\n",
              "\n",
              "        const docLinkHtml = 'Like what you see? Visit the ' +\n",
              "          '<a target=\"_blank\" href=https://colab.research.google.com/notebooks/data_table.ipynb>data table notebook</a>'\n",
              "          + ' to learn more about interactive tables.';\n",
              "        element.innerHTML = '';\n",
              "        dataTable['output_type'] = 'display_data';\n",
              "        await google.colab.output.renderOutput(dataTable, element);\n",
              "        const docLink = document.createElement('div');\n",
              "        docLink.innerHTML = docLinkHtml;\n",
              "        element.appendChild(docLink);\n",
              "      }\n",
              "    </script>\n",
              "  </div>\n",
              "\n",
              "\n",
              "<div id=\"df-c29c51b7-594d-4eb6-9f99-c485caee5126\">\n",
              "  <button class=\"colab-df-quickchart\" onclick=\"quickchart('df-c29c51b7-594d-4eb6-9f99-c485caee5126')\"\n",
              "            title=\"Suggest charts\"\n",
              "            style=\"display:none;\">\n",
              "\n",
              "<svg xmlns=\"http://www.w3.org/2000/svg\" height=\"24px\"viewBox=\"0 0 24 24\"\n",
              "     width=\"24px\">\n",
              "    <g>\n",
              "        <path d=\"M19 3H5c-1.1 0-2 .9-2 2v14c0 1.1.9 2 2 2h14c1.1 0 2-.9 2-2V5c0-1.1-.9-2-2-2zM9 17H7v-7h2v7zm4 0h-2V7h2v10zm4 0h-2v-4h2v4z\"/>\n",
              "    </g>\n",
              "</svg>\n",
              "  </button>\n",
              "\n",
              "<style>\n",
              "  .colab-df-quickchart {\n",
              "      --bg-color: #E8F0FE;\n",
              "      --fill-color: #1967D2;\n",
              "      --hover-bg-color: #E2EBFA;\n",
              "      --hover-fill-color: #174EA6;\n",
              "      --disabled-fill-color: #AAA;\n",
              "      --disabled-bg-color: #DDD;\n",
              "  }\n",
              "\n",
              "  [theme=dark] .colab-df-quickchart {\n",
              "      --bg-color: #3B4455;\n",
              "      --fill-color: #D2E3FC;\n",
              "      --hover-bg-color: #434B5C;\n",
              "      --hover-fill-color: #FFFFFF;\n",
              "      --disabled-bg-color: #3B4455;\n",
              "      --disabled-fill-color: #666;\n",
              "  }\n",
              "\n",
              "  .colab-df-quickchart {\n",
              "    background-color: var(--bg-color);\n",
              "    border: none;\n",
              "    border-radius: 50%;\n",
              "    cursor: pointer;\n",
              "    display: none;\n",
              "    fill: var(--fill-color);\n",
              "    height: 32px;\n",
              "    padding: 0;\n",
              "    width: 32px;\n",
              "  }\n",
              "\n",
              "  .colab-df-quickchart:hover {\n",
              "    background-color: var(--hover-bg-color);\n",
              "    box-shadow: 0 1px 2px rgba(60, 64, 67, 0.3), 0 1px 3px 1px rgba(60, 64, 67, 0.15);\n",
              "    fill: var(--button-hover-fill-color);\n",
              "  }\n",
              "\n",
              "  .colab-df-quickchart-complete:disabled,\n",
              "  .colab-df-quickchart-complete:disabled:hover {\n",
              "    background-color: var(--disabled-bg-color);\n",
              "    fill: var(--disabled-fill-color);\n",
              "    box-shadow: none;\n",
              "  }\n",
              "\n",
              "  .colab-df-spinner {\n",
              "    border: 2px solid var(--fill-color);\n",
              "    border-color: transparent;\n",
              "    border-bottom-color: var(--fill-color);\n",
              "    animation:\n",
              "      spin 1s steps(1) infinite;\n",
              "  }\n",
              "\n",
              "  @keyframes spin {\n",
              "    0% {\n",
              "      border-color: transparent;\n",
              "      border-bottom-color: var(--fill-color);\n",
              "      border-left-color: var(--fill-color);\n",
              "    }\n",
              "    20% {\n",
              "      border-color: transparent;\n",
              "      border-left-color: var(--fill-color);\n",
              "      border-top-color: var(--fill-color);\n",
              "    }\n",
              "    30% {\n",
              "      border-color: transparent;\n",
              "      border-left-color: var(--fill-color);\n",
              "      border-top-color: var(--fill-color);\n",
              "      border-right-color: var(--fill-color);\n",
              "    }\n",
              "    40% {\n",
              "      border-color: transparent;\n",
              "      border-right-color: var(--fill-color);\n",
              "      border-top-color: var(--fill-color);\n",
              "    }\n",
              "    60% {\n",
              "      border-color: transparent;\n",
              "      border-right-color: var(--fill-color);\n",
              "    }\n",
              "    80% {\n",
              "      border-color: transparent;\n",
              "      border-right-color: var(--fill-color);\n",
              "      border-bottom-color: var(--fill-color);\n",
              "    }\n",
              "    90% {\n",
              "      border-color: transparent;\n",
              "      border-bottom-color: var(--fill-color);\n",
              "    }\n",
              "  }\n",
              "</style>\n",
              "\n",
              "  <script>\n",
              "    async function quickchart(key) {\n",
              "      const quickchartButtonEl =\n",
              "        document.querySelector('#' + key + ' button');\n",
              "      quickchartButtonEl.disabled = true;  // To prevent multiple clicks.\n",
              "      quickchartButtonEl.classList.add('colab-df-spinner');\n",
              "      try {\n",
              "        const charts = await google.colab.kernel.invokeFunction(\n",
              "            'suggestCharts', [key], {});\n",
              "      } catch (error) {\n",
              "        console.error('Error during call to suggestCharts:', error);\n",
              "      }\n",
              "      quickchartButtonEl.classList.remove('colab-df-spinner');\n",
              "      quickchartButtonEl.classList.add('colab-df-quickchart-complete');\n",
              "    }\n",
              "    (() => {\n",
              "      let quickchartButtonEl =\n",
              "        document.querySelector('#df-c29c51b7-594d-4eb6-9f99-c485caee5126 button');\n",
              "      quickchartButtonEl.style.display =\n",
              "        google.colab.kernel.accessAllowed ? 'block' : 'none';\n",
              "    })();\n",
              "  </script>\n",
              "</div>\n",
              "    </div>\n",
              "  </div>\n"
            ],
            "application/vnd.google.colaboratory.intrinsic+json": {
              "type": "dataframe",
              "summary": "{\n  \"name\": \"df\",\n  \"rows\": 8,\n  \"fields\": [\n    {\n      \"column\": \"user_id\",\n      \"properties\": {\n        \"dtype\": \"number\",\n        \"std\": 95786.70693854098,\n        \"min\": 172.0,\n        \"max\": 283195.0,\n        \"num_unique_values\": 8,\n        \"samples\": [\n          141251.60900931607,\n          138487.0,\n          17604.0\n        ],\n        \"semantic_type\": \"\",\n        \"description\": \"\"\n      }\n    },\n    {\n      \"column\": \"movie_id\",\n      \"properties\": {\n        \"dtype\": \"number\",\n        \"std\": 63062.09723802972,\n        \"min\": 139.0,\n        \"max\": 193843.0,\n        \"num_unique_values\": 8,\n        \"samples\": [\n          88913.6059418314,\n          89554.0,\n          17604.0\n        ],\n        \"semantic_type\": \"\",\n        \"description\": \"\"\n      }\n    },\n    {\n      \"column\": \"rating\",\n      \"properties\": {\n        \"dtype\": \"number\",\n        \"std\": 6222.884873372509,\n        \"min\": 0.5,\n        \"max\": 17604.0,\n        \"num_unique_values\": 8,\n        \"samples\": [\n          3.4659452397182458,\n          3.5,\n          17604.0\n        ],\n        \"semantic_type\": \"\",\n        \"description\": \"\"\n      }\n    },\n    {\n      \"column\": \"timestamp\",\n      \"properties\": {\n        \"dtype\": \"number\",\n        \"std\": 632671310.8885015,\n        \"min\": 17604.0,\n        \"max\": 1537933852.0,\n        \"num_unique_values\": 8,\n        \"samples\": [\n          1403256438.7448876,\n          1456552342.5,\n          17604.0\n        ],\n        \"semantic_type\": \"\",\n        \"description\": \"\"\n      }\n    }\n  ]\n}"
            }
          },
          "metadata": {},
          "execution_count": 3
        }
      ]
    },
    {
      "cell_type": "code",
      "source": [
        "from surprise import Dataset, SVD, Reader\n",
        "\n",
        "reader = Reader(rating_scale=(0.5, 5))\n",
        "\n",
        "data = Dataset.load_from_df(df[[\"user_id\", \"movie_id\", \"rating\"]], reader)"
      ],
      "metadata": {
        "id": "soZjhUjuSQWs"
      },
      "execution_count": 18,
      "outputs": []
    },
    {
      "cell_type": "code",
      "source": [
        "from surprise.model_selection import train_test_split\n",
        "\n",
        "trainset, testset = train_test_split(data, train_size=0.8)"
      ],
      "metadata": {
        "id": "yJy1t6qXV3Kl"
      },
      "execution_count": 19,
      "outputs": []
    },
    {
      "cell_type": "code",
      "source": [
        "!pip install optuna\n",
        "import optuna"
      ],
      "metadata": {
        "id": "ISjJxjjyV571",
        "outputId": "61a4323b-035c-4430-a350-551c516b95c3",
        "colab": {
          "base_uri": "https://localhost:8080/"
        }
      },
      "execution_count": 20,
      "outputs": [
        {
          "output_type": "stream",
          "name": "stdout",
          "text": [
            "Requirement already satisfied: optuna in /usr/local/lib/python3.10/dist-packages (4.0.0)\n",
            "Requirement already satisfied: alembic>=1.5.0 in /usr/local/lib/python3.10/dist-packages (from optuna) (1.13.2)\n",
            "Requirement already satisfied: colorlog in /usr/local/lib/python3.10/dist-packages (from optuna) (6.8.2)\n",
            "Requirement already satisfied: numpy in /usr/local/lib/python3.10/dist-packages (from optuna) (1.26.4)\n",
            "Requirement already satisfied: packaging>=20.0 in /usr/local/lib/python3.10/dist-packages (from optuna) (24.1)\n",
            "Requirement already satisfied: sqlalchemy>=1.3.0 in /usr/local/lib/python3.10/dist-packages (from optuna) (2.0.32)\n",
            "Requirement already satisfied: tqdm in /usr/local/lib/python3.10/dist-packages (from optuna) (4.66.5)\n",
            "Requirement already satisfied: PyYAML in /usr/local/lib/python3.10/dist-packages (from optuna) (6.0.2)\n",
            "Requirement already satisfied: Mako in /usr/local/lib/python3.10/dist-packages (from alembic>=1.5.0->optuna) (1.3.5)\n",
            "Requirement already satisfied: typing-extensions>=4 in /usr/local/lib/python3.10/dist-packages (from alembic>=1.5.0->optuna) (4.12.2)\n",
            "Requirement already satisfied: greenlet!=0.4.17 in /usr/local/lib/python3.10/dist-packages (from sqlalchemy>=1.3.0->optuna) (3.0.3)\n",
            "Requirement already satisfied: MarkupSafe>=0.9.2 in /usr/local/lib/python3.10/dist-packages (from Mako->alembic>=1.5.0->optuna) (2.1.5)\n"
          ]
        }
      ]
    },
    {
      "cell_type": "code",
      "source": [
        "def objective(trial):\n",
        "    try:\n",
        "        algorithm = trial.suggest_categorical('algorithm', ['BaselineOnly', 'SVD', 'KNNBasic', 'CoClustering'])\n",
        "\n",
        "        if algorithm == 'BaselineOnly':\n",
        "            method = trial.suggest_categorical('method', ['als', 'sgd'])\n",
        "            reg_u = trial.suggest_float('reg_u', 1e-5, 1e-1, log=True)\n",
        "            reg_i = trial.suggest_float('reg_i', 1e-5, 1e-1, log=True)\n",
        "            bsl_options = {'method': method, 'reg_u': reg_u, 'reg_i': reg_i}\n",
        "            algo = BaselineOnly(bsl_options=bsl_options)\n",
        "\n",
        "        elif algorithm == 'SVD':\n",
        "            n_factors = trial.suggest_int('n_factors', 20, 200)\n",
        "            n_epochs = trial.suggest_int('n_epochs', 5, 50)\n",
        "            lr_all = trial.suggest_float('lr_all', 1e-4, 1e-1, log=True)\n",
        "            reg_all = trial.suggest_float('reg_all', 1e-4, 1e-1, log=True)\n",
        "            algo = SVD(n_factors=n_factors, n_epochs=n_epochs, lr_all=lr_all, reg_all=reg_all)\n",
        "\n",
        "        elif algorithm == 'KNNBasic':\n",
        "            k = trial.suggest_int('k', 10, 50)\n",
        "            min_k = trial.suggest_int('min_k', 1, 5)\n",
        "            sim_options = {\n",
        "                'name': trial.suggest_categorical('name', ['cosine', 'pearson']),\n",
        "                'user_based': trial.suggest_categorical('user_based', [True, False])\n",
        "            }\n",
        "            algo = KNNBasic(k=k, min_k=min_k, sim_options=sim_options)\n",
        "\n",
        "        elif algorithm == 'CoClustering':\n",
        "            n_cltr_u = trial.suggest_int('n_cltr_u', 3, 10)\n",
        "            n_cltr_i = trial.suggest_int('n_cltr_i', 3, 10)\n",
        "            n_epochs = trial.suggest_int('n_epochs', 20, 50)\n",
        "            algo = CoClustering(n_cltr_u=n_cltr_u, n_cltr_i=n_cltr_i, n_epochs=n_epochs)\n",
        "\n",
        "        algo.fit(trainset)\n",
        "\n",
        "        predictions = algo.test(testset)\n",
        "        rmse = accuracy.rmse(predictions, verbose=False)\n",
        "\n",
        "        return rmse\n",
        "\n",
        "    except Exception as e:\n",
        "        print(f\"Trial failed with exception: {e}\")\n",
        "        raise optuna.exceptions.TrialPruned()"
      ],
      "metadata": {
        "id": "7LVqVLxyV8Z6"
      },
      "execution_count": 21,
      "outputs": []
    },
    {
      "cell_type": "code",
      "source": [
        "study = optuna.create_study(direction=\"minimize\")\n",
        "study.optimize(objective, n_trials=1000)"
      ],
      "metadata": {
        "id": "4g33Ew27WNB7",
        "outputId": "f3cfc0a3-719e-445e-a6f7-15867e99cb93",
        "colab": {
          "base_uri": "https://localhost:8080/"
        }
      },
      "execution_count": 30,
      "outputs": [
        {
          "output_type": "stream",
          "name": "stderr",
          "text": [
            "[I 2024-09-02 15:39:25,638] A new study created in memory with name: no-name-6c5e11e2-be32-4928-8bd9-35a6ddbe1061\n",
            "[I 2024-09-02 15:39:27,210] Trial 0 finished with value: 1.0324518581040218 and parameters: {'algorithm': 'CoClustering', 'n_cltr_u': 10, 'n_cltr_i': 6, 'n_epochs': 36}. Best is trial 0 with value: 1.0324518581040218.\n",
            "[I 2024-09-02 15:39:27,328] Trial 1 finished with value: 0.9594124318030148 and parameters: {'algorithm': 'BaselineOnly', 'method': 'sgd', 'reg_u': 0.00027539894750311557, 'reg_i': 0.003809200632583917}. Best is trial 1 with value: 0.9594124318030148.\n"
          ]
        },
        {
          "output_type": "stream",
          "name": "stdout",
          "text": [
            "Estimating biases using sgd...\n",
            "Computing the pearson similarity matrix...\n",
            "Done computing similarity matrix.\n"
          ]
        },
        {
          "output_type": "stream",
          "name": "stderr",
          "text": [
            "[I 2024-09-02 15:39:27,691] Trial 2 finished with value: 1.033698879480597 and parameters: {'algorithm': 'KNNBasic', 'k': 48, 'min_k': 2, 'name': 'pearson', 'user_based': False}. Best is trial 1 with value: 0.9594124318030148.\n",
            "[I 2024-09-02 15:39:27,751] Trial 3 finished with value: 0.9351975784979176 and parameters: {'algorithm': 'BaselineOnly', 'method': 'als', 'reg_u': 0.00046230099173509917, 'reg_i': 4.255578282366267e-05}. Best is trial 3 with value: 0.9351975784979176.\n"
          ]
        },
        {
          "output_type": "stream",
          "name": "stdout",
          "text": [
            "Estimating biases using als...\n",
            "Computing the cosine similarity matrix...\n",
            "Done computing similarity matrix.\n"
          ]
        },
        {
          "output_type": "stream",
          "name": "stderr",
          "text": [
            "[I 2024-09-02 15:39:28,022] Trial 4 finished with value: 1.0077960588970545 and parameters: {'algorithm': 'KNNBasic', 'k': 30, 'min_k': 1, 'name': 'cosine', 'user_based': False}. Best is trial 3 with value: 0.9351975784979176.\n"
          ]
        },
        {
          "output_type": "stream",
          "name": "stdout",
          "text": [
            "Computing the pearson similarity matrix...\n",
            "Done computing similarity matrix.\n"
          ]
        },
        {
          "output_type": "stream",
          "name": "stderr",
          "text": [
            "[I 2024-09-02 15:39:30,278] Trial 5 finished with value: 1.1575277980014071 and parameters: {'algorithm': 'KNNBasic', 'k': 47, 'min_k': 2, 'name': 'pearson', 'user_based': True}. Best is trial 3 with value: 0.9351975784979176.\n"
          ]
        },
        {
          "output_type": "stream",
          "name": "stdout",
          "text": [
            "Computing the pearson similarity matrix...\n",
            "Done computing similarity matrix.\n"
          ]
        },
        {
          "output_type": "stream",
          "name": "stderr",
          "text": [
            "[I 2024-09-02 15:39:30,531] Trial 6 finished with value: 1.0638273442128516 and parameters: {'algorithm': 'KNNBasic', 'k': 25, 'min_k': 4, 'name': 'pearson', 'user_based': False}. Best is trial 3 with value: 0.9351975784979176.\n"
          ]
        },
        {
          "output_type": "stream",
          "name": "stdout",
          "text": [
            "Computing the pearson similarity matrix...\n",
            "Done computing similarity matrix.\n"
          ]
        },
        {
          "output_type": "stream",
          "name": "stderr",
          "text": [
            "[I 2024-09-02 15:39:32,749] Trial 7 finished with value: 1.1557468224497314 and parameters: {'algorithm': 'KNNBasic', 'k': 49, 'min_k': 1, 'name': 'pearson', 'user_based': True}. Best is trial 3 with value: 0.9351975784979176.\n",
            "[I 2024-09-02 15:39:32,844] Trial 8 finished with value: 0.9594124318030148 and parameters: {'algorithm': 'BaselineOnly', 'method': 'sgd', 'reg_u': 0.017562403057026447, 'reg_i': 0.003444435301011822}. Best is trial 3 with value: 0.9351975784979176.\n"
          ]
        },
        {
          "output_type": "stream",
          "name": "stdout",
          "text": [
            "Estimating biases using sgd...\n"
          ]
        },
        {
          "output_type": "stream",
          "name": "stderr",
          "text": [
            "[I 2024-09-02 15:39:33,065] Trial 9 finished with value: 1.0545789725506562 and parameters: {'algorithm': 'SVD', 'n_factors': 112, 'n_epochs': 12, 'lr_all': 0.0011846521552414026, 'reg_all': 0.08062246828642931}. Best is trial 3 with value: 0.9351975784979176.\n",
            "[I 2024-09-02 15:39:33,129] Trial 10 finished with value: 0.9352269373541077 and parameters: {'algorithm': 'BaselineOnly', 'method': 'als', 'reg_u': 1.0737840175554829e-05, 'reg_i': 2.6869172547407436e-05}. Best is trial 3 with value: 0.9351975784979176.\n",
            "[I 2024-09-02 15:39:33,193] Trial 11 finished with value: 0.9352270179831611 and parameters: {'algorithm': 'BaselineOnly', 'method': 'als', 'reg_u': 1.4996915004372136e-05, 'reg_i': 1.2492058829500341e-05}. Best is trial 3 with value: 0.9351975784979176.\n",
            "[I 2024-09-02 15:39:33,260] Trial 12 finished with value: 0.9352264303598499 and parameters: {'algorithm': 'BaselineOnly', 'method': 'als', 'reg_u': 1.8880973911989655e-05, 'reg_i': 2.6215546642969408e-05}. Best is trial 3 with value: 0.9351975784979176.\n"
          ]
        },
        {
          "output_type": "stream",
          "name": "stdout",
          "text": [
            "Estimating biases using als...\n",
            "Estimating biases using als...\n",
            "Estimating biases using als...\n",
            "Estimating biases using als...\n"
          ]
        },
        {
          "output_type": "stream",
          "name": "stderr",
          "text": [
            "[I 2024-09-02 15:39:33,329] Trial 13 finished with value: 0.9351861763066268 and parameters: {'algorithm': 'BaselineOnly', 'method': 'als', 'reg_u': 0.0006115030069739595, 'reg_i': 0.00011758120434537829}. Best is trial 13 with value: 0.9351861763066268.\n",
            "[I 2024-09-02 15:39:36,229] Trial 14 finished with value: 1.0176849376105654 and parameters: {'algorithm': 'CoClustering', 'n_cltr_u': 3, 'n_cltr_i': 10, 'n_epochs': 50}. Best is trial 13 with value: 0.9351861763066268.\n",
            "[I 2024-09-02 15:39:36,502] Trial 15 finished with value: 0.9791721339061896 and parameters: {'algorithm': 'SVD', 'n_factors': 196, 'n_epochs': 10, 'lr_all': 0.08295602018435476, 'reg_all': 0.00010217443551431244}. Best is trial 13 with value: 0.9351861763066268.\n",
            "[I 2024-09-02 15:39:36,568] Trial 16 finished with value: 0.9351155270508096 and parameters: {'algorithm': 'BaselineOnly', 'method': 'als', 'reg_u': 0.0016542284395504982, 'reg_i': 0.0002642046756672248}. Best is trial 16 with value: 0.9351155270508096.\n",
            "[I 2024-09-02 15:39:36,650] Trial 17 finished with value: 0.9348170440635025 and parameters: {'algorithm': 'BaselineOnly', 'method': 'als', 'reg_u': 0.006317027463381828, 'reg_i': 0.00032690894220438585}. Best is trial 17 with value: 0.9348170440635025.\n"
          ]
        },
        {
          "output_type": "stream",
          "name": "stdout",
          "text": [
            "Estimating biases using als...\n",
            "Estimating biases using als...\n",
            "Estimating biases using als...\n"
          ]
        },
        {
          "output_type": "stream",
          "name": "stderr",
          "text": [
            "[I 2024-09-02 15:39:36,724] Trial 18 finished with value: 0.934701528366413 and parameters: {'algorithm': 'BaselineOnly', 'method': 'als', 'reg_u': 0.008086156640132848, 'reg_i': 0.0004247511074552936}. Best is trial 18 with value: 0.934701528366413.\n",
            "[I 2024-09-02 15:39:36,990] Trial 19 finished with value: 1.1173297570813077 and parameters: {'algorithm': 'SVD', 'n_factors': 28, 'n_epochs': 29, 'lr_all': 0.00011288548522423583, 'reg_all': 0.0024719661803028043}. Best is trial 18 with value: 0.934701528366413.\n",
            "[I 2024-09-02 15:39:38,714] Trial 20 finished with value: 1.013841132599692 and parameters: {'algorithm': 'CoClustering', 'n_cltr_u': 6, 'n_cltr_i': 3, 'n_epochs': 50}. Best is trial 18 with value: 0.934701528366413.\n",
            "[I 2024-09-02 15:39:38,781] Trial 21 finished with value: 0.9345373396831249 and parameters: {'algorithm': 'BaselineOnly', 'method': 'als', 'reg_u': 0.010600671980417717, 'reg_i': 0.0006417795681551968}. Best is trial 21 with value: 0.9345373396831249.\n",
            "[I 2024-09-02 15:39:38,845] Trial 22 finished with value: 0.9341592998701576 and parameters: {'algorithm': 'BaselineOnly', 'method': 'als', 'reg_u': 0.016687369876807027, 'reg_i': 0.0007019070322983865}. Best is trial 22 with value: 0.9341592998701576.\n",
            "[I 2024-09-02 15:39:38,913] Trial 23 finished with value: 0.9302777268188609 and parameters: {'algorithm': 'BaselineOnly', 'method': 'als', 'reg_u': 0.0928538745685526, 'reg_i': 0.0010378104037825383}. Best is trial 23 with value: 0.9302777268188609.\n"
          ]
        },
        {
          "output_type": "stream",
          "name": "stdout",
          "text": [
            "Estimating biases using als...\n",
            "Estimating biases using als...\n",
            "Estimating biases using als...\n",
            "Estimating biases using als...\n"
          ]
        },
        {
          "output_type": "stream",
          "name": "stderr",
          "text": [
            "[I 2024-09-02 15:39:38,990] Trial 24 finished with value: 0.9321385860279523 and parameters: {'algorithm': 'BaselineOnly', 'method': 'als', 'reg_u': 0.052716154712723035, 'reg_i': 0.0013005005119122125}. Best is trial 23 with value: 0.9302777268188609.\n",
            "[I 2024-09-02 15:39:39,106] Trial 25 finished with value: 0.9594124318030148 and parameters: {'algorithm': 'BaselineOnly', 'method': 'sgd', 'reg_u': 0.09026601790744394, 'reg_i': 0.010141540216935634}. Best is trial 23 with value: 0.9302777268188609.\n",
            "[I 2024-09-02 15:39:39,177] Trial 26 finished with value: 0.9285967799370758 and parameters: {'algorithm': 'BaselineOnly', 'method': 'als', 'reg_u': 0.09754642255209212, 'reg_i': 0.097105158607469}. Best is trial 26 with value: 0.9285967799370758.\n"
          ]
        },
        {
          "output_type": "stream",
          "name": "stdout",
          "text": [
            "Estimating biases using sgd...\n",
            "Estimating biases using als...\n",
            "Estimating biases using als...\n"
          ]
        },
        {
          "output_type": "stream",
          "name": "stderr",
          "text": [
            "[I 2024-09-02 15:39:39,251] Trial 27 finished with value: 0.9291371491237121 and parameters: {'algorithm': 'BaselineOnly', 'method': 'als', 'reg_u': 0.09839262485913258, 'reg_i': 0.05325445615533169}. Best is trial 26 with value: 0.9285967799370758.\n",
            "[I 2024-09-02 15:39:39,732] Trial 28 finished with value: 0.9285380765280952 and parameters: {'algorithm': 'SVD', 'n_factors': 198, 'n_epochs': 21, 'lr_all': 0.09505481789127034, 'reg_all': 0.09512627047710161}. Best is trial 28 with value: 0.9285380765280952.\n",
            "[I 2024-09-02 15:39:40,206] Trial 29 finished with value: 0.927756194286641 and parameters: {'algorithm': 'SVD', 'n_factors': 199, 'n_epochs': 20, 'lr_all': 0.09612315397048134, 'reg_all': 0.0968475048958078}. Best is trial 29 with value: 0.927756194286641.\n",
            "[I 2024-09-02 15:39:40,644] Trial 30 finished with value: 0.9316159502691157 and parameters: {'algorithm': 'SVD', 'n_factors': 194, 'n_epochs': 19, 'lr_all': 0.06587306492061326, 'reg_all': 0.06486439962821469}. Best is trial 29 with value: 0.927756194286641.\n",
            "[I 2024-09-02 15:39:41,049] Trial 31 finished with value: 0.9560117098916772 and parameters: {'algorithm': 'SVD', 'n_factors': 141, 'n_epochs': 22, 'lr_all': 0.01893574775322727, 'reg_all': 0.01793151391022863}. Best is trial 29 with value: 0.927756194286641.\n",
            "[I 2024-09-02 15:39:41,686] Trial 32 finished with value: 0.9739526742675217 and parameters: {'algorithm': 'SVD', 'n_factors': 169, 'n_epochs': 32, 'lr_all': 0.009920438758932629, 'reg_all': 0.00838336142859802}. Best is trial 29 with value: 0.927756194286641.\n",
            "[I 2024-09-02 15:39:41,992] Trial 33 finished with value: 0.933969397330278 and parameters: {'algorithm': 'SVD', 'n_factors': 63, 'n_epochs': 17, 'lr_all': 0.08840508322204449, 'reg_all': 0.05340064345211213}. Best is trial 29 with value: 0.927756194286641.\n",
            "[I 2024-09-02 15:39:42,154] Trial 34 finished with value: 0.9901414478175077 and parameters: {'algorithm': 'SVD', 'n_factors': 151, 'n_epochs': 6, 'lr_all': 0.011964617681228818, 'reg_all': 0.001131422995800526}. Best is trial 29 with value: 0.927756194286641.\n",
            "[I 2024-09-02 15:39:43,324] Trial 35 finished with value: 1.0344596415545069 and parameters: {'algorithm': 'CoClustering', 'n_cltr_u': 10, 'n_cltr_i': 10, 'n_epochs': 26}. Best is trial 29 with value: 0.927756194286641.\n",
            "[I 2024-09-02 15:39:44,111] Trial 36 finished with value: 0.9893738149023793 and parameters: {'algorithm': 'SVD', 'n_factors': 198, 'n_epochs': 38, 'lr_all': 0.0019663862517234018, 'reg_all': 0.020831205401088484}. Best is trial 29 with value: 0.927756194286641.\n",
            "[I 2024-09-02 15:39:44,391] Trial 37 finished with value: 0.9264498452264432 and parameters: {'algorithm': 'SVD', 'n_factors': 116, 'n_epochs': 16, 'lr_all': 0.02940414262683141, 'reg_all': 0.09271256780182716}. Best is trial 37 with value: 0.9264498452264432.\n",
            "[I 2024-09-02 15:39:44,665] Trial 38 finished with value: 0.9288686716972692 and parameters: {'algorithm': 'SVD', 'n_factors': 95, 'n_epochs': 15, 'lr_all': 0.03273255452459658, 'reg_all': 0.09208648466931109}. Best is trial 37 with value: 0.9264498452264432.\n",
            "[I 2024-09-02 15:39:45,109] Trial 39 finished with value: 0.9391336124050437 and parameters: {'algorithm': 'SVD', 'n_factors': 160, 'n_epochs': 23, 'lr_all': 0.03390410260353339, 'reg_all': 0.025943714825486047}. Best is trial 37 with value: 0.9264498452264432.\n",
            "[I 2024-09-02 15:39:45,448] Trial 40 finished with value: 0.9658806171890911 and parameters: {'algorithm': 'SVD', 'n_factors': 120, 'n_epochs': 20, 'lr_all': 0.005138950307328865, 'reg_all': 0.09760434375205738}. Best is trial 37 with value: 0.9264498452264432.\n",
            "[I 2024-09-02 15:39:45,692] Trial 41 finished with value: 0.9286915331781888 and parameters: {'algorithm': 'SVD', 'n_factors': 82, 'n_epochs': 14, 'lr_all': 0.03291870148392154, 'reg_all': 0.0821124011117358}. Best is trial 37 with value: 0.9264498452264432.\n",
            "[I 2024-09-02 15:39:45,914] Trial 42 finished with value: 0.9377877356820662 and parameters: {'algorithm': 'SVD', 'n_factors': 74, 'n_epochs': 14, 'lr_all': 0.03799502974817227, 'reg_all': 0.030078787194494864}. Best is trial 37 with value: 0.9264498452264432.\n"
          ]
        },
        {
          "output_type": "stream",
          "name": "stdout",
          "text": [
            "Computing the cosine similarity matrix...\n",
            "Done computing similarity matrix.\n"
          ]
        },
        {
          "output_type": "stream",
          "name": "stderr",
          "text": [
            "[I 2024-09-02 15:39:48,146] Trial 43 finished with value: 1.1601956988125646 and parameters: {'algorithm': 'KNNBasic', 'k': 11, 'min_k': 5, 'name': 'cosine', 'user_based': True}. Best is trial 37 with value: 0.9264498452264432.\n",
            "[I 2024-09-02 15:39:48,397] Trial 44 finished with value: 0.9404406251102958 and parameters: {'algorithm': 'SVD', 'n_factors': 82, 'n_epochs': 8, 'lr_all': 0.07630837304057196, 'reg_all': 0.04199307733363912}. Best is trial 37 with value: 0.9264498452264432.\n",
            "[I 2024-09-02 15:39:48,962] Trial 45 finished with value: 0.9666530420126898 and parameters: {'algorithm': 'SVD', 'n_factors': 176, 'n_epochs': 17, 'lr_all': 0.03005069418957047, 'reg_all': 0.009504852468776174}. Best is trial 37 with value: 0.9264498452264432.\n",
            "[I 2024-09-02 15:39:49,213] Trial 46 finished with value: 0.9277511873939619 and parameters: {'algorithm': 'SVD', 'n_factors': 43, 'n_epochs': 24, 'lr_all': 0.09295188178865058, 'reg_all': 0.09738968405996665}. Best is trial 37 with value: 0.9264498452264432.\n",
            "[I 2024-09-02 15:39:49,427] Trial 47 finished with value: 1.0514113911380751 and parameters: {'algorithm': 'KNNBasic', 'k': 11, 'min_k': 5, 'name': 'cosine', 'user_based': False}. Best is trial 37 with value: 0.9264498452264432.\n"
          ]
        },
        {
          "output_type": "stream",
          "name": "stdout",
          "text": [
            "Computing the cosine similarity matrix...\n",
            "Done computing similarity matrix.\n"
          ]
        },
        {
          "output_type": "stream",
          "name": "stderr",
          "text": [
            "[I 2024-09-02 15:39:50,272] Trial 48 finished with value: 1.015313500948969 and parameters: {'algorithm': 'CoClustering', 'n_cltr_u': 3, 'n_cltr_i': 3, 'n_epochs': 25}. Best is trial 37 with value: 0.9264498452264432.\n",
            "[I 2024-09-02 15:39:50,562] Trial 49 finished with value: 0.9386884413591311 and parameters: {'algorithm': 'SVD', 'n_factors': 46, 'n_epochs': 29, 'lr_all': 0.09749181242041043, 'reg_all': 0.039516362638052624}. Best is trial 37 with value: 0.9264498452264432.\n",
            "[I 2024-09-02 15:39:50,969] Trial 50 finished with value: 0.9513694354861667 and parameters: {'algorithm': 'SVD', 'n_factors': 133, 'n_epochs': 22, 'lr_all': 0.04948447287759209, 'reg_all': 0.011520854245710595}. Best is trial 37 with value: 0.9264498452264432.\n",
            "[I 2024-09-02 15:39:51,143] Trial 51 finished with value: 0.9380474320641322 and parameters: {'algorithm': 'SVD', 'n_factors': 51, 'n_epochs': 13, 'lr_all': 0.019876125266075156, 'reg_all': 0.07375649191298458}. Best is trial 37 with value: 0.9264498452264432.\n",
            "[I 2024-09-02 15:39:51,327] Trial 52 finished with value: 0.9252184838723145 and parameters: {'algorithm': 'SVD', 'n_factors': 23, 'n_epochs': 18, 'lr_all': 0.055503185111268026, 'reg_all': 0.09620532008824437}. Best is trial 52 with value: 0.9252184838723145.\n",
            "[I 2024-09-02 15:39:51,503] Trial 53 finished with value: 0.9507963320827908 and parameters: {'algorithm': 'SVD', 'n_factors': 22, 'n_epochs': 19, 'lr_all': 0.09697275941440474, 'reg_all': 0.045234889545364095}. Best is trial 52 with value: 0.9252184838723145.\n",
            "[I 2024-09-02 15:39:51,758] Trial 54 finished with value: 0.9206487872218854 and parameters: {'algorithm': 'SVD', 'n_factors': 40, 'n_epochs': 24, 'lr_all': 0.051859621213454526, 'reg_all': 0.0997402013068096}. Best is trial 54 with value: 0.9206487872218854.\n",
            "[I 2024-09-02 15:39:52,005] Trial 55 finished with value: 0.9289247261430875 and parameters: {'algorithm': 'SVD', 'n_factors': 38, 'n_epochs': 24, 'lr_all': 0.05219266920785241, 'reg_all': 0.0838983837770802}. Best is trial 54 with value: 0.9206487872218854.\n",
            "[I 2024-09-02 15:39:52,228] Trial 56 finished with value: 0.9340211517131266 and parameters: {'algorithm': 'SVD', 'n_factors': 37, 'n_epochs': 21, 'lr_all': 0.05335722978724447, 'reg_all': 0.04770477374448212}. Best is trial 54 with value: 0.9206487872218854.\n",
            "[I 2024-09-02 15:39:52,403] Trial 57 finished with value: 0.9273747605587188 and parameters: {'algorithm': 'SVD', 'n_factors': 20, 'n_epochs': 17, 'lr_all': 0.05252122336017652, 'reg_all': 0.0925636460091498}. Best is trial 54 with value: 0.9206487872218854.\n",
            "[I 2024-09-02 15:39:52,567] Trial 58 finished with value: 0.9335653377732508 and parameters: {'algorithm': 'SVD', 'n_factors': 20, 'n_epochs': 17, 'lr_all': 0.019452289945519882, 'reg_all': 0.05367626469319589}. Best is trial 54 with value: 0.9206487872218854.\n"
          ]
        },
        {
          "output_type": "stream",
          "name": "stdout",
          "text": [
            "Computing the cosine similarity matrix...\n",
            "Done computing similarity matrix.\n"
          ]
        },
        {
          "output_type": "stream",
          "name": "stderr",
          "text": [
            "[I 2024-09-02 15:39:54,336] Trial 59 finished with value: 1.1296763293109755 and parameters: {'algorithm': 'KNNBasic', 'k': 39, 'min_k': 3, 'name': 'cosine', 'user_based': True}. Best is trial 54 with value: 0.9206487872218854.\n",
            "[I 2024-09-02 15:39:54,644] Trial 60 finished with value: 0.9993759693155932 and parameters: {'algorithm': 'SVD', 'n_factors': 55, 'n_epochs': 26, 'lr_all': 0.049686071088702176, 'reg_all': 0.0005085379333091482}. Best is trial 54 with value: 0.9206487872218854.\n",
            "[I 2024-09-02 15:39:55,074] Trial 61 finished with value: 0.9269249430686877 and parameters: {'algorithm': 'SVD', 'n_factors': 181, 'n_epochs': 19, 'lr_all': 0.0579903982503826, 'reg_all': 0.09692812693443567}. Best is trial 54 with value: 0.9206487872218854.\n",
            "[I 2024-09-02 15:39:55,247] Trial 62 finished with value: 0.9285730683574843 and parameters: {'algorithm': 'SVD', 'n_factors': 32, 'n_epochs': 16, 'lr_all': 0.055793893824667214, 'reg_all': 0.055655082320310106}. Best is trial 54 with value: 0.9206487872218854.\n",
            "[I 2024-09-02 15:39:55,767] Trial 63 finished with value: 1.0831685731280827 and parameters: {'algorithm': 'SVD', 'n_factors': 185, 'n_epochs': 19, 'lr_all': 0.0004396593559540924, 'reg_all': 0.0958596828064472}. Best is trial 54 with value: 0.9206487872218854.\n",
            "[I 2024-09-02 15:39:56,222] Trial 64 finished with value: 0.9272205156913279 and parameters: {'algorithm': 'SVD', 'n_factors': 113, 'n_epochs': 28, 'lr_all': 0.05627683635665601, 'reg_all': 0.06321388986049668}. Best is trial 54 with value: 0.9206487872218854.\n",
            "[I 2024-09-02 15:39:57,327] Trial 65 finished with value: 1.014812930538856 and parameters: {'algorithm': 'CoClustering', 'n_cltr_u': 7, 'n_cltr_i': 7, 'n_epochs': 28}. Best is trial 54 with value: 0.9206487872218854.\n",
            "[I 2024-09-02 15:39:57,701] Trial 66 finished with value: 0.9400523063754302 and parameters: {'algorithm': 'SVD', 'n_factors': 109, 'n_epochs': 24, 'lr_all': 0.026332789763273468, 'reg_all': 0.03239610771844349}. Best is trial 54 with value: 0.9206487872218854.\n",
            "[I 2024-09-02 15:39:57,945] Trial 67 finished with value: 0.9322428523047628 and parameters: {'algorithm': 'SVD', 'n_factors': 116, 'n_epochs': 10, 'lr_all': 0.04955071732055765, 'reg_all': 0.06320454583333716}. Best is trial 54 with value: 0.9206487872218854.\n",
            "[I 2024-09-02 15:39:58,425] Trial 68 finished with value: 0.9281055596787602 and parameters: {'algorithm': 'SVD', 'n_factors': 104, 'n_epochs': 33, 'lr_all': 0.06093650243544382, 'reg_all': 0.0611950882514438}. Best is trial 54 with value: 0.9206487872218854.\n",
            "[I 2024-09-02 15:39:58,702] Trial 69 finished with value: 0.9267469415929904 and parameters: {'algorithm': 'SVD', 'n_factors': 29, 'n_epochs': 31, 'lr_all': 0.03993635820941725, 'reg_all': 0.06435064088619387}. Best is trial 54 with value: 0.9206487872218854.\n",
            "[I 2024-09-02 15:39:59,059] Trial 70 finished with value: 0.9294423303223286 and parameters: {'algorithm': 'SVD', 'n_factors': 28, 'n_epochs': 31, 'lr_all': 0.014031893651660495, 'reg_all': 0.06142600460679201}. Best is trial 54 with value: 0.9206487872218854.\n",
            "[I 2024-09-02 15:39:59,507] Trial 71 finished with value: 0.9229825440054709 and parameters: {'algorithm': 'SVD', 'n_factors': 41, 'n_epochs': 29, 'lr_all': 0.03995539581038241, 'reg_all': 0.09766107003866627}. Best is trial 54 with value: 0.9206487872218854.\n",
            "[I 2024-09-02 15:39:59,989] Trial 72 finished with value: 0.9225240124306713 and parameters: {'algorithm': 'SVD', 'n_factors': 30, 'n_epochs': 34, 'lr_all': 0.03996560247009458, 'reg_all': 0.09986339151296153}. Best is trial 54 with value: 0.9206487872218854.\n",
            "[I 2024-09-02 15:40:00,513] Trial 73 finished with value: 0.9229162354942725 and parameters: {'algorithm': 'SVD', 'n_factors': 33, 'n_epochs': 37, 'lr_all': 0.023623572657911776, 'reg_all': 0.06669722789848377}. Best is trial 54 with value: 0.9206487872218854.\n",
            "[I 2024-09-02 15:40:01,068] Trial 74 finished with value: 1.01771488160625 and parameters: {'algorithm': 'SVD', 'n_factors': 31, 'n_epochs': 37, 'lr_all': 0.021374994756134573, 'reg_all': 0.00017514038949770786}. Best is trial 54 with value: 0.9206487872218854.\n",
            "[I 2024-09-02 15:40:01,769] Trial 75 finished with value: 0.9311569986988881 and parameters: {'algorithm': 'SVD', 'n_factors': 60, 'n_epochs': 40, 'lr_all': 0.037520641597123996, 'reg_all': 0.04006229480560935}. Best is trial 54 with value: 0.9206487872218854.\n",
            "[I 2024-09-02 15:40:02,108] Trial 76 finished with value: 0.9654301388967419 and parameters: {'algorithm': 'SVD', 'n_factors': 39, 'n_epochs': 34, 'lr_all': 0.008470166343491495, 'reg_all': 0.003322892385845248}. Best is trial 54 with value: 0.9206487872218854.\n"
          ]
        },
        {
          "output_type": "stream",
          "name": "stdout",
          "text": [
            "Computing the cosine similarity matrix...\n",
            "Done computing similarity matrix.\n"
          ]
        },
        {
          "output_type": "stream",
          "name": "stderr",
          "text": [
            "[I 2024-09-02 15:40:03,811] Trial 77 finished with value: 1.1345765172324949 and parameters: {'algorithm': 'KNNBasic', 'k': 21, 'min_k': 3, 'name': 'cosine', 'user_based': True}. Best is trial 54 with value: 0.9206487872218854.\n",
            "[I 2024-09-02 15:40:05,351] Trial 78 finished with value: 1.030136362084797 and parameters: {'algorithm': 'CoClustering', 'n_cltr_u': 7, 'n_cltr_i': 6, 'n_epochs': 40}. Best is trial 54 with value: 0.9206487872218854.\n",
            "[I 2024-09-02 15:40:05,657] Trial 79 finished with value: 0.9253626382004513 and parameters: {'algorithm': 'SVD', 'n_factors': 48, 'n_epochs': 30, 'lr_all': 0.023273836720148783, 'reg_all': 0.07018728745073816}. Best is trial 54 with value: 0.9206487872218854.\n",
            "[I 2024-09-02 15:40:05,943] Trial 80 finished with value: 0.9268271477169899 and parameters: {'algorithm': 'SVD', 'n_factors': 31, 'n_epochs': 30, 'lr_all': 0.015960311293303817, 'reg_all': 0.0689336149305165}. Best is trial 54 with value: 0.9206487872218854.\n",
            "[I 2024-09-02 15:40:06,241] Trial 81 finished with value: 0.9238528324049883 and parameters: {'algorithm': 'SVD', 'n_factors': 30, 'n_epochs': 31, 'lr_all': 0.014101665801007919, 'reg_all': 0.06721314874590129}. Best is trial 54 with value: 0.9206487872218854.\n",
            "[I 2024-09-02 15:40:06,583] Trial 82 finished with value: 0.9268068970411532 and parameters: {'algorithm': 'SVD', 'n_factors': 48, 'n_epochs': 35, 'lr_all': 0.026298791678851727, 'reg_all': 0.07125332161501605}. Best is trial 54 with value: 0.9206487872218854.\n",
            "[I 2024-09-02 15:40:06,860] Trial 83 finished with value: 0.9414239591862655 and parameters: {'algorithm': 'SVD', 'n_factors': 27, 'n_epochs': 32, 'lr_all': 0.024816077437214753, 'reg_all': 0.03499539891732699}. Best is trial 54 with value: 0.9206487872218854.\n",
            "[I 2024-09-02 15:40:07,192] Trial 84 finished with value: 0.9395644572458753 and parameters: {'algorithm': 'SVD', 'n_factors': 40, 'n_epochs': 35, 'lr_all': 0.03761840815588833, 'reg_all': 0.024280209760519995}. Best is trial 54 with value: 0.9206487872218854.\n",
            "[I 2024-09-02 15:40:07,486] Trial 85 finished with value: 0.9324522940228522 and parameters: {'algorithm': 'SVD', 'n_factors': 36, 'n_epochs': 31, 'lr_all': 0.008665636459821211, 'reg_all': 0.07089426410998208}. Best is trial 54 with value: 0.9206487872218854.\n",
            "[I 2024-09-02 15:40:07,835] Trial 86 finished with value: 0.9343819584097649 and parameters: {'algorithm': 'SVD', 'n_factors': 26, 'n_epochs': 44, 'lr_all': 0.012196673876762175, 'reg_all': 0.04937138637744723}. Best is trial 54 with value: 0.9206487872218854.\n",
            "[I 2024-09-02 15:40:08,130] Trial 87 finished with value: 0.9507323775013957 and parameters: {'algorithm': 'SVD', 'n_factors': 53, 'n_epochs': 27, 'lr_all': 0.005396877465799891, 'reg_all': 0.07456526895404501}. Best is trial 54 with value: 0.9206487872218854.\n",
            "[I 2024-09-02 15:40:08,518] Trial 88 finished with value: 0.9244222692253319 and parameters: {'algorithm': 'SVD', 'n_factors': 66, 'n_epochs': 33, 'lr_all': 0.03627027439520034, 'reg_all': 0.098823682691486}. Best is trial 54 with value: 0.9206487872218854.\n",
            "[I 2024-09-02 15:40:08,954] Trial 89 finished with value: 0.9718193758383602 and parameters: {'algorithm': 'SVD', 'n_factors': 65, 'n_epochs': 39, 'lr_all': 0.02767013938222755, 'reg_all': 0.0047003705372795105}. Best is trial 54 with value: 0.9206487872218854.\n",
            "[I 2024-09-02 15:40:09,292] Trial 90 finished with value: 0.9212573072241688 and parameters: {'algorithm': 'SVD', 'n_factors': 46, 'n_epochs': 33, 'lr_all': 0.016145455563637303, 'reg_all': 0.09823977526842584}. Best is trial 54 with value: 0.9206487872218854.\n",
            "[I 2024-09-02 15:40:09,816] Trial 91 finished with value: 0.9276422947683005 and parameters: {'algorithm': 'SVD', 'n_factors': 125, 'n_epochs': 33, 'lr_all': 0.016141884851647817, 'reg_all': 0.09932253608094915}. Best is trial 54 with value: 0.9206487872218854.\n",
            "[I 2024-09-02 15:40:10,159] Trial 92 finished with value: 0.9259741618972729 and parameters: {'algorithm': 'SVD', 'n_factors': 42, 'n_epochs': 36, 'lr_all': 0.02195022359380138, 'reg_all': 0.07679605535124165}. Best is trial 54 with value: 0.9206487872218854.\n",
            "[I 2024-09-02 15:40:10,540] Trial 93 finished with value: 0.9296738368493139 and parameters: {'algorithm': 'SVD', 'n_factors': 45, 'n_epochs': 36, 'lr_all': 0.07356395309700421, 'reg_all': 0.07671794786832688}. Best is trial 54 with value: 0.9206487872218854.\n",
            "[I 2024-09-02 15:40:10,952] Trial 94 finished with value: 0.9332956329793416 and parameters: {'algorithm': 'SVD', 'n_factors': 59, 'n_epochs': 37, 'lr_all': 0.02008717835134776, 'reg_all': 0.050272192166817206}. Best is trial 54 with value: 0.9206487872218854.\n",
            "[I 2024-09-02 15:40:11,406] Trial 95 finished with value: 0.9278372823948275 and parameters: {'algorithm': 'SVD', 'n_factors': 71, 'n_epochs': 29, 'lr_all': 0.04007146895560615, 'reg_all': 0.0759430700370597}. Best is trial 54 with value: 0.9206487872218854.\n"
          ]
        },
        {
          "output_type": "stream",
          "name": "stdout",
          "text": [
            "Computing the pearson similarity matrix...\n",
            "Done computing similarity matrix.\n"
          ]
        },
        {
          "output_type": "stream",
          "name": "stderr",
          "text": [
            "[I 2024-09-02 15:40:11,679] Trial 96 finished with value: 1.0617689424707455 and parameters: {'algorithm': 'KNNBasic', 'k': 39, 'min_k': 4, 'name': 'pearson', 'user_based': False}. Best is trial 54 with value: 0.9206487872218854.\n",
            "[I 2024-09-02 15:40:13,742] Trial 97 finished with value: 1.0229923145178035 and parameters: {'algorithm': 'CoClustering', 'n_cltr_u': 5, 'n_cltr_i': 8, 'n_epochs': 34}. Best is trial 54 with value: 0.9206487872218854.\n",
            "[I 2024-09-02 15:40:14,390] Trial 98 finished with value: 1.0217734052209484 and parameters: {'algorithm': 'SVD', 'n_factors': 43, 'n_epochs': 42, 'lr_all': 0.0006050266196482661, 'reg_all': 0.0012581569618614105}. Best is trial 54 with value: 0.9206487872218854.\n",
            "[I 2024-09-02 15:40:14,855] Trial 99 finished with value: 0.9288781310217807 and parameters: {'algorithm': 'SVD', 'n_factors': 49, 'n_epochs': 33, 'lr_all': 0.011025561538640361, 'reg_all': 0.08025837648069974}. Best is trial 54 with value: 0.9206487872218854.\n",
            "[I 2024-09-02 15:40:15,131] Trial 100 finished with value: 0.919528898414644 and parameters: {'algorithm': 'SVD', 'n_factors': 34, 'n_epochs': 30, 'lr_all': 0.021766728816273465, 'reg_all': 0.09948233721617662}. Best is trial 100 with value: 0.919528898414644.\n",
            "[I 2024-09-02 15:40:15,412] Trial 101 finished with value: 0.9244114211369727 and parameters: {'algorithm': 'SVD', 'n_factors': 35, 'n_epochs': 30, 'lr_all': 0.029295645446398174, 'reg_all': 0.08073862181760867}. Best is trial 100 with value: 0.919528898414644.\n",
            "[I 2024-09-02 15:40:15,690] Trial 102 finished with value: 0.9224626710457093 and parameters: {'algorithm': 'SVD', 'n_factors': 35, 'n_epochs': 30, 'lr_all': 0.033288028401207995, 'reg_all': 0.0968042923520736}. Best is trial 100 with value: 0.919528898414644.\n",
            "[I 2024-09-02 15:40:15,977] Trial 103 finished with value: 0.9211458361287078 and parameters: {'algorithm': 'SVD', 'n_factors': 36, 'n_epochs': 27, 'lr_all': 0.03126866070822898, 'reg_all': 0.09957331991984296}. Best is trial 100 with value: 0.919528898414644.\n",
            "[I 2024-09-02 15:40:16,235] Trial 104 finished with value: 0.9605632166256209 and parameters: {'algorithm': 'SVD', 'n_factors': 35, 'n_epochs': 27, 'lr_all': 0.02996989643567958, 'reg_all': 0.016117991268424864}. Best is trial 100 with value: 0.919528898414644.\n",
            "[I 2024-09-02 15:40:16,507] Trial 105 finished with value: 0.922107883426868 and parameters: {'algorithm': 'SVD', 'n_factors': 34, 'n_epochs': 29, 'lr_all': 0.04242440229297943, 'reg_all': 0.09855047234338656}. Best is trial 100 with value: 0.919528898414644.\n",
            "[I 2024-09-02 15:40:16,767] Trial 106 finished with value: 0.9270587046092785 and parameters: {'algorithm': 'SVD', 'n_factors': 35, 'n_epochs': 26, 'lr_all': 0.01708079708806218, 'reg_all': 0.05209189443781844}. Best is trial 100 with value: 0.919528898414644.\n",
            "[I 2024-09-02 15:40:17,028] Trial 107 finished with value: 0.9392722635002236 and parameters: {'algorithm': 'SVD', 'n_factors': 25, 'n_epochs': 29, 'lr_all': 0.04237452923821553, 'reg_all': 0.04244132258838788}. Best is trial 100 with value: 0.919528898414644.\n",
            "[I 2024-09-02 15:40:17,122] Trial 108 finished with value: 0.9594124318030148 and parameters: {'algorithm': 'BaselineOnly', 'method': 'sgd', 'reg_u': 7.977584416539673e-05, 'reg_i': 0.03139729177741937}. Best is trial 100 with value: 0.919528898414644.\n"
          ]
        },
        {
          "output_type": "stream",
          "name": "stdout",
          "text": [
            "Estimating biases using sgd...\n"
          ]
        },
        {
          "output_type": "stream",
          "name": "stderr",
          "text": [
            "[I 2024-09-02 15:40:17,396] Trial 109 finished with value: 0.9288443741596788 and parameters: {'algorithm': 'SVD', 'n_factors': 35, 'n_epochs': 30, 'lr_all': 0.0728872681584608, 'reg_all': 0.09856598503332313}. Best is trial 100 with value: 0.919528898414644.\n",
            "[I 2024-09-02 15:40:17,687] Trial 110 finished with value: 0.9202207077605778 and parameters: {'algorithm': 'SVD', 'n_factors': 39, 'n_epochs': 25, 'lr_all': 0.03202146182422882, 'reg_all': 0.08319566237362011}. Best is trial 100 with value: 0.919528898414644.\n",
            "[I 2024-09-02 15:40:17,958] Trial 111 finished with value: 0.9232681986864434 and parameters: {'algorithm': 'SVD', 'n_factors': 41, 'n_epochs': 25, 'lr_all': 0.02797037560681001, 'reg_all': 0.07981659388716213}. Best is trial 100 with value: 0.919528898414644.\n",
            "[I 2024-09-02 15:40:18,212] Trial 112 finished with value: 0.9300395217633298 and parameters: {'algorithm': 'SVD', 'n_factors': 41, 'n_epochs': 25, 'lr_all': 0.03231500311411531, 'reg_all': 0.06009098758354912}. Best is trial 100 with value: 0.919528898414644.\n",
            "[I 2024-09-02 15:40:18,484] Trial 113 finished with value: 0.9248919598062284 and parameters: {'algorithm': 'SVD', 'n_factors': 32, 'n_epochs': 28, 'lr_all': 0.02459659030579464, 'reg_all': 0.08376905486320753}. Best is trial 100 with value: 0.919528898414644.\n",
            "[I 2024-09-02 15:40:18,795] Trial 114 finished with value: 0.9254742326433963 and parameters: {'algorithm': 'SVD', 'n_factors': 54, 'n_epochs': 26, 'lr_all': 0.03224003595503539, 'reg_all': 0.08137530401158322}. Best is trial 100 with value: 0.919528898414644.\n",
            "[I 2024-09-02 15:40:19,052] Trial 115 finished with value: 0.9329568160009288 and parameters: {'algorithm': 'SVD', 'n_factors': 43, 'n_epochs': 23, 'lr_all': 0.04372164477274681, 'reg_all': 0.05569066668076206}. Best is trial 100 with value: 0.919528898414644.\n",
            "[I 2024-09-02 15:40:19,275] Trial 116 finished with value: 0.9253271580633239 and parameters: {'algorithm': 'SVD', 'n_factors': 24, 'n_epochs': 25, 'lr_all': 0.01371132292437304, 'reg_all': 0.08370935478342682}. Best is trial 100 with value: 0.919528898414644.\n",
            "[I 2024-09-02 15:40:19,501] Trial 117 finished with value: 0.9305365591894171 and parameters: {'algorithm': 'SVD', 'n_factors': 31, 'n_epochs': 23, 'lr_all': 0.04482479759976271, 'reg_all': 0.061087558239390674}. Best is trial 100 with value: 0.919528898414644.\n"
          ]
        },
        {
          "output_type": "stream",
          "name": "stdout",
          "text": [
            "Computing the cosine similarity matrix...\n",
            "Done computing similarity matrix.\n"
          ]
        },
        {
          "output_type": "stream",
          "name": "stderr",
          "text": [
            "[I 2024-09-02 15:40:21,246] Trial 118 finished with value: 1.1462139775558116 and parameters: {'algorithm': 'KNNBasic', 'k': 21, 'min_k': 4, 'name': 'cosine', 'user_based': True}. Best is trial 100 with value: 0.919528898414644.\n",
            "[I 2024-09-02 15:40:21,561] Trial 119 finished with value: 1.1179922159102207 and parameters: {'algorithm': 'SVD', 'n_factors': 46, 'n_epochs': 27, 'lr_all': 0.00012627343166598016, 'reg_all': 0.09930686524797092}. Best is trial 100 with value: 0.919528898414644.\n",
            "[I 2024-09-02 15:40:22,835] Trial 120 finished with value: 1.0267690476337104 and parameters: {'algorithm': 'CoClustering', 'n_cltr_u': 8, 'n_cltr_i': 5, 'n_epochs': 32}. Best is trial 100 with value: 0.919528898414644.\n",
            "[I 2024-09-02 15:40:23,127] Trial 121 finished with value: 0.9212643836318143 and parameters: {'algorithm': 'SVD', 'n_factors': 38, 'n_epochs': 29, 'lr_all': 0.031414083030091466, 'reg_all': 0.08053263425760576}. Best is trial 100 with value: 0.919528898414644.\n",
            "[I 2024-09-02 15:40:23,414] Trial 122 finished with value: 0.9248982457894938 and parameters: {'algorithm': 'SVD', 'n_factors': 38, 'n_epochs': 29, 'lr_all': 0.019571266289730084, 'reg_all': 0.08648752488807009}. Best is trial 100 with value: 0.919528898414644.\n",
            "[I 2024-09-02 15:40:23,668] Trial 123 finished with value: 0.9288761480575259 and parameters: {'algorithm': 'SVD', 'n_factors': 28, 'n_epochs': 28, 'lr_all': 0.03215355432560583, 'reg_all': 0.06873455253389325}. Best is trial 100 with value: 0.919528898414644.\n",
            "[I 2024-09-02 15:40:24,089] Trial 124 finished with value: 0.9365295074186228 and parameters: {'algorithm': 'SVD', 'n_factors': 39, 'n_epochs': 31, 'lr_all': 0.02378343929155329, 'reg_all': 0.04776755034402696}. Best is trial 100 with value: 0.919528898414644.\n",
            "[I 2024-09-02 15:40:24,292] Trial 125 finished with value: 0.9932445271533845 and parameters: {'algorithm': 'SVD', 'n_factors': 23, 'n_epochs': 21, 'lr_all': 0.0022898788300924717, 'reg_all': 0.05978417653484349}. Best is trial 100 with value: 0.919528898414644.\n",
            "[I 2024-09-02 15:40:24,546] Trial 126 finished with value: 0.931104660209884 and parameters: {'algorithm': 'SVD', 'n_factors': 32, 'n_epochs': 26, 'lr_all': 0.06508711334996169, 'reg_all': 0.0815460983006444}. Best is trial 100 with value: 0.919528898414644.\n",
            "[I 2024-09-02 15:40:25,023] Trial 127 finished with value: 0.931073679151112 and parameters: {'algorithm': 'SVD', 'n_factors': 48, 'n_epochs': 32, 'lr_all': 0.017353292250127786, 'reg_all': 0.038242863282617494}. Best is trial 100 with value: 0.919528898414644.\n",
            "[I 2024-09-02 15:40:25,468] Trial 128 finished with value: 0.9227285354496866 and parameters: {'algorithm': 'SVD', 'n_factors': 43, 'n_epochs': 25, 'lr_all': 0.046320372845271074, 'reg_all': 0.09966570475178539}. Best is trial 100 with value: 0.919528898414644.\n",
            "[I 2024-09-02 15:40:25,671] Trial 129 finished with value: 0.9594124318030148 and parameters: {'algorithm': 'BaselineOnly', 'method': 'sgd', 'reg_u': 0.002327131649666283, 'reg_i': 0.01766016002471481}. Best is trial 100 with value: 0.919528898414644.\n"
          ]
        },
        {
          "output_type": "stream",
          "name": "stdout",
          "text": [
            "Estimating biases using sgd...\n"
          ]
        },
        {
          "output_type": "stream",
          "name": "stderr",
          "text": [
            "[I 2024-09-02 15:40:26,124] Trial 130 finished with value: 0.9269270449231719 and parameters: {'algorithm': 'SVD', 'n_factors': 57, 'n_epochs': 24, 'lr_all': 0.036550682245974166, 'reg_all': 0.0876104609631034}. Best is trial 100 with value: 0.919528898414644.\n",
            "[I 2024-09-02 15:40:26,540] Trial 131 finished with value: 0.9237694459061252 and parameters: {'algorithm': 'SVD', 'n_factors': 51, 'n_epochs': 22, 'lr_all': 0.04544122456955531, 'reg_all': 0.09924729481449182}. Best is trial 100 with value: 0.919528898414644.\n",
            "[I 2024-09-02 15:40:27,002] Trial 132 finished with value: 0.9265473144576356 and parameters: {'algorithm': 'SVD', 'n_factors': 51, 'n_epochs': 25, 'lr_all': 0.044160780465655414, 'reg_all': 0.08633892500089875}. Best is trial 100 with value: 0.919528898414644.\n",
            "[I 2024-09-02 15:40:27,390] Trial 133 finished with value: 0.9257273940479419 and parameters: {'algorithm': 'SVD', 'n_factors': 43, 'n_epochs': 22, 'lr_all': 0.046845359489269246, 'reg_all': 0.07020121185924622}. Best is trial 100 with value: 0.919528898414644.\n",
            "[I 2024-09-02 15:40:27,700] Trial 134 finished with value: 0.9229540049896587 and parameters: {'algorithm': 'SVD', 'n_factors': 37, 'n_epochs': 21, 'lr_all': 0.028002513100262555, 'reg_all': 0.0991330294745704}. Best is trial 100 with value: 0.919528898414644.\n",
            "[I 2024-09-02 15:40:27,995] Trial 135 finished with value: 0.9203443029825407 and parameters: {'algorithm': 'SVD', 'n_factors': 39, 'n_epochs': 28, 'lr_all': 0.0275373828247323, 'reg_all': 0.09976818755437333}. Best is trial 100 with value: 0.919528898414644.\n",
            "[I 2024-09-02 15:40:28,290] Trial 136 finished with value: 0.9209162610753051 and parameters: {'algorithm': 'SVD', 'n_factors': 37, 'n_epochs': 28, 'lr_all': 0.03806627625595417, 'reg_all': 0.09748748533450868}. Best is trial 100 with value: 0.919528898414644.\n",
            "[I 2024-09-02 15:40:28,564] Trial 137 finished with value: 0.9266369962443833 and parameters: {'algorithm': 'SVD', 'n_factors': 35, 'n_epochs': 28, 'lr_all': 0.03373132033176727, 'reg_all': 0.05561807754466967}. Best is trial 100 with value: 0.919528898414644.\n",
            "[I 2024-09-02 15:40:28,823] Trial 138 finished with value: 0.9268162374779386 and parameters: {'algorithm': 'SVD', 'n_factors': 27, 'n_epochs': 27, 'lr_all': 0.06268005685326723, 'reg_all': 0.09947209086515572}. Best is trial 100 with value: 0.919528898414644.\n",
            "[I 2024-09-02 15:40:29,158] Trial 139 finished with value: 0.9259124778964958 and parameters: {'algorithm': 'SVD', 'n_factors': 37, 'n_epochs': 34, 'lr_all': 0.023613682767572457, 'reg_all': 0.06394084356434172}. Best is trial 100 with value: 0.919528898414644.\n",
            "[I 2024-09-02 15:40:29,364] Trial 140 finished with value: 0.9339822298416789 and parameters: {'algorithm': 'SVD', 'n_factors': 20, 'n_epochs': 26, 'lr_all': 0.08376988923658824, 'reg_all': 0.07315905247103864}. Best is trial 100 with value: 0.919528898414644.\n",
            "[I 2024-09-02 15:40:29,655] Trial 141 finished with value: 0.9227042344673309 and parameters: {'algorithm': 'SVD', 'n_factors': 45, 'n_epochs': 29, 'lr_all': 0.03701300475294963, 'reg_all': 0.08741699190908293}. Best is trial 100 with value: 0.919528898414644.\n",
            "[I 2024-09-02 15:40:29,966] Trial 142 finished with value: 0.9260448031993775 and parameters: {'algorithm': 'SVD', 'n_factors': 46, 'n_epochs': 29, 'lr_all': 0.026727502321407186, 'reg_all': 0.08713589058687245}. Best is trial 100 with value: 0.919528898414644.\n",
            "[I 2024-09-02 15:40:30,269] Trial 143 finished with value: 0.9210509929926041 and parameters: {'algorithm': 'SVD', 'n_factors': 38, 'n_epochs': 30, 'lr_all': 0.034284228914089755, 'reg_all': 0.08786633062582104}. Best is trial 100 with value: 0.919528898414644.\n",
            "[I 2024-09-02 15:40:30,691] Trial 144 finished with value: 0.922552300261617 and parameters: {'algorithm': 'SVD', 'n_factors': 93, 'n_epochs': 30, 'lr_all': 0.034960648786271475, 'reg_all': 0.07037783551767658}. Best is trial 100 with value: 0.919528898414644.\n",
            "[I 2024-09-02 15:40:31,003] Trial 145 finished with value: 0.9242382194327272 and parameters: {'algorithm': 'SVD', 'n_factors': 45, 'n_epochs': 30, 'lr_all': 0.03426878234748927, 'reg_all': 0.08475430681752515}. Best is trial 100 with value: 0.919528898414644.\n",
            "[I 2024-09-02 15:40:31,435] Trial 146 finished with value: 0.9234959364656357 and parameters: {'algorithm': 'SVD', 'n_factors': 92, 'n_epochs': 31, 'lr_all': 0.052881037200794644, 'reg_all': 0.0744327141922352}. Best is trial 100 with value: 0.919528898414644.\n"
          ]
        },
        {
          "output_type": "stream",
          "name": "stdout",
          "text": [
            "Computing the pearson similarity matrix...\n",
            "Done computing similarity matrix.\n"
          ]
        },
        {
          "output_type": "stream",
          "name": "stderr",
          "text": [
            "[I 2024-09-02 15:40:31,722] Trial 147 finished with value: 1.0348218584108047 and parameters: {'algorithm': 'KNNBasic', 'k': 38, 'min_k': 2, 'name': 'pearson', 'user_based': False}. Best is trial 100 with value: 0.919528898414644.\n",
            "[I 2024-09-02 15:40:32,009] Trial 148 finished with value: 0.9213499223708296 and parameters: {'algorithm': 'SVD', 'n_factors': 39, 'n_epochs': 28, 'lr_all': 0.03915778879153034, 'reg_all': 0.08795122724277385}. Best is trial 100 with value: 0.919528898414644.\n",
            "[I 2024-09-02 15:40:32,276] Trial 149 finished with value: 0.9269702929686934 and parameters: {'algorithm': 'SVD', 'n_factors': 29, 'n_epochs': 28, 'lr_all': 0.03927985454432513, 'reg_all': 0.0681394422826997}. Best is trial 100 with value: 0.919528898414644.\n",
            "[I 2024-09-02 15:40:33,419] Trial 150 finished with value: 1.0171814163883979 and parameters: {'algorithm': 'CoClustering', 'n_cltr_u': 5, 'n_cltr_i': 8, 'n_epochs': 30}. Best is trial 100 with value: 0.919528898414644.\n",
            "[I 2024-09-02 15:40:33,905] Trial 151 finished with value: 0.9250160596358799 and parameters: {'algorithm': 'SVD', 'n_factors': 140, 'n_epochs': 27, 'lr_all': 0.050325828376225706, 'reg_all': 0.08737622617933372}. Best is trial 100 with value: 0.919528898414644.\n",
            "[I 2024-09-02 15:40:34,205] Trial 152 finished with value: 0.9251170383127412 and parameters: {'algorithm': 'SVD', 'n_factors': 40, 'n_epochs': 29, 'lr_all': 0.037181262301206885, 'reg_all': 0.08743039761930402}. Best is trial 100 with value: 0.919528898414644.\n",
            "[I 2024-09-02 15:40:34,483] Trial 153 finished with value: 0.9269300292977842 and parameters: {'algorithm': 'SVD', 'n_factors': 33, 'n_epochs': 28, 'lr_all': 0.02984609683496124, 'reg_all': 0.0743084066076032}. Best is trial 100 with value: 0.919528898414644.\n",
            "[I 2024-09-02 15:40:34,775] Trial 154 finished with value: 0.9310243163883922 and parameters: {'algorithm': 'SVD', 'n_factors': 39, 'n_epochs': 31, 'lr_all': 0.040816739095082356, 'reg_all': 0.05643053995092472}. Best is trial 100 with value: 0.919528898414644.\n",
            "[I 2024-09-02 15:40:35,199] Trial 155 finished with value: 0.955438923958991 and parameters: {'algorithm': 'SVD', 'n_factors': 87, 'n_epochs': 32, 'lr_all': 0.05831123776402058, 'reg_all': 0.005802307472605622}. Best is trial 100 with value: 0.919528898414644.\n",
            "[I 2024-09-02 15:40:35,676] Trial 156 finished with value: 0.9242533011642154 and parameters: {'algorithm': 'SVD', 'n_factors': 104, 'n_epochs': 30, 'lr_all': 0.0315233401898982, 'reg_all': 0.08935737156017473}. Best is trial 100 with value: 0.919528898414644.\n",
            "[I 2024-09-02 15:40:35,957] Trial 157 finished with value: 0.9778889288091073 and parameters: {'algorithm': 'SVD', 'n_factors': 44, 'n_epochs': 27, 'lr_all': 0.07003010377107247, 'reg_all': 0.0017275437369683323}. Best is trial 100 with value: 0.919528898414644.\n",
            "[I 2024-09-02 15:40:36,326] Trial 158 finished with value: 0.9982600918570096 and parameters: {'algorithm': 'SVD', 'n_factors': 49, 'n_epochs': 24, 'lr_all': 0.035524828699059346, 'reg_all': 0.0003616132275334588}. Best is trial 100 with value: 0.919528898414644.\n",
            "[I 2024-09-02 15:40:36,597] Trial 159 finished with value: 0.9296307999866056 and parameters: {'algorithm': 'SVD', 'n_factors': 33, 'n_epochs': 28, 'lr_all': 0.022471856943368448, 'reg_all': 0.06415101335064925}. Best is trial 100 with value: 0.919528898414644.\n",
            "[I 2024-09-02 15:40:36,739] Trial 160 finished with value: 0.9594124318030148 and parameters: {'algorithm': 'BaselineOnly', 'method': 'sgd', 'reg_u': 8.342742138929897e-05, 'reg_i': 0.0001265496834687478}. Best is trial 100 with value: 0.919528898414644.\n"
          ]
        },
        {
          "output_type": "stream",
          "name": "stdout",
          "text": [
            "Estimating biases using sgd...\n"
          ]
        },
        {
          "output_type": "stream",
          "name": "stderr",
          "text": [
            "[I 2024-09-02 15:40:37,035] Trial 161 finished with value: 0.9266868497869308 and parameters: {'algorithm': 'SVD', 'n_factors': 37, 'n_epochs': 29, 'lr_all': 0.02584476403405723, 'reg_all': 0.07734080963882461}. Best is trial 100 with value: 0.919528898414644.\n",
            "[I 2024-09-02 15:40:37,299] Trial 162 finished with value: 0.9291757384603163 and parameters: {'algorithm': 'SVD', 'n_factors': 30, 'n_epochs': 26, 'lr_all': 0.04801031933843137, 'reg_all': 0.06778009508757195}. Best is trial 100 with value: 0.919528898414644.\n",
            "[I 2024-09-02 15:40:37,713] Trial 163 finished with value: 0.9207962967754298 and parameters: {'algorithm': 'SVD', 'n_factors': 42, 'n_epochs': 38, 'lr_all': 0.020133313972594078, 'reg_all': 0.09992862756416902}. Best is trial 100 with value: 0.919528898414644.\n",
            "[I 2024-09-02 15:40:38,973] Trial 164 finished with value: 0.9255706526695004 and parameters: {'algorithm': 'SVD', 'n_factors': 161, 'n_epochs': 44, 'lr_all': 0.019473872171196217, 'reg_all': 0.08688374371541571}. Best is trial 100 with value: 0.919528898414644.\n",
            "[I 2024-09-02 15:40:39,469] Trial 165 finished with value: 0.9232851378126223 and parameters: {'algorithm': 'SVD', 'n_factors': 41, 'n_epochs': 32, 'lr_all': 0.039444566137423996, 'reg_all': 0.09250523129500328}. Best is trial 100 with value: 0.919528898414644.\n",
            "[I 2024-09-02 15:40:39,991] Trial 166 finished with value: 0.921184378391438 and parameters: {'algorithm': 'SVD', 'n_factors': 46, 'n_epochs': 30, 'lr_all': 0.02869839610213562, 'reg_all': 0.09859148200589953}. Best is trial 100 with value: 0.919528898414644.\n",
            "[I 2024-09-02 15:40:40,549] Trial 167 finished with value: 0.9237481732917207 and parameters: {'algorithm': 'SVD', 'n_factors': 54, 'n_epochs': 30, 'lr_all': 0.030530630885526242, 'reg_all': 0.07571674159802538}. Best is trial 100 with value: 0.919528898414644.\n",
            "[I 2024-09-02 15:40:40,930] Trial 168 finished with value: 0.9263741362557715 and parameters: {'algorithm': 'SVD', 'n_factors': 47, 'n_epochs': 35, 'lr_all': 0.021727814882938505, 'reg_all': 0.07849385434915432}. Best is trial 100 with value: 0.919528898414644.\n",
            "[I 2024-09-02 15:40:41,219] Trial 169 finished with value: 0.9230023544530546 and parameters: {'algorithm': 'SVD', 'n_factors': 25, 'n_epochs': 33, 'lr_all': 0.026956985390171148, 'reg_all': 0.09950065639734723}. Best is trial 100 with value: 0.919528898414644.\n",
            "[I 2024-09-02 15:40:41,511] Trial 170 finished with value: 0.9381631112206101 and parameters: {'algorithm': 'SVD', 'n_factors': 34, 'n_epochs': 31, 'lr_all': 0.033986302629131396, 'reg_all': 0.050770580624101}. Best is trial 100 with value: 0.919528898414644.\n",
            "[I 2024-09-02 15:40:41,810] Trial 171 finished with value: 0.9238244411061182 and parameters: {'algorithm': 'SVD', 'n_factors': 42, 'n_epochs': 29, 'lr_all': 0.04317800467010791, 'reg_all': 0.0879824678538586}. Best is trial 100 with value: 0.919528898414644.\n",
            "[I 2024-09-02 15:40:42,066] Trial 172 finished with value: 0.9228429878780655 and parameters: {'algorithm': 'SVD', 'n_factors': 38, 'n_epochs': 27, 'lr_all': 0.05493023800642207, 'reg_all': 0.09847398140474922}. Best is trial 100 with value: 0.919528898414644.\n",
            "[I 2024-09-02 15:40:42,349] Trial 173 finished with value: 0.9263210954546903 and parameters: {'algorithm': 'SVD', 'n_factors': 44, 'n_epochs': 28, 'lr_all': 0.03437418494820935, 'reg_all': 0.07848277522483434}. Best is trial 100 with value: 0.919528898414644.\n",
            "[I 2024-09-02 15:40:42,649] Trial 174 finished with value: 0.9582199730011555 and parameters: {'algorithm': 'SVD', 'n_factors': 49, 'n_epochs': 26, 'lr_all': 0.00423107163624109, 'reg_all': 0.09954434372609507}. Best is trial 100 with value: 0.919528898414644.\n",
            "[I 2024-09-02 15:40:42,943] Trial 175 finished with value: 0.9269144808850148 and parameters: {'algorithm': 'SVD', 'n_factors': 40, 'n_epochs': 30, 'lr_all': 0.029294009183208947, 'reg_all': 0.06533301523108424}. Best is trial 100 with value: 0.919528898414644.\n",
            "[I 2024-09-02 15:40:43,169] Trial 176 finished with value: 0.9226933399544952 and parameters: {'algorithm': 'SVD', 'n_factors': 29, 'n_epochs': 25, 'lr_all': 0.017365107376019016, 'reg_all': 0.0860235604064149}. Best is trial 100 with value: 0.919528898414644.\n",
            "[I 2024-09-02 15:40:43,429] Trial 177 finished with value: 0.9226417898491005 and parameters: {'algorithm': 'SVD', 'n_factors': 29, 'n_epochs': 29, 'lr_all': 0.02008740860531392, 'reg_all': 0.08378235922253098}. Best is trial 100 with value: 0.919528898414644.\n",
            "[I 2024-09-02 15:40:43,733] Trial 178 finished with value: 0.9283981770015398 and parameters: {'algorithm': 'SVD', 'n_factors': 28, 'n_epochs': 31, 'lr_all': 0.017893325545974115, 'reg_all': 0.05985007090125322}. Best is trial 100 with value: 0.919528898414644.\n"
          ]
        },
        {
          "output_type": "stream",
          "name": "stdout",
          "text": [
            "Computing the cosine similarity matrix...\n",
            "Done computing similarity matrix.\n"
          ]
        },
        {
          "output_type": "stream",
          "name": "stderr",
          "text": [
            "[I 2024-09-02 15:40:45,529] Trial 179 finished with value: 1.1449319944608531 and parameters: {'algorithm': 'KNNBasic', 'k': 33, 'min_k': 5, 'name': 'cosine', 'user_based': True}. Best is trial 100 with value: 0.919528898414644.\n",
            "[I 2024-09-02 15:40:45,886] Trial 180 finished with value: 0.9244353082155697 and parameters: {'algorithm': 'SVD', 'n_factors': 23, 'n_epochs': 39, 'lr_all': 0.015364679843956137, 'reg_all': 0.07194917401792397}. Best is trial 100 with value: 0.919528898414644.\n",
            "[I 2024-09-02 15:40:46,168] Trial 181 finished with value: 0.9244296886295637 and parameters: {'algorithm': 'SVD', 'n_factors': 32, 'n_epochs': 29, 'lr_all': 0.020016659617798346, 'reg_all': 0.08517136512074423}. Best is trial 100 with value: 0.919528898414644.\n",
            "[I 2024-09-02 15:40:46,435] Trial 182 finished with value: 0.9273222624332587 and parameters: {'algorithm': 'SVD', 'n_factors': 35, 'n_epochs': 27, 'lr_all': 0.02379226506924129, 'reg_all': 0.08133558989049904}. Best is trial 100 with value: 0.919528898414644.\n",
            "[I 2024-09-02 15:40:46,731] Trial 183 finished with value: 0.9209355643941755 and parameters: {'algorithm': 'SVD', 'n_factors': 29, 'n_epochs': 29, 'lr_all': 0.013747018403294536, 'reg_all': 0.08744923651124077}. Best is trial 100 with value: 0.919528898414644.\n",
            "[I 2024-09-02 15:40:46,993] Trial 184 finished with value: 0.9325360180178854 and parameters: {'algorithm': 'SVD', 'n_factors': 27, 'n_epochs': 28, 'lr_all': 0.010158129811044752, 'reg_all': 0.0737969179634691}. Best is trial 100 with value: 0.919528898414644.\n",
            "[I 2024-09-02 15:40:47,281] Trial 185 finished with value: 0.9240829542596363 and parameters: {'algorithm': 'SVD', 'n_factors': 31, 'n_epochs': 30, 'lr_all': 0.013055217893228969, 'reg_all': 0.09948612523046048}. Best is trial 100 with value: 0.919528898414644.\n",
            "[I 2024-09-02 15:40:48,404] Trial 186 finished with value: 1.0169489474783144 and parameters: {'algorithm': 'CoClustering', 'n_cltr_u': 8, 'n_cltr_i': 4, 'n_epochs': 29}. Best is trial 100 with value: 0.919528898414644.\n",
            "[I 2024-09-02 15:40:48,714] Trial 187 finished with value: 0.9278082914688901 and parameters: {'algorithm': 'SVD', 'n_factors': 36, 'n_epochs': 32, 'lr_all': 0.015158236031896546, 'reg_all': 0.0657811647112872}. Best is trial 100 with value: 0.919528898414644.\n",
            "[I 2024-09-02 15:40:49,071] Trial 188 finished with value: 0.9300955030271925 and parameters: {'algorithm': 'SVD', 'n_factors': 79, 'n_epochs': 26, 'lr_all': 0.018042352557226138, 'reg_all': 0.085979948125555}. Best is trial 100 with value: 0.919528898414644.\n",
            "[I 2024-09-02 15:40:49,398] Trial 189 finished with value: 1.012973837427526 and parameters: {'algorithm': 'SVD', 'n_factors': 29, 'n_epochs': 23, 'lr_all': 0.026166446192671083, 'reg_all': 0.00010584099916981454}. Best is trial 100 with value: 0.919528898414644.\n",
            "[I 2024-09-02 15:40:49,686] Trial 190 finished with value: 0.9259513119501585 and parameters: {'algorithm': 'SVD', 'n_factors': 21, 'n_epochs': 34, 'lr_all': 0.022514994169476044, 'reg_all': 0.07664074900029326}. Best is trial 100 with value: 0.919528898414644.\n",
            "[I 2024-09-02 15:40:50,006] Trial 191 finished with value: 0.9202857405582174 and parameters: {'algorithm': 'SVD', 'n_factors': 39, 'n_epochs': 29, 'lr_all': 0.0367658193697529, 'reg_all': 0.08730637727988651}. Best is trial 100 with value: 0.919528898414644.\n",
            "[I 2024-09-02 15:40:50,293] Trial 192 finished with value: 0.9267320627388506 and parameters: {'algorithm': 'SVD', 'n_factors': 37, 'n_epochs': 28, 'lr_all': 0.030485012583724904, 'reg_all': 0.08629196156370209}. Best is trial 100 with value: 0.919528898414644.\n",
            "[I 2024-09-02 15:40:50,576] Trial 193 finished with value: 0.9194231065558269 and parameters: {'algorithm': 'SVD', 'n_factors': 33, 'n_epochs': 30, 'lr_all': 0.020720172017789286, 'reg_all': 0.09882223148532099}. Best is trial 193 with value: 0.9194231065558269.\n",
            "[I 2024-09-02 15:40:51,062] Trial 194 finished with value: 0.9224205101062279 and parameters: {'algorithm': 'SVD', 'n_factors': 34, 'n_epochs': 30, 'lr_all': 0.02102578728686248, 'reg_all': 0.09902402271446308}. Best is trial 193 with value: 0.9194231065558269.\n",
            "[I 2024-09-02 15:40:51,541] Trial 195 finished with value: 0.9213333031770847 and parameters: {'algorithm': 'SVD', 'n_factors': 39, 'n_epochs': 31, 'lr_all': 0.03990535749043501, 'reg_all': 0.09625302900336753}. Best is trial 193 with value: 0.9194231065558269.\n",
            "[I 2024-09-02 15:40:52,026] Trial 196 finished with value: 0.9230664707679818 and parameters: {'algorithm': 'SVD', 'n_factors': 40, 'n_epochs': 31, 'lr_all': 0.04090516979776468, 'reg_all': 0.09886313086546217}. Best is trial 193 with value: 0.9194231065558269.\n",
            "[I 2024-09-02 15:40:52,510] Trial 197 finished with value: 0.9267295814452183 and parameters: {'algorithm': 'SVD', 'n_factors': 34, 'n_epochs': 32, 'lr_all': 0.027070472114156637, 'reg_all': 0.09064604896342494}. Best is trial 193 with value: 0.9194231065558269.\n",
            "[I 2024-09-02 15:40:52,723] Trial 198 finished with value: 0.9594124318030148 and parameters: {'algorithm': 'BaselineOnly', 'method': 'sgd', 'reg_u': 0.00010822878483442151, 'reg_i': 0.0035275074358374027}. Best is trial 193 with value: 0.9194231065558269.\n"
          ]
        },
        {
          "output_type": "stream",
          "name": "stdout",
          "text": [
            "Estimating biases using sgd...\n"
          ]
        },
        {
          "output_type": "stream",
          "name": "stderr",
          "text": [
            "[I 2024-09-02 15:40:53,227] Trial 199 finished with value: 0.9232852852329027 and parameters: {'algorithm': 'SVD', 'n_factors': 39, 'n_epochs': 30, 'lr_all': 0.02427511166197484, 'reg_all': 0.0982519389197292}. Best is trial 193 with value: 0.9194231065558269.\n",
            "[I 2024-09-02 15:40:53,611] Trial 200 finished with value: 0.9260584434514704 and parameters: {'algorithm': 'SVD', 'n_factors': 34, 'n_epochs': 31, 'lr_all': 0.031026666185937173, 'reg_all': 0.07512751891802058}. Best is trial 193 with value: 0.9194231065558269.\n",
            "[I 2024-09-02 15:40:53,922] Trial 201 finished with value: 0.9257885172313329 and parameters: {'algorithm': 'SVD', 'n_factors': 38, 'n_epochs': 30, 'lr_all': 0.03550065790152435, 'reg_all': 0.07035968321632016}. Best is trial 193 with value: 0.9194231065558269.\n",
            "[I 2024-09-02 15:40:54,227] Trial 202 finished with value: 0.9225783428955067 and parameters: {'algorithm': 'SVD', 'n_factors': 43, 'n_epochs': 30, 'lr_all': 0.04226836265145988, 'reg_all': 0.0997453071662273}. Best is trial 193 with value: 0.9194231065558269.\n",
            "[I 2024-09-02 15:40:54,508] Trial 203 finished with value: 0.9649113847447597 and parameters: {'algorithm': 'SVD', 'n_factors': 33, 'n_epochs': 32, 'lr_all': 0.04961910446862349, 'reg_all': 0.013924260578021196}. Best is trial 193 with value: 0.9194231065558269.\n",
            "[I 2024-09-02 15:40:54,790] Trial 204 finished with value: 0.9218945645609357 and parameters: {'algorithm': 'SVD', 'n_factors': 38, 'n_epochs': 28, 'lr_all': 0.03463965057493338, 'reg_all': 0.07993068494844172}. Best is trial 193 with value: 0.9194231065558269.\n",
            "[I 2024-09-02 15:40:55,083] Trial 205 finished with value: 0.9268693887135968 and parameters: {'algorithm': 'SVD', 'n_factors': 37, 'n_epochs': 28, 'lr_all': 0.02796131387365044, 'reg_all': 0.08555232617805676}. Best is trial 193 with value: 0.9194231065558269.\n",
            "[I 2024-09-02 15:40:55,374] Trial 206 finished with value: 1.023020476211197 and parameters: {'algorithm': 'SVD', 'n_factors': 46, 'n_epochs': 27, 'lr_all': 0.0010052079254624707, 'reg_all': 0.07993610224514201}. Best is trial 193 with value: 0.9194231065558269.\n",
            "[I 2024-09-02 15:40:55,689] Trial 207 finished with value: 0.9197659381306874 and parameters: {'algorithm': 'SVD', 'n_factors': 41, 'n_epochs': 29, 'lr_all': 0.03220157644749921, 'reg_all': 0.09981135691985804}. Best is trial 193 with value: 0.9194231065558269.\n",
            "[I 2024-09-02 15:40:56,011] Trial 208 finished with value: 0.9350810891552068 and parameters: {'algorithm': 'SVD', 'n_factors': 42, 'n_epochs': 29, 'lr_all': 0.021610806077728677, 'reg_all': 0.06365776593577249}. Best is trial 193 with value: 0.9194231065558269.\n",
            "[I 2024-09-02 15:40:56,301] Trial 209 finished with value: 0.9214330037890522 and parameters: {'algorithm': 'SVD', 'n_factors': 41, 'n_epochs': 28, 'lr_all': 0.03476246400526186, 'reg_all': 0.08841232783756175}. Best is trial 193 with value: 0.9194231065558269.\n",
            "[I 2024-09-02 15:40:56,602] Trial 210 finished with value: 0.9276341341715298 and parameters: {'algorithm': 'SVD', 'n_factors': 51, 'n_epochs': 27, 'lr_all': 0.03905597053385762, 'reg_all': 0.07570255127949847}. Best is trial 193 with value: 0.9194231065558269.\n",
            "[I 2024-09-02 15:40:56,907] Trial 211 finished with value: 0.9236759465008046 and parameters: {'algorithm': 'SVD', 'n_factors': 41, 'n_epochs': 29, 'lr_all': 0.033089068089262895, 'reg_all': 0.09951934146740049}. Best is trial 193 with value: 0.9194231065558269.\n",
            "[I 2024-09-02 15:40:57,200] Trial 212 finished with value: 0.9252375492217371 and parameters: {'algorithm': 'SVD', 'n_factors': 37, 'n_epochs': 28, 'lr_all': 0.029903614474723412, 'reg_all': 0.08810877848983481}. Best is trial 193 with value: 0.9194231065558269.\n",
            "[I 2024-09-02 15:40:57,518] Trial 213 finished with value: 0.9213549635080838 and parameters: {'algorithm': 'SVD', 'n_factors': 45, 'n_epochs': 29, 'lr_all': 0.02552729898509406, 'reg_all': 0.08995293026501638}. Best is trial 193 with value: 0.9194231065558269.\n",
            "[I 2024-09-02 15:40:57,987] Trial 214 finished with value: 0.9222482797936516 and parameters: {'algorithm': 'SVD', 'n_factors': 46, 'n_epochs': 49, 'lr_all': 0.026265985426277286, 'reg_all': 0.08644890897119588}. Best is trial 193 with value: 0.9194231065558269.\n",
            "[I 2024-09-02 15:40:58,448] Trial 215 finished with value: 0.920098057101191 and parameters: {'algorithm': 'SVD', 'n_factors': 46, 'n_epochs': 43, 'lr_all': 0.02733653745909566, 'reg_all': 0.0768840608070959}. Best is trial 193 with value: 0.9194231065558269.\n",
            "[I 2024-09-02 15:40:58,883] Trial 216 finished with value: 0.9274668677738667 and parameters: {'algorithm': 'SVD', 'n_factors': 49, 'n_epochs': 42, 'lr_all': 0.036816877836851905, 'reg_all': 0.05783330467376023}. Best is trial 193 with value: 0.9194231065558269.\n",
            "[I 2024-09-02 15:40:59,355] Trial 217 finished with value: 0.9225634322261644 and parameters: {'algorithm': 'SVD', 'n_factors': 43, 'n_epochs': 48, 'lr_all': 0.04518876834355243, 'reg_all': 0.07688173662990275}. Best is trial 193 with value: 0.9194231065558269.\n",
            "[I 2024-09-02 15:40:59,639] Trial 218 finished with value: 0.9263752017477878 and parameters: {'algorithm': 'SVD', 'n_factors': 40, 'n_epochs': 28, 'lr_all': 0.02879050361160624, 'reg_all': 0.07133383092680431}. Best is trial 193 with value: 0.9194231065558269.\n",
            "[I 2024-09-02 15:41:00,126] Trial 219 finished with value: 0.9249091408262875 and parameters: {'algorithm': 'SVD', 'n_factors': 55, 'n_epochs': 44, 'lr_all': 0.023794081422081656, 'reg_all': 0.08564845355314014}. Best is trial 193 with value: 0.9194231065558269.\n"
          ]
        },
        {
          "output_type": "stream",
          "name": "stdout",
          "text": [
            "Computing the pearson similarity matrix...\n",
            "Done computing similarity matrix.\n"
          ]
        },
        {
          "output_type": "stream",
          "name": "stderr",
          "text": [
            "[I 2024-09-02 15:41:00,403] Trial 220 finished with value: 1.0273843218291736 and parameters: {'algorithm': 'KNNBasic', 'k': 20, 'min_k': 1, 'name': 'pearson', 'user_based': False}. Best is trial 193 with value: 0.9194231065558269.\n",
            "[I 2024-09-02 15:41:00,883] Trial 221 finished with value: 0.9240065883421094 and parameters: {'algorithm': 'SVD', 'n_factors': 46, 'n_epochs': 49, 'lr_all': 0.025824445819957974, 'reg_all': 0.08717813956512098}. Best is trial 193 with value: 0.9194231065558269.\n",
            "[I 2024-09-02 15:41:01,205] Trial 222 finished with value: 0.9250057470176395 and parameters: {'algorithm': 'SVD', 'n_factors': 46, 'n_epochs': 29, 'lr_all': 0.03293377369077716, 'reg_all': 0.08011385629632517}. Best is trial 193 with value: 0.9194231065558269.\n",
            "[I 2024-09-02 15:41:01,602] Trial 223 finished with value: 0.9252901519892299 and parameters: {'algorithm': 'SVD', 'n_factors': 51, 'n_epochs': 27, 'lr_all': 0.026819838929744013, 'reg_all': 0.08821989252027054}. Best is trial 193 with value: 0.9194231065558269.\n",
            "[I 2024-09-02 15:41:01,914] Trial 224 finished with value: 0.927584071296998 and parameters: {'algorithm': 'SVD', 'n_factors': 43, 'n_epochs': 28, 'lr_all': 0.03805541899728148, 'reg_all': 0.06542572006601659}. Best is trial 193 with value: 0.9194231065558269.\n",
            "[I 2024-09-02 15:41:02,320] Trial 225 finished with value: 0.9222630770079412 and parameters: {'algorithm': 'SVD', 'n_factors': 40, 'n_epochs': 42, 'lr_all': 0.031027895853289234, 'reg_all': 0.0996426362603512}. Best is trial 193 with value: 0.9194231065558269.\n",
            "[I 2024-09-02 15:41:02,799] Trial 226 finished with value: 0.9249376015581574 and parameters: {'algorithm': 'SVD', 'n_factors': 46, 'n_epochs': 47, 'lr_all': 0.023856147599211338, 'reg_all': 0.07790567228106551}. Best is trial 193 with value: 0.9194231065558269.\n",
            "[I 2024-09-02 15:41:03,253] Trial 227 finished with value: 0.9273897478386327 and parameters: {'algorithm': 'SVD', 'n_factors': 38, 'n_epochs': 50, 'lr_all': 0.04376921693868692, 'reg_all': 0.08911978623526766}. Best is trial 193 with value: 0.9194231065558269.\n",
            "[I 2024-09-02 15:41:05,817] Trial 228 finished with value: 1.0478072786247168 and parameters: {'algorithm': 'CoClustering', 'n_cltr_u': 4, 'n_cltr_i': 9, 'n_epochs': 45}. Best is trial 193 with value: 0.9194231065558269.\n",
            "[I 2024-09-02 15:41:06,364] Trial 229 finished with value: 0.9259652391441552 and parameters: {'algorithm': 'SVD', 'n_factors': 42, 'n_epochs': 40, 'lr_all': 0.03504660940580737, 'reg_all': 0.06823020429286389}. Best is trial 193 with value: 0.9194231065558269.\n",
            "[I 2024-09-02 15:41:06,644] Trial 230 finished with value: 0.9260230210218081 and parameters: {'algorithm': 'SVD', 'n_factors': 49, 'n_epochs': 26, 'lr_all': 0.01976131025113484, 'reg_all': 0.07880579519003081}. Best is trial 193 with value: 0.9194231065558269.\n",
            "[I 2024-09-02 15:41:07,035] Trial 231 finished with value: 0.9203365387873627 and parameters: {'algorithm': 'SVD', 'n_factors': 39, 'n_epochs': 42, 'lr_all': 0.030647687591544386, 'reg_all': 0.09847026650469612}. Best is trial 193 with value: 0.9194231065558269.\n",
            "[I 2024-09-02 15:41:07,443] Trial 232 finished with value: 0.9318700599894695 and parameters: {'algorithm': 'SVD', 'n_factors': 37, 'n_epochs': 46, 'lr_all': 0.00664184334086398, 'reg_all': 0.08926558807106953}. Best is trial 193 with value: 0.9194231065558269.\n",
            "[I 2024-09-02 15:41:07,732] Trial 233 finished with value: 0.920863643199423 and parameters: {'algorithm': 'SVD', 'n_factors': 40, 'n_epochs': 29, 'lr_all': 0.028733943660573486, 'reg_all': 0.09971468497070894}. Best is trial 193 with value: 0.9194231065558269.\n",
            "[I 2024-09-02 15:41:08,091] Trial 234 finished with value: 0.9240933113287322 and parameters: {'algorithm': 'SVD', 'n_factors': 32, 'n_epochs': 42, 'lr_all': 0.030285855289095838, 'reg_all': 0.09034487483828313}. Best is trial 193 with value: 0.9194231065558269.\n",
            "[I 2024-09-02 15:41:08,486] Trial 235 finished with value: 0.9238494828937797 and parameters: {'algorithm': 'SVD', 'n_factors': 40, 'n_epochs': 43, 'lr_all': 0.03533823360627345, 'reg_all': 0.0738280173150004}. Best is trial 193 with value: 0.9194231065558269.\n",
            "[I 2024-09-02 15:41:08,791] Trial 236 finished with value: 0.9248481687422627 and parameters: {'algorithm': 'SVD', 'n_factors': 36, 'n_epochs': 31, 'lr_all': 0.04010164909668738, 'reg_all': 0.09133687146913001}. Best is trial 193 with value: 0.9194231065558269.\n",
            "[I 2024-09-02 15:41:09,097] Trial 237 finished with value: 0.9214282423417606 and parameters: {'algorithm': 'SVD', 'n_factors': 43, 'n_epochs': 29, 'lr_all': 0.028932761940660794, 'reg_all': 0.09971739675105133}. Best is trial 193 with value: 0.9194231065558269.\n",
            "[I 2024-09-02 15:41:09,396] Trial 238 finished with value: 0.9236816347878252 and parameters: {'algorithm': 'SVD', 'n_factors': 42, 'n_epochs': 29, 'lr_all': 0.02842350846083061, 'reg_all': 0.09797021230238667}. Best is trial 193 with value: 0.9194231065558269.\n",
            "[I 2024-09-02 15:41:09,714] Trial 239 finished with value: 0.9269338953004256 and parameters: {'algorithm': 'SVD', 'n_factors': 44, 'n_epochs': 28, 'lr_all': 0.022828061796508668, 'reg_all': 0.07879691033507448}. Best is trial 193 with value: 0.9194231065558269.\n",
            "[I 2024-09-02 15:41:10,006] Trial 240 finished with value: 0.9168184450913348 and parameters: {'algorithm': 'SVD', 'n_factors': 39, 'n_epochs': 29, 'lr_all': 0.031797588097579745, 'reg_all': 0.09917243882916699}. Best is trial 240 with value: 0.9168184450913348.\n",
            "[I 2024-09-02 15:41:10,306] Trial 241 finished with value: 0.923586822130342 and parameters: {'algorithm': 'SVD', 'n_factors': 39, 'n_epochs': 29, 'lr_all': 0.03093667850294232, 'reg_all': 0.09800660279619987}. Best is trial 240 with value: 0.9168184450913348.\n",
            "[I 2024-09-02 15:41:10,964] Trial 242 finished with value: 0.9254780557077862 and parameters: {'algorithm': 'SVD', 'n_factors': 193, 'n_epochs': 30, 'lr_all': 0.027807895645490934, 'reg_all': 0.09966316999248248}. Best is trial 240 with value: 0.9168184450913348.\n",
            "[I 2024-09-02 15:41:11,237] Trial 243 finished with value: 0.9978879022042342 and parameters: {'algorithm': 'SVD', 'n_factors': 37, 'n_epochs': 27, 'lr_all': 0.03345593252254541, 'reg_all': 0.0006773633636229975}. Best is trial 240 with value: 0.9168184450913348.\n",
            "[I 2024-09-02 15:41:11,549] Trial 244 finished with value: 0.9229402880980246 and parameters: {'algorithm': 'SVD', 'n_factors': 43, 'n_epochs': 29, 'lr_all': 0.025432901232681274, 'reg_all': 0.0823800213514554}. Best is trial 240 with value: 0.9168184450913348.\n",
            "[I 2024-09-02 15:41:11,675] Trial 245 finished with value: 0.9594124318030148 and parameters: {'algorithm': 'BaselineOnly', 'method': 'sgd', 'reg_u': 0.00020020252775821427, 'reg_i': 0.008355353662731407}. Best is trial 240 with value: 0.9168184450913348.\n"
          ]
        },
        {
          "output_type": "stream",
          "name": "stdout",
          "text": [
            "Estimating biases using sgd...\n"
          ]
        },
        {
          "output_type": "stream",
          "name": "stderr",
          "text": [
            "[I 2024-09-02 15:41:11,957] Trial 246 finished with value: 0.9265522780294606 and parameters: {'algorithm': 'SVD', 'n_factors': 33, 'n_epochs': 28, 'lr_all': 0.016510551498867074, 'reg_all': 0.08578128117239853}. Best is trial 240 with value: 0.9168184450913348.\n",
            "[I 2024-09-02 15:41:12,334] Trial 247 finished with value: 0.9298478445556019 and parameters: {'algorithm': 'SVD', 'n_factors': 40, 'n_epochs': 41, 'lr_all': 0.03254285334995107, 'reg_all': 0.07147391295787378}. Best is trial 240 with value: 0.9168184450913348.\n",
            "[I 2024-09-02 15:41:12,640] Trial 248 finished with value: 0.9225765675133845 and parameters: {'algorithm': 'SVD', 'n_factors': 47, 'n_epochs': 24, 'lr_all': 0.03742178422480817, 'reg_all': 0.09901635799682956}. Best is trial 240 with value: 0.9168184450913348.\n",
            "[I 2024-09-02 15:41:12,998] Trial 249 finished with value: 0.9217305256705404 and parameters: {'algorithm': 'SVD', 'n_factors': 36, 'n_epochs': 38, 'lr_all': 0.022698132221650527, 'reg_all': 0.08013726728207841}. Best is trial 240 with value: 0.9168184450913348.\n",
            "[I 2024-09-02 15:41:13,280] Trial 250 finished with value: 0.9197191987132299 and parameters: {'algorithm': 'SVD', 'n_factors': 32, 'n_epochs': 30, 'lr_all': 0.020367332096774583, 'reg_all': 0.09998681521353035}. Best is trial 240 with value: 0.9168184450913348.\n",
            "[I 2024-09-02 15:41:13,851] Trial 251 finished with value: 0.9235682726806426 and parameters: {'algorithm': 'SVD', 'n_factors': 31, 'n_epochs': 31, 'lr_all': 0.01857375056155667, 'reg_all': 0.08957383512018412}. Best is trial 240 with value: 0.9168184450913348.\n",
            "[I 2024-09-02 15:41:14,168] Trial 252 finished with value: 0.9200603518156275 and parameters: {'algorithm': 'SVD', 'n_factors': 44, 'n_epochs': 30, 'lr_all': 0.020846060558367935, 'reg_all': 0.09891474130126338}. Best is trial 240 with value: 0.9168184450913348.\n",
            "[I 2024-09-02 15:41:14,583] Trial 253 finished with value: 0.9267772928468438 and parameters: {'algorithm': 'SVD', 'n_factors': 50, 'n_epochs': 30, 'lr_all': 0.02038742493505515, 'reg_all': 0.0995629628564604}. Best is trial 240 with value: 0.9168184450913348.\n",
            "[I 2024-09-02 15:41:14,915] Trial 254 finished with value: 0.9241102522140193 and parameters: {'algorithm': 'SVD', 'n_factors': 45, 'n_epochs': 30, 'lr_all': 0.013711603203121777, 'reg_all': 0.09949581451458868}. Best is trial 240 with value: 0.9168184450913348.\n",
            "[I 2024-09-02 15:41:15,213] Trial 255 finished with value: 0.9252603691861815 and parameters: {'algorithm': 'SVD', 'n_factors': 34, 'n_epochs': 31, 'lr_all': 0.01619261575157339, 'reg_all': 0.07202294336433207}. Best is trial 240 with value: 0.9168184450913348.\n",
            "[I 2024-09-02 15:41:15,471] Trial 256 finished with value: 0.9253304770565388 and parameters: {'algorithm': 'SVD', 'n_factors': 26, 'n_epochs': 30, 'lr_all': 0.020912438329599034, 'reg_all': 0.08602467667122113}. Best is trial 240 with value: 0.9168184450913348.\n",
            "[I 2024-09-02 15:41:15,787] Trial 257 finished with value: 0.9252389800032927 and parameters: {'algorithm': 'SVD', 'n_factors': 40, 'n_epochs': 31, 'lr_all': 0.02444510904110667, 'reg_all': 0.09995276211908992}. Best is trial 240 with value: 0.9168184450913348.\n"
          ]
        },
        {
          "output_type": "stream",
          "name": "stdout",
          "text": [
            "Computing the pearson similarity matrix...\n",
            "Done computing similarity matrix.\n"
          ]
        },
        {
          "output_type": "stream",
          "name": "stderr",
          "text": [
            "[I 2024-09-02 15:41:18,679] Trial 258 finished with value: 1.1592889194635403 and parameters: {'algorithm': 'KNNBasic', 'k': 15, 'min_k': 3, 'name': 'pearson', 'user_based': True}. Best is trial 240 with value: 0.9168184450913348.\n",
            "[I 2024-09-02 15:41:19,106] Trial 259 finished with value: 0.9236870100276569 and parameters: {'algorithm': 'SVD', 'n_factors': 54, 'n_epochs': 29, 'lr_all': 0.01812153770988746, 'reg_all': 0.0794713464205314}. Best is trial 240 with value: 0.9168184450913348.\n",
            "[I 2024-09-02 15:41:19,442] Trial 260 finished with value: 0.9650855177763946 and parameters: {'algorithm': 'SVD', 'n_factors': 60, 'n_epochs': 29, 'lr_all': 0.02619822093940507, 'reg_all': 0.003052259634895284}. Best is trial 240 with value: 0.9168184450913348.\n",
            "[I 2024-09-02 15:41:19,728] Trial 261 finished with value: 0.9896458821260994 and parameters: {'algorithm': 'SVD', 'n_factors': 31, 'n_epochs': 30, 'lr_all': 0.028785078304253236, 'reg_all': 0.006529630737635949}. Best is trial 240 with value: 0.9168184450913348.\n",
            "[I 2024-09-02 15:41:20,088] Trial 262 finished with value: 0.9249491283832574 and parameters: {'algorithm': 'SVD', 'n_factors': 44, 'n_epochs': 32, 'lr_all': 0.02295340025170226, 'reg_all': 0.06241185531403476}. Best is trial 240 with value: 0.9168184450913348.\n",
            "[I 2024-09-02 15:41:21,791] Trial 263 finished with value: 1.0231068857723058 and parameters: {'algorithm': 'CoClustering', 'n_cltr_u': 9, 'n_cltr_i': 5, 'n_epochs': 43}. Best is trial 240 with value: 0.9168184450913348.\n",
            "[I 2024-09-02 15:41:22,078] Trial 264 finished with value: 1.119620525447905 and parameters: {'algorithm': 'SVD', 'n_factors': 36, 'n_epochs': 27, 'lr_all': 0.00011741382336062121, 'reg_all': 0.09985705216786617}. Best is trial 240 with value: 0.9168184450913348.\n",
            "[I 2024-09-02 15:41:22,421] Trial 265 finished with value: 0.9245313301854224 and parameters: {'algorithm': 'SVD', 'n_factors': 48, 'n_epochs': 33, 'lr_all': 0.04956715005964083, 'reg_all': 0.0856821613175298}. Best is trial 240 with value: 0.9168184450913348.\n",
            "[I 2024-09-02 15:41:22,713] Trial 266 finished with value: 0.9262510753163052 and parameters: {'algorithm': 'SVD', 'n_factors': 40, 'n_epochs': 29, 'lr_all': 0.01928788272308017, 'reg_all': 0.0699174215675657}. Best is trial 240 with value: 0.9168184450913348.\n",
            "[I 2024-09-02 15:41:23,022] Trial 267 finished with value: 0.9215696524627497 and parameters: {'algorithm': 'SVD', 'n_factors': 35, 'n_epochs': 31, 'lr_all': 0.02897718827733384, 'reg_all': 0.08657461818906739}. Best is trial 240 with value: 0.9168184450913348.\n",
            "[I 2024-09-02 15:41:23,500] Trial 268 finished with value: 0.9488773062893794 and parameters: {'algorithm': 'SVD', 'n_factors': 123, 'n_epochs': 29, 'lr_all': 0.02587099648686342, 'reg_all': 0.021177491407560464}. Best is trial 240 with value: 0.9168184450913348.\n",
            "[I 2024-09-02 15:41:23,775] Trial 269 finished with value: 0.929478468010143 and parameters: {'algorithm': 'SVD', 'n_factors': 44, 'n_epochs': 25, 'lr_all': 0.04008450172719392, 'reg_all': 0.07578032284679156}. Best is trial 240 with value: 0.9168184450913348.\n",
            "[I 2024-09-02 15:41:23,901] Trial 270 finished with value: 0.9594124318030148 and parameters: {'algorithm': 'BaselineOnly', 'method': 'sgd', 'reg_u': 0.002321052854228698, 'reg_i': 1.0580803647610507e-05}. Best is trial 240 with value: 0.9168184450913348.\n"
          ]
        },
        {
          "output_type": "stream",
          "name": "stdout",
          "text": [
            "Estimating biases using sgd...\n"
          ]
        },
        {
          "output_type": "stream",
          "name": "stderr",
          "text": [
            "[I 2024-09-02 15:41:24,191] Trial 271 finished with value: 1.096211763100759 and parameters: {'algorithm': 'SVD', 'n_factors': 32, 'n_epochs': 28, 'lr_all': 0.00019952360049800723, 'reg_all': 0.08855422934713053}. Best is trial 240 with value: 0.9168184450913348.\n",
            "[I 2024-09-02 15:41:24,489] Trial 272 finished with value: 0.9639817313982872 and parameters: {'algorithm': 'SVD', 'n_factors': 38, 'n_epochs': 30, 'lr_all': 0.003240705579938845, 'reg_all': 0.06398439182404969}. Best is trial 240 with value: 0.9168184450913348.\n",
            "[I 2024-09-02 15:41:24,721] Trial 273 finished with value: 0.923476104835093 and parameters: {'algorithm': 'SVD', 'n_factors': 28, 'n_epochs': 26, 'lr_all': 0.021228184318891712, 'reg_all': 0.09988773762443373}. Best is trial 240 with value: 0.9168184450913348.\n",
            "[I 2024-09-02 15:41:25,034] Trial 274 finished with value: 0.9260963128796726 and parameters: {'algorithm': 'SVD', 'n_factors': 43, 'n_epochs': 29, 'lr_all': 0.01506631642982377, 'reg_all': 0.07640437482339303}. Best is trial 240 with value: 0.9168184450913348.\n",
            "[I 2024-09-02 15:41:25,356] Trial 275 finished with value: 0.9223226958136965 and parameters: {'algorithm': 'SVD', 'n_factors': 47, 'n_epochs': 30, 'lr_all': 0.030009450218269444, 'reg_all': 0.08380930495495435}. Best is trial 240 with value: 0.9168184450913348.\n",
            "[I 2024-09-02 15:41:25,660] Trial 276 finished with value: 0.9343245895285671 and parameters: {'algorithm': 'SVD', 'n_factors': 39, 'n_epochs': 31, 'lr_all': 0.024494554478942786, 'reg_all': 0.05622325853516312}. Best is trial 240 with value: 0.9168184450913348.\n",
            "[I 2024-09-02 15:41:25,969] Trial 277 finished with value: 0.9187906671754086 and parameters: {'algorithm': 'SVD', 'n_factors': 51, 'n_epochs': 27, 'lr_all': 0.03274275408442364, 'reg_all': 0.08845613611359865}. Best is trial 240 with value: 0.9168184450913348.\n",
            "[I 2024-09-02 15:41:26,295] Trial 278 finished with value: 0.9290166601865009 and parameters: {'algorithm': 'SVD', 'n_factors': 52, 'n_epochs': 27, 'lr_all': 0.04391383933592335, 'reg_all': 0.06938269726386549}. Best is trial 240 with value: 0.9168184450913348.\n",
            "[I 2024-09-02 15:41:26,552] Trial 279 finished with value: 0.9288729058996514 and parameters: {'algorithm': 'SVD', 'n_factors': 35, 'n_epochs': 26, 'lr_all': 0.032847184997005875, 'reg_all': 0.08675514984519571}. Best is trial 240 with value: 0.9168184450913348.\n",
            "[I 2024-09-02 15:41:26,849] Trial 280 finished with value: 0.9277970888014089 and parameters: {'algorithm': 'SVD', 'n_factors': 31, 'n_epochs': 27, 'lr_all': 0.055941071023036006, 'reg_all': 0.07806261063199317}. Best is trial 240 with value: 0.9168184450913348.\n",
            "[I 2024-09-02 15:41:27,742] Trial 281 finished with value: 0.9240119686507969 and parameters: {'algorithm': 'SVD', 'n_factors': 50, 'n_epochs': 28, 'lr_all': 0.03953529284937675, 'reg_all': 0.0886176069172578}. Best is trial 240 with value: 0.9168184450913348.\n"
          ]
        },
        {
          "output_type": "stream",
          "name": "stdout",
          "text": [
            "Computing the cosine similarity matrix...\n",
            "Done computing similarity matrix.\n"
          ]
        },
        {
          "output_type": "stream",
          "name": "stderr",
          "text": [
            "[I 2024-09-02 15:41:28,937] Trial 282 finished with value: 1.013285990166896 and parameters: {'algorithm': 'KNNBasic', 'k': 43, 'min_k': 2, 'name': 'cosine', 'user_based': False}. Best is trial 240 with value: 0.9168184450913348.\n",
            "[I 2024-09-02 15:41:30,544] Trial 283 finished with value: 0.9262255752913053 and parameters: {'algorithm': 'SVD', 'n_factors': 40, 'n_epochs': 32, 'lr_all': 0.017698659266834723, 'reg_all': 0.07006987817819298}. Best is trial 240 with value: 0.9168184450913348.\n",
            "[I 2024-09-02 15:41:31,480] Trial 284 finished with value: 0.9255874084567569 and parameters: {'algorithm': 'SVD', 'n_factors': 47, 'n_epochs': 25, 'lr_all': 0.022953426471522494, 'reg_all': 0.07865960805868982}. Best is trial 240 with value: 0.9168184450913348.\n",
            "[I 2024-09-02 15:41:31,879] Trial 285 finished with value: 0.9327900056249627 and parameters: {'algorithm': 'SVD', 'n_factors': 36, 'n_epochs': 8, 'lr_all': 0.0367653293837043, 'reg_all': 0.09962706031766347}. Best is trial 240 with value: 0.9168184450913348.\n",
            "[I 2024-09-02 15:41:34,429] Trial 286 finished with value: 1.0280615040513277 and parameters: {'algorithm': 'CoClustering', 'n_cltr_u': 5, 'n_cltr_i': 8, 'n_epochs': 43}. Best is trial 240 with value: 0.9168184450913348.\n",
            "[I 2024-09-02 15:41:34,698] Trial 287 finished with value: 0.9216739284183959 and parameters: {'algorithm': 'SVD', 'n_factors': 26, 'n_epochs': 23, 'lr_all': 0.03127715022776091, 'reg_all': 0.08576692754274853}. Best is trial 240 with value: 0.9168184450913348.\n",
            "[I 2024-09-02 15:41:35,118] Trial 288 finished with value: 0.9294541554333482 and parameters: {'algorithm': 'SVD', 'n_factors': 41, 'n_epochs': 28, 'lr_all': 0.025391219112301272, 'reg_all': 0.05864704210264505}. Best is trial 240 with value: 0.9168184450913348.\n",
            "[I 2024-09-02 15:41:35,452] Trial 289 finished with value: 0.9232005479349321 and parameters: {'algorithm': 'SVD', 'n_factors': 33, 'n_epochs': 30, 'lr_all': 0.027414867483724605, 'reg_all': 0.08828689823666241}. Best is trial 240 with value: 0.9168184450913348.\n",
            "[I 2024-09-02 15:41:35,807] Trial 290 finished with value: 0.9255996375783246 and parameters: {'algorithm': 'SVD', 'n_factors': 45, 'n_epochs': 29, 'lr_all': 0.0484138076621157, 'reg_all': 0.09988956439541923}. Best is trial 240 with value: 0.9168184450913348.\n",
            "[I 2024-09-02 15:41:36,202] Trial 291 finished with value: 0.926019860857115 and parameters: {'algorithm': 'SVD', 'n_factors': 38, 'n_epochs': 31, 'lr_all': 0.033051559575376026, 'reg_all': 0.06731331526578513}. Best is trial 240 with value: 0.9168184450913348.\n",
            "[I 2024-09-02 15:41:36,667] Trial 292 finished with value: 0.9254796333865263 and parameters: {'algorithm': 'SVD', 'n_factors': 42, 'n_epochs': 41, 'lr_all': 0.02126043132738156, 'reg_all': 0.07779585767591825}. Best is trial 240 with value: 0.9168184450913348.\n",
            "[I 2024-09-02 15:41:37,071] Trial 293 finished with value: 0.9225737216203417 and parameters: {'algorithm': 'SVD', 'n_factors': 30, 'n_epochs': 27, 'lr_all': 0.037909290887917904, 'reg_all': 0.08716703037828817}. Best is trial 240 with value: 0.9168184450913348.\n",
            "[I 2024-09-02 15:41:37,521] Trial 294 finished with value: 0.9669734847247698 and parameters: {'algorithm': 'SVD', 'n_factors': 36, 'n_epochs': 28, 'lr_all': 0.018912882183539724, 'reg_all': 0.010764882511746362}. Best is trial 240 with value: 0.9168184450913348.\n",
            "[I 2024-09-02 15:41:38,095] Trial 295 finished with value: 0.9385972180950006 and parameters: {'algorithm': 'SVD', 'n_factors': 57, 'n_epochs': 33, 'lr_all': 0.06322098152821076, 'reg_all': 0.029149414255393684}. Best is trial 240 with value: 0.9168184450913348.\n",
            "[I 2024-09-02 15:41:38,444] Trial 296 finished with value: 0.924049411588815 and parameters: {'algorithm': 'SVD', 'n_factors': 48, 'n_epochs': 24, 'lr_all': 0.04512667768476722, 'reg_all': 0.07352098010307974}. Best is trial 240 with value: 0.9168184450913348.\n",
            "[I 2024-09-02 15:41:38,561] Trial 297 finished with value: 0.9594124318030148 and parameters: {'algorithm': 'BaselineOnly', 'method': 'sgd', 'reg_u': 3.926315756247266e-05, 'reg_i': 0.00010731175377954582}. Best is trial 240 with value: 0.9168184450913348.\n"
          ]
        },
        {
          "output_type": "stream",
          "name": "stdout",
          "text": [
            "Estimating biases using sgd...\n"
          ]
        },
        {
          "output_type": "stream",
          "name": "stderr",
          "text": [
            "[I 2024-09-02 15:41:38,923] Trial 298 finished with value: 0.9262420826487443 and parameters: {'algorithm': 'SVD', 'n_factors': 34, 'n_epochs': 38, 'lr_all': 0.011247839492214225, 'reg_all': 0.08933698639152636}. Best is trial 240 with value: 0.9168184450913348.\n",
            "[I 2024-09-02 15:41:39,378] Trial 299 finished with value: 0.9261964277295499 and parameters: {'algorithm': 'SVD', 'n_factors': 43, 'n_epochs': 45, 'lr_all': 0.030552881071439844, 'reg_all': 0.07815359942484658}. Best is trial 240 with value: 0.9168184450913348.\n",
            "[I 2024-09-02 15:41:39,676] Trial 300 finished with value: 0.9226509379114025 and parameters: {'algorithm': 'SVD', 'n_factors': 39, 'n_epochs': 30, 'lr_all': 0.026476026342054867, 'reg_all': 0.08861060933774983}. Best is trial 240 with value: 0.9168184450913348.\n",
            "[I 2024-09-02 15:41:39,989] Trial 301 finished with value: 0.9219327976162114 and parameters: {'algorithm': 'SVD', 'n_factors': 46, 'n_epochs': 29, 'lr_all': 0.016130905372900593, 'reg_all': 0.09950712527759319}. Best is trial 240 with value: 0.9168184450913348.\n",
            "[I 2024-09-02 15:41:40,363] Trial 302 finished with value: 0.9256300816018381 and parameters: {'algorithm': 'SVD', 'n_factors': 53, 'n_epochs': 31, 'lr_all': 0.021882780783799512, 'reg_all': 0.06347310541044855}. Best is trial 240 with value: 0.9168184450913348.\n",
            "[I 2024-09-02 15:41:40,590] Trial 303 finished with value: 0.9323940017947436 and parameters: {'algorithm': 'SVD', 'n_factors': 24, 'n_epochs': 26, 'lr_all': 0.037771580208470705, 'reg_all': 0.07192665386712509}. Best is trial 240 with value: 0.9168184450913348.\n",
            "[I 2024-09-02 15:41:40,883] Trial 304 finished with value: 0.9240247110452273 and parameters: {'algorithm': 'SVD', 'n_factors': 38, 'n_epochs': 27, 'lr_all': 0.033077987059772204, 'reg_all': 0.08753366436087168}. Best is trial 240 with value: 0.9168184450913348.\n",
            "[I 2024-09-02 15:41:41,233] Trial 305 finished with value: 0.9224691155505523 and parameters: {'algorithm': 'SVD', 'n_factors': 31, 'n_epochs': 36, 'lr_all': 0.02462092440303306, 'reg_all': 0.07889955053488919}. Best is trial 240 with value: 0.9168184450913348.\n",
            "[I 2024-09-02 15:41:41,537] Trial 306 finished with value: 0.9202895539549903 and parameters: {'algorithm': 'SVD', 'n_factors': 42, 'n_epochs': 28, 'lr_all': 0.028488857338402982, 'reg_all': 0.09875844592789834}. Best is trial 240 with value: 0.9168184450913348.\n"
          ]
        },
        {
          "output_type": "stream",
          "name": "stdout",
          "text": [
            "Computing the pearson similarity matrix...\n",
            "Done computing similarity matrix.\n"
          ]
        },
        {
          "output_type": "stream",
          "name": "stderr",
          "text": [
            "[I 2024-09-02 15:41:45,784] Trial 307 finished with value: 1.1610794820986206 and parameters: {'algorithm': 'KNNBasic', 'k': 28, 'min_k': 4, 'name': 'pearson', 'user_based': True}. Best is trial 240 with value: 0.9168184450913348.\n",
            "[I 2024-09-02 15:41:46,245] Trial 308 finished with value: 0.9234115355270219 and parameters: {'algorithm': 'SVD', 'n_factors': 35, 'n_epochs': 28, 'lr_all': 0.04308601169336797, 'reg_all': 0.09811198103605935}. Best is trial 240 with value: 0.9168184450913348.\n",
            "[I 2024-09-02 15:41:46,852] Trial 309 finished with value: 0.9361563268302573 and parameters: {'algorithm': 'SVD', 'n_factors': 171, 'n_epochs': 30, 'lr_all': 0.012749380080839515, 'reg_all': 0.07928718158043951}. Best is trial 240 with value: 0.9168184450913348.\n",
            "[I 2024-09-02 15:41:47,134] Trial 310 finished with value: 0.9991293477982197 and parameters: {'algorithm': 'SVD', 'n_factors': 41, 'n_epochs': 28, 'lr_all': 0.0015933336039170819, 'reg_all': 0.09973999406894397}. Best is trial 240 with value: 0.9168184450913348.\n",
            "[I 2024-09-02 15:41:47,426] Trial 311 finished with value: 0.926717058158403 and parameters: {'algorithm': 'SVD', 'n_factors': 27, 'n_epochs': 32, 'lr_all': 0.029412117665191737, 'reg_all': 0.06821290198526676}. Best is trial 240 with value: 0.9168184450913348.\n",
            "[I 2024-09-02 15:41:47,706] Trial 312 finished with value: 0.9293807530498164 and parameters: {'algorithm': 'SVD', 'n_factors': 38, 'n_epochs': 26, 'lr_all': 0.03475324889216119, 'reg_all': 0.08705998784599583}. Best is trial 240 with value: 0.9168184450913348.\n",
            "[I 2024-09-02 15:41:48,925] Trial 313 finished with value: 1.0455872531092871 and parameters: {'algorithm': 'CoClustering', 'n_cltr_u': 9, 'n_cltr_i': 4, 'n_epochs': 29}. Best is trial 240 with value: 0.9168184450913348.\n",
            "[I 2024-09-02 15:41:49,408] Trial 314 finished with value: 0.9251634729018948 and parameters: {'algorithm': 'SVD', 'n_factors': 155, 'n_epochs': 25, 'lr_all': 0.028908465447793467, 'reg_all': 0.09988511890217903}. Best is trial 240 with value: 0.9168184450913348.\n",
            "[I 2024-09-02 15:41:49,681] Trial 315 finished with value: 0.9284267285754912 and parameters: {'algorithm': 'SVD', 'n_factors': 34, 'n_epochs': 27, 'lr_all': 0.05279554948024824, 'reg_all': 0.07961932426260927}. Best is trial 240 with value: 0.9168184450913348.\n",
            "[I 2024-09-02 15:41:49,990] Trial 316 finished with value: 0.9296004173845838 and parameters: {'algorithm': 'SVD', 'n_factors': 43, 'n_epochs': 30, 'lr_all': 0.03869098181033221, 'reg_all': 0.05207144120528006}. Best is trial 240 with value: 0.9168184450913348.\n",
            "[I 2024-09-02 15:41:50,346] Trial 317 finished with value: 0.9207783825599397 and parameters: {'algorithm': 'SVD', 'n_factors': 30, 'n_epochs': 41, 'lr_all': 0.019617854570272684, 'reg_all': 0.09970759147888988}. Best is trial 240 with value: 0.9168184450913348.\n",
            "[I 2024-09-02 15:41:50,719] Trial 318 finished with value: 0.9251580282757655 and parameters: {'algorithm': 'SVD', 'n_factors': 30, 'n_epochs': 41, 'lr_all': 0.019023158208548396, 'reg_all': 0.08841749677552771}. Best is trial 240 with value: 0.9168184450913348.\n",
            "[I 2024-09-02 15:41:51,099] Trial 319 finished with value: 0.9203588332343116 and parameters: {'algorithm': 'SVD', 'n_factors': 28, 'n_epochs': 43, 'lr_all': 0.015855573471367557, 'reg_all': 0.0989299900086192}. Best is trial 240 with value: 0.9168184450913348.\n",
            "[I 2024-09-02 15:41:51,468] Trial 320 finished with value: 0.9224305512043887 and parameters: {'algorithm': 'SVD', 'n_factors': 25, 'n_epochs': 43, 'lr_all': 0.014470200789135152, 'reg_all': 0.09942726401382766}. Best is trial 240 with value: 0.9168184450913348.\n",
            "[I 2024-09-02 15:41:51,602] Trial 321 finished with value: 0.9594124318030148 and parameters: {'algorithm': 'BaselineOnly', 'method': 'sgd', 'reg_u': 0.03494870710256359, 'reg_i': 6.19066451941491e-05}. Best is trial 240 with value: 0.9168184450913348.\n"
          ]
        },
        {
          "output_type": "stream",
          "name": "stdout",
          "text": [
            "Estimating biases using sgd...\n"
          ]
        },
        {
          "output_type": "stream",
          "name": "stderr",
          "text": [
            "[I 2024-09-02 15:41:51,998] Trial 322 finished with value: 0.9271181896590475 and parameters: {'algorithm': 'SVD', 'n_factors': 28, 'n_epochs': 44, 'lr_all': 0.017928077001596248, 'reg_all': 0.07405811377735311}. Best is trial 240 with value: 0.9168184450913348.\n",
            "[I 2024-09-02 15:41:52,594] Trial 323 finished with value: 0.930573879344963 and parameters: {'algorithm': 'SVD', 'n_factors': 101, 'n_epochs': 42, 'lr_all': 0.00838441945824361, 'reg_all': 0.09979856540234446}. Best is trial 240 with value: 0.9168184450913348.\n",
            "[I 2024-09-02 15:41:53,085] Trial 324 finished with value: 0.9272424784214763 and parameters: {'algorithm': 'SVD', 'n_factors': 69, 'n_epochs': 40, 'lr_all': 0.014929024359436988, 'reg_all': 0.06305163401410178}. Best is trial 240 with value: 0.9168184450913348.\n",
            "[I 2024-09-02 15:41:53,439] Trial 325 finished with value: 0.9244361366516136 and parameters: {'algorithm': 'SVD', 'n_factors': 20, 'n_epochs': 43, 'lr_all': 0.021469287724111843, 'reg_all': 0.08088015507710958}. Best is trial 240 with value: 0.9168184450913348.\n",
            "[I 2024-09-02 15:41:53,820] Trial 326 finished with value: 1.0160328641836966 and parameters: {'algorithm': 'SVD', 'n_factors': 23, 'n_epochs': 45, 'lr_all': 0.017379658206823034, 'reg_all': 0.002129618025414618}. Best is trial 240 with value: 0.9168184450913348.\n",
            "[I 2024-09-02 15:41:54,195] Trial 327 finished with value: 0.9296680836458526 and parameters: {'algorithm': 'SVD', 'n_factors': 31, 'n_epochs': 41, 'lr_all': 0.02150776353787334, 'reg_all': 0.08428759356668895}. Best is trial 240 with value: 0.9168184450913348.\n",
            "[I 2024-09-02 15:41:54,525] Trial 328 finished with value: 0.9226520927539766 and parameters: {'algorithm': 'SVD', 'n_factors': 28, 'n_epochs': 39, 'lr_all': 0.02400186582446374, 'reg_all': 0.09971106879827715}. Best is trial 240 with value: 0.9168184450913348.\n",
            "[I 2024-09-02 15:41:54,795] Trial 329 finished with value: 0.9306271609289217 and parameters: {'algorithm': 'SVD', 'n_factors': 33, 'n_epochs': 24, 'lr_all': 0.012020466048287598, 'reg_all': 0.06846266945912141}. Best is trial 240 with value: 0.9168184450913348.\n",
            "[I 2024-09-02 15:41:55,243] Trial 330 finished with value: 0.9236839778060965 and parameters: {'algorithm': 'SVD', 'n_factors': 49, 'n_epochs': 44, 'lr_all': 0.016753509405630692, 'reg_all': 0.08532184019878218}. Best is trial 240 with value: 0.9168184450913348.\n",
            "[I 2024-09-02 15:41:55,628] Trial 331 finished with value: 0.924806438363156 and parameters: {'algorithm': 'SVD', 'n_factors': 35, 'n_epochs': 42, 'lr_all': 0.01912571111827646, 'reg_all': 0.0750298404535269}. Best is trial 240 with value: 0.9168184450913348.\n",
            "[I 2024-09-02 15:41:56,069] Trial 332 finished with value: 0.9244076691837316 and parameters: {'algorithm': 'SVD', 'n_factors': 41, 'n_epochs': 43, 'lr_all': 0.025888541870911837, 'reg_all': 0.08749010869039395}. Best is trial 240 with value: 0.9168184450913348.\n",
            "[I 2024-09-02 15:41:56,557] Trial 333 finished with value: 0.9985338466525395 and parameters: {'algorithm': 'SVD', 'n_factors': 31, 'n_epochs': 40, 'lr_all': 0.0138088335221168, 'reg_all': 0.000918861479456309}. Best is trial 240 with value: 0.9168184450913348.\n"
          ]
        },
        {
          "output_type": "stream",
          "name": "stdout",
          "text": [
            "Computing the cosine similarity matrix...\n",
            "Done computing similarity matrix.\n"
          ]
        },
        {
          "output_type": "stream",
          "name": "stderr",
          "text": [
            "[I 2024-09-02 15:41:56,998] Trial 334 finished with value: 1.0361356981392122 and parameters: {'algorithm': 'KNNBasic', 'k': 34, 'min_k': 5, 'name': 'cosine', 'user_based': False}. Best is trial 240 with value: 0.9168184450913348.\n",
            "[I 2024-09-02 15:41:57,435] Trial 335 finished with value: 0.9247186212029054 and parameters: {'algorithm': 'SVD', 'n_factors': 36, 'n_epochs': 27, 'lr_all': 0.028593609535523104, 'reg_all': 0.06000716957154986}. Best is trial 240 with value: 0.9168184450913348.\n",
            "[I 2024-09-02 15:41:59,242] Trial 336 finished with value: 1.0276818258608698 and parameters: {'algorithm': 'CoClustering', 'n_cltr_u': 6, 'n_cltr_i': 7, 'n_epochs': 29}. Best is trial 240 with value: 0.9168184450913348.\n",
            "[I 2024-09-02 15:41:59,528] Trial 337 finished with value: 0.9227600268034994 and parameters: {'algorithm': 'SVD', 'n_factors': 45, 'n_epochs': 26, 'lr_all': 0.020945089661037062, 'reg_all': 0.0878155362270535}. Best is trial 240 with value: 0.9168184450913348.\n",
            "[I 2024-09-02 15:42:00,019] Trial 338 finished with value: 0.9293852757178435 and parameters: {'algorithm': 'SVD', 'n_factors': 133, 'n_epochs': 28, 'lr_all': 0.02405420554632639, 'reg_all': 0.0752922227656477}. Best is trial 240 with value: 0.9168184450913348.\n",
            "[I 2024-09-02 15:42:00,348] Trial 339 finished with value: 0.9245146283567823 and parameters: {'algorithm': 'SVD', 'n_factors': 25, 'n_epochs': 37, 'lr_all': 0.03179889574961849, 'reg_all': 0.08869335982920178}. Best is trial 240 with value: 0.9168184450913348.\n",
            "[I 2024-09-02 15:42:00,667] Trial 340 finished with value: 0.9937784006581896 and parameters: {'algorithm': 'SVD', 'n_factors': 51, 'n_epochs': 29, 'lr_all': 0.01595080980324103, 'reg_all': 0.0002780778538457997}. Best is trial 240 with value: 0.9168184450913348.\n",
            "[I 2024-09-02 15:42:00,910] Trial 341 finished with value: 0.9227794137295633 and parameters: {'algorithm': 'SVD', 'n_factors': 37, 'n_epochs': 22, 'lr_all': 0.027734131374940574, 'reg_all': 0.09969900410179121}. Best is trial 240 with value: 0.9168184450913348.\n",
            "[I 2024-09-02 15:42:01,313] Trial 342 finished with value: 0.9205846559827235 and parameters: {'algorithm': 'SVD', 'n_factors': 42, 'n_epochs': 41, 'lr_all': 0.022796860283316206, 'reg_all': 0.09980539794145507}. Best is trial 240 with value: 0.9168184450913348.\n",
            "[I 2024-09-02 15:42:01,718] Trial 343 finished with value: 0.9222710832667986 and parameters: {'algorithm': 'SVD', 'n_factors': 43, 'n_epochs': 41, 'lr_all': 0.018872658328253546, 'reg_all': 0.09944439879027558}. Best is trial 240 with value: 0.9168184450913348.\n",
            "[I 2024-09-02 15:42:02,222] Trial 344 finished with value: 0.9253667366067033 and parameters: {'algorithm': 'SVD', 'n_factors': 48, 'n_epochs': 39, 'lr_all': 0.021980239124821898, 'reg_all': 0.08872624036441484}. Best is trial 240 with value: 0.9168184450913348.\n",
            "[I 2024-09-02 15:42:02,636] Trial 345 finished with value: 0.9267420168510252 and parameters: {'algorithm': 'SVD', 'n_factors': 41, 'n_epochs': 41, 'lr_all': 0.023544286803555303, 'reg_all': 0.07741980649397735}. Best is trial 240 with value: 0.9168184450913348.\n",
            "[I 2024-09-02 15:42:03,168] Trial 346 finished with value: 0.9240812258046367 and parameters: {'algorithm': 'SVD', 'n_factors': 78, 'n_epochs': 43, 'lr_all': 0.020957979632608946, 'reg_all': 0.08773210513792476}. Best is trial 240 with value: 0.9168184450913348.\n",
            "[I 2024-09-02 15:42:03,283] Trial 347 finished with value: 0.9594124318030148 and parameters: {'algorithm': 'BaselineOnly', 'method': 'sgd', 'reg_u': 0.004336282355235228, 'reg_i': 0.0016870960482781652}. Best is trial 240 with value: 0.9168184450913348.\n"
          ]
        },
        {
          "output_type": "stream",
          "name": "stdout",
          "text": [
            "Estimating biases using sgd...\n"
          ]
        },
        {
          "output_type": "stream",
          "name": "stderr",
          "text": [
            "[I 2024-09-02 15:42:03,694] Trial 348 finished with value: 0.9187337226225305 and parameters: {'algorithm': 'SVD', 'n_factors': 33, 'n_epochs': 42, 'lr_all': 0.016602185913150866, 'reg_all': 0.09988299561476145}. Best is trial 240 with value: 0.9168184450913348.\n",
            "[I 2024-09-02 15:42:04,078] Trial 349 finished with value: 0.9290402860416688 and parameters: {'algorithm': 'SVD', 'n_factors': 30, 'n_epochs': 42, 'lr_all': 0.02755996606626982, 'reg_all': 0.07005424459714482}. Best is trial 240 with value: 0.9168184450913348.\n",
            "[I 2024-09-02 15:42:04,466] Trial 350 finished with value: 0.9278513246887199 and parameters: {'algorithm': 'SVD', 'n_factors': 33, 'n_epochs': 42, 'lr_all': 0.01897774306885819, 'reg_all': 0.08004456198174084}. Best is trial 240 with value: 0.9168184450913348.\n",
            "[I 2024-09-02 15:42:04,845] Trial 351 finished with value: 0.9207767537886368 and parameters: {'algorithm': 'SVD', 'n_factors': 28, 'n_epochs': 44, 'lr_all': 0.02370854610535763, 'reg_all': 0.08928633103575355}. Best is trial 240 with value: 0.9168184450913348.\n",
            "[I 2024-09-02 15:42:05,231] Trial 352 finished with value: 0.9255734004074827 and parameters: {'algorithm': 'SVD', 'n_factors': 26, 'n_epochs': 45, 'lr_all': 0.016412308218402553, 'reg_all': 0.06812116325691633}. Best is trial 240 with value: 0.9168184450913348.\n",
            "[I 2024-09-02 15:42:05,632] Trial 353 finished with value: 0.9184447195976994 and parameters: {'algorithm': 'SVD', 'n_factors': 28, 'n_epochs': 45, 'lr_all': 0.025245763427146288, 'reg_all': 0.09953205215299876}. Best is trial 240 with value: 0.9168184450913348.\n",
            "[I 2024-09-02 15:42:06,015] Trial 354 finished with value: 0.9210519484506142 and parameters: {'algorithm': 'SVD', 'n_factors': 24, 'n_epochs': 45, 'lr_all': 0.02357052138716976, 'reg_all': 0.0878915657789814}. Best is trial 240 with value: 0.9168184450913348.\n",
            "[I 2024-09-02 15:42:06,410] Trial 355 finished with value: 0.9348599940862012 and parameters: {'algorithm': 'SVD', 'n_factors': 21, 'n_epochs': 46, 'lr_all': 0.08331786890429432, 'reg_all': 0.07734414629103536}. Best is trial 240 with value: 0.9168184450913348.\n",
            "[I 2024-09-02 15:42:06,767] Trial 356 finished with value: 0.9259125724859562 and parameters: {'algorithm': 'SVD', 'n_factors': 29, 'n_epochs': 43, 'lr_all': 0.02059100639674359, 'reg_all': 0.08923507610733189}. Best is trial 240 with value: 0.9168184450913348.\n",
            "[I 2024-09-02 15:42:07,105] Trial 357 finished with value: 0.9202570643853947 and parameters: {'algorithm': 'SVD', 'n_factors': 28, 'n_epochs': 40, 'lr_all': 0.02552440268453124, 'reg_all': 0.0999329022223759}. Best is trial 240 with value: 0.9168184450913348.\n",
            "[I 2024-09-02 15:42:07,486] Trial 358 finished with value: 0.9240225557887315 and parameters: {'algorithm': 'SVD', 'n_factors': 26, 'n_epochs': 44, 'lr_all': 0.02388189397952655, 'reg_all': 0.0901965743674501}. Best is trial 240 with value: 0.9168184450913348.\n"
          ]
        },
        {
          "output_type": "stream",
          "name": "stdout",
          "text": [
            "Computing the cosine similarity matrix...\n",
            "Done computing similarity matrix.\n"
          ]
        },
        {
          "output_type": "stream",
          "name": "stderr",
          "text": [
            "[I 2024-09-02 15:42:09,316] Trial 359 finished with value: 1.1364196320656264 and parameters: {'algorithm': 'KNNBasic', 'k': 17, 'min_k': 3, 'name': 'cosine', 'user_based': True}. Best is trial 240 with value: 0.9168184450913348.\n",
            "[I 2024-09-02 15:42:09,871] Trial 360 finished with value: 0.9281687323420887 and parameters: {'algorithm': 'SVD', 'n_factors': 27, 'n_epochs': 40, 'lr_all': 0.018799539615631945, 'reg_all': 0.0775624918810483}. Best is trial 240 with value: 0.9168184450913348.\n",
            "[I 2024-09-02 15:42:10,458] Trial 361 finished with value: 0.9200205483630375 and parameters: {'algorithm': 'SVD', 'n_factors': 23, 'n_epochs': 44, 'lr_all': 0.025338565709678372, 'reg_all': 0.0982237600222665}. Best is trial 240 with value: 0.9168184450913348.\n",
            "[I 2024-09-02 15:42:11,006] Trial 362 finished with value: 0.9221794368148624 and parameters: {'algorithm': 'SVD', 'n_factors': 20, 'n_epochs': 41, 'lr_all': 0.025821487405274828, 'reg_all': 0.0998241347911244}. Best is trial 240 with value: 0.9168184450913348.\n",
            "[I 2024-09-02 15:42:11,613] Trial 363 finished with value: 0.9232482616823017 and parameters: {'algorithm': 'SVD', 'n_factors': 24, 'n_epochs': 43, 'lr_all': 0.02298477417576429, 'reg_all': 0.08979990887499993}. Best is trial 240 with value: 0.9168184450913348.\n",
            "[I 2024-09-02 15:42:12,143] Trial 364 finished with value: 0.9214434351435212 and parameters: {'algorithm': 'SVD', 'n_factors': 29, 'n_epochs': 46, 'lr_all': 0.026065544175035267, 'reg_all': 0.09847309641711932}. Best is trial 240 with value: 0.9168184450913348.\n",
            "[I 2024-09-02 15:42:13,691] Trial 365 finished with value: 1.021380789118511 and parameters: {'algorithm': 'CoClustering', 'n_cltr_u': 4, 'n_cltr_i': 9, 'n_epochs': 42}. Best is trial 240 with value: 0.9168184450913348.\n",
            "[I 2024-09-02 15:42:14,072] Trial 366 finished with value: 0.9293941570912314 and parameters: {'algorithm': 'SVD', 'n_factors': 23, 'n_epochs': 44, 'lr_all': 0.021339672130597283, 'reg_all': 0.06710135939215783}. Best is trial 240 with value: 0.9168184450913348.\n",
            "[I 2024-09-02 15:42:14,465] Trial 367 finished with value: 1.014787867330527 and parameters: {'algorithm': 'SVD', 'n_factors': 32, 'n_epochs': 44, 'lr_all': 0.0007014134935663051, 'reg_all': 0.09877611755564446}. Best is trial 240 with value: 0.9168184450913348.\n",
            "[I 2024-09-02 15:42:14,906] Trial 368 finished with value: 0.9904257921990175 and parameters: {'algorithm': 'SVD', 'n_factors': 33, 'n_epochs': 47, 'lr_all': 0.02667988558199901, 'reg_all': 0.003910993653467745}. Best is trial 240 with value: 0.9168184450913348.\n",
            "[I 2024-09-02 15:42:15,213] Trial 369 finished with value: 0.922593985918243 and parameters: {'algorithm': 'SVD', 'n_factors': 28, 'n_epochs': 40, 'lr_all': 0.03193842318770374, 'reg_all': 0.09974099505429264}. Best is trial 240 with value: 0.9168184450913348.\n",
            "[I 2024-09-02 15:42:15,581] Trial 370 finished with value: 0.9235005867288516 and parameters: {'algorithm': 'SVD', 'n_factors': 23, 'n_epochs': 46, 'lr_all': 0.019886578065143583, 'reg_all': 0.0777653909379925}. Best is trial 240 with value: 0.9168184450913348.\n",
            "[I 2024-09-02 15:42:15,949] Trial 371 finished with value: 0.9197332202925739 and parameters: {'algorithm': 'SVD', 'n_factors': 33, 'n_epochs': 42, 'lr_all': 0.02363088056857143, 'reg_all': 0.09988189250638574}. Best is trial 240 with value: 0.9168184450913348.\n",
            "[I 2024-09-02 15:42:16,317] Trial 372 finished with value: 0.9261909152620841 and parameters: {'algorithm': 'SVD', 'n_factors': 31, 'n_epochs': 42, 'lr_all': 0.02409845553293949, 'reg_all': 0.07761866161051387}. Best is trial 240 with value: 0.9168184450913348.\n",
            "[I 2024-09-02 15:42:16,678] Trial 373 finished with value: 0.9229943712487421 and parameters: {'algorithm': 'SVD', 'n_factors': 26, 'n_epochs': 41, 'lr_all': 0.022282606668487658, 'reg_all': 0.09956429600367606}. Best is trial 240 with value: 0.9168184450913348.\n",
            "[I 2024-09-02 15:42:17,178] Trial 374 finished with value: 0.9849384237718736 and parameters: {'algorithm': 'SVD', 'n_factors': 33, 'n_epochs': 44, 'lr_all': 0.0172063566719068, 'reg_all': 0.007890683842003695}. Best is trial 240 with value: 0.9168184450913348.\n",
            "[I 2024-09-02 15:42:17,547] Trial 375 finished with value: 0.9237385020317064 and parameters: {'algorithm': 'SVD', 'n_factors': 35, 'n_epochs': 40, 'lr_all': 0.027676255815534838, 'reg_all': 0.08354517377018154}. Best is trial 240 with value: 0.9168184450913348.\n",
            "[I 2024-09-02 15:42:17,892] Trial 376 finished with value: 0.9237275442177564 and parameters: {'algorithm': 'SVD', 'n_factors': 20, 'n_epochs': 42, 'lr_all': 0.024202903024984956, 'reg_all': 0.09989201834310951}. Best is trial 240 with value: 0.9168184450913348.\n",
            "[I 2024-09-02 15:42:18,007] Trial 377 finished with value: 0.9594124318030148 and parameters: {'algorithm': 'BaselineOnly', 'method': 'sgd', 'reg_u': 0.0010847149128911991, 'reg_i': 0.007196884718360133}. Best is trial 240 with value: 0.9168184450913348.\n"
          ]
        },
        {
          "output_type": "stream",
          "name": "stdout",
          "text": [
            "Estimating biases using sgd...\n"
          ]
        },
        {
          "output_type": "stream",
          "name": "stderr",
          "text": [
            "[I 2024-09-02 15:42:18,346] Trial 378 finished with value: 0.928495950877183 and parameters: {'algorithm': 'SVD', 'n_factors': 28, 'n_epochs': 39, 'lr_all': 0.02048148679987447, 'reg_all': 0.06645063751470637}. Best is trial 240 with value: 0.9168184450913348.\n",
            "[I 2024-09-02 15:42:18,760] Trial 379 finished with value: 0.9317470475033064 and parameters: {'algorithm': 'SVD', 'n_factors': 36, 'n_epochs': 43, 'lr_all': 0.029250814071173192, 'reg_all': 0.057819825587525187}. Best is trial 240 with value: 0.9168184450913348.\n",
            "[I 2024-09-02 15:42:19,131] Trial 380 finished with value: 0.9246567015695007 and parameters: {'algorithm': 'SVD', 'n_factors': 31, 'n_epochs': 41, 'lr_all': 0.018435966369665213, 'reg_all': 0.08223979996454792}. Best is trial 240 with value: 0.9168184450913348.\n",
            "[I 2024-09-02 15:42:19,539] Trial 381 finished with value: 0.9233990600500432 and parameters: {'algorithm': 'SVD', 'n_factors': 39, 'n_epochs': 45, 'lr_all': 0.02491031219966303, 'reg_all': 0.086784160641568}. Best is trial 240 with value: 0.9168184450913348.\n",
            "[I 2024-09-02 15:42:19,936] Trial 382 finished with value: 0.9259182106588322 and parameters: {'algorithm': 'SVD', 'n_factors': 34, 'n_epochs': 43, 'lr_all': 0.031073950222574167, 'reg_all': 0.07134008201290182}. Best is trial 240 with value: 0.9168184450913348.\n",
            "[I 2024-09-02 15:42:20,309] Trial 383 finished with value: 0.9217859110987775 and parameters: {'algorithm': 'SVD', 'n_factors': 28, 'n_epochs': 44, 'lr_all': 0.02042702158796211, 'reg_all': 0.08722071113565333}. Best is trial 240 with value: 0.9168184450913348.\n",
            "[I 2024-09-02 15:42:20,649] Trial 384 finished with value: 0.9259161410626662 and parameters: {'algorithm': 'SVD', 'n_factors': 24, 'n_epochs': 42, 'lr_all': 0.026761629892274316, 'reg_all': 0.07721553027747063}. Best is trial 240 with value: 0.9168184450913348.\n"
          ]
        },
        {
          "output_type": "stream",
          "name": "stdout",
          "text": [
            "Computing the pearson similarity matrix...\n",
            "Done computing similarity matrix.\n"
          ]
        },
        {
          "output_type": "stream",
          "name": "stderr",
          "text": [
            "[I 2024-09-02 15:42:20,955] Trial 385 finished with value: 1.0224276605223899 and parameters: {'algorithm': 'KNNBasic', 'k': 44, 'min_k': 1, 'name': 'pearson', 'user_based': False}. Best is trial 240 with value: 0.9168184450913348.\n",
            "[I 2024-09-02 15:42:21,342] Trial 386 finished with value: 0.9195364263842107 and parameters: {'algorithm': 'SVD', 'n_factors': 40, 'n_epochs': 41, 'lr_all': 0.01660615748351845, 'reg_all': 0.09913748759682951}. Best is trial 240 with value: 0.9168184450913348.\n",
            "[I 2024-09-02 15:42:21,730] Trial 387 finished with value: 0.9245896650648504 and parameters: {'algorithm': 'SVD', 'n_factors': 37, 'n_epochs': 40, 'lr_all': 0.016779889214909017, 'reg_all': 0.08545809377417161}. Best is trial 240 with value: 0.9168184450913348.\n",
            "[I 2024-09-02 15:42:22,143] Trial 388 finished with value: 0.9285319928201665 and parameters: {'algorithm': 'SVD', 'n_factors': 31, 'n_epochs': 39, 'lr_all': 0.014013704574986484, 'reg_all': 0.07208497014707098}. Best is trial 240 with value: 0.9168184450913348.\n",
            "[I 2024-09-02 15:42:24,759] Trial 389 finished with value: 1.0098097445355685 and parameters: {'algorithm': 'CoClustering', 'n_cltr_u': 9, 'n_cltr_i': 5, 'n_epochs': 41}. Best is trial 240 with value: 0.9168184450913348.\n",
            "[I 2024-09-02 15:42:24,909] Trial 390 finished with value: 0.9739863233113416 and parameters: {'algorithm': 'SVD', 'n_factors': 41, 'n_epochs': 5, 'lr_all': 0.015935476799751262, 'reg_all': 0.08913795762452319}. Best is trial 240 with value: 0.9168184450913348.\n",
            "[I 2024-09-02 15:42:25,083] Trial 391 finished with value: 0.9331859579178766 and parameters: {'algorithm': 'SVD', 'n_factors': 34, 'n_epochs': 13, 'lr_all': 0.01940693974508414, 'reg_all': 0.09942316676932011}. Best is trial 240 with value: 0.9168184450913348.\n",
            "[I 2024-09-02 15:42:25,488] Trial 392 finished with value: 0.9231223395464108 and parameters: {'algorithm': 'SVD', 'n_factors': 43, 'n_epochs': 42, 'lr_all': 0.02215165674667379, 'reg_all': 0.07890990243532303}. Best is trial 240 with value: 0.9168184450913348.\n",
            "[I 2024-09-02 15:42:25,854] Trial 393 finished with value: 0.9332112258050351 and parameters: {'algorithm': 'SVD', 'n_factors': 27, 'n_epochs': 43, 'lr_all': 0.009585416864720262, 'reg_all': 0.04522311586353112}. Best is trial 240 with value: 0.9168184450913348.\n",
            "[I 2024-09-02 15:42:26,258] Trial 394 finished with value: 0.9252849067349843 and parameters: {'algorithm': 'SVD', 'n_factors': 38, 'n_epochs': 41, 'lr_all': 0.015625290051365037, 'reg_all': 0.06473132774841872}. Best is trial 240 with value: 0.9168184450913348.\n",
            "[I 2024-09-02 15:42:26,833] Trial 395 finished with value: 0.921901884071758 and parameters: {'algorithm': 'SVD', 'n_factors': 87, 'n_epochs': 45, 'lr_all': 0.01775510221929459, 'reg_all': 0.08769082385112534}. Best is trial 240 with value: 0.9168184450913348.\n",
            "[I 2024-09-02 15:42:27,187] Trial 396 finished with value: 0.9196963581264346 and parameters: {'algorithm': 'SVD', 'n_factors': 30, 'n_epochs': 38, 'lr_all': 0.022629872851423635, 'reg_all': 0.09973845394165552}. Best is trial 240 with value: 0.9168184450913348.\n",
            "[I 2024-09-02 15:42:27,555] Trial 397 finished with value: 0.929851713522913 and parameters: {'algorithm': 'SVD', 'n_factors': 23, 'n_epochs': 44, 'lr_all': 0.022872406152868847, 'reg_all': 0.07770985522699235}. Best is trial 240 with value: 0.9168184450913348.\n",
            "[I 2024-09-02 15:42:27,667] Trial 398 finished with value: 0.9594124318030148 and parameters: {'algorithm': 'BaselineOnly', 'method': 'sgd', 'reg_u': 0.00023146419850906692, 'reg_i': 0.023548500061284724}. Best is trial 240 with value: 0.9168184450913348.\n"
          ]
        },
        {
          "output_type": "stream",
          "name": "stdout",
          "text": [
            "Estimating biases using sgd...\n"
          ]
        },
        {
          "output_type": "stream",
          "name": "stderr",
          "text": [
            "[I 2024-09-02 15:42:28,294] Trial 399 finished with value: 0.9274268241035121 and parameters: {'algorithm': 'SVD', 'n_factors': 113, 'n_epochs': 40, 'lr_all': 0.033721609131805136, 'reg_all': 0.057626640187478345}. Best is trial 240 with value: 0.9168184450913348.\n",
            "[I 2024-09-02 15:42:28,694] Trial 400 finished with value: 0.9337810162543907 and parameters: {'algorithm': 'SVD', 'n_factors': 31, 'n_epochs': 42, 'lr_all': 0.09780002920450095, 'reg_all': 0.09976935450863525}. Best is trial 240 with value: 0.9168184450913348.\n",
            "[I 2024-09-02 15:42:28,916] Trial 401 finished with value: 0.9233537658221354 and parameters: {'algorithm': 'SVD', 'n_factors': 28, 'n_epochs': 20, 'lr_all': 0.025368760299582314, 'reg_all': 0.08655621975754453}. Best is trial 240 with value: 0.9168184450913348.\n",
            "[I 2024-09-02 15:42:29,176] Trial 402 finished with value: 0.9275081135194927 and parameters: {'algorithm': 'SVD', 'n_factors': 33, 'n_epochs': 23, 'lr_all': 0.021730812622498704, 'reg_all': 0.07193448646904506}. Best is trial 240 with value: 0.9168184450913348.\n",
            "[I 2024-09-02 15:42:29,611] Trial 403 finished with value: 1.0779045796668174 and parameters: {'algorithm': 'SVD', 'n_factors': 25, 'n_epochs': 38, 'lr_all': 0.0002219239242943589, 'reg_all': 0.08844836963865359}. Best is trial 240 with value: 0.9168184450913348.\n",
            "[I 2024-09-02 15:42:29,985] Trial 404 finished with value: 0.9299313705918896 and parameters: {'algorithm': 'SVD', 'n_factors': 29, 'n_epochs': 42, 'lr_all': 0.030235683530074154, 'reg_all': 0.0799905465130166}. Best is trial 240 with value: 0.9168184450913348.\n",
            "[I 2024-09-02 15:42:30,786] Trial 405 finished with value: 0.9670738535123047 and parameters: {'algorithm': 'SVD', 'n_factors': 144, 'n_epochs': 47, 'lr_all': 0.0021419241645076145, 'reg_all': 0.09958325428809324}. Best is trial 240 with value: 0.9168184450913348.\n",
            "[I 2024-09-02 15:42:31,189] Trial 406 finished with value: 0.9207277795059438 and parameters: {'algorithm': 'SVD', 'n_factors': 36, 'n_epochs': 43, 'lr_all': 0.026946359251879166, 'reg_all': 0.09954898353740534}. Best is trial 240 with value: 0.9168184450913348.\n",
            "[I 2024-09-02 15:42:31,565] Trial 407 finished with value: 0.9295639765788387 and parameters: {'algorithm': 'SVD', 'n_factors': 37, 'n_epochs': 43, 'lr_all': 0.027828641559903503, 'reg_all': 0.06489910911213571}. Best is trial 240 with value: 0.9168184450913348.\n",
            "[I 2024-09-02 15:42:31,980] Trial 408 finished with value: 0.9223928846492923 and parameters: {'algorithm': 'SVD', 'n_factors': 37, 'n_epochs': 44, 'lr_all': 0.033933224952714704, 'reg_all': 0.08662889353110609}. Best is trial 240 with value: 0.9168184450913348.\n",
            "[I 2024-09-02 15:42:32,387] Trial 409 finished with value: 0.9222006394799626 and parameters: {'algorithm': 'SVD', 'n_factors': 34, 'n_epochs': 45, 'lr_all': 0.025477644881400315, 'reg_all': 0.07479342888758914}. Best is trial 240 with value: 0.9168184450913348.\n",
            "[I 2024-09-02 15:42:32,803] Trial 410 finished with value: 0.9210216263648225 and parameters: {'algorithm': 'SVD', 'n_factors': 41, 'n_epochs': 43, 'lr_all': 0.030581317121192504, 'reg_all': 0.09962401868370985}. Best is trial 240 with value: 0.9168184450913348.\n"
          ]
        },
        {
          "output_type": "stream",
          "name": "stdout",
          "text": [
            "Computing the cosine similarity matrix...\n",
            "Done computing similarity matrix.\n"
          ]
        },
        {
          "output_type": "stream",
          "name": "stderr",
          "text": [
            "[I 2024-09-02 15:42:34,537] Trial 411 finished with value: 1.1275552678061411 and parameters: {'algorithm': 'KNNBasic', 'k': 27, 'min_k': 2, 'name': 'cosine', 'user_based': True}. Best is trial 240 with value: 0.9168184450913348.\n",
            "[I 2024-09-02 15:42:35,079] Trial 412 finished with value: 0.9295858598425941 and parameters: {'algorithm': 'SVD', 'n_factors': 45, 'n_epochs': 44, 'lr_all': 0.07555467717116658, 'reg_all': 0.08634956779331326}. Best is trial 240 with value: 0.9168184450913348.\n",
            "[I 2024-09-02 15:42:35,760] Trial 413 finished with value: 0.921285878444654 and parameters: {'algorithm': 'SVD', 'n_factors': 35, 'n_epochs': 46, 'lr_all': 0.023717408757442805, 'reg_all': 0.09994231122727741}. Best is trial 240 with value: 0.9168184450913348.\n",
            "[I 2024-09-02 15:42:36,398] Trial 414 finished with value: 0.9275411629258409 and parameters: {'algorithm': 'SVD', 'n_factors': 38, 'n_epochs': 43, 'lr_all': 0.0338298066548507, 'reg_all': 0.07212584434565347}. Best is trial 240 with value: 0.9168184450913348.\n",
            "[I 2024-09-02 15:42:38,485] Trial 415 finished with value: 1.0284293621373481 and parameters: {'algorithm': 'CoClustering', 'n_cltr_u': 8, 'n_cltr_i': 4, 'n_epochs': 42}. Best is trial 240 with value: 0.9168184450913348.\n",
            "[I 2024-09-02 15:42:38,738] Trial 416 finished with value: 0.9591065433887098 and parameters: {'algorithm': 'SVD', 'n_factors': 33, 'n_epochs': 25, 'lr_all': 0.004314527066601801, 'reg_all': 0.081637639694891}. Best is trial 240 with value: 0.9168184450913348.\n",
            "[I 2024-09-02 15:42:39,164] Trial 417 finished with value: 0.9245701118272716 and parameters: {'algorithm': 'SVD', 'n_factors': 41, 'n_epochs': 44, 'lr_all': 0.028516286869320468, 'reg_all': 0.08705017417205607}. Best is trial 240 with value: 0.9168184450913348.\n",
            "[I 2024-09-02 15:42:39,504] Trial 418 finished with value: 0.9774393134473652 and parameters: {'algorithm': 'SVD', 'n_factors': 20, 'n_epochs': 41, 'lr_all': 0.025671076093852822, 'reg_all': 0.01637518614723724}. Best is trial 240 with value: 0.9168184450913348.\n",
            "[I 2024-09-02 15:42:39,959] Trial 419 finished with value: 0.9903726371505152 and parameters: {'algorithm': 'SVD', 'n_factors': 44, 'n_epochs': 45, 'lr_all': 0.022166986924720345, 'reg_all': 0.0014587809260219959}. Best is trial 240 with value: 0.9168184450913348.\n",
            "[I 2024-09-02 15:42:40,342] Trial 420 finished with value: 0.9363760834183125 and parameters: {'algorithm': 'SVD', 'n_factors': 26, 'n_epochs': 43, 'lr_all': 0.0365905708337572, 'reg_all': 0.06333822939334055}. Best is trial 240 with value: 0.9168184450913348.\n",
            "[I 2024-09-02 15:42:40,593] Trial 421 finished with value: 0.9269904502600078 and parameters: {'algorithm': 'SVD', 'n_factors': 30, 'n_epochs': 23, 'lr_all': 0.027719750952988693, 'reg_all': 0.08694283755081587}. Best is trial 240 with value: 0.9168184450913348.\n",
            "[I 2024-09-02 15:42:41,000] Trial 422 finished with value: 0.926023229146012 and parameters: {'algorithm': 'SVD', 'n_factors': 48, 'n_epochs': 39, 'lr_all': 0.01888224194861236, 'reg_all': 0.09993522697365559}. Best is trial 240 with value: 0.9168184450913348.\n",
            "[I 2024-09-02 15:42:41,404] Trial 423 finished with value: 0.92564015564546 and parameters: {'algorithm': 'SVD', 'n_factors': 38, 'n_epochs': 42, 'lr_all': 0.03197253926855252, 'reg_all': 0.07691307747208095}. Best is trial 240 with value: 0.9168184450913348.\n",
            "[I 2024-09-02 15:42:41,529] Trial 424 finished with value: 0.9594124318030148 and parameters: {'algorithm': 'BaselineOnly', 'method': 'sgd', 'reg_u': 0.0005954114135599267, 'reg_i': 0.09664309977724173}. Best is trial 240 with value: 0.9168184450913348.\n"
          ]
        },
        {
          "output_type": "stream",
          "name": "stdout",
          "text": [
            "Estimating biases using sgd...\n"
          ]
        },
        {
          "output_type": "stream",
          "name": "stderr",
          "text": [
            "[I 2024-09-02 15:42:41,949] Trial 425 finished with value: 0.9194936621174374 and parameters: {'algorithm': 'SVD', 'n_factors': 35, 'n_epochs': 44, 'lr_all': 0.021956802554706417, 'reg_all': 0.08794392300325705}. Best is trial 240 with value: 0.9168184450913348.\n",
            "[I 2024-09-02 15:42:42,340] Trial 426 finished with value: 0.9585671184538282 and parameters: {'algorithm': 'SVD', 'n_factors': 40, 'n_epochs': 40, 'lr_all': 0.0027308916312437574, 'reg_all': 0.05123884795889528}. Best is trial 240 with value: 0.9168184450913348.\n",
            "[I 2024-09-02 15:42:42,547] Trial 427 finished with value: 0.9336109840614433 and parameters: {'algorithm': 'SVD', 'n_factors': 34, 'n_epochs': 15, 'lr_all': 0.017570911280213552, 'reg_all': 0.07008666361965998}. Best is trial 240 with value: 0.9168184450913348.\n",
            "[I 2024-09-02 15:42:42,959] Trial 428 finished with value: 0.9252359745510697 and parameters: {'algorithm': 'SVD', 'n_factors': 45, 'n_epochs': 42, 'lr_all': 0.01237582352898763, 'reg_all': 0.08088551616336592}. Best is trial 240 with value: 0.9168184450913348.\n",
            "[I 2024-09-02 15:42:43,214] Trial 429 finished with value: 0.9237951128446732 and parameters: {'algorithm': 'SVD', 'n_factors': 36, 'n_epochs': 24, 'lr_all': 0.02079086839597183, 'reg_all': 0.086627618260325}. Best is trial 240 with value: 0.9168184450913348.\n",
            "[I 2024-09-02 15:42:43,635] Trial 430 finished with value: 0.9218633537523553 and parameters: {'algorithm': 'SVD', 'n_factors': 40, 'n_epochs': 41, 'lr_all': 0.026732958391066774, 'reg_all': 0.07217794262210263}. Best is trial 240 with value: 0.9168184450913348.\n",
            "[I 2024-09-02 15:42:44,125] Trial 431 finished with value: 0.9216291296616387 and parameters: {'algorithm': 'SVD', 'n_factors': 55, 'n_epochs': 45, 'lr_all': 0.022787695357915975, 'reg_all': 0.09956240752099423}. Best is trial 240 with value: 0.9168184450913348.\n",
            "[I 2024-09-02 15:42:44,536] Trial 432 finished with value: 0.9231013150294906 and parameters: {'algorithm': 'SVD', 'n_factors': 32, 'n_epochs': 46, 'lr_all': 0.015215595393863909, 'reg_all': 0.08802758193479168}. Best is trial 240 with value: 0.9168184450913348.\n",
            "[I 2024-09-02 15:42:44,986] Trial 433 finished with value: 0.9964592052458199 and parameters: {'algorithm': 'SVD', 'n_factors': 51, 'n_epochs': 43, 'lr_all': 0.031021708314365518, 'reg_all': 0.00014801225491392365}. Best is trial 240 with value: 0.9168184450913348.\n",
            "[I 2024-09-02 15:42:45,341] Trial 434 finished with value: 0.9331927895666315 and parameters: {'algorithm': 'SVD', 'n_factors': 43, 'n_epochs': 25, 'lr_all': 0.040775194862253804, 'reg_all': 0.06205618608193941}. Best is trial 240 with value: 0.9168184450913348.\n"
          ]
        },
        {
          "output_type": "stream",
          "name": "stdout",
          "text": [
            "Computing the pearson similarity matrix...\n",
            "Done computing similarity matrix.\n"
          ]
        },
        {
          "output_type": "stream",
          "name": "stderr",
          "text": [
            "[I 2024-09-02 15:42:45,638] Trial 435 finished with value: 1.0639271059539752 and parameters: {'algorithm': 'KNNBasic', 'k': 24, 'min_k': 4, 'name': 'pearson', 'user_based': False}. Best is trial 240 with value: 0.9168184450913348.\n",
            "[I 2024-09-02 15:42:46,058] Trial 436 finished with value: 0.9232894598848865 and parameters: {'algorithm': 'SVD', 'n_factors': 36, 'n_epochs': 43, 'lr_all': 0.02021459432660983, 'reg_all': 0.07826106432450966}. Best is trial 240 with value: 0.9168184450913348.\n",
            "[I 2024-09-02 15:42:46,452] Trial 437 finished with value: 0.9268635526864454 and parameters: {'algorithm': 'SVD', 'n_factors': 40, 'n_epochs': 41, 'lr_all': 0.06025346928391932, 'reg_all': 0.0886476926004186}. Best is trial 240 with value: 0.9168184450913348.\n",
            "[I 2024-09-02 15:42:46,691] Trial 438 finished with value: 0.9279836857114868 and parameters: {'algorithm': 'SVD', 'n_factors': 46, 'n_epochs': 18, 'lr_all': 0.036064426766587526, 'reg_all': 0.07815201238401423}. Best is trial 240 with value: 0.9168184450913348.\n",
            "[I 2024-09-02 15:42:48,633] Trial 439 finished with value: 1.013793031868901 and parameters: {'algorithm': 'CoClustering', 'n_cltr_u': 4, 'n_cltr_i': 9, 'n_epochs': 42}. Best is trial 240 with value: 0.9168184450913348.\n",
            "[I 2024-09-02 15:42:49,242] Trial 440 finished with value: 0.9230252371090537 and parameters: {'algorithm': 'SVD', 'n_factors': 32, 'n_epochs': 44, 'lr_all': 0.024271363943236042, 'reg_all': 0.09914649814951398}. Best is trial 240 with value: 0.9168184450913348.\n",
            "[I 2024-09-02 15:42:49,829] Trial 441 finished with value: 0.924223564878833 and parameters: {'algorithm': 'SVD', 'n_factors': 37, 'n_epochs': 36, 'lr_all': 0.028298520270720492, 'reg_all': 0.08895245587577899}. Best is trial 240 with value: 0.9168184450913348.\n",
            "[I 2024-09-02 15:42:50,477] Trial 442 finished with value: 0.9289193367768072 and parameters: {'algorithm': 'SVD', 'n_factors': 61, 'n_epochs': 40, 'lr_all': 0.017661953645785933, 'reg_all': 0.06868815024808354}. Best is trial 240 with value: 0.9168184450913348.\n",
            "[I 2024-09-02 15:42:50,746] Trial 443 finished with value: 0.9198036986456466 and parameters: {'algorithm': 'SVD', 'n_factors': 42, 'n_epochs': 22, 'lr_all': 0.025934193140683473, 'reg_all': 0.09963116550277612}. Best is trial 240 with value: 0.9168184450913348.\n",
            "[I 2024-09-02 15:42:50,989] Trial 444 finished with value: 0.9221405834943412 and parameters: {'algorithm': 'SVD', 'n_factors': 47, 'n_epochs': 19, 'lr_all': 0.046416472871292656, 'reg_all': 0.07944633612771668}. Best is trial 240 with value: 0.9168184450913348.\n",
            "[I 2024-09-02 15:42:51,237] Trial 445 finished with value: 0.928715439549594 and parameters: {'algorithm': 'SVD', 'n_factors': 43, 'n_epochs': 21, 'lr_all': 0.021569283989626375, 'reg_all': 0.05672874214491195}. Best is trial 240 with value: 0.9168184450913348.\n",
            "[I 2024-09-02 15:42:51,508] Trial 446 finished with value: 0.9437591875224515 and parameters: {'algorithm': 'SVD', 'n_factors': 49, 'n_epochs': 23, 'lr_all': 0.007267192719534171, 'reg_all': 0.08740149395489066}. Best is trial 240 with value: 0.9168184450913348.\n",
            "[I 2024-09-02 15:42:51,583] Trial 447 finished with value: 0.9342792806427054 and parameters: {'algorithm': 'BaselineOnly', 'method': 'als', 'reg_u': 3.537979816911137e-05, 'reg_i': 0.04670641023834946}. Best is trial 240 with value: 0.9168184450913348.\n"
          ]
        },
        {
          "output_type": "stream",
          "name": "stdout",
          "text": [
            "Estimating biases using als...\n"
          ]
        },
        {
          "output_type": "stream",
          "name": "stderr",
          "text": [
            "[I 2024-09-02 15:42:51,847] Trial 448 finished with value: 0.930091164441461 and parameters: {'algorithm': 'SVD', 'n_factors': 42, 'n_epochs': 20, 'lr_all': 0.01363984161055654, 'reg_all': 0.09936418304077256}. Best is trial 240 with value: 0.9168184450913348.\n",
            "[I 2024-09-02 15:42:52,087] Trial 449 finished with value: 0.9257909430031059 and parameters: {'algorithm': 'SVD', 'n_factors': 39, 'n_epochs': 22, 'lr_all': 0.03477714341387959, 'reg_all': 0.07075492248150367}. Best is trial 240 with value: 0.9168184450913348.\n",
            "[I 2024-09-02 15:42:52,304] Trial 450 finished with value: 0.9276462813468499 and parameters: {'algorithm': 'SVD', 'n_factors': 23, 'n_epochs': 21, 'lr_all': 0.023860191396004617, 'reg_all': 0.08830188246780492}. Best is trial 240 with value: 0.9168184450913348.\n",
            "[I 2024-09-02 15:42:52,550] Trial 451 finished with value: 0.9226032567063659 and parameters: {'algorithm': 'SVD', 'n_factors': 30, 'n_epochs': 22, 'lr_all': 0.01841993713136402, 'reg_all': 0.099619285877623}. Best is trial 240 with value: 0.9168184450913348.\n",
            "[I 2024-09-02 15:42:52,843] Trial 452 finished with value: 0.9232677443452997 and parameters: {'algorithm': 'SVD', 'n_factors': 43, 'n_epochs': 24, 'lr_all': 0.0315683232442308, 'reg_all': 0.07618988981667149}. Best is trial 240 with value: 0.9168184450913348.\n",
            "[I 2024-09-02 15:42:53,117] Trial 453 finished with value: 0.9258045351523684 and parameters: {'algorithm': 'SVD', 'n_factors': 35, 'n_epochs': 26, 'lr_all': 0.026019973724777563, 'reg_all': 0.08266893154981492}. Best is trial 240 with value: 0.9168184450913348.\n",
            "[I 2024-09-02 15:42:53,404] Trial 454 finished with value: 0.9244566891441149 and parameters: {'algorithm': 'SVD', 'n_factors': 39, 'n_epochs': 27, 'lr_all': 0.02070803649015435, 'reg_all': 0.0645249119155676}. Best is trial 240 with value: 0.9168184450913348.\n",
            "[I 2024-09-02 15:42:53,687] Trial 455 finished with value: 0.9251272365644522 and parameters: {'algorithm': 'SVD', 'n_factors': 26, 'n_epochs': 25, 'lr_all': 0.02994875356385536, 'reg_all': 0.08791908517571315}. Best is trial 240 with value: 0.9168184450913348.\n",
            "[I 2024-09-02 15:42:54,119] Trial 456 finished with value: 0.9259869519326387 and parameters: {'algorithm': 'SVD', 'n_factors': 46, 'n_epochs': 39, 'lr_all': 0.015378462500492204, 'reg_all': 0.07913239177447852}. Best is trial 240 with value: 0.9168184450913348.\n",
            "[I 2024-09-02 15:42:54,944] Trial 457 finished with value: 0.9236084279225862 and parameters: {'algorithm': 'SVD', 'n_factors': 180, 'n_epochs': 41, 'lr_all': 0.023163231992112437, 'reg_all': 0.09028770907444446}. Best is trial 240 with value: 0.9168184450913348.\n",
            "[I 2024-09-02 15:42:55,227] Trial 458 finished with value: 1.011767688101925 and parameters: {'algorithm': 'SVD', 'n_factors': 33, 'n_epochs': 28, 'lr_all': 0.0011926315102665692, 'reg_all': 0.07129060366664816}. Best is trial 240 with value: 0.9168184450913348.\n"
          ]
        },
        {
          "output_type": "stream",
          "name": "stdout",
          "text": [
            "Computing the cosine similarity matrix...\n",
            "Done computing similarity matrix.\n"
          ]
        },
        {
          "output_type": "stream",
          "name": "stderr",
          "text": [
            "[I 2024-09-02 15:42:57,028] Trial 459 finished with value: 1.1449319944608531 and parameters: {'algorithm': 'KNNBasic', 'k': 33, 'min_k': 5, 'name': 'cosine', 'user_based': True}. Best is trial 240 with value: 0.9168184450913348.\n",
            "[I 2024-09-02 15:42:57,377] Trial 460 finished with value: 0.921194444866752 and parameters: {'algorithm': 'SVD', 'n_factors': 51, 'n_epochs': 31, 'lr_all': 0.038108128076451225, 'reg_all': 0.0994889298207919}. Best is trial 240 with value: 0.9168184450913348.\n",
            "[I 2024-09-02 15:42:57,621] Trial 461 finished with value: 0.9269258112046845 and parameters: {'algorithm': 'SVD', 'n_factors': 30, 'n_epochs': 22, 'lr_all': 0.019693365869642158, 'reg_all': 0.08844805451246715}. Best is trial 240 with value: 0.9168184450913348.\n",
            "[I 2024-09-02 15:42:57,925] Trial 462 finished with value: 0.9254107016055361 and parameters: {'algorithm': 'SVD', 'n_factors': 41, 'n_epochs': 27, 'lr_all': 0.025259841528759278, 'reg_all': 0.07825459980937248}. Best is trial 240 with value: 0.9168184450913348.\n",
            "[I 2024-09-02 15:42:59,101] Trial 463 finished with value: 1.0172750337653111 and parameters: {'algorithm': 'CoClustering', 'n_cltr_u': 6, 'n_cltr_i': 6, 'n_epochs': 30}. Best is trial 240 with value: 0.9168184450913348.\n",
            "[I 2024-09-02 15:42:59,359] Trial 464 finished with value: 0.9223379443706594 and parameters: {'algorithm': 'SVD', 'n_factors': 35, 'n_epochs': 26, 'lr_all': 0.029226646049416133, 'reg_all': 0.09968599380558257}. Best is trial 240 with value: 0.9168184450913348.\n",
            "[I 2024-09-02 15:42:59,822] Trial 465 finished with value: 0.9231252152195091 and parameters: {'algorithm': 'SVD', 'n_factors': 45, 'n_epochs': 37, 'lr_all': 0.01727907875666521, 'reg_all': 0.09954878860095194}. Best is trial 240 with value: 0.9168184450913348.\n",
            "[I 2024-09-02 15:43:00,224] Trial 466 finished with value: 0.9278727583527981 and parameters: {'algorithm': 'SVD', 'n_factors': 39, 'n_epochs': 40, 'lr_all': 0.03508014856825617, 'reg_all': 0.06359365100781578}. Best is trial 240 with value: 0.9168184450913348.\n",
            "[I 2024-09-02 15:43:00,757] Trial 467 finished with value: 0.930081672593719 and parameters: {'algorithm': 'SVD', 'n_factors': 27, 'n_epochs': 42, 'lr_all': 0.022330895671481436, 'reg_all': 0.07965910719711404}. Best is trial 240 with value: 0.9168184450913348.\n",
            "[I 2024-09-02 15:43:01,400] Trial 468 finished with value: 0.926548943718615 and parameters: {'algorithm': 'SVD', 'n_factors': 32, 'n_epochs': 45, 'lr_all': 0.026850492790433698, 'reg_all': 0.08801447180381167}. Best is trial 240 with value: 0.9168184450913348.\n",
            "[I 2024-09-02 15:43:01,784] Trial 469 finished with value: 0.9290959577549509 and parameters: {'algorithm': 'SVD', 'n_factors': 37, 'n_epochs': 23, 'lr_all': 0.04340757019551636, 'reg_all': 0.06922744953270997}. Best is trial 240 with value: 0.9168184450913348.\n",
            "[I 2024-09-02 15:43:02,431] Trial 470 finished with value: 1.006045395594067 and parameters: {'algorithm': 'SVD', 'n_factors': 23, 'n_epochs': 48, 'lr_all': 0.05296715046654086, 'reg_all': 0.004974283326611684}. Best is trial 240 with value: 0.9168184450913348.\n",
            "[I 2024-09-02 15:43:02,975] Trial 471 finished with value: 0.9212002454768606 and parameters: {'algorithm': 'SVD', 'n_factors': 43, 'n_epochs': 32, 'lr_all': 0.031003026254858783, 'reg_all': 0.08642765813926366}. Best is trial 240 with value: 0.9168184450913348.\n",
            "[I 2024-09-02 15:43:03,351] Trial 472 finished with value: 0.9437804242939111 and parameters: {'algorithm': 'SVD', 'n_factors': 49, 'n_epochs': 24, 'lr_all': 0.020063198962498613, 'reg_all': 0.03496714030293473}. Best is trial 240 with value: 0.9168184450913348.\n",
            "[I 2024-09-02 15:43:03,475] Trial 473 finished with value: 0.9594124318030148 and parameters: {'algorithm': 'BaselineOnly', 'method': 'sgd', 'reg_u': 0.0003643886876988455, 'reg_i': 0.0017053427810138867}. Best is trial 240 with value: 0.9168184450913348.\n"
          ]
        },
        {
          "output_type": "stream",
          "name": "stdout",
          "text": [
            "Estimating biases using sgd...\n"
          ]
        },
        {
          "output_type": "stream",
          "name": "stderr",
          "text": [
            "[I 2024-09-02 15:43:03,761] Trial 474 finished with value: 1.008299934230041 and parameters: {'algorithm': 'SVD', 'n_factors': 34, 'n_epochs': 28, 'lr_all': 0.02436102461440975, 'reg_all': 0.0006157925398840054}. Best is trial 240 with value: 0.9168184450913348.\n",
            "[I 2024-09-02 15:43:04,159] Trial 475 finished with value: 1.0173940696835557 and parameters: {'algorithm': 'SVD', 'n_factors': 29, 'n_epochs': 43, 'lr_all': 0.01461751290910675, 'reg_all': 0.00030786643123170823}. Best is trial 240 with value: 0.9168184450913348.\n",
            "[I 2024-09-02 15:43:04,653] Trial 476 finished with value: 0.9220779875697103 and parameters: {'algorithm': 'SVD', 'n_factors': 53, 'n_epochs': 47, 'lr_all': 0.011473191166020056, 'reg_all': 0.09963291556179925}. Best is trial 240 with value: 0.9168184450913348.\n",
            "[I 2024-09-02 15:43:04,973] Trial 477 finished with value: 0.9192620816088052 and parameters: {'algorithm': 'SVD', 'n_factors': 40, 'n_epochs': 31, 'lr_all': 0.017698181975412463, 'reg_all': 0.07838276433008584}. Best is trial 240 with value: 0.9168184450913348.\n",
            "[I 2024-09-02 15:43:05,278] Trial 478 finished with value: 0.9557194692687636 and parameters: {'algorithm': 'SVD', 'n_factors': 39, 'n_epochs': 30, 'lr_all': 0.01554326148285689, 'reg_all': 0.023394099880863415}. Best is trial 240 with value: 0.9168184450913348.\n",
            "[I 2024-09-02 15:43:05,585] Trial 479 finished with value: 0.9284415731134534 and parameters: {'algorithm': 'SVD', 'n_factors': 42, 'n_epochs': 31, 'lr_all': 0.01818350210565682, 'reg_all': 0.0623211578553129}. Best is trial 240 with value: 0.9168184450913348.\n",
            "[I 2024-09-02 15:43:05,877] Trial 480 finished with value: 0.925397192277727 and parameters: {'algorithm': 'SVD', 'n_factors': 33, 'n_epochs': 30, 'lr_all': 0.01726492585448134, 'reg_all': 0.07415329044840126}. Best is trial 240 with value: 0.9168184450913348.\n",
            "[I 2024-09-02 15:43:06,225] Trial 481 finished with value: 0.926111725830327 and parameters: {'algorithm': 'SVD', 'n_factors': 46, 'n_epochs': 32, 'lr_all': 0.021955417161338968, 'reg_all': 0.05671758773650533}. Best is trial 240 with value: 0.9168184450913348.\n",
            "[I 2024-09-02 15:43:06,517] Trial 482 finished with value: 0.9325860162936973 and parameters: {'algorithm': 'SVD', 'n_factors': 26, 'n_epochs': 31, 'lr_all': 0.013831959099555624, 'reg_all': 0.04935454339062467}. Best is trial 240 with value: 0.9168184450913348.\n",
            "[I 2024-09-02 15:43:06,864] Trial 483 finished with value: 0.9238620754251451 and parameters: {'algorithm': 'SVD', 'n_factors': 37, 'n_epochs': 34, 'lr_all': 0.01988020878674243, 'reg_all': 0.07658846077809758}. Best is trial 240 with value: 0.9168184450913348.\n"
          ]
        },
        {
          "output_type": "stream",
          "name": "stdout",
          "text": [
            "Computing the pearson similarity matrix...\n",
            "Done computing similarity matrix.\n"
          ]
        },
        {
          "output_type": "stream",
          "name": "stderr",
          "text": [
            "[I 2024-09-02 15:43:07,117] Trial 484 finished with value: 1.0300260475273664 and parameters: {'algorithm': 'KNNBasic', 'k': 15, 'min_k': 1, 'name': 'pearson', 'user_based': False}. Best is trial 240 with value: 0.9168184450913348.\n",
            "[I 2024-09-02 15:43:07,257] Trial 485 finished with value: 0.9312065145286832 and parameters: {'algorithm': 'SVD', 'n_factors': 20, 'n_epochs': 11, 'lr_all': 0.026151618808409435, 'reg_all': 0.08090572403836276}. Best is trial 240 with value: 0.9168184450913348.\n",
            "[I 2024-09-02 15:43:07,544] Trial 486 finished with value: 0.9271822847754875 and parameters: {'algorithm': 'SVD', 'n_factors': 30, 'n_epochs': 28, 'lr_all': 0.03224801646114377, 'reg_all': 0.0677967848218241}. Best is trial 240 with value: 0.9168184450913348.\n",
            "[I 2024-09-02 15:43:07,861] Trial 487 finished with value: 0.9226243852589419 and parameters: {'algorithm': 'SVD', 'n_factors': 41, 'n_epochs': 29, 'lr_all': 0.01700325041709864, 'reg_all': 0.08705639481534823}. Best is trial 240 with value: 0.9168184450913348.\n",
            "[I 2024-09-02 15:43:08,152] Trial 488 finished with value: 0.924439330443598 and parameters: {'algorithm': 'SVD', 'n_factors': 35, 'n_epochs': 29, 'lr_all': 0.022243416247635324, 'reg_all': 0.08779852888825135}. Best is trial 240 with value: 0.9168184450913348.\n",
            "[I 2024-09-02 15:43:09,387] Trial 489 finished with value: 1.0270185819609823 and parameters: {'algorithm': 'CoClustering', 'n_cltr_u': 7, 'n_cltr_i': 7, 'n_epochs': 30}. Best is trial 240 with value: 0.9168184450913348.\n",
            "[I 2024-09-02 15:43:09,731] Trial 490 finished with value: 0.9240642849321095 and parameters: {'algorithm': 'SVD', 'n_factors': 45, 'n_epochs': 33, 'lr_all': 0.028499057602906566, 'reg_all': 0.07148951891325367}. Best is trial 240 with value: 0.9168184450913348.\n",
            "[I 2024-09-02 15:43:10,122] Trial 491 finished with value: 0.9211026971017103 and parameters: {'algorithm': 'SVD', 'n_factors': 38, 'n_epochs': 41, 'lr_all': 0.019542981591892005, 'reg_all': 0.0892309626402924}. Best is trial 240 with value: 0.9168184450913348.\n",
            "[I 2024-09-02 15:43:10,661] Trial 492 finished with value: 0.9185364226483249 and parameters: {'algorithm': 'SVD', 'n_factors': 74, 'n_epochs': 44, 'lr_all': 0.024380717730675502, 'reg_all': 0.09980214295978503}. Best is trial 240 with value: 0.9168184450913348.\n",
            "[I 2024-09-02 15:43:11,199] Trial 493 finished with value: 0.9264904517496058 and parameters: {'algorithm': 'SVD', 'n_factors': 72, 'n_epochs': 45, 'lr_all': 0.03378737000396382, 'reg_all': 0.0775579644241358}. Best is trial 240 with value: 0.9168184450913348.\n",
            "[I 2024-09-02 15:43:11,578] Trial 494 finished with value: 0.9195018491523033 and parameters: {'algorithm': 'SVD', 'n_factors': 26, 'n_epochs': 45, 'lr_all': 0.026515326468373124, 'reg_all': 0.09935235241067131}. Best is trial 240 with value: 0.9168184450913348.\n",
            "[I 2024-09-02 15:43:12,169] Trial 495 finished with value: 0.9438157216207296 and parameters: {'algorithm': 'SVD', 'n_factors': 58, 'n_epochs': 47, 'lr_all': 0.02902965513324135, 'reg_all': 0.01412207997693205}. Best is trial 240 with value: 0.9168184450913348.\n",
            "[I 2024-09-02 15:43:12,556] Trial 496 finished with value: 1.0173044501208401 and parameters: {'algorithm': 'SVD', 'n_factors': 24, 'n_epochs': 46, 'lr_all': 0.025562281000419088, 'reg_all': 0.002773401708094654}. Best is trial 240 with value: 0.9168184450913348.\n",
            "[I 2024-09-02 15:43:12,628] Trial 497 finished with value: 0.9349933062359681 and parameters: {'algorithm': 'BaselineOnly', 'method': 'als', 'reg_u': 0.0036589001757743366, 'reg_i': 2.1203368936213607e-05}. Best is trial 240 with value: 0.9168184450913348.\n"
          ]
        },
        {
          "output_type": "stream",
          "name": "stdout",
          "text": [
            "Estimating biases using als...\n"
          ]
        },
        {
          "output_type": "stream",
          "name": "stderr",
          "text": [
            "[I 2024-09-02 15:43:13,222] Trial 498 finished with value: 0.9221089213945787 and parameters: {'algorithm': 'SVD', 'n_factors': 89, 'n_epochs': 44, 'lr_all': 0.03794589454124905, 'reg_all': 0.09961062640043851}. Best is trial 240 with value: 0.9168184450913348.\n",
            "[I 2024-09-02 15:43:14,048] Trial 499 finished with value: 0.924529836610669 and parameters: {'algorithm': 'SVD', 'n_factors': 62, 'n_epochs': 45, 'lr_all': 0.028880661374116306, 'reg_all': 0.08038666569771541}. Best is trial 240 with value: 0.9168184450913348.\n",
            "[I 2024-09-02 15:43:14,868] Trial 500 finished with value: 0.9288297120276322 and parameters: {'algorithm': 'SVD', 'n_factors': 64, 'n_epochs': 46, 'lr_all': 0.024351627108410104, 'reg_all': 0.05629284081125157}. Best is trial 240 with value: 0.9168184450913348.\n",
            "[I 2024-09-02 15:43:15,512] Trial 501 finished with value: 0.9289103314558361 and parameters: {'algorithm': 'SVD', 'n_factors': 32, 'n_epochs': 44, 'lr_all': 0.03181836335280216, 'reg_all': 0.06962998389635143}. Best is trial 240 with value: 0.9168184450913348.\n",
            "[I 2024-09-02 15:43:16,395] Trial 502 finished with value: 0.9246794455784887 and parameters: {'algorithm': 'SVD', 'n_factors': 110, 'n_epochs': 45, 'lr_all': 0.0272172774978453, 'reg_all': 0.08836813947579798}. Best is trial 240 with value: 0.9168184450913348.\n",
            "[I 2024-09-02 15:43:16,680] Trial 503 finished with value: 0.9251190862513421 and parameters: {'algorithm': 'SVD', 'n_factors': 26, 'n_epochs': 29, 'lr_all': 0.03678950125150797, 'reg_all': 0.09964420280525385}. Best is trial 240 with value: 0.9168184450913348.\n",
            "[I 2024-09-02 15:43:16,911] Trial 504 finished with value: 0.9267965292908481 and parameters: {'algorithm': 'SVD', 'n_factors': 31, 'n_epochs': 18, 'lr_all': 0.024067044408996402, 'reg_all': 0.07901279212113295}. Best is trial 240 with value: 0.9168184450913348.\n",
            "[I 2024-09-02 15:43:17,249] Trial 505 finished with value: 1.0306190887084854 and parameters: {'algorithm': 'SVD', 'n_factors': 23, 'n_epochs': 44, 'lr_all': 0.0217162543258648, 'reg_all': 0.001021447675765931}. Best is trial 240 with value: 0.9168184450913348.\n",
            "[I 2024-09-02 15:43:17,661] Trial 506 finished with value: 0.9240352212160529 and parameters: {'algorithm': 'SVD', 'n_factors': 69, 'n_epochs': 29, 'lr_all': 0.032637875729377, 'reg_all': 0.08723580887047902}. Best is trial 240 with value: 0.9168184450913348.\n",
            "[I 2024-09-02 15:43:18,087] Trial 507 finished with value: 0.9261816389666714 and parameters: {'algorithm': 'SVD', 'n_factors': 76, 'n_epochs': 31, 'lr_all': 0.02638810944808334, 'reg_all': 0.06464577608302147}. Best is trial 240 with value: 0.9168184450913348.\n",
            "[I 2024-09-02 15:43:18,398] Trial 508 finished with value: 0.9237323593287105 and parameters: {'algorithm': 'SVD', 'n_factors': 49, 'n_epochs': 28, 'lr_all': 0.02930412600654626, 'reg_all': 0.08775599359958125}. Best is trial 240 with value: 0.9168184450913348.\n",
            "[I 2024-09-02 15:43:19,001] Trial 509 finished with value: 0.9483674936289523 and parameters: {'algorithm': 'SVD', 'n_factors': 80, 'n_epochs': 46, 'lr_all': 0.03921174308096414, 'reg_all': 0.00858291962398997}. Best is trial 240 with value: 0.9168184450913348.\n"
          ]
        },
        {
          "output_type": "stream",
          "name": "stdout",
          "text": [
            "Computing the cosine similarity matrix...\n",
            "Done computing similarity matrix.\n"
          ]
        },
        {
          "output_type": "stream",
          "name": "stderr",
          "text": [
            "[I 2024-09-02 15:43:19,276] Trial 510 finished with value: 1.0276659700609947 and parameters: {'algorithm': 'KNNBasic', 'k': 43, 'min_k': 3, 'name': 'cosine', 'user_based': False}. Best is trial 240 with value: 0.9168184450913348.\n",
            "[I 2024-09-02 15:43:19,679] Trial 511 finished with value: 0.9277004416307647 and parameters: {'algorithm': 'SVD', 'n_factors': 35, 'n_epochs': 44, 'lr_all': 0.021915594743604234, 'reg_all': 0.07481623313125531}. Best is trial 240 with value: 0.9168184450913348.\n",
            "[I 2024-09-02 15:43:20,120] Trial 512 finished with value: 0.922220422842208 and parameters: {'algorithm': 'SVD', 'n_factors': 84, 'n_epochs': 30, 'lr_all': 0.024760386452878546, 'reg_all': 0.0998343415726104}. Best is trial 240 with value: 0.9168184450913348.\n",
            "[I 2024-09-02 15:43:20,398] Trial 513 finished with value: 0.9196722370164956 and parameters: {'algorithm': 'SVD', 'n_factors': 29, 'n_epochs': 27, 'lr_all': 0.03296842708511072, 'reg_all': 0.08651408602282298}. Best is trial 240 with value: 0.9168184450913348.\n",
            "[I 2024-09-02 15:43:20,685] Trial 514 finished with value: 0.9302041012738361 and parameters: {'algorithm': 'SVD', 'n_factors': 28, 'n_epochs': 27, 'lr_all': 0.03441239343392022, 'reg_all': 0.07018320305628457}. Best is trial 240 with value: 0.9168184450913348.\n",
            "[I 2024-09-02 15:43:20,977] Trial 515 finished with value: 0.9366831136298754 and parameters: {'algorithm': 'SVD', 'n_factors': 20, 'n_epochs': 26, 'lr_all': 0.04013019272606944, 'reg_all': 0.06046150040474735}. Best is trial 240 with value: 0.9168184450913348.\n",
            "[I 2024-09-02 15:43:21,325] Trial 516 finished with value: 0.925241227353102 and parameters: {'algorithm': 'SVD', 'n_factors': 25, 'n_epochs': 43, 'lr_all': 0.032445178724711185, 'reg_all': 0.08033085778622066}. Best is trial 240 with value: 0.9168184450913348.\n",
            "[I 2024-09-02 15:43:22,796] Trial 517 finished with value: 1.033080157578595 and parameters: {'algorithm': 'CoClustering', 'n_cltr_u': 10, 'n_cltr_i': 10, 'n_epochs': 35}. Best is trial 240 with value: 0.9168184450913348.\n",
            "[I 2024-09-02 15:43:23,231] Trial 518 finished with value: 0.948778866458436 and parameters: {'algorithm': 'SVD', 'n_factors': 106, 'n_epochs': 27, 'lr_all': 0.005532803291613224, 'reg_all': 0.0867818283979681}. Best is trial 240 with value: 0.9168184450913348.\n",
            "[I 2024-09-02 15:43:23,622] Trial 519 finished with value: 1.046758429190293 and parameters: {'algorithm': 'SVD', 'n_factors': 29, 'n_epochs': 45, 'lr_all': 0.0003503264780946827, 'reg_all': 0.07591719089858175}. Best is trial 240 with value: 0.9168184450913348.\n",
            "[I 2024-09-02 15:43:23,986] Trial 520 finished with value: 0.9220817950266846 and parameters: {'algorithm': 'SVD', 'n_factors': 32, 'n_epochs': 38, 'lr_all': 0.04618287138900004, 'reg_all': 0.09998208864418129}. Best is trial 240 with value: 0.9168184450913348.\n",
            "[I 2024-09-02 15:43:24,451] Trial 521 finished with value: 0.9758994661095935 and parameters: {'algorithm': 'SVD', 'n_factors': 94, 'n_epochs': 32, 'lr_all': 0.01859740562927591, 'reg_all': 0.002066497198203025}. Best is trial 240 with value: 0.9168184450913348.\n",
            "[I 2024-09-02 15:43:24,527] Trial 522 finished with value: 0.9339542362745703 and parameters: {'algorithm': 'BaselineOnly', 'method': 'als', 'reg_u': 0.02033742627512883, 'reg_i': 4.5544953274240486e-05}. Best is trial 240 with value: 0.9168184450913348.\n"
          ]
        },
        {
          "output_type": "stream",
          "name": "stdout",
          "text": [
            "Estimating biases using als...\n"
          ]
        },
        {
          "output_type": "stream",
          "name": "stderr",
          "text": [
            "[I 2024-09-02 15:43:25,146] Trial 523 finished with value: 0.9217513232879629 and parameters: {'algorithm': 'SVD', 'n_factors': 99, 'n_epochs': 42, 'lr_all': 0.030257326042605386, 'reg_all': 0.08627038003001186}. Best is trial 240 with value: 0.9168184450913348.\n",
            "[I 2024-09-02 15:43:25,524] Trial 524 finished with value: 0.9290853528637231 and parameters: {'algorithm': 'SVD', 'n_factors': 28, 'n_epochs': 44, 'lr_all': 0.020636037243045705, 'reg_all': 0.06694244228667502}. Best is trial 240 with value: 0.9168184450913348.\n",
            "[I 2024-09-02 15:43:26,084] Trial 525 finished with value: 0.9294563197658454 and parameters: {'algorithm': 'SVD', 'n_factors': 130, 'n_epochs': 30, 'lr_all': 0.03586781395492855, 'reg_all': 0.04077726665820116}. Best is trial 240 with value: 0.9168184450913348.\n",
            "[I 2024-09-02 15:43:26,519] Trial 526 finished with value: 0.9231170192698186 and parameters: {'algorithm': 'SVD', 'n_factors': 23, 'n_epochs': 28, 'lr_all': 0.02645924535109808, 'reg_all': 0.08861652709978891}. Best is trial 240 with value: 0.9168184450913348.\n",
            "[I 2024-09-02 15:43:27,203] Trial 527 finished with value: 0.9276617145386512 and parameters: {'algorithm': 'SVD', 'n_factors': 34, 'n_epochs': 48, 'lr_all': 0.023817762922407122, 'reg_all': 0.07886539597547389}. Best is trial 240 with value: 0.9168184450913348.\n",
            "[I 2024-09-02 15:43:27,888] Trial 528 finished with value: 0.9203230641831017 and parameters: {'algorithm': 'SVD', 'n_factors': 55, 'n_epochs': 31, 'lr_all': 0.0285590658722946, 'reg_all': 0.09983051937077049}. Best is trial 240 with value: 0.9168184450913348.\n",
            "[I 2024-09-02 15:43:28,381] Trial 529 finished with value: 0.9286390700201004 and parameters: {'algorithm': 'SVD', 'n_factors': 26, 'n_epochs': 32, 'lr_all': 0.01977677041897782, 'reg_all': 0.07179941101388103}. Best is trial 240 with value: 0.9168184450913348.\n",
            "[I 2024-09-02 15:43:28,975] Trial 530 finished with value: 0.922362791915281 and parameters: {'algorithm': 'SVD', 'n_factors': 56, 'n_epochs': 31, 'lr_all': 0.02529631039978073, 'reg_all': 0.08793503437523764}. Best is trial 240 with value: 0.9168184450913348.\n",
            "[I 2024-09-02 15:43:29,330] Trial 531 finished with value: 0.9227092860201106 and parameters: {'algorithm': 'SVD', 'n_factors': 47, 'n_epochs': 31, 'lr_all': 0.028063479506407384, 'reg_all': 0.08747571353845578}. Best is trial 240 with value: 0.9168184450913348.\n",
            "[I 2024-09-02 15:43:29,669] Trial 532 finished with value: 0.9309977745065106 and parameters: {'algorithm': 'SVD', 'n_factors': 54, 'n_epochs': 30, 'lr_all': 0.021572735443654355, 'reg_all': 0.05505229715100122}. Best is trial 240 with value: 0.9168184450913348.\n",
            "[I 2024-09-02 15:43:30,016] Trial 533 finished with value: 0.9211492838916077 and parameters: {'algorithm': 'SVD', 'n_factors': 52, 'n_epochs': 29, 'lr_all': 0.01727210303866936, 'reg_all': 0.09966113371715775}. Best is trial 240 with value: 0.9168184450913348.\n",
            "[I 2024-09-02 15:43:30,437] Trial 534 finished with value: 0.924825062601914 and parameters: {'algorithm': 'SVD', 'n_factors': 67, 'n_epochs': 33, 'lr_all': 0.03368568373144771, 'reg_all': 0.07783150579546133}. Best is trial 240 with value: 0.9168184450913348.\n",
            "[I 2024-09-02 15:43:30,804] Trial 535 finished with value: 0.9258151683061661 and parameters: {'algorithm': 'SVD', 'n_factors': 51, 'n_epochs': 32, 'lr_all': 0.04257738681435369, 'reg_all': 0.06276934226778375}. Best is trial 240 with value: 0.9168184450913348.\n"
          ]
        },
        {
          "output_type": "stream",
          "name": "stdout",
          "text": [
            "Computing the pearson similarity matrix...\n",
            "Done computing similarity matrix.\n"
          ]
        },
        {
          "output_type": "stream",
          "name": "stderr",
          "text": [
            "[I 2024-09-02 15:43:33,052] Trial 536 finished with value: 1.1576213197887657 and parameters: {'algorithm': 'KNNBasic', 'k': 36, 'min_k': 2, 'name': 'pearson', 'user_based': True}. Best is trial 240 with value: 0.9168184450913348.\n",
            "[I 2024-09-02 15:43:33,379] Trial 537 finished with value: 0.9234155226460844 and parameters: {'algorithm': 'SVD', 'n_factors': 30, 'n_epochs': 31, 'lr_all': 0.02913596154531583, 'reg_all': 0.08801109464161574}. Best is trial 240 with value: 0.9168184450913348.\n",
            "[I 2024-09-02 15:43:33,766] Trial 538 finished with value: 0.9233231624044079 and parameters: {'algorithm': 'SVD', 'n_factors': 49, 'n_epochs': 34, 'lr_all': 0.023170777078069943, 'reg_all': 0.07608968274576933}. Best is trial 240 with value: 0.9168184450913348.\n",
            "[I 2024-09-02 15:43:34,840] Trial 539 finished with value: 1.0041620128989937 and parameters: {'algorithm': 'CoClustering', 'n_cltr_u': 3, 'n_cltr_i': 3, 'n_epochs': 30}. Best is trial 240 with value: 0.9168184450913348.\n",
            "[I 2024-09-02 15:43:35,335] Trial 540 finished with value: 0.92348300372304 and parameters: {'algorithm': 'SVD', 'n_factors': 57, 'n_epochs': 46, 'lr_all': 0.020036323661265773, 'reg_all': 0.08966029009253264}. Best is trial 240 with value: 0.9168184450913348.\n",
            "[I 2024-09-02 15:43:35,624] Trial 541 finished with value: 0.9237461341789972 and parameters: {'algorithm': 'SVD', 'n_factors': 32, 'n_epochs': 28, 'lr_all': 0.02626122125238518, 'reg_all': 0.07116003951100247}. Best is trial 240 with value: 0.9168184450913348.\n",
            "[I 2024-09-02 15:43:35,939] Trial 542 finished with value: 0.9214933994342009 and parameters: {'algorithm': 'SVD', 'n_factors': 37, 'n_epochs': 29, 'lr_all': 0.030638981783393384, 'reg_all': 0.09909412770371787}. Best is trial 240 with value: 0.9168184450913348.\n",
            "[I 2024-09-02 15:43:36,257] Trial 543 finished with value: 0.9224173578829588 and parameters: {'algorithm': 'SVD', 'n_factors': 45, 'n_epochs': 27, 'lr_all': 0.02289349785969664, 'reg_all': 0.07908377218916303}. Best is trial 240 with value: 0.9168184450913348.\n",
            "[I 2024-09-02 15:43:36,574] Trial 544 finished with value: 0.9289548434522669 and parameters: {'algorithm': 'SVD', 'n_factors': 27, 'n_epochs': 31, 'lr_all': 0.03665214444427764, 'reg_all': 0.08774090879702286}. Best is trial 240 with value: 0.9168184450913348.\n",
            "[I 2024-09-02 15:43:36,871] Trial 545 finished with value: 0.9304315486443312 and parameters: {'algorithm': 'SVD', 'n_factors': 42, 'n_epochs': 26, 'lr_all': 0.01784479953639325, 'reg_all': 0.06651396591752777}. Best is trial 240 with value: 0.9168184450913348.\n",
            "[I 2024-09-02 15:43:37,152] Trial 546 finished with value: 0.9200864517600055 and parameters: {'algorithm': 'SVD', 'n_factors': 35, 'n_epochs': 28, 'lr_all': 0.02692081075046912, 'reg_all': 0.08861493310879749}. Best is trial 240 with value: 0.9168184450913348.\n",
            "[I 2024-09-02 15:43:37,280] Trial 547 finished with value: 0.9594124318030148 and parameters: {'algorithm': 'BaselineOnly', 'method': 'sgd', 'reg_u': 1.0395460796637793e-05, 'reg_i': 0.00020684829415728087}. Best is trial 240 with value: 0.9168184450913348.\n"
          ]
        },
        {
          "output_type": "stream",
          "name": "stdout",
          "text": [
            "Estimating biases using sgd...\n"
          ]
        },
        {
          "output_type": "stream",
          "name": "stderr",
          "text": [
            "[I 2024-09-02 15:43:37,579] Trial 548 finished with value: 0.9190534141428425 and parameters: {'algorithm': 'SVD', 'n_factors': 35, 'n_epochs': 27, 'lr_all': 0.02480509887588139, 'reg_all': 0.07828387444648369}. Best is trial 240 with value: 0.9168184450913348.\n",
            "[I 2024-09-02 15:43:37,854] Trial 549 finished with value: 0.9339019224078556 and parameters: {'algorithm': 'SVD', 'n_factors': 31, 'n_epochs': 26, 'lr_all': 0.02062356918553824, 'reg_all': 0.06645657997458347}. Best is trial 240 with value: 0.9168184450913348.\n",
            "[I 2024-09-02 15:43:38,128] Trial 550 finished with value: 0.9338603710569637 and parameters: {'algorithm': 'SVD', 'n_factors': 36, 'n_epochs': 25, 'lr_all': 0.01289213691335954, 'reg_all': 0.05714924962578206}. Best is trial 240 with value: 0.9168184450913348.\n",
            "[I 2024-09-02 15:43:38,430] Trial 551 finished with value: 0.9363530700417555 and parameters: {'algorithm': 'SVD', 'n_factors': 33, 'n_epochs': 27, 'lr_all': 0.02364395706753663, 'reg_all': 0.05183799072071083}. Best is trial 240 with value: 0.9168184450913348.\n",
            "[I 2024-09-02 15:43:38,700] Trial 552 finished with value: 0.9295142934995819 and parameters: {'algorithm': 'SVD', 'n_factors': 23, 'n_epochs': 29, 'lr_all': 0.018991146910296016, 'reg_all': 0.0758643432715835}. Best is trial 240 with value: 0.9168184450913348.\n",
            "[I 2024-09-02 15:43:38,998] Trial 553 finished with value: 0.9259937716446155 and parameters: {'algorithm': 'SVD', 'n_factors': 30, 'n_epochs': 27, 'lr_all': 0.016598419023000625, 'reg_all': 0.06383210515876658}. Best is trial 240 with value: 0.9168184450913348.\n",
            "[I 2024-09-02 15:43:40,009] Trial 554 finished with value: 0.9297173895064086 and parameters: {'algorithm': 'SVD', 'n_factors': 195, 'n_epochs': 28, 'lr_all': 0.02495848541213509, 'reg_all': 0.08182640973481732}. Best is trial 240 with value: 0.9168184450913348.\n",
            "[I 2024-09-02 15:43:40,660] Trial 555 finished with value: 0.9279803525960495 and parameters: {'algorithm': 'SVD', 'n_factors': 35, 'n_epochs': 45, 'lr_all': 0.02181773371424114, 'reg_all': 0.07139167725785453}. Best is trial 240 with value: 0.9168184450913348.\n",
            "[I 2024-09-02 15:43:41,099] Trial 556 finished with value: 0.9264652651933459 and parameters: {'algorithm': 'SVD', 'n_factors': 27, 'n_epochs': 26, 'lr_all': 0.02564373513900435, 'reg_all': 0.07996567600062555}. Best is trial 240 with value: 0.9168184450913348.\n",
            "[I 2024-09-02 15:43:41,484] Trial 557 finished with value: 0.9353780661780936 and parameters: {'algorithm': 'SVD', 'n_factors': 38, 'n_epochs': 19, 'lr_all': 0.01481521433502939, 'reg_all': 0.08847426808731322}. Best is trial 240 with value: 0.9168184450913348.\n",
            "[I 2024-09-02 15:43:41,939] Trial 558 finished with value: 0.9232202826541592 and parameters: {'algorithm': 'SVD', 'n_factors': 33, 'n_epochs': 29, 'lr_all': 0.01953722601677977, 'reg_all': 0.0783660070313644}. Best is trial 240 with value: 0.9168184450913348.\n",
            "[I 2024-09-02 15:43:42,335] Trial 559 finished with value: 0.9221147733321188 and parameters: {'algorithm': 'SVD', 'n_factors': 29, 'n_epochs': 47, 'lr_all': 0.032874159815248626, 'reg_all': 0.09978473406850712}. Best is trial 240 with value: 0.9168184450913348.\n",
            "[I 2024-09-02 15:43:42,811] Trial 560 finished with value: 0.958545729500023 and parameters: {'algorithm': 'SVD', 'n_factors': 23, 'n_epochs': 44, 'lr_all': 0.02641296596185648, 'reg_all': 0.02764539824613201}. Best is trial 240 with value: 0.9168184450913348.\n"
          ]
        },
        {
          "output_type": "stream",
          "name": "stdout",
          "text": [
            "Computing the pearson similarity matrix...\n",
            "Done computing similarity matrix.\n"
          ]
        },
        {
          "output_type": "stream",
          "name": "stderr",
          "text": [
            "[I 2024-09-02 15:43:43,113] Trial 561 finished with value: 1.0610996295373725 and parameters: {'algorithm': 'KNNBasic', 'k': 45, 'min_k': 4, 'name': 'pearson', 'user_based': False}. Best is trial 240 with value: 0.9168184450913348.\n",
            "[I 2024-09-02 15:43:43,399] Trial 562 finished with value: 0.9255827188427163 and parameters: {'algorithm': 'SVD', 'n_factors': 35, 'n_epochs': 28, 'lr_all': 0.021186452913371116, 'reg_all': 0.05916481060323287}. Best is trial 240 with value: 0.9168184450913348.\n",
            "[I 2024-09-02 15:43:43,711] Trial 563 finished with value: 0.9317899341806348 and parameters: {'algorithm': 'SVD', 'n_factors': 38, 'n_epochs': 27, 'lr_all': 0.0104460964960303, 'reg_all': 0.08600500094130778}. Best is trial 240 with value: 0.9168184450913348.\n",
            "[I 2024-09-02 15:43:44,870] Trial 564 finished with value: 1.0132402561292102 and parameters: {'algorithm': 'CoClustering', 'n_cltr_u': 5, 'n_cltr_i': 5, 'n_epochs': 30}. Best is trial 240 with value: 0.9168184450913348.\n",
            "[I 2024-09-02 15:43:45,210] Trial 565 finished with value: 0.9294201237422614 and parameters: {'algorithm': 'SVD', 'n_factors': 20, 'n_epochs': 45, 'lr_all': 0.016904977360087822, 'reg_all': 0.06835894903404108}. Best is trial 240 with value: 0.9168184450913348.\n",
            "[I 2024-09-02 15:43:45,495] Trial 566 finished with value: 0.9226936366474431 and parameters: {'algorithm': 'SVD', 'n_factors': 31, 'n_epochs': 28, 'lr_all': 0.041801048031915165, 'reg_all': 0.08702294918010275}. Best is trial 240 with value: 0.9168184450913348.\n",
            "[I 2024-09-02 15:43:46,174] Trial 567 finished with value: 0.925587207920029 and parameters: {'algorithm': 'SVD', 'n_factors': 116, 'n_epochs': 43, 'lr_all': 0.030229490611376718, 'reg_all': 0.07362628298709883}. Best is trial 240 with value: 0.9168184450913348.\n",
            "[I 2024-09-02 15:43:46,440] Trial 568 finished with value: 0.9942220086611806 and parameters: {'algorithm': 'SVD', 'n_factors': 25, 'n_epochs': 27, 'lr_all': 0.001774609907211545, 'reg_all': 0.08931278511169073}. Best is trial 240 with value: 0.9168184450913348.\n",
            "[I 2024-09-02 15:43:46,839] Trial 569 finished with value: 0.9226113419907317 and parameters: {'algorithm': 'SVD', 'n_factors': 39, 'n_epochs': 39, 'lr_all': 0.02370058848297656, 'reg_all': 0.07854668110229485}. Best is trial 240 with value: 0.9168184450913348.\n",
            "[I 2024-09-02 15:43:47,040] Trial 570 finished with value: 0.9236517262948707 and parameters: {'algorithm': 'SVD', 'n_factors': 34, 'n_epochs': 16, 'lr_all': 0.03469509231314875, 'reg_all': 0.09994482911983328}. Best is trial 240 with value: 0.9168184450913348.\n",
            "[I 2024-09-02 15:43:47,398] Trial 571 finished with value: 0.9279073584623379 and parameters: {'algorithm': 'SVD', 'n_factors': 28, 'n_epochs': 44, 'lr_all': 0.022255615411466888, 'reg_all': 0.06198959711689209}. Best is trial 240 with value: 0.9168184450913348.\n",
            "[I 2024-09-02 15:43:47,478] Trial 572 finished with value: 0.93516589989231 and parameters: {'algorithm': 'BaselineOnly', 'method': 'als', 'reg_u': 2.732513930071064e-05, 'reg_i': 0.002489067166465074}. Best is trial 240 with value: 0.9168184450913348.\n"
          ]
        },
        {
          "output_type": "stream",
          "name": "stdout",
          "text": [
            "Estimating biases using als...\n"
          ]
        },
        {
          "output_type": "stream",
          "name": "stderr",
          "text": [
            "[I 2024-09-02 15:43:47,932] Trial 573 finished with value: 0.9241536233771056 and parameters: {'algorithm': 'SVD', 'n_factors': 40, 'n_epochs': 46, 'lr_all': 0.027691859952084008, 'reg_all': 0.08819349618108364}. Best is trial 240 with value: 0.9168184450913348.\n",
            "[I 2024-09-02 15:43:48,170] Trial 574 finished with value: 0.9299893075485798 and parameters: {'algorithm': 'SVD', 'n_factors': 32, 'n_epochs': 25, 'lr_all': 0.02015722797664082, 'reg_all': 0.07313028563019398}. Best is trial 240 with value: 0.9168184450913348.\n",
            "[I 2024-09-02 15:43:48,453] Trial 575 finished with value: 0.9222273274652086 and parameters: {'algorithm': 'SVD', 'n_factors': 35, 'n_epochs': 29, 'lr_all': 0.03135508512845012, 'reg_all': 0.08791055262158619}. Best is trial 240 with value: 0.9168184450913348.\n",
            "[I 2024-09-02 15:43:48,825] Trial 576 finished with value: 0.965024300975401 and parameters: {'algorithm': 'SVD', 'n_factors': 26, 'n_epochs': 42, 'lr_all': 0.015442785944564915, 'reg_all': 0.01902456655869919}. Best is trial 240 with value: 0.9168184450913348.\n",
            "[I 2024-09-02 15:43:49,118] Trial 577 finished with value: 0.9281309030885614 and parameters: {'algorithm': 'SVD', 'n_factors': 37, 'n_epochs': 28, 'lr_all': 0.023670148378689387, 'reg_all': 0.07956441470617184}. Best is trial 240 with value: 0.9168184450913348.\n",
            "[I 2024-09-02 15:43:49,399] Trial 578 finished with value: 0.9283450671491015 and parameters: {'algorithm': 'SVD', 'n_factors': 30, 'n_epochs': 29, 'lr_all': 0.026837800581786257, 'reg_all': 0.07012503296396913}. Best is trial 240 with value: 0.9168184450913348.\n",
            "[I 2024-09-02 15:43:49,672] Trial 579 finished with value: 0.9378674994372089 and parameters: {'algorithm': 'SVD', 'n_factors': 41, 'n_epochs': 26, 'lr_all': 0.018746764675249442, 'reg_all': 0.0465110054275316}. Best is trial 240 with value: 0.9168184450913348.\n",
            "[I 2024-09-02 15:43:49,999] Trial 580 finished with value: 0.9248508910088671 and parameters: {'algorithm': 'SVD', 'n_factors': 34, 'n_epochs': 30, 'lr_all': 0.0386452506893402, 'reg_all': 0.0891730773402607}. Best is trial 240 with value: 0.9168184450913348.\n",
            "[I 2024-09-02 15:43:50,374] Trial 581 finished with value: 0.9204863331051647 and parameters: {'algorithm': 'SVD', 'n_factors': 29, 'n_epochs': 43, 'lr_all': 0.024511001602155975, 'reg_all': 0.09990524024604926}. Best is trial 240 with value: 0.9168184450913348.\n",
            "[I 2024-09-02 15:43:50,804] Trial 582 finished with value: 0.9255889644053913 and parameters: {'algorithm': 'SVD', 'n_factors': 38, 'n_epochs': 44, 'lr_all': 0.03188629527919705, 'reg_all': 0.08105237392223529}. Best is trial 240 with value: 0.9168184450913348.\n",
            "[I 2024-09-02 15:43:51,120] Trial 583 finished with value: 0.9229024744802933 and parameters: {'algorithm': 'SVD', 'n_factors': 44, 'n_epochs': 27, 'lr_all': 0.01784344990645805, 'reg_all': 0.09970847527743204}. Best is trial 240 with value: 0.9168184450913348.\n"
          ]
        },
        {
          "output_type": "stream",
          "name": "stdout",
          "text": [
            "Computing the cosine similarity matrix...\n",
            "Done computing similarity matrix.\n"
          ]
        },
        {
          "output_type": "stream",
          "name": "stderr",
          "text": [
            "[I 2024-09-02 15:43:53,352] Trial 584 finished with value: 1.125310916403245 and parameters: {'algorithm': 'KNNBasic', 'k': 50, 'min_k': 2, 'name': 'cosine', 'user_based': True}. Best is trial 240 with value: 0.9168184450913348.\n",
            "[I 2024-09-02 15:43:53,979] Trial 585 finished with value: 0.9248597700507618 and parameters: {'algorithm': 'SVD', 'n_factors': 23, 'n_epochs': 45, 'lr_all': 0.027929016902167873, 'reg_all': 0.0794874028013437}. Best is trial 240 with value: 0.9168184450913348.\n",
            "[I 2024-09-02 15:43:54,586] Trial 586 finished with value: 1.0941063639708042 and parameters: {'algorithm': 'SVD', 'n_factors': 33, 'n_epochs': 40, 'lr_all': 0.0001435967575652249, 'reg_all': 0.06316690781538914}. Best is trial 240 with value: 0.9168184450913348.\n",
            "[I 2024-09-02 15:43:55,235] Trial 587 finished with value: 0.9260400015373815 and parameters: {'algorithm': 'SVD', 'n_factors': 188, 'n_epochs': 29, 'lr_all': 0.035314518174965635, 'reg_all': 0.08891615198321566}. Best is trial 240 with value: 0.9168184450913348.\n",
            "[I 2024-09-02 15:43:56,474] Trial 588 finished with value: 1.0298163216795257 and parameters: {'algorithm': 'CoClustering', 'n_cltr_u': 8, 'n_cltr_i': 8, 'n_epochs': 30}. Best is trial 240 with value: 0.9168184450913348.\n",
            "[I 2024-09-02 15:43:56,840] Trial 589 finished with value: 1.0053700441758957 and parameters: {'algorithm': 'SVD', 'n_factors': 26, 'n_epochs': 43, 'lr_all': 0.022254315799912976, 'reg_all': 0.0038926322543061734}. Best is trial 240 with value: 0.9168184450913348.\n",
            "[I 2024-09-02 15:43:57,134] Trial 590 finished with value: 0.9213683205478972 and parameters: {'algorithm': 'SVD', 'n_factors': 41, 'n_epochs': 25, 'lr_all': 0.0463647077764089, 'reg_all': 0.09967871881562644}. Best is trial 240 with value: 0.9168184450913348.\n",
            "[I 2024-09-02 15:43:57,439] Trial 591 finished with value: 0.9264575606273625 and parameters: {'algorithm': 'SVD', 'n_factors': 36, 'n_epochs': 28, 'lr_all': 0.02095535480794207, 'reg_all': 0.07100892938383489}. Best is trial 240 with value: 0.9168184450913348.\n",
            "[I 2024-09-02 15:43:57,828] Trial 592 finished with value: 0.923708893360056 and parameters: {'algorithm': 'SVD', 'n_factors': 31, 'n_epochs': 42, 'lr_all': 0.027072486728295445, 'reg_all': 0.08017436285979383}. Best is trial 240 with value: 0.9168184450913348.\n",
            "[I 2024-09-02 15:43:58,200] Trial 593 finished with value: 0.9222754956364099 and parameters: {'algorithm': 'SVD', 'n_factors': 38, 'n_epochs': 37, 'lr_all': 0.030935859847458707, 'reg_all': 0.09996453371956165}. Best is trial 240 with value: 0.9168184450913348.\n",
            "[I 2024-09-02 15:43:58,599] Trial 594 finished with value: 0.923874023811346 and parameters: {'algorithm': 'SVD', 'n_factors': 28, 'n_epochs': 46, 'lr_all': 0.012612472045623838, 'reg_all': 0.08774112404379902}. Best is trial 240 with value: 0.9168184450913348.\n",
            "[I 2024-09-02 15:43:59,017] Trial 595 finished with value: 1.0538695363822745 and parameters: {'algorithm': 'SVD', 'n_factors': 43, 'n_epochs': 26, 'lr_all': 0.0005097545042990986, 'reg_all': 0.00047635496225117524}. Best is trial 240 with value: 0.9168184450913348.\n",
            "[I 2024-09-02 15:43:59,108] Trial 596 finished with value: 0.9351446836973263 and parameters: {'algorithm': 'BaselineOnly', 'method': 'als', 'reg_u': 0.0012950448509770323, 'reg_i': 1.8189113782765265e-05}. Best is trial 240 with value: 0.9168184450913348.\n"
          ]
        },
        {
          "output_type": "stream",
          "name": "stdout",
          "text": [
            "Estimating biases using als...\n"
          ]
        },
        {
          "output_type": "stream",
          "name": "stderr",
          "text": [
            "[I 2024-09-02 15:43:59,259] Trial 597 finished with value: 0.9378675178000595 and parameters: {'algorithm': 'SVD', 'n_factors': 34, 'n_epochs': 9, 'lr_all': 0.024560685912931073, 'reg_all': 0.07140810997214854}. Best is trial 240 with value: 0.9168184450913348.\n",
            "[I 2024-09-02 15:43:59,665] Trial 598 finished with value: 0.9346976408931845 and parameters: {'algorithm': 'SVD', 'n_factors': 40, 'n_epochs': 41, 'lr_all': 0.018691397218143002, 'reg_all': 0.053683001122903376}. Best is trial 240 with value: 0.9168184450913348.\n",
            "[I 2024-09-02 15:44:00,077] Trial 599 finished with value: 0.9252138000712486 and parameters: {'algorithm': 'SVD', 'n_factors': 30, 'n_epochs': 45, 'lr_all': 0.03966607674992823, 'reg_all': 0.09993709259341414}. Best is trial 240 with value: 0.9168184450913348.\n",
            "[I 2024-09-02 15:44:00,680] Trial 600 finished with value: 0.9296932273835278 and parameters: {'algorithm': 'SVD', 'n_factors': 166, 'n_epochs': 29, 'lr_all': 0.016470892224184377, 'reg_all': 0.08045608824077784}. Best is trial 240 with value: 0.9168184450913348.\n",
            "[I 2024-09-02 15:44:01,053] Trial 601 finished with value: 1.0327751115957113 and parameters: {'algorithm': 'SVD', 'n_factors': 25, 'n_epochs': 44, 'lr_all': 0.022573177090651163, 'reg_all': 0.00017907610840385118}. Best is trial 240 with value: 0.9168184450913348.\n",
            "[I 2024-09-02 15:44:01,406] Trial 602 finished with value: 0.9235323685158935 and parameters: {'algorithm': 'SVD', 'n_factors': 47, 'n_epochs': 30, 'lr_all': 0.03474944689865006, 'reg_all': 0.08910609528941076}. Best is trial 240 with value: 0.9168184450913348.\n",
            "[I 2024-09-02 15:44:01,763] Trial 603 finished with value: 0.9558306805149623 and parameters: {'algorithm': 'SVD', 'n_factors': 36, 'n_epochs': 36, 'lr_all': 0.003294837240288825, 'reg_all': 0.06889666604946677}. Best is trial 240 with value: 0.9168184450913348.\n",
            "[I 2024-09-02 15:44:02,063] Trial 604 finished with value: 0.9709329540560554 and parameters: {'algorithm': 'SVD', 'n_factors': 32, 'n_epochs': 28, 'lr_all': 0.028660441032202926, 'reg_all': 0.01182496332408062}. Best is trial 240 with value: 0.9168184450913348.\n",
            "[I 2024-09-02 15:44:02,500] Trial 605 finished with value: 0.9234577537433866 and parameters: {'algorithm': 'SVD', 'n_factors': 44, 'n_epochs': 42, 'lr_all': 0.02017720101312139, 'reg_all': 0.07986954650777876}. Best is trial 240 with value: 0.9168184450913348.\n",
            "[I 2024-09-02 15:44:02,719] Trial 606 finished with value: 0.9298280558407661 and parameters: {'algorithm': 'SVD', 'n_factors': 22, 'n_epochs': 20, 'lr_all': 0.014307473628228458, 'reg_all': 0.05988343925760394}. Best is trial 240 with value: 0.9168184450913348.\n",
            "[I 2024-09-02 15:44:03,139] Trial 607 finished with value: 1.009339710912827 and parameters: {'algorithm': 'SVD', 'n_factors': 39, 'n_epochs': 43, 'lr_all': 0.0008038091890667647, 'reg_all': 0.08835375932063566}. Best is trial 240 with value: 0.9168184450913348.\n"
          ]
        },
        {
          "output_type": "stream",
          "name": "stdout",
          "text": [
            "Computing the pearson similarity matrix...\n",
            "Done computing similarity matrix.\n"
          ]
        },
        {
          "output_type": "stream",
          "name": "stderr",
          "text": [
            "[I 2024-09-02 15:44:03,425] Trial 608 finished with value: 1.0250460115815767 and parameters: {'algorithm': 'KNNBasic', 'k': 29, 'min_k': 1, 'name': 'pearson', 'user_based': False}. Best is trial 240 with value: 0.9168184450913348.\n",
            "[I 2024-09-02 15:44:03,663] Trial 609 finished with value: 0.9259205571163056 and parameters: {'algorithm': 'SVD', 'n_factors': 20, 'n_epochs': 27, 'lr_all': 0.025386470810938516, 'reg_all': 0.07548612366730152}. Best is trial 240 with value: 0.9168184450913348.\n",
            "[I 2024-09-02 15:44:04,030] Trial 610 finished with value: 0.9211756329899944 and parameters: {'algorithm': 'SVD', 'n_factors': 29, 'n_epochs': 40, 'lr_all': 0.02989834879205395, 'reg_all': 0.08886399787419273}. Best is trial 240 with value: 0.9168184450913348.\n",
            "[I 2024-09-02 15:44:04,349] Trial 611 finished with value: 0.9273546463889288 and parameters: {'algorithm': 'SVD', 'n_factors': 35, 'n_epochs': 29, 'lr_all': 0.02257513966718122, 'reg_all': 0.0878246846631019}. Best is trial 240 with value: 0.9168184450913348.\n",
            "[I 2024-09-02 15:44:04,709] Trial 612 finished with value: 0.9206369101806511 and parameters: {'algorithm': 'SVD', 'n_factors': 41, 'n_epochs': 31, 'lr_all': 0.03572494524658245, 'reg_all': 0.09992184731632339}. Best is trial 240 with value: 0.9168184450913348.\n",
            "[I 2024-09-02 15:44:07,064] Trial 613 finished with value: 1.0272524571129449 and parameters: {'algorithm': 'CoClustering', 'n_cltr_u': 10, 'n_cltr_i': 4, 'n_epochs': 35}. Best is trial 240 with value: 0.9168184450913348.\n",
            "[I 2024-09-02 15:44:07,473] Trial 614 finished with value: 0.9250394189166292 and parameters: {'algorithm': 'SVD', 'n_factors': 26, 'n_epochs': 26, 'lr_all': 0.026003415903631737, 'reg_all': 0.06463979144615487}. Best is trial 240 with value: 0.9168184450913348.\n",
            "[I 2024-09-02 15:44:07,713] Trial 615 finished with value: 0.9258093474915426 and parameters: {'algorithm': 'SVD', 'n_factors': 32, 'n_epochs': 24, 'lr_all': 0.018820698148568602, 'reg_all': 0.077969408544943}. Best is trial 240 with value: 0.9168184450913348.\n",
            "[I 2024-09-02 15:44:08,021] Trial 616 finished with value: 0.9206435654287497 and parameters: {'algorithm': 'SVD', 'n_factors': 37, 'n_epochs': 28, 'lr_all': 0.030792013848758668, 'reg_all': 0.09951140380047989}. Best is trial 240 with value: 0.9168184450913348.\n",
            "[I 2024-09-02 15:44:08,692] Trial 617 finished with value: 0.9268710767281648 and parameters: {'algorithm': 'SVD', 'n_factors': 142, 'n_epochs': 38, 'lr_all': 0.04252973961105953, 'reg_all': 0.0711108262485932}. Best is trial 240 with value: 0.9168184450913348.\n",
            "[I 2024-09-02 15:44:09,169] Trial 618 finished with value: 0.9223977927214989 and parameters: {'algorithm': 'SVD', 'n_factors': 46, 'n_epochs': 47, 'lr_all': 0.015927584854462738, 'reg_all': 0.08679154462486362}. Best is trial 240 with value: 0.9168184450913348.\n",
            "[I 2024-09-02 15:44:09,712] Trial 619 finished with value: 0.923372068543138 and parameters: {'algorithm': 'SVD', 'n_factors': 74, 'n_epochs': 43, 'lr_all': 0.02237464840429038, 'reg_all': 0.07911899697074141}. Best is trial 240 with value: 0.9168184450913348.\n",
            "[I 2024-09-02 15:44:09,835] Trial 620 finished with value: 0.9594124318030148 and parameters: {'algorithm': 'BaselineOnly', 'method': 'sgd', 'reg_u': 0.00012471998362329406, 'reg_i': 0.004981852348563336}. Best is trial 240 with value: 0.9168184450913348.\n"
          ]
        },
        {
          "output_type": "stream",
          "name": "stdout",
          "text": [
            "Estimating biases using sgd...\n"
          ]
        },
        {
          "output_type": "stream",
          "name": "stderr",
          "text": [
            "[I 2024-09-02 15:44:10,149] Trial 621 finished with value: 0.9252405870883725 and parameters: {'algorithm': 'SVD', 'n_factors': 33, 'n_epochs': 30, 'lr_all': 0.026771725765154675, 'reg_all': 0.08673603937489063}. Best is trial 240 with value: 0.9168184450913348.\n",
            "[I 2024-09-02 15:44:10,555] Trial 622 finished with value: 0.9314387722973502 and parameters: {'algorithm': 'SVD', 'n_factors': 42, 'n_epochs': 39, 'lr_all': 0.020416729989077568, 'reg_all': 0.0635461637369818}. Best is trial 240 with value: 0.9168184450913348.\n",
            "[I 2024-09-02 15:44:10,978] Trial 623 finished with value: 0.9267530882197061 and parameters: {'algorithm': 'SVD', 'n_factors': 29, 'n_epochs': 46, 'lr_all': 0.034126518606907824, 'reg_all': 0.08753749526549619}. Best is trial 240 with value: 0.9168184450913348.\n",
            "[I 2024-09-02 15:44:11,399] Trial 624 finished with value: 0.9214675202600779 and parameters: {'algorithm': 'SVD', 'n_factors': 37, 'n_epochs': 44, 'lr_all': 0.024416531542233656, 'reg_all': 0.09941862581744743}. Best is trial 240 with value: 0.9168184450913348.\n",
            "[I 2024-09-02 15:44:11,939] Trial 625 finished with value: 0.9274333646999477 and parameters: {'algorithm': 'SVD', 'n_factors': 149, 'n_epochs': 21, 'lr_all': 0.029226570136950306, 'reg_all': 0.07219276210252507}. Best is trial 240 with value: 0.9168184450913348.\n",
            "[I 2024-09-02 15:44:12,196] Trial 626 finished with value: 0.9726951151793295 and parameters: {'algorithm': 'SVD', 'n_factors': 26, 'n_epochs': 27, 'lr_all': 0.019263789063112494, 'reg_all': 0.006966476907437721}. Best is trial 240 with value: 0.9168184450913348.\n",
            "[I 2024-09-02 15:44:12,550] Trial 627 finished with value: 0.9223419651298864 and parameters: {'algorithm': 'SVD', 'n_factors': 39, 'n_epochs': 32, 'lr_all': 0.01676910099700493, 'reg_all': 0.07983903886564939}. Best is trial 240 with value: 0.9168184450913348.\n",
            "[I 2024-09-02 15:44:12,943] Trial 628 finished with value: 0.9225627207078771 and parameters: {'algorithm': 'SVD', 'n_factors': 33, 'n_epochs': 41, 'lr_all': 0.024645451196303302, 'reg_all': 0.0996101804597398}. Best is trial 240 with value: 0.9168184450913348.\n",
            "[I 2024-09-02 15:44:13,378] Trial 629 finished with value: 0.9224386956832884 and parameters: {'algorithm': 'SVD', 'n_factors': 43, 'n_epochs': 42, 'lr_all': 0.040361963774509145, 'reg_all': 0.09993802151054901}. Best is trial 240 with value: 0.9168184450913348.\n",
            "[I 2024-09-02 15:44:13,684] Trial 630 finished with value: 0.9248596730758007 and parameters: {'algorithm': 'SVD', 'n_factors': 23, 'n_epochs': 29, 'lr_all': 0.03216984419677287, 'reg_all': 0.0792935152196601}. Best is trial 240 with value: 0.9168184450913348.\n",
            "[I 2024-09-02 15:44:14,104] Trial 631 finished with value: 0.9287492086391759 and parameters: {'algorithm': 'SVD', 'n_factors': 30, 'n_epochs': 44, 'lr_all': 0.02137417059387897, 'reg_all': 0.057049098293293646}. Best is trial 240 with value: 0.9168184450913348.\n"
          ]
        },
        {
          "output_type": "stream",
          "name": "stdout",
          "text": [
            "Computing the cosine similarity matrix...\n",
            "Done computing similarity matrix.\n"
          ]
        },
        {
          "output_type": "stream",
          "name": "stderr",
          "text": [
            "[I 2024-09-02 15:44:14,341] Trial 632 finished with value: 1.034883349302582 and parameters: {'algorithm': 'KNNBasic', 'k': 18, 'min_k': 3, 'name': 'cosine', 'user_based': False}. Best is trial 240 with value: 0.9168184450913348.\n",
            "[I 2024-09-02 15:44:14,847] Trial 633 finished with value: 0.9231655283738835 and parameters: {'algorithm': 'SVD', 'n_factors': 47, 'n_epochs': 48, 'lr_all': 0.02773752934863675, 'reg_all': 0.08800877546835814}. Best is trial 240 with value: 0.9168184450913348.\n",
            "[I 2024-09-02 15:44:15,073] Trial 634 finished with value: 0.9321442545043521 and parameters: {'algorithm': 'SVD', 'n_factors': 35, 'n_epochs': 18, 'lr_all': 0.023448705204312113, 'reg_all': 0.06767563941107647}. Best is trial 240 with value: 0.9168184450913348.\n",
            "[I 2024-09-02 15:44:15,362] Trial 635 finished with value: 0.9227053794603662 and parameters: {'algorithm': 'SVD', 'n_factors': 40, 'n_epochs': 25, 'lr_all': 0.050497988101542705, 'reg_all': 0.08797622436387051}. Best is trial 240 with value: 0.9168184450913348.\n",
            "[I 2024-09-02 15:44:16,460] Trial 636 finished with value: 1.027274164323304 and parameters: {'algorithm': 'CoClustering', 'n_cltr_u': 4, 'n_cltr_i': 6, 'n_epochs': 30}. Best is trial 240 with value: 0.9168184450913348.\n",
            "[I 2024-09-02 15:44:16,872] Trial 637 finished with value: 0.9241474913006498 and parameters: {'algorithm': 'SVD', 'n_factors': 28, 'n_epochs': 45, 'lr_all': 0.017563007108027683, 'reg_all': 0.07230984341037405}. Best is trial 240 with value: 0.9168184450913348.\n",
            "[I 2024-09-02 15:44:17,168] Trial 638 finished with value: 0.9261078403706333 and parameters: {'algorithm': 'SVD', 'n_factors': 36, 'n_epochs': 28, 'lr_all': 0.03552645581396019, 'reg_all': 0.07970656774945445}. Best is trial 240 with value: 0.9168184450913348.\n",
            "[I 2024-09-02 15:44:17,496] Trial 639 finished with value: 0.9252391366957076 and parameters: {'algorithm': 'SVD', 'n_factors': 32, 'n_epochs': 29, 'lr_all': 0.028770679699551414, 'reg_all': 0.08837174510161361}. Best is trial 240 with value: 0.9168184450913348.\n",
            "[I 2024-09-02 15:44:18,191] Trial 640 finished with value: 0.921808881967463 and parameters: {'algorithm': 'SVD', 'n_factors': 45, 'n_epochs': 41, 'lr_all': 0.013938861405529813, 'reg_all': 0.09949802004549221}. Best is trial 240 with value: 0.9168184450913348.\n",
            "[I 2024-09-02 15:44:18,601] Trial 641 finished with value: 0.9276829070616264 and parameters: {'algorithm': 'SVD', 'n_factors': 24, 'n_epochs': 27, 'lr_all': 0.020540646007736113, 'reg_all': 0.07278511943063494}. Best is trial 240 with value: 0.9168184450913348.\n",
            "[I 2024-09-02 15:44:19,323] Trial 642 finished with value: 0.9238333496720971 and parameters: {'algorithm': 'SVD', 'n_factors': 50, 'n_epochs': 43, 'lr_all': 0.026256641500531606, 'reg_all': 0.0881961179161015}. Best is trial 240 with value: 0.9168184450913348.\n",
            "[I 2024-09-02 15:44:19,825] Trial 643 finished with value: 0.9380806163723056 and parameters: {'algorithm': 'SVD', 'n_factors': 37, 'n_epochs': 29, 'lr_all': 0.0319844229742991, 'reg_all': 0.047871857968803264}. Best is trial 240 with value: 0.9168184450913348.\n",
            "[I 2024-09-02 15:44:20,307] Trial 644 finished with value: 0.9242353736316917 and parameters: {'algorithm': 'SVD', 'n_factors': 40, 'n_epochs': 26, 'lr_all': 0.02373788847247752, 'reg_all': 0.06395676397806746}. Best is trial 240 with value: 0.9168184450913348.\n",
            "[I 2024-09-02 15:44:20,391] Trial 645 finished with value: 0.9351807950721347 and parameters: {'algorithm': 'BaselineOnly', 'method': 'als', 'reg_u': 0.0007130841894556027, 'reg_i': 7.197984456957576e-05}. Best is trial 240 with value: 0.9168184450913348.\n"
          ]
        },
        {
          "output_type": "stream",
          "name": "stdout",
          "text": [
            "Estimating biases using als...\n"
          ]
        },
        {
          "output_type": "stream",
          "name": "stderr",
          "text": [
            "[I 2024-09-02 15:44:20,705] Trial 646 finished with value: 0.925172007535804 and parameters: {'algorithm': 'SVD', 'n_factors': 30, 'n_epochs': 31, 'lr_all': 0.018730541876726903, 'reg_all': 0.0789562901010378}. Best is trial 240 with value: 0.9168184450913348.\n",
            "[I 2024-09-02 15:44:21,161] Trial 647 finished with value: 0.9257516639517057 and parameters: {'algorithm': 'SVD', 'n_factors': 34, 'n_epochs': 45, 'lr_all': 0.0375509119663717, 'reg_all': 0.08819614660394716}. Best is trial 240 with value: 0.9168184450913348.\n",
            "[I 2024-09-02 15:44:21,438] Trial 648 finished with value: 0.921417646286052 and parameters: {'algorithm': 'SVD', 'n_factors': 28, 'n_epochs': 28, 'lr_all': 0.021797008889532805, 'reg_all': 0.09962139781161891}. Best is trial 240 with value: 0.9168184450913348.\n",
            "[I 2024-09-02 15:44:21,789] Trial 649 finished with value: 0.9258309791151318 and parameters: {'algorithm': 'SVD', 'n_factors': 39, 'n_epochs': 31, 'lr_all': 0.027533516004019338, 'reg_all': 0.07708090571790363}. Best is trial 240 with value: 0.9168184450913348.\n",
            "[I 2024-09-02 15:44:22,104] Trial 650 finished with value: 0.9248026922473096 and parameters: {'algorithm': 'SVD', 'n_factors': 20, 'n_epochs': 33, 'lr_all': 0.03215532103993591, 'reg_all': 0.09978455469979304}. Best is trial 240 with value: 0.9168184450913348.\n",
            "[I 2024-09-02 15:44:22,512] Trial 651 finished with value: 0.9230832840051084 and parameters: {'algorithm': 'SVD', 'n_factors': 42, 'n_epochs': 40, 'lr_all': 0.016044554245818902, 'reg_all': 0.08832554820909114}. Best is trial 240 with value: 0.9168184450913348.\n",
            "[I 2024-09-02 15:44:22,919] Trial 652 finished with value: 0.9287672498685836 and parameters: {'algorithm': 'SVD', 'n_factors': 32, 'n_epochs': 43, 'lr_all': 0.025120781195976275, 'reg_all': 0.06812939811801089}. Best is trial 240 with value: 0.9168184450913348.\n",
            "[I 2024-09-02 15:44:23,203] Trial 653 finished with value: 0.9269874521321487 and parameters: {'algorithm': 'SVD', 'n_factors': 25, 'n_epochs': 30, 'lr_all': 0.04450771531378875, 'reg_all': 0.08036066486326425}. Best is trial 240 with value: 0.9168184450913348.\n",
            "[I 2024-09-02 15:44:23,647] Trial 654 finished with value: 0.9294847487755672 and parameters: {'algorithm': 'SVD', 'n_factors': 44, 'n_epochs': 44, 'lr_all': 0.02132356080525373, 'reg_all': 0.05586044089901313}. Best is trial 240 with value: 0.9168184450913348.\n",
            "[I 2024-09-02 15:44:24,103] Trial 655 finished with value: 0.9209994830881442 and parameters: {'algorithm': 'SVD', 'n_factors': 36, 'n_epochs': 46, 'lr_all': 0.02858258053071092, 'reg_all': 0.08848938669554851}. Best is trial 240 with value: 0.9168184450913348.\n",
            "[I 2024-09-02 15:44:24,538] Trial 656 finished with value: 0.9276286203496926 and parameters: {'algorithm': 'SVD', 'n_factors': 48, 'n_epochs': 42, 'lr_all': 0.01869277962948274, 'reg_all': 0.07531378832624082}. Best is trial 240 with value: 0.9168184450913348.\n"
          ]
        },
        {
          "output_type": "stream",
          "name": "stdout",
          "text": [
            "Computing the pearson similarity matrix...\n"
          ]
        },
        {
          "output_type": "stream",
          "name": "stderr",
          "text": [
            "[I 2024-09-02 15:44:26,763] Trial 657 finished with value: 1.155801432268863 and parameters: {'algorithm': 'KNNBasic', 'k': 31, 'min_k': 1, 'name': 'pearson', 'user_based': True}. Best is trial 240 with value: 0.9168184450913348.\n",
            "[I 2024-09-02 15:44:27,132] Trial 658 finished with value: 0.9240689993552478 and parameters: {'algorithm': 'SVD', 'n_factors': 27, 'n_epochs': 27, 'lr_all': 0.036696969097795906, 'reg_all': 0.08915811882647204}. Best is trial 240 with value: 0.9168184450913348.\n",
            "[I 2024-09-02 15:44:27,403] Trial 659 finished with value: 0.9296945760195878 and parameters: {'algorithm': 'SVD', 'n_factors': 32, 'n_epochs': 25, 'lr_all': 0.024352055486248043, 'reg_all': 0.0660798459787429}. Best is trial 240 with value: 0.9168184450913348.\n",
            "[I 2024-09-02 15:44:27,712] Trial 660 finished with value: 0.9244334695630945 and parameters: {'algorithm': 'SVD', 'n_factors': 35, 'n_epochs': 28, 'lr_all': 0.02988692676152949, 'reg_all': 0.08825526026976396}. Best is trial 240 with value: 0.9168184450913348.\n",
            "[I 2024-09-02 15:44:29,059] Trial 661 finished with value: 1.024544284250155 and parameters: {'algorithm': 'CoClustering', 'n_cltr_u': 9, 'n_cltr_i': 9, 'n_epochs': 30}. Best is trial 240 with value: 0.9168184450913348.\n",
            "[I 2024-09-02 15:44:29,493] Trial 662 finished with value: 0.9931963003391694 and parameters: {'algorithm': 'SVD', 'n_factors': 39, 'n_epochs': 42, 'lr_all': 0.0012131017287348117, 'reg_all': 0.09915566282634565}. Best is trial 240 with value: 0.9168184450913348.\n",
            "[I 2024-09-02 15:44:29,824] Trial 663 finished with value: 0.9254818732043083 and parameters: {'algorithm': 'SVD', 'n_factors': 44, 'n_epochs': 29, 'lr_all': 0.022206563152267714, 'reg_all': 0.07595767488082433}. Best is trial 240 with value: 0.9168184450913348.\n",
            "[I 2024-09-02 15:44:30,247] Trial 664 finished with value: 0.9226765327925164 and parameters: {'algorithm': 'SVD', 'n_factors': 29, 'n_epochs': 45, 'lr_all': 0.011276988690293355, 'reg_all': 0.09996360623265696}. Best is trial 240 with value: 0.9168184450913348.\n",
            "[I 2024-09-02 15:44:30,737] Trial 665 finished with value: 0.9256237909501597 and parameters: {'algorithm': 'SVD', 'n_factors': 37, 'n_epochs': 30, 'lr_all': 0.01505378314500251, 'reg_all': 0.08101115587826806}. Best is trial 240 with value: 0.9168184450913348.\n",
            "[I 2024-09-02 15:44:31,201] Trial 666 finished with value: 0.9207062876628221 and parameters: {'algorithm': 'SVD', 'n_factors': 32, 'n_epochs': 26, 'lr_all': 0.02563482602028805, 'reg_all': 0.09969231403833512}. Best is trial 240 with value: 0.9168184450913348.\n",
            "[I 2024-09-02 15:44:31,652] Trial 667 finished with value: 0.9289756522760166 and parameters: {'algorithm': 'SVD', 'n_factors': 23, 'n_epochs': 33, 'lr_all': 0.017503675933443097, 'reg_all': 0.06055425358720672}. Best is trial 240 with value: 0.9168184450913348.\n",
            "[I 2024-09-02 15:44:32,376] Trial 668 finished with value: 0.9243419444853818 and parameters: {'algorithm': 'SVD', 'n_factors': 42, 'n_epochs': 44, 'lr_all': 0.03308108575903723, 'reg_all': 0.08145126184274133}. Best is trial 240 with value: 0.9168184450913348.\n",
            "[I 2024-09-02 15:44:32,514] Trial 669 finished with value: 0.9327736289450954 and parameters: {'algorithm': 'BaselineOnly', 'method': 'als', 'reg_u': 0.03471970091897816, 'reg_i': 0.01635505780416226}. Best is trial 240 with value: 0.9168184450913348.\n"
          ]
        },
        {
          "output_type": "stream",
          "name": "stdout",
          "text": [
            "Done computing similarity matrix.\n",
            "Estimating biases using als...\n"
          ]
        },
        {
          "output_type": "stream",
          "name": "stderr",
          "text": [
            "[I 2024-09-02 15:44:33,137] Trial 670 finished with value: 0.9296079510297877 and parameters: {'algorithm': 'SVD', 'n_factors': 26, 'n_epochs': 43, 'lr_all': 0.020111158841094573, 'reg_all': 0.07151813885642577}. Best is trial 240 with value: 0.9168184450913348.\n",
            "[I 2024-09-02 15:44:33,413] Trial 671 finished with value: 1.0149103307197933 and parameters: {'algorithm': 'SVD', 'n_factors': 35, 'n_epochs': 23, 'lr_all': 0.039537680175294215, 'reg_all': 0.0007883352046005454}. Best is trial 240 with value: 0.9168184450913348.\n",
            "[I 2024-09-02 15:44:33,844] Trial 672 finished with value: 0.9220052831714756 and parameters: {'algorithm': 'SVD', 'n_factors': 48, 'n_epochs': 39, 'lr_all': 0.02723061019827181, 'reg_all': 0.08892399126144432}. Best is trial 240 with value: 0.9168184450913348.\n",
            "[I 2024-09-02 15:44:34,168] Trial 673 finished with value: 0.9204121187414985 and parameters: {'algorithm': 'SVD', 'n_factors': 40, 'n_epochs': 28, 'lr_all': 0.023104638565840264, 'reg_all': 0.0886494447105908}. Best is trial 240 with value: 0.9168184450913348.\n",
            "[I 2024-09-02 15:44:34,506] Trial 674 finished with value: 0.929569130084459 and parameters: {'algorithm': 'SVD', 'n_factors': 30, 'n_epochs': 32, 'lr_all': 0.009404009526603958, 'reg_all': 0.06956289863406044}. Best is trial 240 with value: 0.9168184450913348.\n",
            "[I 2024-09-02 15:44:34,955] Trial 675 finished with value: 0.9226695166636378 and parameters: {'algorithm': 'SVD', 'n_factors': 52, 'n_epochs': 41, 'lr_all': 0.0307215683395046, 'reg_all': 0.08074360312253795}. Best is trial 240 with value: 0.9168184450913348.\n",
            "[I 2024-09-02 15:44:35,227] Trial 676 finished with value: 0.9227944338083177 and parameters: {'algorithm': 'SVD', 'n_factors': 34, 'n_epochs': 27, 'lr_all': 0.019484470225502745, 'reg_all': 0.08856480301033084}. Best is trial 240 with value: 0.9168184450913348.\n",
            "[I 2024-09-02 15:44:35,595] Trial 677 finished with value: 0.9276061292111172 and parameters: {'algorithm': 'SVD', 'n_factors': 97, 'n_epochs': 21, 'lr_all': 0.02553011994054006, 'reg_all': 0.07202147944063043}. Best is trial 240 with value: 0.9168184450913348.\n",
            "[I 2024-09-02 15:44:35,941] Trial 678 finished with value: 0.9251132973909278 and parameters: {'algorithm': 'SVD', 'n_factors': 38, 'n_epochs': 31, 'lr_all': 0.03436465121876397, 'reg_all': 0.09991125415859285}. Best is trial 240 with value: 0.9168184450913348.\n",
            "[I 2024-09-02 15:44:36,280] Trial 679 finished with value: 0.9430791752482919 and parameters: {'algorithm': 'SVD', 'n_factors': 45, 'n_epochs': 29, 'lr_all': 0.006125187685808484, 'reg_all': 0.09997881396122278}. Best is trial 240 with value: 0.9168184450913348.\n",
            "[I 2024-09-02 15:44:36,643] Trial 680 finished with value: 0.9241366348799455 and parameters: {'algorithm': 'SVD', 'n_factors': 27, 'n_epochs': 40, 'lr_all': 0.012781394448519159, 'reg_all': 0.08010402513597698}. Best is trial 240 with value: 0.9168184450913348.\n"
          ]
        },
        {
          "output_type": "stream",
          "name": "stdout",
          "text": [
            "Computing the pearson similarity matrix...\n",
            "Done computing similarity matrix.\n"
          ]
        },
        {
          "output_type": "stream",
          "name": "stderr",
          "text": [
            "[I 2024-09-02 15:44:36,933] Trial 681 finished with value: 1.0639271059539752 and parameters: {'algorithm': 'KNNBasic', 'k': 24, 'min_k': 4, 'name': 'pearson', 'user_based': False}. Best is trial 240 with value: 0.9168184450913348.\n",
            "[I 2024-09-02 15:44:37,348] Trial 682 finished with value: 0.9321642950667198 and parameters: {'algorithm': 'SVD', 'n_factors': 31, 'n_epochs': 44, 'lr_all': 0.022803583270927602, 'reg_all': 0.058465570049224785}. Best is trial 240 with value: 0.9168184450913348.\n",
            "[I 2024-09-02 15:44:37,815] Trial 683 finished with value: 0.9231674248600343 and parameters: {'algorithm': 'SVD', 'n_factors': 42, 'n_epochs': 43, 'lr_all': 0.029512387950864135, 'reg_all': 0.08575188620978241}. Best is trial 240 with value: 0.9168184450913348.\n",
            "[I 2024-09-02 15:44:38,185] Trial 684 finished with value: 0.9327194088603524 and parameters: {'algorithm': 'SVD', 'n_factors': 20, 'n_epochs': 47, 'lr_all': 0.015891569537489547, 'reg_all': 0.06850746100150532}. Best is trial 240 with value: 0.9168184450913348.\n",
            "[I 2024-09-02 15:44:39,328] Trial 685 finished with value: 1.0299628298801122 and parameters: {'algorithm': 'CoClustering', 'n_cltr_u': 3, 'n_cltr_i': 10, 'n_epochs': 30}. Best is trial 240 with value: 0.9168184450913348.\n",
            "[I 2024-09-02 15:44:40,040] Trial 686 finished with value: 0.9689192234182322 and parameters: {'algorithm': 'SVD', 'n_factors': 120, 'n_epochs': 45, 'lr_all': 0.04516130859751206, 'reg_all': 0.0014788745752792136}. Best is trial 240 with value: 0.9168184450913348.\n",
            "[I 2024-09-02 15:44:40,360] Trial 687 finished with value: 0.9252242477181383 and parameters: {'algorithm': 'SVD', 'n_factors': 37, 'n_epochs': 29, 'lr_all': 0.01821142512700704, 'reg_all': 0.08755773863555089}. Best is trial 240 with value: 0.9168184450913348.\n",
            "[I 2024-09-02 15:44:40,727] Trial 688 finished with value: 0.9262920143868542 and parameters: {'algorithm': 'SVD', 'n_factors': 34, 'n_epochs': 32, 'lr_all': 0.0215997911228611, 'reg_all': 0.07594040632993872}. Best is trial 240 with value: 0.9168184450913348.\n",
            "[I 2024-09-02 15:44:41,112] Trial 689 finished with value: 0.9232614705894627 and parameters: {'algorithm': 'SVD', 'n_factors': 23, 'n_epochs': 42, 'lr_all': 0.026694292743478582, 'reg_all': 0.09930291505114139}. Best is trial 240 with value: 0.9168184450913348.\n",
            "[I 2024-09-02 15:44:41,407] Trial 690 finished with value: 0.9367580822221199 and parameters: {'algorithm': 'SVD', 'n_factors': 30, 'n_epochs': 28, 'lr_all': 0.007661421788033553, 'reg_all': 0.09992230501282387}. Best is trial 240 with value: 0.9168184450913348.\n",
            "[I 2024-09-02 15:44:41,834] Trial 691 finished with value: 0.9348507275115765 and parameters: {'algorithm': 'SVD', 'n_factors': 40, 'n_epochs': 41, 'lr_all': 0.036641093531298866, 'reg_all': 0.051578692208002895}. Best is trial 240 with value: 0.9168184450913348.\n",
            "[I 2024-09-02 15:44:42,208] Trial 692 finished with value: 0.9263520313584918 and parameters: {'algorithm': 'SVD', 'n_factors': 35, 'n_epochs': 26, 'lr_all': 0.03132801192866132, 'reg_all': 0.07970063361194453}. Best is trial 240 with value: 0.9168184450913348.\n",
            "[I 2024-09-02 15:44:42,816] Trial 693 finished with value: 0.9285264719642887 and parameters: {'algorithm': 'SVD', 'n_factors': 84, 'n_epochs': 46, 'lr_all': 0.02498474680089285, 'reg_all': 0.06286885164720789}. Best is trial 240 with value: 0.9168184450913348.\n",
            "[I 2024-09-02 15:44:42,897] Trial 694 finished with value: 0.9352145744158439 and parameters: {'algorithm': 'BaselineOnly', 'method': 'als', 'reg_u': 1.835590704295168e-05, 'reg_i': 0.0005099048682455236}. Best is trial 240 with value: 0.9168184450913348.\n"
          ]
        },
        {
          "output_type": "stream",
          "name": "stdout",
          "text": [
            "Estimating biases using als...\n"
          ]
        },
        {
          "output_type": "stream",
          "name": "stderr",
          "text": [
            "[I 2024-09-02 15:44:43,210] Trial 695 finished with value: 0.9262583218988742 and parameters: {'algorithm': 'SVD', 'n_factors': 25, 'n_epochs': 27, 'lr_all': 0.02071459856639783, 'reg_all': 0.08805694467078647}. Best is trial 240 with value: 0.9168184450913348.\n",
            "[I 2024-09-02 15:44:43,782] Trial 696 finished with value: 0.9714339668592705 and parameters: {'algorithm': 'SVD', 'n_factors': 47, 'n_epochs': 30, 'lr_all': 0.0027587536965998443, 'reg_all': 0.07356868567833934}. Best is trial 240 with value: 0.9168184450913348.\n",
            "[I 2024-09-02 15:44:44,362] Trial 697 finished with value: 0.9231347760966064 and parameters: {'algorithm': 'SVD', 'n_factors': 28, 'n_epochs': 38, 'lr_all': 0.02784819309011341, 'reg_all': 0.08825169046960729}. Best is trial 240 with value: 0.9168184450913348.\n",
            "[I 2024-09-02 15:44:44,890] Trial 698 finished with value: 0.9219331787895976 and parameters: {'algorithm': 'SVD', 'n_factors': 44, 'n_epochs': 28, 'lr_all': 0.01752483807874324, 'reg_all': 0.09983053236759969}. Best is trial 240 with value: 0.9168184450913348.\n",
            "[I 2024-09-02 15:44:45,606] Trial 699 finished with value: 1.105511191901514 and parameters: {'algorithm': 'SVD', 'n_factors': 32, 'n_epochs': 44, 'lr_all': 0.00010017921330737939, 'reg_all': 0.08052581026808363}. Best is trial 240 with value: 0.9168184450913348.\n",
            "[I 2024-09-02 15:44:46,184] Trial 700 finished with value: 0.9274945723000642 and parameters: {'algorithm': 'SVD', 'n_factors': 60, 'n_epochs': 24, 'lr_all': 0.039393800559991185, 'reg_all': 0.0640958211221694}. Best is trial 240 with value: 0.9168184450913348.\n",
            "[I 2024-09-02 15:44:46,684] Trial 701 finished with value: 0.9199905389198382 and parameters: {'algorithm': 'SVD', 'n_factors': 38, 'n_epochs': 50, 'lr_all': 0.02341744241266336, 'reg_all': 0.08879008680900256}. Best is trial 240 with value: 0.9168184450913348.\n",
            "[I 2024-09-02 15:44:47,117] Trial 702 finished with value: 0.9216422208578549 and parameters: {'algorithm': 'SVD', 'n_factors': 37, 'n_epochs': 42, 'lr_all': 0.022816508202909574, 'reg_all': 0.08742684280006272}. Best is trial 240 with value: 0.9168184450913348.\n",
            "[I 2024-09-02 15:44:47,632] Trial 703 finished with value: 0.9240068624751389 and parameters: {'algorithm': 'SVD', 'n_factors': 41, 'n_epochs': 50, 'lr_all': 0.019937208860065253, 'reg_all': 0.0739029098306036}. Best is trial 240 with value: 0.9168184450913348.\n",
            "[I 2024-09-02 15:44:48,092] Trial 704 finished with value: 0.9237923472598398 and parameters: {'algorithm': 'SVD', 'n_factors': 33, 'n_epochs': 48, 'lr_all': 0.023451980823072843, 'reg_all': 0.08936800553721336}. Best is trial 240 with value: 0.9168184450913348.\n"
          ]
        },
        {
          "output_type": "stream",
          "name": "stdout",
          "text": [
            "Computing the cosine similarity matrix...\n",
            "Done computing similarity matrix.\n"
          ]
        },
        {
          "output_type": "stream",
          "name": "stderr",
          "text": [
            "[I 2024-09-02 15:44:49,910] Trial 705 finished with value: 1.143982898143361 and parameters: {'algorithm': 'KNNBasic', 'k': 48, 'min_k': 5, 'name': 'cosine', 'user_based': True}. Best is trial 240 with value: 0.9168184450913348.\n",
            "[I 2024-09-02 15:44:50,361] Trial 706 finished with value: 0.9207115388488579 and parameters: {'algorithm': 'SVD', 'n_factors': 29, 'n_epochs': 48, 'lr_all': 0.014814816467423293, 'reg_all': 0.09971515955559355}. Best is trial 240 with value: 0.9168184450913348.\n",
            "[I 2024-09-02 15:44:50,816] Trial 707 finished with value: 0.9230748907517375 and parameters: {'algorithm': 'SVD', 'n_factors': 37, 'n_epochs': 49, 'lr_all': 0.018505627515148348, 'reg_all': 0.07840529206807498}. Best is trial 240 with value: 0.9168184450913348.\n",
            "[I 2024-09-02 15:44:51,273] Trial 708 finished with value: 0.9264995321981048 and parameters: {'algorithm': 'SVD', 'n_factors': 26, 'n_epochs': 50, 'lr_all': 0.025345491830186872, 'reg_all': 0.07021067036622448}. Best is trial 240 with value: 0.9168184450913348.\n",
            "[I 2024-09-02 15:44:51,663] Trial 709 finished with value: 0.9216043601942185 and parameters: {'algorithm': 'SVD', 'n_factors': 33, 'n_epochs': 40, 'lr_all': 0.020610544255989714, 'reg_all': 0.0877030483029922}. Best is trial 240 with value: 0.9168184450913348.\n",
            "[I 2024-09-02 15:44:53,221] Trial 710 finished with value: 1.0185726451230572 and parameters: {'algorithm': 'CoClustering', 'n_cltr_u': 6, 'n_cltr_i': 3, 'n_epochs': 43}. Best is trial 240 with value: 0.9168184450913348.\n",
            "[I 2024-09-02 15:44:53,718] Trial 711 finished with value: 0.9207033457417918 and parameters: {'algorithm': 'SVD', 'n_factors': 51, 'n_epochs': 47, 'lr_all': 0.023310238509049553, 'reg_all': 0.08857469495565516}. Best is trial 240 with value: 0.9168184450913348.\n",
            "[I 2024-09-02 15:44:54,155] Trial 712 finished with value: 0.924412833748407 and parameters: {'algorithm': 'SVD', 'n_factors': 41, 'n_epochs': 41, 'lr_all': 0.028457852844512722, 'reg_all': 0.07943386463411856}. Best is trial 240 with value: 0.9168184450913348.\n",
            "[I 2024-09-02 15:44:54,619] Trial 713 finished with value: 0.9187517090900983 and parameters: {'algorithm': 'SVD', 'n_factors': 37, 'n_epochs': 50, 'lr_all': 0.017241403631238654, 'reg_all': 0.0999899963432612}. Best is trial 240 with value: 0.9168184450913348.\n",
            "[I 2024-09-02 15:44:55,132] Trial 714 finished with value: 0.9297815206650154 and parameters: {'algorithm': 'SVD', 'n_factors': 44, 'n_epochs': 50, 'lr_all': 0.016619342852622045, 'reg_all': 0.05903055798881104}. Best is trial 240 with value: 0.9168184450913348.\n",
            "[I 2024-09-02 15:44:55,627] Trial 715 finished with value: 0.9223789022472666 and parameters: {'algorithm': 'SVD', 'n_factors': 38, 'n_epochs': 49, 'lr_all': 0.012852046673558904, 'reg_all': 0.09978974567757697}. Best is trial 240 with value: 0.9168184450913348.\n",
            "[I 2024-09-02 15:44:56,422] Trial 716 finished with value: 0.9298484693631072 and parameters: {'algorithm': 'SVD', 'n_factors': 91, 'n_epochs': 49, 'lr_all': 0.01480905795253492, 'reg_all': 0.06835903395827617}. Best is trial 240 with value: 0.9168184450913348.\n",
            "[I 2024-09-02 15:44:57,185] Trial 717 finished with value: 0.9239035488104621 and parameters: {'algorithm': 'SVD', 'n_factors': 40, 'n_epochs': 50, 'lr_all': 0.015211817059451875, 'reg_all': 0.08236138795826077}. Best is trial 240 with value: 0.9168184450913348.\n",
            "[I 2024-09-02 15:44:57,395] Trial 718 finished with value: 0.9594124318030148 and parameters: {'algorithm': 'BaselineOnly', 'method': 'sgd', 'reg_u': 5.5970873498793934e-05, 'reg_i': 0.0002143555370988422}. Best is trial 240 with value: 0.9168184450913348.\n"
          ]
        },
        {
          "output_type": "stream",
          "name": "stdout",
          "text": [
            "Estimating biases using sgd...\n"
          ]
        },
        {
          "output_type": "stream",
          "name": "stderr",
          "text": [
            "[I 2024-09-02 15:44:58,218] Trial 719 finished with value: 1.0551808565204264 and parameters: {'algorithm': 'SVD', 'n_factors': 47, 'n_epochs': 48, 'lr_all': 0.00027789351718126963, 'reg_all': 0.08913375001067389}. Best is trial 240 with value: 0.9168184450913348.\n",
            "[I 2024-09-02 15:44:58,970] Trial 720 finished with value: 0.9209077563419243 and parameters: {'algorithm': 'SVD', 'n_factors': 37, 'n_epochs': 49, 'lr_all': 0.017797161579737267, 'reg_all': 0.09953741936586626}. Best is trial 240 with value: 0.9168184450913348.\n",
            "[I 2024-09-02 15:44:59,507] Trial 721 finished with value: 0.9264096492593251 and parameters: {'algorithm': 'SVD', 'n_factors': 43, 'n_epochs': 50, 'lr_all': 0.01836483871920356, 'reg_all': 0.07504424125972485}. Best is trial 240 with value: 0.9168184450913348.\n",
            "[I 2024-09-02 15:45:00,145] Trial 722 finished with value: 0.941015696712855 and parameters: {'algorithm': 'SVD', 'n_factors': 64, 'n_epochs': 45, 'lr_all': 0.004148864349764325, 'reg_all': 0.07949221062020619}. Best is trial 240 with value: 0.9168184450913348.\n",
            "[I 2024-09-02 15:45:00,656] Trial 723 finished with value: 0.9235729627686099 and parameters: {'algorithm': 'SVD', 'n_factors': 34, 'n_epochs': 49, 'lr_all': 0.020117519105639886, 'reg_all': 0.08768451203584543}. Best is trial 240 with value: 0.9168184450913348.\n",
            "[I 2024-09-02 15:45:01,123] Trial 724 finished with value: 0.9264565035722736 and parameters: {'algorithm': 'SVD', 'n_factors': 39, 'n_epochs': 47, 'lr_all': 0.016356012728836435, 'reg_all': 0.06421504284222589}. Best is trial 240 with value: 0.9168184450913348.\n",
            "[I 2024-09-02 15:45:01,638] Trial 725 finished with value: 0.9199057350396957 and parameters: {'algorithm': 'SVD', 'n_factors': 35, 'n_epochs': 50, 'lr_all': 0.014044865738785842, 'reg_all': 0.09934228124137576}. Best is trial 240 with value: 0.9168184450913348.\n",
            "[I 2024-09-02 15:45:02,064] Trial 726 finished with value: 0.9152262212548059 and parameters: {'algorithm': 'SVD', 'n_factors': 31, 'n_epochs': 45, 'lr_all': 0.013616794184574305, 'reg_all': 0.09979059294555132}. Best is trial 726 with value: 0.9152262212548059.\n",
            "[I 2024-09-02 15:45:02,534] Trial 727 finished with value: 0.9229681138865378 and parameters: {'algorithm': 'SVD', 'n_factors': 31, 'n_epochs': 50, 'lr_all': 0.010860142406635053, 'reg_all': 0.09037630920820396}. Best is trial 726 with value: 0.9152262212548059.\n",
            "[I 2024-09-02 15:45:03,005] Trial 728 finished with value: 0.9185961437036436 and parameters: {'algorithm': 'SVD', 'n_factors': 31, 'n_epochs': 50, 'lr_all': 0.01560638137434323, 'reg_all': 0.09978401258996236}. Best is trial 726 with value: 0.9152262212548059.\n",
            "[I 2024-09-02 15:45:03,473] Trial 729 finished with value: 0.9195620080087887 and parameters: {'algorithm': 'SVD', 'n_factors': 30, 'n_epochs': 50, 'lr_all': 0.014250715255398224, 'reg_all': 0.0995762632265535}. Best is trial 726 with value: 0.9152262212548059.\n",
            "[I 2024-09-02 15:45:03,929] Trial 730 finished with value: 0.9173672814441612 and parameters: {'algorithm': 'SVD', 'n_factors': 28, 'n_epochs': 50, 'lr_all': 0.01193431341561426, 'reg_all': 0.09883284135066318}. Best is trial 726 with value: 0.9152262212548059.\n",
            "[I 2024-09-02 15:45:04,389] Trial 731 finished with value: 0.9208239008901207 and parameters: {'algorithm': 'SVD', 'n_factors': 29, 'n_epochs': 50, 'lr_all': 0.012647568816733179, 'reg_all': 0.09972528125556482}. Best is trial 726 with value: 0.9152262212548059.\n",
            "[I 2024-09-02 15:45:04,844] Trial 732 finished with value: 0.9203101128297934 and parameters: {'algorithm': 'SVD', 'n_factors': 30, 'n_epochs': 49, 'lr_all': 0.01151261552674231, 'reg_all': 0.09952644508088414}. Best is trial 726 with value: 0.9152262212548059.\n"
          ]
        },
        {
          "output_type": "stream",
          "name": "stdout",
          "text": [
            "Computing the pearson similarity matrix...\n",
            "Done computing similarity matrix.\n"
          ]
        },
        {
          "output_type": "stream",
          "name": "stderr",
          "text": [
            "[I 2024-09-02 15:45:05,108] Trial 733 finished with value: 1.059926212989184 and parameters: {'algorithm': 'KNNBasic', 'k': 14, 'min_k': 3, 'name': 'pearson', 'user_based': False}. Best is trial 726 with value: 0.9152262212548059.\n",
            "[I 2024-09-02 15:45:05,582] Trial 734 finished with value: 0.9177946337624933 and parameters: {'algorithm': 'SVD', 'n_factors': 31, 'n_epochs': 50, 'lr_all': 0.012011810355649357, 'reg_all': 0.09947855118601194}. Best is trial 726 with value: 0.9152262212548059.\n",
            "[I 2024-09-02 15:45:06,015] Trial 735 finished with value: 0.9197749851651722 and parameters: {'algorithm': 'SVD', 'n_factors': 27, 'n_epochs': 49, 'lr_all': 0.01033587988609285, 'reg_all': 0.09874929699209559}. Best is trial 726 with value: 0.9152262212548059.\n",
            "[I 2024-09-02 15:45:06,457] Trial 736 finished with value: 0.9212289779715684 and parameters: {'algorithm': 'SVD', 'n_factors': 26, 'n_epochs': 49, 'lr_all': 0.009319375734056628, 'reg_all': 0.09984352122823911}. Best is trial 726 with value: 0.9152262212548059.\n",
            "[I 2024-09-02 15:45:06,870] Trial 737 finished with value: 0.9240903390637867 and parameters: {'algorithm': 'SVD', 'n_factors': 24, 'n_epochs': 50, 'lr_all': 0.010944068716261572, 'reg_all': 0.08937243775209586}. Best is trial 726 with value: 0.9152262212548059.\n",
            "[I 2024-09-02 15:45:07,284] Trial 738 finished with value: 0.9214413129042915 and parameters: {'algorithm': 'SVD', 'n_factors': 27, 'n_epochs': 49, 'lr_all': 0.011836720390784438, 'reg_all': 0.09960293796619808}. Best is trial 726 with value: 0.9152262212548059.\n",
            "[I 2024-09-02 15:45:09,595] Trial 739 finished with value: 1.0468509097736105 and parameters: {'algorithm': 'CoClustering', 'n_cltr_u': 10, 'n_cltr_i': 7, 'n_epochs': 50}. Best is trial 726 with value: 0.9152262212548059.\n",
            "[I 2024-09-02 15:45:10,265] Trial 740 finished with value: 0.9256002484670551 and parameters: {'algorithm': 'SVD', 'n_factors': 29, 'n_epochs': 48, 'lr_all': 0.010872268358344945, 'reg_all': 0.08719686623115883}. Best is trial 726 with value: 0.9152262212548059.\n",
            "[I 2024-09-02 15:45:10,973] Trial 741 finished with value: 0.9243362241716414 and parameters: {'algorithm': 'SVD', 'n_factors': 24, 'n_epochs': 49, 'lr_all': 0.00955064184043744, 'reg_all': 0.09996725958920431}. Best is trial 726 with value: 0.9152262212548059.\n",
            "[I 2024-09-02 15:45:11,705] Trial 742 finished with value: 0.921391554008995 and parameters: {'algorithm': 'SVD', 'n_factors': 30, 'n_epochs': 49, 'lr_all': 0.012554396382967735, 'reg_all': 0.08090720801547319}. Best is trial 726 with value: 0.9152262212548059.\n",
            "[I 2024-09-02 15:45:12,172] Trial 743 finished with value: 0.9227013684497277 and parameters: {'algorithm': 'SVD', 'n_factors': 27, 'n_epochs': 50, 'lr_all': 0.013386953541241564, 'reg_all': 0.09981518562849481}. Best is trial 726 with value: 0.9152262212548059.\n",
            "[I 2024-09-02 15:45:12,608] Trial 744 finished with value: 0.9226402472459783 and parameters: {'algorithm': 'SVD', 'n_factors': 31, 'n_epochs': 48, 'lr_all': 0.012168867639985852, 'reg_all': 0.08678062518595926}. Best is trial 726 with value: 0.9152262212548059.\n",
            "[I 2024-09-02 15:45:12,700] Trial 745 finished with value: 0.9346103976638693 and parameters: {'algorithm': 'BaselineOnly', 'method': 'als', 'reg_u': 0.00967017677680241, 'reg_i': 3.993838239908615e-05}. Best is trial 726 with value: 0.9152262212548059.\n"
          ]
        },
        {
          "output_type": "stream",
          "name": "stdout",
          "text": [
            "Estimating biases using als...\n"
          ]
        },
        {
          "output_type": "stream",
          "name": "stderr",
          "text": [
            "[I 2024-09-02 15:45:13,135] Trial 746 finished with value: 0.9263916045460839 and parameters: {'algorithm': 'SVD', 'n_factors': 27, 'n_epochs': 48, 'lr_all': 0.014072849983783766, 'reg_all': 0.07758490184268536}. Best is trial 726 with value: 0.9152262212548059.\n",
            "[I 2024-09-02 15:45:13,541] Trial 747 finished with value: 0.9225190137419571 and parameters: {'algorithm': 'SVD', 'n_factors': 22, 'n_epochs': 49, 'lr_all': 0.011444888816548695, 'reg_all': 0.08717365308904361}. Best is trial 726 with value: 0.9152262212548059.\n",
            "[I 2024-09-02 15:45:14,027] Trial 748 finished with value: 0.929112139303329 and parameters: {'algorithm': 'SVD', 'n_factors': 31, 'n_epochs': 50, 'lr_all': 0.008195480911143846, 'reg_all': 0.0870328323445423}. Best is trial 726 with value: 0.9152262212548059.\n",
            "[I 2024-09-02 15:45:14,467] Trial 749 finished with value: 0.9224250189746236 and parameters: {'algorithm': 'SVD', 'n_factors': 32, 'n_epochs': 50, 'lr_all': 0.009112850315866356, 'reg_all': 0.09977220430201056}. Best is trial 726 with value: 0.9152262212548059.\n",
            "[I 2024-09-02 15:45:14,889] Trial 750 finished with value: 0.9240588930961492 and parameters: {'algorithm': 'SVD', 'n_factors': 26, 'n_epochs': 49, 'lr_all': 0.013137960394672934, 'reg_all': 0.07689474914262683}. Best is trial 726 with value: 0.9152262212548059.\n",
            "[I 2024-09-02 15:45:15,351] Trial 751 finished with value: 0.9275035619748723 and parameters: {'algorithm': 'SVD', 'n_factors': 32, 'n_epochs': 48, 'lr_all': 0.01409030375621018, 'reg_all': 0.0883977739599218}. Best is trial 726 with value: 0.9152262212548059.\n",
            "[I 2024-09-02 15:45:15,823] Trial 752 finished with value: 0.9360312208615679 and parameters: {'algorithm': 'SVD', 'n_factors': 29, 'n_epochs': 50, 'lr_all': 0.010737694204821808, 'reg_all': 0.031223772672327704}. Best is trial 726 with value: 0.9152262212548059.\n",
            "[I 2024-09-02 15:45:16,252] Trial 753 finished with value: 0.927361914413421 and parameters: {'algorithm': 'SVD', 'n_factors': 25, 'n_epochs': 49, 'lr_all': 0.013895921493986387, 'reg_all': 0.07948132769451924}. Best is trial 726 with value: 0.9152262212548059.\n",
            "[I 2024-09-02 15:45:16,692] Trial 754 finished with value: 0.918115583603463 and parameters: {'algorithm': 'SVD', 'n_factors': 22, 'n_epochs': 50, 'lr_all': 0.01379479549755252, 'reg_all': 0.09979135410300238}. Best is trial 726 with value: 0.9152262212548059.\n",
            "[I 2024-09-02 15:45:17,128] Trial 755 finished with value: 0.9960944729636055 and parameters: {'algorithm': 'SVD', 'n_factors': 23, 'n_epochs': 48, 'lr_all': 0.01158185067077274, 'reg_all': 0.00019363725926084915}. Best is trial 726 with value: 0.9152262212548059.\n",
            "[I 2024-09-02 15:45:17,655] Trial 756 finished with value: 0.9232720557988633 and parameters: {'algorithm': 'SVD', 'n_factors': 21, 'n_epochs': 50, 'lr_all': 0.010444818020750202, 'reg_all': 0.08685474027223165}. Best is trial 726 with value: 0.9152262212548059.\n",
            "[I 2024-09-02 15:45:18,086] Trial 757 finished with value: 0.9238641849809615 and parameters: {'algorithm': 'SVD', 'n_factors': 25, 'n_epochs': 49, 'lr_all': 0.013574920748746494, 'reg_all': 0.072085642324868}. Best is trial 726 with value: 0.9152262212548059.\n"
          ]
        },
        {
          "output_type": "stream",
          "name": "stdout",
          "text": [
            "Computing the cosine similarity matrix...\n",
            "Done computing similarity matrix.\n"
          ]
        },
        {
          "output_type": "stream",
          "name": "stderr",
          "text": [
            "[I 2024-09-02 15:45:19,870] Trial 758 finished with value: 1.129470821309815 and parameters: {'algorithm': 'KNNBasic', 'k': 41, 'min_k': 1, 'name': 'cosine', 'user_based': True}. Best is trial 726 with value: 0.9152262212548059.\n",
            "[I 2024-09-02 15:45:20,302] Trial 759 finished with value: 0.9219740692588821 and parameters: {'algorithm': 'SVD', 'n_factors': 21, 'n_epochs': 50, 'lr_all': 0.009804192084017935, 'reg_all': 0.09973361948606235}. Best is trial 726 with value: 0.9152262212548059.\n",
            "[I 2024-09-02 15:45:20,742] Trial 760 finished with value: 1.0005330442854294 and parameters: {'algorithm': 'SVD', 'n_factors': 27, 'n_epochs': 49, 'lr_all': 0.014613838038287318, 'reg_all': 0.0004202593442393046}. Best is trial 726 with value: 0.9152262212548059.\n",
            "[I 2024-09-02 15:45:21,160] Trial 761 finished with value: 0.922715216051085 and parameters: {'algorithm': 'SVD', 'n_factors': 20, 'n_epochs': 48, 'lr_all': 0.013739940257100553, 'reg_all': 0.07887703818587961}. Best is trial 726 with value: 0.9152262212548059.\n",
            "[I 2024-09-02 15:45:21,576] Trial 762 finished with value: 0.9233490810959618 and parameters: {'algorithm': 'SVD', 'n_factors': 24, 'n_epochs': 49, 'lr_all': 0.012893714166285977, 'reg_all': 0.08931744179377901}. Best is trial 726 with value: 0.9152262212548059.\n",
            "[I 2024-09-02 15:45:24,717] Trial 763 finished with value: 1.0329875209470498 and parameters: {'algorithm': 'CoClustering', 'n_cltr_u': 7, 'n_cltr_i': 10, 'n_epochs': 50}. Best is trial 726 with value: 0.9152262212548059.\n",
            "[I 2024-09-02 15:45:25,153] Trial 764 finished with value: 0.920874185460293 and parameters: {'algorithm': 'SVD', 'n_factors': 27, 'n_epochs': 50, 'lr_all': 0.016372810988527702, 'reg_all': 0.09958813761959838}. Best is trial 726 with value: 0.9152262212548059.\n",
            "[I 2024-09-02 15:45:25,571] Trial 765 finished with value: 0.9259428161250571 and parameters: {'algorithm': 'SVD', 'n_factors': 30, 'n_epochs': 47, 'lr_all': 0.01214111837729319, 'reg_all': 0.0714307000336804}. Best is trial 726 with value: 0.9152262212548059.\n",
            "[I 2024-09-02 15:45:26,017] Trial 766 finished with value: 0.9272161771695059 and parameters: {'algorithm': 'SVD', 'n_factors': 32, 'n_epochs': 48, 'lr_all': 0.015303492949645631, 'reg_all': 0.08770720207127225}. Best is trial 726 with value: 0.9152262212548059.\n",
            "[I 2024-09-02 15:45:26,448] Trial 767 finished with value: 0.918703372275923 and parameters: {'algorithm': 'SVD', 'n_factors': 23, 'n_epochs': 50, 'lr_all': 0.009896242152645502, 'reg_all': 0.09975973830792227}. Best is trial 726 with value: 0.9152262212548059.\n",
            "[I 2024-09-02 15:45:26,881] Trial 768 finished with value: 0.9227553961400089 and parameters: {'algorithm': 'SVD', 'n_factors': 23, 'n_epochs': 50, 'lr_all': 0.01568143914566033, 'reg_all': 0.07933691795627067}. Best is trial 726 with value: 0.9152262212548059.\n",
            "[I 2024-09-02 15:45:27,287] Trial 769 finished with value: 0.9171706981956661 and parameters: {'algorithm': 'SVD', 'n_factors': 20, 'n_epochs': 50, 'lr_all': 0.013297570051155325, 'reg_all': 0.08893424672035584}. Best is trial 726 with value: 0.9152262212548059.\n",
            "[I 2024-09-02 15:45:27,700] Trial 770 finished with value: 0.9251817044648522 and parameters: {'algorithm': 'SVD', 'n_factors': 21, 'n_epochs': 50, 'lr_all': 0.008745757478989605, 'reg_all': 0.06788014655823427}. Best is trial 726 with value: 0.9152262212548059.\n",
            "[I 2024-09-02 15:45:28,080] Trial 771 finished with value: 0.92185581038148 and parameters: {'algorithm': 'SVD', 'n_factors': 20, 'n_epochs': 49, 'lr_all': 0.012131295248886212, 'reg_all': 0.07907752281077753}. Best is trial 726 with value: 0.9152262212548059.\n",
            "[I 2024-09-02 15:45:28,476] Trial 772 finished with value: 0.9226563463764182 and parameters: {'algorithm': 'SVD', 'n_factors': 20, 'n_epochs': 50, 'lr_all': 0.012515109054002396, 'reg_all': 0.07122416673981571}. Best is trial 726 with value: 0.9152262212548059.\n",
            "[I 2024-09-02 15:45:28,556] Trial 773 finished with value: 0.9351473513005573 and parameters: {'algorithm': 'BaselineOnly', 'method': 'als', 'reg_u': 0.0003182509778417659, 'reg_i': 0.0024856315334956104}. Best is trial 726 with value: 0.9152262212548059.\n"
          ]
        },
        {
          "output_type": "stream",
          "name": "stdout",
          "text": [
            "Estimating biases using als...\n"
          ]
        },
        {
          "output_type": "stream",
          "name": "stderr",
          "text": [
            "[I 2024-09-02 15:45:28,991] Trial 774 finished with value: 0.9252533392772521 and parameters: {'algorithm': 'SVD', 'n_factors': 24, 'n_epochs': 48, 'lr_all': 0.015165322191465396, 'reg_all': 0.08761867492501337}. Best is trial 726 with value: 0.9152262212548059.\n",
            "[I 2024-09-02 15:45:29,425] Trial 775 finished with value: 0.9198205465624497 and parameters: {'algorithm': 'SVD', 'n_factors': 20, 'n_epochs': 50, 'lr_all': 0.013836114484059804, 'reg_all': 0.09992876549789102}. Best is trial 726 with value: 0.9152262212548059.\n",
            "[I 2024-09-02 15:45:29,834] Trial 776 finished with value: 0.9236874412357288 and parameters: {'algorithm': 'SVD', 'n_factors': 24, 'n_epochs': 49, 'lr_all': 0.012548639658069693, 'reg_all': 0.08035180618124342}. Best is trial 726 with value: 0.9152262212548059.\n",
            "[I 2024-09-02 15:45:30,219] Trial 777 finished with value: 0.9225050934248717 and parameters: {'algorithm': 'SVD', 'n_factors': 20, 'n_epochs': 48, 'lr_all': 0.010548298188677788, 'reg_all': 0.08679604635324713}. Best is trial 726 with value: 0.9152262212548059.\n",
            "[I 2024-09-02 15:45:30,619] Trial 778 finished with value: 0.99833755592101 and parameters: {'algorithm': 'SVD', 'n_factors': 24, 'n_epochs': 50, 'lr_all': 0.015608993492441837, 'reg_all': 0.0022445169225823918}. Best is trial 726 with value: 0.9152262212548059.\n",
            "[I 2024-09-02 15:45:31,055] Trial 779 finished with value: 0.9198833695677463 and parameters: {'algorithm': 'SVD', 'n_factors': 27, 'n_epochs': 47, 'lr_all': 0.010138505176322865, 'reg_all': 0.0704023840517517}. Best is trial 726 with value: 0.9152262212548059.\n",
            "[I 2024-09-02 15:45:31,463] Trial 780 finished with value: 0.9202216064454436 and parameters: {'algorithm': 'SVD', 'n_factors': 24, 'n_epochs': 49, 'lr_all': 0.014304848738731162, 'reg_all': 0.08860807854025246}. Best is trial 726 with value: 0.9152262212548059.\n",
            "[I 2024-09-02 15:45:31,902] Trial 781 finished with value: 0.9252555612636603 and parameters: {'algorithm': 'SVD', 'n_factors': 28, 'n_epochs': 49, 'lr_all': 0.011680679029747572, 'reg_all': 0.07994278795209805}. Best is trial 726 with value: 0.9152262212548059.\n"
          ]
        },
        {
          "output_type": "stream",
          "name": "stdout",
          "text": [
            "Computing the cosine similarity matrix...\n",
            "Done computing similarity matrix.\n"
          ]
        },
        {
          "output_type": "stream",
          "name": "stderr",
          "text": [
            "[I 2024-09-02 15:45:33,630] Trial 782 finished with value: 1.142001510757985 and parameters: {'algorithm': 'KNNBasic', 'k': 11, 'min_k': 2, 'name': 'cosine', 'user_based': True}. Best is trial 726 with value: 0.9152262212548059.\n",
            "[I 2024-09-02 15:45:34,073] Trial 783 finished with value: 0.9277562393308515 and parameters: {'algorithm': 'SVD', 'n_factors': 28, 'n_epochs': 50, 'lr_all': 0.0077112564225298285, 'reg_all': 0.061411870939232976}. Best is trial 726 with value: 0.9152262212548059.\n",
            "[I 2024-09-02 15:45:35,139] Trial 784 finished with value: 0.9598795195797248 and parameters: {'algorithm': 'SVD', 'n_factors': 134, 'n_epochs': 47, 'lr_all': 0.015902259488355254, 'reg_all': 0.005517918676753825}. Best is trial 726 with value: 0.9152262212548059.\n",
            "[I 2024-09-02 15:45:35,787] Trial 785 finished with value: 0.9855045745050648 and parameters: {'algorithm': 'SVD', 'n_factors': 23, 'n_epochs': 48, 'lr_all': 0.012975166758109773, 'reg_all': 0.009586096228319118}. Best is trial 726 with value: 0.9152262212548059.\n",
            "[I 2024-09-02 15:45:36,526] Trial 786 finished with value: 0.9226675669660858 and parameters: {'algorithm': 'SVD', 'n_factors': 31, 'n_epochs': 50, 'lr_all': 0.01653119656690234, 'reg_all': 0.08838304444300057}. Best is trial 726 with value: 0.9152262212548059.\n",
            "[I 2024-09-02 15:45:38,457] Trial 787 finished with value: 1.0155716086570272 and parameters: {'algorithm': 'CoClustering', 'n_cltr_u': 3, 'n_cltr_i': 3, 'n_epochs': 50}. Best is trial 726 with value: 0.9152262212548059.\n",
            "[I 2024-09-02 15:45:38,854] Trial 788 finished with value: 0.9172114988690759 and parameters: {'algorithm': 'SVD', 'n_factors': 20, 'n_epochs': 48, 'lr_all': 0.015187024079496899, 'reg_all': 0.09997028029732291}. Best is trial 726 with value: 0.9152262212548059.\n",
            "[I 2024-09-02 15:45:39,232] Trial 789 finished with value: 0.9232778779348986 and parameters: {'algorithm': 'SVD', 'n_factors': 20, 'n_epochs': 48, 'lr_all': 0.014448422626947446, 'reg_all': 0.07375643810012268}. Best is trial 726 with value: 0.9152262212548059.\n",
            "[I 2024-09-02 15:45:39,625] Trial 790 finished with value: 0.9199342386499822 and parameters: {'algorithm': 'SVD', 'n_factors': 20, 'n_epochs': 49, 'lr_all': 0.011746020838159978, 'reg_all': 0.09949052592120212}. Best is trial 726 with value: 0.9152262212548059.\n",
            "[I 2024-09-02 15:45:40,063] Trial 791 finished with value: 0.9233069799247828 and parameters: {'algorithm': 'SVD', 'n_factors': 24, 'n_epochs': 49, 'lr_all': 0.01386957879311122, 'reg_all': 0.08029832746084141}. Best is trial 726 with value: 0.9152262212548059.\n",
            "[I 2024-09-02 15:45:40,484] Trial 792 finished with value: 0.9207425331284894 and parameters: {'algorithm': 'SVD', 'n_factors': 20, 'n_epochs': 48, 'lr_all': 0.016077387154896032, 'reg_all': 0.08818946470497882}. Best is trial 726 with value: 0.9152262212548059.\n",
            "[I 2024-09-02 15:45:40,915] Trial 793 finished with value: 0.9288325172753582 and parameters: {'algorithm': 'SVD', 'n_factors': 24, 'n_epochs': 47, 'lr_all': 0.011701532099628436, 'reg_all': 0.06865861006607682}. Best is trial 726 with value: 0.9152262212548059.\n",
            "[I 2024-09-02 15:45:41,336] Trial 794 finished with value: 0.9542774652565849 and parameters: {'algorithm': 'SVD', 'n_factors': 24, 'n_epochs': 50, 'lr_all': 0.009902105235970977, 'reg_all': 0.023584795524401778}. Best is trial 726 with value: 0.9152262212548059.\n",
            "[I 2024-09-02 15:45:41,772] Trial 795 finished with value: 0.9224630944224367 and parameters: {'algorithm': 'SVD', 'n_factors': 27, 'n_epochs': 49, 'lr_all': 0.013676403399417345, 'reg_all': 0.08621455653083684}. Best is trial 726 with value: 0.9152262212548059.\n",
            "[I 2024-09-02 15:45:42,163] Trial 796 finished with value: 0.9233016571985754 and parameters: {'algorithm': 'SVD', 'n_factors': 20, 'n_epochs': 50, 'lr_all': 0.016209875911448315, 'reg_all': 0.07698718985469082}. Best is trial 726 with value: 0.9152262212548059.\n",
            "[I 2024-09-02 15:45:42,565] Trial 797 finished with value: 0.9279944133240877 and parameters: {'algorithm': 'SVD', 'n_factors': 26, 'n_epochs': 47, 'lr_all': 0.008929984074390456, 'reg_all': 0.08897410206878771}. Best is trial 726 with value: 0.9152262212548059.\n",
            "[I 2024-09-02 15:45:42,689] Trial 798 finished with value: 0.9594124318030148 and parameters: {'algorithm': 'BaselineOnly', 'method': 'sgd', 'reg_u': 0.00015526694405595452, 'reg_i': 0.005618572116303614}. Best is trial 726 with value: 0.9152262212548059.\n"
          ]
        },
        {
          "output_type": "stream",
          "name": "stdout",
          "text": [
            "Estimating biases using sgd...\n"
          ]
        },
        {
          "output_type": "stream",
          "name": "stderr",
          "text": [
            "[I 2024-09-02 15:45:43,130] Trial 799 finished with value: 0.931741585977666 and parameters: {'algorithm': 'SVD', 'n_factors': 29, 'n_epochs': 50, 'lr_all': 0.016384223312350957, 'reg_all': 0.06256628947174135}. Best is trial 726 with value: 0.9152262212548059.\n",
            "[I 2024-09-02 15:45:43,531] Trial 800 finished with value: 0.9225887219392986 and parameters: {'algorithm': 'SVD', 'n_factors': 23, 'n_epochs': 48, 'lr_all': 0.013638310751524779, 'reg_all': 0.0996764523327168}. Best is trial 726 with value: 0.9152262212548059.\n",
            "[I 2024-09-02 15:45:44,222] Trial 801 finished with value: 0.9253538514879804 and parameters: {'algorithm': 'SVD', 'n_factors': 105, 'n_epochs': 46, 'lr_all': 0.011805917554889538, 'reg_all': 0.07893341979620035}. Best is trial 726 with value: 0.9152262212548059.\n",
            "[I 2024-09-02 15:45:44,651] Trial 802 finished with value: 0.9217077604939032 and parameters: {'algorithm': 'SVD', 'n_factors': 29, 'n_epochs': 49, 'lr_all': 0.017045580057397827, 'reg_all': 0.09973481278205801}. Best is trial 726 with value: 0.9152262212548059.\n",
            "[I 2024-09-02 15:45:45,091] Trial 803 finished with value: 0.9220174451357375 and parameters: {'algorithm': 'SVD', 'n_factors': 24, 'n_epochs': 50, 'lr_all': 0.014727359338018215, 'reg_all': 0.0880770004644359}. Best is trial 726 with value: 0.9152262212548059.\n",
            "[I 2024-09-02 15:45:45,502] Trial 804 finished with value: 0.9845649117243983 and parameters: {'algorithm': 'SVD', 'n_factors': 27, 'n_epochs': 49, 'lr_all': 0.010467070714682716, 'reg_all': 0.0035526049332326053}. Best is trial 726 with value: 0.9152262212548059.\n",
            "[I 2024-09-02 15:45:45,966] Trial 805 finished with value: 0.9418176335381353 and parameters: {'algorithm': 'SVD', 'n_factors': 32, 'n_epochs': 48, 'lr_all': 0.012498426345570739, 'reg_all': 0.04167153931868792}. Best is trial 726 with value: 0.9152262212548059.\n",
            "[I 2024-09-02 15:45:46,386] Trial 806 finished with value: 0.9283536043685021 and parameters: {'algorithm': 'SVD', 'n_factors': 23, 'n_epochs': 47, 'lr_all': 0.01752210035901614, 'reg_all': 0.06772591118150059}. Best is trial 726 with value: 0.9152262212548059.\n"
          ]
        },
        {
          "output_type": "stream",
          "name": "stdout",
          "text": [
            "Computing the pearson similarity matrix...\n",
            "Done computing similarity matrix.\n"
          ]
        },
        {
          "output_type": "stream",
          "name": "stderr",
          "text": [
            "[I 2024-09-02 15:45:46,696] Trial 807 finished with value: 1.064095891993883 and parameters: {'algorithm': 'KNNBasic', 'k': 47, 'min_k': 5, 'name': 'pearson', 'user_based': False}. Best is trial 726 with value: 0.9152262212548059.\n",
            "[I 2024-09-02 15:45:47,166] Trial 808 finished with value: 0.9231047323343519 and parameters: {'algorithm': 'SVD', 'n_factors': 29, 'n_epochs': 50, 'lr_all': 0.015185060562807556, 'reg_all': 0.07823918707485346}. Best is trial 726 with value: 0.9152262212548059.\n",
            "[I 2024-09-02 15:45:47,628] Trial 809 finished with value: 0.9206675672229576 and parameters: {'algorithm': 'SVD', 'n_factors': 20, 'n_epochs': 46, 'lr_all': 0.01754895196763982, 'reg_all': 0.09933802244316918}. Best is trial 726 with value: 0.9152262212548059.\n",
            "[I 2024-09-02 15:45:48,347] Trial 810 finished with value: 0.9323825888664581 and parameters: {'algorithm': 'SVD', 'n_factors': 31, 'n_epochs': 49, 'lr_all': 0.014399594284100115, 'reg_all': 0.05190156159960917}. Best is trial 726 with value: 0.9152262212548059.\n",
            "[I 2024-09-02 15:45:49,060] Trial 811 finished with value: 0.9753953888445349 and parameters: {'algorithm': 'SVD', 'n_factors': 33, 'n_epochs': 50, 'lr_all': 0.012770404991953128, 'reg_all': 0.01322152922694622}. Best is trial 726 with value: 0.9152262212548059.\n",
            "[I 2024-09-02 15:45:51,429] Trial 812 finished with value: 1.0141769893511587 and parameters: {'algorithm': 'CoClustering', 'n_cltr_u': 7, 'n_cltr_i': 6, 'n_epochs': 50}. Best is trial 726 with value: 0.9152262212548059.\n",
            "[I 2024-09-02 15:45:51,864] Trial 813 finished with value: 0.921137706514453 and parameters: {'algorithm': 'SVD', 'n_factors': 26, 'n_epochs': 48, 'lr_all': 0.01712689975067833, 'reg_all': 0.087991218204375}. Best is trial 726 with value: 0.9152262212548059.\n",
            "[I 2024-09-02 15:45:52,555] Trial 814 finished with value: 0.9278152583005723 and parameters: {'algorithm': 'SVD', 'n_factors': 69, 'n_epochs': 49, 'lr_all': 0.010987699618698762, 'reg_all': 0.0753714124612199}. Best is trial 726 with value: 0.9152262212548059.\n",
            "[I 2024-09-02 15:45:52,985] Trial 815 finished with value: 0.9166481314874885 and parameters: {'algorithm': 'SVD', 'n_factors': 27, 'n_epochs': 47, 'lr_all': 0.014727820139990315, 'reg_all': 0.09950288382266283}. Best is trial 726 with value: 0.9152262212548059.\n",
            "[I 2024-09-02 15:45:53,398] Trial 816 finished with value: 0.9276071215186326 and parameters: {'algorithm': 'SVD', 'n_factors': 24, 'n_epochs': 46, 'lr_all': 0.006500663177005148, 'reg_all': 0.08749003253735735}. Best is trial 726 with value: 0.9152262212548059.\n",
            "[I 2024-09-02 15:45:53,818] Trial 817 finished with value: 0.9272840754726931 and parameters: {'algorithm': 'SVD', 'n_factors': 26, 'n_epochs': 47, 'lr_all': 0.013169236838353733, 'reg_all': 0.07104744458440587}. Best is trial 726 with value: 0.9152262212548059.\n",
            "[I 2024-09-02 15:45:54,225] Trial 818 finished with value: 1.0214510224795879 and parameters: {'algorithm': 'SVD', 'n_factors': 23, 'n_epochs': 46, 'lr_all': 0.015341605946218901, 'reg_all': 0.0001183194075262421}. Best is trial 726 with value: 0.9152262212548059.\n",
            "[I 2024-09-02 15:45:54,635] Trial 819 finished with value: 0.935942796074457 and parameters: {'algorithm': 'SVD', 'n_factors': 28, 'n_epochs': 47, 'lr_all': 0.004810507868349695, 'reg_all': 0.08847492466530839}. Best is trial 726 with value: 0.9152262212548059.\n",
            "[I 2024-09-02 15:45:54,716] Trial 820 finished with value: 0.9342962564928622 and parameters: {'algorithm': 'BaselineOnly', 'method': 'als', 'reg_u': 0.014449683122037229, 'reg_i': 0.0007157524519355244}. Best is trial 726 with value: 0.9152262212548059.\n"
          ]
        },
        {
          "output_type": "stream",
          "name": "stdout",
          "text": [
            "Estimating biases using als...\n"
          ]
        },
        {
          "output_type": "stream",
          "name": "stderr",
          "text": [
            "[I 2024-09-02 15:45:55,190] Trial 821 finished with value: 0.9242411385955295 and parameters: {'algorithm': 'SVD', 'n_factors': 30, 'n_epochs': 48, 'lr_all': 0.009045258128036119, 'reg_all': 0.07878384099181432}. Best is trial 726 with value: 0.9152262212548059.\n",
            "[I 2024-09-02 15:45:55,591] Trial 822 finished with value: 0.9224755530206811 and parameters: {'algorithm': 'SVD', 'n_factors': 23, 'n_epochs': 46, 'lr_all': 0.011521213001448942, 'reg_all': 0.09952817230654674}. Best is trial 726 with value: 0.9152262212548059.\n",
            "[I 2024-09-02 15:45:55,733] Trial 823 finished with value: 0.963254099005814 and parameters: {'algorithm': 'SVD', 'n_factors': 20, 'n_epochs': 7, 'lr_all': 0.01382271309444083, 'reg_all': 0.05901901649353576}. Best is trial 726 with value: 0.9152262212548059.\n",
            "[I 2024-09-02 15:45:56,179] Trial 824 finished with value: 0.9215307614252471 and parameters: {'algorithm': 'SVD', 'n_factors': 27, 'n_epochs': 47, 'lr_all': 0.010410116730929233, 'reg_all': 0.08748841213543887}. Best is trial 726 with value: 0.9152262212548059.\n",
            "[I 2024-09-02 15:45:56,636] Trial 825 finished with value: 0.9298047288016846 and parameters: {'algorithm': 'SVD', 'n_factors': 33, 'n_epochs': 48, 'lr_all': 0.015394649000798608, 'reg_all': 0.06592918726144054}. Best is trial 726 with value: 0.9152262212548059.\n",
            "[I 2024-09-02 15:45:57,085] Trial 826 finished with value: 0.9216927987229548 and parameters: {'algorithm': 'SVD', 'n_factors': 29, 'n_epochs': 49, 'lr_all': 0.016977663621160818, 'reg_all': 0.07949445016403921}. Best is trial 726 with value: 0.9152262212548059.\n",
            "[I 2024-09-02 15:45:57,559] Trial 827 finished with value: 0.9242819545217636 and parameters: {'algorithm': 'SVD', 'n_factors': 34, 'n_epochs': 49, 'lr_all': 0.01315548727647092, 'reg_all': 0.08945225513480169}. Best is trial 726 with value: 0.9152262212548059.\n",
            "[I 2024-09-02 15:45:57,956] Trial 828 finished with value: 0.9306902655362096 and parameters: {'algorithm': 'SVD', 'n_factors': 20, 'n_epochs': 48, 'lr_all': 0.012130066019106163, 'reg_all': 0.07242864452742293}. Best is trial 726 with value: 0.9152262212548059.\n",
            "[I 2024-09-02 15:45:58,373] Trial 829 finished with value: 0.9182249671292392 and parameters: {'algorithm': 'SVD', 'n_factors': 27, 'n_epochs': 46, 'lr_all': 0.01795657775849698, 'reg_all': 0.09961364499800071}. Best is trial 726 with value: 0.9152262212548059.\n",
            "[I 2024-09-02 15:45:58,785] Trial 830 finished with value: 0.923428539364834 and parameters: {'algorithm': 'SVD', 'n_factors': 25, 'n_epochs': 46, 'lr_all': 0.01502903247938054, 'reg_all': 0.09916863917393441}. Best is trial 726 with value: 0.9152262212548059.\n",
            "[I 2024-09-02 15:45:59,177] Trial 831 finished with value: 0.9224195810649808 and parameters: {'algorithm': 'SVD', 'n_factors': 24, 'n_epochs': 47, 'lr_all': 0.01651334051637143, 'reg_all': 0.09959237753932773}. Best is trial 726 with value: 0.9152262212548059.\n",
            "[I 2024-09-02 15:45:59,623] Trial 832 finished with value: 0.9216344570714704 and parameters: {'algorithm': 'SVD', 'n_factors': 27, 'n_epochs': 46, 'lr_all': 0.013472299069007045, 'reg_all': 0.08079858303967018}. Best is trial 726 with value: 0.9152262212548059.\n",
            "[I 2024-09-02 15:46:00,018] Trial 833 finished with value: 0.9217429630459554 and parameters: {'algorithm': 'SVD', 'n_factors': 20, 'n_epochs': 47, 'lr_all': 0.017373842186558665, 'reg_all': 0.09962842681025287}. Best is trial 726 with value: 0.9152262212548059.\n"
          ]
        },
        {
          "output_type": "stream",
          "name": "stdout",
          "text": [
            "Computing the cosine similarity matrix...\n",
            "Done computing similarity matrix.\n"
          ]
        },
        {
          "output_type": "stream",
          "name": "stderr",
          "text": [
            "[I 2024-09-02 15:46:02,331] Trial 834 finished with value: 1.1319943489373265 and parameters: {'algorithm': 'KNNBasic', 'k': 26, 'min_k': 3, 'name': 'cosine', 'user_based': True}. Best is trial 726 with value: 0.9152262212548059.\n",
            "[I 2024-09-02 15:46:03,006] Trial 835 finished with value: 0.9241093693987268 and parameters: {'algorithm': 'SVD', 'n_factors': 30, 'n_epochs': 46, 'lr_all': 0.014863772032586929, 'reg_all': 0.08740865281778391}. Best is trial 726 with value: 0.9152262212548059.\n",
            "[I 2024-09-02 15:46:03,409] Trial 836 finished with value: 0.923988498017704 and parameters: {'algorithm': 'SVD', 'n_factors': 23, 'n_epochs': 45, 'lr_all': 0.011129138095631283, 'reg_all': 0.07047109035820982}. Best is trial 726 with value: 0.9152262212548059.\n",
            "[I 2024-09-02 15:46:05,331] Trial 837 finished with value: 1.0314842954898635 and parameters: {'algorithm': 'CoClustering', 'n_cltr_u': 6, 'n_cltr_i': 8, 'n_epochs': 50}. Best is trial 726 with value: 0.9152262212548059.\n",
            "[I 2024-09-02 15:46:05,942] Trial 838 finished with value: 0.9277894740905137 and parameters: {'algorithm': 'SVD', 'n_factors': 74, 'n_epochs': 48, 'lr_all': 0.018171829886736976, 'reg_all': 0.0791662031194277}. Best is trial 726 with value: 0.9152262212548059.\n",
            "[I 2024-09-02 15:46:06,393] Trial 839 finished with value: 0.9252728305042082 and parameters: {'algorithm': 'SVD', 'n_factors': 33, 'n_epochs': 47, 'lr_all': 0.008339828856221417, 'reg_all': 0.08818048642974592}. Best is trial 726 with value: 0.9152262212548059.\n",
            "[I 2024-09-02 15:46:06,810] Trial 840 finished with value: 0.9302731267038769 and parameters: {'algorithm': 'SVD', 'n_factors': 27, 'n_epochs': 45, 'lr_all': 0.014371945658441715, 'reg_all': 0.0628571786801912}. Best is trial 726 with value: 0.9152262212548059.\n",
            "[I 2024-09-02 15:46:07,449] Trial 841 finished with value: 0.9202576311328077 and parameters: {'algorithm': 'SVD', 'n_factors': 82, 'n_epochs': 49, 'lr_all': 0.018040594855266292, 'reg_all': 0.08892824119155422}. Best is trial 726 with value: 0.9152262212548059.\n",
            "[I 2024-09-02 15:46:07,906] Trial 842 finished with value: 0.924883560421403 and parameters: {'algorithm': 'SVD', 'n_factors': 29, 'n_epochs': 50, 'lr_all': 0.012266043410753776, 'reg_all': 0.07499126608746229}. Best is trial 726 with value: 0.9152262212548059.\n",
            "[I 2024-09-02 15:46:08,348] Trial 843 finished with value: 0.9261313443574049 and parameters: {'algorithm': 'SVD', 'n_factors': 34, 'n_epochs': 46, 'lr_all': 0.01014630667434961, 'reg_all': 0.0883731897679352}. Best is trial 726 with value: 0.9152262212548059.\n",
            "[I 2024-09-02 15:46:08,807] Trial 844 finished with value: 0.9272636573253006 and parameters: {'algorithm': 'SVD', 'n_factors': 23, 'n_epochs': 48, 'lr_all': 0.014342887596242408, 'reg_all': 0.07797139691248059}. Best is trial 726 with value: 0.9152262212548059.\n",
            "[I 2024-09-02 15:46:08,909] Trial 845 finished with value: 0.9345930434745185 and parameters: {'algorithm': 'BaselineOnly', 'method': 'als', 'reg_u': 0.005339504538229528, 'reg_i': 0.01278038336594371}. Best is trial 726 with value: 0.9152262212548059.\n"
          ]
        },
        {
          "output_type": "stream",
          "name": "stdout",
          "text": [
            "Estimating biases using als...\n"
          ]
        },
        {
          "output_type": "stream",
          "name": "stderr",
          "text": [
            "[I 2024-09-02 15:46:09,346] Trial 846 finished with value: 0.9179738531982334 and parameters: {'algorithm': 'SVD', 'n_factors': 25, 'n_epochs': 49, 'lr_all': 0.015986386045139855, 'reg_all': 0.0999863208538084}. Best is trial 726 with value: 0.9152262212548059.\n",
            "[I 2024-09-02 15:46:09,795] Trial 847 finished with value: 0.9232199082202456 and parameters: {'algorithm': 'SVD', 'n_factors': 23, 'n_epochs': 49, 'lr_all': 0.017133563832995545, 'reg_all': 0.08947974846039244}. Best is trial 726 with value: 0.9152262212548059.\n",
            "[I 2024-09-02 15:46:10,194] Trial 848 finished with value: 1.0261834987805951 and parameters: {'algorithm': 'SVD', 'n_factors': 20, 'n_epochs': 48, 'lr_all': 0.015296658657860274, 'reg_all': 0.00023881167497343355}. Best is trial 726 with value: 0.9152262212548059.\n",
            "[I 2024-09-02 15:46:10,644] Trial 849 finished with value: 0.9198677977792845 and parameters: {'algorithm': 'SVD', 'n_factors': 26, 'n_epochs': 49, 'lr_all': 0.01311226313523135, 'reg_all': 0.09952961918319246}. Best is trial 726 with value: 0.9152262212548059.\n",
            "[I 2024-09-02 15:46:11,088] Trial 850 finished with value: 0.9266112671621808 and parameters: {'algorithm': 'SVD', 'n_factors': 26, 'n_epochs': 50, 'lr_all': 0.018368893883592613, 'reg_all': 0.08777295381206304}. Best is trial 726 with value: 0.9152262212548059.\n",
            "[I 2024-09-02 15:46:11,584] Trial 851 finished with value: 0.9908197818075628 and parameters: {'algorithm': 'SVD', 'n_factors': 23, 'n_epochs': 47, 'lr_all': 0.016239805935170794, 'reg_all': 0.004459264999078794}. Best is trial 726 with value: 0.9152262212548059.\n",
            "[I 2024-09-02 15:46:12,038] Trial 852 finished with value: 0.9206940158703396 and parameters: {'algorithm': 'SVD', 'n_factors': 31, 'n_epochs': 49, 'lr_all': 0.01185249974116585, 'reg_all': 0.08829796482353301}. Best is trial 726 with value: 0.9152262212548059.\n",
            "[I 2024-09-02 15:46:12,502] Trial 853 finished with value: 0.9255113428744594 and parameters: {'algorithm': 'SVD', 'n_factors': 34, 'n_epochs': 50, 'lr_all': 0.01864630694539338, 'reg_all': 0.07607106791799799}. Best is trial 726 with value: 0.9152262212548059.\n",
            "[I 2024-09-02 15:46:13,766] Trial 854 finished with value: 0.9281172915406888 and parameters: {'algorithm': 'SVD', 'n_factors': 173, 'n_epochs': 48, 'lr_all': 0.01437443170368776, 'reg_all': 0.08942032987973433}. Best is trial 726 with value: 0.9152262212548059.\n",
            "[I 2024-09-02 15:46:14,398] Trial 855 finished with value: 0.9211943370590738 and parameters: {'algorithm': 'SVD', 'n_factors': 20, 'n_epochs': 49, 'lr_all': 0.012777562493030642, 'reg_all': 0.09977798519204599}. Best is trial 726 with value: 0.9152262212548059.\n",
            "[I 2024-09-02 15:46:15,117] Trial 856 finished with value: 0.9950232609144868 and parameters: {'algorithm': 'SVD', 'n_factors': 27, 'n_epochs': 50, 'lr_all': 0.01579129379709247, 'reg_all': 0.0028154834006966405}. Best is trial 726 with value: 0.9152262212548059.\n"
          ]
        },
        {
          "output_type": "stream",
          "name": "stdout",
          "text": [
            "Computing the pearson similarity matrix...\n",
            "Done computing similarity matrix.\n"
          ]
        },
        {
          "output_type": "stream",
          "name": "stderr",
          "text": [
            "[I 2024-09-02 15:46:15,600] Trial 857 finished with value: 1.0633013792772004 and parameters: {'algorithm': 'KNNBasic', 'k': 31, 'min_k': 4, 'name': 'pearson', 'user_based': False}. Best is trial 726 with value: 0.9152262212548059.\n",
            "[I 2024-09-02 15:46:16,114] Trial 858 finished with value: 0.9207861829945372 and parameters: {'algorithm': 'SVD', 'n_factors': 29, 'n_epochs': 47, 'lr_all': 0.009786960123247012, 'reg_all': 0.09954840251215742}. Best is trial 726 with value: 0.9152262212548059.\n",
            "[I 2024-09-02 15:46:16,573] Trial 859 finished with value: 0.926441142931753 and parameters: {'algorithm': 'SVD', 'n_factors': 35, 'n_epochs': 48, 'lr_all': 0.018782352845970896, 'reg_all': 0.06876473289873825}. Best is trial 726 with value: 0.9152262212548059.\n",
            "[I 2024-09-02 15:46:17,008] Trial 860 finished with value: 0.9240379164070596 and parameters: {'algorithm': 'SVD', 'n_factors': 25, 'n_epochs': 49, 'lr_all': 0.01596339608951153, 'reg_all': 0.09997918398254373}. Best is trial 726 with value: 0.9152262212548059.\n",
            "[I 2024-09-02 15:46:17,422] Trial 861 finished with value: 0.9243539649221797 and parameters: {'algorithm': 'SVD', 'n_factors': 31, 'n_epochs': 45, 'lr_all': 0.01117819660134861, 'reg_all': 0.07938946418290149}. Best is trial 726 with value: 0.9152262212548059.\n",
            "[I 2024-09-02 15:46:19,321] Trial 862 finished with value: 1.0125487627224634 and parameters: {'algorithm': 'CoClustering', 'n_cltr_u': 5, 'n_cltr_i': 5, 'n_epochs': 50}. Best is trial 726 with value: 0.9152262212548059.\n",
            "[I 2024-09-02 15:46:19,746] Trial 863 finished with value: 0.9235347960123651 and parameters: {'algorithm': 'SVD', 'n_factors': 25, 'n_epochs': 47, 'lr_all': 0.018791819936931745, 'reg_all': 0.08051857731455096}. Best is trial 726 with value: 0.9152262212548059.\n",
            "[I 2024-09-02 15:46:20,184] Trial 864 finished with value: 0.9273394056729812 and parameters: {'algorithm': 'SVD', 'n_factors': 20, 'n_epochs': 49, 'lr_all': 0.012743101387450355, 'reg_all': 0.0672676710282565}. Best is trial 726 with value: 0.9152262212548059.\n",
            "[I 2024-09-02 15:46:20,629] Trial 865 finished with value: 0.920278212042793 and parameters: {'algorithm': 'SVD', 'n_factors': 35, 'n_epochs': 46, 'lr_all': 0.014628272932026084, 'reg_all': 0.09904167691993661}. Best is trial 726 with value: 0.9152262212548059.\n",
            "[I 2024-09-02 15:46:21,113] Trial 866 finished with value: 0.9264593104944873 and parameters: {'algorithm': 'SVD', 'n_factors': 29, 'n_epochs': 50, 'lr_all': 0.01678425796752053, 'reg_all': 0.08777608039132036}. Best is trial 726 with value: 0.9152262212548059.\n",
            "[I 2024-09-02 15:46:22,012] Trial 867 finished with value: 0.9287096534186334 and parameters: {'algorithm': 'SVD', 'n_factors': 159, 'n_epochs': 49, 'lr_all': 0.014492256059785822, 'reg_all': 0.05651102463732362}. Best is trial 726 with value: 0.9152262212548059.\n",
            "[I 2024-09-02 15:46:22,447] Trial 868 finished with value: 0.9265141955946206 and parameters: {'algorithm': 'SVD', 'n_factors': 32, 'n_epochs': 48, 'lr_all': 0.018607087655558262, 'reg_all': 0.0795491605817031}. Best is trial 726 with value: 0.9152262212548059.\n",
            "[I 2024-09-02 15:46:22,834] Trial 869 finished with value: 0.9210205802285061 and parameters: {'algorithm': 'SVD', 'n_factors': 25, 'n_epochs': 45, 'lr_all': 0.013037179028099538, 'reg_all': 0.09910107063779247}. Best is trial 726 with value: 0.9152262212548059.\n",
            "[I 2024-09-02 15:46:23,266] Trial 870 finished with value: 0.9197002998493421 and parameters: {'algorithm': 'SVD', 'n_factors': 23, 'n_epochs': 50, 'lr_all': 0.011262103454033221, 'reg_all': 0.08765599412599759}. Best is trial 726 with value: 0.9152262212548059.\n",
            "[I 2024-09-02 15:46:23,407] Trial 871 finished with value: 0.9594124318030148 and parameters: {'algorithm': 'BaselineOnly', 'method': 'sgd', 'reg_u': 0.05393811056304708, 'reg_i': 0.0003530530436578143}. Best is trial 726 with value: 0.9152262212548059.\n"
          ]
        },
        {
          "output_type": "stream",
          "name": "stdout",
          "text": [
            "Estimating biases using sgd...\n"
          ]
        },
        {
          "output_type": "stream",
          "name": "stderr",
          "text": [
            "[I 2024-09-02 15:46:24,124] Trial 872 finished with value: 0.9813533701807061 and parameters: {'algorithm': 'SVD', 'n_factors': 101, 'n_epochs': 48, 'lr_all': 0.0013991933056347967, 'reg_all': 0.09987612562537063}. Best is trial 726 with value: 0.9152262212548059.\n",
            "[I 2024-09-02 15:46:24,531] Trial 873 finished with value: 0.9184596669263915 and parameters: {'algorithm': 'SVD', 'n_factors': 29, 'n_epochs': 46, 'lr_all': 0.016452372373336112, 'reg_all': 0.09993902661432215}. Best is trial 726 with value: 0.9152262212548059.\n",
            "[I 2024-09-02 15:46:24,973] Trial 874 finished with value: 0.9577418086037536 and parameters: {'algorithm': 'SVD', 'n_factors': 35, 'n_epochs': 45, 'lr_all': 0.01880958076734075, 'reg_all': 0.01829088586969007}. Best is trial 726 with value: 0.9152262212548059.\n",
            "[I 2024-09-02 15:46:25,399] Trial 875 finished with value: 0.9283499745508539 and parameters: {'algorithm': 'SVD', 'n_factors': 26, 'n_epochs': 46, 'lr_all': 0.016659769920774274, 'reg_all': 0.07255615691601026}. Best is trial 726 with value: 0.9152262212548059.\n",
            "[I 2024-09-02 15:46:25,838] Trial 876 finished with value: 0.9231285373381684 and parameters: {'algorithm': 'SVD', 'n_factors': 28, 'n_epochs': 46, 'lr_all': 0.01930174475796388, 'reg_all': 0.0795424274101267}. Best is trial 726 with value: 0.9152262212548059.\n",
            "[I 2024-09-02 15:46:26,489] Trial 877 finished with value: 0.9251203274549216 and parameters: {'algorithm': 'SVD', 'n_factors': 20, 'n_epochs': 47, 'lr_all': 0.01767360424606853, 'reg_all': 0.0997908464954926}. Best is trial 726 with value: 0.9152262212548059.\n",
            "[I 2024-09-02 15:46:27,146] Trial 878 finished with value: 0.9262866887786338 and parameters: {'algorithm': 'SVD', 'n_factors': 32, 'n_epochs': 46, 'lr_all': 0.01545413834154055, 'reg_all': 0.06457501060643227}. Best is trial 726 with value: 0.9152262212548059.\n",
            "[I 2024-09-02 15:46:27,808] Trial 879 finished with value: 0.9241155058762858 and parameters: {'algorithm': 'SVD', 'n_factors': 23, 'n_epochs': 45, 'lr_all': 0.01981089726766903, 'reg_all': 0.08091288645335533}. Best is trial 726 with value: 0.9152262212548059.\n",
            "[I 2024-09-02 15:46:28,492] Trial 880 finished with value: 0.923767635430887 and parameters: {'algorithm': 'SVD', 'n_factors': 27, 'n_epochs': 45, 'lr_all': 0.01579738321541851, 'reg_all': 0.0870742182207525}. Best is trial 726 with value: 0.9152262212548059.\n"
          ]
        },
        {
          "output_type": "stream",
          "name": "stdout",
          "text": [
            "Computing the cosine similarity matrix...\n",
            "Done computing similarity matrix.\n"
          ]
        },
        {
          "output_type": "stream",
          "name": "stderr",
          "text": [
            "[I 2024-09-02 15:46:30,285] Trial 881 finished with value: 1.125641065032717 and parameters: {'algorithm': 'KNNBasic', 'k': 37, 'min_k': 2, 'name': 'cosine', 'user_based': True}. Best is trial 726 with value: 0.9152262212548059.\n",
            "[I 2024-09-02 15:46:30,753] Trial 882 finished with value: 0.9240867116891709 and parameters: {'algorithm': 'SVD', 'n_factors': 36, 'n_epochs': 47, 'lr_all': 0.013255947009599124, 'reg_all': 0.09980859702948268}. Best is trial 726 with value: 0.9152262212548059.\n",
            "[I 2024-09-02 15:46:31,273] Trial 883 finished with value: 0.9966731037722322 and parameters: {'algorithm': 'SVD', 'n_factors': 31, 'n_epochs': 46, 'lr_all': 0.017005193155713975, 'reg_all': 0.001801122034611904}. Best is trial 726 with value: 0.9152262212548059.\n",
            "[I 2024-09-02 15:46:31,730] Trial 884 finished with value: 0.9281906728715373 and parameters: {'algorithm': 'SVD', 'n_factors': 35, 'n_epochs': 47, 'lr_all': 0.019367065214356504, 'reg_all': 0.07140479971531773}. Best is trial 726 with value: 0.9152262212548059.\n",
            "[I 2024-09-02 15:46:32,157] Trial 885 finished with value: 0.9241558889674368 and parameters: {'algorithm': 'SVD', 'n_factors': 25, 'n_epochs': 48, 'lr_all': 0.011799840573482719, 'reg_all': 0.08646879517753873}. Best is trial 726 with value: 0.9152262212548059.\n",
            "[I 2024-09-02 15:46:32,590] Trial 886 finished with value: 0.9249920445020853 and parameters: {'algorithm': 'SVD', 'n_factors': 29, 'n_epochs': 45, 'lr_all': 0.008462112733989722, 'reg_all': 0.07981366144047672}. Best is trial 726 with value: 0.9152262212548059.\n",
            "[I 2024-09-02 15:46:34,333] Trial 887 finished with value: 1.0216963784355009 and parameters: {'algorithm': 'CoClustering', 'n_cltr_u': 8, 'n_cltr_i': 6, 'n_epochs': 45}. Best is trial 726 with value: 0.9152262212548059.\n",
            "[I 2024-09-02 15:46:34,544] Trial 888 finished with value: 0.9384361271789468 and parameters: {'algorithm': 'SVD', 'n_factors': 23, 'n_epochs': 14, 'lr_all': 0.015048872461271626, 'reg_all': 0.08767514557226662}. Best is trial 726 with value: 0.9152262212548059.\n",
            "[I 2024-09-02 15:46:34,972] Trial 889 finished with value: 0.9209195327485751 and parameters: {'algorithm': 'SVD', 'n_factors': 33, 'n_epochs': 47, 'lr_all': 0.009594129710862372, 'reg_all': 0.09980296983181208}. Best is trial 726 with value: 0.9152262212548059.\n",
            "[I 2024-09-02 15:46:35,323] Trial 890 finished with value: 1.0252614311440773 and parameters: {'algorithm': 'SVD', 'n_factors': 20, 'n_epochs': 46, 'lr_all': 0.01910035853680191, 'reg_all': 0.0010823619630107438}. Best is trial 726 with value: 0.9152262212548059.\n",
            "[I 2024-09-02 15:46:35,750] Trial 891 finished with value: 0.92831518753571 and parameters: {'algorithm': 'SVD', 'n_factors': 28, 'n_epochs': 48, 'lr_all': 0.007196096606145895, 'reg_all': 0.0713449262516098}. Best is trial 726 with value: 0.9152262212548059.\n",
            "[I 2024-09-02 15:46:36,197] Trial 892 finished with value: 0.9395557186204727 and parameters: {'algorithm': 'SVD', 'n_factors': 36, 'n_epochs': 44, 'lr_all': 0.013311863285728132, 'reg_all': 0.03604448329337367}. Best is trial 726 with value: 0.9152262212548059.\n",
            "[I 2024-09-02 15:46:36,648] Trial 893 finished with value: 0.928092367753032 and parameters: {'algorithm': 'SVD', 'n_factors': 31, 'n_epochs': 49, 'lr_all': 0.017008795508150324, 'reg_all': 0.06041843816741937}. Best is trial 726 with value: 0.9152262212548059.\n",
            "[I 2024-09-02 15:46:36,727] Trial 894 finished with value: 0.933913538576848 and parameters: {'algorithm': 'BaselineOnly', 'method': 'als', 'reg_u': 0.0029164798283251823, 'reg_i': 0.058127485971188865}. Best is trial 726 with value: 0.9152262212548059.\n"
          ]
        },
        {
          "output_type": "stream",
          "name": "stdout",
          "text": [
            "Estimating biases using als...\n"
          ]
        },
        {
          "output_type": "stream",
          "name": "stderr",
          "text": [
            "[I 2024-09-02 15:46:37,152] Trial 895 finished with value: 0.9216878613817497 and parameters: {'algorithm': 'SVD', 'n_factors': 26, 'n_epochs': 47, 'lr_all': 0.02058161836429385, 'reg_all': 0.08753561256638447}. Best is trial 726 with value: 0.9152262212548059.\n",
            "[I 2024-09-02 15:46:37,626] Trial 896 finished with value: 0.9245797755878224 and parameters: {'algorithm': 'SVD', 'n_factors': 32, 'n_epochs': 49, 'lr_all': 0.010832526364883847, 'reg_all': 0.07640341540882631}. Best is trial 726 with value: 0.9152262212548059.\n",
            "[I 2024-09-02 15:46:38,042] Trial 897 finished with value: 0.9429188728671989 and parameters: {'algorithm': 'SVD', 'n_factors': 24, 'n_epochs': 46, 'lr_all': 0.003691212585248105, 'reg_all': 0.0890948938592889}. Best is trial 726 with value: 0.9152262212548059.\n",
            "[I 2024-09-02 15:46:38,522] Trial 898 finished with value: 0.9251040752783112 and parameters: {'algorithm': 'SVD', 'n_factors': 37, 'n_epochs': 48, 'lr_all': 0.01542049909040524, 'reg_all': 0.09986401075879985}. Best is trial 726 with value: 0.9152262212548059.\n",
            "[I 2024-09-02 15:46:39,172] Trial 899 finished with value: 0.9233977087274938 and parameters: {'algorithm': 'SVD', 'n_factors': 28, 'n_epochs': 44, 'lr_all': 0.017567845019311707, 'reg_all': 0.09997989615502094}. Best is trial 726 with value: 0.9152262212548059.\n",
            "[I 2024-09-02 15:46:39,791] Trial 900 finished with value: 0.9321291467245192 and parameters: {'algorithm': 'SVD', 'n_factors': 23, 'n_epochs': 45, 'lr_all': 0.013347472946709104, 'reg_all': 0.07773789714321369}. Best is trial 726 with value: 0.9152262212548059.\n",
            "[I 2024-09-02 15:46:40,821] Trial 901 finished with value: 0.9257494019532259 and parameters: {'algorithm': 'SVD', 'n_factors': 77, 'n_epochs': 50, 'lr_all': 0.01994927764385443, 'reg_all': 0.06675082623873557}. Best is trial 726 with value: 0.9152262212548059.\n",
            "[I 2024-09-02 15:46:41,516] Trial 902 finished with value: 0.922744402332047 and parameters: {'algorithm': 'SVD', 'n_factors': 34, 'n_epochs': 48, 'lr_all': 0.014798034712297098, 'reg_all': 0.08727612518880185}. Best is trial 726 with value: 0.9152262212548059.\n",
            "[I 2024-09-02 15:46:41,966] Trial 903 finished with value: 0.9331615835462609 and parameters: {'algorithm': 'SVD', 'n_factors': 30, 'n_epochs': 49, 'lr_all': 0.012205190499048668, 'reg_all': 0.053803493876192654}. Best is trial 726 with value: 0.9152262212548059.\n",
            "[I 2024-09-02 15:46:42,360] Trial 904 finished with value: 0.9191009831696441 and parameters: {'algorithm': 'SVD', 'n_factors': 26, 'n_epochs': 46, 'lr_all': 0.016631900388026657, 'reg_all': 0.09987513646771648}. Best is trial 726 with value: 0.9152262212548059.\n",
            "[I 2024-09-02 15:46:42,788] Trial 905 finished with value: 0.9249660493301307 and parameters: {'algorithm': 'SVD', 'n_factors': 26, 'n_epochs': 46, 'lr_all': 0.020074055911072135, 'reg_all': 0.07853556082127451}. Best is trial 726 with value: 0.9152262212548059.\n"
          ]
        },
        {
          "output_type": "stream",
          "name": "stdout",
          "text": [
            "Computing the pearson similarity matrix...\n",
            "Done computing similarity matrix.\n"
          ]
        },
        {
          "output_type": "stream",
          "name": "stderr",
          "text": [
            "[I 2024-09-02 15:46:43,099] Trial 906 finished with value: 1.064762222032403 and parameters: {'algorithm': 'KNNBasic', 'k': 41, 'min_k': 5, 'name': 'pearson', 'user_based': False}. Best is trial 726 with value: 0.9152262212548059.\n",
            "[I 2024-09-02 15:46:43,492] Trial 907 finished with value: 0.9251227127079317 and parameters: {'algorithm': 'SVD', 'n_factors': 20, 'n_epochs': 47, 'lr_all': 0.016059860640294837, 'reg_all': 0.08737699664650621}. Best is trial 726 with value: 0.9152262212548059.\n",
            "[I 2024-09-02 15:46:43,937] Trial 908 finished with value: 0.9206958791160134 and parameters: {'algorithm': 'SVD', 'n_factors': 25, 'n_epochs': 45, 'lr_all': 0.010151032290812623, 'reg_all': 0.09988511822646055}. Best is trial 726 with value: 0.9152262212548059.\n",
            "[I 2024-09-02 15:46:44,504] Trial 909 finished with value: 0.9276927547408792 and parameters: {'algorithm': 'SVD', 'n_factors': 66, 'n_epochs': 46, 'lr_all': 0.013139387700131835, 'reg_all': 0.07181562499110422}. Best is trial 726 with value: 0.9152262212548059.\n",
            "[I 2024-09-02 15:46:44,935] Trial 910 finished with value: 0.9239904128762958 and parameters: {'algorithm': 'SVD', 'n_factors': 22, 'n_epochs': 47, 'lr_all': 0.017921035647934118, 'reg_all': 0.08598877227195663}. Best is trial 726 with value: 0.9152262212548059.\n",
            "[I 2024-09-02 15:46:47,054] Trial 911 finished with value: 1.0332826117959466 and parameters: {'algorithm': 'CoClustering', 'n_cltr_u': 10, 'n_cltr_i': 7, 'n_epochs': 50}. Best is trial 726 with value: 0.9152262212548059.\n",
            "[I 2024-09-02 15:46:47,689] Trial 912 finished with value: 0.9213883074235504 and parameters: {'algorithm': 'SVD', 'n_factors': 87, 'n_epochs': 47, 'lr_all': 0.01999304724050866, 'reg_all': 0.09988962742883764}. Best is trial 726 with value: 0.9152262212548059.\n",
            "[I 2024-09-02 15:46:48,127] Trial 913 finished with value: 0.9245876873496868 and parameters: {'algorithm': 'SVD', 'n_factors': 27, 'n_epochs': 46, 'lr_all': 0.01509463245408897, 'reg_all': 0.08042166648191201}. Best is trial 726 with value: 0.9152262212548059.\n",
            "[I 2024-09-02 15:46:48,556] Trial 914 finished with value: 1.0099354055298835 and parameters: {'algorithm': 'SVD', 'n_factors': 29, 'n_epochs': 48, 'lr_all': 0.017155895568619826, 'reg_all': 0.0006826343242955123}. Best is trial 726 with value: 0.9152262212548059.\n",
            "[I 2024-09-02 15:46:49,303] Trial 915 finished with value: 0.929592494238494 and parameters: {'algorithm': 'SVD', 'n_factors': 125, 'n_epochs': 45, 'lr_all': 0.01176138139917, 'reg_all': 0.061887572225421246}. Best is trial 726 with value: 0.9152262212548059.\n",
            "[I 2024-09-02 15:46:49,863] Trial 916 finished with value: 0.9200171273824256 and parameters: {'algorithm': 'SVD', 'n_factors': 23, 'n_epochs': 49, 'lr_all': 0.014703434820196884, 'reg_all': 0.0872953338001511}. Best is trial 726 with value: 0.9152262212548059.\n",
            "[I 2024-09-02 15:46:50,332] Trial 917 finished with value: 0.9290396121558213 and parameters: {'algorithm': 'SVD', 'n_factors': 30, 'n_epochs': 48, 'lr_all': 0.020366259945554868, 'reg_all': 0.07136142895264835}. Best is trial 726 with value: 0.9152262212548059.\n",
            "[I 2024-09-02 15:46:50,754] Trial 918 finished with value: 0.9206451998708266 and parameters: {'algorithm': 'SVD', 'n_factors': 24, 'n_epochs': 46, 'lr_all': 0.013293120665677706, 'reg_all': 0.08602292668947183}. Best is trial 726 with value: 0.9152262212548059.\n",
            "[I 2024-09-02 15:46:51,241] Trial 919 finished with value: 0.9247167895321626 and parameters: {'algorithm': 'SVD', 'n_factors': 29, 'n_epochs': 50, 'lr_all': 0.01714432353184852, 'reg_all': 0.07732806516171396}. Best is trial 726 with value: 0.9152262212548059.\n",
            "[I 2024-09-02 15:46:51,393] Trial 920 finished with value: 0.9594124318030148 and parameters: {'algorithm': 'BaselineOnly', 'method': 'sgd', 'reg_u': 0.0007427876336836521, 'reg_i': 0.0009486898184001457}. Best is trial 726 with value: 0.9152262212548059.\n"
          ]
        },
        {
          "output_type": "stream",
          "name": "stdout",
          "text": [
            "Estimating biases using sgd...\n"
          ]
        },
        {
          "output_type": "stream",
          "name": "stderr",
          "text": [
            "[I 2024-09-02 15:46:52,054] Trial 921 finished with value: 0.9221469885470162 and parameters: {'algorithm': 'SVD', 'n_factors': 26, 'n_epochs': 47, 'lr_all': 0.021266796932905698, 'reg_all': 0.08842942489598836}. Best is trial 726 with value: 0.9152262212548059.\n",
            "[I 2024-09-02 15:46:52,699] Trial 922 finished with value: 0.9231900757716953 and parameters: {'algorithm': 'SVD', 'n_factors': 20, 'n_epochs': 49, 'lr_all': 0.011430337356402141, 'reg_all': 0.09979921416429402}. Best is trial 726 with value: 0.9152262212548059.\n",
            "[I 2024-09-02 15:46:53,374] Trial 923 finished with value: 0.9319422780736231 and parameters: {'algorithm': 'SVD', 'n_factors': 32, 'n_epochs': 44, 'lr_all': 0.014571686968998883, 'reg_all': 0.06665990968370328}. Best is trial 726 with value: 0.9152262212548059.\n",
            "[I 2024-09-02 15:46:54,091] Trial 924 finished with value: 0.9290198641757973 and parameters: {'algorithm': 'SVD', 'n_factors': 27, 'n_epochs': 48, 'lr_all': 0.018136557036338295, 'reg_all': 0.07925086645744002}. Best is trial 726 with value: 0.9152262212548059.\n",
            "[I 2024-09-02 15:46:54,593] Trial 925 finished with value: 1.0897406350879917 and parameters: {'algorithm': 'SVD', 'n_factors': 32, 'n_epochs': 45, 'lr_all': 0.0001434112915824495, 'reg_all': 0.08832348608793142}. Best is trial 726 with value: 0.9152262212548059.\n",
            "[I 2024-09-02 15:46:55,011] Trial 926 finished with value: 0.9948569532481959 and parameters: {'algorithm': 'SVD', 'n_factors': 20, 'n_epochs': 49, 'lr_all': 0.02106479519184558, 'reg_all': 0.006911214374279412}. Best is trial 726 with value: 0.9152262212548059.\n",
            "[I 2024-09-02 15:46:55,472] Trial 927 finished with value: 0.9299852700829602 and parameters: {'algorithm': 'SVD', 'n_factors': 24, 'n_epochs': 50, 'lr_all': 0.009267771529902541, 'reg_all': 0.07260336748503321}. Best is trial 726 with value: 0.9152262212548059.\n",
            "[I 2024-09-02 15:46:55,922] Trial 928 finished with value: 0.9229621712389339 and parameters: {'algorithm': 'SVD', 'n_factors': 35, 'n_epochs': 46, 'lr_all': 0.01620287655047022, 'reg_all': 0.08725088728267184}. Best is trial 726 with value: 0.9152262212548059.\n",
            "[I 2024-09-02 15:46:56,370] Trial 929 finished with value: 0.9324413907619152 and parameters: {'algorithm': 'SVD', 'n_factors': 28, 'n_epochs': 47, 'lr_all': 0.01388468006556532, 'reg_all': 0.04556823233298839}. Best is trial 726 with value: 0.9152262212548059.\n"
          ]
        },
        {
          "output_type": "stream",
          "name": "stdout",
          "text": [
            "Computing the cosine similarity matrix...\n",
            "Done computing similarity matrix.\n"
          ]
        },
        {
          "output_type": "stream",
          "name": "stderr",
          "text": [
            "[I 2024-09-02 15:46:58,138] Trial 930 finished with value: 1.155645053971796 and parameters: {'algorithm': 'KNNBasic', 'k': 13, 'min_k': 4, 'name': 'cosine', 'user_based': True}. Best is trial 726 with value: 0.9152262212548059.\n",
            "[I 2024-09-02 15:46:58,624] Trial 931 finished with value: 0.9259798044690865 and parameters: {'algorithm': 'SVD', 'n_factors': 32, 'n_epochs': 50, 'lr_all': 0.011658186223668434, 'reg_all': 0.08870438354461005}. Best is trial 726 with value: 0.9152262212548059.\n",
            "[I 2024-09-02 15:46:59,034] Trial 932 finished with value: 0.9313618919524537 and parameters: {'algorithm': 'SVD', 'n_factors': 23, 'n_epochs': 44, 'lr_all': 0.005496185893975449, 'reg_all': 0.07687166442148297}. Best is trial 726 with value: 0.9152262212548059.\n",
            "[I 2024-09-02 15:46:59,495] Trial 933 finished with value: 0.920848018218758 and parameters: {'algorithm': 'SVD', 'n_factors': 27, 'n_epochs': 48, 'lr_all': 0.019048221711946787, 'reg_all': 0.09944880511597035}. Best is trial 726 with value: 0.9152262212548059.\n",
            "[I 2024-09-02 15:46:59,938] Trial 934 finished with value: 0.9294943656293904 and parameters: {'algorithm': 'SVD', 'n_factors': 34, 'n_epochs': 45, 'lr_all': 0.016323481031918084, 'reg_all': 0.06630211179815948}. Best is trial 726 with value: 0.9152262212548059.\n",
            "[I 2024-09-02 15:47:01,633] Trial 935 finished with value: 1.0134958712916073 and parameters: {'algorithm': 'CoClustering', 'n_cltr_u': 4, 'n_cltr_i': 4, 'n_epochs': 50}. Best is trial 726 with value: 0.9152262212548059.\n",
            "[I 2024-09-02 15:47:02,088] Trial 936 finished with value: 0.9271595293885645 and parameters: {'algorithm': 'SVD', 'n_factors': 30, 'n_epochs': 49, 'lr_all': 0.013330779015475015, 'reg_all': 0.08805765375886919}. Best is trial 726 with value: 0.9152262212548059.\n",
            "[I 2024-09-02 15:47:02,530] Trial 937 finished with value: 0.9237850409874198 and parameters: {'algorithm': 'SVD', 'n_factors': 23, 'n_epochs': 47, 'lr_all': 0.02036278100414604, 'reg_all': 0.08925088579725877}. Best is trial 726 with value: 0.9152262212548059.\n",
            "[I 2024-09-02 15:47:02,915] Trial 938 finished with value: 0.9269487863857304 and parameters: {'algorithm': 'SVD', 'n_factors': 20, 'n_epochs': 46, 'lr_all': 0.010528288544233865, 'reg_all': 0.07588629814175893}. Best is trial 726 with value: 0.9152262212548059.\n",
            "[I 2024-09-02 15:47:03,338] Trial 939 finished with value: 0.9296287529784003 and parameters: {'algorithm': 'SVD', 'n_factors': 26, 'n_epochs': 48, 'lr_all': 0.01771540872212558, 'reg_all': 0.05968421896447815}. Best is trial 726 with value: 0.9152262212548059.\n",
            "[I 2024-09-02 15:47:03,832] Trial 940 finished with value: 1.005730774582417 and parameters: {'algorithm': 'SVD', 'n_factors': 36, 'n_epochs': 49, 'lr_all': 0.015378033728491024, 'reg_all': 0.0013585160479945946}. Best is trial 726 with value: 0.9152262212548059.\n",
            "[I 2024-09-02 15:47:04,262] Trial 941 finished with value: 0.9226855249975457 and parameters: {'algorithm': 'SVD', 'n_factors': 30, 'n_epochs': 45, 'lr_all': 0.02198817982330746, 'reg_all': 0.09923469765708207}. Best is trial 726 with value: 0.9152262212548059.\n",
            "[I 2024-09-02 15:47:05,338] Trial 942 finished with value: 0.9279823628307792 and parameters: {'algorithm': 'SVD', 'n_factors': 109, 'n_epochs': 44, 'lr_all': 0.01225285558151921, 'reg_all': 0.0805440461308303}. Best is trial 726 with value: 0.9152262212548059.\n",
            "[I 2024-09-02 15:47:05,475] Trial 943 finished with value: 0.9351105913162996 and parameters: {'algorithm': 'BaselineOnly', 'method': 'als', 'reg_u': 0.0018264894529534705, 'reg_i': 1.447894824087317e-05}. Best is trial 726 with value: 0.9152262212548059.\n"
          ]
        },
        {
          "output_type": "stream",
          "name": "stdout",
          "text": [
            "Estimating biases using als...\n"
          ]
        },
        {
          "output_type": "stream",
          "name": "stderr",
          "text": [
            "[I 2024-09-02 15:47:06,229] Trial 944 finished with value: 0.9586522082069956 and parameters: {'algorithm': 'SVD', 'n_factors': 33, 'n_epochs': 50, 'lr_all': 0.002184738378724222, 'reg_all': 0.0887825920602101}. Best is trial 726 with value: 0.9152262212548059.\n",
            "[I 2024-09-02 15:47:06,947] Trial 945 finished with value: 0.9211811669690737 and parameters: {'algorithm': 'SVD', 'n_factors': 26, 'n_epochs': 49, 'lr_all': 0.013819607312777376, 'reg_all': 0.09954434236536239}. Best is trial 726 with value: 0.9152262212548059.\n",
            "[I 2024-09-02 15:47:07,453] Trial 946 finished with value: 0.9252729790616795 and parameters: {'algorithm': 'SVD', 'n_factors': 23, 'n_epochs': 46, 'lr_all': 0.018136373390271108, 'reg_all': 0.0776498115550441}. Best is trial 726 with value: 0.9152262212548059.\n",
            "[I 2024-09-02 15:47:07,900] Trial 947 finished with value: 0.9273368488381681 and parameters: {'algorithm': 'SVD', 'n_factors': 29, 'n_epochs': 48, 'lr_all': 0.021499922279384527, 'reg_all': 0.068675652966142}. Best is trial 726 with value: 0.9152262212548059.\n",
            "[I 2024-09-02 15:47:08,459] Trial 948 finished with value: 0.9981869937102555 and parameters: {'algorithm': 'SVD', 'n_factors': 36, 'n_epochs': 47, 'lr_all': 0.0009568878535823477, 'reg_all': 0.08807929438572076}. Best is trial 726 with value: 0.9152262212548059.\n",
            "[I 2024-09-02 15:47:08,936] Trial 949 finished with value: 0.9217776127309498 and parameters: {'algorithm': 'SVD', 'n_factors': 32, 'n_epochs': 50, 'lr_all': 0.015429155844709452, 'reg_all': 0.07736969837932842}. Best is trial 726 with value: 0.9152262212548059.\n",
            "[I 2024-09-02 15:47:09,349] Trial 950 finished with value: 0.9204644520943956 and parameters: {'algorithm': 'SVD', 'n_factors': 26, 'n_epochs': 45, 'lr_all': 0.018943895249858272, 'reg_all': 0.08856609452634462}. Best is trial 726 with value: 0.9152262212548059.\n",
            "[I 2024-09-02 15:47:09,926] Trial 951 finished with value: 0.9216744891282909 and parameters: {'algorithm': 'SVD', 'n_factors': 62, 'n_epochs': 49, 'lr_all': 0.010707372983966481, 'reg_all': 0.0998747304930848}. Best is trial 726 with value: 0.9152262212548059.\n",
            "[I 2024-09-02 15:47:10,403] Trial 952 finished with value: 0.9212827577901423 and parameters: {'algorithm': 'SVD', 'n_factors': 37, 'n_epochs': 48, 'lr_all': 0.016392222851942053, 'reg_all': 0.09965669287270375}. Best is trial 726 with value: 0.9152262212548059.\n",
            "[I 2024-09-02 15:47:10,816] Trial 953 finished with value: 0.9242873911663684 and parameters: {'algorithm': 'SVD', 'n_factors': 20, 'n_epochs': 50, 'lr_all': 0.012872211162312143, 'reg_all': 0.06954243701398446}. Best is trial 726 with value: 0.9152262212548059.\n",
            "[I 2024-09-02 15:47:11,228] Trial 954 finished with value: 0.929004892406362 and parameters: {'algorithm': 'SVD', 'n_factors': 29, 'n_epochs': 44, 'lr_all': 0.008523468541061063, 'reg_all': 0.0815850586722195}. Best is trial 726 with value: 0.9152262212548059.\n"
          ]
        },
        {
          "output_type": "stream",
          "name": "stdout",
          "text": [
            "Computing the pearson similarity matrix...\n",
            "Done computing similarity matrix.\n"
          ]
        },
        {
          "output_type": "stream",
          "name": "stderr",
          "text": [
            "[I 2024-09-02 15:47:11,526] Trial 955 finished with value: 1.0237378322717592 and parameters: {'algorithm': 'KNNBasic', 'k': 35, 'min_k': 1, 'name': 'pearson', 'user_based': False}. Best is trial 726 with value: 0.9152262212548059.\n",
            "[I 2024-09-02 15:47:11,733] Trial 956 finished with value: 0.9312305524926815 and parameters: {'algorithm': 'SVD', 'n_factors': 23, 'n_epochs': 12, 'lr_all': 0.02155185386033317, 'reg_all': 0.05699755705068856}. Best is trial 726 with value: 0.9152262212548059.\n",
            "[I 2024-09-02 15:47:12,182] Trial 957 finished with value: 0.9222131304227418 and parameters: {'algorithm': 'SVD', 'n_factors': 33, 'n_epochs': 46, 'lr_all': 0.014069527104662097, 'reg_all': 0.08884926244472928}. Best is trial 726 with value: 0.9152262212548059.\n",
            "[I 2024-09-02 15:47:12,604] Trial 958 finished with value: 0.922918238759317 and parameters: {'algorithm': 'SVD', 'n_factors': 27, 'n_epochs': 47, 'lr_all': 0.01760107270258242, 'reg_all': 0.07800566247092447}. Best is trial 726 with value: 0.9152262212548059.\n",
            "[I 2024-09-02 15:47:14,687] Trial 959 finished with value: 1.0289370202090433 and parameters: {'algorithm': 'CoClustering', 'n_cltr_u': 9, 'n_cltr_i': 9, 'n_epochs': 50}. Best is trial 726 with value: 0.9152262212548059.\n",
            "[I 2024-09-02 15:47:15,126] Trial 960 finished with value: 0.9195515579227714 and parameters: {'algorithm': 'SVD', 'n_factors': 31, 'n_epochs': 48, 'lr_all': 0.012406775454403437, 'reg_all': 0.0999862393565535}. Best is trial 726 with value: 0.9152262212548059.\n",
            "[I 2024-09-02 15:47:15,534] Trial 961 finished with value: 0.927719999192397 and parameters: {'algorithm': 'SVD', 'n_factors': 23, 'n_epochs': 49, 'lr_all': 0.015222250263150633, 'reg_all': 0.06799689460778481}. Best is trial 726 with value: 0.9152262212548059.\n",
            "[I 2024-09-02 15:47:15,980] Trial 962 finished with value: 0.9249208648096982 and parameters: {'algorithm': 'SVD', 'n_factors': 38, 'n_epochs': 45, 'lr_all': 0.02131468259228385, 'reg_all': 0.0873013634043631}. Best is trial 726 with value: 0.9152262212548059.\n",
            "[I 2024-09-02 15:47:16,629] Trial 963 finished with value: 0.9279011061621553 and parameters: {'algorithm': 'SVD', 'n_factors': 95, 'n_epochs': 46, 'lr_all': 0.010030531168133135, 'reg_all': 0.0787934419997633}. Best is trial 726 with value: 0.9152262212548059.\n",
            "[I 2024-09-02 15:47:17,072] Trial 964 finished with value: 0.9211739011612634 and parameters: {'algorithm': 'SVD', 'n_factors': 28, 'n_epochs': 47, 'lr_all': 0.019062196034077106, 'reg_all': 0.08888791222840621}. Best is trial 726 with value: 0.9152262212548059.\n",
            "[I 2024-09-02 15:47:17,374] Trial 965 finished with value: 0.9302491596445099 and parameters: {'algorithm': 'SVD', 'n_factors': 34, 'n_epochs': 17, 'lr_all': 0.016610943577371997, 'reg_all': 0.07349395036300675}. Best is trial 726 with value: 0.9152262212548059.\n",
            "[I 2024-09-02 15:47:18,750] Trial 966 finished with value: 0.9233334054783611 and parameters: {'algorithm': 'SVD', 'n_factors': 148, 'n_epochs': 49, 'lr_all': 0.013963137886953724, 'reg_all': 0.09929108717315134}. Best is trial 726 with value: 0.9152262212548059.\n",
            "[I 2024-09-02 15:47:19,384] Trial 967 finished with value: 0.9259069381860145 and parameters: {'algorithm': 'SVD', 'n_factors': 20, 'n_epochs': 44, 'lr_all': 0.02143011610971714, 'reg_all': 0.08597138108240235}. Best is trial 726 with value: 0.9152262212548059.\n",
            "[I 2024-09-02 15:47:19,622] Trial 968 finished with value: 0.9594124318030148 and parameters: {'algorithm': 'BaselineOnly', 'method': 'sgd', 'reg_u': 0.024426181937324765, 'reg_i': 2.8389280415388083e-05}. Best is trial 726 with value: 0.9152262212548059.\n"
          ]
        },
        {
          "output_type": "stream",
          "name": "stdout",
          "text": [
            "Estimating biases using sgd...\n"
          ]
        },
        {
          "output_type": "stream",
          "name": "stderr",
          "text": [
            "[I 2024-09-02 15:47:20,443] Trial 969 finished with value: 0.9299968221713051 and parameters: {'algorithm': 'SVD', 'n_factors': 71, 'n_epochs': 50, 'lr_all': 0.012336888881054229, 'reg_all': 0.06200975458474044}. Best is trial 726 with value: 0.9152262212548059.\n",
            "[I 2024-09-02 15:47:20,893] Trial 970 finished with value: 0.9542422845448314 and parameters: {'algorithm': 'SVD', 'n_factors': 30, 'n_epochs': 48, 'lr_all': 0.002470579877535232, 'reg_all': 0.09982270350960787}. Best is trial 726 with value: 0.9152262212548059.\n",
            "[I 2024-09-02 15:47:21,234] Trial 971 finished with value: 0.9239398983649095 and parameters: {'algorithm': 'SVD', 'n_factors': 25, 'n_epochs': 34, 'lr_all': 0.018406422027232233, 'reg_all': 0.08184945225951634}. Best is trial 726 with value: 0.9152262212548059.\n",
            "[I 2024-09-02 15:47:21,707] Trial 972 finished with value: 0.9259457079160156 and parameters: {'algorithm': 'SVD', 'n_factors': 36, 'n_epochs': 49, 'lr_all': 0.01565235515829421, 'reg_all': 0.07079498522628852}. Best is trial 726 with value: 0.9152262212548059.\n",
            "[I 2024-09-02 15:47:22,112] Trial 973 finished with value: 0.9345802455508655 and parameters: {'algorithm': 'SVD', 'n_factors': 27, 'n_epochs': 45, 'lr_all': 0.0222011956947583, 'reg_all': 0.05238431717569028}. Best is trial 726 with value: 0.9152262212548059.\n",
            "[I 2024-09-02 15:47:22,555] Trial 974 finished with value: 0.9662977714237434 and parameters: {'algorithm': 'SVD', 'n_factors': 32, 'n_epochs': 47, 'lr_all': 0.011244009114004841, 'reg_all': 0.015375712361757738}. Best is trial 726 with value: 0.9152262212548059.\n",
            "[I 2024-09-02 15:47:22,944] Trial 975 finished with value: 0.9210873027614831 and parameters: {'algorithm': 'SVD', 'n_factors': 23, 'n_epochs': 46, 'lr_all': 0.014339690027106394, 'reg_all': 0.08879408941149762}. Best is trial 726 with value: 0.9152262212548059.\n",
            "[I 2024-09-02 15:47:23,442] Trial 976 finished with value: 0.9248858111093553 and parameters: {'algorithm': 'SVD', 'n_factors': 37, 'n_epochs': 50, 'lr_all': 0.017852105618953496, 'reg_all': 0.07826731163878657}. Best is trial 726 with value: 0.9152262212548059.\n",
            "[I 2024-09-02 15:47:24,402] Trial 977 finished with value: 0.9261898086807094 and parameters: {'algorithm': 'SVD', 'n_factors': 181, 'n_epochs': 48, 'lr_all': 0.016024769536476042, 'reg_all': 0.08959966917916962}. Best is trial 726 with value: 0.9152262212548059.\n"
          ]
        },
        {
          "output_type": "stream",
          "name": "stdout",
          "text": [
            "Computing the cosine similarity matrix...\n"
          ]
        },
        {
          "output_type": "stream",
          "name": "stderr",
          "text": [
            "[I 2024-09-02 15:47:26,142] Trial 978 finished with value: 1.1323291172452192 and parameters: {'algorithm': 'KNNBasic', 'k': 19, 'min_k': 2, 'name': 'cosine', 'user_based': True}. Best is trial 726 with value: 0.9152262212548059.\n",
            "[I 2024-09-02 15:47:26,727] Trial 979 finished with value: 0.9318866290571344 and parameters: {'algorithm': 'SVD', 'n_factors': 30, 'n_epochs': 50, 'lr_all': 0.02030274536853601, 'reg_all': 0.06392932181646338}. Best is trial 726 with value: 0.9152262212548059.\n",
            "[I 2024-09-02 15:47:27,146] Trial 980 finished with value: 0.9198679438614883 and parameters: {'algorithm': 'SVD', 'n_factors': 26, 'n_epochs': 46, 'lr_all': 0.012282954728762013, 'reg_all': 0.09992275508720494}. Best is trial 726 with value: 0.9152262212548059.\n",
            "[I 2024-09-02 15:47:27,637] Trial 981 finished with value: 0.9263012148489096 and parameters: {'algorithm': 'SVD', 'n_factors': 34, 'n_epochs': 49, 'lr_all': 0.02291450420107423, 'reg_all': 0.08028410008277821}. Best is trial 726 with value: 0.9152262212548059.\n",
            "[I 2024-09-02 15:47:28,044] Trial 982 finished with value: 0.9222497189339162 and parameters: {'algorithm': 'SVD', 'n_factors': 23, 'n_epochs': 47, 'lr_all': 0.009440360982416825, 'reg_all': 0.09995209002065472}. Best is trial 726 with value: 0.9152262212548059.\n",
            "[I 2024-09-02 15:47:30,008] Trial 983 finished with value: 1.0202674476647369 and parameters: {'algorithm': 'CoClustering', 'n_cltr_u': 5, 'n_cltr_i': 10, 'n_epochs': 50}. Best is trial 726 with value: 0.9152262212548059.\n",
            "[I 2024-09-02 15:47:30,781] Trial 984 finished with value: 0.9321646345298041 and parameters: {'algorithm': 'SVD', 'n_factors': 59, 'n_epochs': 45, 'lr_all': 0.007002611836190173, 'reg_all': 0.0860498565806506}. Best is trial 726 with value: 0.9152262212548059.\n",
            "[I 2024-09-02 15:47:31,970] Trial 985 finished with value: 0.9277968727020888 and parameters: {'algorithm': 'SVD', 'n_factors': 137, 'n_epochs': 44, 'lr_all': 0.014588379803153062, 'reg_all': 0.07319325291817587}. Best is trial 726 with value: 0.9152262212548059.\n",
            "[I 2024-09-02 15:47:32,705] Trial 986 finished with value: 0.925594647739149 and parameters: {'algorithm': 'SVD', 'n_factors': 29, 'n_epochs': 49, 'lr_all': 0.018925447264735332, 'reg_all': 0.08884216967534461}. Best is trial 726 with value: 0.9152262212548059.\n",
            "[I 2024-09-02 15:47:33,200] Trial 987 finished with value: 0.9301634897870595 and parameters: {'algorithm': 'SVD', 'n_factors': 20, 'n_epochs': 48, 'lr_all': 0.01673241990404534, 'reg_all': 0.07295030678988136}. Best is trial 726 with value: 0.9152262212548059.\n",
            "[I 2024-09-02 15:47:33,667] Trial 988 finished with value: 0.9214796645426646 and parameters: {'algorithm': 'SVD', 'n_factors': 33, 'n_epochs': 47, 'lr_all': 0.014383594478149644, 'reg_all': 0.08902189570589827}. Best is trial 726 with value: 0.9152262212548059.\n",
            "[I 2024-09-02 15:47:34,409] Trial 989 finished with value: 0.9234465570064773 and parameters: {'algorithm': 'SVD', 'n_factors': 129, 'n_epochs': 45, 'lr_all': 0.01083475165883922, 'reg_all': 0.09909360822281763}. Best is trial 726 with value: 0.9152262212548059.\n",
            "[I 2024-09-02 15:47:34,900] Trial 990 finished with value: 0.9669310082858715 and parameters: {'algorithm': 'SVD', 'n_factors': 38, 'n_epochs': 49, 'lr_all': 0.022245353773386874, 'reg_all': 0.010150192845408433}. Best is trial 726 with value: 0.9152262212548059.\n",
            "[I 2024-09-02 15:47:34,981] Trial 991 finished with value: 0.9346110419854076 and parameters: {'algorithm': 'BaselineOnly', 'method': 'als', 'reg_u': 1.4686476024698798e-05, 'reg_i': 0.028265369873133182}. Best is trial 726 with value: 0.9152262212548059.\n"
          ]
        },
        {
          "output_type": "stream",
          "name": "stdout",
          "text": [
            "Done computing similarity matrix.\n",
            "Estimating biases using als...\n"
          ]
        },
        {
          "output_type": "stream",
          "name": "stderr",
          "text": [
            "[I 2024-09-02 15:47:35,420] Trial 992 finished with value: 0.9259184340197685 and parameters: {'algorithm': 'SVD', 'n_factors': 26, 'n_epochs': 50, 'lr_all': 0.013180034416261616, 'reg_all': 0.07650224451045472}. Best is trial 726 with value: 0.9152262212548059.\n",
            "[I 2024-09-02 15:47:35,867] Trial 993 finished with value: 0.9227950319598682 and parameters: {'algorithm': 'SVD', 'n_factors': 30, 'n_epochs': 46, 'lr_all': 0.01923327966202463, 'reg_all': 0.09934170829033849}. Best is trial 726 with value: 0.9152262212548059.\n",
            "[I 2024-09-02 15:47:36,008] Trial 994 finished with value: 1.130325814702732 and parameters: {'algorithm': 'SVD', 'n_factors': 25, 'n_epochs': 5, 'lr_all': 0.00047868467336446716, 'reg_all': 0.08156625661961513}. Best is trial 726 with value: 0.9152262212548059.\n",
            "[I 2024-09-02 15:47:36,482] Trial 995 finished with value: 0.9324232659880678 and parameters: {'algorithm': 'SVD', 'n_factors': 34, 'n_epochs': 48, 'lr_all': 0.01686911826429779, 'reg_all': 0.06374369410446915}. Best is trial 726 with value: 0.9152262212548059.\n",
            "[I 2024-09-02 15:47:36,894] Trial 996 finished with value: 0.9245959695966753 and parameters: {'algorithm': 'SVD', 'n_factors': 28, 'n_epochs': 44, 'lr_all': 0.023350412665415814, 'reg_all': 0.08826679258597622}. Best is trial 726 with value: 0.9152262212548059.\n",
            "[I 2024-09-02 15:47:37,364] Trial 997 finished with value: 0.9189659977426831 and parameters: {'algorithm': 'SVD', 'n_factors': 38, 'n_epochs': 49, 'lr_all': 0.012145545985090062, 'reg_all': 0.08884525610526876}. Best is trial 726 with value: 0.9152262212548059.\n",
            "[I 2024-09-02 15:47:37,846] Trial 998 finished with value: 0.9260782357154728 and parameters: {'algorithm': 'SVD', 'n_factors': 36, 'n_epochs': 49, 'lr_all': 0.008573728032854914, 'reg_all': 0.06707290621950579}. Best is trial 726 with value: 0.9152262212548059.\n",
            "[I 2024-09-02 15:47:38,627] Trial 999 finished with value: 0.9284761370984869 and parameters: {'algorithm': 'SVD', 'n_factors': 119, 'n_epochs': 48, 'lr_all': 0.010429389783266732, 'reg_all': 0.0703702434887848}. Best is trial 726 with value: 0.9152262212548059.\n"
          ]
        }
      ]
    },
    {
      "cell_type": "code",
      "source": [
        "study.best_params"
      ],
      "metadata": {
        "id": "ar733eQUW-I4",
        "outputId": "57cda28e-ba97-461e-c954-90dc228a49e0",
        "colab": {
          "base_uri": "https://localhost:8080/"
        }
      },
      "execution_count": 31,
      "outputs": [
        {
          "output_type": "execute_result",
          "data": {
            "text/plain": [
              "{'algorithm': 'SVD',\n",
              " 'n_factors': 31,\n",
              " 'n_epochs': 45,\n",
              " 'lr_all': 0.013616794184574305,\n",
              " 'reg_all': 0.09979059294555132}"
            ]
          },
          "metadata": {},
          "execution_count": 31
        }
      ]
    },
    {
      "cell_type": "code",
      "source": [
        "best_params = study.best_params\n",
        "\n",
        "best_algorithm = best_params['algorithm']\n",
        "\n",
        "if best_algorithm == 'BaselineOnly':\n",
        "    bsl_options = {\n",
        "        'method': best_params['method'],\n",
        "        'reg_u': best_params['reg_u'],\n",
        "        'reg_i': best_params['reg_i']\n",
        "    }\n",
        "    final_algo = BaselineOnly(bsl_options=bsl_options)\n",
        "\n",
        "elif best_algorithm == 'SVD':\n",
        "    final_algo = SVD(\n",
        "        n_factors=best_params['n_factors'],\n",
        "        n_epochs=best_params['n_epochs'],\n",
        "        lr_all=best_params['lr_all'],\n",
        "        reg_all=best_params['reg_all']\n",
        "    )\n",
        "\n",
        "elif best_algorithm == 'KNNBasic':\n",
        "    sim_options = {\n",
        "        'name': best_params['name'],\n",
        "        'user_based': best_params['user_based']\n",
        "    }\n",
        "    final_algo = KNNBasic(\n",
        "        k=best_params['k'],\n",
        "        min_k=best_params['min_k'],\n",
        "        sim_options=sim_options\n",
        "    )\n",
        "\n",
        "elif best_algorithm == 'CoClustering':\n",
        "    final_algo = CoClustering(\n",
        "        n_cltr_u=best_params['n_cltr_u'],\n",
        "        n_cltr_i=best_params['n_cltr_i'],\n",
        "        n_epochs=best_params['n_epochs']\n",
        "    )\n",
        "\n",
        "final_algo.fit(trainset)\n",
        "\n",
        "final_predictions = final_algo.test(testset)\n",
        "\n",
        "print(f\"mae = {accuracy.mae(final_predictions, verbose=False)}\")\n",
        "print(f\"mse = {accuracy.mse(final_predictions, verbose=False)}\")\n",
        "print(f\"rmse= {accuracy.rmse(final_predictions, verbose=False)}\")\n",
        "print(f\"fcp = {accuracy.fcp(final_predictions, verbose=False)}\")"
      ],
      "metadata": {
        "id": "IGJvwVApYQeQ",
        "outputId": "c0332733-a5d2-420a-ef35-4769aab52ad7",
        "colab": {
          "base_uri": "https://localhost:8080/"
        }
      },
      "execution_count": 32,
      "outputs": [
        {
          "output_type": "stream",
          "name": "stdout",
          "text": [
            "mae = 0.69117038385164\n",
            "mse = 0.8511011915170846\n",
            "rmse= 0.9225514573816924\n",
            "fcp = 0.6398318158635935\n"
          ]
        }
      ]
    },
    {
      "cell_type": "code",
      "source": [],
      "metadata": {
        "id": "3hCYNyXfYhyj"
      },
      "execution_count": null,
      "outputs": []
    }
  ]
}