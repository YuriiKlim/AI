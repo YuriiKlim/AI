{
  "nbformat": 4,
  "nbformat_minor": 0,
  "metadata": {
    "colab": {
      "provenance": [],
      "include_colab_link": true
    },
    "kernelspec": {
      "name": "python3",
      "display_name": "Python 3"
    },
    "language_info": {
      "name": "python"
    }
  },
  "cells": [
    {
      "cell_type": "markdown",
      "metadata": {
        "id": "view-in-github",
        "colab_type": "text"
      },
      "source": [
        "<a href=\"https://colab.research.google.com/github/YuriiKlim/AI/blob/Text_neural1/NLTK_HW.ipynb\" target=\"_parent\"><img src=\"https://colab.research.google.com/assets/colab-badge.svg\" alt=\"Open In Colab\"/></a>"
      ]
    },
    {
      "cell_type": "markdown",
      "source": [
        "# Завдання 1\n",
        "Напишіть функцію, яка повертає список фраз з тексту, які відповідають певному шоблону. При необхідності можете добавити власні параметри.\n",
        "\n",
        "Протестуйте функцію на якомусь тексті."
      ],
      "metadata": {
        "id": "D56Rwjf4EXC_"
      }
    },
    {
      "cell_type": "code",
      "source": [
        "import nltk\n",
        "from nltk import RegexpParser\n",
        "from nltk.tokenize import word_tokenize"
      ],
      "metadata": {
        "id": "goxuql8nGX-A"
      },
      "execution_count": 2,
      "outputs": []
    },
    {
      "cell_type": "code",
      "source": [
        "def get_phrases(text, regex, tag_name):\n",
        "    \"\"\"\n",
        "    Return list of phrases from text that matches regex\n",
        "\n",
        "    Params:\n",
        "        text: str - original text\n",
        "        regex: str - regular expression\n",
        "        tag_name: str - tag name that is used in nltk tree\n",
        "\n",
        "    Return:\n",
        "        phrases: list[str] - list of phrases\n",
        "    \"\"\"\n",
        "    words = word_tokenize(text)\n",
        "\n",
        "    tagged_words = nltk.pos_tag(words)\n",
        "\n",
        "    grammar = f\"\"\"\n",
        "        {tag_name}: {regex}\n",
        "    \"\"\"\n",
        "    parser = RegexpParser(grammar)\n",
        "\n",
        "    parsed_text = parser.parse(tagged_words)\n",
        "\n",
        "    phrases = []\n",
        "    for subtree in parsed_text.subtrees():\n",
        "        if subtree.label() == tag_name:\n",
        "            phrase = \" \".join([word for word, tag in subtree.leaves()])\n",
        "            phrases.append(phrase)\n",
        "\n",
        "    return phrases\n",
        "\n",
        "text = \"The quick brown fox jumps over the lazy dog. She runs quickly and plays happily.\"\n",
        "\n",
        "adjective_noun_phrases = get_phrases(text, r\"{<JJ.*><NN|NNS>}\", \"ADJ_NOUN\")\n",
        "verb_adverb_phrases = get_phrases(text, r\"{<VB.><RB>}\", \"VERB_ADV\")\n",
        "\n",
        "print(\"ADJ_NOUN:\", adjective_noun_phrases)\n",
        "print(\"VERB_ADV:\", verb_adverb_phrases)"
      ],
      "metadata": {
        "id": "dVV8NeoOE1Ax",
        "outputId": "837cb42c-7296-4a1c-ec2a-23beb384ff04",
        "colab": {
          "base_uri": "https://localhost:8080/"
        }
      },
      "execution_count": 3,
      "outputs": [
        {
          "output_type": "stream",
          "name": "stdout",
          "text": [
            "ADJ_NOUN: ['quick brown', 'lazy dog']\n",
            "VERB_ADV: ['runs quickly', 'plays happily']\n"
          ]
        }
      ]
    }
  ]
}