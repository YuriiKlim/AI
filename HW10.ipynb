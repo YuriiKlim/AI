{
 "cells": [
  {
   "cell_type": "code",
   "execution_count": 1,
   "id": "90004afb",
   "metadata": {
    "_cell_guid": "b1076dfc-b9ad-4769-8c92-a6c4dae69d19",
    "_uuid": "8f2839f25d086af736a60e9eeb907d3b93b6e0e5",
    "execution": {
     "iopub.execute_input": "2024-07-15T17:22:32.884440Z",
     "iopub.status.busy": "2024-07-15T17:22:32.883515Z",
     "iopub.status.idle": "2024-07-15T17:22:37.075910Z",
     "shell.execute_reply": "2024-07-15T17:22:37.074297Z"
    },
    "papermill": {
     "duration": 4.206396,
     "end_time": "2024-07-15T17:22:37.078660",
     "exception": false,
     "start_time": "2024-07-15T17:22:32.872264",
     "status": "completed"
    },
    "tags": []
   },
   "outputs": [
    {
     "name": "stdout",
     "output_type": "stream",
     "text": [
      "/kaggle/input/playground-series-s3e25/sample_submission.csv\n",
      "/kaggle/input/playground-series-s3e25/train.csv\n",
      "/kaggle/input/playground-series-s3e25/test.csv\n"
     ]
    }
   ],
   "source": [
    "# This Python 3 environment comes with many helpful analytics libraries installed\n",
    "# It is defined by the kaggle/python Docker image: https://github.com/kaggle/docker-python\n",
    "# For example, here's several helpful packages to load\n",
    "\n",
    "import pandas as pd\n",
    "from sklearn.compose import ColumnTransformer\n",
    "from sklearn.pipeline import Pipeline\n",
    "from sklearn.impute import SimpleImputer\n",
    "from sklearn.preprocessing import OneHotEncoder\n",
    "from sklearn.model_selection import train_test_split\n",
    "import numpy as np\n",
    "import matplotlib.pyplot as plt\n",
    "from sklearn import model_selection, metrics\n",
    "import lightgbm as lgb\n",
    "from sklearn.preprocessing import OrdinalEncoder\n",
    "import joblib\n",
    "import optuna\n",
    "from sklearn.linear_model import LinearRegression\n",
    "from sklearn.tree import DecisionTreeRegressor\n",
    "\n",
    "# Input data files are available in the read-only \"../input/\" directory\n",
    "# For example, running this (by clicking run or pressing Shift+Enter) will list all files under the input directory\n",
    "\n",
    "import os\n",
    "for dirname, _, filenames in os.walk('/kaggle/input'):\n",
    "    for filename in filenames:\n",
    "        print(os.path.join(dirname, filename))\n",
    "\n",
    "# You can write up to 20GB to the current directory (/kaggle/working/) that gets preserved as output when you create a version using \"Save & Run All\" \n",
    "# You can also write temporary files to /kaggle/temp/, but they won't be saved outside of the current session"
   ]
  },
  {
   "cell_type": "code",
   "execution_count": 2,
   "id": "d422f821",
   "metadata": {
    "execution": {
     "iopub.execute_input": "2024-07-15T17:22:37.099994Z",
     "iopub.status.busy": "2024-07-15T17:22:37.098562Z",
     "iopub.status.idle": "2024-07-15T17:22:37.159541Z",
     "shell.execute_reply": "2024-07-15T17:22:37.158166Z"
    },
    "papermill": {
     "duration": 0.07454,
     "end_time": "2024-07-15T17:22:37.162587",
     "exception": false,
     "start_time": "2024-07-15T17:22:37.088047",
     "status": "completed"
    },
    "tags": []
   },
   "outputs": [],
   "source": [
    "df=pd.read_csv('/kaggle/input/playground-series-s3e25/train.csv')"
   ]
  },
  {
   "cell_type": "code",
   "execution_count": 3,
   "id": "d629fcbf",
   "metadata": {
    "execution": {
     "iopub.execute_input": "2024-07-15T17:22:37.183695Z",
     "iopub.status.busy": "2024-07-15T17:22:37.183274Z",
     "iopub.status.idle": "2024-07-15T17:22:37.199299Z",
     "shell.execute_reply": "2024-07-15T17:22:37.198254Z"
    },
    "papermill": {
     "duration": 0.029489,
     "end_time": "2024-07-15T17:22:37.202085",
     "exception": false,
     "start_time": "2024-07-15T17:22:37.172596",
     "status": "completed"
    },
    "tags": []
   },
   "outputs": [],
   "source": [
    "df = df.drop(columns=['id'])"
   ]
  },
  {
   "cell_type": "code",
   "execution_count": 4,
   "id": "a0cbc83b",
   "metadata": {
    "execution": {
     "iopub.execute_input": "2024-07-15T17:22:37.222332Z",
     "iopub.status.busy": "2024-07-15T17:22:37.221905Z",
     "iopub.status.idle": "2024-07-15T17:22:37.255754Z",
     "shell.execute_reply": "2024-07-15T17:22:37.254640Z"
    },
    "papermill": {
     "duration": 0.04725,
     "end_time": "2024-07-15T17:22:37.258767",
     "exception": false,
     "start_time": "2024-07-15T17:22:37.211517",
     "status": "completed"
    },
    "tags": []
   },
   "outputs": [
    {
     "data": {
      "text/html": [
       "<div>\n",
       "<style scoped>\n",
       "    .dataframe tbody tr th:only-of-type {\n",
       "        vertical-align: middle;\n",
       "    }\n",
       "\n",
       "    .dataframe tbody tr th {\n",
       "        vertical-align: top;\n",
       "    }\n",
       "\n",
       "    .dataframe thead th {\n",
       "        text-align: right;\n",
       "    }\n",
       "</style>\n",
       "<table border=\"1\" class=\"dataframe\">\n",
       "  <thead>\n",
       "    <tr style=\"text-align: right;\">\n",
       "      <th></th>\n",
       "      <th>allelectrons_Total</th>\n",
       "      <th>density_Total</th>\n",
       "      <th>allelectrons_Average</th>\n",
       "      <th>val_e_Average</th>\n",
       "      <th>atomicweight_Average</th>\n",
       "      <th>ionenergy_Average</th>\n",
       "      <th>el_neg_chi_Average</th>\n",
       "      <th>R_vdw_element_Average</th>\n",
       "      <th>R_cov_element_Average</th>\n",
       "      <th>zaratio_Average</th>\n",
       "      <th>density_Average</th>\n",
       "      <th>Hardness</th>\n",
       "    </tr>\n",
       "  </thead>\n",
       "  <tbody>\n",
       "    <tr>\n",
       "      <th>0</th>\n",
       "      <td>100.0</td>\n",
       "      <td>0.841611</td>\n",
       "      <td>10.000000</td>\n",
       "      <td>4.800000</td>\n",
       "      <td>20.612526</td>\n",
       "      <td>11.088100</td>\n",
       "      <td>2.766000</td>\n",
       "      <td>1.732000</td>\n",
       "      <td>0.860000</td>\n",
       "      <td>0.496070</td>\n",
       "      <td>0.91457</td>\n",
       "      <td>6.0</td>\n",
       "    </tr>\n",
       "    <tr>\n",
       "      <th>1</th>\n",
       "      <td>100.0</td>\n",
       "      <td>7.558488</td>\n",
       "      <td>10.000000</td>\n",
       "      <td>4.800000</td>\n",
       "      <td>20.298893</td>\n",
       "      <td>12.040830</td>\n",
       "      <td>2.755000</td>\n",
       "      <td>1.631000</td>\n",
       "      <td>0.910000</td>\n",
       "      <td>0.492719</td>\n",
       "      <td>0.71760</td>\n",
       "      <td>6.5</td>\n",
       "    </tr>\n",
       "    <tr>\n",
       "      <th>2</th>\n",
       "      <td>76.0</td>\n",
       "      <td>8.885992</td>\n",
       "      <td>15.600000</td>\n",
       "      <td>5.600000</td>\n",
       "      <td>33.739258</td>\n",
       "      <td>12.086300</td>\n",
       "      <td>2.828000</td>\n",
       "      <td>1.788000</td>\n",
       "      <td>0.864000</td>\n",
       "      <td>0.481478</td>\n",
       "      <td>1.50633</td>\n",
       "      <td>2.5</td>\n",
       "    </tr>\n",
       "    <tr>\n",
       "      <th>3</th>\n",
       "      <td>100.0</td>\n",
       "      <td>8.795296</td>\n",
       "      <td>10.000000</td>\n",
       "      <td>4.800000</td>\n",
       "      <td>20.213349</td>\n",
       "      <td>10.948500</td>\n",
       "      <td>2.648000</td>\n",
       "      <td>1.626000</td>\n",
       "      <td>0.936000</td>\n",
       "      <td>0.489272</td>\n",
       "      <td>0.78937</td>\n",
       "      <td>6.0</td>\n",
       "    </tr>\n",
       "    <tr>\n",
       "      <th>4</th>\n",
       "      <td>116.0</td>\n",
       "      <td>9.577996</td>\n",
       "      <td>11.600000</td>\n",
       "      <td>4.800000</td>\n",
       "      <td>24.988133</td>\n",
       "      <td>11.824480</td>\n",
       "      <td>2.766000</td>\n",
       "      <td>1.682000</td>\n",
       "      <td>0.896000</td>\n",
       "      <td>0.492736</td>\n",
       "      <td>1.86481</td>\n",
       "      <td>6.0</td>\n",
       "    </tr>\n",
       "    <tr>\n",
       "      <th>...</th>\n",
       "      <td>...</td>\n",
       "      <td>...</td>\n",
       "      <td>...</td>\n",
       "      <td>...</td>\n",
       "      <td>...</td>\n",
       "      <td>...</td>\n",
       "      <td>...</td>\n",
       "      <td>...</td>\n",
       "      <td>...</td>\n",
       "      <td>...</td>\n",
       "      <td>...</td>\n",
       "      <td>...</td>\n",
       "    </tr>\n",
       "    <tr>\n",
       "      <th>10402</th>\n",
       "      <td>128.0</td>\n",
       "      <td>7.558488</td>\n",
       "      <td>12.000000</td>\n",
       "      <td>4.000000</td>\n",
       "      <td>26.385218</td>\n",
       "      <td>11.330440</td>\n",
       "      <td>2.644000</td>\n",
       "      <td>1.631000</td>\n",
       "      <td>0.892000</td>\n",
       "      <td>0.496070</td>\n",
       "      <td>1.79607</td>\n",
       "      <td>4.0</td>\n",
       "    </tr>\n",
       "    <tr>\n",
       "      <th>10403</th>\n",
       "      <td>30.0</td>\n",
       "      <td>1.743160</td>\n",
       "      <td>10.000000</td>\n",
       "      <td>5.333333</td>\n",
       "      <td>20.766935</td>\n",
       "      <td>14.163933</td>\n",
       "      <td>3.090000</td>\n",
       "      <td>1.556667</td>\n",
       "      <td>0.866667</td>\n",
       "      <td>0.480390</td>\n",
       "      <td>0.81480</td>\n",
       "      <td>5.0</td>\n",
       "    </tr>\n",
       "    <tr>\n",
       "      <th>10404</th>\n",
       "      <td>196.0</td>\n",
       "      <td>30.920000</td>\n",
       "      <td>24.500000</td>\n",
       "      <td>5.500000</td>\n",
       "      <td>53.490297</td>\n",
       "      <td>10.074300</td>\n",
       "      <td>2.295000</td>\n",
       "      <td>1.545000</td>\n",
       "      <td>1.120000</td>\n",
       "      <td>0.469715</td>\n",
       "      <td>2.11540</td>\n",
       "      <td>1.8</td>\n",
       "    </tr>\n",
       "    <tr>\n",
       "      <th>10405</th>\n",
       "      <td>38.0</td>\n",
       "      <td>1.553160</td>\n",
       "      <td>12.666667</td>\n",
       "      <td>4.666667</td>\n",
       "      <td>26.621687</td>\n",
       "      <td>11.290033</td>\n",
       "      <td>2.743333</td>\n",
       "      <td>1.756667</td>\n",
       "      <td>0.980000</td>\n",
       "      <td>0.486507</td>\n",
       "      <td>0.77755</td>\n",
       "      <td>6.0</td>\n",
       "    </tr>\n",
       "    <tr>\n",
       "      <th>10406</th>\n",
       "      <td>288.0</td>\n",
       "      <td>24.655328</td>\n",
       "      <td>11.142857</td>\n",
       "      <td>4.571429</td>\n",
       "      <td>22.536126</td>\n",
       "      <td>10.960357</td>\n",
       "      <td>2.792143</td>\n",
       "      <td>1.772857</td>\n",
       "      <td>0.940000</td>\n",
       "      <td>0.493919</td>\n",
       "      <td>0.97737</td>\n",
       "      <td>6.5</td>\n",
       "    </tr>\n",
       "  </tbody>\n",
       "</table>\n",
       "<p>10407 rows × 12 columns</p>\n",
       "</div>"
      ],
      "text/plain": [
       "       allelectrons_Total  density_Total  allelectrons_Average  val_e_Average  \\\n",
       "0                   100.0       0.841611             10.000000       4.800000   \n",
       "1                   100.0       7.558488             10.000000       4.800000   \n",
       "2                    76.0       8.885992             15.600000       5.600000   \n",
       "3                   100.0       8.795296             10.000000       4.800000   \n",
       "4                   116.0       9.577996             11.600000       4.800000   \n",
       "...                   ...            ...                   ...            ...   \n",
       "10402               128.0       7.558488             12.000000       4.000000   \n",
       "10403                30.0       1.743160             10.000000       5.333333   \n",
       "10404               196.0      30.920000             24.500000       5.500000   \n",
       "10405                38.0       1.553160             12.666667       4.666667   \n",
       "10406               288.0      24.655328             11.142857       4.571429   \n",
       "\n",
       "       atomicweight_Average  ionenergy_Average  el_neg_chi_Average  \\\n",
       "0                 20.612526          11.088100            2.766000   \n",
       "1                 20.298893          12.040830            2.755000   \n",
       "2                 33.739258          12.086300            2.828000   \n",
       "3                 20.213349          10.948500            2.648000   \n",
       "4                 24.988133          11.824480            2.766000   \n",
       "...                     ...                ...                 ...   \n",
       "10402             26.385218          11.330440            2.644000   \n",
       "10403             20.766935          14.163933            3.090000   \n",
       "10404             53.490297          10.074300            2.295000   \n",
       "10405             26.621687          11.290033            2.743333   \n",
       "10406             22.536126          10.960357            2.792143   \n",
       "\n",
       "       R_vdw_element_Average  R_cov_element_Average  zaratio_Average  \\\n",
       "0                   1.732000               0.860000         0.496070   \n",
       "1                   1.631000               0.910000         0.492719   \n",
       "2                   1.788000               0.864000         0.481478   \n",
       "3                   1.626000               0.936000         0.489272   \n",
       "4                   1.682000               0.896000         0.492736   \n",
       "...                      ...                    ...              ...   \n",
       "10402               1.631000               0.892000         0.496070   \n",
       "10403               1.556667               0.866667         0.480390   \n",
       "10404               1.545000               1.120000         0.469715   \n",
       "10405               1.756667               0.980000         0.486507   \n",
       "10406               1.772857               0.940000         0.493919   \n",
       "\n",
       "       density_Average  Hardness  \n",
       "0              0.91457       6.0  \n",
       "1              0.71760       6.5  \n",
       "2              1.50633       2.5  \n",
       "3              0.78937       6.0  \n",
       "4              1.86481       6.0  \n",
       "...                ...       ...  \n",
       "10402          1.79607       4.0  \n",
       "10403          0.81480       5.0  \n",
       "10404          2.11540       1.8  \n",
       "10405          0.77755       6.0  \n",
       "10406          0.97737       6.5  \n",
       "\n",
       "[10407 rows x 12 columns]"
      ]
     },
     "execution_count": 4,
     "metadata": {},
     "output_type": "execute_result"
    }
   ],
   "source": [
    "df"
   ]
  },
  {
   "cell_type": "code",
   "execution_count": 5,
   "id": "4be24585",
   "metadata": {
    "execution": {
     "iopub.execute_input": "2024-07-15T17:22:37.280427Z",
     "iopub.status.busy": "2024-07-15T17:22:37.280032Z",
     "iopub.status.idle": "2024-07-15T17:22:37.306543Z",
     "shell.execute_reply": "2024-07-15T17:22:37.304845Z"
    },
    "papermill": {
     "duration": 0.040931,
     "end_time": "2024-07-15T17:22:37.309456",
     "exception": false,
     "start_time": "2024-07-15T17:22:37.268525",
     "status": "completed"
    },
    "tags": []
   },
   "outputs": [
    {
     "name": "stdout",
     "output_type": "stream",
     "text": [
      "<class 'pandas.core.frame.DataFrame'>\n",
      "RangeIndex: 10407 entries, 0 to 10406\n",
      "Data columns (total 12 columns):\n",
      " #   Column                 Non-Null Count  Dtype  \n",
      "---  ------                 --------------  -----  \n",
      " 0   allelectrons_Total     10407 non-null  float64\n",
      " 1   density_Total          10407 non-null  float64\n",
      " 2   allelectrons_Average   10407 non-null  float64\n",
      " 3   val_e_Average          10407 non-null  float64\n",
      " 4   atomicweight_Average   10407 non-null  float64\n",
      " 5   ionenergy_Average      10407 non-null  float64\n",
      " 6   el_neg_chi_Average     10407 non-null  float64\n",
      " 7   R_vdw_element_Average  10407 non-null  float64\n",
      " 8   R_cov_element_Average  10407 non-null  float64\n",
      " 9   zaratio_Average        10407 non-null  float64\n",
      " 10  density_Average        10407 non-null  float64\n",
      " 11  Hardness               10407 non-null  float64\n",
      "dtypes: float64(12)\n",
      "memory usage: 975.8 KB\n"
     ]
    }
   ],
   "source": [
    "df.info()"
   ]
  },
  {
   "cell_type": "code",
   "execution_count": 6,
   "id": "da561d97",
   "metadata": {
    "execution": {
     "iopub.execute_input": "2024-07-15T17:22:37.332350Z",
     "iopub.status.busy": "2024-07-15T17:22:37.331478Z",
     "iopub.status.idle": "2024-07-15T17:22:37.386696Z",
     "shell.execute_reply": "2024-07-15T17:22:37.385469Z"
    },
    "papermill": {
     "duration": 0.06995,
     "end_time": "2024-07-15T17:22:37.389720",
     "exception": false,
     "start_time": "2024-07-15T17:22:37.319770",
     "status": "completed"
    },
    "tags": []
   },
   "outputs": [
    {
     "data": {
      "text/html": [
       "<div>\n",
       "<style scoped>\n",
       "    .dataframe tbody tr th:only-of-type {\n",
       "        vertical-align: middle;\n",
       "    }\n",
       "\n",
       "    .dataframe tbody tr th {\n",
       "        vertical-align: top;\n",
       "    }\n",
       "\n",
       "    .dataframe thead th {\n",
       "        text-align: right;\n",
       "    }\n",
       "</style>\n",
       "<table border=\"1\" class=\"dataframe\">\n",
       "  <thead>\n",
       "    <tr style=\"text-align: right;\">\n",
       "      <th></th>\n",
       "      <th>allelectrons_Total</th>\n",
       "      <th>density_Total</th>\n",
       "      <th>allelectrons_Average</th>\n",
       "      <th>val_e_Average</th>\n",
       "      <th>atomicweight_Average</th>\n",
       "      <th>ionenergy_Average</th>\n",
       "      <th>el_neg_chi_Average</th>\n",
       "      <th>R_vdw_element_Average</th>\n",
       "      <th>R_cov_element_Average</th>\n",
       "      <th>zaratio_Average</th>\n",
       "      <th>density_Average</th>\n",
       "      <th>Hardness</th>\n",
       "    </tr>\n",
       "  </thead>\n",
       "  <tbody>\n",
       "    <tr>\n",
       "      <th>count</th>\n",
       "      <td>10407.000000</td>\n",
       "      <td>10407.000000</td>\n",
       "      <td>10407.000000</td>\n",
       "      <td>10407.000000</td>\n",
       "      <td>10407.000000</td>\n",
       "      <td>10407.000000</td>\n",
       "      <td>10407.000000</td>\n",
       "      <td>10407.000000</td>\n",
       "      <td>10407.000000</td>\n",
       "      <td>10407.000000</td>\n",
       "      <td>10407.000000</td>\n",
       "      <td>10407.000000</td>\n",
       "    </tr>\n",
       "    <tr>\n",
       "      <th>mean</th>\n",
       "      <td>128.053516</td>\n",
       "      <td>14.491342</td>\n",
       "      <td>17.033222</td>\n",
       "      <td>4.546789</td>\n",
       "      <td>37.507703</td>\n",
       "      <td>10.938308</td>\n",
       "      <td>2.607662</td>\n",
       "      <td>1.731330</td>\n",
       "      <td>0.944132</td>\n",
       "      <td>0.493349</td>\n",
       "      <td>2.132984</td>\n",
       "      <td>4.647126</td>\n",
       "    </tr>\n",
       "    <tr>\n",
       "      <th>std</th>\n",
       "      <td>224.123776</td>\n",
       "      <td>15.972877</td>\n",
       "      <td>10.468734</td>\n",
       "      <td>0.690864</td>\n",
       "      <td>26.012313</td>\n",
       "      <td>1.408276</td>\n",
       "      <td>0.334906</td>\n",
       "      <td>0.192481</td>\n",
       "      <td>0.180017</td>\n",
       "      <td>0.063080</td>\n",
       "      <td>1.936656</td>\n",
       "      <td>1.680525</td>\n",
       "    </tr>\n",
       "    <tr>\n",
       "      <th>min</th>\n",
       "      <td>0.000000</td>\n",
       "      <td>0.000000</td>\n",
       "      <td>0.000000</td>\n",
       "      <td>0.000000</td>\n",
       "      <td>0.000000</td>\n",
       "      <td>0.000000</td>\n",
       "      <td>0.000000</td>\n",
       "      <td>0.000000</td>\n",
       "      <td>0.000000</td>\n",
       "      <td>0.000000</td>\n",
       "      <td>0.000000</td>\n",
       "      <td>1.000000</td>\n",
       "    </tr>\n",
       "    <tr>\n",
       "      <th>25%</th>\n",
       "      <td>68.000000</td>\n",
       "      <td>7.558488</td>\n",
       "      <td>10.000000</td>\n",
       "      <td>4.000000</td>\n",
       "      <td>20.298893</td>\n",
       "      <td>10.590660</td>\n",
       "      <td>2.530000</td>\n",
       "      <td>1.672500</td>\n",
       "      <td>0.864000</td>\n",
       "      <td>0.476196</td>\n",
       "      <td>0.814800</td>\n",
       "      <td>3.000000</td>\n",
       "    </tr>\n",
       "    <tr>\n",
       "      <th>50%</th>\n",
       "      <td>100.000000</td>\n",
       "      <td>10.650000</td>\n",
       "      <td>12.600000</td>\n",
       "      <td>4.714286</td>\n",
       "      <td>26.203827</td>\n",
       "      <td>11.202760</td>\n",
       "      <td>2.706000</td>\n",
       "      <td>1.732727</td>\n",
       "      <td>0.915556</td>\n",
       "      <td>0.488550</td>\n",
       "      <td>1.351550</td>\n",
       "      <td>5.500000</td>\n",
       "    </tr>\n",
       "    <tr>\n",
       "      <th>75%</th>\n",
       "      <td>131.000000</td>\n",
       "      <td>16.676996</td>\n",
       "      <td>22.000000</td>\n",
       "      <td>4.800000</td>\n",
       "      <td>48.719500</td>\n",
       "      <td>11.670725</td>\n",
       "      <td>2.805000</td>\n",
       "      <td>1.800000</td>\n",
       "      <td>0.981667</td>\n",
       "      <td>0.496070</td>\n",
       "      <td>2.741550</td>\n",
       "      <td>6.000000</td>\n",
       "    </tr>\n",
       "    <tr>\n",
       "      <th>max</th>\n",
       "      <td>15300.000000</td>\n",
       "      <td>643.093804</td>\n",
       "      <td>67.000000</td>\n",
       "      <td>6.000000</td>\n",
       "      <td>167.400000</td>\n",
       "      <td>15.245810</td>\n",
       "      <td>3.443000</td>\n",
       "      <td>2.250000</td>\n",
       "      <td>1.615840</td>\n",
       "      <td>0.825990</td>\n",
       "      <td>10.970000</td>\n",
       "      <td>10.000000</td>\n",
       "    </tr>\n",
       "  </tbody>\n",
       "</table>\n",
       "</div>"
      ],
      "text/plain": [
       "       allelectrons_Total  density_Total  allelectrons_Average  val_e_Average  \\\n",
       "count        10407.000000   10407.000000          10407.000000   10407.000000   \n",
       "mean           128.053516      14.491342             17.033222       4.546789   \n",
       "std            224.123776      15.972877             10.468734       0.690864   \n",
       "min              0.000000       0.000000              0.000000       0.000000   \n",
       "25%             68.000000       7.558488             10.000000       4.000000   \n",
       "50%            100.000000      10.650000             12.600000       4.714286   \n",
       "75%            131.000000      16.676996             22.000000       4.800000   \n",
       "max          15300.000000     643.093804             67.000000       6.000000   \n",
       "\n",
       "       atomicweight_Average  ionenergy_Average  el_neg_chi_Average  \\\n",
       "count          10407.000000       10407.000000        10407.000000   \n",
       "mean              37.507703          10.938308            2.607662   \n",
       "std               26.012313           1.408276            0.334906   \n",
       "min                0.000000           0.000000            0.000000   \n",
       "25%               20.298893          10.590660            2.530000   \n",
       "50%               26.203827          11.202760            2.706000   \n",
       "75%               48.719500          11.670725            2.805000   \n",
       "max              167.400000          15.245810            3.443000   \n",
       "\n",
       "       R_vdw_element_Average  R_cov_element_Average  zaratio_Average  \\\n",
       "count           10407.000000           10407.000000     10407.000000   \n",
       "mean                1.731330               0.944132         0.493349   \n",
       "std                 0.192481               0.180017         0.063080   \n",
       "min                 0.000000               0.000000         0.000000   \n",
       "25%                 1.672500               0.864000         0.476196   \n",
       "50%                 1.732727               0.915556         0.488550   \n",
       "75%                 1.800000               0.981667         0.496070   \n",
       "max                 2.250000               1.615840         0.825990   \n",
       "\n",
       "       density_Average      Hardness  \n",
       "count     10407.000000  10407.000000  \n",
       "mean          2.132984      4.647126  \n",
       "std           1.936656      1.680525  \n",
       "min           0.000000      1.000000  \n",
       "25%           0.814800      3.000000  \n",
       "50%           1.351550      5.500000  \n",
       "75%           2.741550      6.000000  \n",
       "max          10.970000     10.000000  "
      ]
     },
     "execution_count": 6,
     "metadata": {},
     "output_type": "execute_result"
    }
   ],
   "source": [
    "df.describe()"
   ]
  },
  {
   "cell_type": "code",
   "execution_count": 7,
   "id": "90b09aa6",
   "metadata": {
    "execution": {
     "iopub.execute_input": "2024-07-15T17:22:37.412916Z",
     "iopub.status.busy": "2024-07-15T17:22:37.412446Z",
     "iopub.status.idle": "2024-07-15T17:22:37.419356Z",
     "shell.execute_reply": "2024-07-15T17:22:37.418179Z"
    },
    "papermill": {
     "duration": 0.021899,
     "end_time": "2024-07-15T17:22:37.422275",
     "exception": false,
     "start_time": "2024-07-15T17:22:37.400376",
     "status": "completed"
    },
    "tags": []
   },
   "outputs": [],
   "source": [
    "X = df.drop(columns=['Hardness'])\n",
    "y = df['Hardness']"
   ]
  },
  {
   "cell_type": "code",
   "execution_count": 8,
   "id": "ed1542ab",
   "metadata": {
    "execution": {
     "iopub.execute_input": "2024-07-15T17:22:37.445081Z",
     "iopub.status.busy": "2024-07-15T17:22:37.444663Z",
     "iopub.status.idle": "2024-07-15T17:22:37.464509Z",
     "shell.execute_reply": "2024-07-15T17:22:37.462905Z"
    },
    "papermill": {
     "duration": 0.035184,
     "end_time": "2024-07-15T17:22:37.467762",
     "exception": false,
     "start_time": "2024-07-15T17:22:37.432578",
     "status": "completed"
    },
    "tags": []
   },
   "outputs": [
    {
     "name": "stdout",
     "output_type": "stream",
     "text": [
      "Train: 6243 samples \t 60%\n",
      "Test:  2082 samples \t 20%\n",
      "Val:   2082 samples \t 20%\n"
     ]
    }
   ],
   "source": [
    "X_train, X_test, y_train, y_test = train_test_split(X, y,\n",
    "                                                    train_size=0.8,\n",
    "                                                    random_state=42)\n",
    "\n",
    "X_train, X_val, y_train, y_val = train_test_split(X_train, y_train,\n",
    "                                                  train_size=0.75,\n",
    "                                                  random_state=42)\n",
    "\n",
    "print(f'Train: {X_train.shape[0]} samples \\t {round(X_train.shape[0] / X.shape[0] * 100)}%')\n",
    "print(f'Test:  {X_test.shape[0]} samples \\t {round(X_test.shape[0] / X.shape[0] * 100)}%')\n",
    "print(f'Val:   {X_val.shape[0]} samples \\t {round(X_val.shape[0] / X.shape[0] * 100)}%')"
   ]
  },
  {
   "cell_type": "code",
   "execution_count": 9,
   "id": "dbd1ddd8",
   "metadata": {
    "execution": {
     "iopub.execute_input": "2024-07-15T17:22:37.490837Z",
     "iopub.status.busy": "2024-07-15T17:22:37.490349Z",
     "iopub.status.idle": "2024-07-15T17:22:37.535214Z",
     "shell.execute_reply": "2024-07-15T17:22:37.533885Z"
    },
    "papermill": {
     "duration": 0.059781,
     "end_time": "2024-07-15T17:22:37.538006",
     "exception": false,
     "start_time": "2024-07-15T17:22:37.478225",
     "status": "completed"
    },
    "tags": []
   },
   "outputs": [
    {
     "data": {
      "text/html": [
       "<style>#sk-container-id-1 {color: black;background-color: white;}#sk-container-id-1 pre{padding: 0;}#sk-container-id-1 div.sk-toggleable {background-color: white;}#sk-container-id-1 label.sk-toggleable__label {cursor: pointer;display: block;width: 100%;margin-bottom: 0;padding: 0.3em;box-sizing: border-box;text-align: center;}#sk-container-id-1 label.sk-toggleable__label-arrow:before {content: \"▸\";float: left;margin-right: 0.25em;color: #696969;}#sk-container-id-1 label.sk-toggleable__label-arrow:hover:before {color: black;}#sk-container-id-1 div.sk-estimator:hover label.sk-toggleable__label-arrow:before {color: black;}#sk-container-id-1 div.sk-toggleable__content {max-height: 0;max-width: 0;overflow: hidden;text-align: left;background-color: #f0f8ff;}#sk-container-id-1 div.sk-toggleable__content pre {margin: 0.2em;color: black;border-radius: 0.25em;background-color: #f0f8ff;}#sk-container-id-1 input.sk-toggleable__control:checked~div.sk-toggleable__content {max-height: 200px;max-width: 100%;overflow: auto;}#sk-container-id-1 input.sk-toggleable__control:checked~label.sk-toggleable__label-arrow:before {content: \"▾\";}#sk-container-id-1 div.sk-estimator input.sk-toggleable__control:checked~label.sk-toggleable__label {background-color: #d4ebff;}#sk-container-id-1 div.sk-label input.sk-toggleable__control:checked~label.sk-toggleable__label {background-color: #d4ebff;}#sk-container-id-1 input.sk-hidden--visually {border: 0;clip: rect(1px 1px 1px 1px);clip: rect(1px, 1px, 1px, 1px);height: 1px;margin: -1px;overflow: hidden;padding: 0;position: absolute;width: 1px;}#sk-container-id-1 div.sk-estimator {font-family: monospace;background-color: #f0f8ff;border: 1px dotted black;border-radius: 0.25em;box-sizing: border-box;margin-bottom: 0.5em;}#sk-container-id-1 div.sk-estimator:hover {background-color: #d4ebff;}#sk-container-id-1 div.sk-parallel-item::after {content: \"\";width: 100%;border-bottom: 1px solid gray;flex-grow: 1;}#sk-container-id-1 div.sk-label:hover label.sk-toggleable__label {background-color: #d4ebff;}#sk-container-id-1 div.sk-serial::before {content: \"\";position: absolute;border-left: 1px solid gray;box-sizing: border-box;top: 0;bottom: 0;left: 50%;z-index: 0;}#sk-container-id-1 div.sk-serial {display: flex;flex-direction: column;align-items: center;background-color: white;padding-right: 0.2em;padding-left: 0.2em;position: relative;}#sk-container-id-1 div.sk-item {position: relative;z-index: 1;}#sk-container-id-1 div.sk-parallel {display: flex;align-items: stretch;justify-content: center;background-color: white;position: relative;}#sk-container-id-1 div.sk-item::before, #sk-container-id-1 div.sk-parallel-item::before {content: \"\";position: absolute;border-left: 1px solid gray;box-sizing: border-box;top: 0;bottom: 0;left: 50%;z-index: -1;}#sk-container-id-1 div.sk-parallel-item {display: flex;flex-direction: column;z-index: 1;position: relative;background-color: white;}#sk-container-id-1 div.sk-parallel-item:first-child::after {align-self: flex-end;width: 50%;}#sk-container-id-1 div.sk-parallel-item:last-child::after {align-self: flex-start;width: 50%;}#sk-container-id-1 div.sk-parallel-item:only-child::after {width: 0;}#sk-container-id-1 div.sk-dashed-wrapped {border: 1px dashed gray;margin: 0 0.4em 0.5em 0.4em;box-sizing: border-box;padding-bottom: 0.4em;background-color: white;}#sk-container-id-1 div.sk-label label {font-family: monospace;font-weight: bold;display: inline-block;line-height: 1.2em;}#sk-container-id-1 div.sk-label-container {text-align: center;}#sk-container-id-1 div.sk-container {/* jupyter's `normalize.less` sets `[hidden] { display: none; }` but bootstrap.min.css set `[hidden] { display: none !important; }` so we also need the `!important` here to be able to override the default hidden behavior on the sphinx rendered scikit-learn.org. See: https://github.com/scikit-learn/scikit-learn/issues/21755 */display: inline-block !important;position: relative;}#sk-container-id-1 div.sk-text-repr-fallback {display: none;}</style><div id=\"sk-container-id-1\" class=\"sk-top-container\"><div class=\"sk-text-repr-fallback\"><pre>ColumnTransformer(transformers=[(&#x27;num&#x27;,\n",
       "                                 Pipeline(steps=[(&#x27;imputer&#x27;,\n",
       "                                                  SimpleImputer(strategy=&#x27;median&#x27;))]),\n",
       "                                 Index([&#x27;allelectrons_Total&#x27;, &#x27;density_Total&#x27;, &#x27;allelectrons_Average&#x27;,\n",
       "       &#x27;val_e_Average&#x27;, &#x27;atomicweight_Average&#x27;, &#x27;ionenergy_Average&#x27;,\n",
       "       &#x27;el_neg_chi_Average&#x27;, &#x27;R_vdw_element_Average&#x27;, &#x27;R_cov_element_Average&#x27;,\n",
       "       &#x27;zaratio_Average&#x27;, &#x27;density_Average&#x27;],\n",
       "      dtype=&#x27;object&#x27;)),\n",
       "                                (&#x27;cat&#x27;,\n",
       "                                 Pipeline(steps=[(&#x27;imputer&#x27;,\n",
       "                                                  SimpleImputer(strategy=&#x27;most_frequent&#x27;)),\n",
       "                                                 (&#x27;encoder&#x27;,\n",
       "                                                  OrdinalEncoder(handle_unknown=&#x27;use_encoded_value&#x27;,\n",
       "                                                                 unknown_value=-1))]),\n",
       "                                 Index([], dtype=&#x27;object&#x27;))])</pre><b>In a Jupyter environment, please rerun this cell to show the HTML representation or trust the notebook. <br />On GitHub, the HTML representation is unable to render, please try loading this page with nbviewer.org.</b></div><div class=\"sk-container\" hidden><div class=\"sk-item sk-dashed-wrapped\"><div class=\"sk-label-container\"><div class=\"sk-label sk-toggleable\"><input class=\"sk-toggleable__control sk-hidden--visually\" id=\"sk-estimator-id-1\" type=\"checkbox\" ><label for=\"sk-estimator-id-1\" class=\"sk-toggleable__label sk-toggleable__label-arrow\">ColumnTransformer</label><div class=\"sk-toggleable__content\"><pre>ColumnTransformer(transformers=[(&#x27;num&#x27;,\n",
       "                                 Pipeline(steps=[(&#x27;imputer&#x27;,\n",
       "                                                  SimpleImputer(strategy=&#x27;median&#x27;))]),\n",
       "                                 Index([&#x27;allelectrons_Total&#x27;, &#x27;density_Total&#x27;, &#x27;allelectrons_Average&#x27;,\n",
       "       &#x27;val_e_Average&#x27;, &#x27;atomicweight_Average&#x27;, &#x27;ionenergy_Average&#x27;,\n",
       "       &#x27;el_neg_chi_Average&#x27;, &#x27;R_vdw_element_Average&#x27;, &#x27;R_cov_element_Average&#x27;,\n",
       "       &#x27;zaratio_Average&#x27;, &#x27;density_Average&#x27;],\n",
       "      dtype=&#x27;object&#x27;)),\n",
       "                                (&#x27;cat&#x27;,\n",
       "                                 Pipeline(steps=[(&#x27;imputer&#x27;,\n",
       "                                                  SimpleImputer(strategy=&#x27;most_frequent&#x27;)),\n",
       "                                                 (&#x27;encoder&#x27;,\n",
       "                                                  OrdinalEncoder(handle_unknown=&#x27;use_encoded_value&#x27;,\n",
       "                                                                 unknown_value=-1))]),\n",
       "                                 Index([], dtype=&#x27;object&#x27;))])</pre></div></div></div><div class=\"sk-parallel\"><div class=\"sk-parallel-item\"><div class=\"sk-item\"><div class=\"sk-label-container\"><div class=\"sk-label sk-toggleable\"><input class=\"sk-toggleable__control sk-hidden--visually\" id=\"sk-estimator-id-2\" type=\"checkbox\" ><label for=\"sk-estimator-id-2\" class=\"sk-toggleable__label sk-toggleable__label-arrow\">num</label><div class=\"sk-toggleable__content\"><pre>Index([&#x27;allelectrons_Total&#x27;, &#x27;density_Total&#x27;, &#x27;allelectrons_Average&#x27;,\n",
       "       &#x27;val_e_Average&#x27;, &#x27;atomicweight_Average&#x27;, &#x27;ionenergy_Average&#x27;,\n",
       "       &#x27;el_neg_chi_Average&#x27;, &#x27;R_vdw_element_Average&#x27;, &#x27;R_cov_element_Average&#x27;,\n",
       "       &#x27;zaratio_Average&#x27;, &#x27;density_Average&#x27;],\n",
       "      dtype=&#x27;object&#x27;)</pre></div></div></div><div class=\"sk-serial\"><div class=\"sk-item\"><div class=\"sk-serial\"><div class=\"sk-item\"><div class=\"sk-estimator sk-toggleable\"><input class=\"sk-toggleable__control sk-hidden--visually\" id=\"sk-estimator-id-3\" type=\"checkbox\" ><label for=\"sk-estimator-id-3\" class=\"sk-toggleable__label sk-toggleable__label-arrow\">SimpleImputer</label><div class=\"sk-toggleable__content\"><pre>SimpleImputer(strategy=&#x27;median&#x27;)</pre></div></div></div></div></div></div></div></div><div class=\"sk-parallel-item\"><div class=\"sk-item\"><div class=\"sk-label-container\"><div class=\"sk-label sk-toggleable\"><input class=\"sk-toggleable__control sk-hidden--visually\" id=\"sk-estimator-id-4\" type=\"checkbox\" ><label for=\"sk-estimator-id-4\" class=\"sk-toggleable__label sk-toggleable__label-arrow\">cat</label><div class=\"sk-toggleable__content\"><pre>Index([], dtype=&#x27;object&#x27;)</pre></div></div></div><div class=\"sk-serial\"><div class=\"sk-item\"><div class=\"sk-serial\"><div class=\"sk-item\"><div class=\"sk-estimator sk-toggleable\"><input class=\"sk-toggleable__control sk-hidden--visually\" id=\"sk-estimator-id-5\" type=\"checkbox\" ><label for=\"sk-estimator-id-5\" class=\"sk-toggleable__label sk-toggleable__label-arrow\">SimpleImputer</label><div class=\"sk-toggleable__content\"><pre>SimpleImputer(strategy=&#x27;most_frequent&#x27;)</pre></div></div></div><div class=\"sk-item\"><div class=\"sk-estimator sk-toggleable\"><input class=\"sk-toggleable__control sk-hidden--visually\" id=\"sk-estimator-id-6\" type=\"checkbox\" ><label for=\"sk-estimator-id-6\" class=\"sk-toggleable__label sk-toggleable__label-arrow\">OrdinalEncoder</label><div class=\"sk-toggleable__content\"><pre>OrdinalEncoder(handle_unknown=&#x27;use_encoded_value&#x27;, unknown_value=-1)</pre></div></div></div></div></div></div></div></div></div></div></div></div>"
      ],
      "text/plain": [
       "ColumnTransformer(transformers=[('num',\n",
       "                                 Pipeline(steps=[('imputer',\n",
       "                                                  SimpleImputer(strategy='median'))]),\n",
       "                                 Index(['allelectrons_Total', 'density_Total', 'allelectrons_Average',\n",
       "       'val_e_Average', 'atomicweight_Average', 'ionenergy_Average',\n",
       "       'el_neg_chi_Average', 'R_vdw_element_Average', 'R_cov_element_Average',\n",
       "       'zaratio_Average', 'density_Average'],\n",
       "      dtype='object')),\n",
       "                                ('cat',\n",
       "                                 Pipeline(steps=[('imputer',\n",
       "                                                  SimpleImputer(strategy='most_frequent')),\n",
       "                                                 ('encoder',\n",
       "                                                  OrdinalEncoder(handle_unknown='use_encoded_value',\n",
       "                                                                 unknown_value=-1))]),\n",
       "                                 Index([], dtype='object'))])"
      ]
     },
     "execution_count": 9,
     "metadata": {},
     "output_type": "execute_result"
    }
   ],
   "source": [
    "num_columns = X.select_dtypes(include=\"number\").columns\n",
    "cat_columns = X.select_dtypes(include=\"object\").columns\n",
    "\n",
    "num_transformer = Pipeline(\n",
    "    steps=[(\"imputer\", SimpleImputer(strategy=\"median\"))]\n",
    "    )\n",
    "\n",
    "cat_transformer = Pipeline(\n",
    "    steps=[(\"imputer\", SimpleImputer(strategy=\"most_frequent\")),\n",
    "           (\"encoder\", OrdinalEncoder(handle_unknown='use_encoded_value', unknown_value =-1))])\n",
    "\n",
    "preprocessor = ColumnTransformer(\n",
    "    transformers=[\n",
    "        (\"num\", num_transformer, num_columns),\n",
    "        (\"cat\", cat_transformer, cat_columns),\n",
    "    ]\n",
    ")\n",
    "\n",
    "preprocessor.set_output(transform='pandas')\n",
    "preprocessor"
   ]
  },
  {
   "cell_type": "code",
   "execution_count": 10,
   "id": "ad11dd6e",
   "metadata": {
    "execution": {
     "iopub.execute_input": "2024-07-15T17:22:37.563636Z",
     "iopub.status.busy": "2024-07-15T17:22:37.562666Z",
     "iopub.status.idle": "2024-07-15T17:22:37.602099Z",
     "shell.execute_reply": "2024-07-15T17:22:37.600799Z"
    },
    "papermill": {
     "duration": 0.056511,
     "end_time": "2024-07-15T17:22:37.605191",
     "exception": false,
     "start_time": "2024-07-15T17:22:37.548680",
     "status": "completed"
    },
    "tags": []
   },
   "outputs": [],
   "source": [
    "X_train = preprocessor.fit_transform(X_train)\n",
    "\n",
    "X_val = preprocessor.transform(X_val)\n",
    "X_test = preprocessor.transform(X_test)"
   ]
  },
  {
   "cell_type": "code",
   "execution_count": 11,
   "id": "86356ed3",
   "metadata": {
    "execution": {
     "iopub.execute_input": "2024-07-15T17:22:37.633798Z",
     "iopub.status.busy": "2024-07-15T17:22:37.633321Z",
     "iopub.status.idle": "2024-07-15T17:22:37.651030Z",
     "shell.execute_reply": "2024-07-15T17:22:37.649702Z"
    },
    "papermill": {
     "duration": 0.033509,
     "end_time": "2024-07-15T17:22:37.653636",
     "exception": false,
     "start_time": "2024-07-15T17:22:37.620127",
     "status": "completed"
    },
    "tags": []
   },
   "outputs": [],
   "source": [
    "def objective(trial):\n",
    "    params = {\n",
    "        'objective': 'regression',\n",
    "        'boosting_type': trial.suggest_categorical('boosting_type', ['gbdt', 'goss', 'rf']),\n",
    "        'n_estimators': trial.suggest_int('n_estimators', 50, 200),\n",
    "        'learning_rate': trial.suggest_float('learning_rate', 1e-4, 1.0, log=True),\n",
    "        'num_leaves': trial.suggest_int('num_leaves', 2, 256),\n",
    "        'max_depth': trial.suggest_int('max_depth', -1, 50),\n",
    "        'min_data_in_leaf': trial.suggest_int('min_data_in_leaf', 1, 100),\n",
    "        'min_sum_hessian_in_leaf': trial.suggest_float('min_sum_hessian_in_leaf', 1e-3, 10.0),\n",
    "        'feature_fraction': trial.suggest_float('feature_fraction', 0.4, 1.0),\n",
    "        'lambda_l1': trial.suggest_float('lambda_l1', 1e-8, 10.0, log=True),\n",
    "        'lambda_l2': trial.suggest_float('lambda_l2', 1e-8, 10.0, log=True),\n",
    "        'min_gain_to_split': trial.suggest_float('min_gain_to_split', 0.0, 1.0),\n",
    "        'max_bin': trial.suggest_int('max_bin', 15, 255),\n",
    "        'boost_from_average': True,\n",
    "        'scale_pos_weight': trial.suggest_float('scale_pos_weight', 1e-3, 10.0),\n",
    "        'is_unbalance': trial.suggest_categorical('is_unbalance', [True, False]),\n",
    "        'metric': 'rmse',\n",
    "        'verbosity': -1,\n",
    "        'force_col_wise': trial.suggest_categorical('force_col_wise', [True, False]),\n",
    "        'max_cat_threshold': trial.suggest_int('max_cat_threshold', 1, 128),\n",
    "        'cat_l2': trial.suggest_float('cat_l2', 1e-3, 10.0),\n",
    "        'cat_smooth': trial.suggest_float('cat_smooth', 1e-3, 10.0),\n",
    "        'max_cat_to_onehot': trial.suggest_int('max_cat_to_onehot', 1, 128),\n",
    "        'top_rate': trial.suggest_float('top_rate', 0.0, 1.0),\n",
    "        'other_rate': trial.suggest_float('other_rate', 0.0, 1.0 - trial.suggest_float('top_rate', 0.0, 1.0)),\n",
    "        'min_data_per_group': trial.suggest_int('min_data_per_group', 1, 100),\n",
    "        'max_cat_trees': trial.suggest_int('max_cat_trees', 1, 128),\n",
    "        'path_smooth': trial.suggest_float('path_smooth', 0.0, 1.0),\n",
    "        'feature_fraction_bynode': trial.suggest_float('feature_fraction_bynode', 0.0, 1.0),\n",
    "        'tweedie_variance_power': trial.suggest_float('tweedie_variance_power', 1.0, 2.0),\n",
    "    }\n",
    "\n",
    "    model = lgb.LGBMRegressor(**params)\n",
    "\n",
    "    early_stopping_callback = lgb.early_stopping(stopping_rounds=trial.suggest_int('early_stopping_round', 10, 100), verbose=False)\n",
    "\n",
    "    model.fit(\n",
    "        X_train, y_train,\n",
    "        eval_set=[(X_val, y_val)],\n",
    "        eval_metric='rmse',\n",
    "        callbacks=[early_stopping_callback]\n",
    "    )\n",
    "\n",
    "    y_pred = model.predict(X_val)\n",
    "    r2 = metrics.r2_score(y_val, y_pred)\n",
    "    mae = metrics.mean_absolute_error(y_val, y_pred)\n",
    "    rmse = metrics.mean_squared_error(y_val, y_pred) ** 0.5\n",
    "\n",
    "    return r2, mae, rmse"
   ]
  },
  {
   "cell_type": "code",
   "execution_count": 12,
   "id": "4673fba8",
   "metadata": {
    "execution": {
     "iopub.execute_input": "2024-07-15T17:22:37.678168Z",
     "iopub.status.busy": "2024-07-15T17:22:37.677343Z",
     "iopub.status.idle": "2024-07-15T17:23:04.563643Z",
     "shell.execute_reply": "2024-07-15T17:23:04.562209Z"
    },
    "papermill": {
     "duration": 26.90343,
     "end_time": "2024-07-15T17:23:04.567821",
     "exception": false,
     "start_time": "2024-07-15T17:22:37.664391",
     "status": "completed"
    },
    "tags": []
   },
   "outputs": [],
   "source": [
    "optuna.logging.set_verbosity(optuna.logging.WARNING)\n",
    "study = optuna.create_study(directions=['maximize', 'minimize', 'minimize'])\n",
    "study.optimize(objective, n_trials=100)"
   ]
  },
  {
   "cell_type": "code",
   "execution_count": 13,
   "id": "62a98fad",
   "metadata": {
    "execution": {
     "iopub.execute_input": "2024-07-15T17:23:04.592104Z",
     "iopub.status.busy": "2024-07-15T17:23:04.591676Z",
     "iopub.status.idle": "2024-07-15T17:23:04.682701Z",
     "shell.execute_reply": "2024-07-15T17:23:04.681364Z"
    },
    "papermill": {
     "duration": 0.105988,
     "end_time": "2024-07-15T17:23:04.685286",
     "exception": false,
     "start_time": "2024-07-15T17:23:04.579298",
     "status": "completed"
    },
    "tags": []
   },
   "outputs": [
    {
     "data": {
      "text/plain": [
       "1"
      ]
     },
     "execution_count": 13,
     "metadata": {},
     "output_type": "execute_result"
    }
   ],
   "source": [
    "len(study.best_trials)"
   ]
  },
  {
   "cell_type": "code",
   "execution_count": 14,
   "id": "3e26a318",
   "metadata": {
    "execution": {
     "iopub.execute_input": "2024-07-15T17:23:04.709048Z",
     "iopub.status.busy": "2024-07-15T17:23:04.708624Z",
     "iopub.status.idle": "2024-07-15T17:23:04.806559Z",
     "shell.execute_reply": "2024-07-15T17:23:04.805094Z"
    },
    "papermill": {
     "duration": 0.112918,
     "end_time": "2024-07-15T17:23:04.809306",
     "exception": false,
     "start_time": "2024-07-15T17:23:04.696388",
     "status": "completed"
    },
    "tags": []
   },
   "outputs": [
    {
     "name": "stdout",
     "output_type": "stream",
     "text": [
      "найкраща метрика: [FrozenTrial(number=93, state=TrialState.COMPLETE, values=[0.47383252353083094, 0.9035923204272086, 1.2229327327897968], datetime_start=datetime.datetime(2024, 7, 15, 17, 23, 2, 564563), datetime_complete=datetime.datetime(2024, 7, 15, 17, 23, 2, 732640), params={'boosting_type': 'goss', 'n_estimators': 58, 'learning_rate': 0.12981738211427366, 'num_leaves': 152, 'max_depth': 34, 'min_data_in_leaf': 88, 'min_sum_hessian_in_leaf': 8.316927740184509, 'feature_fraction': 0.43231504407423255, 'lambda_l1': 1.6666077808085231e-07, 'lambda_l2': 1.1376401944849282e-05, 'min_gain_to_split': 0.2982349413015827, 'max_bin': 105, 'scale_pos_weight': 1.4594539226187357, 'is_unbalance': False, 'force_col_wise': False, 'max_cat_threshold': 45, 'cat_l2': 8.24276600061845, 'cat_smooth': 7.32361359445132, 'max_cat_to_onehot': 3, 'top_rate': 0.680007761631174, 'other_rate': 0.14174593798139282, 'min_data_per_group': 59, 'max_cat_trees': 2, 'path_smooth': 0.2227470039814614, 'feature_fraction_bynode': 0.8755539829743962, 'tweedie_variance_power': 1.5723348079984243, 'early_stopping_round': 33}, user_attrs={}, system_attrs={'nsga2:generation': 1}, intermediate_values={}, distributions={'boosting_type': CategoricalDistribution(choices=('gbdt', 'goss', 'rf')), 'n_estimators': IntDistribution(high=200, log=False, low=50, step=1), 'learning_rate': FloatDistribution(high=1.0, log=True, low=0.0001, step=None), 'num_leaves': IntDistribution(high=256, log=False, low=2, step=1), 'max_depth': IntDistribution(high=50, log=False, low=-1, step=1), 'min_data_in_leaf': IntDistribution(high=100, log=False, low=1, step=1), 'min_sum_hessian_in_leaf': FloatDistribution(high=10.0, log=False, low=0.001, step=None), 'feature_fraction': FloatDistribution(high=1.0, log=False, low=0.4, step=None), 'lambda_l1': FloatDistribution(high=10.0, log=True, low=1e-08, step=None), 'lambda_l2': FloatDistribution(high=10.0, log=True, low=1e-08, step=None), 'min_gain_to_split': FloatDistribution(high=1.0, log=False, low=0.0, step=None), 'max_bin': IntDistribution(high=255, log=False, low=15, step=1), 'scale_pos_weight': FloatDistribution(high=10.0, log=False, low=0.001, step=None), 'is_unbalance': CategoricalDistribution(choices=(True, False)), 'force_col_wise': CategoricalDistribution(choices=(True, False)), 'max_cat_threshold': IntDistribution(high=128, log=False, low=1, step=1), 'cat_l2': FloatDistribution(high=10.0, log=False, low=0.001, step=None), 'cat_smooth': FloatDistribution(high=10.0, log=False, low=0.001, step=None), 'max_cat_to_onehot': IntDistribution(high=128, log=False, low=1, step=1), 'top_rate': FloatDistribution(high=1.0, log=False, low=0.0, step=None), 'other_rate': FloatDistribution(high=0.31999223836882595, log=False, low=0.0, step=None), 'min_data_per_group': IntDistribution(high=100, log=False, low=1, step=1), 'max_cat_trees': IntDistribution(high=128, log=False, low=1, step=1), 'path_smooth': FloatDistribution(high=1.0, log=False, low=0.0, step=None), 'feature_fraction_bynode': FloatDistribution(high=1.0, log=False, low=0.0, step=None), 'tweedie_variance_power': FloatDistribution(high=2.0, log=False, low=1.0, step=None), 'early_stopping_round': IntDistribution(high=100, log=False, low=10, step=1)}, trial_id=93, value=None)]\n"
     ]
    }
   ],
   "source": [
    "print(f\"найкраща метрика: {study.best_trials}\")"
   ]
  },
  {
   "cell_type": "code",
   "execution_count": 15,
   "id": "8fa1e1f4",
   "metadata": {
    "execution": {
     "iopub.execute_input": "2024-07-15T17:23:04.836114Z",
     "iopub.status.busy": "2024-07-15T17:23:04.835665Z",
     "iopub.status.idle": "2024-07-15T17:23:04.935987Z",
     "shell.execute_reply": "2024-07-15T17:23:04.934551Z"
    },
    "papermill": {
     "duration": 0.117895,
     "end_time": "2024-07-15T17:23:04.938819",
     "exception": false,
     "start_time": "2024-07-15T17:23:04.820924",
     "status": "completed"
    },
    "tags": []
   },
   "outputs": [
    {
     "data": {
      "text/html": [
       "<div>\n",
       "<style scoped>\n",
       "    .dataframe tbody tr th:only-of-type {\n",
       "        vertical-align: middle;\n",
       "    }\n",
       "\n",
       "    .dataframe tbody tr th {\n",
       "        vertical-align: top;\n",
       "    }\n",
       "\n",
       "    .dataframe thead th {\n",
       "        text-align: right;\n",
       "    }\n",
       "</style>\n",
       "<table border=\"1\" class=\"dataframe\">\n",
       "  <thead>\n",
       "    <tr style=\"text-align: right;\">\n",
       "      <th></th>\n",
       "      <th>r2</th>\n",
       "      <th>mae</th>\n",
       "      <th>rmse</th>\n",
       "    </tr>\n",
       "  </thead>\n",
       "  <tbody>\n",
       "    <tr>\n",
       "      <th>0</th>\n",
       "      <td>0.473833</td>\n",
       "      <td>0.903592</td>\n",
       "      <td>1.222933</td>\n",
       "    </tr>\n",
       "  </tbody>\n",
       "</table>\n",
       "</div>"
      ],
      "text/plain": [
       "         r2       mae      rmse\n",
       "0  0.473833  0.903592  1.222933"
      ]
     },
     "execution_count": 15,
     "metadata": {},
     "output_type": "execute_result"
    }
   ],
   "source": [
    "data = pd.DataFrame([trial.values for trial in study.best_trials],\n",
    "                    columns=['r2', 'mae', 'rmse'])\n",
    "\n",
    "data"
   ]
  },
  {
   "cell_type": "code",
   "execution_count": 16,
   "id": "ccfa5a48",
   "metadata": {
    "execution": {
     "iopub.execute_input": "2024-07-15T17:23:04.964219Z",
     "iopub.status.busy": "2024-07-15T17:23:04.963751Z",
     "iopub.status.idle": "2024-07-15T17:23:05.056726Z",
     "shell.execute_reply": "2024-07-15T17:23:05.055475Z"
    },
    "papermill": {
     "duration": 0.108664,
     "end_time": "2024-07-15T17:23:05.059745",
     "exception": false,
     "start_time": "2024-07-15T17:23:04.951081",
     "status": "completed"
    },
    "tags": []
   },
   "outputs": [
    {
     "data": {
      "text/plain": [
       "{'boosting_type': 'goss',\n",
       " 'n_estimators': 58,\n",
       " 'learning_rate': 0.12981738211427366,\n",
       " 'num_leaves': 152,\n",
       " 'max_depth': 34,\n",
       " 'min_data_in_leaf': 88,\n",
       " 'min_sum_hessian_in_leaf': 8.316927740184509,\n",
       " 'feature_fraction': 0.43231504407423255,\n",
       " 'lambda_l1': 1.6666077808085231e-07,\n",
       " 'lambda_l2': 1.1376401944849282e-05,\n",
       " 'min_gain_to_split': 0.2982349413015827,\n",
       " 'max_bin': 105,\n",
       " 'scale_pos_weight': 1.4594539226187357,\n",
       " 'is_unbalance': False,\n",
       " 'force_col_wise': False,\n",
       " 'max_cat_threshold': 45,\n",
       " 'cat_l2': 8.24276600061845,\n",
       " 'cat_smooth': 7.32361359445132,\n",
       " 'max_cat_to_onehot': 3,\n",
       " 'top_rate': 0.680007761631174,\n",
       " 'other_rate': 0.14174593798139282,\n",
       " 'min_data_per_group': 59,\n",
       " 'max_cat_trees': 2,\n",
       " 'path_smooth': 0.2227470039814614,\n",
       " 'feature_fraction_bynode': 0.8755539829743962,\n",
       " 'tweedie_variance_power': 1.5723348079984243,\n",
       " 'early_stopping_round': 33}"
      ]
     },
     "execution_count": 16,
     "metadata": {},
     "output_type": "execute_result"
    }
   ],
   "source": [
    "best_params = study.best_trials[0].params\n",
    "best_params"
   ]
  },
  {
   "cell_type": "code",
   "execution_count": 17,
   "id": "a46d09e3",
   "metadata": {
    "execution": {
     "iopub.execute_input": "2024-07-15T17:23:05.087587Z",
     "iopub.status.busy": "2024-07-15T17:23:05.087181Z",
     "iopub.status.idle": "2024-07-15T17:23:05.258253Z",
     "shell.execute_reply": "2024-07-15T17:23:05.256671Z"
    },
    "papermill": {
     "duration": 0.188929,
     "end_time": "2024-07-15T17:23:05.261082",
     "exception": false,
     "start_time": "2024-07-15T17:23:05.072153",
     "status": "completed"
    },
    "tags": []
   },
   "outputs": [
    {
     "data": {
      "text/html": [
       "<style>#sk-container-id-2 {color: black;background-color: white;}#sk-container-id-2 pre{padding: 0;}#sk-container-id-2 div.sk-toggleable {background-color: white;}#sk-container-id-2 label.sk-toggleable__label {cursor: pointer;display: block;width: 100%;margin-bottom: 0;padding: 0.3em;box-sizing: border-box;text-align: center;}#sk-container-id-2 label.sk-toggleable__label-arrow:before {content: \"▸\";float: left;margin-right: 0.25em;color: #696969;}#sk-container-id-2 label.sk-toggleable__label-arrow:hover:before {color: black;}#sk-container-id-2 div.sk-estimator:hover label.sk-toggleable__label-arrow:before {color: black;}#sk-container-id-2 div.sk-toggleable__content {max-height: 0;max-width: 0;overflow: hidden;text-align: left;background-color: #f0f8ff;}#sk-container-id-2 div.sk-toggleable__content pre {margin: 0.2em;color: black;border-radius: 0.25em;background-color: #f0f8ff;}#sk-container-id-2 input.sk-toggleable__control:checked~div.sk-toggleable__content {max-height: 200px;max-width: 100%;overflow: auto;}#sk-container-id-2 input.sk-toggleable__control:checked~label.sk-toggleable__label-arrow:before {content: \"▾\";}#sk-container-id-2 div.sk-estimator input.sk-toggleable__control:checked~label.sk-toggleable__label {background-color: #d4ebff;}#sk-container-id-2 div.sk-label input.sk-toggleable__control:checked~label.sk-toggleable__label {background-color: #d4ebff;}#sk-container-id-2 input.sk-hidden--visually {border: 0;clip: rect(1px 1px 1px 1px);clip: rect(1px, 1px, 1px, 1px);height: 1px;margin: -1px;overflow: hidden;padding: 0;position: absolute;width: 1px;}#sk-container-id-2 div.sk-estimator {font-family: monospace;background-color: #f0f8ff;border: 1px dotted black;border-radius: 0.25em;box-sizing: border-box;margin-bottom: 0.5em;}#sk-container-id-2 div.sk-estimator:hover {background-color: #d4ebff;}#sk-container-id-2 div.sk-parallel-item::after {content: \"\";width: 100%;border-bottom: 1px solid gray;flex-grow: 1;}#sk-container-id-2 div.sk-label:hover label.sk-toggleable__label {background-color: #d4ebff;}#sk-container-id-2 div.sk-serial::before {content: \"\";position: absolute;border-left: 1px solid gray;box-sizing: border-box;top: 0;bottom: 0;left: 50%;z-index: 0;}#sk-container-id-2 div.sk-serial {display: flex;flex-direction: column;align-items: center;background-color: white;padding-right: 0.2em;padding-left: 0.2em;position: relative;}#sk-container-id-2 div.sk-item {position: relative;z-index: 1;}#sk-container-id-2 div.sk-parallel {display: flex;align-items: stretch;justify-content: center;background-color: white;position: relative;}#sk-container-id-2 div.sk-item::before, #sk-container-id-2 div.sk-parallel-item::before {content: \"\";position: absolute;border-left: 1px solid gray;box-sizing: border-box;top: 0;bottom: 0;left: 50%;z-index: -1;}#sk-container-id-2 div.sk-parallel-item {display: flex;flex-direction: column;z-index: 1;position: relative;background-color: white;}#sk-container-id-2 div.sk-parallel-item:first-child::after {align-self: flex-end;width: 50%;}#sk-container-id-2 div.sk-parallel-item:last-child::after {align-self: flex-start;width: 50%;}#sk-container-id-2 div.sk-parallel-item:only-child::after {width: 0;}#sk-container-id-2 div.sk-dashed-wrapped {border: 1px dashed gray;margin: 0 0.4em 0.5em 0.4em;box-sizing: border-box;padding-bottom: 0.4em;background-color: white;}#sk-container-id-2 div.sk-label label {font-family: monospace;font-weight: bold;display: inline-block;line-height: 1.2em;}#sk-container-id-2 div.sk-label-container {text-align: center;}#sk-container-id-2 div.sk-container {/* jupyter's `normalize.less` sets `[hidden] { display: none; }` but bootstrap.min.css set `[hidden] { display: none !important; }` so we also need the `!important` here to be able to override the default hidden behavior on the sphinx rendered scikit-learn.org. See: https://github.com/scikit-learn/scikit-learn/issues/21755 */display: inline-block !important;position: relative;}#sk-container-id-2 div.sk-text-repr-fallback {display: none;}</style><div id=\"sk-container-id-2\" class=\"sk-top-container\"><div class=\"sk-text-repr-fallback\"><pre>LGBMRegressor(boosting_type=&#x27;goss&#x27;, cat_l2=8.24276600061845,\n",
       "              cat_smooth=7.32361359445132, early_stopping_round=33,\n",
       "              feature_fraction=0.43231504407423255,\n",
       "              feature_fraction_bynode=0.8755539829743962, force_col_wise=False,\n",
       "              is_unbalance=False, lambda_l1=1.6666077808085231e-07,\n",
       "              lambda_l2=1.1376401944849282e-05,\n",
       "              learning_rate=0.12981738211427366, max_bin=105,\n",
       "              max_cat...\n",
       "              max_depth=34, min_data_in_leaf=88, min_data_per_group=59,\n",
       "              min_gain_to_split=0.2982349413015827,\n",
       "              min_sum_hessian_in_leaf=8.316927740184509, n_estimator=1000,\n",
       "              n_estimators=58, num_leaves=152, other_rate=0.14174593798139282,\n",
       "              path_smooth=0.2227470039814614,\n",
       "              scale_pos_weight=1.4594539226187357, top_rate=0.680007761631174,\n",
       "              tweedie_variance_power=1.5723348079984243, verbose=-1)</pre><b>In a Jupyter environment, please rerun this cell to show the HTML representation or trust the notebook. <br />On GitHub, the HTML representation is unable to render, please try loading this page with nbviewer.org.</b></div><div class=\"sk-container\" hidden><div class=\"sk-item\"><div class=\"sk-estimator sk-toggleable\"><input class=\"sk-toggleable__control sk-hidden--visually\" id=\"sk-estimator-id-7\" type=\"checkbox\" checked><label for=\"sk-estimator-id-7\" class=\"sk-toggleable__label sk-toggleable__label-arrow\">LGBMRegressor</label><div class=\"sk-toggleable__content\"><pre>LGBMRegressor(boosting_type=&#x27;goss&#x27;, cat_l2=8.24276600061845,\n",
       "              cat_smooth=7.32361359445132, early_stopping_round=33,\n",
       "              feature_fraction=0.43231504407423255,\n",
       "              feature_fraction_bynode=0.8755539829743962, force_col_wise=False,\n",
       "              is_unbalance=False, lambda_l1=1.6666077808085231e-07,\n",
       "              lambda_l2=1.1376401944849282e-05,\n",
       "              learning_rate=0.12981738211427366, max_bin=105,\n",
       "              max_cat...\n",
       "              max_depth=34, min_data_in_leaf=88, min_data_per_group=59,\n",
       "              min_gain_to_split=0.2982349413015827,\n",
       "              min_sum_hessian_in_leaf=8.316927740184509, n_estimator=1000,\n",
       "              n_estimators=58, num_leaves=152, other_rate=0.14174593798139282,\n",
       "              path_smooth=0.2227470039814614,\n",
       "              scale_pos_weight=1.4594539226187357, top_rate=0.680007761631174,\n",
       "              tweedie_variance_power=1.5723348079984243, verbose=-1)</pre></div></div></div></div></div>"
      ],
      "text/plain": [
       "LGBMRegressor(boosting_type='goss', cat_l2=8.24276600061845,\n",
       "              cat_smooth=7.32361359445132, early_stopping_round=33,\n",
       "              feature_fraction=0.43231504407423255,\n",
       "              feature_fraction_bynode=0.8755539829743962, force_col_wise=False,\n",
       "              is_unbalance=False, lambda_l1=1.6666077808085231e-07,\n",
       "              lambda_l2=1.1376401944849282e-05,\n",
       "              learning_rate=0.12981738211427366, max_bin=105,\n",
       "              max_cat...\n",
       "              max_depth=34, min_data_in_leaf=88, min_data_per_group=59,\n",
       "              min_gain_to_split=0.2982349413015827,\n",
       "              min_sum_hessian_in_leaf=8.316927740184509, n_estimator=1000,\n",
       "              n_estimators=58, num_leaves=152, other_rate=0.14174593798139282,\n",
       "              path_smooth=0.2227470039814614,\n",
       "              scale_pos_weight=1.4594539226187357, top_rate=0.680007761631174,\n",
       "              tweedie_variance_power=1.5723348079984243, verbose=-1)"
      ]
     },
     "execution_count": 17,
     "metadata": {},
     "output_type": "execute_result"
    }
   ],
   "source": [
    "#best_params = study.best\n",
    "\n",
    "model = lgb.LGBMRegressor(**best_params,\n",
    "                          n_estimator = 1000,\n",
    "                          verbose=-1)\n",
    "\n",
    "model.fit(X_train, y_train,\n",
    "          eval_set=[(X_test, y_test), (X_train, y_train)],\n",
    "          eval_metric='mae')"
   ]
  },
  {
   "cell_type": "code",
   "execution_count": 18,
   "id": "1d28c241",
   "metadata": {
    "execution": {
     "iopub.execute_input": "2024-07-15T17:23:05.291113Z",
     "iopub.status.busy": "2024-07-15T17:23:05.290586Z",
     "iopub.status.idle": "2024-07-15T17:23:05.299135Z",
     "shell.execute_reply": "2024-07-15T17:23:05.297082Z"
    },
    "papermill": {
     "duration": 0.026499,
     "end_time": "2024-07-15T17:23:05.302930",
     "exception": false,
     "start_time": "2024-07-15T17:23:05.276431",
     "status": "completed"
    },
    "tags": []
   },
   "outputs": [],
   "source": [
    "def get_metrics(y_true, y_pred, name=\"model\"):\n",
    "  df = pd.DataFrame()\n",
    "\n",
    "  df.loc[\"MAE\", name] = metrics.mean_absolute_error(y_true, y_pred)\n",
    "  df.loc[\"RMSE\", name] = metrics.mean_squared_error(y_true, y_pred) ** 0.5\n",
    "  df.loc[\"R2\", name] = metrics.r2_score(y_true, y_pred)\n",
    "\n",
    "  return df.round(2)"
   ]
  },
  {
   "cell_type": "code",
   "execution_count": 19,
   "id": "21f39480",
   "metadata": {
    "execution": {
     "iopub.execute_input": "2024-07-15T17:23:05.331168Z",
     "iopub.status.busy": "2024-07-15T17:23:05.330756Z",
     "iopub.status.idle": "2024-07-15T17:23:05.426306Z",
     "shell.execute_reply": "2024-07-15T17:23:05.425058Z"
    },
    "papermill": {
     "duration": 0.112948,
     "end_time": "2024-07-15T17:23:05.429280",
     "exception": false,
     "start_time": "2024-07-15T17:23:05.316332",
     "status": "completed"
    },
    "tags": []
   },
   "outputs": [
    {
     "data": {
      "text/html": [
       "<div>\n",
       "<style scoped>\n",
       "    .dataframe tbody tr th:only-of-type {\n",
       "        vertical-align: middle;\n",
       "    }\n",
       "\n",
       "    .dataframe tbody tr th {\n",
       "        vertical-align: top;\n",
       "    }\n",
       "\n",
       "    .dataframe thead th {\n",
       "        text-align: right;\n",
       "    }\n",
       "</style>\n",
       "<table border=\"1\" class=\"dataframe\">\n",
       "  <thead>\n",
       "    <tr style=\"text-align: right;\">\n",
       "      <th></th>\n",
       "      <th>train</th>\n",
       "      <th>test</th>\n",
       "    </tr>\n",
       "  </thead>\n",
       "  <tbody>\n",
       "    <tr>\n",
       "      <th>MAE</th>\n",
       "      <td>0.80</td>\n",
       "      <td>0.90</td>\n",
       "    </tr>\n",
       "    <tr>\n",
       "      <th>RMSE</th>\n",
       "      <td>1.06</td>\n",
       "      <td>1.21</td>\n",
       "    </tr>\n",
       "    <tr>\n",
       "      <th>R2</th>\n",
       "      <td>0.60</td>\n",
       "      <td>0.46</td>\n",
       "    </tr>\n",
       "  </tbody>\n",
       "</table>\n",
       "</div>"
      ],
      "text/plain": [
       "      train  test\n",
       "MAE    0.80  0.90\n",
       "RMSE   1.06  1.21\n",
       "R2     0.60  0.46"
      ]
     },
     "execution_count": 19,
     "metadata": {},
     "output_type": "execute_result"
    }
   ],
   "source": [
    "all_metrics = pd.DataFrame()\n",
    "\n",
    "all_metrics[\"train\"] = get_metrics(y_train, model.predict(X_train))\n",
    "all_metrics[\"test\"] = get_metrics(y_test, model.predict(X_test))\n",
    "\n",
    "all_metrics"
   ]
  },
  {
   "cell_type": "code",
   "execution_count": 20,
   "id": "9e7c40be",
   "metadata": {
    "execution": {
     "iopub.execute_input": "2024-07-15T17:23:05.456859Z",
     "iopub.status.busy": "2024-07-15T17:23:05.456437Z",
     "iopub.status.idle": "2024-07-15T17:23:20.330970Z",
     "shell.execute_reply": "2024-07-15T17:23:20.328524Z"
    },
    "papermill": {
     "duration": 14.892676,
     "end_time": "2024-07-15T17:23:20.334524",
     "exception": false,
     "start_time": "2024-07-15T17:23:05.441848",
     "status": "completed"
    },
    "tags": []
   },
   "outputs": [
    {
     "data": {
      "text/html": [
       "        <script type=\"text/javascript\">\n",
       "        window.PlotlyConfig = {MathJaxConfig: 'local'};\n",
       "        if (window.MathJax && window.MathJax.Hub && window.MathJax.Hub.Config) {window.MathJax.Hub.Config({SVG: {font: \"STIX-Web\"}});}\n",
       "        if (typeof require !== 'undefined') {\n",
       "        require.undef(\"plotly\");\n",
       "        requirejs.config({\n",
       "            paths: {\n",
       "                'plotly': ['https://cdn.plot.ly/plotly-2.27.0.min']\n",
       "            }\n",
       "        });\n",
       "        require(['plotly'], function(Plotly) {\n",
       "            window._Plotly = Plotly;\n",
       "        });\n",
       "        }\n",
       "        </script>\n",
       "        "
      ]
     },
     "metadata": {},
     "output_type": "display_data"
    },
    {
     "data": {
      "text/html": [
       "<div>                            <div id=\"17cf5e4f-3924-44f1-bec8-54f4f229bf74\" class=\"plotly-graph-div\" style=\"height:525px; width:100%;\"></div>            <script type=\"text/javascript\">                require([\"plotly\"], function(Plotly) {                    window.PLOTLYENV=window.PLOTLYENV || {};                                    if (document.getElementById(\"17cf5e4f-3924-44f1-bec8-54f4f229bf74\")) {                    Plotly.newPlot(                        \"17cf5e4f-3924-44f1-bec8-54f4f229bf74\",                        [{\"cliponaxis\":false,\"hovertemplate\":[\"force_col_wise (CategoricalDistribution): 0.00030256473294348305\\u003cextra\\u003e\\u003c\\u002fextra\\u003e\",\"lambda_l1 (FloatDistribution): 0.00034564935307573576\\u003cextra\\u003e\\u003c\\u002fextra\\u003e\",\"cat_l2 (FloatDistribution): 0.0008739179535002095\\u003cextra\\u003e\\u003c\\u002fextra\\u003e\",\"max_cat_to_onehot (IntDistribution): 0.0010407315348487276\\u003cextra\\u003e\\u003c\\u002fextra\\u003e\",\"tweedie_variance_power (FloatDistribution): 0.0019019958887223514\\u003cextra\\u003e\\u003c\\u002fextra\\u003e\",\"min_data_in_leaf (IntDistribution): 0.002726068419799679\\u003cextra\\u003e\\u003c\\u002fextra\\u003e\",\"cat_smooth (FloatDistribution): 0.002978663395115222\\u003cextra\\u003e\\u003c\\u002fextra\\u003e\",\"is_unbalance (CategoricalDistribution): 0.003140558516292241\\u003cextra\\u003e\\u003c\\u002fextra\\u003e\",\"boosting_type (CategoricalDistribution): 0.0037817521436364376\\u003cextra\\u003e\\u003c\\u002fextra\\u003e\",\"top_rate (FloatDistribution): 0.004127274943020123\\u003cextra\\u003e\\u003c\\u002fextra\\u003e\",\"min_gain_to_split (FloatDistribution): 0.006483015335892132\\u003cextra\\u003e\\u003c\\u002fextra\\u003e\",\"min_data_per_group (IntDistribution): 0.009332602512263748\\u003cextra\\u003e\\u003c\\u002fextra\\u003e\",\"feature_fraction_bynode (FloatDistribution): 0.01025926732199096\\u003cextra\\u003e\\u003c\\u002fextra\\u003e\",\"min_sum_hessian_in_leaf (FloatDistribution): 0.013276884904775785\\u003cextra\\u003e\\u003c\\u002fextra\\u003e\",\"path_smooth (FloatDistribution): 0.014711318873354572\\u003cextra\\u003e\\u003c\\u002fextra\\u003e\",\"scale_pos_weight (FloatDistribution): 0.014798441039730048\\u003cextra\\u003e\\u003c\\u002fextra\\u003e\",\"max_cat_trees (IntDistribution): 0.01684603670125037\\u003cextra\\u003e\\u003c\\u002fextra\\u003e\",\"lambda_l2 (FloatDistribution): 0.017328051218912927\\u003cextra\\u003e\\u003c\\u002fextra\\u003e\",\"early_stopping_round (IntDistribution): 0.02952824752177533\\u003cextra\\u003e\\u003c\\u002fextra\\u003e\",\"max_bin (IntDistribution): 0.03341160021402926\\u003cextra\\u003e\\u003c\\u002fextra\\u003e\",\"n_estimators (IntDistribution): 0.034492201802369254\\u003cextra\\u003e\\u003c\\u002fextra\\u003e\",\"feature_fraction (FloatDistribution): 0.04034825173925804\\u003cextra\\u003e\\u003c\\u002fextra\\u003e\",\"num_leaves (IntDistribution): 0.050800192053032794\\u003cextra\\u003e\\u003c\\u002fextra\\u003e\",\"max_depth (IntDistribution): 0.061546239689975114\\u003cextra\\u003e\\u003c\\u002fextra\\u003e\",\"max_cat_threshold (IntDistribution): 0.10038852116994085\\u003cextra\\u003e\\u003c\\u002fextra\\u003e\",\"learning_rate (FloatDistribution): 0.5252299510204949\\u003cextra\\u003e\\u003c\\u002fextra\\u003e\"],\"name\":\"Objective Value 0\",\"orientation\":\"h\",\"text\":[\"\\u003c0.01\",\"\\u003c0.01\",\"\\u003c0.01\",\"\\u003c0.01\",\"\\u003c0.01\",\"\\u003c0.01\",\"\\u003c0.01\",\"\\u003c0.01\",\"\\u003c0.01\",\"\\u003c0.01\",\"\\u003c0.01\",\"\\u003c0.01\",\"0.01\",\"0.01\",\"0.01\",\"0.01\",\"0.02\",\"0.02\",\"0.03\",\"0.03\",\"0.03\",\"0.04\",\"0.05\",\"0.06\",\"0.10\",\"0.53\"],\"textposition\":\"outside\",\"x\":[0.00030256473294348305,0.00034564935307573576,0.0008739179535002095,0.0010407315348487276,0.0019019958887223514,0.002726068419799679,0.002978663395115222,0.003140558516292241,0.0037817521436364376,0.004127274943020123,0.006483015335892132,0.009332602512263748,0.01025926732199096,0.013276884904775785,0.014711318873354572,0.014798441039730048,0.01684603670125037,0.017328051218912927,0.02952824752177533,0.03341160021402926,0.034492201802369254,0.04034825173925804,0.050800192053032794,0.061546239689975114,0.10038852116994085,0.5252299510204949],\"y\":[\"force_col_wise\",\"lambda_l1\",\"cat_l2\",\"max_cat_to_onehot\",\"tweedie_variance_power\",\"min_data_in_leaf\",\"cat_smooth\",\"is_unbalance\",\"boosting_type\",\"top_rate\",\"min_gain_to_split\",\"min_data_per_group\",\"feature_fraction_bynode\",\"min_sum_hessian_in_leaf\",\"path_smooth\",\"scale_pos_weight\",\"max_cat_trees\",\"lambda_l2\",\"early_stopping_round\",\"max_bin\",\"n_estimators\",\"feature_fraction\",\"num_leaves\",\"max_depth\",\"max_cat_threshold\",\"learning_rate\"],\"type\":\"bar\"},{\"cliponaxis\":false,\"hovertemplate\":[\"force_col_wise (CategoricalDistribution): 0.0002232404822674014\\u003cextra\\u003e\\u003c\\u002fextra\\u003e\",\"is_unbalance (CategoricalDistribution): 0.0005236907487532797\\u003cextra\\u003e\\u003c\\u002fextra\\u003e\",\"lambda_l1 (FloatDistribution): 0.0012223410405901717\\u003cextra\\u003e\\u003c\\u002fextra\\u003e\",\"feature_fraction_bynode (FloatDistribution): 0.001377610642205384\\u003cextra\\u003e\\u003c\\u002fextra\\u003e\",\"max_cat_trees (IntDistribution): 0.00291004422464227\\u003cextra\\u003e\\u003c\\u002fextra\\u003e\",\"max_cat_to_onehot (IntDistribution): 0.003055801846892397\\u003cextra\\u003e\\u003c\\u002fextra\\u003e\",\"min_data_in_leaf (IntDistribution): 0.003281936682220088\\u003cextra\\u003e\\u003c\\u002fextra\\u003e\",\"boosting_type (CategoricalDistribution): 0.0035128587395262213\\u003cextra\\u003e\\u003c\\u002fextra\\u003e\",\"cat_smooth (FloatDistribution): 0.0037370391646551005\\u003cextra\\u003e\\u003c\\u002fextra\\u003e\",\"min_gain_to_split (FloatDistribution): 0.006204033917731638\\u003cextra\\u003e\\u003c\\u002fextra\\u003e\",\"min_data_per_group (IntDistribution): 0.0077378627755133435\\u003cextra\\u003e\\u003c\\u002fextra\\u003e\",\"cat_l2 (FloatDistribution): 0.008658462455252883\\u003cextra\\u003e\\u003c\\u002fextra\\u003e\",\"tweedie_variance_power (FloatDistribution): 0.010134267173949696\\u003cextra\\u003e\\u003c\\u002fextra\\u003e\",\"top_rate (FloatDistribution): 0.01027745952203624\\u003cextra\\u003e\\u003c\\u002fextra\\u003e\",\"path_smooth (FloatDistribution): 0.01079030717080808\\u003cextra\\u003e\\u003c\\u002fextra\\u003e\",\"scale_pos_weight (FloatDistribution): 0.012141076985713607\\u003cextra\\u003e\\u003c\\u002fextra\\u003e\",\"max_depth (IntDistribution): 0.02203526460610995\\u003cextra\\u003e\\u003c\\u002fextra\\u003e\",\"min_sum_hessian_in_leaf (FloatDistribution): 0.022939198723027344\\u003cextra\\u003e\\u003c\\u002fextra\\u003e\",\"early_stopping_round (IntDistribution): 0.028023128139478912\\u003cextra\\u003e\\u003c\\u002fextra\\u003e\",\"lambda_l2 (FloatDistribution): 0.048175779398034455\\u003cextra\\u003e\\u003c\\u002fextra\\u003e\",\"max_cat_threshold (IntDistribution): 0.0736558378785215\\u003cextra\\u003e\\u003c\\u002fextra\\u003e\",\"max_bin (IntDistribution): 0.0751236441112896\\u003cextra\\u003e\\u003c\\u002fextra\\u003e\",\"feature_fraction (FloatDistribution): 0.07731212282514302\\u003cextra\\u003e\\u003c\\u002fextra\\u003e\",\"n_estimators (IntDistribution): 0.09287777174596527\\u003cextra\\u003e\\u003c\\u002fextra\\u003e\",\"num_leaves (IntDistribution): 0.11621091902870555\\u003cextra\\u003e\\u003c\\u002fextra\\u003e\",\"learning_rate (FloatDistribution): 0.35785829997096663\\u003cextra\\u003e\\u003c\\u002fextra\\u003e\"],\"name\":\"Objective Value 1\",\"orientation\":\"h\",\"text\":[\"\\u003c0.01\",\"\\u003c0.01\",\"\\u003c0.01\",\"\\u003c0.01\",\"\\u003c0.01\",\"\\u003c0.01\",\"\\u003c0.01\",\"\\u003c0.01\",\"\\u003c0.01\",\"\\u003c0.01\",\"\\u003c0.01\",\"\\u003c0.01\",\"0.01\",\"0.01\",\"0.01\",\"0.01\",\"0.02\",\"0.02\",\"0.03\",\"0.05\",\"0.07\",\"0.08\",\"0.08\",\"0.09\",\"0.12\",\"0.36\"],\"textposition\":\"outside\",\"x\":[0.0002232404822674014,0.0005236907487532797,0.0012223410405901717,0.001377610642205384,0.00291004422464227,0.003055801846892397,0.003281936682220088,0.0035128587395262213,0.0037370391646551005,0.006204033917731638,0.0077378627755133435,0.008658462455252883,0.010134267173949696,0.01027745952203624,0.01079030717080808,0.012141076985713607,0.02203526460610995,0.022939198723027344,0.028023128139478912,0.048175779398034455,0.0736558378785215,0.0751236441112896,0.07731212282514302,0.09287777174596527,0.11621091902870555,0.35785829997096663],\"y\":[\"force_col_wise\",\"is_unbalance\",\"lambda_l1\",\"feature_fraction_bynode\",\"max_cat_trees\",\"max_cat_to_onehot\",\"min_data_in_leaf\",\"boosting_type\",\"cat_smooth\",\"min_gain_to_split\",\"min_data_per_group\",\"cat_l2\",\"tweedie_variance_power\",\"top_rate\",\"path_smooth\",\"scale_pos_weight\",\"max_depth\",\"min_sum_hessian_in_leaf\",\"early_stopping_round\",\"lambda_l2\",\"max_cat_threshold\",\"max_bin\",\"feature_fraction\",\"n_estimators\",\"num_leaves\",\"learning_rate\"],\"type\":\"bar\"},{\"cliponaxis\":false,\"hovertemplate\":[\"lambda_l1 (FloatDistribution): 0.0002615728658977471\\u003cextra\\u003e\\u003c\\u002fextra\\u003e\",\"boosting_type (CategoricalDistribution): 0.0005782418509797176\\u003cextra\\u003e\\u003c\\u002fextra\\u003e\",\"force_col_wise (CategoricalDistribution): 0.0008710185153348544\\u003cextra\\u003e\\u003c\\u002fextra\\u003e\",\"feature_fraction_bynode (FloatDistribution): 0.0010431446549762434\\u003cextra\\u003e\\u003c\\u002fextra\\u003e\",\"is_unbalance (CategoricalDistribution): 0.0017075314778432443\\u003cextra\\u003e\\u003c\\u002fextra\\u003e\",\"max_cat_to_onehot (IntDistribution): 0.0022275449593746905\\u003cextra\\u003e\\u003c\\u002fextra\\u003e\",\"cat_l2 (FloatDistribution): 0.0030713165375626096\\u003cextra\\u003e\\u003c\\u002fextra\\u003e\",\"min_data_in_leaf (IntDistribution): 0.003123192761915472\\u003cextra\\u003e\\u003c\\u002fextra\\u003e\",\"tweedie_variance_power (FloatDistribution): 0.004981220575700698\\u003cextra\\u003e\\u003c\\u002fextra\\u003e\",\"min_gain_to_split (FloatDistribution): 0.005641463066837527\\u003cextra\\u003e\\u003c\\u002fextra\\u003e\",\"top_rate (FloatDistribution): 0.005932780096185114\\u003cextra\\u003e\\u003c\\u002fextra\\u003e\",\"cat_smooth (FloatDistribution): 0.006185837464241145\\u003cextra\\u003e\\u003c\\u002fextra\\u003e\",\"scale_pos_weight (FloatDistribution): 0.008232218829067404\\u003cextra\\u003e\\u003c\\u002fextra\\u003e\",\"min_sum_hessian_in_leaf (FloatDistribution): 0.008855127305183313\\u003cextra\\u003e\\u003c\\u002fextra\\u003e\",\"max_cat_trees (IntDistribution): 0.01115849038733561\\u003cextra\\u003e\\u003c\\u002fextra\\u003e\",\"lambda_l2 (FloatDistribution): 0.01174570491890444\\u003cextra\\u003e\\u003c\\u002fextra\\u003e\",\"min_data_per_group (IntDistribution): 0.02127642545685691\\u003cextra\\u003e\\u003c\\u002fextra\\u003e\",\"n_estimators (IntDistribution): 0.025634934066303548\\u003cextra\\u003e\\u003c\\u002fextra\\u003e\",\"early_stopping_round (IntDistribution): 0.03340613325534061\\u003cextra\\u003e\\u003c\\u002fextra\\u003e\",\"path_smooth (FloatDistribution): 0.042414116700973344\\u003cextra\\u003e\\u003c\\u002fextra\\u003e\",\"max_bin (IntDistribution): 0.046914335709368676\\u003cextra\\u003e\\u003c\\u002fextra\\u003e\",\"num_leaves (IntDistribution): 0.059486593433726254\\u003cextra\\u003e\\u003c\\u002fextra\\u003e\",\"max_depth (IntDistribution): 0.06079623767757772\\u003cextra\\u003e\\u003c\\u002fextra\\u003e\",\"feature_fraction (FloatDistribution): 0.06835806046648261\\u003cextra\\u003e\\u003c\\u002fextra\\u003e\",\"max_cat_threshold (IntDistribution): 0.10217593011889924\\u003cextra\\u003e\\u003c\\u002fextra\\u003e\",\"learning_rate (FloatDistribution): 0.4639208268471309\\u003cextra\\u003e\\u003c\\u002fextra\\u003e\"],\"name\":\"Objective Value 2\",\"orientation\":\"h\",\"text\":[\"\\u003c0.01\",\"\\u003c0.01\",\"\\u003c0.01\",\"\\u003c0.01\",\"\\u003c0.01\",\"\\u003c0.01\",\"\\u003c0.01\",\"\\u003c0.01\",\"\\u003c0.01\",\"\\u003c0.01\",\"\\u003c0.01\",\"\\u003c0.01\",\"\\u003c0.01\",\"\\u003c0.01\",\"0.01\",\"0.01\",\"0.02\",\"0.03\",\"0.03\",\"0.04\",\"0.05\",\"0.06\",\"0.06\",\"0.07\",\"0.10\",\"0.46\"],\"textposition\":\"outside\",\"x\":[0.0002615728658977471,0.0005782418509797176,0.0008710185153348544,0.0010431446549762434,0.0017075314778432443,0.0022275449593746905,0.0030713165375626096,0.003123192761915472,0.004981220575700698,0.005641463066837527,0.005932780096185114,0.006185837464241145,0.008232218829067404,0.008855127305183313,0.01115849038733561,0.01174570491890444,0.02127642545685691,0.025634934066303548,0.03340613325534061,0.042414116700973344,0.046914335709368676,0.059486593433726254,0.06079623767757772,0.06835806046648261,0.10217593011889924,0.4639208268471309],\"y\":[\"lambda_l1\",\"boosting_type\",\"force_col_wise\",\"feature_fraction_bynode\",\"is_unbalance\",\"max_cat_to_onehot\",\"cat_l2\",\"min_data_in_leaf\",\"tweedie_variance_power\",\"min_gain_to_split\",\"top_rate\",\"cat_smooth\",\"scale_pos_weight\",\"min_sum_hessian_in_leaf\",\"max_cat_trees\",\"lambda_l2\",\"min_data_per_group\",\"n_estimators\",\"early_stopping_round\",\"path_smooth\",\"max_bin\",\"num_leaves\",\"max_depth\",\"feature_fraction\",\"max_cat_threshold\",\"learning_rate\"],\"type\":\"bar\"}],                        {\"title\":{\"text\":\"Hyperparameter Importances\"},\"xaxis\":{\"title\":{\"text\":\"Hyperparameter Importance\"}},\"yaxis\":{\"title\":{\"text\":\"Hyperparameter\"}},\"template\":{\"data\":{\"histogram2dcontour\":[{\"type\":\"histogram2dcontour\",\"colorbar\":{\"outlinewidth\":0,\"ticks\":\"\"},\"colorscale\":[[0.0,\"#0d0887\"],[0.1111111111111111,\"#46039f\"],[0.2222222222222222,\"#7201a8\"],[0.3333333333333333,\"#9c179e\"],[0.4444444444444444,\"#bd3786\"],[0.5555555555555556,\"#d8576b\"],[0.6666666666666666,\"#ed7953\"],[0.7777777777777778,\"#fb9f3a\"],[0.8888888888888888,\"#fdca26\"],[1.0,\"#f0f921\"]]}],\"choropleth\":[{\"type\":\"choropleth\",\"colorbar\":{\"outlinewidth\":0,\"ticks\":\"\"}}],\"histogram2d\":[{\"type\":\"histogram2d\",\"colorbar\":{\"outlinewidth\":0,\"ticks\":\"\"},\"colorscale\":[[0.0,\"#0d0887\"],[0.1111111111111111,\"#46039f\"],[0.2222222222222222,\"#7201a8\"],[0.3333333333333333,\"#9c179e\"],[0.4444444444444444,\"#bd3786\"],[0.5555555555555556,\"#d8576b\"],[0.6666666666666666,\"#ed7953\"],[0.7777777777777778,\"#fb9f3a\"],[0.8888888888888888,\"#fdca26\"],[1.0,\"#f0f921\"]]}],\"heatmap\":[{\"type\":\"heatmap\",\"colorbar\":{\"outlinewidth\":0,\"ticks\":\"\"},\"colorscale\":[[0.0,\"#0d0887\"],[0.1111111111111111,\"#46039f\"],[0.2222222222222222,\"#7201a8\"],[0.3333333333333333,\"#9c179e\"],[0.4444444444444444,\"#bd3786\"],[0.5555555555555556,\"#d8576b\"],[0.6666666666666666,\"#ed7953\"],[0.7777777777777778,\"#fb9f3a\"],[0.8888888888888888,\"#fdca26\"],[1.0,\"#f0f921\"]]}],\"heatmapgl\":[{\"type\":\"heatmapgl\",\"colorbar\":{\"outlinewidth\":0,\"ticks\":\"\"},\"colorscale\":[[0.0,\"#0d0887\"],[0.1111111111111111,\"#46039f\"],[0.2222222222222222,\"#7201a8\"],[0.3333333333333333,\"#9c179e\"],[0.4444444444444444,\"#bd3786\"],[0.5555555555555556,\"#d8576b\"],[0.6666666666666666,\"#ed7953\"],[0.7777777777777778,\"#fb9f3a\"],[0.8888888888888888,\"#fdca26\"],[1.0,\"#f0f921\"]]}],\"contourcarpet\":[{\"type\":\"contourcarpet\",\"colorbar\":{\"outlinewidth\":0,\"ticks\":\"\"}}],\"contour\":[{\"type\":\"contour\",\"colorbar\":{\"outlinewidth\":0,\"ticks\":\"\"},\"colorscale\":[[0.0,\"#0d0887\"],[0.1111111111111111,\"#46039f\"],[0.2222222222222222,\"#7201a8\"],[0.3333333333333333,\"#9c179e\"],[0.4444444444444444,\"#bd3786\"],[0.5555555555555556,\"#d8576b\"],[0.6666666666666666,\"#ed7953\"],[0.7777777777777778,\"#fb9f3a\"],[0.8888888888888888,\"#fdca26\"],[1.0,\"#f0f921\"]]}],\"surface\":[{\"type\":\"surface\",\"colorbar\":{\"outlinewidth\":0,\"ticks\":\"\"},\"colorscale\":[[0.0,\"#0d0887\"],[0.1111111111111111,\"#46039f\"],[0.2222222222222222,\"#7201a8\"],[0.3333333333333333,\"#9c179e\"],[0.4444444444444444,\"#bd3786\"],[0.5555555555555556,\"#d8576b\"],[0.6666666666666666,\"#ed7953\"],[0.7777777777777778,\"#fb9f3a\"],[0.8888888888888888,\"#fdca26\"],[1.0,\"#f0f921\"]]}],\"mesh3d\":[{\"type\":\"mesh3d\",\"colorbar\":{\"outlinewidth\":0,\"ticks\":\"\"}}],\"scatter\":[{\"fillpattern\":{\"fillmode\":\"overlay\",\"size\":10,\"solidity\":0.2},\"type\":\"scatter\"}],\"parcoords\":[{\"type\":\"parcoords\",\"line\":{\"colorbar\":{\"outlinewidth\":0,\"ticks\":\"\"}}}],\"scatterpolargl\":[{\"type\":\"scatterpolargl\",\"marker\":{\"colorbar\":{\"outlinewidth\":0,\"ticks\":\"\"}}}],\"bar\":[{\"error_x\":{\"color\":\"#2a3f5f\"},\"error_y\":{\"color\":\"#2a3f5f\"},\"marker\":{\"line\":{\"color\":\"#E5ECF6\",\"width\":0.5},\"pattern\":{\"fillmode\":\"overlay\",\"size\":10,\"solidity\":0.2}},\"type\":\"bar\"}],\"scattergeo\":[{\"type\":\"scattergeo\",\"marker\":{\"colorbar\":{\"outlinewidth\":0,\"ticks\":\"\"}}}],\"scatterpolar\":[{\"type\":\"scatterpolar\",\"marker\":{\"colorbar\":{\"outlinewidth\":0,\"ticks\":\"\"}}}],\"histogram\":[{\"marker\":{\"pattern\":{\"fillmode\":\"overlay\",\"size\":10,\"solidity\":0.2}},\"type\":\"histogram\"}],\"scattergl\":[{\"type\":\"scattergl\",\"marker\":{\"colorbar\":{\"outlinewidth\":0,\"ticks\":\"\"}}}],\"scatter3d\":[{\"type\":\"scatter3d\",\"line\":{\"colorbar\":{\"outlinewidth\":0,\"ticks\":\"\"}},\"marker\":{\"colorbar\":{\"outlinewidth\":0,\"ticks\":\"\"}}}],\"scattermapbox\":[{\"type\":\"scattermapbox\",\"marker\":{\"colorbar\":{\"outlinewidth\":0,\"ticks\":\"\"}}}],\"scatterternary\":[{\"type\":\"scatterternary\",\"marker\":{\"colorbar\":{\"outlinewidth\":0,\"ticks\":\"\"}}}],\"scattercarpet\":[{\"type\":\"scattercarpet\",\"marker\":{\"colorbar\":{\"outlinewidth\":0,\"ticks\":\"\"}}}],\"carpet\":[{\"aaxis\":{\"endlinecolor\":\"#2a3f5f\",\"gridcolor\":\"white\",\"linecolor\":\"white\",\"minorgridcolor\":\"white\",\"startlinecolor\":\"#2a3f5f\"},\"baxis\":{\"endlinecolor\":\"#2a3f5f\",\"gridcolor\":\"white\",\"linecolor\":\"white\",\"minorgridcolor\":\"white\",\"startlinecolor\":\"#2a3f5f\"},\"type\":\"carpet\"}],\"table\":[{\"cells\":{\"fill\":{\"color\":\"#EBF0F8\"},\"line\":{\"color\":\"white\"}},\"header\":{\"fill\":{\"color\":\"#C8D4E3\"},\"line\":{\"color\":\"white\"}},\"type\":\"table\"}],\"barpolar\":[{\"marker\":{\"line\":{\"color\":\"#E5ECF6\",\"width\":0.5},\"pattern\":{\"fillmode\":\"overlay\",\"size\":10,\"solidity\":0.2}},\"type\":\"barpolar\"}],\"pie\":[{\"automargin\":true,\"type\":\"pie\"}]},\"layout\":{\"autotypenumbers\":\"strict\",\"colorway\":[\"#636efa\",\"#EF553B\",\"#00cc96\",\"#ab63fa\",\"#FFA15A\",\"#19d3f3\",\"#FF6692\",\"#B6E880\",\"#FF97FF\",\"#FECB52\"],\"font\":{\"color\":\"#2a3f5f\"},\"hovermode\":\"closest\",\"hoverlabel\":{\"align\":\"left\"},\"paper_bgcolor\":\"white\",\"plot_bgcolor\":\"#E5ECF6\",\"polar\":{\"bgcolor\":\"#E5ECF6\",\"angularaxis\":{\"gridcolor\":\"white\",\"linecolor\":\"white\",\"ticks\":\"\"},\"radialaxis\":{\"gridcolor\":\"white\",\"linecolor\":\"white\",\"ticks\":\"\"}},\"ternary\":{\"bgcolor\":\"#E5ECF6\",\"aaxis\":{\"gridcolor\":\"white\",\"linecolor\":\"white\",\"ticks\":\"\"},\"baxis\":{\"gridcolor\":\"white\",\"linecolor\":\"white\",\"ticks\":\"\"},\"caxis\":{\"gridcolor\":\"white\",\"linecolor\":\"white\",\"ticks\":\"\"}},\"coloraxis\":{\"colorbar\":{\"outlinewidth\":0,\"ticks\":\"\"}},\"colorscale\":{\"sequential\":[[0.0,\"#0d0887\"],[0.1111111111111111,\"#46039f\"],[0.2222222222222222,\"#7201a8\"],[0.3333333333333333,\"#9c179e\"],[0.4444444444444444,\"#bd3786\"],[0.5555555555555556,\"#d8576b\"],[0.6666666666666666,\"#ed7953\"],[0.7777777777777778,\"#fb9f3a\"],[0.8888888888888888,\"#fdca26\"],[1.0,\"#f0f921\"]],\"sequentialminus\":[[0.0,\"#0d0887\"],[0.1111111111111111,\"#46039f\"],[0.2222222222222222,\"#7201a8\"],[0.3333333333333333,\"#9c179e\"],[0.4444444444444444,\"#bd3786\"],[0.5555555555555556,\"#d8576b\"],[0.6666666666666666,\"#ed7953\"],[0.7777777777777778,\"#fb9f3a\"],[0.8888888888888888,\"#fdca26\"],[1.0,\"#f0f921\"]],\"diverging\":[[0,\"#8e0152\"],[0.1,\"#c51b7d\"],[0.2,\"#de77ae\"],[0.3,\"#f1b6da\"],[0.4,\"#fde0ef\"],[0.5,\"#f7f7f7\"],[0.6,\"#e6f5d0\"],[0.7,\"#b8e186\"],[0.8,\"#7fbc41\"],[0.9,\"#4d9221\"],[1,\"#276419\"]]},\"xaxis\":{\"gridcolor\":\"white\",\"linecolor\":\"white\",\"ticks\":\"\",\"title\":{\"standoff\":15},\"zerolinecolor\":\"white\",\"automargin\":true,\"zerolinewidth\":2},\"yaxis\":{\"gridcolor\":\"white\",\"linecolor\":\"white\",\"ticks\":\"\",\"title\":{\"standoff\":15},\"zerolinecolor\":\"white\",\"automargin\":true,\"zerolinewidth\":2},\"scene\":{\"xaxis\":{\"backgroundcolor\":\"#E5ECF6\",\"gridcolor\":\"white\",\"linecolor\":\"white\",\"showbackground\":true,\"ticks\":\"\",\"zerolinecolor\":\"white\",\"gridwidth\":2},\"yaxis\":{\"backgroundcolor\":\"#E5ECF6\",\"gridcolor\":\"white\",\"linecolor\":\"white\",\"showbackground\":true,\"ticks\":\"\",\"zerolinecolor\":\"white\",\"gridwidth\":2},\"zaxis\":{\"backgroundcolor\":\"#E5ECF6\",\"gridcolor\":\"white\",\"linecolor\":\"white\",\"showbackground\":true,\"ticks\":\"\",\"zerolinecolor\":\"white\",\"gridwidth\":2}},\"shapedefaults\":{\"line\":{\"color\":\"#2a3f5f\"}},\"annotationdefaults\":{\"arrowcolor\":\"#2a3f5f\",\"arrowhead\":0,\"arrowwidth\":1},\"geo\":{\"bgcolor\":\"white\",\"landcolor\":\"#E5ECF6\",\"subunitcolor\":\"white\",\"showland\":true,\"showlakes\":true,\"lakecolor\":\"white\"},\"title\":{\"x\":0.05},\"mapbox\":{\"style\":\"light\"}}}},                        {\"responsive\": true}                    ).then(function(){\n",
       "                            \n",
       "var gd = document.getElementById('17cf5e4f-3924-44f1-bec8-54f4f229bf74');\n",
       "var x = new MutationObserver(function (mutations, observer) {{\n",
       "        var display = window.getComputedStyle(gd).display;\n",
       "        if (!display || display === 'none') {{\n",
       "            console.log([gd, 'removed!']);\n",
       "            Plotly.purge(gd);\n",
       "            observer.disconnect();\n",
       "        }}\n",
       "}});\n",
       "\n",
       "// Listen for the removal of the full notebook cells\n",
       "var notebookContainer = gd.closest('#notebook-container');\n",
       "if (notebookContainer) {{\n",
       "    x.observe(notebookContainer, {childList: true});\n",
       "}}\n",
       "\n",
       "// Listen for the clearing of the current output cell\n",
       "var outputEl = gd.closest('.output');\n",
       "if (outputEl) {{\n",
       "    x.observe(outputEl, {childList: true});\n",
       "}}\n",
       "\n",
       "                        })                };                });            </script>        </div>"
      ]
     },
     "metadata": {},
     "output_type": "display_data"
    }
   ],
   "source": [
    "optuna.visualization.plot_param_importances(study)"
   ]
  },
  {
   "cell_type": "code",
   "execution_count": 21,
   "id": "58e5e869",
   "metadata": {
    "execution": {
     "iopub.execute_input": "2024-07-15T17:23:20.368148Z",
     "iopub.status.busy": "2024-07-15T17:23:20.367537Z",
     "iopub.status.idle": "2024-07-15T17:23:20.928349Z",
     "shell.execute_reply": "2024-07-15T17:23:20.926664Z"
    },
    "papermill": {
     "duration": 0.581171,
     "end_time": "2024-07-15T17:23:20.931432",
     "exception": false,
     "start_time": "2024-07-15T17:23:20.350261",
     "status": "completed"
    },
    "tags": []
   },
   "outputs": [
    {
     "data": {
      "text/plain": [
       "<Axes: title={'center': 'Feature importance'}, xlabel='Feature importance', ylabel='Features'>"
      ]
     },
     "execution_count": 21,
     "metadata": {},
     "output_type": "execute_result"
    },
    {
     "data": {
      "image/png": "[encoded data removed]",
      "text/plain": [
       "<Figure size 700x300 with 1 Axes>"
      ]
     },
     "metadata": {},
     "output_type": "display_data"
    }
   ],
   "source": [
    "lgb.plot_importance(model, figsize=(7,3))"
   ]
  },
  {
   "cell_type": "code",
   "execution_count": 22,
   "id": "c53da7b3",
   "metadata": {
    "execution": {
     "iopub.execute_input": "2024-07-15T17:23:20.966017Z",
     "iopub.status.busy": "2024-07-15T17:23:20.965464Z",
     "iopub.status.idle": "2024-07-15T17:23:21.409872Z",
     "shell.execute_reply": "2024-07-15T17:23:21.408253Z"
    },
    "papermill": {
     "duration": 0.467763,
     "end_time": "2024-07-15T17:23:21.413930",
     "exception": false,
     "start_time": "2024-07-15T17:23:20.946167",
     "status": "completed"
    },
    "tags": []
   },
   "outputs": [
    {
     "data": {
      "text/plain": [
       "<Axes: title={'center': 'Metric during training'}, xlabel='Iterations', ylabel='l1'>"
      ]
     },
     "execution_count": 22,
     "metadata": {},
     "output_type": "execute_result"
    },
    {
     "data": {
      "image/png": "[encoded data removed]",
      "text/plain": [
       "<Figure size 640x480 with 1 Axes>"
      ]
     },
     "metadata": {},
     "output_type": "display_data"
    }
   ],
   "source": [
    "lgb.plot_metric(model,\n",
    "                metric='l1')"
   ]
  },
  {
   "cell_type": "code",
   "execution_count": 23,
   "id": "7fabb97e",
   "metadata": {
    "execution": {
     "iopub.execute_input": "2024-07-15T17:23:21.447787Z",
     "iopub.status.busy": "2024-07-15T17:23:21.447314Z",
     "iopub.status.idle": "2024-07-15T17:23:21.569450Z",
     "shell.execute_reply": "2024-07-15T17:23:21.568028Z"
    },
    "papermill": {
     "duration": 0.141973,
     "end_time": "2024-07-15T17:23:21.572139",
     "exception": false,
     "start_time": "2024-07-15T17:23:21.430166",
     "status": "completed"
    },
    "tags": []
   },
   "outputs": [
    {
     "data": {
      "text/html": [
       "<style>#sk-container-id-3 {color: black;background-color: white;}#sk-container-id-3 pre{padding: 0;}#sk-container-id-3 div.sk-toggleable {background-color: white;}#sk-container-id-3 label.sk-toggleable__label {cursor: pointer;display: block;width: 100%;margin-bottom: 0;padding: 0.3em;box-sizing: border-box;text-align: center;}#sk-container-id-3 label.sk-toggleable__label-arrow:before {content: \"▸\";float: left;margin-right: 0.25em;color: #696969;}#sk-container-id-3 label.sk-toggleable__label-arrow:hover:before {color: black;}#sk-container-id-3 div.sk-estimator:hover label.sk-toggleable__label-arrow:before {color: black;}#sk-container-id-3 div.sk-toggleable__content {max-height: 0;max-width: 0;overflow: hidden;text-align: left;background-color: #f0f8ff;}#sk-container-id-3 div.sk-toggleable__content pre {margin: 0.2em;color: black;border-radius: 0.25em;background-color: #f0f8ff;}#sk-container-id-3 input.sk-toggleable__control:checked~div.sk-toggleable__content {max-height: 200px;max-width: 100%;overflow: auto;}#sk-container-id-3 input.sk-toggleable__control:checked~label.sk-toggleable__label-arrow:before {content: \"▾\";}#sk-container-id-3 div.sk-estimator input.sk-toggleable__control:checked~label.sk-toggleable__label {background-color: #d4ebff;}#sk-container-id-3 div.sk-label input.sk-toggleable__control:checked~label.sk-toggleable__label {background-color: #d4ebff;}#sk-container-id-3 input.sk-hidden--visually {border: 0;clip: rect(1px 1px 1px 1px);clip: rect(1px, 1px, 1px, 1px);height: 1px;margin: -1px;overflow: hidden;padding: 0;position: absolute;width: 1px;}#sk-container-id-3 div.sk-estimator {font-family: monospace;background-color: #f0f8ff;border: 1px dotted black;border-radius: 0.25em;box-sizing: border-box;margin-bottom: 0.5em;}#sk-container-id-3 div.sk-estimator:hover {background-color: #d4ebff;}#sk-container-id-3 div.sk-parallel-item::after {content: \"\";width: 100%;border-bottom: 1px solid gray;flex-grow: 1;}#sk-container-id-3 div.sk-label:hover label.sk-toggleable__label {background-color: #d4ebff;}#sk-container-id-3 div.sk-serial::before {content: \"\";position: absolute;border-left: 1px solid gray;box-sizing: border-box;top: 0;bottom: 0;left: 50%;z-index: 0;}#sk-container-id-3 div.sk-serial {display: flex;flex-direction: column;align-items: center;background-color: white;padding-right: 0.2em;padding-left: 0.2em;position: relative;}#sk-container-id-3 div.sk-item {position: relative;z-index: 1;}#sk-container-id-3 div.sk-parallel {display: flex;align-items: stretch;justify-content: center;background-color: white;position: relative;}#sk-container-id-3 div.sk-item::before, #sk-container-id-3 div.sk-parallel-item::before {content: \"\";position: absolute;border-left: 1px solid gray;box-sizing: border-box;top: 0;bottom: 0;left: 50%;z-index: -1;}#sk-container-id-3 div.sk-parallel-item {display: flex;flex-direction: column;z-index: 1;position: relative;background-color: white;}#sk-container-id-3 div.sk-parallel-item:first-child::after {align-self: flex-end;width: 50%;}#sk-container-id-3 div.sk-parallel-item:last-child::after {align-self: flex-start;width: 50%;}#sk-container-id-3 div.sk-parallel-item:only-child::after {width: 0;}#sk-container-id-3 div.sk-dashed-wrapped {border: 1px dashed gray;margin: 0 0.4em 0.5em 0.4em;box-sizing: border-box;padding-bottom: 0.4em;background-color: white;}#sk-container-id-3 div.sk-label label {font-family: monospace;font-weight: bold;display: inline-block;line-height: 1.2em;}#sk-container-id-3 div.sk-label-container {text-align: center;}#sk-container-id-3 div.sk-container {/* jupyter's `normalize.less` sets `[hidden] { display: none; }` but bootstrap.min.css set `[hidden] { display: none !important; }` so we also need the `!important` here to be able to override the default hidden behavior on the sphinx rendered scikit-learn.org. See: https://github.com/scikit-learn/scikit-learn/issues/21755 */display: inline-block !important;position: relative;}#sk-container-id-3 div.sk-text-repr-fallback {display: none;}</style><div id=\"sk-container-id-3\" class=\"sk-top-container\"><div class=\"sk-text-repr-fallback\"><pre>Pipeline(steps=[(&#x27;prep&#x27;,\n",
       "                 ColumnTransformer(transformers=[(&#x27;num&#x27;,\n",
       "                                                  Pipeline(steps=[(&#x27;imputer&#x27;,\n",
       "                                                                   SimpleImputer(strategy=&#x27;median&#x27;))]),\n",
       "                                                  Index([&#x27;allelectrons_Total&#x27;, &#x27;density_Total&#x27;, &#x27;allelectrons_Average&#x27;,\n",
       "       &#x27;val_e_Average&#x27;, &#x27;atomicweight_Average&#x27;, &#x27;ionenergy_Average&#x27;,\n",
       "       &#x27;el_neg_chi_Average&#x27;, &#x27;R_vdw_element_Average&#x27;, &#x27;R_cov_element_Average&#x27;,\n",
       "       &#x27;zaratio_Average&#x27;, &#x27;density_Av...\n",
       "                               min_data_in_leaf=88, min_data_per_group=59,\n",
       "                               min_gain_to_split=0.2982349413015827,\n",
       "                               min_sum_hessian_in_leaf=8.316927740184509,\n",
       "                               n_estimator=1000, n_estimators=58,\n",
       "                               num_leaves=152, other_rate=0.14174593798139282,\n",
       "                               path_smooth=0.2227470039814614,\n",
       "                               scale_pos_weight=1.4594539226187357,\n",
       "                               top_rate=0.680007761631174,\n",
       "                               tweedie_variance_power=1.5723348079984243,\n",
       "                               verbose=-1))])</pre><b>In a Jupyter environment, please rerun this cell to show the HTML representation or trust the notebook. <br />On GitHub, the HTML representation is unable to render, please try loading this page with nbviewer.org.</b></div><div class=\"sk-container\" hidden><div class=\"sk-item sk-dashed-wrapped\"><div class=\"sk-label-container\"><div class=\"sk-label sk-toggleable\"><input class=\"sk-toggleable__control sk-hidden--visually\" id=\"sk-estimator-id-8\" type=\"checkbox\" ><label for=\"sk-estimator-id-8\" class=\"sk-toggleable__label sk-toggleable__label-arrow\">Pipeline</label><div class=\"sk-toggleable__content\"><pre>Pipeline(steps=[(&#x27;prep&#x27;,\n",
       "                 ColumnTransformer(transformers=[(&#x27;num&#x27;,\n",
       "                                                  Pipeline(steps=[(&#x27;imputer&#x27;,\n",
       "                                                                   SimpleImputer(strategy=&#x27;median&#x27;))]),\n",
       "                                                  Index([&#x27;allelectrons_Total&#x27;, &#x27;density_Total&#x27;, &#x27;allelectrons_Average&#x27;,\n",
       "       &#x27;val_e_Average&#x27;, &#x27;atomicweight_Average&#x27;, &#x27;ionenergy_Average&#x27;,\n",
       "       &#x27;el_neg_chi_Average&#x27;, &#x27;R_vdw_element_Average&#x27;, &#x27;R_cov_element_Average&#x27;,\n",
       "       &#x27;zaratio_Average&#x27;, &#x27;density_Av...\n",
       "                               min_data_in_leaf=88, min_data_per_group=59,\n",
       "                               min_gain_to_split=0.2982349413015827,\n",
       "                               min_sum_hessian_in_leaf=8.316927740184509,\n",
       "                               n_estimator=1000, n_estimators=58,\n",
       "                               num_leaves=152, other_rate=0.14174593798139282,\n",
       "                               path_smooth=0.2227470039814614,\n",
       "                               scale_pos_weight=1.4594539226187357,\n",
       "                               top_rate=0.680007761631174,\n",
       "                               tweedie_variance_power=1.5723348079984243,\n",
       "                               verbose=-1))])</pre></div></div></div><div class=\"sk-serial\"><div class=\"sk-item sk-dashed-wrapped\"><div class=\"sk-label-container\"><div class=\"sk-label sk-toggleable\"><input class=\"sk-toggleable__control sk-hidden--visually\" id=\"sk-estimator-id-9\" type=\"checkbox\" ><label for=\"sk-estimator-id-9\" class=\"sk-toggleable__label sk-toggleable__label-arrow\">prep: ColumnTransformer</label><div class=\"sk-toggleable__content\"><pre>ColumnTransformer(transformers=[(&#x27;num&#x27;,\n",
       "                                 Pipeline(steps=[(&#x27;imputer&#x27;,\n",
       "                                                  SimpleImputer(strategy=&#x27;median&#x27;))]),\n",
       "                                 Index([&#x27;allelectrons_Total&#x27;, &#x27;density_Total&#x27;, &#x27;allelectrons_Average&#x27;,\n",
       "       &#x27;val_e_Average&#x27;, &#x27;atomicweight_Average&#x27;, &#x27;ionenergy_Average&#x27;,\n",
       "       &#x27;el_neg_chi_Average&#x27;, &#x27;R_vdw_element_Average&#x27;, &#x27;R_cov_element_Average&#x27;,\n",
       "       &#x27;zaratio_Average&#x27;, &#x27;density_Average&#x27;],\n",
       "      dtype=&#x27;object&#x27;)),\n",
       "                                (&#x27;cat&#x27;,\n",
       "                                 Pipeline(steps=[(&#x27;imputer&#x27;,\n",
       "                                                  SimpleImputer(strategy=&#x27;most_frequent&#x27;)),\n",
       "                                                 (&#x27;encoder&#x27;,\n",
       "                                                  OrdinalEncoder(handle_unknown=&#x27;use_encoded_value&#x27;,\n",
       "                                                                 unknown_value=-1))]),\n",
       "                                 Index([], dtype=&#x27;object&#x27;))])</pre></div></div></div><div class=\"sk-parallel\"><div class=\"sk-parallel-item\"><div class=\"sk-item\"><div class=\"sk-label-container\"><div class=\"sk-label sk-toggleable\"><input class=\"sk-toggleable__control sk-hidden--visually\" id=\"sk-estimator-id-10\" type=\"checkbox\" ><label for=\"sk-estimator-id-10\" class=\"sk-toggleable__label sk-toggleable__label-arrow\">num</label><div class=\"sk-toggleable__content\"><pre>Index([&#x27;allelectrons_Total&#x27;, &#x27;density_Total&#x27;, &#x27;allelectrons_Average&#x27;,\n",
       "       &#x27;val_e_Average&#x27;, &#x27;atomicweight_Average&#x27;, &#x27;ionenergy_Average&#x27;,\n",
       "       &#x27;el_neg_chi_Average&#x27;, &#x27;R_vdw_element_Average&#x27;, &#x27;R_cov_element_Average&#x27;,\n",
       "       &#x27;zaratio_Average&#x27;, &#x27;density_Average&#x27;],\n",
       "      dtype=&#x27;object&#x27;)</pre></div></div></div><div class=\"sk-serial\"><div class=\"sk-item\"><div class=\"sk-serial\"><div class=\"sk-item\"><div class=\"sk-estimator sk-toggleable\"><input class=\"sk-toggleable__control sk-hidden--visually\" id=\"sk-estimator-id-11\" type=\"checkbox\" ><label for=\"sk-estimator-id-11\" class=\"sk-toggleable__label sk-toggleable__label-arrow\">SimpleImputer</label><div class=\"sk-toggleable__content\"><pre>SimpleImputer(strategy=&#x27;median&#x27;)</pre></div></div></div></div></div></div></div></div><div class=\"sk-parallel-item\"><div class=\"sk-item\"><div class=\"sk-label-container\"><div class=\"sk-label sk-toggleable\"><input class=\"sk-toggleable__control sk-hidden--visually\" id=\"sk-estimator-id-12\" type=\"checkbox\" ><label for=\"sk-estimator-id-12\" class=\"sk-toggleable__label sk-toggleable__label-arrow\">cat</label><div class=\"sk-toggleable__content\"><pre>Index([], dtype=&#x27;object&#x27;)</pre></div></div></div><div class=\"sk-serial\"><div class=\"sk-item\"><div class=\"sk-serial\"><div class=\"sk-item\"><div class=\"sk-estimator sk-toggleable\"><input class=\"sk-toggleable__control sk-hidden--visually\" id=\"sk-estimator-id-13\" type=\"checkbox\" ><label for=\"sk-estimator-id-13\" class=\"sk-toggleable__label sk-toggleable__label-arrow\">SimpleImputer</label><div class=\"sk-toggleable__content\"><pre>SimpleImputer(strategy=&#x27;most_frequent&#x27;)</pre></div></div></div><div class=\"sk-item\"><div class=\"sk-estimator sk-toggleable\"><input class=\"sk-toggleable__control sk-hidden--visually\" id=\"sk-estimator-id-14\" type=\"checkbox\" ><label for=\"sk-estimator-id-14\" class=\"sk-toggleable__label sk-toggleable__label-arrow\">OrdinalEncoder</label><div class=\"sk-toggleable__content\"><pre>OrdinalEncoder(handle_unknown=&#x27;use_encoded_value&#x27;, unknown_value=-1)</pre></div></div></div></div></div></div></div></div></div></div><div class=\"sk-item\"><div class=\"sk-estimator sk-toggleable\"><input class=\"sk-toggleable__control sk-hidden--visually\" id=\"sk-estimator-id-15\" type=\"checkbox\" ><label for=\"sk-estimator-id-15\" class=\"sk-toggleable__label sk-toggleable__label-arrow\">LGBMRegressor</label><div class=\"sk-toggleable__content\"><pre>LGBMRegressor(boosting_type=&#x27;goss&#x27;, cat_l2=8.24276600061845,\n",
       "              cat_smooth=7.32361359445132, early_stopping_round=33,\n",
       "              feature_fraction=0.43231504407423255,\n",
       "              feature_fraction_bynode=0.8755539829743962, force_col_wise=False,\n",
       "              is_unbalance=False, lambda_l1=1.6666077808085231e-07,\n",
       "              lambda_l2=1.1376401944849282e-05,\n",
       "              learning_rate=0.12981738211427366, max_bin=105,\n",
       "              max_cat...\n",
       "              max_depth=34, min_data_in_leaf=88, min_data_per_group=59,\n",
       "              min_gain_to_split=0.2982349413015827,\n",
       "              min_sum_hessian_in_leaf=8.316927740184509, n_estimator=1000,\n",
       "              n_estimators=58, num_leaves=152, other_rate=0.14174593798139282,\n",
       "              path_smooth=0.2227470039814614,\n",
       "              scale_pos_weight=1.4594539226187357, top_rate=0.680007761631174,\n",
       "              tweedie_variance_power=1.5723348079984243, verbose=-1)</pre></div></div></div></div></div></div></div>"
      ],
      "text/plain": [
       "Pipeline(steps=[('prep',\n",
       "                 ColumnTransformer(transformers=[('num',\n",
       "                                                  Pipeline(steps=[('imputer',\n",
       "                                                                   SimpleImputer(strategy='median'))]),\n",
       "                                                  Index(['allelectrons_Total', 'density_Total', 'allelectrons_Average',\n",
       "       'val_e_Average', 'atomicweight_Average', 'ionenergy_Average',\n",
       "       'el_neg_chi_Average', 'R_vdw_element_Average', 'R_cov_element_Average',\n",
       "       'zaratio_Average', 'density_Av...\n",
       "                               min_data_in_leaf=88, min_data_per_group=59,\n",
       "                               min_gain_to_split=0.2982349413015827,\n",
       "                               min_sum_hessian_in_leaf=8.316927740184509,\n",
       "                               n_estimator=1000, n_estimators=58,\n",
       "                               num_leaves=152, other_rate=0.14174593798139282,\n",
       "                               path_smooth=0.2227470039814614,\n",
       "                               scale_pos_weight=1.4594539226187357,\n",
       "                               top_rate=0.680007761631174,\n",
       "                               tweedie_variance_power=1.5723348079984243,\n",
       "                               verbose=-1))])"
      ]
     },
     "execution_count": 23,
     "metadata": {},
     "output_type": "execute_result"
    }
   ],
   "source": [
    "model = Pipeline(\n",
    "    [(\"prep\", preprocessor),\n",
    "     (\"model\", model)\n",
    "     ]\n",
    ")\n",
    "\n",
    "model"
   ]
  },
  {
   "cell_type": "code",
   "execution_count": 24,
   "id": "60e5695a",
   "metadata": {
    "execution": {
     "iopub.execute_input": "2024-07-15T17:23:21.605701Z",
     "iopub.status.busy": "2024-07-15T17:23:21.605245Z",
     "iopub.status.idle": "2024-07-15T17:23:21.636338Z",
     "shell.execute_reply": "2024-07-15T17:23:21.635019Z"
    },
    "papermill": {
     "duration": 0.050806,
     "end_time": "2024-07-15T17:23:21.639008",
     "exception": false,
     "start_time": "2024-07-15T17:23:21.588202",
     "status": "completed"
    },
    "tags": []
   },
   "outputs": [
    {
     "data": {
      "text/plain": [
       "['my_model.pkl']"
      ]
     },
     "execution_count": 24,
     "metadata": {},
     "output_type": "execute_result"
    }
   ],
   "source": [
    "joblib.dump(model, 'my_model.pkl')"
   ]
  },
  {
   "cell_type": "code",
   "execution_count": 25,
   "id": "e84ea27c",
   "metadata": {
    "execution": {
     "iopub.execute_input": "2024-07-15T17:23:21.673553Z",
     "iopub.status.busy": "2024-07-15T17:23:21.673116Z",
     "iopub.status.idle": "2024-07-15T17:23:21.812618Z",
     "shell.execute_reply": "2024-07-15T17:23:21.811154Z"
    },
    "papermill": {
     "duration": 0.161347,
     "end_time": "2024-07-15T17:23:21.816912",
     "exception": false,
     "start_time": "2024-07-15T17:23:21.655565",
     "status": "completed"
    },
    "tags": []
   },
   "outputs": [
    {
     "data": {
      "text/html": [
       "<style>#sk-container-id-4 {color: black;background-color: white;}#sk-container-id-4 pre{padding: 0;}#sk-container-id-4 div.sk-toggleable {background-color: white;}#sk-container-id-4 label.sk-toggleable__label {cursor: pointer;display: block;width: 100%;margin-bottom: 0;padding: 0.3em;box-sizing: border-box;text-align: center;}#sk-container-id-4 label.sk-toggleable__label-arrow:before {content: \"▸\";float: left;margin-right: 0.25em;color: #696969;}#sk-container-id-4 label.sk-toggleable__label-arrow:hover:before {color: black;}#sk-container-id-4 div.sk-estimator:hover label.sk-toggleable__label-arrow:before {color: black;}#sk-container-id-4 div.sk-toggleable__content {max-height: 0;max-width: 0;overflow: hidden;text-align: left;background-color: #f0f8ff;}#sk-container-id-4 div.sk-toggleable__content pre {margin: 0.2em;color: black;border-radius: 0.25em;background-color: #f0f8ff;}#sk-container-id-4 input.sk-toggleable__control:checked~div.sk-toggleable__content {max-height: 200px;max-width: 100%;overflow: auto;}#sk-container-id-4 input.sk-toggleable__control:checked~label.sk-toggleable__label-arrow:before {content: \"▾\";}#sk-container-id-4 div.sk-estimator input.sk-toggleable__control:checked~label.sk-toggleable__label {background-color: #d4ebff;}#sk-container-id-4 div.sk-label input.sk-toggleable__control:checked~label.sk-toggleable__label {background-color: #d4ebff;}#sk-container-id-4 input.sk-hidden--visually {border: 0;clip: rect(1px 1px 1px 1px);clip: rect(1px, 1px, 1px, 1px);height: 1px;margin: -1px;overflow: hidden;padding: 0;position: absolute;width: 1px;}#sk-container-id-4 div.sk-estimator {font-family: monospace;background-color: #f0f8ff;border: 1px dotted black;border-radius: 0.25em;box-sizing: border-box;margin-bottom: 0.5em;}#sk-container-id-4 div.sk-estimator:hover {background-color: #d4ebff;}#sk-container-id-4 div.sk-parallel-item::after {content: \"\";width: 100%;border-bottom: 1px solid gray;flex-grow: 1;}#sk-container-id-4 div.sk-label:hover label.sk-toggleable__label {background-color: #d4ebff;}#sk-container-id-4 div.sk-serial::before {content: \"\";position: absolute;border-left: 1px solid gray;box-sizing: border-box;top: 0;bottom: 0;left: 50%;z-index: 0;}#sk-container-id-4 div.sk-serial {display: flex;flex-direction: column;align-items: center;background-color: white;padding-right: 0.2em;padding-left: 0.2em;position: relative;}#sk-container-id-4 div.sk-item {position: relative;z-index: 1;}#sk-container-id-4 div.sk-parallel {display: flex;align-items: stretch;justify-content: center;background-color: white;position: relative;}#sk-container-id-4 div.sk-item::before, #sk-container-id-4 div.sk-parallel-item::before {content: \"\";position: absolute;border-left: 1px solid gray;box-sizing: border-box;top: 0;bottom: 0;left: 50%;z-index: -1;}#sk-container-id-4 div.sk-parallel-item {display: flex;flex-direction: column;z-index: 1;position: relative;background-color: white;}#sk-container-id-4 div.sk-parallel-item:first-child::after {align-self: flex-end;width: 50%;}#sk-container-id-4 div.sk-parallel-item:last-child::after {align-self: flex-start;width: 50%;}#sk-container-id-4 div.sk-parallel-item:only-child::after {width: 0;}#sk-container-id-4 div.sk-dashed-wrapped {border: 1px dashed gray;margin: 0 0.4em 0.5em 0.4em;box-sizing: border-box;padding-bottom: 0.4em;background-color: white;}#sk-container-id-4 div.sk-label label {font-family: monospace;font-weight: bold;display: inline-block;line-height: 1.2em;}#sk-container-id-4 div.sk-label-container {text-align: center;}#sk-container-id-4 div.sk-container {/* jupyter's `normalize.less` sets `[hidden] { display: none; }` but bootstrap.min.css set `[hidden] { display: none !important; }` so we also need the `!important` here to be able to override the default hidden behavior on the sphinx rendered scikit-learn.org. See: https://github.com/scikit-learn/scikit-learn/issues/21755 */display: inline-block !important;position: relative;}#sk-container-id-4 div.sk-text-repr-fallback {display: none;}</style><div id=\"sk-container-id-4\" class=\"sk-top-container\"><div class=\"sk-text-repr-fallback\"><pre>Pipeline(steps=[(&#x27;prep&#x27;,\n",
       "                 ColumnTransformer(transformers=[(&#x27;num&#x27;,\n",
       "                                                  Pipeline(steps=[(&#x27;imputer&#x27;,\n",
       "                                                                   SimpleImputer(strategy=&#x27;median&#x27;))]),\n",
       "                                                  Index([&#x27;allelectrons_Total&#x27;, &#x27;density_Total&#x27;, &#x27;allelectrons_Average&#x27;,\n",
       "       &#x27;val_e_Average&#x27;, &#x27;atomicweight_Average&#x27;, &#x27;ionenergy_Average&#x27;,\n",
       "       &#x27;el_neg_chi_Average&#x27;, &#x27;R_vdw_element_Average&#x27;, &#x27;R_cov_element_Average&#x27;,\n",
       "       &#x27;zaratio_Average&#x27;, &#x27;density_Av...\n",
       "                               min_data_in_leaf=88, min_data_per_group=59,\n",
       "                               min_gain_to_split=0.2982349413015827,\n",
       "                               min_sum_hessian_in_leaf=8.316927740184509,\n",
       "                               n_estimator=1000, n_estimators=58,\n",
       "                               num_leaves=152, other_rate=0.14174593798139282,\n",
       "                               path_smooth=0.2227470039814614,\n",
       "                               scale_pos_weight=1.4594539226187357,\n",
       "                               top_rate=0.680007761631174,\n",
       "                               tweedie_variance_power=1.5723348079984243,\n",
       "                               verbose=-1))])</pre><b>In a Jupyter environment, please rerun this cell to show the HTML representation or trust the notebook. <br />On GitHub, the HTML representation is unable to render, please try loading this page with nbviewer.org.</b></div><div class=\"sk-container\" hidden><div class=\"sk-item sk-dashed-wrapped\"><div class=\"sk-label-container\"><div class=\"sk-label sk-toggleable\"><input class=\"sk-toggleable__control sk-hidden--visually\" id=\"sk-estimator-id-16\" type=\"checkbox\" ><label for=\"sk-estimator-id-16\" class=\"sk-toggleable__label sk-toggleable__label-arrow\">Pipeline</label><div class=\"sk-toggleable__content\"><pre>Pipeline(steps=[(&#x27;prep&#x27;,\n",
       "                 ColumnTransformer(transformers=[(&#x27;num&#x27;,\n",
       "                                                  Pipeline(steps=[(&#x27;imputer&#x27;,\n",
       "                                                                   SimpleImputer(strategy=&#x27;median&#x27;))]),\n",
       "                                                  Index([&#x27;allelectrons_Total&#x27;, &#x27;density_Total&#x27;, &#x27;allelectrons_Average&#x27;,\n",
       "       &#x27;val_e_Average&#x27;, &#x27;atomicweight_Average&#x27;, &#x27;ionenergy_Average&#x27;,\n",
       "       &#x27;el_neg_chi_Average&#x27;, &#x27;R_vdw_element_Average&#x27;, &#x27;R_cov_element_Average&#x27;,\n",
       "       &#x27;zaratio_Average&#x27;, &#x27;density_Av...\n",
       "                               min_data_in_leaf=88, min_data_per_group=59,\n",
       "                               min_gain_to_split=0.2982349413015827,\n",
       "                               min_sum_hessian_in_leaf=8.316927740184509,\n",
       "                               n_estimator=1000, n_estimators=58,\n",
       "                               num_leaves=152, other_rate=0.14174593798139282,\n",
       "                               path_smooth=0.2227470039814614,\n",
       "                               scale_pos_weight=1.4594539226187357,\n",
       "                               top_rate=0.680007761631174,\n",
       "                               tweedie_variance_power=1.5723348079984243,\n",
       "                               verbose=-1))])</pre></div></div></div><div class=\"sk-serial\"><div class=\"sk-item sk-dashed-wrapped\"><div class=\"sk-label-container\"><div class=\"sk-label sk-toggleable\"><input class=\"sk-toggleable__control sk-hidden--visually\" id=\"sk-estimator-id-17\" type=\"checkbox\" ><label for=\"sk-estimator-id-17\" class=\"sk-toggleable__label sk-toggleable__label-arrow\">prep: ColumnTransformer</label><div class=\"sk-toggleable__content\"><pre>ColumnTransformer(transformers=[(&#x27;num&#x27;,\n",
       "                                 Pipeline(steps=[(&#x27;imputer&#x27;,\n",
       "                                                  SimpleImputer(strategy=&#x27;median&#x27;))]),\n",
       "                                 Index([&#x27;allelectrons_Total&#x27;, &#x27;density_Total&#x27;, &#x27;allelectrons_Average&#x27;,\n",
       "       &#x27;val_e_Average&#x27;, &#x27;atomicweight_Average&#x27;, &#x27;ionenergy_Average&#x27;,\n",
       "       &#x27;el_neg_chi_Average&#x27;, &#x27;R_vdw_element_Average&#x27;, &#x27;R_cov_element_Average&#x27;,\n",
       "       &#x27;zaratio_Average&#x27;, &#x27;density_Average&#x27;],\n",
       "      dtype=&#x27;object&#x27;)),\n",
       "                                (&#x27;cat&#x27;,\n",
       "                                 Pipeline(steps=[(&#x27;imputer&#x27;,\n",
       "                                                  SimpleImputer(strategy=&#x27;most_frequent&#x27;)),\n",
       "                                                 (&#x27;encoder&#x27;,\n",
       "                                                  OrdinalEncoder(handle_unknown=&#x27;use_encoded_value&#x27;,\n",
       "                                                                 unknown_value=-1))]),\n",
       "                                 Index([], dtype=&#x27;object&#x27;))])</pre></div></div></div><div class=\"sk-parallel\"><div class=\"sk-parallel-item\"><div class=\"sk-item\"><div class=\"sk-label-container\"><div class=\"sk-label sk-toggleable\"><input class=\"sk-toggleable__control sk-hidden--visually\" id=\"sk-estimator-id-18\" type=\"checkbox\" ><label for=\"sk-estimator-id-18\" class=\"sk-toggleable__label sk-toggleable__label-arrow\">num</label><div class=\"sk-toggleable__content\"><pre>Index([&#x27;allelectrons_Total&#x27;, &#x27;density_Total&#x27;, &#x27;allelectrons_Average&#x27;,\n",
       "       &#x27;val_e_Average&#x27;, &#x27;atomicweight_Average&#x27;, &#x27;ionenergy_Average&#x27;,\n",
       "       &#x27;el_neg_chi_Average&#x27;, &#x27;R_vdw_element_Average&#x27;, &#x27;R_cov_element_Average&#x27;,\n",
       "       &#x27;zaratio_Average&#x27;, &#x27;density_Average&#x27;],\n",
       "      dtype=&#x27;object&#x27;)</pre></div></div></div><div class=\"sk-serial\"><div class=\"sk-item\"><div class=\"sk-serial\"><div class=\"sk-item\"><div class=\"sk-estimator sk-toggleable\"><input class=\"sk-toggleable__control sk-hidden--visually\" id=\"sk-estimator-id-19\" type=\"checkbox\" ><label for=\"sk-estimator-id-19\" class=\"sk-toggleable__label sk-toggleable__label-arrow\">SimpleImputer</label><div class=\"sk-toggleable__content\"><pre>SimpleImputer(strategy=&#x27;median&#x27;)</pre></div></div></div></div></div></div></div></div><div class=\"sk-parallel-item\"><div class=\"sk-item\"><div class=\"sk-label-container\"><div class=\"sk-label sk-toggleable\"><input class=\"sk-toggleable__control sk-hidden--visually\" id=\"sk-estimator-id-20\" type=\"checkbox\" ><label for=\"sk-estimator-id-20\" class=\"sk-toggleable__label sk-toggleable__label-arrow\">cat</label><div class=\"sk-toggleable__content\"><pre>Index([], dtype=&#x27;object&#x27;)</pre></div></div></div><div class=\"sk-serial\"><div class=\"sk-item\"><div class=\"sk-serial\"><div class=\"sk-item\"><div class=\"sk-estimator sk-toggleable\"><input class=\"sk-toggleable__control sk-hidden--visually\" id=\"sk-estimator-id-21\" type=\"checkbox\" ><label for=\"sk-estimator-id-21\" class=\"sk-toggleable__label sk-toggleable__label-arrow\">SimpleImputer</label><div class=\"sk-toggleable__content\"><pre>SimpleImputer(strategy=&#x27;most_frequent&#x27;)</pre></div></div></div><div class=\"sk-item\"><div class=\"sk-estimator sk-toggleable\"><input class=\"sk-toggleable__control sk-hidden--visually\" id=\"sk-estimator-id-22\" type=\"checkbox\" ><label for=\"sk-estimator-id-22\" class=\"sk-toggleable__label sk-toggleable__label-arrow\">OrdinalEncoder</label><div class=\"sk-toggleable__content\"><pre>OrdinalEncoder(handle_unknown=&#x27;use_encoded_value&#x27;, unknown_value=-1)</pre></div></div></div></div></div></div></div></div></div></div><div class=\"sk-item\"><div class=\"sk-estimator sk-toggleable\"><input class=\"sk-toggleable__control sk-hidden--visually\" id=\"sk-estimator-id-23\" type=\"checkbox\" ><label for=\"sk-estimator-id-23\" class=\"sk-toggleable__label sk-toggleable__label-arrow\">LGBMRegressor</label><div class=\"sk-toggleable__content\"><pre>LGBMRegressor(boosting_type=&#x27;goss&#x27;, cat_l2=8.24276600061845,\n",
       "              cat_smooth=7.32361359445132, early_stopping_round=33,\n",
       "              feature_fraction=0.43231504407423255,\n",
       "              feature_fraction_bynode=0.8755539829743962, force_col_wise=False,\n",
       "              is_unbalance=False, lambda_l1=1.6666077808085231e-07,\n",
       "              lambda_l2=1.1376401944849282e-05,\n",
       "              learning_rate=0.12981738211427366, max_bin=105,\n",
       "              max_cat...\n",
       "              max_depth=34, min_data_in_leaf=88, min_data_per_group=59,\n",
       "              min_gain_to_split=0.2982349413015827,\n",
       "              min_sum_hessian_in_leaf=8.316927740184509, n_estimator=1000,\n",
       "              n_estimators=58, num_leaves=152, other_rate=0.14174593798139282,\n",
       "              path_smooth=0.2227470039814614,\n",
       "              scale_pos_weight=1.4594539226187357, top_rate=0.680007761631174,\n",
       "              tweedie_variance_power=1.5723348079984243, verbose=-1)</pre></div></div></div></div></div></div></div>"
      ],
      "text/plain": [
       "Pipeline(steps=[('prep',\n",
       "                 ColumnTransformer(transformers=[('num',\n",
       "                                                  Pipeline(steps=[('imputer',\n",
       "                                                                   SimpleImputer(strategy='median'))]),\n",
       "                                                  Index(['allelectrons_Total', 'density_Total', 'allelectrons_Average',\n",
       "       'val_e_Average', 'atomicweight_Average', 'ionenergy_Average',\n",
       "       'el_neg_chi_Average', 'R_vdw_element_Average', 'R_cov_element_Average',\n",
       "       'zaratio_Average', 'density_Av...\n",
       "                               min_data_in_leaf=88, min_data_per_group=59,\n",
       "                               min_gain_to_split=0.2982349413015827,\n",
       "                               min_sum_hessian_in_leaf=8.316927740184509,\n",
       "                               n_estimator=1000, n_estimators=58,\n",
       "                               num_leaves=152, other_rate=0.14174593798139282,\n",
       "                               path_smooth=0.2227470039814614,\n",
       "                               scale_pos_weight=1.4594539226187357,\n",
       "                               top_rate=0.680007761631174,\n",
       "                               tweedie_variance_power=1.5723348079984243,\n",
       "                               verbose=-1))])"
      ]
     },
     "execution_count": 25,
     "metadata": {},
     "output_type": "execute_result"
    }
   ],
   "source": [
    "load_model = joblib.load('my_model.pkl')\n",
    "load_model"
   ]
  },
  {
   "cell_type": "code",
   "execution_count": null,
   "id": "04764a98",
   "metadata": {
    "papermill": {
     "duration": 0.016862,
     "end_time": "2024-07-15T17:23:21.852379",
     "exception": false,
     "start_time": "2024-07-15T17:23:21.835517",
     "status": "completed"
    },
    "tags": []
   },
   "outputs": [],
   "source": []
  }
 ],
 "metadata": {
  "kaggle": {
   "accelerator": "none",
   "dataSources": [
    {
     "databundleVersionId": 6989718,
     "sourceId": 60892,
     "sourceType": "competition"
    }
   ],
   "dockerImageVersionId": 30746,
   "isGpuEnabled": false,
   "isInternetEnabled": true,
   "language": "python",
   "sourceType": "notebook"
  },
  "kernelspec": {
   "display_name": "Python 3",
   "language": "python",
   "name": "python3"
  },
  "language_info": {
   "codemirror_mode": {
    "name": "ipython",
    "version": 3
   },
   "file_extension": ".py",
   "mimetype": "text/x-python",
   "name": "python",
   "nbconvert_exporter": "python",
   "pygments_lexer": "ipython3",
   "version": "3.10.13"
  },
  "papermill": {
   "default_parameters": {},
   "duration": 53.598567,
   "end_time": "2024-07-15T17:23:23.196669",
   "environment_variables": {},
   "exception": null,
   "input_path": "__notebook__.ipynb",
   "output_path": "__notebook__.ipynb",
   "parameters": {},
   "start_time": "2024-07-15T17:22:29.598102",
   "version": "2.5.0"
  }
 },
 "nbformat": 4,
 "nbformat_minor": 5
}
