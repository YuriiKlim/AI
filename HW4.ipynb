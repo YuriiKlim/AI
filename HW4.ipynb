{
  "nbformat": 4,
  "nbformat_minor": 0,
  "metadata": {
    "colab": {
      "provenance": [],
      "include_colab_link": true
    },
    "kernelspec": {
      "name": "python3",
      "display_name": "Python 3"
    },
    "language_info": {
      "name": "python"
    }
  },
  "cells": [
    {
      "cell_type": "markdown",
      "metadata": {
        "id": "view-in-github",
        "colab_type": "text"
      },
      "source": [
        "<a href=\"https://colab.research.google.com/github/YuriiKlim/AI/blob/neural_lesson4/HW4.ipynb\" target=\"_parent\"><img src=\"https://colab.research.google.com/assets/colab-badge.svg\" alt=\"Open In Colab\"/></a>"
      ]
    },
    {
      "cell_type": "markdown",
      "source": [
        "Імпорт модулів"
      ],
      "metadata": {
        "id": "w1r0k1UheNCz"
      }
    },
    {
      "cell_type": "code",
      "execution_count": 126,
      "metadata": {
        "id": "4XxgJqCDoExm",
        "outputId": "daaa9496-e1c1-4ad7-e378-7072d8dd90d1",
        "colab": {
          "base_uri": "https://localhost:8080/"
        }
      },
      "outputs": [
        {
          "output_type": "execute_result",
          "data": {
            "text/plain": [
              "<torch._C.Generator at 0x1a1c8df9190>"
            ]
          },
          "metadata": {},
          "execution_count": 126
        }
      ],
      "source": [
        "import torch\n",
        "import pandas as pd\n",
        "import os\n",
        "\n",
        "os.environ['CUDA_LAUNCH_BLOCKING'] = '1'\n",
        "os.environ['TORCH_USE_CUDA_DSA'] = '1'\n",
        "\n",
        "\n",
        "device = \"cuda\" if torch.cuda.is_available() else \"cpu\"\n",
        "torch.set_default_device(device)\n",
        "\n",
        "torch.manual_seed(0)"
      ]
    },
    {
      "cell_type": "markdown",
      "source": [
        "Дані про гриби\n",
        "\n",
        "[посилання](https://www.kaggle.com/datasets/uciml/mushroom-classification)"
      ],
      "metadata": {
        "id": "Kpk2KycTeQEE"
      }
    },
    {
      "cell_type": "code",
      "source": [
        "# трохи обробки даних\n",
        "from sklearn.preprocessing import OrdinalEncoder\n",
        "\n",
        "df = pd.read_csv('https://raw.githubusercontent.com/HalyshAnton/IT-Step-Pyton-AI/main/module3/data/mushrooms.csv')\n",
        "df = df.drop(columns='veil-type')\n",
        "\n",
        "encoder = OrdinalEncoder().set_output(transform='pandas')\n",
        "df = encoder.fit_transform(df).astype(int)\n",
        "\n",
        "columns = df.columns.delete(0)\n",
        "data = df[columns]\n",
        "df[columns] = (data - data.min()) / (data.max() - data.min())"
      ],
      "metadata": {
        "id": "926S2f5pdnH6"
      },
      "execution_count": 127,
      "outputs": []
    },
    {
      "cell_type": "markdown",
      "source": [
        "Дані непогано збалансовані"
      ],
      "metadata": {
        "id": "Mq24yRptMSrO"
      }
    },
    {
      "cell_type": "code",
      "source": [
        "df['class'].value_counts()"
      ],
      "metadata": {
        "colab": {
          "base_uri": "https://localhost:8080/"
        },
        "id": "X6CQ04GdKnuu",
        "outputId": "25ad85c6-525c-4483-a3ca-844a2b23da22"
      },
      "execution_count": 128,
      "outputs": [
        {
          "output_type": "execute_result",
          "data": {
            "text/plain": [
              "class\n",
              "0    4208\n",
              "1    3916\n",
              "Name: count, dtype: int64"
            ]
          },
          "metadata": {},
          "execution_count": 128
        }
      ]
    },
    {
      "cell_type": "code",
      "source": [
        "df"
      ],
      "metadata": {
        "colab": {
          "base_uri": "https://localhost:8080/",
          "height": 476
        },
        "id": "eG6_dawddqwd",
        "outputId": "eb82224e-3bc9-4b51-d3ca-27248ec39c64"
      },
      "execution_count": 129,
      "outputs": [
        {
          "output_type": "execute_result",
          "data": {
            "text/plain": [
              "      class  cap-shape  cap-surface  cap-color  bruises   odor  \\\n",
              "0         1        1.0     0.666667   0.444444      1.0  0.750   \n",
              "1         0        1.0     0.666667   1.000000      1.0  0.000   \n",
              "2         0        0.0     0.666667   0.888889      1.0  0.375   \n",
              "3         1        1.0     1.000000   0.888889      1.0  0.750   \n",
              "4         0        1.0     0.666667   0.333333      0.0  0.625   \n",
              "...     ...        ...          ...        ...      ...    ...   \n",
              "8119      0        0.6     0.666667   0.444444      0.0  0.625   \n",
              "8120      0        1.0     0.666667   0.444444      0.0  0.625   \n",
              "8121      0        0.4     0.666667   0.444444      0.0  0.625   \n",
              "8122      1        0.6     1.000000   0.444444      0.0  1.000   \n",
              "8123      0        1.0     0.666667   0.444444      0.0  0.625   \n",
              "\n",
              "      gill-attachment  gill-spacing  gill-size  gill-color  ...  \\\n",
              "0                 1.0           0.0        1.0    0.363636  ...   \n",
              "1                 1.0           0.0        0.0    0.363636  ...   \n",
              "2                 1.0           0.0        0.0    0.454545  ...   \n",
              "3                 1.0           0.0        1.0    0.454545  ...   \n",
              "4                 1.0           1.0        0.0    0.363636  ...   \n",
              "...               ...           ...        ...         ...  ...   \n",
              "8119              0.0           0.0        0.0    1.000000  ...   \n",
              "8120              0.0           0.0        0.0    1.000000  ...   \n",
              "8121              0.0           0.0        0.0    0.454545  ...   \n",
              "8122              1.0           0.0        1.0    0.000000  ...   \n",
              "8123              0.0           0.0        0.0    1.000000  ...   \n",
              "\n",
              "      stalk-surface-above-ring  stalk-surface-below-ring  \\\n",
              "0                     0.666667                  0.666667   \n",
              "1                     0.666667                  0.666667   \n",
              "2                     0.666667                  0.666667   \n",
              "3                     0.666667                  0.666667   \n",
              "4                     0.666667                  0.666667   \n",
              "...                        ...                       ...   \n",
              "8119                  0.666667                  0.666667   \n",
              "8120                  0.666667                  0.666667   \n",
              "8121                  0.666667                  0.666667   \n",
              "8122                  0.666667                  0.333333   \n",
              "8123                  0.666667                  0.666667   \n",
              "\n",
              "      stalk-color-above-ring  stalk-color-below-ring  veil-color  ring-number  \\\n",
              "0                      0.875                   0.875    0.666667          0.5   \n",
              "1                      0.875                   0.875    0.666667          0.5   \n",
              "2                      0.875                   0.875    0.666667          0.5   \n",
              "3                      0.875                   0.875    0.666667          0.5   \n",
              "4                      0.875                   0.875    0.666667          0.5   \n",
              "...                      ...                     ...         ...          ...   \n",
              "8119                   0.625                   0.625    0.333333          0.5   \n",
              "8120                   0.625                   0.625    0.000000          0.5   \n",
              "8121                   0.625                   0.625    0.333333          0.5   \n",
              "8122                   0.875                   0.875    0.666667          0.5   \n",
              "8123                   0.625                   0.625    0.333333          0.5   \n",
              "\n",
              "      ring-type  spore-print-color  population   habitat  \n",
              "0           1.0              0.250         0.6  0.833333  \n",
              "1           1.0              0.375         0.4  0.166667  \n",
              "2           1.0              0.375         0.4  0.500000  \n",
              "3           1.0              0.250         0.6  0.833333  \n",
              "4           0.0              0.375         0.0  0.166667  \n",
              "...         ...                ...         ...       ...  \n",
              "8119        1.0              0.000         0.2  0.333333  \n",
              "8120        1.0              0.000         0.8  0.333333  \n",
              "8121        1.0              0.000         0.2  0.333333  \n",
              "8122        0.0              0.875         0.8  0.333333  \n",
              "8123        1.0              0.500         0.2  0.333333  \n",
              "\n",
              "[8124 rows x 22 columns]"
            ],
            "text/html": [
              "<div>\n",
              "<style scoped>\n",
              "    .dataframe tbody tr th:only-of-type {\n",
              "        vertical-align: middle;\n",
              "    }\n",
              "\n",
              "    .dataframe tbody tr th {\n",
              "        vertical-align: top;\n",
              "    }\n",
              "\n",
              "    .dataframe thead th {\n",
              "        text-align: right;\n",
              "    }\n",
              "</style>\n",
              "<table border=\"1\" class=\"dataframe\">\n",
              "  <thead>\n",
              "    <tr style=\"text-align: right;\">\n",
              "      <th></th>\n",
              "      <th>class</th>\n",
              "      <th>cap-shape</th>\n",
              "      <th>cap-surface</th>\n",
              "      <th>cap-color</th>\n",
              "      <th>bruises</th>\n",
              "      <th>odor</th>\n",
              "      <th>gill-attachment</th>\n",
              "      <th>gill-spacing</th>\n",
              "      <th>gill-size</th>\n",
              "      <th>gill-color</th>\n",
              "      <th>...</th>\n",
              "      <th>stalk-surface-above-ring</th>\n",
              "      <th>stalk-surface-below-ring</th>\n",
              "      <th>stalk-color-above-ring</th>\n",
              "      <th>stalk-color-below-ring</th>\n",
              "      <th>veil-color</th>\n",
              "      <th>ring-number</th>\n",
              "      <th>ring-type</th>\n",
              "      <th>spore-print-color</th>\n",
              "      <th>population</th>\n",
              "      <th>habitat</th>\n",
              "    </tr>\n",
              "  </thead>\n",
              "  <tbody>\n",
              "    <tr>\n",
              "      <th>0</th>\n",
              "      <td>1</td>\n",
              "      <td>1.0</td>\n",
              "      <td>0.666667</td>\n",
              "      <td>0.444444</td>\n",
              "      <td>1.0</td>\n",
              "      <td>0.750</td>\n",
              "      <td>1.0</td>\n",
              "      <td>0.0</td>\n",
              "      <td>1.0</td>\n",
              "      <td>0.363636</td>\n",
              "      <td>...</td>\n",
              "      <td>0.666667</td>\n",
              "      <td>0.666667</td>\n",
              "      <td>0.875</td>\n",
              "      <td>0.875</td>\n",
              "      <td>0.666667</td>\n",
              "      <td>0.5</td>\n",
              "      <td>1.0</td>\n",
              "      <td>0.250</td>\n",
              "      <td>0.6</td>\n",
              "      <td>0.833333</td>\n",
              "    </tr>\n",
              "    <tr>\n",
              "      <th>1</th>\n",
              "      <td>0</td>\n",
              "      <td>1.0</td>\n",
              "      <td>0.666667</td>\n",
              "      <td>1.000000</td>\n",
              "      <td>1.0</td>\n",
              "      <td>0.000</td>\n",
              "      <td>1.0</td>\n",
              "      <td>0.0</td>\n",
              "      <td>0.0</td>\n",
              "      <td>0.363636</td>\n",
              "      <td>...</td>\n",
              "      <td>0.666667</td>\n",
              "      <td>0.666667</td>\n",
              "      <td>0.875</td>\n",
              "      <td>0.875</td>\n",
              "      <td>0.666667</td>\n",
              "      <td>0.5</td>\n",
              "      <td>1.0</td>\n",
              "      <td>0.375</td>\n",
              "      <td>0.4</td>\n",
              "      <td>0.166667</td>\n",
              "    </tr>\n",
              "    <tr>\n",
              "      <th>2</th>\n",
              "      <td>0</td>\n",
              "      <td>0.0</td>\n",
              "      <td>0.666667</td>\n",
              "      <td>0.888889</td>\n",
              "      <td>1.0</td>\n",
              "      <td>0.375</td>\n",
              "      <td>1.0</td>\n",
              "      <td>0.0</td>\n",
              "      <td>0.0</td>\n",
              "      <td>0.454545</td>\n",
              "      <td>...</td>\n",
              "      <td>0.666667</td>\n",
              "      <td>0.666667</td>\n",
              "      <td>0.875</td>\n",
              "      <td>0.875</td>\n",
              "      <td>0.666667</td>\n",
              "      <td>0.5</td>\n",
              "      <td>1.0</td>\n",
              "      <td>0.375</td>\n",
              "      <td>0.4</td>\n",
              "      <td>0.500000</td>\n",
              "    </tr>\n",
              "    <tr>\n",
              "      <th>3</th>\n",
              "      <td>1</td>\n",
              "      <td>1.0</td>\n",
              "      <td>1.000000</td>\n",
              "      <td>0.888889</td>\n",
              "      <td>1.0</td>\n",
              "      <td>0.750</td>\n",
              "      <td>1.0</td>\n",
              "      <td>0.0</td>\n",
              "      <td>1.0</td>\n",
              "      <td>0.454545</td>\n",
              "      <td>...</td>\n",
              "      <td>0.666667</td>\n",
              "      <td>0.666667</td>\n",
              "      <td>0.875</td>\n",
              "      <td>0.875</td>\n",
              "      <td>0.666667</td>\n",
              "      <td>0.5</td>\n",
              "      <td>1.0</td>\n",
              "      <td>0.250</td>\n",
              "      <td>0.6</td>\n",
              "      <td>0.833333</td>\n",
              "    </tr>\n",
              "    <tr>\n",
              "      <th>4</th>\n",
              "      <td>0</td>\n",
              "      <td>1.0</td>\n",
              "      <td>0.666667</td>\n",
              "      <td>0.333333</td>\n",
              "      <td>0.0</td>\n",
              "      <td>0.625</td>\n",
              "      <td>1.0</td>\n",
              "      <td>1.0</td>\n",
              "      <td>0.0</td>\n",
              "      <td>0.363636</td>\n",
              "      <td>...</td>\n",
              "      <td>0.666667</td>\n",
              "      <td>0.666667</td>\n",
              "      <td>0.875</td>\n",
              "      <td>0.875</td>\n",
              "      <td>0.666667</td>\n",
              "      <td>0.5</td>\n",
              "      <td>0.0</td>\n",
              "      <td>0.375</td>\n",
              "      <td>0.0</td>\n",
              "      <td>0.166667</td>\n",
              "    </tr>\n",
              "    <tr>\n",
              "      <th>...</th>\n",
              "      <td>...</td>\n",
              "      <td>...</td>\n",
              "      <td>...</td>\n",
              "      <td>...</td>\n",
              "      <td>...</td>\n",
              "      <td>...</td>\n",
              "      <td>...</td>\n",
              "      <td>...</td>\n",
              "      <td>...</td>\n",
              "      <td>...</td>\n",
              "      <td>...</td>\n",
              "      <td>...</td>\n",
              "      <td>...</td>\n",
              "      <td>...</td>\n",
              "      <td>...</td>\n",
              "      <td>...</td>\n",
              "      <td>...</td>\n",
              "      <td>...</td>\n",
              "      <td>...</td>\n",
              "      <td>...</td>\n",
              "      <td>...</td>\n",
              "    </tr>\n",
              "    <tr>\n",
              "      <th>8119</th>\n",
              "      <td>0</td>\n",
              "      <td>0.6</td>\n",
              "      <td>0.666667</td>\n",
              "      <td>0.444444</td>\n",
              "      <td>0.0</td>\n",
              "      <td>0.625</td>\n",
              "      <td>0.0</td>\n",
              "      <td>0.0</td>\n",
              "      <td>0.0</td>\n",
              "      <td>1.000000</td>\n",
              "      <td>...</td>\n",
              "      <td>0.666667</td>\n",
              "      <td>0.666667</td>\n",
              "      <td>0.625</td>\n",
              "      <td>0.625</td>\n",
              "      <td>0.333333</td>\n",
              "      <td>0.5</td>\n",
              "      <td>1.0</td>\n",
              "      <td>0.000</td>\n",
              "      <td>0.2</td>\n",
              "      <td>0.333333</td>\n",
              "    </tr>\n",
              "    <tr>\n",
              "      <th>8120</th>\n",
              "      <td>0</td>\n",
              "      <td>1.0</td>\n",
              "      <td>0.666667</td>\n",
              "      <td>0.444444</td>\n",
              "      <td>0.0</td>\n",
              "      <td>0.625</td>\n",
              "      <td>0.0</td>\n",
              "      <td>0.0</td>\n",
              "      <td>0.0</td>\n",
              "      <td>1.000000</td>\n",
              "      <td>...</td>\n",
              "      <td>0.666667</td>\n",
              "      <td>0.666667</td>\n",
              "      <td>0.625</td>\n",
              "      <td>0.625</td>\n",
              "      <td>0.000000</td>\n",
              "      <td>0.5</td>\n",
              "      <td>1.0</td>\n",
              "      <td>0.000</td>\n",
              "      <td>0.8</td>\n",
              "      <td>0.333333</td>\n",
              "    </tr>\n",
              "    <tr>\n",
              "      <th>8121</th>\n",
              "      <td>0</td>\n",
              "      <td>0.4</td>\n",
              "      <td>0.666667</td>\n",
              "      <td>0.444444</td>\n",
              "      <td>0.0</td>\n",
              "      <td>0.625</td>\n",
              "      <td>0.0</td>\n",
              "      <td>0.0</td>\n",
              "      <td>0.0</td>\n",
              "      <td>0.454545</td>\n",
              "      <td>...</td>\n",
              "      <td>0.666667</td>\n",
              "      <td>0.666667</td>\n",
              "      <td>0.625</td>\n",
              "      <td>0.625</td>\n",
              "      <td>0.333333</td>\n",
              "      <td>0.5</td>\n",
              "      <td>1.0</td>\n",
              "      <td>0.000</td>\n",
              "      <td>0.2</td>\n",
              "      <td>0.333333</td>\n",
              "    </tr>\n",
              "    <tr>\n",
              "      <th>8122</th>\n",
              "      <td>1</td>\n",
              "      <td>0.6</td>\n",
              "      <td>1.000000</td>\n",
              "      <td>0.444444</td>\n",
              "      <td>0.0</td>\n",
              "      <td>1.000</td>\n",
              "      <td>1.0</td>\n",
              "      <td>0.0</td>\n",
              "      <td>1.0</td>\n",
              "      <td>0.000000</td>\n",
              "      <td>...</td>\n",
              "      <td>0.666667</td>\n",
              "      <td>0.333333</td>\n",
              "      <td>0.875</td>\n",
              "      <td>0.875</td>\n",
              "      <td>0.666667</td>\n",
              "      <td>0.5</td>\n",
              "      <td>0.0</td>\n",
              "      <td>0.875</td>\n",
              "      <td>0.8</td>\n",
              "      <td>0.333333</td>\n",
              "    </tr>\n",
              "    <tr>\n",
              "      <th>8123</th>\n",
              "      <td>0</td>\n",
              "      <td>1.0</td>\n",
              "      <td>0.666667</td>\n",
              "      <td>0.444444</td>\n",
              "      <td>0.0</td>\n",
              "      <td>0.625</td>\n",
              "      <td>0.0</td>\n",
              "      <td>0.0</td>\n",
              "      <td>0.0</td>\n",
              "      <td>1.000000</td>\n",
              "      <td>...</td>\n",
              "      <td>0.666667</td>\n",
              "      <td>0.666667</td>\n",
              "      <td>0.625</td>\n",
              "      <td>0.625</td>\n",
              "      <td>0.333333</td>\n",
              "      <td>0.5</td>\n",
              "      <td>1.0</td>\n",
              "      <td>0.500</td>\n",
              "      <td>0.2</td>\n",
              "      <td>0.333333</td>\n",
              "    </tr>\n",
              "  </tbody>\n",
              "</table>\n",
              "<p>8124 rows × 22 columns</p>\n",
              "</div>"
            ]
          },
          "metadata": {},
          "execution_count": 129
        }
      ]
    },
    {
      "cell_type": "code",
      "source": [
        "df.info()"
      ],
      "metadata": {
        "id": "tMYxFg2Wbm8h",
        "outputId": "81962783-99a3-4680-b2b0-0ea9cbac935b",
        "colab": {
          "base_uri": "https://localhost:8080/"
        }
      },
      "execution_count": 130,
      "outputs": [
        {
          "output_type": "stream",
          "name": "stdout",
          "text": [
            "<class 'pandas.core.frame.DataFrame'>\n",
            "RangeIndex: 8124 entries, 0 to 8123\n",
            "Data columns (total 22 columns):\n",
            " #   Column                    Non-Null Count  Dtype  \n",
            "---  ------                    --------------  -----  \n",
            " 0   class                     8124 non-null   int32  \n",
            " 1   cap-shape                 8124 non-null   float64\n",
            " 2   cap-surface               8124 non-null   float64\n",
            " 3   cap-color                 8124 non-null   float64\n",
            " 4   bruises                   8124 non-null   float64\n",
            " 5   odor                      8124 non-null   float64\n",
            " 6   gill-attachment           8124 non-null   float64\n",
            " 7   gill-spacing              8124 non-null   float64\n",
            " 8   gill-size                 8124 non-null   float64\n",
            " 9   gill-color                8124 non-null   float64\n",
            " 10  stalk-shape               8124 non-null   float64\n",
            " 11  stalk-root                8124 non-null   float64\n",
            " 12  stalk-surface-above-ring  8124 non-null   float64\n",
            " 13  stalk-surface-below-ring  8124 non-null   float64\n",
            " 14  stalk-color-above-ring    8124 non-null   float64\n",
            " 15  stalk-color-below-ring    8124 non-null   float64\n",
            " 16  veil-color                8124 non-null   float64\n",
            " 17  ring-number               8124 non-null   float64\n",
            " 18  ring-type                 8124 non-null   float64\n",
            " 19  spore-print-color         8124 non-null   float64\n",
            " 20  population                8124 non-null   float64\n",
            " 21  habitat                   8124 non-null   float64\n",
            "dtypes: float64(21), int32(1)\n",
            "memory usage: 1.3 MB\n"
          ]
        }
      ]
    },
    {
      "cell_type": "markdown",
      "source": [
        "Потрібно на основі інформації про гриб зрозуміти чи він їстівним(клас 1) `class`"
      ],
      "metadata": {
        "id": "KAmkR_CFejgQ"
      }
    },
    {
      "cell_type": "markdown",
      "source": [
        "# Завдання 1\n",
        "Створіть клас Dataset для тренувальних та тестових даних"
      ],
      "metadata": {
        "id": "dBt0E5BJe6OK"
      }
    },
    {
      "cell_type": "code",
      "source": [
        "from torch.utils.data import Dataset\n",
        "from sklearn.model_selection import train_test_split\n",
        "\n",
        "class MyDataset(Dataset):\n",
        "    def __init__(self, X, y):\n",
        "      self.X = torch.FloatTensor(X.values)\n",
        "      self.y = torch.FloatTensor(y.values)\n",
        "      self.y = self.y.reshape(-1, 1)\n",
        "\n",
        "    def __len__(self):\n",
        "      return len(self.X)\n",
        "\n",
        "    def __getitem__(self, idx):\n",
        "      return self.X[idx], self.y[idx]\n",
        "\n",
        "# Create dataset object\n",
        "X = df.drop(columns=['class'])\n",
        "y = df['class']\n",
        "\n",
        "dataset = MyDataset(X, y)"
      ],
      "metadata": {
        "id": "T1O64pUCRvLa"
      },
      "execution_count": 131,
      "outputs": []
    },
    {
      "cell_type": "code",
      "source": [
        "X_train, X_test, y_train, y_test = train_test_split(X, y,\n",
        "                                                    train_size=0.8,\n",
        "                                                    random_state=42,\n",
        "                                                    stratify=y)\n",
        "\n",
        "dataset_train = MyDataset(X_train, y_train)\n",
        "dataset_test = MyDataset(X_test, y_test)"
      ],
      "metadata": {
        "id": "IvGvuvbkbw7j"
      },
      "execution_count": 132,
      "outputs": []
    },
    {
      "cell_type": "markdown",
      "source": [
        "# Завдання 2\n",
        "Створіть DataLoader"
      ],
      "metadata": {
        "id": "zQlB_6WzfB8n"
      }
    },
    {
      "cell_type": "code",
      "source": [
        "from torch.utils.data import DataLoader\n",
        "\n",
        "batch_size = 64\n",
        "device = \"cuda\" if torch.cuda.is_available() else \"cpu\"\n",
        "generator = torch.Generator(device='cuda') if device == \"cuda\" else torch.Generator()\n",
        "\n",
        "train_dl = DataLoader(dataset_train, batch_size=batch_size, shuffle=True, generator=generator)\n",
        "test_dl = DataLoader(dataset_test, batch_size=batch_size, shuffle=True, generator=generator)"
      ],
      "metadata": {
        "id": "-6-po4H4fZQy"
      },
      "execution_count": 133,
      "outputs": []
    },
    {
      "cell_type": "markdown",
      "source": [
        "# Завдання 3\n",
        "Створіть нейромережу"
      ],
      "metadata": {
        "id": "2W93LiDxfZrx"
      }
    },
    {
      "cell_type": "code",
      "source": [
        "from torch import nn, optim\n",
        "import matplotlib.pyplot as plt\n",
        "from sklearn.metrics import ConfusionMatrixDisplay, RocCurveDisplay\n",
        "import torch.nn.functional as F\n",
        "\n",
        "class Model(nn.Module):\n",
        "    def __init__(self, input_size=2, hidden_sizes=[4], output_size=1, activations=['sigmoid'], normalizations=None):\n",
        "        super(Model, self).__init__()\n",
        "        self.layers = nn.ModuleList()\n",
        "\n",
        "        self.layers.append(nn.Linear(input_size, hidden_sizes[0]))\n",
        "\n",
        "        self.activations = [self.get_activation(act) for act in activations]\n",
        "\n",
        "        self.normalizations = normalizations\n",
        "\n",
        "        for i in range(len(hidden_sizes) - 1):\n",
        "            if normalizations and normalizations[i] is not None:\n",
        "                self.layers.append(self.get_normalization(normalizations[i], hidden_sizes[i]))\n",
        "            self.layers.append(self.activations[i])\n",
        "            self.layers.append(nn.Linear(hidden_sizes[i], hidden_sizes[i + 1]))\n",
        "\n",
        "        if normalizations and normalizations[-1] is not None:\n",
        "            self.layers.append(self.get_normalization(normalizations[-1], hidden_sizes[-1]))\n",
        "        self.layers.append(self.activations[-1])\n",
        "        self.layers.append(nn.Linear(hidden_sizes[-1], output_size))\n",
        "        self.output_activation = nn.Sigmoid()\n",
        "\n",
        "    def get_activation(self, activation):\n",
        "        if activation == 'sigmoid':\n",
        "            return nn.Sigmoid()\n",
        "        elif activation == 'relu':\n",
        "            return nn.ReLU()\n",
        "        elif activation == 'leaky_relu':\n",
        "            return nn.LeakyReLU()\n",
        "        elif activation == 'tanh':\n",
        "            return nn.Tanh()\n",
        "        else:\n",
        "            raise ValueError(\"Unknown activation function\")\n",
        "\n",
        "    def get_normalization(self, norm, num_features):\n",
        "        if norm == 'batch':\n",
        "            return nn.BatchNorm1d(num_features)\n",
        "        elif norm == 'layer':\n",
        "            return nn.LayerNorm(num_features)\n",
        "        else:\n",
        "            raise ValueError(\"Unknown normalization type\")\n",
        "\n",
        "    def forward(self, x):\n",
        "        for layer in self.layers:\n",
        "            x = layer(x)\n",
        "        return self.output_activation(x)\n",
        "\n",
        "    def predict(self, x, device='cpu'):\n",
        "        if isinstance(x, pd.DataFrame):\n",
        "            x = torch.tensor(x.values, dtype=torch.float32)\n",
        "        elif isinstance(x, np.ndarray):\n",
        "            x = torch.tensor(x, dtype=torch.float32)\n",
        "        x = x.to(device)\n",
        "        self.to(device)\n",
        "        self.eval()\n",
        "        with torch.no_grad():\n",
        "            y_pred = self.forward(x)\n",
        "            y_pred = F.sigmoid(y_pred)\n",
        "\n",
        "        return y_pred.cpu().numpy()\n",
        "\n",
        "model = Model(input_size=21,\n",
        "              hidden_sizes=[42, 21, 10, 5],\n",
        "              output_size=1,\n",
        "              activations=['leaky_relu', 'relu', 'leaky_relu', 'relu'],\n",
        "              normalizations=['batch', None, None, None])"
      ],
      "metadata": {
        "id": "p9DHog7Xf7xE"
      },
      "execution_count": 134,
      "outputs": []
    },
    {
      "cell_type": "code",
      "source": [
        "from torchsummary import summary\n",
        "\n",
        "summary(model, input_size=(21,))"
      ],
      "metadata": {
        "id": "Vsz6znEgclgT",
        "outputId": "efb6b579-f8a9-454a-8b5c-2d8e791af233",
        "colab": {
          "base_uri": "https://localhost:8080/"
        }
      },
      "execution_count": 135,
      "outputs": [
        {
          "output_type": "stream",
          "name": "stdout",
          "text": [
            "=================================================================\n",
            "Layer (type:depth-idx)                   Param #\n",
            "=================================================================\n",
            "├─ModuleList: 1-1                        --\n",
            "|    └─Linear: 2-1                       924\n",
            "|    └─BatchNorm1d: 2-2                  84\n",
            "|    └─LeakyReLU: 2-3                    --\n",
            "|    └─Linear: 2-4                       903\n",
            "|    └─ReLU: 2-5                         --\n",
            "|    └─Linear: 2-6                       220\n",
            "|    └─LeakyReLU: 2-7                    --\n",
            "|    └─Linear: 2-8                       55\n",
            "|    └─ReLU: 2-9                         --\n",
            "|    └─Linear: 2-10                      6\n",
            "├─Sigmoid: 1-2                           --\n",
            "=================================================================\n",
            "Total params: 2,192\n",
            "Trainable params: 2,192\n",
            "Non-trainable params: 0\n",
            "=================================================================\n"
          ]
        },
        {
          "output_type": "execute_result",
          "data": {
            "text/plain": [
              "=================================================================\n",
              "Layer (type:depth-idx)                   Param #\n",
              "=================================================================\n",
              "├─ModuleList: 1-1                        --\n",
              "|    └─Linear: 2-1                       924\n",
              "|    └─BatchNorm1d: 2-2                  84\n",
              "|    └─LeakyReLU: 2-3                    --\n",
              "|    └─Linear: 2-4                       903\n",
              "|    └─ReLU: 2-5                         --\n",
              "|    └─Linear: 2-6                       220\n",
              "|    └─LeakyReLU: 2-7                    --\n",
              "|    └─Linear: 2-8                       55\n",
              "|    └─ReLU: 2-9                         --\n",
              "|    └─Linear: 2-10                      6\n",
              "├─Sigmoid: 1-2                           --\n",
              "=================================================================\n",
              "Total params: 2,192\n",
              "Trainable params: 2,192\n",
              "Non-trainable params: 0\n",
              "================================================================="
            ]
          },
          "metadata": {},
          "execution_count": 135
        }
      ]
    },
    {
      "cell_type": "markdown",
      "source": [
        "# Завдання 4\n",
        "Визначте функцію втрат та оптимізатор, можливо графік швидкості навчання"
      ],
      "metadata": {
        "id": "VmNUVkkUf8gB"
      }
    },
    {
      "cell_type": "code",
      "source": [
        "from torch.optim import Adam, SGD, RMSprop\n",
        "from torch.optim.lr_scheduler import StepLR, ExponentialLR, ReduceLROnPlateau\n",
        "\n",
        "class TrainingComponents:\n",
        "    def __init__(self, model, y_train, loss_fn='BCEWithLogitsLoss', optimizer='Adam', scheduler='StepLR',\n",
        "                 loss_params=None, opt_params=None, sched_params=None):\n",
        "\n",
        "        self.model = model\n",
        "        self.loss_fn = self.get_loss_fn(loss_fn, y_train, loss_params)\n",
        "        self.optimizer = self.get_optimizer(optimizer, opt_params)\n",
        "        self.scheduler = self.get_scheduler(scheduler, sched_params)\n",
        "\n",
        "    def get_loss_fn(self, loss_fn, y_train, params):\n",
        "        num0 = sum(y_train == 0)\n",
        "        num1 = sum(y_train == 1)\n",
        "        if loss_fn == 'BCEWithLogitsLoss':\n",
        "            pos_weight = torch.tensor(num0 / num1)\n",
        "            return nn.BCEWithLogitsLoss(pos_weight=pos_weight)\n",
        "        elif loss_fn == 'MSELoss':\n",
        "            return nn.MSELoss(**(params if params else {}))\n",
        "        elif loss_fn == 'CrossEntropyLoss':\n",
        "            return nn.CrossEntropyLoss(**(params if params else {}))\n",
        "        else:\n",
        "            raise ValueError(\"Unknown loss function\")\n",
        "\n",
        "    def get_optimizer(self, optimizer, params):\n",
        "        if optimizer == 'Adam':\n",
        "            return Adam(self.model.parameters(), **(params if params else {'lr': 1e-3}))\n",
        "        elif optimizer == 'SGD':\n",
        "            return SGD(self.model.parameters(), **(params if params else {'lr': 1e-3, 'momentum': 0.9}))\n",
        "        elif optimizer == 'RMSprop':\n",
        "            return RMSprop(self.model.parameters(), **(params if params else {'lr': 1e-3}))\n",
        "        else:\n",
        "            raise ValueError(\"Unknown optimizer\")\n",
        "\n",
        "    def get_scheduler(self, scheduler, params):\n",
        "        if scheduler == 'StepLR':\n",
        "            return StepLR(self.optimizer, **(params if params else {'step_size': 5, 'gamma': 0.1}))\n",
        "        elif scheduler == 'ExponentialLR':\n",
        "            return ExponentialLR(self.optimizer, **(params if params else {'gamma': 0.9}))\n",
        "        elif scheduler == 'ReduceLROnPlateau':\n",
        "            return ReduceLROnPlateau(self.optimizer, **(params if params else {'mode': 'min', 'factor': 0.1, 'patience': 10}))\n",
        "        else:\n",
        "            raise ValueError(\"Unknown scheduler\")\n",
        "\n",
        "\n",
        "components = TrainingComponents(model=model,\n",
        "                                y_train=y_train,\n",
        "                                loss_fn='BCEWithLogitsLoss',\n",
        "                                optimizer='Adam',\n",
        "                                scheduler='StepLR',\n",
        "                                loss_params=None,\n",
        "                                opt_params={'lr': 1e-2, 'weight_decay': 0},\n",
        "                                sched_params={'step_size': 50, 'gamma': 0.1})"
      ],
      "metadata": {
        "id": "e1sw9oRBgDXR"
      },
      "execution_count": 136,
      "outputs": []
    },
    {
      "cell_type": "code",
      "source": [
        "loss_fn = components.loss_fn\n",
        "optimizer = components.optimizer\n",
        "scheduler = components.scheduler"
      ],
      "metadata": {
        "id": "gYeeTWx7c2R_"
      },
      "execution_count": 137,
      "outputs": []
    },
    {
      "cell_type": "markdown",
      "source": [
        "# Завдання 5\n",
        "Натренуйте нейромережу."
      ],
      "metadata": {
        "id": "qTOFCl_egEFZ"
      }
    },
    {
      "cell_type": "code",
      "source": [
        "import time\n",
        "\n",
        "def train(model, optimizer, loss_fn, train_dl, val_dl, scheduler=None,\n",
        "          metrics=None, metrics_name=None, epochs=20, device='cpu', task='regression', log_interval=1):\n",
        "    metrics = metrics if metrics else []\n",
        "    metrics_name = metrics_name if metrics_name else [metric.__name__ for metric in metrics]\n",
        "\n",
        "    history = {}\n",
        "    history['loss'] = []\n",
        "    history['val_loss'] = []\n",
        "    for name in metrics_name:\n",
        "        history[name] = []\n",
        "        history[f'val_{name}'] = []\n",
        "\n",
        "    model.to(device)\n",
        "\n",
        "    start_time_train = time.time()\n",
        "\n",
        "    for epoch in range(epochs):\n",
        "        start_time_epoch = time.time()\n",
        "\n",
        "        model.train()\n",
        "        history_train = {name: 0 for name in ['loss'] + metrics_name}\n",
        "\n",
        "        for batch in train_dl:\n",
        "            x = batch[0].to(device)\n",
        "            y = batch[1].to(device)\n",
        "            y_pred = model(x)\n",
        "            loss = loss_fn(y_pred, y)\n",
        "\n",
        "            optimizer.zero_grad()\n",
        "            loss.backward()\n",
        "            optimizer.step()\n",
        "\n",
        "            y_pred = y_pred.detach().cpu().numpy()\n",
        "            y = y.detach().cpu().numpy()\n",
        "\n",
        "            history_train['loss'] += loss.item() * x.size(0)\n",
        "            for name, func in zip(metrics_name, metrics):\n",
        "                try:\n",
        "                    if func == roc_auc_score:\n",
        "                        # Check if there are both classes present in y\n",
        "                        if len(np.unique(y)) == 2:\n",
        "                            history_train[name] += func(y, y_pred) * x.size(0)\n",
        "                    else:\n",
        "                        history_train[name] += func(y, y_pred) * x.size(0)\n",
        "                except:\n",
        "                    if task == 'binary':\n",
        "                        y_pred_ = y_pred.round()\n",
        "                    elif task == 'multiclass':\n",
        "                        y_pred_ = y_pred.argmax(axis=-1)\n",
        "                    history_train[name] += func(y, y_pred_) * x.size(0)\n",
        "\n",
        "        for name in history_train:\n",
        "            history_train[name] /= len(train_dl.dataset)\n",
        "\n",
        "        model.eval()\n",
        "        history_val = {'val_' + name: 0 for name in metrics_name + ['loss']}\n",
        "\n",
        "        with torch.no_grad():\n",
        "            for batch in val_dl:\n",
        "                x = batch[0].to(device)\n",
        "                y = batch[1].to(device)\n",
        "                y_pred = model(x)\n",
        "                loss = loss_fn(y_pred, y)\n",
        "\n",
        "                y_pred = y_pred.cpu().numpy()\n",
        "                y = y.cpu().numpy()\n",
        "\n",
        "                history_val['val_loss'] += loss.item() * x.size(0)\n",
        "                for name, func in zip(metrics_name, metrics):\n",
        "                    try:\n",
        "                        if func == roc_auc_score:\n",
        "                            # Check if there are both classes present in y\n",
        "                            if len(np.unique(y)) == 2:\n",
        "                                history_val['val_' + name] += func(y, y_pred) * x.size(0)\n",
        "                        else:\n",
        "                            history_val['val_' + name] += func(y, y_pred) * x.size(0)\n",
        "                    except:\n",
        "                        if task == 'binary':\n",
        "                            y_pred_ = y_pred.round()\n",
        "                        elif task == 'multiclass':\n",
        "                            y_pred_ = y_pred.argmax(axis=-1)\n",
        "\n",
        "                        history_val['val_' + name] += func(y, y_pred_) * x.size(0)\n",
        "\n",
        "        for name in history_val:\n",
        "            history_val[name] /= len(val_dl.dataset)\n",
        "\n",
        "        end_time_epoch = time.time()\n",
        "\n",
        "        for name in history_train:\n",
        "            history[name].append(history_train[name])\n",
        "            history['val_' + name].append(history_val['val_' + name])\n",
        "\n",
        "        total_time_epoch = end_time_epoch - start_time_epoch\n",
        "\n",
        "        if epoch + 1 == 1 or (epoch + 1) % log_interval == 0 or epoch + 1 == epochs:\n",
        "            print(f'Epoch {epoch + 1:4d} {total_time_epoch:4.0f}sec', end='\\t')\n",
        "            for name in history_train:\n",
        "                print(f'{name}: {history[name][-1]:10.3g}', end='\\t')\n",
        "                print(f\"val_{name}: {history['val_' + name][-1]:10.3g}\", end='\\t')\n",
        "            print()\n",
        "\n",
        "        if scheduler:\n",
        "            if isinstance(scheduler, ReduceLROnPlateau):\n",
        "                scheduler.step(history_val['val_loss'][-1])\n",
        "            else:\n",
        "                scheduler.step()\n",
        "\n",
        "    end_time_train = time.time()\n",
        "    total_time_train = end_time_train - start_time_train\n",
        "    print()\n",
        "    print('Time total:     %5.2f sec' % (total_time_train))\n",
        "\n",
        "    return history"
      ],
      "metadata": {
        "id": "Nxo4p3IUgOx5"
      },
      "execution_count": 138,
      "outputs": []
    },
    {
      "cell_type": "code",
      "source": [
        "from sklearn.metrics import accuracy_score, roc_auc_score\n",
        "\n",
        "history = train(model, optimizer, loss_fn, train_dl, test_dl, scheduler=scheduler,\n",
        "                epochs=50,\n",
        "                metrics=[accuracy_score, roc_auc_score],\n",
        "                device=device,\n",
        "                task='binary',\n",
        "                log_interval=5)"
      ],
      "metadata": {
        "id": "C8FPSCqic9no",
        "outputId": "a79d0526-a887-464b-8dca-5a2b10d34c0f",
        "colab": {
          "base_uri": "https://localhost:8080/"
        }
      },
      "execution_count": 139,
      "outputs": [
        {
          "output_type": "stream",
          "name": "stdout",
          "text": [
            "Epoch    1    1sec\tloss:      0.562\tval_loss:      0.531\taccuracy_score:      0.941\tval_accuracy_score:      0.979\troc_auc_score:      0.941\tval_roc_auc_score:      0.979\t\n",
            "Epoch    5    1sec\tloss:       0.53\tval_loss:      0.529\taccuracy_score:      0.982\tval_accuracy_score:      0.985\troc_auc_score:      0.982\tval_roc_auc_score:      0.985\t\n",
            "Epoch   10    1sec\tloss:       0.53\tval_loss:      0.528\taccuracy_score:      0.982\tval_accuracy_score:      0.986\troc_auc_score:      0.982\tval_roc_auc_score:      0.986\t\n",
            "Epoch   15    1sec\tloss:      0.529\tval_loss:      0.528\taccuracy_score:      0.985\tval_accuracy_score:      0.987\troc_auc_score:      0.985\tval_roc_auc_score:      0.987\t\n",
            "Epoch   20    1sec\tloss:      0.531\tval_loss:      0.531\taccuracy_score:       0.98\tval_accuracy_score:       0.98\troc_auc_score:      0.981\tval_roc_auc_score:       0.98\t\n",
            "Epoch   25    1sec\tloss:      0.532\tval_loss:      0.528\taccuracy_score:      0.977\tval_accuracy_score:      0.987\troc_auc_score:      0.976\tval_roc_auc_score:      0.987\t\n",
            "Epoch   30    1sec\tloss:      0.529\tval_loss:      0.528\taccuracy_score:      0.985\tval_accuracy_score:      0.987\troc_auc_score:      0.985\tval_roc_auc_score:      0.987\t\n",
            "Epoch   35    1sec\tloss:      0.529\tval_loss:      0.528\taccuracy_score:      0.985\tval_accuracy_score:      0.987\troc_auc_score:      0.985\tval_roc_auc_score:      0.987\t\n",
            "Epoch   40    1sec\tloss:      0.529\tval_loss:      0.528\taccuracy_score:      0.985\tval_accuracy_score:      0.987\troc_auc_score:      0.984\tval_roc_auc_score:      0.987\t\n",
            "Epoch   45    1sec\tloss:      0.529\tval_loss:      0.528\taccuracy_score:      0.984\tval_accuracy_score:      0.987\troc_auc_score:      0.984\tval_roc_auc_score:      0.987\t\n",
            "Epoch   50    1sec\tloss:      0.529\tval_loss:      0.528\taccuracy_score:      0.985\tval_accuracy_score:      0.987\troc_auc_score:      0.984\tval_roc_auc_score:      0.987\t\n",
            "\n",
            "Time total:     48.73 sec\n"
          ]
        }
      ]
    },
    {
      "cell_type": "markdown",
      "source": [
        "# Завдання 6\n",
        "Збережіть нейромережу та зробіть прогноз"
      ],
      "metadata": {
        "id": "aoclw4XlgPhB"
      }
    },
    {
      "cell_type": "code",
      "source": [
        "import matplotlib.pyplot as plt\n",
        "\n",
        "def plot_metric(history, name):\n",
        "  plt.title(f\"Model results with {name}\")\n",
        "  plt.plot(history[name], label='train')\n",
        "  plt.plot(history['val_'+name], label='val')\n",
        "  plt.xlabel('Epoch')\n",
        "  plt.ylabel(name)\n",
        "  plt.legend()\n",
        "\n",
        "\n",
        "plot_metric(history, 'loss')"
      ],
      "metadata": {
        "id": "UzVFg-KjgYgy",
        "outputId": "1815c221-d33e-43b6-9f9b-cc6c6840d694",
        "colab": {
          "base_uri": "https://localhost:8080/",
          "height": 472
        }
      },
      "execution_count": 140,
      "outputs": [
        {
          "output_type": "display_data",
          "data": {
            "text/plain": [
              "<Figure size 640x480 with 1 Axes>"
            ],
            "image/png": "[encoded data removed]"
          },
          "metadata": {}
        }
      ]
    },
    {
      "cell_type": "code",
      "source": [
        "plot_metric(history, 'accuracy_score')"
      ],
      "metadata": {
        "id": "sP1TGW38dOFn",
        "outputId": "2b821d2b-6231-41df-b0b2-cf11bcefd94c",
        "colab": {
          "base_uri": "https://localhost:8080/",
          "height": 472
        }
      },
      "execution_count": 141,
      "outputs": [
        {
          "output_type": "display_data",
          "data": {
            "text/plain": [
              "<Figure size 640x480 with 1 Axes>"
            ],
            "image/png": "[encoded data removed]"
          },
          "metadata": {}
        }
      ]
    },
    {
      "cell_type": "code",
      "source": [
        "from sklearn.metrics import ConfusionMatrixDisplay, RocCurveDisplay\n",
        "\n",
        "model = model.to('cpu')\n",
        "y_pred = model.predict(X_test, device='cpu')\n",
        "\n",
        "ConfusionMatrixDisplay.from_predictions(y_test, y_pred.round())\n",
        "plt.plot()\n",
        "\n",
        "RocCurveDisplay.from_predictions(y_test, y_pred, pos_label=1)"
      ],
      "metadata": {
        "id": "qYGND1V9dR2d",
        "outputId": "ce171368-fc99-4c68-8cab-38bd20133100",
        "colab": {
          "base_uri": "https://localhost:8080/",
          "height": 900
        }
      },
      "execution_count": 142,
      "outputs": [
        {
          "output_type": "execute_result",
          "data": {
            "text/plain": [
              "<sklearn.metrics._plot.roc_curve.RocCurveDisplay at 0x1a210f92840>"
            ]
          },
          "metadata": {},
          "execution_count": 142
        },
        {
          "output_type": "display_data",
          "data": {
            "text/plain": [
              "<Figure size 640x480 with 2 Axes>"
            ],
            "image/png": "[encoded data removed]"
          },
          "metadata": {}
        },
        {
          "output_type": "display_data",
          "data": {
            "text/plain": [
              "<Figure size 640x480 with 1 Axes>"
            ],
            "image/png": "[encoded data removed]"
          },
          "metadata": {}
        }
      ]
    },
    {
      "cell_type": "code",
      "source": [
        "torch.save(model.state_dict(), 'model.pth')\n",
        "model.load_state_dict(torch.load('model.pth'))"
      ],
      "metadata": {
        "id": "QDJ7o4RodfbQ",
        "outputId": "431b22b7-a323-4c92-c3ea-b00ea75833c3",
        "colab": {
          "base_uri": "https://localhost:8080/"
        }
      },
      "execution_count": 143,
      "outputs": [
        {
          "output_type": "execute_result",
          "data": {
            "text/plain": [
              "<All keys matched successfully>"
            ]
          },
          "metadata": {},
          "execution_count": 143
        }
      ]
    }
  ]
}