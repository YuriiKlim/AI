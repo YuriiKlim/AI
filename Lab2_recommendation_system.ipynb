{
  "nbformat": 4,
  "nbformat_minor": 0,
  "metadata": {
    "colab": {
      "provenance": [],
      "include_colab_link": true
    },
    "kernelspec": {
      "name": "python3",
      "display_name": "Python 3"
    },
    "language_info": {
      "name": "python"
    }
  },
  "cells": [
    {
      "cell_type": "markdown",
      "metadata": {
        "id": "view-in-github",
        "colab_type": "text"
      },
      "source": [
        "<a href=\"https://colab.research.google.com/github/YuriiKlim/AI/blob/learning_without_teacher/Lab2_recommendation_system.ipynb\" target=\"_parent\"><img src=\"https://colab.research.google.com/assets/colab-badge.svg\" alt=\"Open In Colab\"/></a>"
      ]
    },
    {
      "cell_type": "markdown",
      "source": [
        "# Завдання\n",
        "\n",
        "* Створіть Reader\n",
        "* Створіть датасет та розділіть його на тренувальні та тестові дані\n",
        "* Виберіть метрики для поріняння якості моделей\n",
        "* На основі метрик виберіть найкращу модель\n",
        "* Використайте `optuna` для підбору найкращих параметрів\n",
        "\n"
      ],
      "metadata": {
        "id": "cpuh9s2eYX3v"
      }
    },
    {
      "cell_type": "code",
      "source": [
        "!pip install -q surprise"
      ],
      "metadata": {
        "colab": {
          "base_uri": "https://localhost:8080/"
        },
        "id": "OkyEuCKaH642",
        "outputId": "9aa9b687-5ffd-4545-f259-c75114f42282"
      },
      "execution_count": 2,
      "outputs": [
        {
          "output_type": "stream",
          "name": "stdout",
          "text": [
            "\u001b[?25l     \u001b[90m━━━━━━━━━━━━━━━━━━━━━━━━━━━━━━━━━━━━━━━━\u001b[0m \u001b[32m0.0/154.4 kB\u001b[0m \u001b[31m?\u001b[0m eta \u001b[36m-:--:--\u001b[0m\r\u001b[2K     \u001b[90m━━━━━━━━━━━━━━━━━━━━━━━━━━━━━━━━━━━━━━━━\u001b[0m \u001b[32m154.4/154.4 kB\u001b[0m \u001b[31m5.5 MB/s\u001b[0m eta \u001b[36m0:00:00\u001b[0m\n",
            "\u001b[?25h  Installing build dependencies ... \u001b[?25l\u001b[?25hdone\n",
            "  Getting requirements to build wheel ... \u001b[?25l\u001b[?25hdone\n",
            "  Preparing metadata (pyproject.toml) ... \u001b[?25l\u001b[?25hdone\n",
            "  Building wheel for scikit-surprise (pyproject.toml) ... \u001b[?25l\u001b[?25hdone\n"
          ]
        }
      ]
    },
    {
      "cell_type": "code",
      "execution_count": 8,
      "metadata": {
        "colab": {
          "base_uri": "https://localhost:8080/",
          "height": 423
        },
        "id": "wIK2PWg8YMIs",
        "outputId": "2e8e0049-37f1-47ef-e62a-8489fbcd98ea"
      },
      "outputs": [
        {
          "output_type": "execute_result",
          "data": {
            "text/plain": [
              "        blog_id  userId  ratings\n",
              "0          9025      11      3.5\n",
              "1          9320      11      5.0\n",
              "2          9246      11      3.5\n",
              "3          9431      11      5.0\n",
              "4           875      11      2.0\n",
              "...         ...     ...      ...\n",
              "200135     6714      22      5.0\n",
              "200136     6576      22      3.5\n",
              "200137     6222      22      3.5\n",
              "200138     6015      22      2.0\n",
              "200139     7842      22      2.0\n",
              "\n",
              "[200140 rows x 3 columns]"
            ],
            "text/html": [
              "\n",
              "  <div id=\"df-427aee27-8dfd-442f-99bb-27b0884035fe\" class=\"colab-df-container\">\n",
              "    <div>\n",
              "<style scoped>\n",
              "    .dataframe tbody tr th:only-of-type {\n",
              "        vertical-align: middle;\n",
              "    }\n",
              "\n",
              "    .dataframe tbody tr th {\n",
              "        vertical-align: top;\n",
              "    }\n",
              "\n",
              "    .dataframe thead th {\n",
              "        text-align: right;\n",
              "    }\n",
              "</style>\n",
              "<table border=\"1\" class=\"dataframe\">\n",
              "  <thead>\n",
              "    <tr style=\"text-align: right;\">\n",
              "      <th></th>\n",
              "      <th>blog_id</th>\n",
              "      <th>userId</th>\n",
              "      <th>ratings</th>\n",
              "    </tr>\n",
              "  </thead>\n",
              "  <tbody>\n",
              "    <tr>\n",
              "      <th>0</th>\n",
              "      <td>9025</td>\n",
              "      <td>11</td>\n",
              "      <td>3.5</td>\n",
              "    </tr>\n",
              "    <tr>\n",
              "      <th>1</th>\n",
              "      <td>9320</td>\n",
              "      <td>11</td>\n",
              "      <td>5.0</td>\n",
              "    </tr>\n",
              "    <tr>\n",
              "      <th>2</th>\n",
              "      <td>9246</td>\n",
              "      <td>11</td>\n",
              "      <td>3.5</td>\n",
              "    </tr>\n",
              "    <tr>\n",
              "      <th>3</th>\n",
              "      <td>9431</td>\n",
              "      <td>11</td>\n",
              "      <td>5.0</td>\n",
              "    </tr>\n",
              "    <tr>\n",
              "      <th>4</th>\n",
              "      <td>875</td>\n",
              "      <td>11</td>\n",
              "      <td>2.0</td>\n",
              "    </tr>\n",
              "    <tr>\n",
              "      <th>...</th>\n",
              "      <td>...</td>\n",
              "      <td>...</td>\n",
              "      <td>...</td>\n",
              "    </tr>\n",
              "    <tr>\n",
              "      <th>200135</th>\n",
              "      <td>6714</td>\n",
              "      <td>22</td>\n",
              "      <td>5.0</td>\n",
              "    </tr>\n",
              "    <tr>\n",
              "      <th>200136</th>\n",
              "      <td>6576</td>\n",
              "      <td>22</td>\n",
              "      <td>3.5</td>\n",
              "    </tr>\n",
              "    <tr>\n",
              "      <th>200137</th>\n",
              "      <td>6222</td>\n",
              "      <td>22</td>\n",
              "      <td>3.5</td>\n",
              "    </tr>\n",
              "    <tr>\n",
              "      <th>200138</th>\n",
              "      <td>6015</td>\n",
              "      <td>22</td>\n",
              "      <td>2.0</td>\n",
              "    </tr>\n",
              "    <tr>\n",
              "      <th>200139</th>\n",
              "      <td>7842</td>\n",
              "      <td>22</td>\n",
              "      <td>2.0</td>\n",
              "    </tr>\n",
              "  </tbody>\n",
              "</table>\n",
              "<p>200140 rows × 3 columns</p>\n",
              "</div>\n",
              "    <div class=\"colab-df-buttons\">\n",
              "\n",
              "  <div class=\"colab-df-container\">\n",
              "    <button class=\"colab-df-convert\" onclick=\"convertToInteractive('df-427aee27-8dfd-442f-99bb-27b0884035fe')\"\n",
              "            title=\"Convert this dataframe to an interactive table.\"\n",
              "            style=\"display:none;\">\n",
              "\n",
              "  <svg xmlns=\"http://www.w3.org/2000/svg\" height=\"24px\" viewBox=\"0 -960 960 960\">\n",
              "    <path d=\"M120-120v-720h720v720H120Zm60-500h600v-160H180v160Zm220 220h160v-160H400v160Zm0 220h160v-160H400v160ZM180-400h160v-160H180v160Zm440 0h160v-160H620v160ZM180-180h160v-160H180v160Zm440 0h160v-160H620v160Z\"/>\n",
              "  </svg>\n",
              "    </button>\n",
              "\n",
              "  <style>\n",
              "    .colab-df-container {\n",
              "      display:flex;\n",
              "      gap: 12px;\n",
              "    }\n",
              "\n",
              "    .colab-df-convert {\n",
              "      background-color: #E8F0FE;\n",
              "      border: none;\n",
              "      border-radius: 50%;\n",
              "      cursor: pointer;\n",
              "      display: none;\n",
              "      fill: #1967D2;\n",
              "      height: 32px;\n",
              "      padding: 0 0 0 0;\n",
              "      width: 32px;\n",
              "    }\n",
              "\n",
              "    .colab-df-convert:hover {\n",
              "      background-color: #E2EBFA;\n",
              "      box-shadow: 0px 1px 2px rgba(60, 64, 67, 0.3), 0px 1px 3px 1px rgba(60, 64, 67, 0.15);\n",
              "      fill: #174EA6;\n",
              "    }\n",
              "\n",
              "    .colab-df-buttons div {\n",
              "      margin-bottom: 4px;\n",
              "    }\n",
              "\n",
              "    [theme=dark] .colab-df-convert {\n",
              "      background-color: #3B4455;\n",
              "      fill: #D2E3FC;\n",
              "    }\n",
              "\n",
              "    [theme=dark] .colab-df-convert:hover {\n",
              "      background-color: #434B5C;\n",
              "      box-shadow: 0px 1px 3px 1px rgba(0, 0, 0, 0.15);\n",
              "      filter: drop-shadow(0px 1px 2px rgba(0, 0, 0, 0.3));\n",
              "      fill: #FFFFFF;\n",
              "    }\n",
              "  </style>\n",
              "\n",
              "    <script>\n",
              "      const buttonEl =\n",
              "        document.querySelector('#df-427aee27-8dfd-442f-99bb-27b0884035fe button.colab-df-convert');\n",
              "      buttonEl.style.display =\n",
              "        google.colab.kernel.accessAllowed ? 'block' : 'none';\n",
              "\n",
              "      async function convertToInteractive(key) {\n",
              "        const element = document.querySelector('#df-427aee27-8dfd-442f-99bb-27b0884035fe');\n",
              "        const dataTable =\n",
              "          await google.colab.kernel.invokeFunction('convertToInteractive',\n",
              "                                                    [key], {});\n",
              "        if (!dataTable) return;\n",
              "\n",
              "        const docLinkHtml = 'Like what you see? Visit the ' +\n",
              "          '<a target=\"_blank\" href=https://colab.research.google.com/notebooks/data_table.ipynb>data table notebook</a>'\n",
              "          + ' to learn more about interactive tables.';\n",
              "        element.innerHTML = '';\n",
              "        dataTable['output_type'] = 'display_data';\n",
              "        await google.colab.output.renderOutput(dataTable, element);\n",
              "        const docLink = document.createElement('div');\n",
              "        docLink.innerHTML = docLinkHtml;\n",
              "        element.appendChild(docLink);\n",
              "      }\n",
              "    </script>\n",
              "  </div>\n",
              "\n",
              "\n",
              "<div id=\"df-d11c865c-d280-4842-95f5-a29f573b1029\">\n",
              "  <button class=\"colab-df-quickchart\" onclick=\"quickchart('df-d11c865c-d280-4842-95f5-a29f573b1029')\"\n",
              "            title=\"Suggest charts\"\n",
              "            style=\"display:none;\">\n",
              "\n",
              "<svg xmlns=\"http://www.w3.org/2000/svg\" height=\"24px\"viewBox=\"0 0 24 24\"\n",
              "     width=\"24px\">\n",
              "    <g>\n",
              "        <path d=\"M19 3H5c-1.1 0-2 .9-2 2v14c0 1.1.9 2 2 2h14c1.1 0 2-.9 2-2V5c0-1.1-.9-2-2-2zM9 17H7v-7h2v7zm4 0h-2V7h2v10zm4 0h-2v-4h2v4z\"/>\n",
              "    </g>\n",
              "</svg>\n",
              "  </button>\n",
              "\n",
              "<style>\n",
              "  .colab-df-quickchart {\n",
              "      --bg-color: #E8F0FE;\n",
              "      --fill-color: #1967D2;\n",
              "      --hover-bg-color: #E2EBFA;\n",
              "      --hover-fill-color: #174EA6;\n",
              "      --disabled-fill-color: #AAA;\n",
              "      --disabled-bg-color: #DDD;\n",
              "  }\n",
              "\n",
              "  [theme=dark] .colab-df-quickchart {\n",
              "      --bg-color: #3B4455;\n",
              "      --fill-color: #D2E3FC;\n",
              "      --hover-bg-color: #434B5C;\n",
              "      --hover-fill-color: #FFFFFF;\n",
              "      --disabled-bg-color: #3B4455;\n",
              "      --disabled-fill-color: #666;\n",
              "  }\n",
              "\n",
              "  .colab-df-quickchart {\n",
              "    background-color: var(--bg-color);\n",
              "    border: none;\n",
              "    border-radius: 50%;\n",
              "    cursor: pointer;\n",
              "    display: none;\n",
              "    fill: var(--fill-color);\n",
              "    height: 32px;\n",
              "    padding: 0;\n",
              "    width: 32px;\n",
              "  }\n",
              "\n",
              "  .colab-df-quickchart:hover {\n",
              "    background-color: var(--hover-bg-color);\n",
              "    box-shadow: 0 1px 2px rgba(60, 64, 67, 0.3), 0 1px 3px 1px rgba(60, 64, 67, 0.15);\n",
              "    fill: var(--button-hover-fill-color);\n",
              "  }\n",
              "\n",
              "  .colab-df-quickchart-complete:disabled,\n",
              "  .colab-df-quickchart-complete:disabled:hover {\n",
              "    background-color: var(--disabled-bg-color);\n",
              "    fill: var(--disabled-fill-color);\n",
              "    box-shadow: none;\n",
              "  }\n",
              "\n",
              "  .colab-df-spinner {\n",
              "    border: 2px solid var(--fill-color);\n",
              "    border-color: transparent;\n",
              "    border-bottom-color: var(--fill-color);\n",
              "    animation:\n",
              "      spin 1s steps(1) infinite;\n",
              "  }\n",
              "\n",
              "  @keyframes spin {\n",
              "    0% {\n",
              "      border-color: transparent;\n",
              "      border-bottom-color: var(--fill-color);\n",
              "      border-left-color: var(--fill-color);\n",
              "    }\n",
              "    20% {\n",
              "      border-color: transparent;\n",
              "      border-left-color: var(--fill-color);\n",
              "      border-top-color: var(--fill-color);\n",
              "    }\n",
              "    30% {\n",
              "      border-color: transparent;\n",
              "      border-left-color: var(--fill-color);\n",
              "      border-top-color: var(--fill-color);\n",
              "      border-right-color: var(--fill-color);\n",
              "    }\n",
              "    40% {\n",
              "      border-color: transparent;\n",
              "      border-right-color: var(--fill-color);\n",
              "      border-top-color: var(--fill-color);\n",
              "    }\n",
              "    60% {\n",
              "      border-color: transparent;\n",
              "      border-right-color: var(--fill-color);\n",
              "    }\n",
              "    80% {\n",
              "      border-color: transparent;\n",
              "      border-right-color: var(--fill-color);\n",
              "      border-bottom-color: var(--fill-color);\n",
              "    }\n",
              "    90% {\n",
              "      border-color: transparent;\n",
              "      border-bottom-color: var(--fill-color);\n",
              "    }\n",
              "  }\n",
              "</style>\n",
              "\n",
              "  <script>\n",
              "    async function quickchart(key) {\n",
              "      const quickchartButtonEl =\n",
              "        document.querySelector('#' + key + ' button');\n",
              "      quickchartButtonEl.disabled = true;  // To prevent multiple clicks.\n",
              "      quickchartButtonEl.classList.add('colab-df-spinner');\n",
              "      try {\n",
              "        const charts = await google.colab.kernel.invokeFunction(\n",
              "            'suggestCharts', [key], {});\n",
              "      } catch (error) {\n",
              "        console.error('Error during call to suggestCharts:', error);\n",
              "      }\n",
              "      quickchartButtonEl.classList.remove('colab-df-spinner');\n",
              "      quickchartButtonEl.classList.add('colab-df-quickchart-complete');\n",
              "    }\n",
              "    (() => {\n",
              "      let quickchartButtonEl =\n",
              "        document.querySelector('#df-d11c865c-d280-4842-95f5-a29f573b1029 button');\n",
              "      quickchartButtonEl.style.display =\n",
              "        google.colab.kernel.accessAllowed ? 'block' : 'none';\n",
              "    })();\n",
              "  </script>\n",
              "</div>\n",
              "    </div>\n",
              "  </div>\n"
            ],
            "application/vnd.google.colaboratory.intrinsic+json": {
              "type": "dataframe",
              "variable_name": "df"
            }
          },
          "metadata": {},
          "execution_count": 8
        }
      ],
      "source": [
        "import pandas as pd\n",
        "\n",
        "df = pd.read_csv(\"https://raw.githubusercontent.com/HalyshAnton/IT-Step-Pyton-AI/main/module7/data/Blog%20Ratings.csv\")\n",
        "\n",
        "df"
      ]
    },
    {
      "cell_type": "code",
      "source": [
        "df.describe()"
      ],
      "metadata": {
        "colab": {
          "base_uri": "https://localhost:8080/",
          "height": 300
        },
        "id": "RNQGNFY1Jbw8",
        "outputId": "501b54f6-84df-40fd-c43e-be37970d6962"
      },
      "execution_count": 12,
      "outputs": [
        {
          "output_type": "execute_result",
          "data": {
            "text/plain": [
              "             blog_id         userId        ratings\n",
              "count  200140.000000  200140.000000  200140.000000\n",
              "mean     5652.533621    2545.710158       3.117468\n",
              "std      2970.685946    1446.195478       1.768113\n",
              "min         1.000000      10.000000       0.500000\n",
              "25%      2906.000000    1314.000000       2.000000\n",
              "50%      5994.000000    2552.000000       3.500000\n",
              "75%      8510.000000    3795.000000       5.000000\n",
              "max      9755.000000    5010.000000       5.000000"
            ],
            "text/html": [
              "\n",
              "  <div id=\"df-2bbdf16a-abb6-4169-b0be-057c5be0faf8\" class=\"colab-df-container\">\n",
              "    <div>\n",
              "<style scoped>\n",
              "    .dataframe tbody tr th:only-of-type {\n",
              "        vertical-align: middle;\n",
              "    }\n",
              "\n",
              "    .dataframe tbody tr th {\n",
              "        vertical-align: top;\n",
              "    }\n",
              "\n",
              "    .dataframe thead th {\n",
              "        text-align: right;\n",
              "    }\n",
              "</style>\n",
              "<table border=\"1\" class=\"dataframe\">\n",
              "  <thead>\n",
              "    <tr style=\"text-align: right;\">\n",
              "      <th></th>\n",
              "      <th>blog_id</th>\n",
              "      <th>userId</th>\n",
              "      <th>ratings</th>\n",
              "    </tr>\n",
              "  </thead>\n",
              "  <tbody>\n",
              "    <tr>\n",
              "      <th>count</th>\n",
              "      <td>200140.000000</td>\n",
              "      <td>200140.000000</td>\n",
              "      <td>200140.000000</td>\n",
              "    </tr>\n",
              "    <tr>\n",
              "      <th>mean</th>\n",
              "      <td>5652.533621</td>\n",
              "      <td>2545.710158</td>\n",
              "      <td>3.117468</td>\n",
              "    </tr>\n",
              "    <tr>\n",
              "      <th>std</th>\n",
              "      <td>2970.685946</td>\n",
              "      <td>1446.195478</td>\n",
              "      <td>1.768113</td>\n",
              "    </tr>\n",
              "    <tr>\n",
              "      <th>min</th>\n",
              "      <td>1.000000</td>\n",
              "      <td>10.000000</td>\n",
              "      <td>0.500000</td>\n",
              "    </tr>\n",
              "    <tr>\n",
              "      <th>25%</th>\n",
              "      <td>2906.000000</td>\n",
              "      <td>1314.000000</td>\n",
              "      <td>2.000000</td>\n",
              "    </tr>\n",
              "    <tr>\n",
              "      <th>50%</th>\n",
              "      <td>5994.000000</td>\n",
              "      <td>2552.000000</td>\n",
              "      <td>3.500000</td>\n",
              "    </tr>\n",
              "    <tr>\n",
              "      <th>75%</th>\n",
              "      <td>8510.000000</td>\n",
              "      <td>3795.000000</td>\n",
              "      <td>5.000000</td>\n",
              "    </tr>\n",
              "    <tr>\n",
              "      <th>max</th>\n",
              "      <td>9755.000000</td>\n",
              "      <td>5010.000000</td>\n",
              "      <td>5.000000</td>\n",
              "    </tr>\n",
              "  </tbody>\n",
              "</table>\n",
              "</div>\n",
              "    <div class=\"colab-df-buttons\">\n",
              "\n",
              "  <div class=\"colab-df-container\">\n",
              "    <button class=\"colab-df-convert\" onclick=\"convertToInteractive('df-2bbdf16a-abb6-4169-b0be-057c5be0faf8')\"\n",
              "            title=\"Convert this dataframe to an interactive table.\"\n",
              "            style=\"display:none;\">\n",
              "\n",
              "  <svg xmlns=\"http://www.w3.org/2000/svg\" height=\"24px\" viewBox=\"0 -960 960 960\">\n",
              "    <path d=\"M120-120v-720h720v720H120Zm60-500h600v-160H180v160Zm220 220h160v-160H400v160Zm0 220h160v-160H400v160ZM180-400h160v-160H180v160Zm440 0h160v-160H620v160ZM180-180h160v-160H180v160Zm440 0h160v-160H620v160Z\"/>\n",
              "  </svg>\n",
              "    </button>\n",
              "\n",
              "  <style>\n",
              "    .colab-df-container {\n",
              "      display:flex;\n",
              "      gap: 12px;\n",
              "    }\n",
              "\n",
              "    .colab-df-convert {\n",
              "      background-color: #E8F0FE;\n",
              "      border: none;\n",
              "      border-radius: 50%;\n",
              "      cursor: pointer;\n",
              "      display: none;\n",
              "      fill: #1967D2;\n",
              "      height: 32px;\n",
              "      padding: 0 0 0 0;\n",
              "      width: 32px;\n",
              "    }\n",
              "\n",
              "    .colab-df-convert:hover {\n",
              "      background-color: #E2EBFA;\n",
              "      box-shadow: 0px 1px 2px rgba(60, 64, 67, 0.3), 0px 1px 3px 1px rgba(60, 64, 67, 0.15);\n",
              "      fill: #174EA6;\n",
              "    }\n",
              "\n",
              "    .colab-df-buttons div {\n",
              "      margin-bottom: 4px;\n",
              "    }\n",
              "\n",
              "    [theme=dark] .colab-df-convert {\n",
              "      background-color: #3B4455;\n",
              "      fill: #D2E3FC;\n",
              "    }\n",
              "\n",
              "    [theme=dark] .colab-df-convert:hover {\n",
              "      background-color: #434B5C;\n",
              "      box-shadow: 0px 1px 3px 1px rgba(0, 0, 0, 0.15);\n",
              "      filter: drop-shadow(0px 1px 2px rgba(0, 0, 0, 0.3));\n",
              "      fill: #FFFFFF;\n",
              "    }\n",
              "  </style>\n",
              "\n",
              "    <script>\n",
              "      const buttonEl =\n",
              "        document.querySelector('#df-2bbdf16a-abb6-4169-b0be-057c5be0faf8 button.colab-df-convert');\n",
              "      buttonEl.style.display =\n",
              "        google.colab.kernel.accessAllowed ? 'block' : 'none';\n",
              "\n",
              "      async function convertToInteractive(key) {\n",
              "        const element = document.querySelector('#df-2bbdf16a-abb6-4169-b0be-057c5be0faf8');\n",
              "        const dataTable =\n",
              "          await google.colab.kernel.invokeFunction('convertToInteractive',\n",
              "                                                    [key], {});\n",
              "        if (!dataTable) return;\n",
              "\n",
              "        const docLinkHtml = 'Like what you see? Visit the ' +\n",
              "          '<a target=\"_blank\" href=https://colab.research.google.com/notebooks/data_table.ipynb>data table notebook</a>'\n",
              "          + ' to learn more about interactive tables.';\n",
              "        element.innerHTML = '';\n",
              "        dataTable['output_type'] = 'display_data';\n",
              "        await google.colab.output.renderOutput(dataTable, element);\n",
              "        const docLink = document.createElement('div');\n",
              "        docLink.innerHTML = docLinkHtml;\n",
              "        element.appendChild(docLink);\n",
              "      }\n",
              "    </script>\n",
              "  </div>\n",
              "\n",
              "\n",
              "<div id=\"df-5d9694fd-9d36-489b-8d91-db821ef30fa1\">\n",
              "  <button class=\"colab-df-quickchart\" onclick=\"quickchart('df-5d9694fd-9d36-489b-8d91-db821ef30fa1')\"\n",
              "            title=\"Suggest charts\"\n",
              "            style=\"display:none;\">\n",
              "\n",
              "<svg xmlns=\"http://www.w3.org/2000/svg\" height=\"24px\"viewBox=\"0 0 24 24\"\n",
              "     width=\"24px\">\n",
              "    <g>\n",
              "        <path d=\"M19 3H5c-1.1 0-2 .9-2 2v14c0 1.1.9 2 2 2h14c1.1 0 2-.9 2-2V5c0-1.1-.9-2-2-2zM9 17H7v-7h2v7zm4 0h-2V7h2v10zm4 0h-2v-4h2v4z\"/>\n",
              "    </g>\n",
              "</svg>\n",
              "  </button>\n",
              "\n",
              "<style>\n",
              "  .colab-df-quickchart {\n",
              "      --bg-color: #E8F0FE;\n",
              "      --fill-color: #1967D2;\n",
              "      --hover-bg-color: #E2EBFA;\n",
              "      --hover-fill-color: #174EA6;\n",
              "      --disabled-fill-color: #AAA;\n",
              "      --disabled-bg-color: #DDD;\n",
              "  }\n",
              "\n",
              "  [theme=dark] .colab-df-quickchart {\n",
              "      --bg-color: #3B4455;\n",
              "      --fill-color: #D2E3FC;\n",
              "      --hover-bg-color: #434B5C;\n",
              "      --hover-fill-color: #FFFFFF;\n",
              "      --disabled-bg-color: #3B4455;\n",
              "      --disabled-fill-color: #666;\n",
              "  }\n",
              "\n",
              "  .colab-df-quickchart {\n",
              "    background-color: var(--bg-color);\n",
              "    border: none;\n",
              "    border-radius: 50%;\n",
              "    cursor: pointer;\n",
              "    display: none;\n",
              "    fill: var(--fill-color);\n",
              "    height: 32px;\n",
              "    padding: 0;\n",
              "    width: 32px;\n",
              "  }\n",
              "\n",
              "  .colab-df-quickchart:hover {\n",
              "    background-color: var(--hover-bg-color);\n",
              "    box-shadow: 0 1px 2px rgba(60, 64, 67, 0.3), 0 1px 3px 1px rgba(60, 64, 67, 0.15);\n",
              "    fill: var(--button-hover-fill-color);\n",
              "  }\n",
              "\n",
              "  .colab-df-quickchart-complete:disabled,\n",
              "  .colab-df-quickchart-complete:disabled:hover {\n",
              "    background-color: var(--disabled-bg-color);\n",
              "    fill: var(--disabled-fill-color);\n",
              "    box-shadow: none;\n",
              "  }\n",
              "\n",
              "  .colab-df-spinner {\n",
              "    border: 2px solid var(--fill-color);\n",
              "    border-color: transparent;\n",
              "    border-bottom-color: var(--fill-color);\n",
              "    animation:\n",
              "      spin 1s steps(1) infinite;\n",
              "  }\n",
              "\n",
              "  @keyframes spin {\n",
              "    0% {\n",
              "      border-color: transparent;\n",
              "      border-bottom-color: var(--fill-color);\n",
              "      border-left-color: var(--fill-color);\n",
              "    }\n",
              "    20% {\n",
              "      border-color: transparent;\n",
              "      border-left-color: var(--fill-color);\n",
              "      border-top-color: var(--fill-color);\n",
              "    }\n",
              "    30% {\n",
              "      border-color: transparent;\n",
              "      border-left-color: var(--fill-color);\n",
              "      border-top-color: var(--fill-color);\n",
              "      border-right-color: var(--fill-color);\n",
              "    }\n",
              "    40% {\n",
              "      border-color: transparent;\n",
              "      border-right-color: var(--fill-color);\n",
              "      border-top-color: var(--fill-color);\n",
              "    }\n",
              "    60% {\n",
              "      border-color: transparent;\n",
              "      border-right-color: var(--fill-color);\n",
              "    }\n",
              "    80% {\n",
              "      border-color: transparent;\n",
              "      border-right-color: var(--fill-color);\n",
              "      border-bottom-color: var(--fill-color);\n",
              "    }\n",
              "    90% {\n",
              "      border-color: transparent;\n",
              "      border-bottom-color: var(--fill-color);\n",
              "    }\n",
              "  }\n",
              "</style>\n",
              "\n",
              "  <script>\n",
              "    async function quickchart(key) {\n",
              "      const quickchartButtonEl =\n",
              "        document.querySelector('#' + key + ' button');\n",
              "      quickchartButtonEl.disabled = true;  // To prevent multiple clicks.\n",
              "      quickchartButtonEl.classList.add('colab-df-spinner');\n",
              "      try {\n",
              "        const charts = await google.colab.kernel.invokeFunction(\n",
              "            'suggestCharts', [key], {});\n",
              "      } catch (error) {\n",
              "        console.error('Error during call to suggestCharts:', error);\n",
              "      }\n",
              "      quickchartButtonEl.classList.remove('colab-df-spinner');\n",
              "      quickchartButtonEl.classList.add('colab-df-quickchart-complete');\n",
              "    }\n",
              "    (() => {\n",
              "      let quickchartButtonEl =\n",
              "        document.querySelector('#df-5d9694fd-9d36-489b-8d91-db821ef30fa1 button');\n",
              "      quickchartButtonEl.style.display =\n",
              "        google.colab.kernel.accessAllowed ? 'block' : 'none';\n",
              "    })();\n",
              "  </script>\n",
              "</div>\n",
              "    </div>\n",
              "  </div>\n"
            ],
            "application/vnd.google.colaboratory.intrinsic+json": {
              "type": "dataframe",
              "summary": "{\n  \"name\": \"df\",\n  \"rows\": 8,\n  \"fields\": [\n    {\n      \"column\": \"blog_id\",\n      \"properties\": {\n        \"dtype\": \"number\",\n        \"std\": 69024.76173564183,\n        \"min\": 1.0,\n        \"max\": 200140.0,\n        \"num_unique_values\": 8,\n        \"samples\": [\n          5652.533621464974,\n          5994.0,\n          200140.0\n        ],\n        \"semantic_type\": \"\",\n        \"description\": \"\"\n      }\n    },\n    {\n      \"column\": \"userId\",\n      \"properties\": {\n        \"dtype\": \"number\",\n        \"std\": 69935.02468138852,\n        \"min\": 10.0,\n        \"max\": 200140.0,\n        \"num_unique_values\": 8,\n        \"samples\": [\n          2545.710157889477,\n          2552.0,\n          200140.0\n        ],\n        \"semantic_type\": \"\",\n        \"description\": \"\"\n      }\n    },\n    {\n      \"column\": \"ratings\",\n      \"properties\": {\n        \"dtype\": \"number\",\n        \"std\": 70759.1207293952,\n        \"min\": 0.5,\n        \"max\": 200140.0,\n        \"num_unique_values\": 7,\n        \"samples\": [\n          200140.0,\n          3.1174677725592086,\n          3.5\n        ],\n        \"semantic_type\": \"\",\n        \"description\": \"\"\n      }\n    }\n  ]\n}"
            }
          },
          "metadata": {},
          "execution_count": 12
        }
      ]
    },
    {
      "cell_type": "code",
      "source": [
        "from surprise import Dataset, SVD, Reader\n",
        "\n",
        "reader = Reader(rating_scale=(1, 5))\n",
        "\n",
        "data = Dataset.load_from_df(df[[\"userId\", \"blog_id\", \"ratings\"]], reader)"
      ],
      "metadata": {
        "id": "GbUFFlp7YXS5"
      },
      "execution_count": 3,
      "outputs": []
    },
    {
      "cell_type": "code",
      "source": [
        "from surprise.model_selection import train_test_split\n",
        "\n",
        "trainset, testset = train_test_split(data, train_size=0.8)"
      ],
      "metadata": {
        "id": "PnDAY8T3IZFE"
      },
      "execution_count": 4,
      "outputs": []
    },
    {
      "cell_type": "code",
      "source": [
        "from surprise import BaselineOnly\n",
        "\n",
        "bsl_options = {'method': 'als',\n",
        "               'reg_u': 0.0001,\n",
        "               'reg_i': 0.0001}\n",
        "\n",
        "algo = BaselineOnly(bsl_options=bsl_options)\n",
        "algo.fit(trainset)"
      ],
      "metadata": {
        "colab": {
          "base_uri": "https://localhost:8080/"
        },
        "id": "ZrLW68oEIe1O",
        "outputId": "d525c84d-e231-4023-a760-f8efcb5667d2"
      },
      "execution_count": 5,
      "outputs": [
        {
          "output_type": "stream",
          "name": "stdout",
          "text": [
            "Estimating biases using als...\n"
          ]
        },
        {
          "output_type": "execute_result",
          "data": {
            "text/plain": [
              "<surprise.prediction_algorithms.baseline_only.BaselineOnly at 0x7fd2f8dd17b0>"
            ]
          },
          "metadata": {},
          "execution_count": 5
        }
      ]
    },
    {
      "cell_type": "code",
      "source": [
        "from surprise import SVD\n",
        "\n",
        "alfo = SVD(n_factors=100,\n",
        "           n_epochs=50,\n",
        "           )\n",
        "\n",
        "algo.fit(trainset)"
      ],
      "metadata": {
        "colab": {
          "base_uri": "https://localhost:8080/"
        },
        "id": "BTI-vT6KIyXy",
        "outputId": "aac5be4b-fe05-45f8-fa95-c61b3a9d82ec"
      },
      "execution_count": 6,
      "outputs": [
        {
          "output_type": "stream",
          "name": "stdout",
          "text": [
            "Estimating biases using als...\n"
          ]
        },
        {
          "output_type": "execute_result",
          "data": {
            "text/plain": [
              "<surprise.prediction_algorithms.baseline_only.BaselineOnly at 0x7fd2f8dd17b0>"
            ]
          },
          "metadata": {},
          "execution_count": 6
        }
      ]
    },
    {
      "cell_type": "code",
      "source": [
        "from surprise import KNNBasic\n",
        "\n",
        "algo = KNNBasic(k=20,\n",
        "                min_k=1,\n",
        "                sim_options={'name': 'cosine',\n",
        "                             'user_based': True})\n",
        "\n",
        "algo.fit(trainset)"
      ],
      "metadata": {
        "colab": {
          "base_uri": "https://localhost:8080/"
        },
        "id": "dgDJrt48I1Wo",
        "outputId": "2eadc683-a195-4e44-9555-0a3036fe2d3d"
      },
      "execution_count": 9,
      "outputs": [
        {
          "output_type": "stream",
          "name": "stdout",
          "text": [
            "Computing the cosine similarity matrix...\n",
            "Done computing similarity matrix.\n"
          ]
        },
        {
          "output_type": "execute_result",
          "data": {
            "text/plain": [
              "<surprise.prediction_algorithms.knns.KNNBasic at 0x7fd2c2323fa0>"
            ]
          },
          "metadata": {},
          "execution_count": 9
        }
      ]
    },
    {
      "cell_type": "code",
      "source": [
        "from surprise import CoClustering\n",
        "\n",
        "algo = CoClustering(n_cltr_u = 5,\n",
        "                    n_cltr_i = 15,\n",
        "                    n_epochs = 40)\n",
        "\n",
        "algo.fit(trainset)"
      ],
      "metadata": {
        "colab": {
          "base_uri": "https://localhost:8080/"
        },
        "id": "7baGY3J9JF8t",
        "outputId": "ba7970c0-83e5-4e3b-cc60-b64b372697d9"
      },
      "execution_count": 10,
      "outputs": [
        {
          "output_type": "execute_result",
          "data": {
            "text/plain": [
              "<surprise.prediction_algorithms.co_clustering.CoClustering at 0x7fd2f9ae8430>"
            ]
          },
          "metadata": {},
          "execution_count": 10
        }
      ]
    },
    {
      "cell_type": "code",
      "source": [
        "from surprise import BaselineOnly, accuracy\n",
        "\n",
        "\n",
        "bsl_options = {'method': 'als',\n",
        "               'reg_u': 0.0001,\n",
        "               'reg_i': 0.0001}\n",
        "\n",
        "algo = BaselineOnly(bsl_options=bsl_options)\n",
        "algo.fit(trainset)\n",
        "\n",
        "preds = algo.test(testset)\n",
        "\n",
        "print(f\"mae = {accuracy.mae(preds, verbose=False)}\")\n",
        "print(f\"mse = {accuracy.mse(preds, verbose=False)}\")\n",
        "print(f\"rmse= {accuracy.rmse(preds, verbose=False)}\")"
      ],
      "metadata": {
        "colab": {
          "base_uri": "https://localhost:8080/"
        },
        "id": "XPyLYZ9wJMqb",
        "outputId": "356c35cb-9edc-4662-ba48-2e57c0adba52"
      },
      "execution_count": 11,
      "outputs": [
        {
          "output_type": "stream",
          "name": "stdout",
          "text": [
            "Estimating biases using als...\n",
            "mae = 1.6429312086900274\n",
            "mse = 3.4498838105790863\n",
            "rmse= 1.8573862846966127\n"
          ]
        }
      ]
    },
    {
      "cell_type": "code",
      "source": [
        "algo.predict(uid=2356,\n",
        "             iid=5994)"
      ],
      "metadata": {
        "colab": {
          "base_uri": "https://localhost:8080/"
        },
        "id": "YXI1aCQKJUuT",
        "outputId": "9106a357-fd9d-4c92-9478-c20d24d0bbb7"
      },
      "execution_count": 13,
      "outputs": [
        {
          "output_type": "execute_result",
          "data": {
            "text/plain": [
              "Prediction(uid=2356, iid=5994, r_ui=None, est=2.515759274387599, details={'was_impossible': False})"
            ]
          },
          "metadata": {},
          "execution_count": 13
        }
      ]
    },
    {
      "cell_type": "code",
      "source": [
        "!pip install optuna\n",
        "import optuna"
      ],
      "metadata": {
        "id": "yJ3OlVlULTVr",
        "outputId": "e23569ce-6db9-4867-c0c0-20989ecabec6",
        "colab": {
          "base_uri": "https://localhost:8080/"
        }
      },
      "execution_count": 15,
      "outputs": [
        {
          "output_type": "stream",
          "name": "stdout",
          "text": [
            "Collecting optuna\n",
            "  Downloading optuna-3.6.1-py3-none-any.whl.metadata (17 kB)\n",
            "Collecting alembic>=1.5.0 (from optuna)\n",
            "  Downloading alembic-1.13.2-py3-none-any.whl.metadata (7.4 kB)\n",
            "Collecting colorlog (from optuna)\n",
            "  Downloading colorlog-6.8.2-py3-none-any.whl.metadata (10 kB)\n",
            "Requirement already satisfied: numpy in /usr/local/lib/python3.10/dist-packages (from optuna) (1.26.4)\n",
            "Requirement already satisfied: packaging>=20.0 in /usr/local/lib/python3.10/dist-packages (from optuna) (24.1)\n",
            "Requirement already satisfied: sqlalchemy>=1.3.0 in /usr/local/lib/python3.10/dist-packages (from optuna) (2.0.32)\n",
            "Requirement already satisfied: tqdm in /usr/local/lib/python3.10/dist-packages (from optuna) (4.66.5)\n",
            "Requirement already satisfied: PyYAML in /usr/local/lib/python3.10/dist-packages (from optuna) (6.0.2)\n",
            "Collecting Mako (from alembic>=1.5.0->optuna)\n",
            "  Downloading Mako-1.3.5-py3-none-any.whl.metadata (2.9 kB)\n",
            "Requirement already satisfied: typing-extensions>=4 in /usr/local/lib/python3.10/dist-packages (from alembic>=1.5.0->optuna) (4.12.2)\n",
            "Requirement already satisfied: greenlet!=0.4.17 in /usr/local/lib/python3.10/dist-packages (from sqlalchemy>=1.3.0->optuna) (3.0.3)\n",
            "Requirement already satisfied: MarkupSafe>=0.9.2 in /usr/local/lib/python3.10/dist-packages (from Mako->alembic>=1.5.0->optuna) (2.1.5)\n",
            "Downloading optuna-3.6.1-py3-none-any.whl (380 kB)\n",
            "\u001b[2K   \u001b[90m━━━━━━━━━━━━━━━━━━━━━━━━━━━━━━━━━━━━━━━━\u001b[0m \u001b[32m380.1/380.1 kB\u001b[0m \u001b[31m18.3 MB/s\u001b[0m eta \u001b[36m0:00:00\u001b[0m\n",
            "\u001b[?25hDownloading alembic-1.13.2-py3-none-any.whl (232 kB)\n",
            "\u001b[2K   \u001b[90m━━━━━━━━━━━━━━━━━━━━━━━━━━━━━━━━━━━━━━━━\u001b[0m \u001b[32m233.0/233.0 kB\u001b[0m \u001b[31m13.2 MB/s\u001b[0m eta \u001b[36m0:00:00\u001b[0m\n",
            "\u001b[?25hDownloading colorlog-6.8.2-py3-none-any.whl (11 kB)\n",
            "Downloading Mako-1.3.5-py3-none-any.whl (78 kB)\n",
            "\u001b[2K   \u001b[90m━━━━━━━━━━━━━━━━━━━━━━━━━━━━━━━━━━━━━━━━\u001b[0m \u001b[32m78.6/78.6 kB\u001b[0m \u001b[31m5.2 MB/s\u001b[0m eta \u001b[36m0:00:00\u001b[0m\n",
            "\u001b[?25hInstalling collected packages: Mako, colorlog, alembic, optuna\n",
            "Successfully installed Mako-1.3.5 alembic-1.13.2 colorlog-6.8.2 optuna-3.6.1\n"
          ]
        }
      ]
    },
    {
      "cell_type": "code",
      "source": [
        "def objective(trial):\n",
        "    try:\n",
        "        algorithm = trial.suggest_categorical('algorithm', ['BaselineOnly', 'SVD', 'KNNBasic', 'CoClustering'])\n",
        "\n",
        "        if algorithm == 'BaselineOnly':\n",
        "            method = trial.suggest_categorical('method', ['als', 'sgd'])\n",
        "            reg_u = trial.suggest_float('reg_u', 1e-5, 1e-1, log=True)\n",
        "            reg_i = trial.suggest_float('reg_i', 1e-5, 1e-1, log=True)\n",
        "            bsl_options = {'method': method, 'reg_u': reg_u, 'reg_i': reg_i}\n",
        "            algo = BaselineOnly(bsl_options=bsl_options)\n",
        "\n",
        "        elif algorithm == 'SVD':\n",
        "            n_factors = trial.suggest_int('n_factors', 20, 200)\n",
        "            n_epochs = trial.suggest_int('n_epochs', 5, 50)\n",
        "            lr_all = trial.suggest_float('lr_all', 1e-4, 1e-1, log=True)\n",
        "            reg_all = trial.suggest_float('reg_all', 1e-4, 1e-1, log=True)\n",
        "            algo = SVD(n_factors=n_factors, n_epochs=n_epochs, lr_all=lr_all, reg_all=reg_all)\n",
        "\n",
        "        elif algorithm == 'KNNBasic':\n",
        "            k = trial.suggest_int('k', 10, 50)\n",
        "            min_k = trial.suggest_int('min_k', 1, 5)\n",
        "            sim_options = {\n",
        "                'name': trial.suggest_categorical('name', ['cosine', 'pearson']),\n",
        "                'user_based': trial.suggest_categorical('user_based', [True, False])\n",
        "            }\n",
        "            algo = KNNBasic(k=k, min_k=min_k, sim_options=sim_options)\n",
        "\n",
        "        elif algorithm == 'CoClustering':\n",
        "            n_cltr_u = trial.suggest_int('n_cltr_u', 3, 10)\n",
        "            n_cltr_i = trial.suggest_int('n_cltr_i', 3, 10)\n",
        "            n_epochs = trial.suggest_int('n_epochs', 20, 50)\n",
        "            algo = CoClustering(n_cltr_u=n_cltr_u, n_cltr_i=n_cltr_i, n_epochs=n_epochs)\n",
        "\n",
        "        algo.fit(trainset)\n",
        "\n",
        "        predictions = algo.test(testset)\n",
        "        rmse = accuracy.rmse(predictions, verbose=False)\n",
        "\n",
        "        return rmse\n",
        "\n",
        "    except Exception as e:\n",
        "        print(f\"Trial failed with exception: {e}\")\n",
        "        raise optuna.exceptions.TrialPruned()"
      ],
      "metadata": {
        "id": "Ijl_cCRiML8A"
      },
      "execution_count": 22,
      "outputs": []
    },
    {
      "cell_type": "code",
      "source": [
        "study = optuna.create_study(direction=\"minimize\")\n",
        "study.optimize(objective, n_trials=100)"
      ],
      "metadata": {
        "id": "b2xkshjDMfO1",
        "outputId": "e2b55026-ad4c-4c87-9ce5-d4330f4cd1cd",
        "colab": {
          "base_uri": "https://localhost:8080/"
        }
      },
      "execution_count": 23,
      "outputs": [
        {
          "output_type": "stream",
          "name": "stderr",
          "text": [
            "[I 2024-08-29 17:59:29,284] A new study created in memory with name: no-name-2741ca44-c803-4323-bf90-026f30d3389b\n"
          ]
        },
        {
          "output_type": "stream",
          "name": "stdout",
          "text": [
            "Computing the pearson similarity matrix...\n"
          ]
        },
        {
          "output_type": "stream",
          "name": "stderr",
          "text": [
            "[I 2024-08-29 17:59:34,620] Trial 0 finished with value: 1.939219846447997 and parameters: {'algorithm': 'KNNBasic', 'k': 11, 'min_k': 2, 'name': 'pearson', 'user_based': True}. Best is trial 0 with value: 1.939219846447997.\n",
            "[I 2024-08-29 17:59:40,964] Trial 1 finished with value: 1.953098338260948 and parameters: {'algorithm': 'SVD', 'n_factors': 85, 'n_epochs': 32, 'lr_all': 0.017915447250944856, 'reg_all': 0.001520886663372155}. Best is trial 0 with value: 1.939219846447997.\n"
          ]
        },
        {
          "output_type": "stream",
          "name": "stdout",
          "text": [
            "Done computing similarity matrix.\n",
            "Estimating biases using als...\n"
          ]
        },
        {
          "output_type": "stream",
          "name": "stderr",
          "text": [
            "[I 2024-08-29 17:59:41,944] Trial 2 finished with value: 1.8573167803671722 and parameters: {'algorithm': 'BaselineOnly', 'method': 'als', 'reg_u': 0.011062281205214228, 'reg_i': 2.0798243951937606e-05}. Best is trial 2 with value: 1.8573167803671722.\n",
            "[I 2024-08-29 17:59:45,234] Trial 3 finished with value: 1.7774348534343387 and parameters: {'algorithm': 'SVD', 'n_factors': 189, 'n_epochs': 11, 'lr_all': 0.0009466574067987996, 'reg_all': 0.0008233154195149196}. Best is trial 3 with value: 1.7774348534343387.\n"
          ]
        },
        {
          "output_type": "stream",
          "name": "stdout",
          "text": [
            "Computing the cosine similarity matrix...\n",
            "Done computing similarity matrix.\n"
          ]
        },
        {
          "output_type": "stream",
          "name": "stderr",
          "text": [
            "[I 2024-08-29 17:59:58,130] Trial 4 finished with value: 1.8297982471758942 and parameters: {'algorithm': 'KNNBasic', 'k': 49, 'min_k': 2, 'name': 'cosine', 'user_based': False}. Best is trial 3 with value: 1.7774348534343387.\n",
            "[I 2024-08-29 18:00:09,062] Trial 5 finished with value: 2.0202103876742155 and parameters: {'algorithm': 'CoClustering', 'n_cltr_u': 5, 'n_cltr_i': 10, 'n_epochs': 29}. Best is trial 3 with value: 1.7774348534343387.\n"
          ]
        },
        {
          "output_type": "stream",
          "name": "stdout",
          "text": [
            "Estimating biases using als...\n"
          ]
        },
        {
          "output_type": "stream",
          "name": "stderr",
          "text": [
            "[I 2024-08-29 18:00:10,172] Trial 6 finished with value: 1.8561753564521848 and parameters: {'algorithm': 'BaselineOnly', 'method': 'als', 'reg_u': 0.04770771923885867, 'reg_i': 0.07746617494169694}. Best is trial 3 with value: 1.7774348534343387.\n",
            "[I 2024-08-29 18:00:25,689] Trial 7 finished with value: 1.9874078632894159 and parameters: {'algorithm': 'CoClustering', 'n_cltr_u': 3, 'n_cltr_i': 8, 'n_epochs': 49}. Best is trial 3 with value: 1.7774348534343387.\n",
            "[I 2024-08-29 18:00:31,087] Trial 8 finished with value: 1.7729799950218001 and parameters: {'algorithm': 'SVD', 'n_factors': 107, 'n_epochs': 23, 'lr_all': 0.0001870264945902747, 'reg_all': 0.0009697284016627793}. Best is trial 8 with value: 1.7729799950218001.\n",
            "[I 2024-08-29 18:00:42,670] Trial 9 finished with value: 2.0175434415183324 and parameters: {'algorithm': 'CoClustering', 'n_cltr_u': 7, 'n_cltr_i': 8, 'n_epochs': 33}. Best is trial 8 with value: 1.7729799950218001.\n",
            "[I 2024-08-29 18:00:44,827] Trial 10 finished with value: 1.76948015437447 and parameters: {'algorithm': 'SVD', 'n_factors': 34, 'n_epochs': 11, 'lr_all': 0.0001801836574711384, 'reg_all': 0.086359755206589}. Best is trial 10 with value: 1.76948015437447.\n",
            "[I 2024-08-29 18:00:46,405] Trial 11 finished with value: 1.7691683175424482 and parameters: {'algorithm': 'SVD', 'n_factors': 33, 'n_epochs': 11, 'lr_all': 0.00010534895827435427, 'reg_all': 0.09953604155816546}. Best is trial 11 with value: 1.7691683175424482.\n",
            "[I 2024-08-29 18:00:47,242] Trial 12 finished with value: 1.7688907675917411 and parameters: {'algorithm': 'SVD', 'n_factors': 20, 'n_epochs': 5, 'lr_all': 0.00012388688666297332, 'reg_all': 0.08438843661108912}. Best is trial 12 with value: 1.7688907675917411.\n",
            "[I 2024-08-29 18:00:48,170] Trial 13 finished with value: 1.7692422359447317 and parameters: {'algorithm': 'SVD', 'n_factors': 21, 'n_epochs': 5, 'lr_all': 0.00010404325410867031, 'reg_all': 0.09954748165388536}. Best is trial 12 with value: 1.7688907675917411.\n",
            "[I 2024-08-29 18:00:50,770] Trial 14 finished with value: 1.7807104994630314 and parameters: {'algorithm': 'SVD', 'n_factors': 56, 'n_epochs': 18, 'lr_all': 0.0011447306211501659, 'reg_all': 0.014538940541756794}. Best is trial 12 with value: 1.7688907675917411.\n",
            "[I 2024-08-29 18:00:53,388] Trial 15 finished with value: 1.887894342275495 and parameters: {'algorithm': 'SVD', 'n_factors': 171, 'n_epochs': 9, 'lr_all': 0.09536991569144325, 'reg_all': 0.01325418824040103}. Best is trial 12 with value: 1.7688907675917411.\n",
            "[I 2024-08-29 18:00:56,953] Trial 16 finished with value: 1.7750000819543903 and parameters: {'algorithm': 'SVD', 'n_factors': 69, 'n_epochs': 17, 'lr_all': 0.0006454946521093943, 'reg_all': 0.00015087288242677206}. Best is trial 12 with value: 1.7688907675917411.\n"
          ]
        },
        {
          "output_type": "stream",
          "name": "stdout",
          "text": [
            "Estimating biases using sgd...\n"
          ]
        },
        {
          "output_type": "stream",
          "name": "stderr",
          "text": [
            "[I 2024-08-29 18:00:58,527] Trial 17 finished with value: 1.8148609489345602 and parameters: {'algorithm': 'BaselineOnly', 'method': 'sgd', 'reg_u': 1.6076100327863198e-05, 'reg_i': 0.0031173901898360412}. Best is trial 12 with value: 1.7688907675917411.\n"
          ]
        },
        {
          "output_type": "stream",
          "name": "stdout",
          "text": [
            "Computing the cosine similarity matrix...\n",
            "Done computing similarity matrix.\n"
          ]
        },
        {
          "output_type": "stream",
          "name": "stderr",
          "text": [
            "[I 2024-08-29 18:01:02,114] Trial 18 finished with value: 1.8304072702701626 and parameters: {'algorithm': 'KNNBasic', 'k': 29, 'min_k': 5, 'name': 'cosine', 'user_based': True}. Best is trial 12 with value: 1.7688907675917411.\n",
            "[I 2024-08-29 18:01:03,602] Trial 19 finished with value: 1.7831832267395369 and parameters: {'algorithm': 'SVD', 'n_factors': 131, 'n_epochs': 5, 'lr_all': 0.004302331957805581, 'reg_all': 0.02196992393285015}. Best is trial 12 with value: 1.7688907675917411.\n",
            "[I 2024-08-29 18:01:05,626] Trial 20 finished with value: 1.771496241179234 and parameters: {'algorithm': 'SVD', 'n_factors': 20, 'n_epochs': 17, 'lr_all': 0.0004093768482132299, 'reg_all': 0.03270449363121961}. Best is trial 12 with value: 1.7688907675917411.\n",
            "[I 2024-08-29 18:01:06,754] Trial 21 finished with value: 1.7691802104185517 and parameters: {'algorithm': 'SVD', 'n_factors': 20, 'n_epochs': 6, 'lr_all': 0.0001022863420775385, 'reg_all': 0.0946050182495587}. Best is trial 12 with value: 1.7688907675917411.\n",
            "[I 2024-08-29 18:01:08,370] Trial 22 finished with value: 1.7701169575351319 and parameters: {'algorithm': 'SVD', 'n_factors': 48, 'n_epochs': 5, 'lr_all': 0.00012009068405110283, 'reg_all': 0.04838668361588142}. Best is trial 12 with value: 1.7688907675917411.\n",
            "[I 2024-08-29 18:01:10,411] Trial 23 finished with value: 1.7707601476674883 and parameters: {'algorithm': 'SVD', 'n_factors': 43, 'n_epochs': 12, 'lr_all': 0.0003270174740016971, 'reg_all': 0.004694779789171765}. Best is trial 12 with value: 1.7688907675917411.\n",
            "[I 2024-08-29 18:01:17,211] Trial 24 finished with value: 1.771544011802314 and parameters: {'algorithm': 'SVD', 'n_factors': 80, 'n_epochs': 42, 'lr_all': 0.00010661149171824197, 'reg_all': 0.09121486786438186}. Best is trial 12 with value: 1.7688907675917411.\n",
            "[I 2024-08-29 18:01:19,314] Trial 25 finished with value: 1.7855616354668384 and parameters: {'algorithm': 'SVD', 'n_factors': 23, 'n_epochs': 15, 'lr_all': 0.0020126767346645875, 'reg_all': 0.03541702335878356}. Best is trial 12 with value: 1.7688907675917411.\n"
          ]
        },
        {
          "output_type": "stream",
          "name": "stdout",
          "text": [
            "Computing the pearson similarity matrix...\n",
            "Done computing similarity matrix.\n"
          ]
        },
        {
          "output_type": "stream",
          "name": "stderr",
          "text": [
            "[I 2024-08-29 18:01:32,680] Trial 26 finished with value: 1.8198051565952822 and parameters: {'algorithm': 'KNNBasic', 'k': 47, 'min_k': 5, 'name': 'pearson', 'user_based': False}. Best is trial 12 with value: 1.7688907675917411.\n"
          ]
        },
        {
          "output_type": "stream",
          "name": "stdout",
          "text": [
            "Estimating biases using sgd...\n"
          ]
        },
        {
          "output_type": "stream",
          "name": "stderr",
          "text": [
            "[I 2024-08-29 18:01:37,880] Trial 27 finished with value: 1.8148609489345602 and parameters: {'algorithm': 'BaselineOnly', 'method': 'sgd', 'reg_u': 7.460579890225756e-05, 'reg_i': 1.1682035695073497e-05}. Best is trial 12 with value: 1.7688907675917411.\n",
            "[I 2024-08-29 18:01:50,221] Trial 28 finished with value: 1.98726221017015 and parameters: {'algorithm': 'CoClustering', 'n_cltr_u': 10, 'n_cltr_i': 3, 'n_epochs': 24}. Best is trial 12 with value: 1.7688907675917411.\n"
          ]
        },
        {
          "output_type": "stream",
          "name": "stdout",
          "text": [
            "Computing the pearson similarity matrix...\n",
            "Done computing similarity matrix.\n"
          ]
        },
        {
          "output_type": "stream",
          "name": "stderr",
          "text": [
            "[I 2024-08-29 18:02:06,795] Trial 29 finished with value: 1.9712047011729128 and parameters: {'algorithm': 'KNNBasic', 'k': 15, 'min_k': 1, 'name': 'pearson', 'user_based': False}. Best is trial 12 with value: 1.7688907675917411.\n",
            "[I 2024-08-29 18:02:08,325] Trial 30 finished with value: 1.7698908796899007 and parameters: {'algorithm': 'SVD', 'n_factors': 56, 'n_epochs': 8, 'lr_all': 0.0002948585697504641, 'reg_all': 0.005830838848004869}. Best is trial 12 with value: 1.7688907675917411.\n",
            "[I 2024-08-29 18:02:09,155] Trial 31 finished with value: 1.769142227950495 and parameters: {'algorithm': 'SVD', 'n_factors': 20, 'n_epochs': 5, 'lr_all': 0.00010420901887666834, 'reg_all': 0.06872568755068789}. Best is trial 12 with value: 1.7688907675917411.\n",
            "[I 2024-08-29 18:02:10,605] Trial 32 finished with value: 1.770045278146143 and parameters: {'algorithm': 'SVD', 'n_factors': 40, 'n_epochs': 8, 'lr_all': 0.00022746616000297168, 'reg_all': 0.05408632183116199}. Best is trial 12 with value: 1.7688907675917411.\n",
            "[I 2024-08-29 18:02:12,130] Trial 33 finished with value: 1.769495525467525 and parameters: {'algorithm': 'SVD', 'n_factors': 21, 'n_epochs': 13, 'lr_all': 0.00012624265423822917, 'reg_all': 0.05272975698842295}. Best is trial 12 with value: 1.7688907675917411.\n",
            "[I 2024-08-29 18:02:13,297] Trial 34 finished with value: 1.769850504400994 and parameters: {'algorithm': 'SVD', 'n_factors': 34, 'n_epochs': 5, 'lr_all': 0.00033702369990468633, 'reg_all': 0.096139512777299}. Best is trial 12 with value: 1.7688907675917411.\n",
            "[I 2024-08-29 18:02:15,975] Trial 35 finished with value: 1.795522190369332 and parameters: {'algorithm': 'SVD', 'n_factors': 65, 'n_epochs': 9, 'lr_all': 0.005021423680895643, 'reg_all': 0.02164416879637291}. Best is trial 12 with value: 1.7688907675917411.\n",
            "[I 2024-08-29 18:02:18,669] Trial 36 finished with value: 1.7701991617936064 and parameters: {'algorithm': 'SVD', 'n_factors': 36, 'n_epochs': 21, 'lr_all': 0.00010077713747803961, 'reg_all': 0.05259741362885567}. Best is trial 12 with value: 1.7688907675917411.\n"
          ]
        },
        {
          "output_type": "stream",
          "name": "stdout",
          "text": [
            "Estimating biases using sgd...\n"
          ]
        },
        {
          "output_type": "stream",
          "name": "stderr",
          "text": [
            "[I 2024-08-29 18:02:20,279] Trial 37 finished with value: 1.8148609489345602 and parameters: {'algorithm': 'BaselineOnly', 'method': 'sgd', 'reg_u': 0.0006562639336425252, 'reg_i': 0.0005400924110527902}. Best is trial 12 with value: 1.7688907675917411.\n",
            "[I 2024-08-29 18:02:27,899] Trial 38 finished with value: 1.9830745707093063 and parameters: {'algorithm': 'CoClustering', 'n_cltr_u': 10, 'n_cltr_i': 3, 'n_epochs': 22}. Best is trial 12 with value: 1.7688907675917411.\n"
          ]
        },
        {
          "output_type": "stream",
          "name": "stdout",
          "text": [
            "Computing the cosine similarity matrix...\n",
            "Done computing similarity matrix.\n"
          ]
        },
        {
          "output_type": "stream",
          "name": "stderr",
          "text": [
            "[I 2024-08-29 18:02:31,597] Trial 39 finished with value: 1.837279612707826 and parameters: {'algorithm': 'KNNBasic', 'k': 31, 'min_k': 4, 'name': 'cosine', 'user_based': True}. Best is trial 12 with value: 1.7688907675917411.\n",
            "[I 2024-08-29 18:02:34,875] Trial 40 finished with value: 1.7740651373629033 and parameters: {'algorithm': 'SVD', 'n_factors': 131, 'n_epochs': 14, 'lr_all': 0.0004731439018521569, 'reg_all': 0.010358489097028608}. Best is trial 12 with value: 1.7688907675917411.\n",
            "[I 2024-08-29 18:02:35,748] Trial 41 finished with value: 1.768965482018738 and parameters: {'algorithm': 'SVD', 'n_factors': 21, 'n_epochs': 5, 'lr_all': 0.00018493898727969644, 'reg_all': 0.0988758235231856}. Best is trial 12 with value: 1.7688907675917411.\n",
            "[I 2024-08-29 18:02:37,056] Trial 42 finished with value: 1.7698432060252671 and parameters: {'algorithm': 'SVD', 'n_factors': 33, 'n_epochs': 8, 'lr_all': 0.00019182648213772447, 'reg_all': 0.06420220990099178}. Best is trial 12 with value: 1.7688907675917411.\n",
            "[I 2024-08-29 18:02:38,048] Trial 43 finished with value: 1.7691332962550657 and parameters: {'algorithm': 'SVD', 'n_factors': 22, 'n_epochs': 7, 'lr_all': 0.0001841411262218565, 'reg_all': 0.03028559007559272}. Best is trial 12 with value: 1.7688907675917411.\n",
            "[I 2024-08-29 18:02:40,248] Trial 44 finished with value: 1.7700078803818418 and parameters: {'algorithm': 'SVD', 'n_factors': 47, 'n_epochs': 10, 'lr_all': 0.00020465717723041547, 'reg_all': 0.03041530236853289}. Best is trial 12 with value: 1.7688907675917411.\n",
            "[I 2024-08-29 18:02:42,188] Trial 45 finished with value: 1.7692410469238502 and parameters: {'algorithm': 'SVD', 'n_factors': 34, 'n_epochs': 11, 'lr_all': 0.00020347831409050257, 'reg_all': 0.03898529652111725}. Best is trial 12 with value: 1.7688907675917411.\n",
            "[I 2024-08-29 18:02:49,235] Trial 46 finished with value: 2.0013099412810096 and parameters: {'algorithm': 'CoClustering', 'n_cltr_u': 7, 'n_cltr_i': 5, 'n_epochs': 21}. Best is trial 12 with value: 1.7688907675917411.\n",
            "[I 2024-08-29 18:02:54,975] Trial 47 finished with value: 1.7804693526340891 and parameters: {'algorithm': 'SVD', 'n_factors': 56, 'n_epochs': 34, 'lr_all': 0.000622751074237993, 'reg_all': 0.023696205714793646}. Best is trial 12 with value: 1.7688907675917411.\n"
          ]
        },
        {
          "output_type": "stream",
          "name": "stdout",
          "text": [
            "Estimating biases using als...\n"
          ]
        },
        {
          "output_type": "stream",
          "name": "stderr",
          "text": [
            "[I 2024-08-29 18:02:55,966] Trial 48 finished with value: 1.856269565876174 and parameters: {'algorithm': 'BaselineOnly', 'method': 'als', 'reg_u': 0.0017702690678584102, 'reg_i': 0.0944287538631401}. Best is trial 12 with value: 1.7688907675917411.\n",
            "[I 2024-08-29 18:02:57,712] Trial 49 finished with value: 1.7716820917304335 and parameters: {'algorithm': 'SVD', 'n_factors': 101, 'n_epochs': 7, 'lr_all': 0.00015793617707384727, 'reg_all': 0.05746936464688543}. Best is trial 12 with value: 1.7688907675917411.\n",
            "[I 2024-08-29 18:02:59,450] Trial 50 finished with value: 1.8986804467700624 and parameters: {'algorithm': 'SVD', 'n_factors': 28, 'n_epochs': 14, 'lr_all': 0.014623907614730723, 'reg_all': 0.06881337069049837}. Best is trial 12 with value: 1.7688907675917411.\n",
            "[I 2024-08-29 18:03:00,607] Trial 51 finished with value: 1.7689012905333044 and parameters: {'algorithm': 'SVD', 'n_factors': 20, 'n_epochs': 7, 'lr_all': 0.0001002925151476426, 'reg_all': 0.09986900648865239}. Best is trial 12 with value: 1.7688907675917411.\n",
            "[I 2024-08-29 18:03:01,853] Trial 52 finished with value: 1.7693972711739097 and parameters: {'algorithm': 'SVD', 'n_factors': 30, 'n_epochs': 7, 'lr_all': 0.00027263424535429337, 'reg_all': 0.06849960966221107}. Best is trial 12 with value: 1.7688907675917411.\n",
            "[I 2024-08-29 18:03:03,569] Trial 53 finished with value: 1.7695881935462 and parameters: {'algorithm': 'SVD', 'n_factors': 46, 'n_epochs': 11, 'lr_all': 0.0001706079617124694, 'reg_all': 0.04274573145779427}. Best is trial 12 with value: 1.7688907675917411.\n",
            "[I 2024-08-29 18:03:04,647] Trial 54 finished with value: 1.7691522933341068 and parameters: {'algorithm': 'SVD', 'n_factors': 20, 'n_epochs': 5, 'lr_all': 0.00015221003954656818, 'reg_all': 0.0002619125294846931}. Best is trial 12 with value: 1.7688907675917411.\n",
            "[I 2024-08-29 18:03:05,938] Trial 55 finished with value: 1.7693201283326785 and parameters: {'algorithm': 'SVD', 'n_factors': 28, 'n_epochs': 5, 'lr_all': 0.00014697784900532355, 'reg_all': 0.00030725174674167433}. Best is trial 12 with value: 1.7688907675917411.\n",
            "[I 2024-08-29 18:03:09,375] Trial 56 finished with value: 1.774985545675916 and parameters: {'algorithm': 'SVD', 'n_factors': 198, 'n_epochs': 9, 'lr_all': 0.0002446380976684102, 'reg_all': 0.0009827864107352432}. Best is trial 12 with value: 1.7688907675917411.\n",
            "[I 2024-08-29 18:03:10,719] Trial 57 finished with value: 1.7694392618641392 and parameters: {'algorithm': 'SVD', 'n_factors': 42, 'n_epochs': 7, 'lr_all': 0.00016517222025498607, 'reg_all': 0.0026106505850369333}. Best is trial 12 with value: 1.7688907675917411.\n"
          ]
        },
        {
          "output_type": "stream",
          "name": "stdout",
          "text": [
            "Computing the cosine similarity matrix...\n",
            "Done computing similarity matrix.\n"
          ]
        },
        {
          "output_type": "stream",
          "name": "stderr",
          "text": [
            "[I 2024-08-29 18:03:21,694] Trial 58 finished with value: 1.824456342667341 and parameters: {'algorithm': 'KNNBasic', 'k': 34, 'min_k': 3, 'name': 'cosine', 'user_based': False}. Best is trial 12 with value: 1.7688907675917411.\n",
            "[I 2024-08-29 18:03:23,158] Trial 59 finished with value: 1.7755337336105093 and parameters: {'algorithm': 'SVD', 'n_factors': 28, 'n_epochs': 10, 'lr_all': 0.0013006615886988317, 'reg_all': 0.00011557294170114149}. Best is trial 12 with value: 1.7688907675917411.\n",
            "[I 2024-08-29 18:03:29,402] Trial 60 finished with value: 1.983083557803337 and parameters: {'algorithm': 'CoClustering', 'n_cltr_u': 3, 'n_cltr_i': 6, 'n_epochs': 21}. Best is trial 12 with value: 1.7688907675917411.\n",
            "[I 2024-08-29 18:03:30,536] Trial 61 finished with value: 1.7686576507900638 and parameters: {'algorithm': 'SVD', 'n_factors': 25, 'n_epochs': 5, 'lr_all': 0.00015059845669634315, 'reg_all': 0.0004337611599331474}. Best is trial 61 with value: 1.7686576507900638.\n",
            "[I 2024-08-29 18:03:31,943] Trial 62 finished with value: 1.7688994374338958 and parameters: {'algorithm': 'SVD', 'n_factors': 20, 'n_epochs': 5, 'lr_all': 0.0001553821862681144, 'reg_all': 0.0003951191843960481}. Best is trial 61 with value: 1.7686576507900638.\n",
            "[I 2024-08-29 18:03:33,416] Trial 63 finished with value: 1.769381256016095 and parameters: {'algorithm': 'SVD', 'n_factors': 29, 'n_epochs': 7, 'lr_all': 0.0004526698730778788, 'reg_all': 0.0007783672305998644}. Best is trial 61 with value: 1.7686576507900638.\n",
            "[I 2024-08-29 18:03:36,576] Trial 64 finished with value: 1.7698424329706968 and parameters: {'algorithm': 'SVD', 'n_factors': 20, 'n_epochs': 30, 'lr_all': 0.00013709294440379988, 'reg_all': 0.0005158694770773437}. Best is trial 61 with value: 1.7686576507900638.\n"
          ]
        },
        {
          "output_type": "stream",
          "name": "stdout",
          "text": [
            "Estimating biases using sgd...\n"
          ]
        },
        {
          "output_type": "stream",
          "name": "stderr",
          "text": [
            "[I 2024-08-29 18:03:38,020] Trial 65 finished with value: 1.8148609489345602 and parameters: {'algorithm': 'BaselineOnly', 'method': 'sgd', 'reg_u': 0.0002813660224121914, 'reg_i': 0.00040338271616752934}. Best is trial 61 with value: 1.7686576507900638.\n",
            "[I 2024-08-29 18:03:44,868] Trial 66 finished with value: 1.775345077287945 and parameters: {'algorithm': 'SVD', 'n_factors': 53, 'n_epochs': 48, 'lr_all': 0.0002514762000183135, 'reg_all': 0.0017511166240342963}. Best is trial 61 with value: 1.7686576507900638.\n",
            "[I 2024-08-29 18:03:46,140] Trial 67 finished with value: 1.9900459027928539 and parameters: {'algorithm': 'SVD', 'n_factors': 36, 'n_epochs': 5, 'lr_all': 0.04211508710006803, 'reg_all': 0.0003285107727494756}. Best is trial 61 with value: 1.7686576507900638.\n",
            "[I 2024-08-29 18:03:47,400] Trial 68 finished with value: 1.769923064269409 and parameters: {'algorithm': 'SVD', 'n_factors': 40, 'n_epochs': 7, 'lr_all': 0.00013043650755375442, 'reg_all': 0.00021932735386013272}. Best is trial 61 with value: 1.7686576507900638.\n",
            "[I 2024-08-29 18:03:50,779] Trial 69 finished with value: 1.7740717729954805 and parameters: {'algorithm': 'SVD', 'n_factors': 174, 'n_epochs': 12, 'lr_all': 0.00021196508315310972, 'reg_all': 0.0004161186650681238}. Best is trial 61 with value: 1.7686576507900638.\n",
            "[I 2024-08-29 18:03:54,548] Trial 70 finished with value: 1.7742244291952138 and parameters: {'algorithm': 'SVD', 'n_factors': 27, 'n_epochs': 36, 'lr_all': 0.0003375577514748012, 'reg_all': 0.07910362809297161}. Best is trial 61 with value: 1.7686576507900638.\n",
            "[I 2024-08-29 18:03:55,529] Trial 71 finished with value: 1.7692035951609684 and parameters: {'algorithm': 'SVD', 'n_factors': 21, 'n_epochs': 5, 'lr_all': 0.0001013000866215146, 'reg_all': 0.00020442009186847555}. Best is trial 61 with value: 1.7686576507900638.\n",
            "[I 2024-08-29 18:03:57,101] Trial 72 finished with value: 1.7691412015574461 and parameters: {'algorithm': 'SVD', 'n_factors': 20, 'n_epochs': 9, 'lr_all': 0.00014490567679077218, 'reg_all': 0.0006400224940204293}. Best is trial 61 with value: 1.7686576507900638.\n",
            "[I 2024-08-29 18:03:59,138] Trial 73 finished with value: 1.7695800870829106 and parameters: {'algorithm': 'SVD', 'n_factors': 27, 'n_epochs': 10, 'lr_all': 0.0001502122253036424, 'reg_all': 0.0006600813676213804}. Best is trial 61 with value: 1.7686576507900638.\n",
            "[I 2024-08-29 18:04:00,686] Trial 74 finished with value: 1.7697801722183852 and parameters: {'algorithm': 'SVD', 'n_factors': 38, 'n_epochs': 9, 'lr_all': 0.00013310810030647732, 'reg_all': 0.0005531012410939827}. Best is trial 61 with value: 1.7686576507900638.\n"
          ]
        },
        {
          "output_type": "stream",
          "name": "stdout",
          "text": [
            "Computing the pearson similarity matrix...\n",
            "Done computing similarity matrix.\n"
          ]
        },
        {
          "output_type": "stream",
          "name": "stderr",
          "text": [
            "[I 2024-08-29 18:04:04,656] Trial 75 finished with value: 2.013195729882197 and parameters: {'algorithm': 'KNNBasic', 'k': 22, 'min_k': 1, 'name': 'pearson', 'user_based': True}. Best is trial 61 with value: 1.7686576507900638.\n",
            "[I 2024-08-29 18:04:05,829] Trial 76 finished with value: 1.7688394193421229 and parameters: {'algorithm': 'SVD', 'n_factors': 20, 'n_epochs': 7, 'lr_all': 0.00019013099470235282, 'reg_all': 0.07682646918231852}. Best is trial 61 with value: 1.7686576507900638.\n",
            "[I 2024-08-29 18:04:07,589] Trial 77 finished with value: 1.7731592214305363 and parameters: {'algorithm': 'SVD', 'n_factors': 129, 'n_epochs': 7, 'lr_all': 0.0007381217926301452, 'reg_all': 0.0014980564982436742}. Best is trial 61 with value: 1.7686576507900638.\n",
            "[I 2024-08-29 18:04:15,546] Trial 78 finished with value: 2.0129364985170755 and parameters: {'algorithm': 'CoClustering', 'n_cltr_u': 5, 'n_cltr_i': 10, 'n_epochs': 21}. Best is trial 61 with value: 1.7686576507900638.\n",
            "[I 2024-08-29 18:04:17,309] Trial 79 finished with value: 1.7699132397005317 and parameters: {'algorithm': 'SVD', 'n_factors': 64, 'n_epochs': 9, 'lr_all': 0.0002827690056170813, 'reg_all': 0.09726962293703971}. Best is trial 61 with value: 1.7686576507900638.\n"
          ]
        },
        {
          "output_type": "stream",
          "name": "stdout",
          "text": [
            "Estimating biases using als...\n"
          ]
        },
        {
          "output_type": "stream",
          "name": "stderr",
          "text": [
            "[I 2024-08-29 18:04:18,343] Trial 80 finished with value: 1.8567210414286761 and parameters: {'algorithm': 'BaselineOnly', 'method': 'als', 'reg_u': 0.09802179716491273, 'reg_i': 0.004940435309216082}. Best is trial 61 with value: 1.7686576507900638.\n",
            "[I 2024-08-29 18:04:19,411] Trial 81 finished with value: 1.7691196607039152 and parameters: {'algorithm': 'SVD', 'n_factors': 25, 'n_epochs': 6, 'lr_all': 0.00019381932351044572, 'reg_all': 0.07393400721948772}. Best is trial 61 with value: 1.7686576507900638.\n",
            "[I 2024-08-29 18:04:20,353] Trial 82 finished with value: 1.769158873667812 and parameters: {'algorithm': 'SVD', 'n_factors': 26, 'n_epochs': 6, 'lr_all': 0.00018952433575318613, 'reg_all': 0.07556685685243872}. Best is trial 61 with value: 1.7686576507900638.\n",
            "[I 2024-08-29 18:04:21,834] Trial 83 finished with value: 1.76931898076892 and parameters: {'algorithm': 'SVD', 'n_factors': 34, 'n_epochs': 8, 'lr_all': 0.0003948697972090911, 'reg_all': 0.09994413827849839}. Best is trial 61 with value: 1.7686576507900638.\n",
            "[I 2024-08-29 18:04:23,388] Trial 84 finished with value: 1.7692776608051948 and parameters: {'algorithm': 'SVD', 'n_factors': 25, 'n_epochs': 6, 'lr_all': 0.0002372453402360191, 'reg_all': 0.04526273296595826}. Best is trial 61 with value: 1.7686576507900638.\n",
            "[I 2024-08-29 18:04:24,877] Trial 85 finished with value: 1.7692525185588237 and parameters: {'algorithm': 'SVD', 'n_factors': 32, 'n_epochs': 8, 'lr_all': 0.00012556251583969102, 'reg_all': 0.02883837845519533}. Best is trial 61 with value: 1.7686576507900638.\n",
            "[I 2024-08-29 18:04:26,526] Trial 86 finished with value: 1.7696178660066482 and parameters: {'algorithm': 'SVD', 'n_factors': 20, 'n_epochs': 13, 'lr_all': 0.0001843799876430804, 'reg_all': 0.008711395735429171}. Best is trial 61 with value: 1.7686576507900638.\n",
            "[I 2024-08-29 18:04:27,700] Trial 87 finished with value: 1.770294549042601 and parameters: {'algorithm': 'SVD', 'n_factors': 50, 'n_epochs': 6, 'lr_all': 0.00034047430019886756, 'reg_all': 0.0167796930808573}. Best is trial 61 with value: 1.7686576507900638.\n",
            "[I 2024-08-29 18:04:29,369] Trial 88 finished with value: 1.769532238417032 and parameters: {'algorithm': 'SVD', 'n_factors': 43, 'n_epochs': 10, 'lr_all': 0.00012030427600460622, 'reg_all': 0.07216235477011038}. Best is trial 61 with value: 1.7686576507900638.\n",
            "[I 2024-08-29 18:04:30,703] Trial 89 finished with value: 1.8011970348801767 and parameters: {'algorithm': 'SVD', 'n_factors': 84, 'n_epochs': 6, 'lr_all': 0.008683078843981567, 'reg_all': 0.00042518685474755326}. Best is trial 61 with value: 1.7686576507900638.\n"
          ]
        },
        {
          "output_type": "stream",
          "name": "stdout",
          "text": [
            "Computing the pearson similarity matrix...\n",
            "Done computing similarity matrix.\n"
          ]
        },
        {
          "output_type": "stream",
          "name": "stderr",
          "text": [
            "[I 2024-08-29 18:04:34,907] Trial 90 finished with value: 1.8915638821625758 and parameters: {'algorithm': 'KNNBasic', 'k': 40, 'min_k': 3, 'name': 'pearson', 'user_based': True}. Best is trial 61 with value: 1.7686576507900638.\n",
            "[I 2024-08-29 18:04:36,309] Trial 91 finished with value: 1.7691680941491978 and parameters: {'algorithm': 'SVD', 'n_factors': 20, 'n_epochs': 5, 'lr_all': 0.0001076594351694058, 'reg_all': 0.06336902375128839}. Best is trial 61 with value: 1.7686576507900638.\n",
            "[I 2024-08-29 18:04:37,766] Trial 92 finished with value: 1.7693469631358907 and parameters: {'algorithm': 'SVD', 'n_factors': 25, 'n_epochs': 8, 'lr_all': 0.0001857209375419948, 'reg_all': 0.05077000838472365}. Best is trial 61 with value: 1.7686576507900638.\n",
            "[I 2024-08-29 18:04:40,896] Trial 93 finished with value: 1.7694348227094945 and parameters: {'algorithm': 'SVD', 'n_factors': 33, 'n_epochs': 25, 'lr_all': 0.00013831196647052236, 'reg_all': 0.07727639607185216}. Best is trial 61 with value: 1.7686576507900638.\n",
            "[I 2024-08-29 18:04:42,361] Trial 94 finished with value: 1.7692027361572709 and parameters: {'algorithm': 'SVD', 'n_factors': 25, 'n_epochs': 12, 'lr_all': 0.00010021110601554573, 'reg_all': 0.037926811453407115}. Best is trial 61 with value: 1.7686576507900638.\n",
            "[I 2024-08-29 18:04:43,577] Trial 95 finished with value: 1.770109298401373 and parameters: {'algorithm': 'SVD', 'n_factors': 38, 'n_epochs': 6, 'lr_all': 0.00016708674159029738, 'reg_all': 0.08317186104169709}. Best is trial 61 with value: 1.7686576507900638.\n",
            "[I 2024-08-29 18:04:44,981] Trial 96 finished with value: 1.770455986833196 and parameters: {'algorithm': 'SVD', 'n_factors': 31, 'n_epochs': 9, 'lr_all': 0.00024603786418092057, 'reg_all': 0.05854258058764558}. Best is trial 61 with value: 1.7686576507900638.\n",
            "[I 2024-08-29 18:04:52,583] Trial 97 finished with value: 2.0049556927980663 and parameters: {'algorithm': 'CoClustering', 'n_cltr_u': 8, 'n_cltr_i': 5, 'n_epochs': 21}. Best is trial 61 with value: 1.7686576507900638.\n",
            "[I 2024-08-29 18:04:53,741] Trial 98 finished with value: 1.7689895609201787 and parameters: {'algorithm': 'SVD', 'n_factors': 20, 'n_epochs': 7, 'lr_all': 0.00012102621182749398, 'reg_all': 0.05885794639128902}. Best is trial 61 with value: 1.7686576507900638.\n",
            "[I 2024-08-29 18:04:55,884] Trial 99 finished with value: 1.7718804975736726 and parameters: {'algorithm': 'SVD', 'n_factors': 95, 'n_epochs': 11, 'lr_all': 0.00021786099927720463, 'reg_all': 0.04543781863504532}. Best is trial 61 with value: 1.7686576507900638.\n"
          ]
        }
      ]
    },
    {
      "cell_type": "code",
      "source": [
        "print(f\"Number of trials completed: {len(study.trials)}\")"
      ],
      "metadata": {
        "id": "rp3zqvd6PO4l",
        "outputId": "30fe40f5-0fb3-48ef-a43f-1e9a576858d9",
        "colab": {
          "base_uri": "https://localhost:8080/"
        }
      },
      "execution_count": 24,
      "outputs": [
        {
          "output_type": "stream",
          "name": "stdout",
          "text": [
            "Number of trials completed: 100\n"
          ]
        }
      ]
    },
    {
      "cell_type": "code",
      "source": [
        "study.best_params"
      ],
      "metadata": {
        "id": "Q3l2QwJbPenN",
        "outputId": "e42ddc5e-bf7e-4deb-f5a5-89a6f77d30f6",
        "colab": {
          "base_uri": "https://localhost:8080/"
        }
      },
      "execution_count": 25,
      "outputs": [
        {
          "output_type": "execute_result",
          "data": {
            "text/plain": [
              "{'algorithm': 'SVD',\n",
              " 'n_factors': 25,\n",
              " 'n_epochs': 5,\n",
              " 'lr_all': 0.00015059845669634315,\n",
              " 'reg_all': 0.0004337611599331474}"
            ]
          },
          "metadata": {},
          "execution_count": 25
        }
      ]
    },
    {
      "cell_type": "code",
      "source": [
        "best_params = study.best_params\n",
        "\n",
        "best_algorithm = best_params['algorithm']\n",
        "\n",
        "if best_algorithm == 'BaselineOnly':\n",
        "    bsl_options = {\n",
        "        'method': best_params['method'],\n",
        "        'reg_u': best_params['reg_u'],\n",
        "        'reg_i': best_params['reg_i']\n",
        "    }\n",
        "    final_algo = BaselineOnly(bsl_options=bsl_options)\n",
        "\n",
        "elif best_algorithm == 'SVD':\n",
        "    final_algo = SVD(\n",
        "        n_factors=best_params['n_factors'],\n",
        "        n_epochs=best_params['n_epochs'],\n",
        "        lr_all=best_params['lr_all'],\n",
        "        reg_all=best_params['reg_all']\n",
        "    )\n",
        "\n",
        "elif best_algorithm == 'KNNBasic':\n",
        "    sim_options = {\n",
        "        'name': best_params['name'],\n",
        "        'user_based': best_params['user_based']\n",
        "    }\n",
        "    final_algo = KNNBasic(\n",
        "        k=best_params['k'],\n",
        "        min_k=best_params['min_k'],\n",
        "        sim_options=sim_options\n",
        "    )\n",
        "\n",
        "elif best_algorithm == 'CoClustering':\n",
        "    final_algo = CoClustering(\n",
        "        n_cltr_u=best_params['n_cltr_u'],\n",
        "        n_cltr_i=best_params['n_cltr_i'],\n",
        "        n_epochs=best_params['n_epochs']\n",
        "    )\n",
        "\n",
        "final_algo.fit(trainset)\n",
        "\n",
        "final_predictions = final_algo.test(testset)\n",
        "\n",
        "print(f\"mae = {accuracy.mae(final_predictions, verbose=False)}\")\n",
        "print(f\"mse = {accuracy.mse(final_predictions, verbose=False)}\")\n",
        "print(f\"rmse= {accuracy.rmse(final_predictions, verbose=False)}\")"
      ],
      "metadata": {
        "id": "yzg9XvtNOh7X",
        "outputId": "7cd61e99-8240-4211-cd32-a63c4fce62a6",
        "colab": {
          "base_uri": "https://localhost:8080/"
        }
      },
      "execution_count": 26,
      "outputs": [
        {
          "output_type": "stream",
          "name": "stdout",
          "text": [
            "mae = 1.6142757372467964\n",
            "mse = 3.128772166176475\n",
            "rmse= 1.7688335609029118\n"
          ]
        }
      ]
    }
  ]
}