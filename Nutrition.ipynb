{
 "cells": [
  {
   "cell_type": "code",
   "execution_count": 1,
   "id": "a48b7a1d",
   "metadata": {
    "_cell_guid": "b1076dfc-b9ad-4769-8c92-a6c4dae69d19",
    "_uuid": "8f2839f25d086af736a60e9eeb907d3b93b6e0e5",
    "execution": {
     "iopub.execute_input": "2024-07-16T16:06:18.600672Z",
     "iopub.status.busy": "2024-07-16T16:06:18.600224Z",
     "iopub.status.idle": "2024-07-16T16:06:22.564535Z",
     "shell.execute_reply": "2024-07-16T16:06:22.563186Z"
    },
    "papermill": {
     "duration": 3.979007,
     "end_time": "2024-07-16T16:06:22.567687",
     "exception": false,
     "start_time": "2024-07-16T16:06:18.588680",
     "status": "completed"
    },
    "tags": []
   },
   "outputs": [
    {
     "name": "stdout",
     "output_type": "stream",
     "text": [
      "/kaggle/input/food-nutrition-dataset/FINAL FOOD DATASET/FOOD-DATA-GROUP5.csv\n",
      "/kaggle/input/food-nutrition-dataset/FINAL FOOD DATASET/FOOD-DATA-GROUP4.csv\n",
      "/kaggle/input/food-nutrition-dataset/FINAL FOOD DATASET/FOOD-DATA-GROUP1.csv\n",
      "/kaggle/input/food-nutrition-dataset/FINAL FOOD DATASET/FOOD-DATA-GROUP3.csv\n",
      "/kaggle/input/food-nutrition-dataset/FINAL FOOD DATASET/FOOD-DATA-GROUP2.csv\n",
      "/kaggle/input/food-nutrition-dataset/FINAL FOOD DATASET/METADATA/GROUP-2_analysis_summary.csv\n",
      "/kaggle/input/food-nutrition-dataset/FINAL FOOD DATASET/METADATA/GROUP-4_analysis_summary.csv\n",
      "/kaggle/input/food-nutrition-dataset/FINAL FOOD DATASET/METADATA/Combined_FOOD_METADATA.csv\n",
      "/kaggle/input/food-nutrition-dataset/FINAL FOOD DATASET/METADATA/GROUP-3_analysis_summary.csv\n",
      "/kaggle/input/food-nutrition-dataset/FINAL FOOD DATASET/METADATA/GROUP-1_analysis_summary.csv\n",
      "/kaggle/input/food-nutrition-dataset/FINAL FOOD DATASET/METADATA/GROUP-5_analysis_summary.csv\n",
      "/kaggle/input/food-nutrition-dataset/FINAL FOOD DATASET/DATASET/GROUP-1_Histogram_of_Protein.png\n",
      "/kaggle/input/food-nutrition-dataset/FINAL FOOD DATASET/DATASET/GROUP-1_Description.csv\n",
      "/kaggle/input/food-nutrition-dataset/FINAL FOOD DATASET/DATASET/GROUP-3_Histogram_of_Protein.png\n",
      "/kaggle/input/food-nutrition-dataset/FINAL FOOD DATASET/DATASET/GROUP-1_Histogram_of_Carbohydrates.png\n",
      "/kaggle/input/food-nutrition-dataset/FINAL FOOD DATASET/DATASET/GROUP-3_Histogram_of_Dietary Fiber.png\n",
      "/kaggle/input/food-nutrition-dataset/FINAL FOOD DATASET/DATASET/GROUP-4_Histogram_of_Protein.png\n",
      "/kaggle/input/food-nutrition-dataset/FINAL FOOD DATASET/DATASET/GROUP-2_Description.csv\n",
      "/kaggle/input/food-nutrition-dataset/FINAL FOOD DATASET/DATASET/GROUP-5_Histogram_of_Dietary Fiber.png\n",
      "/kaggle/input/food-nutrition-dataset/FINAL FOOD DATASET/DATASET/GROUP-1_Histogram_of_Dietary Fiber.png\n",
      "/kaggle/input/food-nutrition-dataset/FINAL FOOD DATASET/DATASET/GROUP-1_Histogram_of_Caloric Value.png\n",
      "/kaggle/input/food-nutrition-dataset/FINAL FOOD DATASET/DATASET/GROUP-3_Histogram_of_Carbohydrates.png\n",
      "/kaggle/input/food-nutrition-dataset/FINAL FOOD DATASET/DATASET/GROUP-5_Description.csv\n",
      "/kaggle/input/food-nutrition-dataset/FINAL FOOD DATASET/DATASET/GROUP-1_Histogram_of_Fat.png\n",
      "/kaggle/input/food-nutrition-dataset/FINAL FOOD DATASET/DATASET/GROUP-3_Histogram_of_Caloric Value.png\n",
      "/kaggle/input/food-nutrition-dataset/FINAL FOOD DATASET/DATASET/GROUP-2_Histogram_of_Protein.png\n",
      "/kaggle/input/food-nutrition-dataset/FINAL FOOD DATASET/DATASET/GROUP-3_Heatmap.png\n",
      "/kaggle/input/food-nutrition-dataset/FINAL FOOD DATASET/DATASET/GROUP-1_Heatmap.png\n",
      "/kaggle/input/food-nutrition-dataset/FINAL FOOD DATASET/DATASET/GROUP-3_Histogram_of_Fat.png\n",
      "/kaggle/input/food-nutrition-dataset/FINAL FOOD DATASET/DATASET/GROUP-5_Histogram_of_Fat.png\n",
      "/kaggle/input/food-nutrition-dataset/FINAL FOOD DATASET/DATASET/GROUP-5_Histogram_of_Carbohydrates.png\n",
      "/kaggle/input/food-nutrition-dataset/FINAL FOOD DATASET/DATASET/GROUP-2_Histogram_of_Carbohydrates.png\n",
      "/kaggle/input/food-nutrition-dataset/FINAL FOOD DATASET/DATASET/GROUP-4_Description.csv\n",
      "/kaggle/input/food-nutrition-dataset/FINAL FOOD DATASET/DATASET/GROUP-5_Histogram_of_Protein.png\n",
      "/kaggle/input/food-nutrition-dataset/FINAL FOOD DATASET/DATASET/GROUP-2_Histogram_of_Dietary Fiber.png\n",
      "/kaggle/input/food-nutrition-dataset/FINAL FOOD DATASET/DATASET/GROUP-4_Histogram_of_Dietary Fiber.png\n",
      "/kaggle/input/food-nutrition-dataset/FINAL FOOD DATASET/DATASET/GROUP-4_Histogram_of_Caloric Value.png\n",
      "/kaggle/input/food-nutrition-dataset/FINAL FOOD DATASET/DATASET/GROUP-4_Histogram_of_Carbohydrates.png\n",
      "/kaggle/input/food-nutrition-dataset/FINAL FOOD DATASET/DATASET/GROUP-5_Heatmap.png\n",
      "/kaggle/input/food-nutrition-dataset/FINAL FOOD DATASET/DATASET/GROUP-2_Heatmap.png\n",
      "/kaggle/input/food-nutrition-dataset/FINAL FOOD DATASET/DATASET/GROUP-3_Description.csv\n",
      "/kaggle/input/food-nutrition-dataset/FINAL FOOD DATASET/DATASET/GROUP-4_Heatmap.png\n",
      "/kaggle/input/food-nutrition-dataset/FINAL FOOD DATASET/DATASET/GROUP-2_Histogram_of_Fat.png\n",
      "/kaggle/input/food-nutrition-dataset/FINAL FOOD DATASET/DATASET/GROUP-2_Histogram_of_Caloric Value.png\n",
      "/kaggle/input/food-nutrition-dataset/FINAL FOOD DATASET/DATASET/GROUP-5_Histogram_of_Caloric Value.png\n",
      "/kaggle/input/food-nutrition-dataset/FINAL FOOD DATASET/DATASET/GROUP-4_Histogram_of_Fat.png\n"
     ]
    }
   ],
   "source": [
    "# This Python 3 environment comes with many helpful analytics libraries installed\n",
    "# It is defined by the kaggle/python Docker image: https://github.com/kaggle/docker-python\n",
    "# For example, here's several helpful packages to load\n",
    "\n",
    "import pandas as pd\n",
    "from sklearn.compose import ColumnTransformer\n",
    "from sklearn.pipeline import Pipeline\n",
    "from sklearn.impute import SimpleImputer\n",
    "from sklearn.preprocessing import OneHotEncoder\n",
    "from sklearn.model_selection import train_test_split\n",
    "import numpy as np\n",
    "import matplotlib.pyplot as plt\n",
    "from sklearn import model_selection, metrics\n",
    "import lightgbm as lgb\n",
    "from sklearn.preprocessing import OrdinalEncoder\n",
    "import joblib\n",
    "import optuna\n",
    "from sklearn.linear_model import LinearRegression\n",
    "from sklearn.tree import DecisionTreeRegressor\n",
    "\n",
    "# Input data files are available in the read-only \"../input/\" directory\n",
    "# For example, running this (by clicking run or pressing Shift+Enter) will list all files under the input directory\n",
    "\n",
    "import os\n",
    "for dirname, _, filenames in os.walk('/kaggle/input'):\n",
    "    for filename in filenames:\n",
    "        print(os.path.join(dirname, filename))\n",
    "\n",
    "# You can write up to 20GB to the current directory (/kaggle/working/) that gets preserved as output when you create a version using \"Save & Run All\" \n",
    "# You can also write temporary files to /kaggle/temp/, but they won't be saved outside of the current session"
   ]
  },
  {
   "cell_type": "code",
   "execution_count": 2,
   "id": "81ee6c25",
   "metadata": {
    "execution": {
     "iopub.execute_input": "2024-07-16T16:06:22.588647Z",
     "iopub.status.busy": "2024-07-16T16:06:22.588028Z",
     "iopub.status.idle": "2024-07-16T16:06:22.593845Z",
     "shell.execute_reply": "2024-07-16T16:06:22.592436Z"
    },
    "papermill": {
     "duration": 0.019271,
     "end_time": "2024-07-16T16:06:22.596417",
     "exception": false,
     "start_time": "2024-07-16T16:06:22.577146",
     "status": "completed"
    },
    "tags": []
   },
   "outputs": [],
   "source": [
    "directory=\"/kaggle/input/food-nutrition-dataset/FINAL FOOD DATASET/\""
   ]
  },
  {
   "cell_type": "code",
   "execution_count": 3,
   "id": "eb841f82",
   "metadata": {
    "execution": {
     "iopub.execute_input": "2024-07-16T16:06:22.617019Z",
     "iopub.status.busy": "2024-07-16T16:06:22.616553Z",
     "iopub.status.idle": "2024-07-16T16:06:22.721877Z",
     "shell.execute_reply": "2024-07-16T16:06:22.720810Z"
    },
    "papermill": {
     "duration": 0.118992,
     "end_time": "2024-07-16T16:06:22.724799",
     "exception": false,
     "start_time": "2024-07-16T16:06:22.605807",
     "status": "completed"
    },
    "tags": []
   },
   "outputs": [],
   "source": [
    "dataframes = []\n",
    "\n",
    "for filename in os.listdir(directory):\n",
    "    if filename.endswith(\".csv\"):\n",
    "        file_path = os.path.join(directory, filename)\n",
    "        # Read the CSV file and append to the list\n",
    "        df = pd.read_csv(file_path)\n",
    "        \n",
    "        dataframes.append(df)\n",
    "\n",
    "df = pd.concat(dataframes, ignore_index=True)"
   ]
  },
  {
   "cell_type": "code",
   "execution_count": 4,
   "id": "3a1ba1fa",
   "metadata": {
    "execution": {
     "iopub.execute_input": "2024-07-16T16:06:22.745744Z",
     "iopub.status.busy": "2024-07-16T16:06:22.745304Z",
     "iopub.status.idle": "2024-07-16T16:06:22.817744Z",
     "shell.execute_reply": "2024-07-16T16:06:22.816422Z"
    },
    "papermill": {
     "duration": 0.086214,
     "end_time": "2024-07-16T16:06:22.820647",
     "exception": false,
     "start_time": "2024-07-16T16:06:22.734433",
     "status": "completed"
    },
    "tags": []
   },
   "outputs": [
    {
     "data": {
      "text/html": [
       "<div>\n",
       "<style scoped>\n",
       "    .dataframe tbody tr th:only-of-type {\n",
       "        vertical-align: middle;\n",
       "    }\n",
       "\n",
       "    .dataframe tbody tr th {\n",
       "        vertical-align: top;\n",
       "    }\n",
       "\n",
       "    .dataframe thead th {\n",
       "        text-align: right;\n",
       "    }\n",
       "</style>\n",
       "<table border=\"1\" class=\"dataframe\">\n",
       "  <thead>\n",
       "    <tr style=\"text-align: right;\">\n",
       "      <th></th>\n",
       "      <th>Unnamed: 0.1</th>\n",
       "      <th>Unnamed: 0</th>\n",
       "      <th>food</th>\n",
       "      <th>Caloric Value</th>\n",
       "      <th>Fat</th>\n",
       "      <th>Saturated Fats</th>\n",
       "      <th>Monounsaturated Fats</th>\n",
       "      <th>Polyunsaturated Fats</th>\n",
       "      <th>Carbohydrates</th>\n",
       "      <th>Sugars</th>\n",
       "      <th>...</th>\n",
       "      <th>Calcium</th>\n",
       "      <th>Copper</th>\n",
       "      <th>Iron</th>\n",
       "      <th>Magnesium</th>\n",
       "      <th>Manganese</th>\n",
       "      <th>Phosphorus</th>\n",
       "      <th>Potassium</th>\n",
       "      <th>Selenium</th>\n",
       "      <th>Zinc</th>\n",
       "      <th>Nutrition Density</th>\n",
       "    </tr>\n",
       "  </thead>\n",
       "  <tbody>\n",
       "    <tr>\n",
       "      <th>0</th>\n",
       "      <td>0</td>\n",
       "      <td>0</td>\n",
       "      <td>margarine with yoghurt</td>\n",
       "      <td>88</td>\n",
       "      <td>9.8</td>\n",
       "      <td>1.9</td>\n",
       "      <td>5.6</td>\n",
       "      <td>2.0</td>\n",
       "      <td>0.073</td>\n",
       "      <td>0.0</td>\n",
       "      <td>...</td>\n",
       "      <td>2.8</td>\n",
       "      <td>0.001</td>\n",
       "      <td>0.027</td>\n",
       "      <td>0.3</td>\n",
       "      <td>0.000</td>\n",
       "      <td>2.2</td>\n",
       "      <td>3.5</td>\n",
       "      <td>0.000</td>\n",
       "      <td>0.008</td>\n",
       "      <td>12.971</td>\n",
       "    </tr>\n",
       "    <tr>\n",
       "      <th>1</th>\n",
       "      <td>1</td>\n",
       "      <td>1</td>\n",
       "      <td>sunflower seed butter</td>\n",
       "      <td>99</td>\n",
       "      <td>8.8</td>\n",
       "      <td>0.7</td>\n",
       "      <td>6.2</td>\n",
       "      <td>1.6</td>\n",
       "      <td>3.700</td>\n",
       "      <td>1.7</td>\n",
       "      <td>...</td>\n",
       "      <td>10.2</td>\n",
       "      <td>0.300</td>\n",
       "      <td>0.700</td>\n",
       "      <td>49.8</td>\n",
       "      <td>0.300</td>\n",
       "      <td>106.6</td>\n",
       "      <td>92.2</td>\n",
       "      <td>0.075</td>\n",
       "      <td>0.800</td>\n",
       "      <td>27.500</td>\n",
       "    </tr>\n",
       "    <tr>\n",
       "      <th>2</th>\n",
       "      <td>2</td>\n",
       "      <td>2</td>\n",
       "      <td>hazelnut oil</td>\n",
       "      <td>120</td>\n",
       "      <td>13.6</td>\n",
       "      <td>1.0</td>\n",
       "      <td>10.6</td>\n",
       "      <td>1.4</td>\n",
       "      <td>0.000</td>\n",
       "      <td>0.0</td>\n",
       "      <td>...</td>\n",
       "      <td>0.0</td>\n",
       "      <td>0.000</td>\n",
       "      <td>0.000</td>\n",
       "      <td>0.0</td>\n",
       "      <td>0.000</td>\n",
       "      <td>0.0</td>\n",
       "      <td>0.0</td>\n",
       "      <td>0.000</td>\n",
       "      <td>0.000</td>\n",
       "      <td>13.600</td>\n",
       "    </tr>\n",
       "    <tr>\n",
       "      <th>3</th>\n",
       "      <td>3</td>\n",
       "      <td>3</td>\n",
       "      <td>menhaden fish oil</td>\n",
       "      <td>1966</td>\n",
       "      <td>218.0</td>\n",
       "      <td>66.3</td>\n",
       "      <td>58.2</td>\n",
       "      <td>74.5</td>\n",
       "      <td>0.000</td>\n",
       "      <td>0.0</td>\n",
       "      <td>...</td>\n",
       "      <td>0.0</td>\n",
       "      <td>0.000</td>\n",
       "      <td>0.000</td>\n",
       "      <td>0.0</td>\n",
       "      <td>0.000</td>\n",
       "      <td>0.0</td>\n",
       "      <td>0.0</td>\n",
       "      <td>0.000</td>\n",
       "      <td>0.000</td>\n",
       "      <td>218.000</td>\n",
       "    </tr>\n",
       "    <tr>\n",
       "      <th>4</th>\n",
       "      <td>4</td>\n",
       "      <td>4</td>\n",
       "      <td>cod liver fish oil</td>\n",
       "      <td>123</td>\n",
       "      <td>13.6</td>\n",
       "      <td>3.1</td>\n",
       "      <td>6.4</td>\n",
       "      <td>3.1</td>\n",
       "      <td>0.000</td>\n",
       "      <td>0.0</td>\n",
       "      <td>...</td>\n",
       "      <td>0.0</td>\n",
       "      <td>0.000</td>\n",
       "      <td>0.000</td>\n",
       "      <td>0.0</td>\n",
       "      <td>0.000</td>\n",
       "      <td>0.0</td>\n",
       "      <td>0.0</td>\n",
       "      <td>0.000</td>\n",
       "      <td>0.000</td>\n",
       "      <td>17.700</td>\n",
       "    </tr>\n",
       "    <tr>\n",
       "      <th>...</th>\n",
       "      <td>...</td>\n",
       "      <td>...</td>\n",
       "      <td>...</td>\n",
       "      <td>...</td>\n",
       "      <td>...</td>\n",
       "      <td>...</td>\n",
       "      <td>...</td>\n",
       "      <td>...</td>\n",
       "      <td>...</td>\n",
       "      <td>...</td>\n",
       "      <td>...</td>\n",
       "      <td>...</td>\n",
       "      <td>...</td>\n",
       "      <td>...</td>\n",
       "      <td>...</td>\n",
       "      <td>...</td>\n",
       "      <td>...</td>\n",
       "      <td>...</td>\n",
       "      <td>...</td>\n",
       "      <td>...</td>\n",
       "      <td>...</td>\n",
       "    </tr>\n",
       "    <tr>\n",
       "      <th>2390</th>\n",
       "      <td>314</td>\n",
       "      <td>314</td>\n",
       "      <td>fontina cheese</td>\n",
       "      <td>420</td>\n",
       "      <td>33.6</td>\n",
       "      <td>20.7</td>\n",
       "      <td>9.4</td>\n",
       "      <td>1.8</td>\n",
       "      <td>1.700</td>\n",
       "      <td>1.7</td>\n",
       "      <td>...</td>\n",
       "      <td>594.0</td>\n",
       "      <td>0.087</td>\n",
       "      <td>0.200</td>\n",
       "      <td>15.1</td>\n",
       "      <td>0.030</td>\n",
       "      <td>373.7</td>\n",
       "      <td>69.1</td>\n",
       "      <td>0.052</td>\n",
       "      <td>3.800</td>\n",
       "      <td>657.400</td>\n",
       "    </tr>\n",
       "    <tr>\n",
       "      <th>2391</th>\n",
       "      <td>315</td>\n",
       "      <td>315</td>\n",
       "      <td>monterey cheese low fat</td>\n",
       "      <td>350</td>\n",
       "      <td>24.4</td>\n",
       "      <td>15.9</td>\n",
       "      <td>6.4</td>\n",
       "      <td>0.9</td>\n",
       "      <td>0.800</td>\n",
       "      <td>0.6</td>\n",
       "      <td>...</td>\n",
       "      <td>796.7</td>\n",
       "      <td>0.089</td>\n",
       "      <td>0.800</td>\n",
       "      <td>30.5</td>\n",
       "      <td>0.000</td>\n",
       "      <td>501.7</td>\n",
       "      <td>91.5</td>\n",
       "      <td>0.030</td>\n",
       "      <td>3.400</td>\n",
       "      <td>854.800</td>\n",
       "    </tr>\n",
       "    <tr>\n",
       "      <th>2392</th>\n",
       "      <td>316</td>\n",
       "      <td>316</td>\n",
       "      <td>colby cheese</td>\n",
       "      <td>445</td>\n",
       "      <td>36.3</td>\n",
       "      <td>22.8</td>\n",
       "      <td>10.5</td>\n",
       "      <td>1.1</td>\n",
       "      <td>2.900</td>\n",
       "      <td>0.6</td>\n",
       "      <td>...</td>\n",
       "      <td>774.1</td>\n",
       "      <td>0.047</td>\n",
       "      <td>0.900</td>\n",
       "      <td>29.4</td>\n",
       "      <td>0.010</td>\n",
       "      <td>516.4</td>\n",
       "      <td>143.5</td>\n",
       "      <td>0.023</td>\n",
       "      <td>3.500</td>\n",
       "      <td>841.300</td>\n",
       "    </tr>\n",
       "    <tr>\n",
       "      <th>2393</th>\n",
       "      <td>317</td>\n",
       "      <td>317</td>\n",
       "      <td>american cheese</td>\n",
       "      <td>93</td>\n",
       "      <td>7.9</td>\n",
       "      <td>4.5</td>\n",
       "      <td>2.1</td>\n",
       "      <td>0.3</td>\n",
       "      <td>0.900</td>\n",
       "      <td>0.6</td>\n",
       "      <td>...</td>\n",
       "      <td>261.3</td>\n",
       "      <td>0.034</td>\n",
       "      <td>0.200</td>\n",
       "      <td>6.5</td>\n",
       "      <td>0.086</td>\n",
       "      <td>160.3</td>\n",
       "      <td>33.0</td>\n",
       "      <td>0.014</td>\n",
       "      <td>0.600</td>\n",
       "      <td>274.886</td>\n",
       "    </tr>\n",
       "    <tr>\n",
       "      <th>2394</th>\n",
       "      <td>318</td>\n",
       "      <td>318</td>\n",
       "      <td>blue cheese</td>\n",
       "      <td>106</td>\n",
       "      <td>8.6</td>\n",
       "      <td>5.6</td>\n",
       "      <td>2.3</td>\n",
       "      <td>0.2</td>\n",
       "      <td>0.700</td>\n",
       "      <td>0.2</td>\n",
       "      <td>...</td>\n",
       "      <td>158.4</td>\n",
       "      <td>0.004</td>\n",
       "      <td>0.063</td>\n",
       "      <td>6.9</td>\n",
       "      <td>0.054</td>\n",
       "      <td>116.1</td>\n",
       "      <td>76.8</td>\n",
       "      <td>0.035</td>\n",
       "      <td>0.800</td>\n",
       "      <td>174.154</td>\n",
       "    </tr>\n",
       "  </tbody>\n",
       "</table>\n",
       "<p>2395 rows × 37 columns</p>\n",
       "</div>"
      ],
      "text/plain": [
       "      Unnamed: 0.1  Unnamed: 0                     food  Caloric Value    Fat  \\\n",
       "0                0           0   margarine with yoghurt             88    9.8   \n",
       "1                1           1    sunflower seed butter             99    8.8   \n",
       "2                2           2             hazelnut oil            120   13.6   \n",
       "3                3           3        menhaden fish oil           1966  218.0   \n",
       "4                4           4       cod liver fish oil            123   13.6   \n",
       "...            ...         ...                      ...            ...    ...   \n",
       "2390           314         314           fontina cheese            420   33.6   \n",
       "2391           315         315  monterey cheese low fat            350   24.4   \n",
       "2392           316         316             colby cheese            445   36.3   \n",
       "2393           317         317          american cheese             93    7.9   \n",
       "2394           318         318              blue cheese            106    8.6   \n",
       "\n",
       "      Saturated Fats  Monounsaturated Fats  Polyunsaturated Fats  \\\n",
       "0                1.9                   5.6                   2.0   \n",
       "1                0.7                   6.2                   1.6   \n",
       "2                1.0                  10.6                   1.4   \n",
       "3               66.3                  58.2                  74.5   \n",
       "4                3.1                   6.4                   3.1   \n",
       "...              ...                   ...                   ...   \n",
       "2390            20.7                   9.4                   1.8   \n",
       "2391            15.9                   6.4                   0.9   \n",
       "2392            22.8                  10.5                   1.1   \n",
       "2393             4.5                   2.1                   0.3   \n",
       "2394             5.6                   2.3                   0.2   \n",
       "\n",
       "      Carbohydrates  Sugars  ...  Calcium  Copper   Iron  Magnesium  \\\n",
       "0             0.073     0.0  ...      2.8   0.001  0.027        0.3   \n",
       "1             3.700     1.7  ...     10.2   0.300  0.700       49.8   \n",
       "2             0.000     0.0  ...      0.0   0.000  0.000        0.0   \n",
       "3             0.000     0.0  ...      0.0   0.000  0.000        0.0   \n",
       "4             0.000     0.0  ...      0.0   0.000  0.000        0.0   \n",
       "...             ...     ...  ...      ...     ...    ...        ...   \n",
       "2390          1.700     1.7  ...    594.0   0.087  0.200       15.1   \n",
       "2391          0.800     0.6  ...    796.7   0.089  0.800       30.5   \n",
       "2392          2.900     0.6  ...    774.1   0.047  0.900       29.4   \n",
       "2393          0.900     0.6  ...    261.3   0.034  0.200        6.5   \n",
       "2394          0.700     0.2  ...    158.4   0.004  0.063        6.9   \n",
       "\n",
       "      Manganese  Phosphorus  Potassium  Selenium   Zinc  Nutrition Density  \n",
       "0         0.000         2.2        3.5     0.000  0.008             12.971  \n",
       "1         0.300       106.6       92.2     0.075  0.800             27.500  \n",
       "2         0.000         0.0        0.0     0.000  0.000             13.600  \n",
       "3         0.000         0.0        0.0     0.000  0.000            218.000  \n",
       "4         0.000         0.0        0.0     0.000  0.000             17.700  \n",
       "...         ...         ...        ...       ...    ...                ...  \n",
       "2390      0.030       373.7       69.1     0.052  3.800            657.400  \n",
       "2391      0.000       501.7       91.5     0.030  3.400            854.800  \n",
       "2392      0.010       516.4      143.5     0.023  3.500            841.300  \n",
       "2393      0.086       160.3       33.0     0.014  0.600            274.886  \n",
       "2394      0.054       116.1       76.8     0.035  0.800            174.154  \n",
       "\n",
       "[2395 rows x 37 columns]"
      ]
     },
     "execution_count": 4,
     "metadata": {},
     "output_type": "execute_result"
    }
   ],
   "source": [
    "df"
   ]
  },
  {
   "cell_type": "code",
   "execution_count": 5,
   "id": "12ae9e93",
   "metadata": {
    "execution": {
     "iopub.execute_input": "2024-07-16T16:06:22.843018Z",
     "iopub.status.busy": "2024-07-16T16:06:22.841736Z",
     "iopub.status.idle": "2024-07-16T16:06:22.848833Z",
     "shell.execute_reply": "2024-07-16T16:06:22.847855Z"
    },
    "papermill": {
     "duration": 0.02103,
     "end_time": "2024-07-16T16:06:22.851499",
     "exception": false,
     "start_time": "2024-07-16T16:06:22.830469",
     "status": "completed"
    },
    "tags": []
   },
   "outputs": [],
   "source": [
    "df = df.drop(columns=['Unnamed: 0.1', 'Unnamed: 0'])"
   ]
  },
  {
   "cell_type": "code",
   "execution_count": 6,
   "id": "91618e92",
   "metadata": {
    "execution": {
     "iopub.execute_input": "2024-07-16T16:06:22.873404Z",
     "iopub.status.busy": "2024-07-16T16:06:22.872930Z",
     "iopub.status.idle": "2024-07-16T16:06:22.897021Z",
     "shell.execute_reply": "2024-07-16T16:06:22.895531Z"
    },
    "papermill": {
     "duration": 0.038156,
     "end_time": "2024-07-16T16:06:22.899879",
     "exception": false,
     "start_time": "2024-07-16T16:06:22.861723",
     "status": "completed"
    },
    "tags": []
   },
   "outputs": [
    {
     "name": "stdout",
     "output_type": "stream",
     "text": [
      "<class 'pandas.core.frame.DataFrame'>\n",
      "RangeIndex: 2395 entries, 0 to 2394\n",
      "Data columns (total 35 columns):\n",
      " #   Column                Non-Null Count  Dtype  \n",
      "---  ------                --------------  -----  \n",
      " 0   food                  2395 non-null   object \n",
      " 1   Caloric Value         2395 non-null   int64  \n",
      " 2   Fat                   2395 non-null   float64\n",
      " 3   Saturated Fats        2395 non-null   float64\n",
      " 4   Monounsaturated Fats  2395 non-null   float64\n",
      " 5   Polyunsaturated Fats  2395 non-null   float64\n",
      " 6   Carbohydrates         2395 non-null   float64\n",
      " 7   Sugars                2395 non-null   float64\n",
      " 8   Protein               2395 non-null   float64\n",
      " 9   Dietary Fiber         2395 non-null   float64\n",
      " 10  Cholesterol           2395 non-null   float64\n",
      " 11  Sodium                2395 non-null   float64\n",
      " 12  Water                 2395 non-null   float64\n",
      " 13  Vitamin A             2395 non-null   float64\n",
      " 14  Vitamin B1            2395 non-null   float64\n",
      " 15  Vitamin B11           2395 non-null   float64\n",
      " 16  Vitamin B12           2395 non-null   float64\n",
      " 17  Vitamin B2            2395 non-null   float64\n",
      " 18  Vitamin B3            2395 non-null   float64\n",
      " 19  Vitamin B5            2395 non-null   float64\n",
      " 20  Vitamin B6            2395 non-null   float64\n",
      " 21  Vitamin C             2395 non-null   float64\n",
      " 22  Vitamin D             2395 non-null   float64\n",
      " 23  Vitamin E             2395 non-null   float64\n",
      " 24  Vitamin K             2395 non-null   float64\n",
      " 25  Calcium               2395 non-null   float64\n",
      " 26  Copper                2395 non-null   float64\n",
      " 27  Iron                  2395 non-null   float64\n",
      " 28  Magnesium             2395 non-null   float64\n",
      " 29  Manganese             2395 non-null   float64\n",
      " 30  Phosphorus            2395 non-null   float64\n",
      " 31  Potassium             2395 non-null   float64\n",
      " 32  Selenium              2395 non-null   float64\n",
      " 33  Zinc                  2395 non-null   float64\n",
      " 34  Nutrition Density     2395 non-null   float64\n",
      "dtypes: float64(33), int64(1), object(1)\n",
      "memory usage: 655.0+ KB\n"
     ]
    }
   ],
   "source": [
    "df.info()"
   ]
  },
  {
   "cell_type": "code",
   "execution_count": 7,
   "id": "74793da8",
   "metadata": {
    "execution": {
     "iopub.execute_input": "2024-07-16T16:06:22.922426Z",
     "iopub.status.busy": "2024-07-16T16:06:22.922001Z",
     "iopub.status.idle": "2024-07-16T16:06:23.023501Z",
     "shell.execute_reply": "2024-07-16T16:06:23.022288Z"
    },
    "papermill": {
     "duration": 0.116364,
     "end_time": "2024-07-16T16:06:23.026503",
     "exception": false,
     "start_time": "2024-07-16T16:06:22.910139",
     "status": "completed"
    },
    "tags": []
   },
   "outputs": [
    {
     "data": {
      "text/html": [
       "<div>\n",
       "<style scoped>\n",
       "    .dataframe tbody tr th:only-of-type {\n",
       "        vertical-align: middle;\n",
       "    }\n",
       "\n",
       "    .dataframe tbody tr th {\n",
       "        vertical-align: top;\n",
       "    }\n",
       "\n",
       "    .dataframe thead th {\n",
       "        text-align: right;\n",
       "    }\n",
       "</style>\n",
       "<table border=\"1\" class=\"dataframe\">\n",
       "  <thead>\n",
       "    <tr style=\"text-align: right;\">\n",
       "      <th></th>\n",
       "      <th>Caloric Value</th>\n",
       "      <th>Fat</th>\n",
       "      <th>Saturated Fats</th>\n",
       "      <th>Monounsaturated Fats</th>\n",
       "      <th>Polyunsaturated Fats</th>\n",
       "      <th>Carbohydrates</th>\n",
       "      <th>Sugars</th>\n",
       "      <th>Protein</th>\n",
       "      <th>Dietary Fiber</th>\n",
       "      <th>Cholesterol</th>\n",
       "      <th>...</th>\n",
       "      <th>Calcium</th>\n",
       "      <th>Copper</th>\n",
       "      <th>Iron</th>\n",
       "      <th>Magnesium</th>\n",
       "      <th>Manganese</th>\n",
       "      <th>Phosphorus</th>\n",
       "      <th>Potassium</th>\n",
       "      <th>Selenium</th>\n",
       "      <th>Zinc</th>\n",
       "      <th>Nutrition Density</th>\n",
       "    </tr>\n",
       "  </thead>\n",
       "  <tbody>\n",
       "    <tr>\n",
       "      <th>count</th>\n",
       "      <td>2395.000000</td>\n",
       "      <td>2395.000000</td>\n",
       "      <td>2395.000000</td>\n",
       "      <td>2395.000000</td>\n",
       "      <td>2395.000000</td>\n",
       "      <td>2395.000000</td>\n",
       "      <td>2395.000000</td>\n",
       "      <td>2395.000000</td>\n",
       "      <td>2395.000000</td>\n",
       "      <td>2395.000000</td>\n",
       "      <td>...</td>\n",
       "      <td>2395.000000</td>\n",
       "      <td>2395.000000</td>\n",
       "      <td>2395.000000</td>\n",
       "      <td>2395.000000</td>\n",
       "      <td>2395.000000</td>\n",
       "      <td>2395.000000</td>\n",
       "      <td>2395.000000</td>\n",
       "      <td>2395.000000</td>\n",
       "      <td>2395.000000</td>\n",
       "      <td>2395.000000</td>\n",
       "    </tr>\n",
       "    <tr>\n",
       "      <th>mean</th>\n",
       "      <td>223.769520</td>\n",
       "      <td>10.176276</td>\n",
       "      <td>3.924917</td>\n",
       "      <td>4.133622</td>\n",
       "      <td>2.152844</td>\n",
       "      <td>18.589021</td>\n",
       "      <td>4.457459</td>\n",
       "      <td>13.400777</td>\n",
       "      <td>2.235790</td>\n",
       "      <td>62.171937</td>\n",
       "      <td>...</td>\n",
       "      <td>52.047728</td>\n",
       "      <td>9.581689</td>\n",
       "      <td>1.853271</td>\n",
       "      <td>34.429792</td>\n",
       "      <td>5.349964</td>\n",
       "      <td>156.236052</td>\n",
       "      <td>303.833939</td>\n",
       "      <td>52.258006</td>\n",
       "      <td>1.579192</td>\n",
       "      <td>106.929006</td>\n",
       "    </tr>\n",
       "    <tr>\n",
       "      <th>std</th>\n",
       "      <td>384.728244</td>\n",
       "      <td>29.008915</td>\n",
       "      <td>19.502262</td>\n",
       "      <td>12.939587</td>\n",
       "      <td>7.145738</td>\n",
       "      <td>29.406134</td>\n",
       "      <td>13.339929</td>\n",
       "      <td>32.294246</td>\n",
       "      <td>5.404483</td>\n",
       "      <td>385.352876</td>\n",
       "      <td>...</td>\n",
       "      <td>115.933379</td>\n",
       "      <td>69.912400</td>\n",
       "      <td>5.155650</td>\n",
       "      <td>71.927990</td>\n",
       "      <td>21.005332</td>\n",
       "      <td>333.257099</td>\n",
       "      <td>589.507589</td>\n",
       "      <td>199.257203</td>\n",
       "      <td>4.937509</td>\n",
       "      <td>173.023891</td>\n",
       "    </tr>\n",
       "    <tr>\n",
       "      <th>min</th>\n",
       "      <td>0.000000</td>\n",
       "      <td>0.000000</td>\n",
       "      <td>0.000000</td>\n",
       "      <td>0.000000</td>\n",
       "      <td>0.000000</td>\n",
       "      <td>0.000000</td>\n",
       "      <td>0.000000</td>\n",
       "      <td>0.000000</td>\n",
       "      <td>0.000000</td>\n",
       "      <td>0.000000</td>\n",
       "      <td>...</td>\n",
       "      <td>0.000000</td>\n",
       "      <td>0.000000</td>\n",
       "      <td>0.000000</td>\n",
       "      <td>0.000000</td>\n",
       "      <td>0.000000</td>\n",
       "      <td>0.000000</td>\n",
       "      <td>0.000000</td>\n",
       "      <td>0.000000</td>\n",
       "      <td>0.000000</td>\n",
       "      <td>0.000000</td>\n",
       "    </tr>\n",
       "    <tr>\n",
       "      <th>25%</th>\n",
       "      <td>44.500000</td>\n",
       "      <td>0.300000</td>\n",
       "      <td>0.064000</td>\n",
       "      <td>0.058000</td>\n",
       "      <td>0.071000</td>\n",
       "      <td>0.500000</td>\n",
       "      <td>0.000000</td>\n",
       "      <td>0.800000</td>\n",
       "      <td>0.000000</td>\n",
       "      <td>0.000000</td>\n",
       "      <td>...</td>\n",
       "      <td>0.600000</td>\n",
       "      <td>0.040000</td>\n",
       "      <td>0.100000</td>\n",
       "      <td>1.500000</td>\n",
       "      <td>0.037000</td>\n",
       "      <td>0.800000</td>\n",
       "      <td>27.750000</td>\n",
       "      <td>0.016000</td>\n",
       "      <td>0.055000</td>\n",
       "      <td>16.876500</td>\n",
       "    </tr>\n",
       "    <tr>\n",
       "      <th>50%</th>\n",
       "      <td>117.000000</td>\n",
       "      <td>2.100000</td>\n",
       "      <td>0.500000</td>\n",
       "      <td>0.500000</td>\n",
       "      <td>0.400000</td>\n",
       "      <td>6.800000</td>\n",
       "      <td>0.086000</td>\n",
       "      <td>3.500000</td>\n",
       "      <td>0.200000</td>\n",
       "      <td>0.000000</td>\n",
       "      <td>...</td>\n",
       "      <td>13.900000</td>\n",
       "      <td>0.100000</td>\n",
       "      <td>0.600000</td>\n",
       "      <td>10.400000</td>\n",
       "      <td>0.200000</td>\n",
       "      <td>42.300000</td>\n",
       "      <td>112.300000</td>\n",
       "      <td>0.053000</td>\n",
       "      <td>0.300000</td>\n",
       "      <td>53.840000</td>\n",
       "    </tr>\n",
       "    <tr>\n",
       "      <th>75%</th>\n",
       "      <td>258.000000</td>\n",
       "      <td>9.400000</td>\n",
       "      <td>2.700000</td>\n",
       "      <td>3.400000</td>\n",
       "      <td>1.700000</td>\n",
       "      <td>25.050000</td>\n",
       "      <td>3.200000</td>\n",
       "      <td>13.300000</td>\n",
       "      <td>2.200000</td>\n",
       "      <td>26.450000</td>\n",
       "      <td>...</td>\n",
       "      <td>48.250000</td>\n",
       "      <td>0.400000</td>\n",
       "      <td>1.800000</td>\n",
       "      <td>36.950000</td>\n",
       "      <td>0.700000</td>\n",
       "      <td>171.350000</td>\n",
       "      <td>340.500000</td>\n",
       "      <td>0.090000</td>\n",
       "      <td>1.200000</td>\n",
       "      <td>135.074500</td>\n",
       "    </tr>\n",
       "    <tr>\n",
       "      <th>max</th>\n",
       "      <td>6077.000000</td>\n",
       "      <td>550.700000</td>\n",
       "      <td>672.000000</td>\n",
       "      <td>291.100000</td>\n",
       "      <td>188.000000</td>\n",
       "      <td>390.200000</td>\n",
       "      <td>291.500000</td>\n",
       "      <td>560.300000</td>\n",
       "      <td>76.500000</td>\n",
       "      <td>10509.000000</td>\n",
       "      <td>...</td>\n",
       "      <td>1283.500000</td>\n",
       "      <td>1890.000000</td>\n",
       "      <td>121.200000</td>\n",
       "      <td>921.600000</td>\n",
       "      <td>451.000000</td>\n",
       "      <td>5490.000000</td>\n",
       "      <td>11336.900000</td>\n",
       "      <td>3308.000000</td>\n",
       "      <td>147.300000</td>\n",
       "      <td>3911.400000</td>\n",
       "    </tr>\n",
       "  </tbody>\n",
       "</table>\n",
       "<p>8 rows × 34 columns</p>\n",
       "</div>"
      ],
      "text/plain": [
       "       Caloric Value          Fat  Saturated Fats  Monounsaturated Fats  \\\n",
       "count    2395.000000  2395.000000     2395.000000           2395.000000   \n",
       "mean      223.769520    10.176276        3.924917              4.133622   \n",
       "std       384.728244    29.008915       19.502262             12.939587   \n",
       "min         0.000000     0.000000        0.000000              0.000000   \n",
       "25%        44.500000     0.300000        0.064000              0.058000   \n",
       "50%       117.000000     2.100000        0.500000              0.500000   \n",
       "75%       258.000000     9.400000        2.700000              3.400000   \n",
       "max      6077.000000   550.700000      672.000000            291.100000   \n",
       "\n",
       "       Polyunsaturated Fats  Carbohydrates       Sugars      Protein  \\\n",
       "count           2395.000000    2395.000000  2395.000000  2395.000000   \n",
       "mean               2.152844      18.589021     4.457459    13.400777   \n",
       "std                7.145738      29.406134    13.339929    32.294246   \n",
       "min                0.000000       0.000000     0.000000     0.000000   \n",
       "25%                0.071000       0.500000     0.000000     0.800000   \n",
       "50%                0.400000       6.800000     0.086000     3.500000   \n",
       "75%                1.700000      25.050000     3.200000    13.300000   \n",
       "max              188.000000     390.200000   291.500000   560.300000   \n",
       "\n",
       "       Dietary Fiber   Cholesterol  ...      Calcium       Copper  \\\n",
       "count    2395.000000   2395.000000  ...  2395.000000  2395.000000   \n",
       "mean        2.235790     62.171937  ...    52.047728     9.581689   \n",
       "std         5.404483    385.352876  ...   115.933379    69.912400   \n",
       "min         0.000000      0.000000  ...     0.000000     0.000000   \n",
       "25%         0.000000      0.000000  ...     0.600000     0.040000   \n",
       "50%         0.200000      0.000000  ...    13.900000     0.100000   \n",
       "75%         2.200000     26.450000  ...    48.250000     0.400000   \n",
       "max        76.500000  10509.000000  ...  1283.500000  1890.000000   \n",
       "\n",
       "              Iron    Magnesium    Manganese   Phosphorus     Potassium  \\\n",
       "count  2395.000000  2395.000000  2395.000000  2395.000000   2395.000000   \n",
       "mean      1.853271    34.429792     5.349964   156.236052    303.833939   \n",
       "std       5.155650    71.927990    21.005332   333.257099    589.507589   \n",
       "min       0.000000     0.000000     0.000000     0.000000      0.000000   \n",
       "25%       0.100000     1.500000     0.037000     0.800000     27.750000   \n",
       "50%       0.600000    10.400000     0.200000    42.300000    112.300000   \n",
       "75%       1.800000    36.950000     0.700000   171.350000    340.500000   \n",
       "max     121.200000   921.600000   451.000000  5490.000000  11336.900000   \n",
       "\n",
       "          Selenium         Zinc  Nutrition Density  \n",
       "count  2395.000000  2395.000000        2395.000000  \n",
       "mean     52.258006     1.579192         106.929006  \n",
       "std     199.257203     4.937509         173.023891  \n",
       "min       0.000000     0.000000           0.000000  \n",
       "25%       0.016000     0.055000          16.876500  \n",
       "50%       0.053000     0.300000          53.840000  \n",
       "75%       0.090000     1.200000         135.074500  \n",
       "max    3308.000000   147.300000        3911.400000  \n",
       "\n",
       "[8 rows x 34 columns]"
      ]
     },
     "execution_count": 7,
     "metadata": {},
     "output_type": "execute_result"
    }
   ],
   "source": [
    "df.describe()"
   ]
  },
  {
   "cell_type": "code",
   "execution_count": 8,
   "id": "2e5a6af1",
   "metadata": {
    "execution": {
     "iopub.execute_input": "2024-07-16T16:06:23.049964Z",
     "iopub.status.busy": "2024-07-16T16:06:23.048920Z",
     "iopub.status.idle": "2024-07-16T16:06:23.055494Z",
     "shell.execute_reply": "2024-07-16T16:06:23.054411Z"
    },
    "papermill": {
     "duration": 0.020757,
     "end_time": "2024-07-16T16:06:23.057930",
     "exception": false,
     "start_time": "2024-07-16T16:06:23.037173",
     "status": "completed"
    },
    "tags": []
   },
   "outputs": [],
   "source": [
    "X = df.drop(columns=['Nutrition Density'])\n",
    "y = df['Nutrition Density']"
   ]
  },
  {
   "cell_type": "code",
   "execution_count": 9,
   "id": "5031be55",
   "metadata": {
    "execution": {
     "iopub.execute_input": "2024-07-16T16:06:23.080870Z",
     "iopub.status.busy": "2024-07-16T16:06:23.080486Z",
     "iopub.status.idle": "2024-07-16T16:06:23.096634Z",
     "shell.execute_reply": "2024-07-16T16:06:23.095219Z"
    },
    "papermill": {
     "duration": 0.030692,
     "end_time": "2024-07-16T16:06:23.099320",
     "exception": false,
     "start_time": "2024-07-16T16:06:23.068628",
     "status": "completed"
    },
    "tags": []
   },
   "outputs": [
    {
     "name": "stdout",
     "output_type": "stream",
     "text": [
      "Train: 1437 samples \t 60%\n",
      "Test:  479 samples \t 20%\n",
      "Val:   479 samples \t 20%\n"
     ]
    }
   ],
   "source": [
    "X_train, X_test, y_train, y_test = train_test_split(X, y,\n",
    "                                                    train_size=0.8,\n",
    "                                                    random_state=42)\n",
    "\n",
    "X_train, X_val, y_train, y_val = train_test_split(X_train, y_train,\n",
    "                                                  train_size=0.75,\n",
    "                                                  random_state=42)\n",
    "\n",
    "print(f'Train: {X_train.shape[0]} samples \\t {round(X_train.shape[0] / X.shape[0] * 100)}%')\n",
    "print(f'Test:  {X_test.shape[0]} samples \\t {round(X_test.shape[0] / X.shape[0] * 100)}%')\n",
    "print(f'Val:   {X_val.shape[0]} samples \\t {round(X_val.shape[0] / X.shape[0] * 100)}%')"
   ]
  },
  {
   "cell_type": "code",
   "execution_count": 10,
   "id": "7aa03ec3",
   "metadata": {
    "execution": {
     "iopub.execute_input": "2024-07-16T16:06:23.123489Z",
     "iopub.status.busy": "2024-07-16T16:06:23.123067Z",
     "iopub.status.idle": "2024-07-16T16:06:23.169426Z",
     "shell.execute_reply": "2024-07-16T16:06:23.168264Z"
    },
    "papermill": {
     "duration": 0.06174,
     "end_time": "2024-07-16T16:06:23.172025",
     "exception": false,
     "start_time": "2024-07-16T16:06:23.110285",
     "status": "completed"
    },
    "tags": []
   },
   "outputs": [
    {
     "data": {
      "text/html": [
       "<style>#sk-container-id-1 {color: black;background-color: white;}#sk-container-id-1 pre{padding: 0;}#sk-container-id-1 div.sk-toggleable {background-color: white;}#sk-container-id-1 label.sk-toggleable__label {cursor: pointer;display: block;width: 100%;margin-bottom: 0;padding: 0.3em;box-sizing: border-box;text-align: center;}#sk-container-id-1 label.sk-toggleable__label-arrow:before {content: \"▸\";float: left;margin-right: 0.25em;color: #696969;}#sk-container-id-1 label.sk-toggleable__label-arrow:hover:before {color: black;}#sk-container-id-1 div.sk-estimator:hover label.sk-toggleable__label-arrow:before {color: black;}#sk-container-id-1 div.sk-toggleable__content {max-height: 0;max-width: 0;overflow: hidden;text-align: left;background-color: #f0f8ff;}#sk-container-id-1 div.sk-toggleable__content pre {margin: 0.2em;color: black;border-radius: 0.25em;background-color: #f0f8ff;}#sk-container-id-1 input.sk-toggleable__control:checked~div.sk-toggleable__content {max-height: 200px;max-width: 100%;overflow: auto;}#sk-container-id-1 input.sk-toggleable__control:checked~label.sk-toggleable__label-arrow:before {content: \"▾\";}#sk-container-id-1 div.sk-estimator input.sk-toggleable__control:checked~label.sk-toggleable__label {background-color: #d4ebff;}#sk-container-id-1 div.sk-label input.sk-toggleable__control:checked~label.sk-toggleable__label {background-color: #d4ebff;}#sk-container-id-1 input.sk-hidden--visually {border: 0;clip: rect(1px 1px 1px 1px);clip: rect(1px, 1px, 1px, 1px);height: 1px;margin: -1px;overflow: hidden;padding: 0;position: absolute;width: 1px;}#sk-container-id-1 div.sk-estimator {font-family: monospace;background-color: #f0f8ff;border: 1px dotted black;border-radius: 0.25em;box-sizing: border-box;margin-bottom: 0.5em;}#sk-container-id-1 div.sk-estimator:hover {background-color: #d4ebff;}#sk-container-id-1 div.sk-parallel-item::after {content: \"\";width: 100%;border-bottom: 1px solid gray;flex-grow: 1;}#sk-container-id-1 div.sk-label:hover label.sk-toggleable__label {background-color: #d4ebff;}#sk-container-id-1 div.sk-serial::before {content: \"\";position: absolute;border-left: 1px solid gray;box-sizing: border-box;top: 0;bottom: 0;left: 50%;z-index: 0;}#sk-container-id-1 div.sk-serial {display: flex;flex-direction: column;align-items: center;background-color: white;padding-right: 0.2em;padding-left: 0.2em;position: relative;}#sk-container-id-1 div.sk-item {position: relative;z-index: 1;}#sk-container-id-1 div.sk-parallel {display: flex;align-items: stretch;justify-content: center;background-color: white;position: relative;}#sk-container-id-1 div.sk-item::before, #sk-container-id-1 div.sk-parallel-item::before {content: \"\";position: absolute;border-left: 1px solid gray;box-sizing: border-box;top: 0;bottom: 0;left: 50%;z-index: -1;}#sk-container-id-1 div.sk-parallel-item {display: flex;flex-direction: column;z-index: 1;position: relative;background-color: white;}#sk-container-id-1 div.sk-parallel-item:first-child::after {align-self: flex-end;width: 50%;}#sk-container-id-1 div.sk-parallel-item:last-child::after {align-self: flex-start;width: 50%;}#sk-container-id-1 div.sk-parallel-item:only-child::after {width: 0;}#sk-container-id-1 div.sk-dashed-wrapped {border: 1px dashed gray;margin: 0 0.4em 0.5em 0.4em;box-sizing: border-box;padding-bottom: 0.4em;background-color: white;}#sk-container-id-1 div.sk-label label {font-family: monospace;font-weight: bold;display: inline-block;line-height: 1.2em;}#sk-container-id-1 div.sk-label-container {text-align: center;}#sk-container-id-1 div.sk-container {/* jupyter's `normalize.less` sets `[hidden] { display: none; }` but bootstrap.min.css set `[hidden] { display: none !important; }` so we also need the `!important` here to be able to override the default hidden behavior on the sphinx rendered scikit-learn.org. See: https://github.com/scikit-learn/scikit-learn/issues/21755 */display: inline-block !important;position: relative;}#sk-container-id-1 div.sk-text-repr-fallback {display: none;}</style><div id=\"sk-container-id-1\" class=\"sk-top-container\"><div class=\"sk-text-repr-fallback\"><pre>ColumnTransformer(transformers=[(&#x27;num&#x27;,\n",
       "                                 Pipeline(steps=[(&#x27;imputer&#x27;,\n",
       "                                                  SimpleImputer(strategy=&#x27;median&#x27;))]),\n",
       "                                 Index([&#x27;Caloric Value&#x27;, &#x27;Fat&#x27;, &#x27;Saturated Fats&#x27;, &#x27;Monounsaturated Fats&#x27;,\n",
       "       &#x27;Polyunsaturated Fats&#x27;, &#x27;Carbohydrates&#x27;, &#x27;Sugars&#x27;, &#x27;Protein&#x27;,\n",
       "       &#x27;Dietary Fiber&#x27;, &#x27;Cholesterol&#x27;, &#x27;Sodium&#x27;, &#x27;Water&#x27;, &#x27;Vitamin A&#x27;,\n",
       "       &#x27;Vitamin B1&#x27;, &#x27;Vitamin B11&#x27;, &#x27;Vitamin B12&#x27;, &#x27;Vitamin B2&#x27;, &#x27;Vitamin B3&#x27;,\n",
       "       &#x27;Vitam...n B6&#x27;, &#x27;Vitamin C&#x27;, &#x27;Vitamin D&#x27;, &#x27;Vitamin E&#x27;,\n",
       "       &#x27;Vitamin K&#x27;, &#x27;Calcium&#x27;, &#x27;Copper&#x27;, &#x27;Iron&#x27;, &#x27;Magnesium&#x27;, &#x27;Manganese&#x27;,\n",
       "       &#x27;Phosphorus&#x27;, &#x27;Potassium&#x27;, &#x27;Selenium&#x27;, &#x27;Zinc&#x27;],\n",
       "      dtype=&#x27;object&#x27;)),\n",
       "                                (&#x27;cat&#x27;,\n",
       "                                 Pipeline(steps=[(&#x27;imputer&#x27;,\n",
       "                                                  SimpleImputer(strategy=&#x27;most_frequent&#x27;)),\n",
       "                                                 (&#x27;encoder&#x27;,\n",
       "                                                  OrdinalEncoder(handle_unknown=&#x27;use_encoded_value&#x27;,\n",
       "                                                                 unknown_value=-1))]),\n",
       "                                 Index([&#x27;food&#x27;], dtype=&#x27;object&#x27;))])</pre><b>In a Jupyter environment, please rerun this cell to show the HTML representation or trust the notebook. <br />On GitHub, the HTML representation is unable to render, please try loading this page with nbviewer.org.</b></div><div class=\"sk-container\" hidden><div class=\"sk-item sk-dashed-wrapped\"><div class=\"sk-label-container\"><div class=\"sk-label sk-toggleable\"><input class=\"sk-toggleable__control sk-hidden--visually\" id=\"sk-estimator-id-1\" type=\"checkbox\" ><label for=\"sk-estimator-id-1\" class=\"sk-toggleable__label sk-toggleable__label-arrow\">ColumnTransformer</label><div class=\"sk-toggleable__content\"><pre>ColumnTransformer(transformers=[(&#x27;num&#x27;,\n",
       "                                 Pipeline(steps=[(&#x27;imputer&#x27;,\n",
       "                                                  SimpleImputer(strategy=&#x27;median&#x27;))]),\n",
       "                                 Index([&#x27;Caloric Value&#x27;, &#x27;Fat&#x27;, &#x27;Saturated Fats&#x27;, &#x27;Monounsaturated Fats&#x27;,\n",
       "       &#x27;Polyunsaturated Fats&#x27;, &#x27;Carbohydrates&#x27;, &#x27;Sugars&#x27;, &#x27;Protein&#x27;,\n",
       "       &#x27;Dietary Fiber&#x27;, &#x27;Cholesterol&#x27;, &#x27;Sodium&#x27;, &#x27;Water&#x27;, &#x27;Vitamin A&#x27;,\n",
       "       &#x27;Vitamin B1&#x27;, &#x27;Vitamin B11&#x27;, &#x27;Vitamin B12&#x27;, &#x27;Vitamin B2&#x27;, &#x27;Vitamin B3&#x27;,\n",
       "       &#x27;Vitam...n B6&#x27;, &#x27;Vitamin C&#x27;, &#x27;Vitamin D&#x27;, &#x27;Vitamin E&#x27;,\n",
       "       &#x27;Vitamin K&#x27;, &#x27;Calcium&#x27;, &#x27;Copper&#x27;, &#x27;Iron&#x27;, &#x27;Magnesium&#x27;, &#x27;Manganese&#x27;,\n",
       "       &#x27;Phosphorus&#x27;, &#x27;Potassium&#x27;, &#x27;Selenium&#x27;, &#x27;Zinc&#x27;],\n",
       "      dtype=&#x27;object&#x27;)),\n",
       "                                (&#x27;cat&#x27;,\n",
       "                                 Pipeline(steps=[(&#x27;imputer&#x27;,\n",
       "                                                  SimpleImputer(strategy=&#x27;most_frequent&#x27;)),\n",
       "                                                 (&#x27;encoder&#x27;,\n",
       "                                                  OrdinalEncoder(handle_unknown=&#x27;use_encoded_value&#x27;,\n",
       "                                                                 unknown_value=-1))]),\n",
       "                                 Index([&#x27;food&#x27;], dtype=&#x27;object&#x27;))])</pre></div></div></div><div class=\"sk-parallel\"><div class=\"sk-parallel-item\"><div class=\"sk-item\"><div class=\"sk-label-container\"><div class=\"sk-label sk-toggleable\"><input class=\"sk-toggleable__control sk-hidden--visually\" id=\"sk-estimator-id-2\" type=\"checkbox\" ><label for=\"sk-estimator-id-2\" class=\"sk-toggleable__label sk-toggleable__label-arrow\">num</label><div class=\"sk-toggleable__content\"><pre>Index([&#x27;Caloric Value&#x27;, &#x27;Fat&#x27;, &#x27;Saturated Fats&#x27;, &#x27;Monounsaturated Fats&#x27;,\n",
       "       &#x27;Polyunsaturated Fats&#x27;, &#x27;Carbohydrates&#x27;, &#x27;Sugars&#x27;, &#x27;Protein&#x27;,\n",
       "       &#x27;Dietary Fiber&#x27;, &#x27;Cholesterol&#x27;, &#x27;Sodium&#x27;, &#x27;Water&#x27;, &#x27;Vitamin A&#x27;,\n",
       "       &#x27;Vitamin B1&#x27;, &#x27;Vitamin B11&#x27;, &#x27;Vitamin B12&#x27;, &#x27;Vitamin B2&#x27;, &#x27;Vitamin B3&#x27;,\n",
       "       &#x27;Vitamin B5&#x27;, &#x27;Vitamin B6&#x27;, &#x27;Vitamin C&#x27;, &#x27;Vitamin D&#x27;, &#x27;Vitamin E&#x27;,\n",
       "       &#x27;Vitamin K&#x27;, &#x27;Calcium&#x27;, &#x27;Copper&#x27;, &#x27;Iron&#x27;, &#x27;Magnesium&#x27;, &#x27;Manganese&#x27;,\n",
       "       &#x27;Phosphorus&#x27;, &#x27;Potassium&#x27;, &#x27;Selenium&#x27;, &#x27;Zinc&#x27;],\n",
       "      dtype=&#x27;object&#x27;)</pre></div></div></div><div class=\"sk-serial\"><div class=\"sk-item\"><div class=\"sk-serial\"><div class=\"sk-item\"><div class=\"sk-estimator sk-toggleable\"><input class=\"sk-toggleable__control sk-hidden--visually\" id=\"sk-estimator-id-3\" type=\"checkbox\" ><label for=\"sk-estimator-id-3\" class=\"sk-toggleable__label sk-toggleable__label-arrow\">SimpleImputer</label><div class=\"sk-toggleable__content\"><pre>SimpleImputer(strategy=&#x27;median&#x27;)</pre></div></div></div></div></div></div></div></div><div class=\"sk-parallel-item\"><div class=\"sk-item\"><div class=\"sk-label-container\"><div class=\"sk-label sk-toggleable\"><input class=\"sk-toggleable__control sk-hidden--visually\" id=\"sk-estimator-id-4\" type=\"checkbox\" ><label for=\"sk-estimator-id-4\" class=\"sk-toggleable__label sk-toggleable__label-arrow\">cat</label><div class=\"sk-toggleable__content\"><pre>Index([&#x27;food&#x27;], dtype=&#x27;object&#x27;)</pre></div></div></div><div class=\"sk-serial\"><div class=\"sk-item\"><div class=\"sk-serial\"><div class=\"sk-item\"><div class=\"sk-estimator sk-toggleable\"><input class=\"sk-toggleable__control sk-hidden--visually\" id=\"sk-estimator-id-5\" type=\"checkbox\" ><label for=\"sk-estimator-id-5\" class=\"sk-toggleable__label sk-toggleable__label-arrow\">SimpleImputer</label><div class=\"sk-toggleable__content\"><pre>SimpleImputer(strategy=&#x27;most_frequent&#x27;)</pre></div></div></div><div class=\"sk-item\"><div class=\"sk-estimator sk-toggleable\"><input class=\"sk-toggleable__control sk-hidden--visually\" id=\"sk-estimator-id-6\" type=\"checkbox\" ><label for=\"sk-estimator-id-6\" class=\"sk-toggleable__label sk-toggleable__label-arrow\">OrdinalEncoder</label><div class=\"sk-toggleable__content\"><pre>OrdinalEncoder(handle_unknown=&#x27;use_encoded_value&#x27;, unknown_value=-1)</pre></div></div></div></div></div></div></div></div></div></div></div></div>"
      ],
      "text/plain": [
       "ColumnTransformer(transformers=[('num',\n",
       "                                 Pipeline(steps=[('imputer',\n",
       "                                                  SimpleImputer(strategy='median'))]),\n",
       "                                 Index(['Caloric Value', 'Fat', 'Saturated Fats', 'Monounsaturated Fats',\n",
       "       'Polyunsaturated Fats', 'Carbohydrates', 'Sugars', 'Protein',\n",
       "       'Dietary Fiber', 'Cholesterol', 'Sodium', 'Water', 'Vitamin A',\n",
       "       'Vitamin B1', 'Vitamin B11', 'Vitamin B12', 'Vitamin B2', 'Vitamin B3',\n",
       "       'Vitam...n B6', 'Vitamin C', 'Vitamin D', 'Vitamin E',\n",
       "       'Vitamin K', 'Calcium', 'Copper', 'Iron', 'Magnesium', 'Manganese',\n",
       "       'Phosphorus', 'Potassium', 'Selenium', 'Zinc'],\n",
       "      dtype='object')),\n",
       "                                ('cat',\n",
       "                                 Pipeline(steps=[('imputer',\n",
       "                                                  SimpleImputer(strategy='most_frequent')),\n",
       "                                                 ('encoder',\n",
       "                                                  OrdinalEncoder(handle_unknown='use_encoded_value',\n",
       "                                                                 unknown_value=-1))]),\n",
       "                                 Index(['food'], dtype='object'))])"
      ]
     },
     "execution_count": 10,
     "metadata": {},
     "output_type": "execute_result"
    }
   ],
   "source": [
    "num_columns = X.select_dtypes(include=\"number\").columns\n",
    "cat_columns = X.select_dtypes(include=\"object\").columns\n",
    "\n",
    "num_transformer = Pipeline(\n",
    "    steps=[(\"imputer\", SimpleImputer(strategy=\"median\"))]\n",
    "    )\n",
    "\n",
    "cat_transformer = Pipeline(\n",
    "    steps=[(\"imputer\", SimpleImputer(strategy=\"most_frequent\")),\n",
    "           (\"encoder\", OrdinalEncoder(handle_unknown='use_encoded_value', unknown_value =-1))])\n",
    "\n",
    "preprocessor = ColumnTransformer(\n",
    "    transformers=[\n",
    "        (\"num\", num_transformer, num_columns),\n",
    "        (\"cat\", cat_transformer, cat_columns),\n",
    "    ]\n",
    ")\n",
    "\n",
    "preprocessor.set_output(transform='pandas')\n",
    "preprocessor"
   ]
  },
  {
   "cell_type": "code",
   "execution_count": 11,
   "id": "4123cdd7",
   "metadata": {
    "execution": {
     "iopub.execute_input": "2024-07-16T16:06:23.195993Z",
     "iopub.status.busy": "2024-07-16T16:06:23.195579Z",
     "iopub.status.idle": "2024-07-16T16:06:23.253564Z",
     "shell.execute_reply": "2024-07-16T16:06:23.252270Z"
    },
    "papermill": {
     "duration": 0.073349,
     "end_time": "2024-07-16T16:06:23.256481",
     "exception": false,
     "start_time": "2024-07-16T16:06:23.183132",
     "status": "completed"
    },
    "tags": []
   },
   "outputs": [],
   "source": [
    "X_train = preprocessor.fit_transform(X_train)\n",
    "\n",
    "X_val = preprocessor.transform(X_val)\n",
    "X_test = preprocessor.transform(X_test)"
   ]
  },
  {
   "cell_type": "code",
   "execution_count": 12,
   "id": "d6ed9009",
   "metadata": {
    "execution": {
     "iopub.execute_input": "2024-07-16T16:06:23.281712Z",
     "iopub.status.busy": "2024-07-16T16:06:23.280710Z",
     "iopub.status.idle": "2024-07-16T16:06:23.298107Z",
     "shell.execute_reply": "2024-07-16T16:06:23.296698Z"
    },
    "papermill": {
     "duration": 0.033249,
     "end_time": "2024-07-16T16:06:23.300831",
     "exception": false,
     "start_time": "2024-07-16T16:06:23.267582",
     "status": "completed"
    },
    "tags": []
   },
   "outputs": [],
   "source": [
    "def objective(trial):\n",
    "    params = {\n",
    "        'objective': 'regression',\n",
    "        'boosting_type': trial.suggest_categorical('boosting_type', ['gbdt', 'goss', 'rf']),\n",
    "        'n_estimators': trial.suggest_int('n_estimators', 50, 200),\n",
    "        'learning_rate': trial.suggest_float('learning_rate', 1e-4, 1.0, log=True),\n",
    "        'num_leaves': trial.suggest_int('num_leaves', 2, 256),\n",
    "        'max_depth': trial.suggest_int('max_depth', -1, 50),\n",
    "        'min_data_in_leaf': trial.suggest_int('min_data_in_leaf', 1, 100),\n",
    "        'min_sum_hessian_in_leaf': trial.suggest_float('min_sum_hessian_in_leaf', 1e-3, 10.0),\n",
    "        'feature_fraction': trial.suggest_float('feature_fraction', 0.4, 1.0),\n",
    "        'lambda_l1': trial.suggest_float('lambda_l1', 1e-8, 10.0, log=True),\n",
    "        'lambda_l2': trial.suggest_float('lambda_l2', 1e-8, 10.0, log=True),\n",
    "        'min_gain_to_split': trial.suggest_float('min_gain_to_split', 0.0, 1.0),\n",
    "        'max_bin': trial.suggest_int('max_bin', 15, 255),\n",
    "        'boost_from_average': True,\n",
    "        'scale_pos_weight': trial.suggest_float('scale_pos_weight', 1e-3, 10.0),\n",
    "        'is_unbalance': trial.suggest_categorical('is_unbalance', [True, False]),\n",
    "        'metric': 'rmse',\n",
    "        'verbosity': -1,\n",
    "        'force_col_wise': trial.suggest_categorical('force_col_wise', [True, False]),\n",
    "        'max_cat_threshold': trial.suggest_int('max_cat_threshold', 1, 128),\n",
    "        'cat_l2': trial.suggest_float('cat_l2', 1e-3, 10.0),\n",
    "        'cat_smooth': trial.suggest_float('cat_smooth', 1e-3, 10.0),\n",
    "        'max_cat_to_onehot': trial.suggest_int('max_cat_to_onehot', 1, 128),\n",
    "        'top_rate': trial.suggest_float('top_rate', 0.0, 1.0),\n",
    "        'other_rate': trial.suggest_float('other_rate', 0.0, 1.0 - trial.suggest_float('top_rate', 0.0, 1.0)),\n",
    "        'min_data_per_group': trial.suggest_int('min_data_per_group', 1, 100),\n",
    "        'max_cat_trees': trial.suggest_int('max_cat_trees', 1, 128),\n",
    "        'path_smooth': trial.suggest_float('path_smooth', 0.0, 1.0),\n",
    "        'feature_fraction_bynode': trial.suggest_float('feature_fraction_bynode', 0.0, 1.0),\n",
    "        'tweedie_variance_power': trial.suggest_float('tweedie_variance_power', 1.0, 2.0),\n",
    "    }\n",
    "\n",
    "    model = lgb.LGBMRegressor(**params)\n",
    "\n",
    "    early_stopping_callback = lgb.early_stopping(stopping_rounds=trial.suggest_int('early_stopping_round', 10, 100), verbose=False)\n",
    "\n",
    "    model.fit(\n",
    "        X_train, y_train,\n",
    "        eval_set=[(X_val, y_val)],\n",
    "        eval_metric='rmse',\n",
    "        callbacks=[early_stopping_callback]\n",
    "    )\n",
    "\n",
    "    y_pred = model.predict(X_val)\n",
    "    r2 = metrics.r2_score(y_val, y_pred)\n",
    "    mae = metrics.mean_absolute_error(y_val, y_pred)\n",
    "    rmse = metrics.mean_squared_error(y_val, y_pred) ** 0.5\n",
    "\n",
    "    return r2, mae, rmse"
   ]
  },
  {
   "cell_type": "code",
   "execution_count": 13,
   "id": "3a619c65",
   "metadata": {
    "execution": {
     "iopub.execute_input": "2024-07-16T16:06:23.324958Z",
     "iopub.status.busy": "2024-07-16T16:06:23.324485Z",
     "iopub.status.idle": "2024-07-16T16:06:37.855349Z",
     "shell.execute_reply": "2024-07-16T16:06:37.854329Z"
    },
    "papermill": {
     "duration": 14.54601,
     "end_time": "2024-07-16T16:06:37.858040",
     "exception": false,
     "start_time": "2024-07-16T16:06:23.312030",
     "status": "completed"
    },
    "tags": []
   },
   "outputs": [],
   "source": [
    "optuna.logging.set_verbosity(optuna.logging.WARNING)\n",
    "study = optuna.create_study(directions=['maximize', 'minimize', 'minimize'])\n",
    "study.optimize(objective, n_trials=60)"
   ]
  },
  {
   "cell_type": "code",
   "execution_count": 14,
   "id": "9b47d15e",
   "metadata": {
    "execution": {
     "iopub.execute_input": "2024-07-16T16:06:37.882321Z",
     "iopub.status.busy": "2024-07-16T16:06:37.881881Z",
     "iopub.status.idle": "2024-07-16T16:06:37.936722Z",
     "shell.execute_reply": "2024-07-16T16:06:37.935643Z"
    },
    "papermill": {
     "duration": 0.069727,
     "end_time": "2024-07-16T16:06:37.939262",
     "exception": false,
     "start_time": "2024-07-16T16:06:37.869535",
     "status": "completed"
    },
    "tags": []
   },
   "outputs": [
    {
     "data": {
      "text/plain": [
       "1"
      ]
     },
     "execution_count": 14,
     "metadata": {},
     "output_type": "execute_result"
    }
   ],
   "source": [
    "len(study.best_trials)"
   ]
  },
  {
   "cell_type": "code",
   "execution_count": 15,
   "id": "aed505cc",
   "metadata": {
    "execution": {
     "iopub.execute_input": "2024-07-16T16:06:37.964289Z",
     "iopub.status.busy": "2024-07-16T16:06:37.963280Z",
     "iopub.status.idle": "2024-07-16T16:06:38.016201Z",
     "shell.execute_reply": "2024-07-16T16:06:38.015030Z"
    },
    "papermill": {
     "duration": 0.068438,
     "end_time": "2024-07-16T16:06:38.018893",
     "exception": false,
     "start_time": "2024-07-16T16:06:37.950455",
     "status": "completed"
    },
    "tags": []
   },
   "outputs": [
    {
     "name": "stdout",
     "output_type": "stream",
     "text": [
      "найкраща метрика: [FrozenTrial(number=5, state=TrialState.COMPLETE, values=[0.9138926520329278, 20.82956734935053, 43.8039433516353], datetime_start=datetime.datetime(2024, 7, 16, 16, 6, 25, 303182), datetime_complete=datetime.datetime(2024, 7, 16, 16, 6, 25, 604078), params={'boosting_type': 'rf', 'n_estimators': 153, 'learning_rate': 0.0890530000187336, 'num_leaves': 153, 'max_depth': 23, 'min_data_in_leaf': 24, 'min_sum_hessian_in_leaf': 8.22051818136899, 'feature_fraction': 0.8696046449823537, 'lambda_l1': 6.498965256323587e-07, 'lambda_l2': 0.01319514705909233, 'min_gain_to_split': 0.08650778774210455, 'max_bin': 87, 'scale_pos_weight': 9.982579407068018, 'is_unbalance': False, 'force_col_wise': False, 'max_cat_threshold': 121, 'cat_l2': 8.40960115651051, 'cat_smooth': 1.9302856720471997, 'max_cat_to_onehot': 56, 'top_rate': 0.708125028356839, 'other_rate': 0.059309435485147145, 'min_data_per_group': 40, 'max_cat_trees': 63, 'path_smooth': 0.15031608076346037, 'feature_fraction_bynode': 0.6274630322537907, 'tweedie_variance_power': 1.2200790528143706, 'early_stopping_round': 30}, user_attrs={}, system_attrs={'nsga2:generation': 0}, intermediate_values={}, distributions={'boosting_type': CategoricalDistribution(choices=('gbdt', 'goss', 'rf')), 'n_estimators': IntDistribution(high=200, log=False, low=50, step=1), 'learning_rate': FloatDistribution(high=1.0, log=True, low=0.0001, step=None), 'num_leaves': IntDistribution(high=256, log=False, low=2, step=1), 'max_depth': IntDistribution(high=50, log=False, low=-1, step=1), 'min_data_in_leaf': IntDistribution(high=100, log=False, low=1, step=1), 'min_sum_hessian_in_leaf': FloatDistribution(high=10.0, log=False, low=0.001, step=None), 'feature_fraction': FloatDistribution(high=1.0, log=False, low=0.4, step=None), 'lambda_l1': FloatDistribution(high=10.0, log=True, low=1e-08, step=None), 'lambda_l2': FloatDistribution(high=10.0, log=True, low=1e-08, step=None), 'min_gain_to_split': FloatDistribution(high=1.0, log=False, low=0.0, step=None), 'max_bin': IntDistribution(high=255, log=False, low=15, step=1), 'scale_pos_weight': FloatDistribution(high=10.0, log=False, low=0.001, step=None), 'is_unbalance': CategoricalDistribution(choices=(True, False)), 'force_col_wise': CategoricalDistribution(choices=(True, False)), 'max_cat_threshold': IntDistribution(high=128, log=False, low=1, step=1), 'cat_l2': FloatDistribution(high=10.0, log=False, low=0.001, step=None), 'cat_smooth': FloatDistribution(high=10.0, log=False, low=0.001, step=None), 'max_cat_to_onehot': IntDistribution(high=128, log=False, low=1, step=1), 'top_rate': FloatDistribution(high=1.0, log=False, low=0.0, step=None), 'other_rate': FloatDistribution(high=0.291874971643161, log=False, low=0.0, step=None), 'min_data_per_group': IntDistribution(high=100, log=False, low=1, step=1), 'max_cat_trees': IntDistribution(high=128, log=False, low=1, step=1), 'path_smooth': FloatDistribution(high=1.0, log=False, low=0.0, step=None), 'feature_fraction_bynode': FloatDistribution(high=1.0, log=False, low=0.0, step=None), 'tweedie_variance_power': FloatDistribution(high=2.0, log=False, low=1.0, step=None), 'early_stopping_round': IntDistribution(high=100, log=False, low=10, step=1)}, trial_id=5, value=None)]\n"
     ]
    }
   ],
   "source": [
    "print(f\"найкраща метрика: {study.best_trials}\")"
   ]
  },
  {
   "cell_type": "code",
   "execution_count": 16,
   "id": "f2dfce1f",
   "metadata": {
    "execution": {
     "iopub.execute_input": "2024-07-16T16:06:38.043682Z",
     "iopub.status.busy": "2024-07-16T16:06:38.043269Z",
     "iopub.status.idle": "2024-07-16T16:06:38.103172Z",
     "shell.execute_reply": "2024-07-16T16:06:38.102042Z"
    },
    "papermill": {
     "duration": 0.075123,
     "end_time": "2024-07-16T16:06:38.105763",
     "exception": false,
     "start_time": "2024-07-16T16:06:38.030640",
     "status": "completed"
    },
    "tags": []
   },
   "outputs": [
    {
     "data": {
      "text/html": [
       "<div>\n",
       "<style scoped>\n",
       "    .dataframe tbody tr th:only-of-type {\n",
       "        vertical-align: middle;\n",
       "    }\n",
       "\n",
       "    .dataframe tbody tr th {\n",
       "        vertical-align: top;\n",
       "    }\n",
       "\n",
       "    .dataframe thead th {\n",
       "        text-align: right;\n",
       "    }\n",
       "</style>\n",
       "<table border=\"1\" class=\"dataframe\">\n",
       "  <thead>\n",
       "    <tr style=\"text-align: right;\">\n",
       "      <th></th>\n",
       "      <th>r2</th>\n",
       "      <th>mae</th>\n",
       "      <th>rmse</th>\n",
       "    </tr>\n",
       "  </thead>\n",
       "  <tbody>\n",
       "    <tr>\n",
       "      <th>0</th>\n",
       "      <td>0.913893</td>\n",
       "      <td>20.829567</td>\n",
       "      <td>43.803943</td>\n",
       "    </tr>\n",
       "  </tbody>\n",
       "</table>\n",
       "</div>"
      ],
      "text/plain": [
       "         r2        mae       rmse\n",
       "0  0.913893  20.829567  43.803943"
      ]
     },
     "execution_count": 16,
     "metadata": {},
     "output_type": "execute_result"
    }
   ],
   "source": [
    "data = pd.DataFrame([trial.values for trial in study.best_trials],\n",
    "                    columns=['r2', 'mae', 'rmse'])\n",
    "\n",
    "data"
   ]
  },
  {
   "cell_type": "code",
   "execution_count": 17,
   "id": "f07f08d5",
   "metadata": {
    "execution": {
     "iopub.execute_input": "2024-07-16T16:06:38.131015Z",
     "iopub.status.busy": "2024-07-16T16:06:38.130554Z",
     "iopub.status.idle": "2024-07-16T16:06:38.185389Z",
     "shell.execute_reply": "2024-07-16T16:06:38.184264Z"
    },
    "papermill": {
     "duration": 0.070421,
     "end_time": "2024-07-16T16:06:38.187938",
     "exception": false,
     "start_time": "2024-07-16T16:06:38.117517",
     "status": "completed"
    },
    "tags": []
   },
   "outputs": [
    {
     "data": {
      "text/plain": [
       "{'boosting_type': 'rf',\n",
       " 'n_estimators': 153,\n",
       " 'learning_rate': 0.0890530000187336,\n",
       " 'num_leaves': 153,\n",
       " 'max_depth': 23,\n",
       " 'min_data_in_leaf': 24,\n",
       " 'min_sum_hessian_in_leaf': 8.22051818136899,\n",
       " 'feature_fraction': 0.8696046449823537,\n",
       " 'lambda_l1': 6.498965256323587e-07,\n",
       " 'lambda_l2': 0.01319514705909233,\n",
       " 'min_gain_to_split': 0.08650778774210455,\n",
       " 'max_bin': 87,\n",
       " 'scale_pos_weight': 9.982579407068018,\n",
       " 'is_unbalance': False,\n",
       " 'force_col_wise': False,\n",
       " 'max_cat_threshold': 121,\n",
       " 'cat_l2': 8.40960115651051,\n",
       " 'cat_smooth': 1.9302856720471997,\n",
       " 'max_cat_to_onehot': 56,\n",
       " 'top_rate': 0.708125028356839,\n",
       " 'other_rate': 0.059309435485147145,\n",
       " 'min_data_per_group': 40,\n",
       " 'max_cat_trees': 63,\n",
       " 'path_smooth': 0.15031608076346037,\n",
       " 'feature_fraction_bynode': 0.6274630322537907,\n",
       " 'tweedie_variance_power': 1.2200790528143706,\n",
       " 'early_stopping_round': 30}"
      ]
     },
     "execution_count": 17,
     "metadata": {},
     "output_type": "execute_result"
    }
   ],
   "source": [
    "best_params = study.best_trials[0].params\n",
    "best_params"
   ]
  },
  {
   "cell_type": "code",
   "execution_count": 18,
   "id": "7aa1f704",
   "metadata": {
    "execution": {
     "iopub.execute_input": "2024-07-16T16:06:38.213484Z",
     "iopub.status.busy": "2024-07-16T16:06:38.213027Z",
     "iopub.status.idle": "2024-07-16T16:06:38.505484Z",
     "shell.execute_reply": "2024-07-16T16:06:38.504383Z"
    },
    "papermill": {
     "duration": 0.308049,
     "end_time": "2024-07-16T16:06:38.507914",
     "exception": false,
     "start_time": "2024-07-16T16:06:38.199865",
     "status": "completed"
    },
    "tags": []
   },
   "outputs": [
    {
     "data": {
      "text/html": [
       "<style>#sk-container-id-2 {color: black;background-color: white;}#sk-container-id-2 pre{padding: 0;}#sk-container-id-2 div.sk-toggleable {background-color: white;}#sk-container-id-2 label.sk-toggleable__label {cursor: pointer;display: block;width: 100%;margin-bottom: 0;padding: 0.3em;box-sizing: border-box;text-align: center;}#sk-container-id-2 label.sk-toggleable__label-arrow:before {content: \"▸\";float: left;margin-right: 0.25em;color: #696969;}#sk-container-id-2 label.sk-toggleable__label-arrow:hover:before {color: black;}#sk-container-id-2 div.sk-estimator:hover label.sk-toggleable__label-arrow:before {color: black;}#sk-container-id-2 div.sk-toggleable__content {max-height: 0;max-width: 0;overflow: hidden;text-align: left;background-color: #f0f8ff;}#sk-container-id-2 div.sk-toggleable__content pre {margin: 0.2em;color: black;border-radius: 0.25em;background-color: #f0f8ff;}#sk-container-id-2 input.sk-toggleable__control:checked~div.sk-toggleable__content {max-height: 200px;max-width: 100%;overflow: auto;}#sk-container-id-2 input.sk-toggleable__control:checked~label.sk-toggleable__label-arrow:before {content: \"▾\";}#sk-container-id-2 div.sk-estimator input.sk-toggleable__control:checked~label.sk-toggleable__label {background-color: #d4ebff;}#sk-container-id-2 div.sk-label input.sk-toggleable__control:checked~label.sk-toggleable__label {background-color: #d4ebff;}#sk-container-id-2 input.sk-hidden--visually {border: 0;clip: rect(1px 1px 1px 1px);clip: rect(1px, 1px, 1px, 1px);height: 1px;margin: -1px;overflow: hidden;padding: 0;position: absolute;width: 1px;}#sk-container-id-2 div.sk-estimator {font-family: monospace;background-color: #f0f8ff;border: 1px dotted black;border-radius: 0.25em;box-sizing: border-box;margin-bottom: 0.5em;}#sk-container-id-2 div.sk-estimator:hover {background-color: #d4ebff;}#sk-container-id-2 div.sk-parallel-item::after {content: \"\";width: 100%;border-bottom: 1px solid gray;flex-grow: 1;}#sk-container-id-2 div.sk-label:hover label.sk-toggleable__label {background-color: #d4ebff;}#sk-container-id-2 div.sk-serial::before {content: \"\";position: absolute;border-left: 1px solid gray;box-sizing: border-box;top: 0;bottom: 0;left: 50%;z-index: 0;}#sk-container-id-2 div.sk-serial {display: flex;flex-direction: column;align-items: center;background-color: white;padding-right: 0.2em;padding-left: 0.2em;position: relative;}#sk-container-id-2 div.sk-item {position: relative;z-index: 1;}#sk-container-id-2 div.sk-parallel {display: flex;align-items: stretch;justify-content: center;background-color: white;position: relative;}#sk-container-id-2 div.sk-item::before, #sk-container-id-2 div.sk-parallel-item::before {content: \"\";position: absolute;border-left: 1px solid gray;box-sizing: border-box;top: 0;bottom: 0;left: 50%;z-index: -1;}#sk-container-id-2 div.sk-parallel-item {display: flex;flex-direction: column;z-index: 1;position: relative;background-color: white;}#sk-container-id-2 div.sk-parallel-item:first-child::after {align-self: flex-end;width: 50%;}#sk-container-id-2 div.sk-parallel-item:last-child::after {align-self: flex-start;width: 50%;}#sk-container-id-2 div.sk-parallel-item:only-child::after {width: 0;}#sk-container-id-2 div.sk-dashed-wrapped {border: 1px dashed gray;margin: 0 0.4em 0.5em 0.4em;box-sizing: border-box;padding-bottom: 0.4em;background-color: white;}#sk-container-id-2 div.sk-label label {font-family: monospace;font-weight: bold;display: inline-block;line-height: 1.2em;}#sk-container-id-2 div.sk-label-container {text-align: center;}#sk-container-id-2 div.sk-container {/* jupyter's `normalize.less` sets `[hidden] { display: none; }` but bootstrap.min.css set `[hidden] { display: none !important; }` so we also need the `!important` here to be able to override the default hidden behavior on the sphinx rendered scikit-learn.org. See: https://github.com/scikit-learn/scikit-learn/issues/21755 */display: inline-block !important;position: relative;}#sk-container-id-2 div.sk-text-repr-fallback {display: none;}</style><div id=\"sk-container-id-2\" class=\"sk-top-container\"><div class=\"sk-text-repr-fallback\"><pre>LGBMRegressor(boosting_type=&#x27;rf&#x27;, cat_l2=8.40960115651051,\n",
       "              cat_smooth=1.9302856720471997, early_stopping_round=30,\n",
       "              feature_fraction=0.8696046449823537,\n",
       "              feature_fraction_bynode=0.6274630322537907, force_col_wise=False,\n",
       "              is_unbalance=False, lambda_l1=6.498965256323587e-07,\n",
       "              lambda_l2=0.01319514705909233, learning_rate=0.0890530000187336,\n",
       "              max_bin=87, max_cat_thresh...\n",
       "              max_cat_trees=63, max_depth=23, min_data_in_leaf=24,\n",
       "              min_data_per_group=40, min_gain_to_split=0.08650778774210455,\n",
       "              min_sum_hessian_in_leaf=8.22051818136899, n_estimator=1000,\n",
       "              n_estimators=153, num_leaves=153, other_rate=0.059309435485147145,\n",
       "              path_smooth=0.15031608076346037,\n",
       "              scale_pos_weight=9.982579407068018, top_rate=0.708125028356839,\n",
       "              tweedie_variance_power=1.2200790528143706, verbose=-1)</pre><b>In a Jupyter environment, please rerun this cell to show the HTML representation or trust the notebook. <br />On GitHub, the HTML representation is unable to render, please try loading this page with nbviewer.org.</b></div><div class=\"sk-container\" hidden><div class=\"sk-item\"><div class=\"sk-estimator sk-toggleable\"><input class=\"sk-toggleable__control sk-hidden--visually\" id=\"sk-estimator-id-7\" type=\"checkbox\" checked><label for=\"sk-estimator-id-7\" class=\"sk-toggleable__label sk-toggleable__label-arrow\">LGBMRegressor</label><div class=\"sk-toggleable__content\"><pre>LGBMRegressor(boosting_type=&#x27;rf&#x27;, cat_l2=8.40960115651051,\n",
       "              cat_smooth=1.9302856720471997, early_stopping_round=30,\n",
       "              feature_fraction=0.8696046449823537,\n",
       "              feature_fraction_bynode=0.6274630322537907, force_col_wise=False,\n",
       "              is_unbalance=False, lambda_l1=6.498965256323587e-07,\n",
       "              lambda_l2=0.01319514705909233, learning_rate=0.0890530000187336,\n",
       "              max_bin=87, max_cat_thresh...\n",
       "              max_cat_trees=63, max_depth=23, min_data_in_leaf=24,\n",
       "              min_data_per_group=40, min_gain_to_split=0.08650778774210455,\n",
       "              min_sum_hessian_in_leaf=8.22051818136899, n_estimator=1000,\n",
       "              n_estimators=153, num_leaves=153, other_rate=0.059309435485147145,\n",
       "              path_smooth=0.15031608076346037,\n",
       "              scale_pos_weight=9.982579407068018, top_rate=0.708125028356839,\n",
       "              tweedie_variance_power=1.2200790528143706, verbose=-1)</pre></div></div></div></div></div>"
      ],
      "text/plain": [
       "LGBMRegressor(boosting_type='rf', cat_l2=8.40960115651051,\n",
       "              cat_smooth=1.9302856720471997, early_stopping_round=30,\n",
       "              feature_fraction=0.8696046449823537,\n",
       "              feature_fraction_bynode=0.6274630322537907, force_col_wise=False,\n",
       "              is_unbalance=False, lambda_l1=6.498965256323587e-07,\n",
       "              lambda_l2=0.01319514705909233, learning_rate=0.0890530000187336,\n",
       "              max_bin=87, max_cat_thresh...\n",
       "              max_cat_trees=63, max_depth=23, min_data_in_leaf=24,\n",
       "              min_data_per_group=40, min_gain_to_split=0.08650778774210455,\n",
       "              min_sum_hessian_in_leaf=8.22051818136899, n_estimator=1000,\n",
       "              n_estimators=153, num_leaves=153, other_rate=0.059309435485147145,\n",
       "              path_smooth=0.15031608076346037,\n",
       "              scale_pos_weight=9.982579407068018, top_rate=0.708125028356839,\n",
       "              tweedie_variance_power=1.2200790528143706, verbose=-1)"
      ]
     },
     "execution_count": 18,
     "metadata": {},
     "output_type": "execute_result"
    }
   ],
   "source": [
    "model = lgb.LGBMRegressor(**best_params,\n",
    "                          n_estimator = 1000,\n",
    "                          verbose=-1)\n",
    "\n",
    "model.fit(X_train, y_train,\n",
    "          eval_set=[(X_test, y_test), (X_train, y_train)],\n",
    "          eval_metric='mae')"
   ]
  },
  {
   "cell_type": "code",
   "execution_count": 19,
   "id": "c7524822",
   "metadata": {
    "execution": {
     "iopub.execute_input": "2024-07-16T16:06:38.533854Z",
     "iopub.status.busy": "2024-07-16T16:06:38.533441Z",
     "iopub.status.idle": "2024-07-16T16:06:38.540656Z",
     "shell.execute_reply": "2024-07-16T16:06:38.539415Z"
    },
    "papermill": {
     "duration": 0.0234,
     "end_time": "2024-07-16T16:06:38.543433",
     "exception": false,
     "start_time": "2024-07-16T16:06:38.520033",
     "status": "completed"
    },
    "tags": []
   },
   "outputs": [],
   "source": [
    "def get_metrics(y_true, y_pred, name=\"model\"):\n",
    "  df = pd.DataFrame()\n",
    "\n",
    "  df.loc[\"MAE\", name] = metrics.mean_absolute_error(y_true, y_pred)\n",
    "  df.loc[\"RMSE\", name] = metrics.mean_squared_error(y_true, y_pred) ** 0.5\n",
    "  df.loc[\"R2\", name] = metrics.r2_score(y_true, y_pred)\n",
    "\n",
    "  return df.round(2)"
   ]
  },
  {
   "cell_type": "code",
   "execution_count": 20,
   "id": "39b50ac4",
   "metadata": {
    "execution": {
     "iopub.execute_input": "2024-07-16T16:06:38.570655Z",
     "iopub.status.busy": "2024-07-16T16:06:38.570244Z",
     "iopub.status.idle": "2024-07-16T16:06:38.611755Z",
     "shell.execute_reply": "2024-07-16T16:06:38.610439Z"
    },
    "papermill": {
     "duration": 0.058743,
     "end_time": "2024-07-16T16:06:38.614809",
     "exception": false,
     "start_time": "2024-07-16T16:06:38.556066",
     "status": "completed"
    },
    "tags": []
   },
   "outputs": [
    {
     "data": {
      "text/html": [
       "<div>\n",
       "<style scoped>\n",
       "    .dataframe tbody tr th:only-of-type {\n",
       "        vertical-align: middle;\n",
       "    }\n",
       "\n",
       "    .dataframe tbody tr th {\n",
       "        vertical-align: top;\n",
       "    }\n",
       "\n",
       "    .dataframe thead th {\n",
       "        text-align: right;\n",
       "    }\n",
       "</style>\n",
       "<table border=\"1\" class=\"dataframe\">\n",
       "  <thead>\n",
       "    <tr style=\"text-align: right;\">\n",
       "      <th></th>\n",
       "      <th>train</th>\n",
       "      <th>test</th>\n",
       "    </tr>\n",
       "  </thead>\n",
       "  <tbody>\n",
       "    <tr>\n",
       "      <th>MAE</th>\n",
       "      <td>20.11</td>\n",
       "      <td>23.28</td>\n",
       "    </tr>\n",
       "    <tr>\n",
       "      <th>RMSE</th>\n",
       "      <td>107.59</td>\n",
       "      <td>63.60</td>\n",
       "    </tr>\n",
       "    <tr>\n",
       "      <th>R2</th>\n",
       "      <td>0.66</td>\n",
       "      <td>0.84</td>\n",
       "    </tr>\n",
       "  </tbody>\n",
       "</table>\n",
       "</div>"
      ],
      "text/plain": [
       "       train   test\n",
       "MAE    20.11  23.28\n",
       "RMSE  107.59  63.60\n",
       "R2      0.66   0.84"
      ]
     },
     "execution_count": 20,
     "metadata": {},
     "output_type": "execute_result"
    }
   ],
   "source": [
    "all_metrics = pd.DataFrame()\n",
    "\n",
    "all_metrics[\"train\"] = get_metrics(y_train, model.predict(X_train))\n",
    "all_metrics[\"test\"] = get_metrics(y_test, model.predict(X_test))\n",
    "\n",
    "all_metrics"
   ]
  },
  {
   "cell_type": "code",
   "execution_count": 21,
   "id": "740eb6b1",
   "metadata": {
    "execution": {
     "iopub.execute_input": "2024-07-16T16:06:38.641539Z",
     "iopub.status.busy": "2024-07-16T16:06:38.641129Z",
     "iopub.status.idle": "2024-07-16T16:06:46.557629Z",
     "shell.execute_reply": "2024-07-16T16:06:46.556529Z"
    },
    "papermill": {
     "duration": 7.932753,
     "end_time": "2024-07-16T16:06:46.560373",
     "exception": false,
     "start_time": "2024-07-16T16:06:38.627620",
     "status": "completed"
    },
    "tags": []
   },
   "outputs": [
    {
     "data": {
      "text/html": [
       "        <script type=\"text/javascript\">\n",
       "        window.PlotlyConfig = {MathJaxConfig: 'local'};\n",
       "        if (window.MathJax && window.MathJax.Hub && window.MathJax.Hub.Config) {window.MathJax.Hub.Config({SVG: {font: \"STIX-Web\"}});}\n",
       "        if (typeof require !== 'undefined') {\n",
       "        require.undef(\"plotly\");\n",
       "        requirejs.config({\n",
       "            paths: {\n",
       "                'plotly': ['https://cdn.plot.ly/plotly-2.27.0.min']\n",
       "            }\n",
       "        });\n",
       "        require(['plotly'], function(Plotly) {\n",
       "            window._Plotly = Plotly;\n",
       "        });\n",
       "        }\n",
       "        </script>\n",
       "        "
      ]
     },
     "metadata": {},
     "output_type": "display_data"
    },
    {
     "data": {
      "text/html": [
       "<div>                            <div id=\"21c22d1e-5932-4f12-bbf6-127cbcbd7ed3\" class=\"plotly-graph-div\" style=\"height:525px; width:100%;\"></div>            <script type=\"text/javascript\">                require([\"plotly\"], function(Plotly) {                    window.PLOTLYENV=window.PLOTLYENV || {};                                    if (document.getElementById(\"21c22d1e-5932-4f12-bbf6-127cbcbd7ed3\")) {                    Plotly.newPlot(                        \"21c22d1e-5932-4f12-bbf6-127cbcbd7ed3\",                        [{\"cliponaxis\":false,\"hovertemplate\":[\"is_unbalance (CategoricalDistribution): 0.00012041600455001249\\u003cextra\\u003e\\u003c\\u002fextra\\u003e\",\"force_col_wise (CategoricalDistribution): 0.0007416828769608513\\u003cextra\\u003e\\u003c\\u002fextra\\u003e\",\"n_estimators (IntDistribution): 0.0027004250798064893\\u003cextra\\u003e\\u003c\\u002fextra\\u003e\",\"scale_pos_weight (FloatDistribution): 0.003536889566618679\\u003cextra\\u003e\\u003c\\u002fextra\\u003e\",\"num_leaves (IntDistribution): 0.005430800496918909\\u003cextra\\u003e\\u003c\\u002fextra\\u003e\",\"max_cat_trees (IntDistribution): 0.007265351867852753\\u003cextra\\u003e\\u003c\\u002fextra\\u003e\",\"cat_l2 (FloatDistribution): 0.007318451246203956\\u003cextra\\u003e\\u003c\\u002fextra\\u003e\",\"top_rate (FloatDistribution): 0.010032748284757007\\u003cextra\\u003e\\u003c\\u002fextra\\u003e\",\"max_bin (IntDistribution): 0.010159002934790825\\u003cextra\\u003e\\u003c\\u002fextra\\u003e\",\"cat_smooth (FloatDistribution): 0.01500722750056219\\u003cextra\\u003e\\u003c\\u002fextra\\u003e\",\"feature_fraction (FloatDistribution): 0.015601015193767184\\u003cextra\\u003e\\u003c\\u002fextra\\u003e\",\"boosting_type (CategoricalDistribution): 0.016850208444876967\\u003cextra\\u003e\\u003c\\u002fextra\\u003e\",\"early_stopping_round (IntDistribution): 0.01860001943742043\\u003cextra\\u003e\\u003c\\u002fextra\\u003e\",\"lambda_l1 (FloatDistribution): 0.02113176651759166\\u003cextra\\u003e\\u003c\\u002fextra\\u003e\",\"max_cat_threshold (IntDistribution): 0.02431705417169176\\u003cextra\\u003e\\u003c\\u002fextra\\u003e\",\"min_data_per_group (IntDistribution): 0.026355314876890905\\u003cextra\\u003e\\u003c\\u002fextra\\u003e\",\"min_sum_hessian_in_leaf (FloatDistribution): 0.02839451438373227\\u003cextra\\u003e\\u003c\\u002fextra\\u003e\",\"tweedie_variance_power (FloatDistribution): 0.03296933808673907\\u003cextra\\u003e\\u003c\\u002fextra\\u003e\",\"min_data_in_leaf (IntDistribution): 0.039247299528103706\\u003cextra\\u003e\\u003c\\u002fextra\\u003e\",\"lambda_l2 (FloatDistribution): 0.04306290878986853\\u003cextra\\u003e\\u003c\\u002fextra\\u003e\",\"max_depth (IntDistribution): 0.059870077872108095\\u003cextra\\u003e\\u003c\\u002fextra\\u003e\",\"path_smooth (FloatDistribution): 0.06057019223997337\\u003cextra\\u003e\\u003c\\u002fextra\\u003e\",\"learning_rate (FloatDistribution): 0.07073434090203257\\u003cextra\\u003e\\u003c\\u002fextra\\u003e\",\"min_gain_to_split (FloatDistribution): 0.07190664869683554\\u003cextra\\u003e\\u003c\\u002fextra\\u003e\",\"max_cat_to_onehot (IntDistribution): 0.07779851209970369\\u003cextra\\u003e\\u003c\\u002fextra\\u003e\",\"feature_fraction_bynode (FloatDistribution): 0.3302777928996427\\u003cextra\\u003e\\u003c\\u002fextra\\u003e\"],\"name\":\"Objective Value 0\",\"orientation\":\"h\",\"text\":[\"\\u003c0.01\",\"\\u003c0.01\",\"\\u003c0.01\",\"\\u003c0.01\",\"\\u003c0.01\",\"\\u003c0.01\",\"\\u003c0.01\",\"0.01\",\"0.01\",\"0.02\",\"0.02\",\"0.02\",\"0.02\",\"0.02\",\"0.02\",\"0.03\",\"0.03\",\"0.03\",\"0.04\",\"0.04\",\"0.06\",\"0.06\",\"0.07\",\"0.07\",\"0.08\",\"0.33\"],\"textposition\":\"outside\",\"x\":[0.00012041600455001249,0.0007416828769608513,0.0027004250798064893,0.003536889566618679,0.005430800496918909,0.007265351867852753,0.007318451246203956,0.010032748284757007,0.010159002934790825,0.01500722750056219,0.015601015193767184,0.016850208444876967,0.01860001943742043,0.02113176651759166,0.02431705417169176,0.026355314876890905,0.02839451438373227,0.03296933808673907,0.039247299528103706,0.04306290878986853,0.059870077872108095,0.06057019223997337,0.07073434090203257,0.07190664869683554,0.07779851209970369,0.3302777928996427],\"y\":[\"is_unbalance\",\"force_col_wise\",\"n_estimators\",\"scale_pos_weight\",\"num_leaves\",\"max_cat_trees\",\"cat_l2\",\"top_rate\",\"max_bin\",\"cat_smooth\",\"feature_fraction\",\"boosting_type\",\"early_stopping_round\",\"lambda_l1\",\"max_cat_threshold\",\"min_data_per_group\",\"min_sum_hessian_in_leaf\",\"tweedie_variance_power\",\"min_data_in_leaf\",\"lambda_l2\",\"max_depth\",\"path_smooth\",\"learning_rate\",\"min_gain_to_split\",\"max_cat_to_onehot\",\"feature_fraction_bynode\"],\"type\":\"bar\"},{\"cliponaxis\":false,\"hovertemplate\":[\"force_col_wise (CategoricalDistribution): 0.0002464512025050775\\u003cextra\\u003e\\u003c\\u002fextra\\u003e\",\"min_sum_hessian_in_leaf (FloatDistribution): 0.0013998725725020884\\u003cextra\\u003e\\u003c\\u002fextra\\u003e\",\"is_unbalance (CategoricalDistribution): 0.0021180074548528467\\u003cextra\\u003e\\u003c\\u002fextra\\u003e\",\"max_bin (IntDistribution): 0.0038094904502697998\\u003cextra\\u003e\\u003c\\u002fextra\\u003e\",\"num_leaves (IntDistribution): 0.004169327943091756\\u003cextra\\u003e\\u003c\\u002fextra\\u003e\",\"n_estimators (IntDistribution): 0.004947640414227329\\u003cextra\\u003e\\u003c\\u002fextra\\u003e\",\"max_cat_trees (IntDistribution): 0.006991487901807186\\u003cextra\\u003e\\u003c\\u002fextra\\u003e\",\"scale_pos_weight (FloatDistribution): 0.009824781521590532\\u003cextra\\u003e\\u003c\\u002fextra\\u003e\",\"early_stopping_round (IntDistribution): 0.01086326785734713\\u003cextra\\u003e\\u003c\\u002fextra\\u003e\",\"top_rate (FloatDistribution): 0.011039491198138674\\u003cextra\\u003e\\u003c\\u002fextra\\u003e\",\"min_data_per_group (IntDistribution): 0.013036645158085619\\u003cextra\\u003e\\u003c\\u002fextra\\u003e\",\"max_cat_threshold (IntDistribution): 0.014531577496218934\\u003cextra\\u003e\\u003c\\u002fextra\\u003e\",\"feature_fraction (FloatDistribution): 0.01882299115129718\\u003cextra\\u003e\\u003c\\u002fextra\\u003e\",\"tweedie_variance_power (FloatDistribution): 0.019079975135605668\\u003cextra\\u003e\\u003c\\u002fextra\\u003e\",\"max_cat_to_onehot (IntDistribution): 0.01953810480213595\\u003cextra\\u003e\\u003c\\u002fextra\\u003e\",\"cat_smooth (FloatDistribution): 0.020939330885283148\\u003cextra\\u003e\\u003c\\u002fextra\\u003e\",\"cat_l2 (FloatDistribution): 0.021623827301495962\\u003cextra\\u003e\\u003c\\u002fextra\\u003e\",\"max_depth (IntDistribution): 0.02317749022674161\\u003cextra\\u003e\\u003c\\u002fextra\\u003e\",\"learning_rate (FloatDistribution): 0.023370623862363334\\u003cextra\\u003e\\u003c\\u002fextra\\u003e\",\"lambda_l2 (FloatDistribution): 0.025971246155863915\\u003cextra\\u003e\\u003c\\u002fextra\\u003e\",\"lambda_l1 (FloatDistribution): 0.025997687923902946\\u003cextra\\u003e\\u003c\\u002fextra\\u003e\",\"path_smooth (FloatDistribution): 0.045769944359031596\\u003cextra\\u003e\\u003c\\u002fextra\\u003e\",\"min_gain_to_split (FloatDistribution): 0.04866518266817995\\u003cextra\\u003e\\u003c\\u002fextra\\u003e\",\"min_data_in_leaf (IntDistribution): 0.05661419644501111\\u003cextra\\u003e\\u003c\\u002fextra\\u003e\",\"boosting_type (CategoricalDistribution): 0.1103916564086079\\u003cextra\\u003e\\u003c\\u002fextra\\u003e\",\"feature_fraction_bynode (FloatDistribution): 0.45705970150384295\\u003cextra\\u003e\\u003c\\u002fextra\\u003e\"],\"name\":\"Objective Value 1\",\"orientation\":\"h\",\"text\":[\"\\u003c0.01\",\"\\u003c0.01\",\"\\u003c0.01\",\"\\u003c0.01\",\"\\u003c0.01\",\"\\u003c0.01\",\"\\u003c0.01\",\"\\u003c0.01\",\"0.01\",\"0.01\",\"0.01\",\"0.01\",\"0.02\",\"0.02\",\"0.02\",\"0.02\",\"0.02\",\"0.02\",\"0.02\",\"0.03\",\"0.03\",\"0.05\",\"0.05\",\"0.06\",\"0.11\",\"0.46\"],\"textposition\":\"outside\",\"x\":[0.0002464512025050775,0.0013998725725020884,0.0021180074548528467,0.0038094904502697998,0.004169327943091756,0.004947640414227329,0.006991487901807186,0.009824781521590532,0.01086326785734713,0.011039491198138674,0.013036645158085619,0.014531577496218934,0.01882299115129718,0.019079975135605668,0.01953810480213595,0.020939330885283148,0.021623827301495962,0.02317749022674161,0.023370623862363334,0.025971246155863915,0.025997687923902946,0.045769944359031596,0.04866518266817995,0.05661419644501111,0.1103916564086079,0.45705970150384295],\"y\":[\"force_col_wise\",\"min_sum_hessian_in_leaf\",\"is_unbalance\",\"max_bin\",\"num_leaves\",\"n_estimators\",\"max_cat_trees\",\"scale_pos_weight\",\"early_stopping_round\",\"top_rate\",\"min_data_per_group\",\"max_cat_threshold\",\"feature_fraction\",\"tweedie_variance_power\",\"max_cat_to_onehot\",\"cat_smooth\",\"cat_l2\",\"max_depth\",\"learning_rate\",\"lambda_l2\",\"lambda_l1\",\"path_smooth\",\"min_gain_to_split\",\"min_data_in_leaf\",\"boosting_type\",\"feature_fraction_bynode\"],\"type\":\"bar\"},{\"cliponaxis\":false,\"hovertemplate\":[\"force_col_wise (CategoricalDistribution): 0.0003874157176097236\\u003cextra\\u003e\\u003c\\u002fextra\\u003e\",\"lambda_l1 (FloatDistribution): 0.0006494027828570941\\u003cextra\\u003e\\u003c\\u002fextra\\u003e\",\"is_unbalance (CategoricalDistribution): 0.0013264974892213757\\u003cextra\\u003e\\u003c\\u002fextra\\u003e\",\"n_estimators (IntDistribution): 0.003314023255601504\\u003cextra\\u003e\\u003c\\u002fextra\\u003e\",\"scale_pos_weight (FloatDistribution): 0.00565175854474642\\u003cextra\\u003e\\u003c\\u002fextra\\u003e\",\"cat_l2 (FloatDistribution): 0.006910724935907177\\u003cextra\\u003e\\u003c\\u002fextra\\u003e\",\"min_data_per_group (IntDistribution): 0.007306633431298881\\u003cextra\\u003e\\u003c\\u002fextra\\u003e\",\"min_gain_to_split (FloatDistribution): 0.009330928099012948\\u003cextra\\u003e\\u003c\\u002fextra\\u003e\",\"lambda_l2 (FloatDistribution): 0.009885110648399099\\u003cextra\\u003e\\u003c\\u002fextra\\u003e\",\"max_bin (IntDistribution): 0.010317611864179095\\u003cextra\\u003e\\u003c\\u002fextra\\u003e\",\"early_stopping_round (IntDistribution): 0.010350484374418102\\u003cextra\\u003e\\u003c\\u002fextra\\u003e\",\"max_cat_threshold (IntDistribution): 0.011022100937868533\\u003cextra\\u003e\\u003c\\u002fextra\\u003e\",\"max_cat_trees (IntDistribution): 0.01543498696384176\\u003cextra\\u003e\\u003c\\u002fextra\\u003e\",\"boosting_type (CategoricalDistribution): 0.016680872204036273\\u003cextra\\u003e\\u003c\\u002fextra\\u003e\",\"cat_smooth (FloatDistribution): 0.018709200462791745\\u003cextra\\u003e\\u003c\\u002fextra\\u003e\",\"num_leaves (IntDistribution): 0.020987649555820567\\u003cextra\\u003e\\u003c\\u002fextra\\u003e\",\"max_cat_to_onehot (IntDistribution): 0.02322570987288849\\u003cextra\\u003e\\u003c\\u002fextra\\u003e\",\"min_sum_hessian_in_leaf (FloatDistribution): 0.023362645299501335\\u003cextra\\u003e\\u003c\\u002fextra\\u003e\",\"max_depth (IntDistribution): 0.038394489953112995\\u003cextra\\u003e\\u003c\\u002fextra\\u003e\",\"top_rate (FloatDistribution): 0.0401792095549162\\u003cextra\\u003e\\u003c\\u002fextra\\u003e\",\"path_smooth (FloatDistribution): 0.043852039073861836\\u003cextra\\u003e\\u003c\\u002fextra\\u003e\",\"feature_fraction (FloatDistribution): 0.05452688180116766\\u003cextra\\u003e\\u003c\\u002fextra\\u003e\",\"tweedie_variance_power (FloatDistribution): 0.06279753931139703\\u003cextra\\u003e\\u003c\\u002fextra\\u003e\",\"learning_rate (FloatDistribution): 0.07123312486188046\\u003cextra\\u003e\\u003c\\u002fextra\\u003e\",\"min_data_in_leaf (IntDistribution): 0.11765061277971237\\u003cextra\\u003e\\u003c\\u002fextra\\u003e\",\"feature_fraction_bynode (FloatDistribution): 0.3765123462239512\\u003cextra\\u003e\\u003c\\u002fextra\\u003e\"],\"name\":\"Objective Value 2\",\"orientation\":\"h\",\"text\":[\"\\u003c0.01\",\"\\u003c0.01\",\"\\u003c0.01\",\"\\u003c0.01\",\"\\u003c0.01\",\"\\u003c0.01\",\"\\u003c0.01\",\"\\u003c0.01\",\"\\u003c0.01\",\"0.01\",\"0.01\",\"0.01\",\"0.02\",\"0.02\",\"0.02\",\"0.02\",\"0.02\",\"0.02\",\"0.04\",\"0.04\",\"0.04\",\"0.05\",\"0.06\",\"0.07\",\"0.12\",\"0.38\"],\"textposition\":\"outside\",\"x\":[0.0003874157176097236,0.0006494027828570941,0.0013264974892213757,0.003314023255601504,0.00565175854474642,0.006910724935907177,0.007306633431298881,0.009330928099012948,0.009885110648399099,0.010317611864179095,0.010350484374418102,0.011022100937868533,0.01543498696384176,0.016680872204036273,0.018709200462791745,0.020987649555820567,0.02322570987288849,0.023362645299501335,0.038394489953112995,0.0401792095549162,0.043852039073861836,0.05452688180116766,0.06279753931139703,0.07123312486188046,0.11765061277971237,0.3765123462239512],\"y\":[\"force_col_wise\",\"lambda_l1\",\"is_unbalance\",\"n_estimators\",\"scale_pos_weight\",\"cat_l2\",\"min_data_per_group\",\"min_gain_to_split\",\"lambda_l2\",\"max_bin\",\"early_stopping_round\",\"max_cat_threshold\",\"max_cat_trees\",\"boosting_type\",\"cat_smooth\",\"num_leaves\",\"max_cat_to_onehot\",\"min_sum_hessian_in_leaf\",\"max_depth\",\"top_rate\",\"path_smooth\",\"feature_fraction\",\"tweedie_variance_power\",\"learning_rate\",\"min_data_in_leaf\",\"feature_fraction_bynode\"],\"type\":\"bar\"}],                        {\"title\":{\"text\":\"Hyperparameter Importances\"},\"xaxis\":{\"title\":{\"text\":\"Hyperparameter Importance\"}},\"yaxis\":{\"title\":{\"text\":\"Hyperparameter\"}},\"template\":{\"data\":{\"histogram2dcontour\":[{\"type\":\"histogram2dcontour\",\"colorbar\":{\"outlinewidth\":0,\"ticks\":\"\"},\"colorscale\":[[0.0,\"#0d0887\"],[0.1111111111111111,\"#46039f\"],[0.2222222222222222,\"#7201a8\"],[0.3333333333333333,\"#9c179e\"],[0.4444444444444444,\"#bd3786\"],[0.5555555555555556,\"#d8576b\"],[0.6666666666666666,\"#ed7953\"],[0.7777777777777778,\"#fb9f3a\"],[0.8888888888888888,\"#fdca26\"],[1.0,\"#f0f921\"]]}],\"choropleth\":[{\"type\":\"choropleth\",\"colorbar\":{\"outlinewidth\":0,\"ticks\":\"\"}}],\"histogram2d\":[{\"type\":\"histogram2d\",\"colorbar\":{\"outlinewidth\":0,\"ticks\":\"\"},\"colorscale\":[[0.0,\"#0d0887\"],[0.1111111111111111,\"#46039f\"],[0.2222222222222222,\"#7201a8\"],[0.3333333333333333,\"#9c179e\"],[0.4444444444444444,\"#bd3786\"],[0.5555555555555556,\"#d8576b\"],[0.6666666666666666,\"#ed7953\"],[0.7777777777777778,\"#fb9f3a\"],[0.8888888888888888,\"#fdca26\"],[1.0,\"#f0f921\"]]}],\"heatmap\":[{\"type\":\"heatmap\",\"colorbar\":{\"outlinewidth\":0,\"ticks\":\"\"},\"colorscale\":[[0.0,\"#0d0887\"],[0.1111111111111111,\"#46039f\"],[0.2222222222222222,\"#7201a8\"],[0.3333333333333333,\"#9c179e\"],[0.4444444444444444,\"#bd3786\"],[0.5555555555555556,\"#d8576b\"],[0.6666666666666666,\"#ed7953\"],[0.7777777777777778,\"#fb9f3a\"],[0.8888888888888888,\"#fdca26\"],[1.0,\"#f0f921\"]]}],\"heatmapgl\":[{\"type\":\"heatmapgl\",\"colorbar\":{\"outlinewidth\":0,\"ticks\":\"\"},\"colorscale\":[[0.0,\"#0d0887\"],[0.1111111111111111,\"#46039f\"],[0.2222222222222222,\"#7201a8\"],[0.3333333333333333,\"#9c179e\"],[0.4444444444444444,\"#bd3786\"],[0.5555555555555556,\"#d8576b\"],[0.6666666666666666,\"#ed7953\"],[0.7777777777777778,\"#fb9f3a\"],[0.8888888888888888,\"#fdca26\"],[1.0,\"#f0f921\"]]}],\"contourcarpet\":[{\"type\":\"contourcarpet\",\"colorbar\":{\"outlinewidth\":0,\"ticks\":\"\"}}],\"contour\":[{\"type\":\"contour\",\"colorbar\":{\"outlinewidth\":0,\"ticks\":\"\"},\"colorscale\":[[0.0,\"#0d0887\"],[0.1111111111111111,\"#46039f\"],[0.2222222222222222,\"#7201a8\"],[0.3333333333333333,\"#9c179e\"],[0.4444444444444444,\"#bd3786\"],[0.5555555555555556,\"#d8576b\"],[0.6666666666666666,\"#ed7953\"],[0.7777777777777778,\"#fb9f3a\"],[0.8888888888888888,\"#fdca26\"],[1.0,\"#f0f921\"]]}],\"surface\":[{\"type\":\"surface\",\"colorbar\":{\"outlinewidth\":0,\"ticks\":\"\"},\"colorscale\":[[0.0,\"#0d0887\"],[0.1111111111111111,\"#46039f\"],[0.2222222222222222,\"#7201a8\"],[0.3333333333333333,\"#9c179e\"],[0.4444444444444444,\"#bd3786\"],[0.5555555555555556,\"#d8576b\"],[0.6666666666666666,\"#ed7953\"],[0.7777777777777778,\"#fb9f3a\"],[0.8888888888888888,\"#fdca26\"],[1.0,\"#f0f921\"]]}],\"mesh3d\":[{\"type\":\"mesh3d\",\"colorbar\":{\"outlinewidth\":0,\"ticks\":\"\"}}],\"scatter\":[{\"fillpattern\":{\"fillmode\":\"overlay\",\"size\":10,\"solidity\":0.2},\"type\":\"scatter\"}],\"parcoords\":[{\"type\":\"parcoords\",\"line\":{\"colorbar\":{\"outlinewidth\":0,\"ticks\":\"\"}}}],\"scatterpolargl\":[{\"type\":\"scatterpolargl\",\"marker\":{\"colorbar\":{\"outlinewidth\":0,\"ticks\":\"\"}}}],\"bar\":[{\"error_x\":{\"color\":\"#2a3f5f\"},\"error_y\":{\"color\":\"#2a3f5f\"},\"marker\":{\"line\":{\"color\":\"#E5ECF6\",\"width\":0.5},\"pattern\":{\"fillmode\":\"overlay\",\"size\":10,\"solidity\":0.2}},\"type\":\"bar\"}],\"scattergeo\":[{\"type\":\"scattergeo\",\"marker\":{\"colorbar\":{\"outlinewidth\":0,\"ticks\":\"\"}}}],\"scatterpolar\":[{\"type\":\"scatterpolar\",\"marker\":{\"colorbar\":{\"outlinewidth\":0,\"ticks\":\"\"}}}],\"histogram\":[{\"marker\":{\"pattern\":{\"fillmode\":\"overlay\",\"size\":10,\"solidity\":0.2}},\"type\":\"histogram\"}],\"scattergl\":[{\"type\":\"scattergl\",\"marker\":{\"colorbar\":{\"outlinewidth\":0,\"ticks\":\"\"}}}],\"scatter3d\":[{\"type\":\"scatter3d\",\"line\":{\"colorbar\":{\"outlinewidth\":0,\"ticks\":\"\"}},\"marker\":{\"colorbar\":{\"outlinewidth\":0,\"ticks\":\"\"}}}],\"scattermapbox\":[{\"type\":\"scattermapbox\",\"marker\":{\"colorbar\":{\"outlinewidth\":0,\"ticks\":\"\"}}}],\"scatterternary\":[{\"type\":\"scatterternary\",\"marker\":{\"colorbar\":{\"outlinewidth\":0,\"ticks\":\"\"}}}],\"scattercarpet\":[{\"type\":\"scattercarpet\",\"marker\":{\"colorbar\":{\"outlinewidth\":0,\"ticks\":\"\"}}}],\"carpet\":[{\"aaxis\":{\"endlinecolor\":\"#2a3f5f\",\"gridcolor\":\"white\",\"linecolor\":\"white\",\"minorgridcolor\":\"white\",\"startlinecolor\":\"#2a3f5f\"},\"baxis\":{\"endlinecolor\":\"#2a3f5f\",\"gridcolor\":\"white\",\"linecolor\":\"white\",\"minorgridcolor\":\"white\",\"startlinecolor\":\"#2a3f5f\"},\"type\":\"carpet\"}],\"table\":[{\"cells\":{\"fill\":{\"color\":\"#EBF0F8\"},\"line\":{\"color\":\"white\"}},\"header\":{\"fill\":{\"color\":\"#C8D4E3\"},\"line\":{\"color\":\"white\"}},\"type\":\"table\"}],\"barpolar\":[{\"marker\":{\"line\":{\"color\":\"#E5ECF6\",\"width\":0.5},\"pattern\":{\"fillmode\":\"overlay\",\"size\":10,\"solidity\":0.2}},\"type\":\"barpolar\"}],\"pie\":[{\"automargin\":true,\"type\":\"pie\"}]},\"layout\":{\"autotypenumbers\":\"strict\",\"colorway\":[\"#636efa\",\"#EF553B\",\"#00cc96\",\"#ab63fa\",\"#FFA15A\",\"#19d3f3\",\"#FF6692\",\"#B6E880\",\"#FF97FF\",\"#FECB52\"],\"font\":{\"color\":\"#2a3f5f\"},\"hovermode\":\"closest\",\"hoverlabel\":{\"align\":\"left\"},\"paper_bgcolor\":\"white\",\"plot_bgcolor\":\"#E5ECF6\",\"polar\":{\"bgcolor\":\"#E5ECF6\",\"angularaxis\":{\"gridcolor\":\"white\",\"linecolor\":\"white\",\"ticks\":\"\"},\"radialaxis\":{\"gridcolor\":\"white\",\"linecolor\":\"white\",\"ticks\":\"\"}},\"ternary\":{\"bgcolor\":\"#E5ECF6\",\"aaxis\":{\"gridcolor\":\"white\",\"linecolor\":\"white\",\"ticks\":\"\"},\"baxis\":{\"gridcolor\":\"white\",\"linecolor\":\"white\",\"ticks\":\"\"},\"caxis\":{\"gridcolor\":\"white\",\"linecolor\":\"white\",\"ticks\":\"\"}},\"coloraxis\":{\"colorbar\":{\"outlinewidth\":0,\"ticks\":\"\"}},\"colorscale\":{\"sequential\":[[0.0,\"#0d0887\"],[0.1111111111111111,\"#46039f\"],[0.2222222222222222,\"#7201a8\"],[0.3333333333333333,\"#9c179e\"],[0.4444444444444444,\"#bd3786\"],[0.5555555555555556,\"#d8576b\"],[0.6666666666666666,\"#ed7953\"],[0.7777777777777778,\"#fb9f3a\"],[0.8888888888888888,\"#fdca26\"],[1.0,\"#f0f921\"]],\"sequentialminus\":[[0.0,\"#0d0887\"],[0.1111111111111111,\"#46039f\"],[0.2222222222222222,\"#7201a8\"],[0.3333333333333333,\"#9c179e\"],[0.4444444444444444,\"#bd3786\"],[0.5555555555555556,\"#d8576b\"],[0.6666666666666666,\"#ed7953\"],[0.7777777777777778,\"#fb9f3a\"],[0.8888888888888888,\"#fdca26\"],[1.0,\"#f0f921\"]],\"diverging\":[[0,\"#8e0152\"],[0.1,\"#c51b7d\"],[0.2,\"#de77ae\"],[0.3,\"#f1b6da\"],[0.4,\"#fde0ef\"],[0.5,\"#f7f7f7\"],[0.6,\"#e6f5d0\"],[0.7,\"#b8e186\"],[0.8,\"#7fbc41\"],[0.9,\"#4d9221\"],[1,\"#276419\"]]},\"xaxis\":{\"gridcolor\":\"white\",\"linecolor\":\"white\",\"ticks\":\"\",\"title\":{\"standoff\":15},\"zerolinecolor\":\"white\",\"automargin\":true,\"zerolinewidth\":2},\"yaxis\":{\"gridcolor\":\"white\",\"linecolor\":\"white\",\"ticks\":\"\",\"title\":{\"standoff\":15},\"zerolinecolor\":\"white\",\"automargin\":true,\"zerolinewidth\":2},\"scene\":{\"xaxis\":{\"backgroundcolor\":\"#E5ECF6\",\"gridcolor\":\"white\",\"linecolor\":\"white\",\"showbackground\":true,\"ticks\":\"\",\"zerolinecolor\":\"white\",\"gridwidth\":2},\"yaxis\":{\"backgroundcolor\":\"#E5ECF6\",\"gridcolor\":\"white\",\"linecolor\":\"white\",\"showbackground\":true,\"ticks\":\"\",\"zerolinecolor\":\"white\",\"gridwidth\":2},\"zaxis\":{\"backgroundcolor\":\"#E5ECF6\",\"gridcolor\":\"white\",\"linecolor\":\"white\",\"showbackground\":true,\"ticks\":\"\",\"zerolinecolor\":\"white\",\"gridwidth\":2}},\"shapedefaults\":{\"line\":{\"color\":\"#2a3f5f\"}},\"annotationdefaults\":{\"arrowcolor\":\"#2a3f5f\",\"arrowhead\":0,\"arrowwidth\":1},\"geo\":{\"bgcolor\":\"white\",\"landcolor\":\"#E5ECF6\",\"subunitcolor\":\"white\",\"showland\":true,\"showlakes\":true,\"lakecolor\":\"white\"},\"title\":{\"x\":0.05},\"mapbox\":{\"style\":\"light\"}}}},                        {\"responsive\": true}                    ).then(function(){\n",
       "                            \n",
       "var gd = document.getElementById('21c22d1e-5932-4f12-bbf6-127cbcbd7ed3');\n",
       "var x = new MutationObserver(function (mutations, observer) {{\n",
       "        var display = window.getComputedStyle(gd).display;\n",
       "        if (!display || display === 'none') {{\n",
       "            console.log([gd, 'removed!']);\n",
       "            Plotly.purge(gd);\n",
       "            observer.disconnect();\n",
       "        }}\n",
       "}});\n",
       "\n",
       "// Listen for the removal of the full notebook cells\n",
       "var notebookContainer = gd.closest('#notebook-container');\n",
       "if (notebookContainer) {{\n",
       "    x.observe(notebookContainer, {childList: true});\n",
       "}}\n",
       "\n",
       "// Listen for the clearing of the current output cell\n",
       "var outputEl = gd.closest('.output');\n",
       "if (outputEl) {{\n",
       "    x.observe(outputEl, {childList: true});\n",
       "}}\n",
       "\n",
       "                        })                };                });            </script>        </div>"
      ]
     },
     "metadata": {},
     "output_type": "display_data"
    }
   ],
   "source": [
    "optuna.visualization.plot_param_importances(study)"
   ]
  },
  {
   "cell_type": "code",
   "execution_count": 22,
   "id": "6e55e14e",
   "metadata": {
    "execution": {
     "iopub.execute_input": "2024-07-16T16:06:46.588933Z",
     "iopub.status.busy": "2024-07-16T16:06:46.588520Z",
     "iopub.status.idle": "2024-07-16T16:06:47.558656Z",
     "shell.execute_reply": "2024-07-16T16:06:47.557351Z"
    },
    "papermill": {
     "duration": 0.987577,
     "end_time": "2024-07-16T16:06:47.561638",
     "exception": false,
     "start_time": "2024-07-16T16:06:46.574061",
     "status": "completed"
    },
    "tags": []
   },
   "outputs": [
    {
     "data": {
      "text/plain": [
       "<Axes: title={'center': 'Feature importance'}, xlabel='Feature importance', ylabel='Features'>"
      ]
     },
     "execution_count": 22,
     "metadata": {},
     "output_type": "execute_result"
    },
    {
     "data": {
      "image/png": "[encoded data removed]",
      "text/plain": [
       "<Figure size 700x700 with 1 Axes>"
      ]
     },
     "metadata": {},
     "output_type": "display_data"
    }
   ],
   "source": [
    "lgb.plot_importance(model, figsize=(7,7))"
   ]
  },
  {
   "cell_type": "code",
   "execution_count": 23,
   "id": "8ebc36e9",
   "metadata": {
    "execution": {
     "iopub.execute_input": "2024-07-16T16:06:47.593104Z",
     "iopub.status.busy": "2024-07-16T16:06:47.592633Z",
     "iopub.status.idle": "2024-07-16T16:06:47.942876Z",
     "shell.execute_reply": "2024-07-16T16:06:47.941384Z"
    },
    "papermill": {
     "duration": 0.369324,
     "end_time": "2024-07-16T16:06:47.945826",
     "exception": false,
     "start_time": "2024-07-16T16:06:47.576502",
     "status": "completed"
    },
    "tags": []
   },
   "outputs": [
    {
     "data": {
      "text/plain": [
       "<Axes: title={'center': 'Metric during training'}, xlabel='Iterations', ylabel='l1'>"
      ]
     },
     "execution_count": 23,
     "metadata": {},
     "output_type": "execute_result"
    },
    {
     "data": {
      "image/png": "[encoded data removed]",
      "text/plain": [
       "<Figure size 640x480 with 1 Axes>"
      ]
     },
     "metadata": {},
     "output_type": "display_data"
    }
   ],
   "source": [
    "lgb.plot_metric(model,\n",
    "                metric='l1')"
   ]
  },
  {
   "cell_type": "code",
   "execution_count": 24,
   "id": "d59f35d4",
   "metadata": {
    "execution": {
     "iopub.execute_input": "2024-07-16T16:06:47.979708Z",
     "iopub.status.busy": "2024-07-16T16:06:47.979304Z",
     "iopub.status.idle": "2024-07-16T16:06:48.094209Z",
     "shell.execute_reply": "2024-07-16T16:06:48.093027Z"
    },
    "papermill": {
     "duration": 0.135067,
     "end_time": "2024-07-16T16:06:48.097098",
     "exception": false,
     "start_time": "2024-07-16T16:06:47.962031",
     "status": "completed"
    },
    "tags": []
   },
   "outputs": [
    {
     "data": {
      "text/html": [
       "<style>#sk-container-id-3 {color: black;background-color: white;}#sk-container-id-3 pre{padding: 0;}#sk-container-id-3 div.sk-toggleable {background-color: white;}#sk-container-id-3 label.sk-toggleable__label {cursor: pointer;display: block;width: 100%;margin-bottom: 0;padding: 0.3em;box-sizing: border-box;text-align: center;}#sk-container-id-3 label.sk-toggleable__label-arrow:before {content: \"▸\";float: left;margin-right: 0.25em;color: #696969;}#sk-container-id-3 label.sk-toggleable__label-arrow:hover:before {color: black;}#sk-container-id-3 div.sk-estimator:hover label.sk-toggleable__label-arrow:before {color: black;}#sk-container-id-3 div.sk-toggleable__content {max-height: 0;max-width: 0;overflow: hidden;text-align: left;background-color: #f0f8ff;}#sk-container-id-3 div.sk-toggleable__content pre {margin: 0.2em;color: black;border-radius: 0.25em;background-color: #f0f8ff;}#sk-container-id-3 input.sk-toggleable__control:checked~div.sk-toggleable__content {max-height: 200px;max-width: 100%;overflow: auto;}#sk-container-id-3 input.sk-toggleable__control:checked~label.sk-toggleable__label-arrow:before {content: \"▾\";}#sk-container-id-3 div.sk-estimator input.sk-toggleable__control:checked~label.sk-toggleable__label {background-color: #d4ebff;}#sk-container-id-3 div.sk-label input.sk-toggleable__control:checked~label.sk-toggleable__label {background-color: #d4ebff;}#sk-container-id-3 input.sk-hidden--visually {border: 0;clip: rect(1px 1px 1px 1px);clip: rect(1px, 1px, 1px, 1px);height: 1px;margin: -1px;overflow: hidden;padding: 0;position: absolute;width: 1px;}#sk-container-id-3 div.sk-estimator {font-family: monospace;background-color: #f0f8ff;border: 1px dotted black;border-radius: 0.25em;box-sizing: border-box;margin-bottom: 0.5em;}#sk-container-id-3 div.sk-estimator:hover {background-color: #d4ebff;}#sk-container-id-3 div.sk-parallel-item::after {content: \"\";width: 100%;border-bottom: 1px solid gray;flex-grow: 1;}#sk-container-id-3 div.sk-label:hover label.sk-toggleable__label {background-color: #d4ebff;}#sk-container-id-3 div.sk-serial::before {content: \"\";position: absolute;border-left: 1px solid gray;box-sizing: border-box;top: 0;bottom: 0;left: 50%;z-index: 0;}#sk-container-id-3 div.sk-serial {display: flex;flex-direction: column;align-items: center;background-color: white;padding-right: 0.2em;padding-left: 0.2em;position: relative;}#sk-container-id-3 div.sk-item {position: relative;z-index: 1;}#sk-container-id-3 div.sk-parallel {display: flex;align-items: stretch;justify-content: center;background-color: white;position: relative;}#sk-container-id-3 div.sk-item::before, #sk-container-id-3 div.sk-parallel-item::before {content: \"\";position: absolute;border-left: 1px solid gray;box-sizing: border-box;top: 0;bottom: 0;left: 50%;z-index: -1;}#sk-container-id-3 div.sk-parallel-item {display: flex;flex-direction: column;z-index: 1;position: relative;background-color: white;}#sk-container-id-3 div.sk-parallel-item:first-child::after {align-self: flex-end;width: 50%;}#sk-container-id-3 div.sk-parallel-item:last-child::after {align-self: flex-start;width: 50%;}#sk-container-id-3 div.sk-parallel-item:only-child::after {width: 0;}#sk-container-id-3 div.sk-dashed-wrapped {border: 1px dashed gray;margin: 0 0.4em 0.5em 0.4em;box-sizing: border-box;padding-bottom: 0.4em;background-color: white;}#sk-container-id-3 div.sk-label label {font-family: monospace;font-weight: bold;display: inline-block;line-height: 1.2em;}#sk-container-id-3 div.sk-label-container {text-align: center;}#sk-container-id-3 div.sk-container {/* jupyter's `normalize.less` sets `[hidden] { display: none; }` but bootstrap.min.css set `[hidden] { display: none !important; }` so we also need the `!important` here to be able to override the default hidden behavior on the sphinx rendered scikit-learn.org. See: https://github.com/scikit-learn/scikit-learn/issues/21755 */display: inline-block !important;position: relative;}#sk-container-id-3 div.sk-text-repr-fallback {display: none;}</style><div id=\"sk-container-id-3\" class=\"sk-top-container\"><div class=\"sk-text-repr-fallback\"><pre>Pipeline(steps=[(&#x27;prep&#x27;,\n",
       "                 ColumnTransformer(transformers=[(&#x27;num&#x27;,\n",
       "                                                  Pipeline(steps=[(&#x27;imputer&#x27;,\n",
       "                                                                   SimpleImputer(strategy=&#x27;median&#x27;))]),\n",
       "                                                  Index([&#x27;Caloric Value&#x27;, &#x27;Fat&#x27;, &#x27;Saturated Fats&#x27;, &#x27;Monounsaturated Fats&#x27;,\n",
       "       &#x27;Polyunsaturated Fats&#x27;, &#x27;Carbohydrates&#x27;, &#x27;Sugars&#x27;, &#x27;Protein&#x27;,\n",
       "       &#x27;Dietary Fiber&#x27;, &#x27;Cholesterol&#x27;, &#x27;Sodium&#x27;, &#x27;Water&#x27;, &#x27;Vitamin A&#x27;,\n",
       "       &#x27;Vitamin B1&#x27;, &#x27;Vitamin B11&#x27;, &#x27;Vitamin B12&#x27;, &#x27;Vitam...\n",
       "                               min_data_in_leaf=24, min_data_per_group=40,\n",
       "                               min_gain_to_split=0.08650778774210455,\n",
       "                               min_sum_hessian_in_leaf=8.22051818136899,\n",
       "                               n_estimator=1000, n_estimators=153,\n",
       "                               num_leaves=153, other_rate=0.059309435485147145,\n",
       "                               path_smooth=0.15031608076346037,\n",
       "                               scale_pos_weight=9.982579407068018,\n",
       "                               top_rate=0.708125028356839,\n",
       "                               tweedie_variance_power=1.2200790528143706,\n",
       "                               verbose=-1))])</pre><b>In a Jupyter environment, please rerun this cell to show the HTML representation or trust the notebook. <br />On GitHub, the HTML representation is unable to render, please try loading this page with nbviewer.org.</b></div><div class=\"sk-container\" hidden><div class=\"sk-item sk-dashed-wrapped\"><div class=\"sk-label-container\"><div class=\"sk-label sk-toggleable\"><input class=\"sk-toggleable__control sk-hidden--visually\" id=\"sk-estimator-id-8\" type=\"checkbox\" ><label for=\"sk-estimator-id-8\" class=\"sk-toggleable__label sk-toggleable__label-arrow\">Pipeline</label><div class=\"sk-toggleable__content\"><pre>Pipeline(steps=[(&#x27;prep&#x27;,\n",
       "                 ColumnTransformer(transformers=[(&#x27;num&#x27;,\n",
       "                                                  Pipeline(steps=[(&#x27;imputer&#x27;,\n",
       "                                                                   SimpleImputer(strategy=&#x27;median&#x27;))]),\n",
       "                                                  Index([&#x27;Caloric Value&#x27;, &#x27;Fat&#x27;, &#x27;Saturated Fats&#x27;, &#x27;Monounsaturated Fats&#x27;,\n",
       "       &#x27;Polyunsaturated Fats&#x27;, &#x27;Carbohydrates&#x27;, &#x27;Sugars&#x27;, &#x27;Protein&#x27;,\n",
       "       &#x27;Dietary Fiber&#x27;, &#x27;Cholesterol&#x27;, &#x27;Sodium&#x27;, &#x27;Water&#x27;, &#x27;Vitamin A&#x27;,\n",
       "       &#x27;Vitamin B1&#x27;, &#x27;Vitamin B11&#x27;, &#x27;Vitamin B12&#x27;, &#x27;Vitam...\n",
       "                               min_data_in_leaf=24, min_data_per_group=40,\n",
       "                               min_gain_to_split=0.08650778774210455,\n",
       "                               min_sum_hessian_in_leaf=8.22051818136899,\n",
       "                               n_estimator=1000, n_estimators=153,\n",
       "                               num_leaves=153, other_rate=0.059309435485147145,\n",
       "                               path_smooth=0.15031608076346037,\n",
       "                               scale_pos_weight=9.982579407068018,\n",
       "                               top_rate=0.708125028356839,\n",
       "                               tweedie_variance_power=1.2200790528143706,\n",
       "                               verbose=-1))])</pre></div></div></div><div class=\"sk-serial\"><div class=\"sk-item sk-dashed-wrapped\"><div class=\"sk-label-container\"><div class=\"sk-label sk-toggleable\"><input class=\"sk-toggleable__control sk-hidden--visually\" id=\"sk-estimator-id-9\" type=\"checkbox\" ><label for=\"sk-estimator-id-9\" class=\"sk-toggleable__label sk-toggleable__label-arrow\">prep: ColumnTransformer</label><div class=\"sk-toggleable__content\"><pre>ColumnTransformer(transformers=[(&#x27;num&#x27;,\n",
       "                                 Pipeline(steps=[(&#x27;imputer&#x27;,\n",
       "                                                  SimpleImputer(strategy=&#x27;median&#x27;))]),\n",
       "                                 Index([&#x27;Caloric Value&#x27;, &#x27;Fat&#x27;, &#x27;Saturated Fats&#x27;, &#x27;Monounsaturated Fats&#x27;,\n",
       "       &#x27;Polyunsaturated Fats&#x27;, &#x27;Carbohydrates&#x27;, &#x27;Sugars&#x27;, &#x27;Protein&#x27;,\n",
       "       &#x27;Dietary Fiber&#x27;, &#x27;Cholesterol&#x27;, &#x27;Sodium&#x27;, &#x27;Water&#x27;, &#x27;Vitamin A&#x27;,\n",
       "       &#x27;Vitamin B1&#x27;, &#x27;Vitamin B11&#x27;, &#x27;Vitamin B12&#x27;, &#x27;Vitamin B2&#x27;, &#x27;Vitamin B3&#x27;,\n",
       "       &#x27;Vitam...n B6&#x27;, &#x27;Vitamin C&#x27;, &#x27;Vitamin D&#x27;, &#x27;Vitamin E&#x27;,\n",
       "       &#x27;Vitamin K&#x27;, &#x27;Calcium&#x27;, &#x27;Copper&#x27;, &#x27;Iron&#x27;, &#x27;Magnesium&#x27;, &#x27;Manganese&#x27;,\n",
       "       &#x27;Phosphorus&#x27;, &#x27;Potassium&#x27;, &#x27;Selenium&#x27;, &#x27;Zinc&#x27;],\n",
       "      dtype=&#x27;object&#x27;)),\n",
       "                                (&#x27;cat&#x27;,\n",
       "                                 Pipeline(steps=[(&#x27;imputer&#x27;,\n",
       "                                                  SimpleImputer(strategy=&#x27;most_frequent&#x27;)),\n",
       "                                                 (&#x27;encoder&#x27;,\n",
       "                                                  OrdinalEncoder(handle_unknown=&#x27;use_encoded_value&#x27;,\n",
       "                                                                 unknown_value=-1))]),\n",
       "                                 Index([&#x27;food&#x27;], dtype=&#x27;object&#x27;))])</pre></div></div></div><div class=\"sk-parallel\"><div class=\"sk-parallel-item\"><div class=\"sk-item\"><div class=\"sk-label-container\"><div class=\"sk-label sk-toggleable\"><input class=\"sk-toggleable__control sk-hidden--visually\" id=\"sk-estimator-id-10\" type=\"checkbox\" ><label for=\"sk-estimator-id-10\" class=\"sk-toggleable__label sk-toggleable__label-arrow\">num</label><div class=\"sk-toggleable__content\"><pre>Index([&#x27;Caloric Value&#x27;, &#x27;Fat&#x27;, &#x27;Saturated Fats&#x27;, &#x27;Monounsaturated Fats&#x27;,\n",
       "       &#x27;Polyunsaturated Fats&#x27;, &#x27;Carbohydrates&#x27;, &#x27;Sugars&#x27;, &#x27;Protein&#x27;,\n",
       "       &#x27;Dietary Fiber&#x27;, &#x27;Cholesterol&#x27;, &#x27;Sodium&#x27;, &#x27;Water&#x27;, &#x27;Vitamin A&#x27;,\n",
       "       &#x27;Vitamin B1&#x27;, &#x27;Vitamin B11&#x27;, &#x27;Vitamin B12&#x27;, &#x27;Vitamin B2&#x27;, &#x27;Vitamin B3&#x27;,\n",
       "       &#x27;Vitamin B5&#x27;, &#x27;Vitamin B6&#x27;, &#x27;Vitamin C&#x27;, &#x27;Vitamin D&#x27;, &#x27;Vitamin E&#x27;,\n",
       "       &#x27;Vitamin K&#x27;, &#x27;Calcium&#x27;, &#x27;Copper&#x27;, &#x27;Iron&#x27;, &#x27;Magnesium&#x27;, &#x27;Manganese&#x27;,\n",
       "       &#x27;Phosphorus&#x27;, &#x27;Potassium&#x27;, &#x27;Selenium&#x27;, &#x27;Zinc&#x27;],\n",
       "      dtype=&#x27;object&#x27;)</pre></div></div></div><div class=\"sk-serial\"><div class=\"sk-item\"><div class=\"sk-serial\"><div class=\"sk-item\"><div class=\"sk-estimator sk-toggleable\"><input class=\"sk-toggleable__control sk-hidden--visually\" id=\"sk-estimator-id-11\" type=\"checkbox\" ><label for=\"sk-estimator-id-11\" class=\"sk-toggleable__label sk-toggleable__label-arrow\">SimpleImputer</label><div class=\"sk-toggleable__content\"><pre>SimpleImputer(strategy=&#x27;median&#x27;)</pre></div></div></div></div></div></div></div></div><div class=\"sk-parallel-item\"><div class=\"sk-item\"><div class=\"sk-label-container\"><div class=\"sk-label sk-toggleable\"><input class=\"sk-toggleable__control sk-hidden--visually\" id=\"sk-estimator-id-12\" type=\"checkbox\" ><label for=\"sk-estimator-id-12\" class=\"sk-toggleable__label sk-toggleable__label-arrow\">cat</label><div class=\"sk-toggleable__content\"><pre>Index([&#x27;food&#x27;], dtype=&#x27;object&#x27;)</pre></div></div></div><div class=\"sk-serial\"><div class=\"sk-item\"><div class=\"sk-serial\"><div class=\"sk-item\"><div class=\"sk-estimator sk-toggleable\"><input class=\"sk-toggleable__control sk-hidden--visually\" id=\"sk-estimator-id-13\" type=\"checkbox\" ><label for=\"sk-estimator-id-13\" class=\"sk-toggleable__label sk-toggleable__label-arrow\">SimpleImputer</label><div class=\"sk-toggleable__content\"><pre>SimpleImputer(strategy=&#x27;most_frequent&#x27;)</pre></div></div></div><div class=\"sk-item\"><div class=\"sk-estimator sk-toggleable\"><input class=\"sk-toggleable__control sk-hidden--visually\" id=\"sk-estimator-id-14\" type=\"checkbox\" ><label for=\"sk-estimator-id-14\" class=\"sk-toggleable__label sk-toggleable__label-arrow\">OrdinalEncoder</label><div class=\"sk-toggleable__content\"><pre>OrdinalEncoder(handle_unknown=&#x27;use_encoded_value&#x27;, unknown_value=-1)</pre></div></div></div></div></div></div></div></div></div></div><div class=\"sk-item\"><div class=\"sk-estimator sk-toggleable\"><input class=\"sk-toggleable__control sk-hidden--visually\" id=\"sk-estimator-id-15\" type=\"checkbox\" ><label for=\"sk-estimator-id-15\" class=\"sk-toggleable__label sk-toggleable__label-arrow\">LGBMRegressor</label><div class=\"sk-toggleable__content\"><pre>LGBMRegressor(boosting_type=&#x27;rf&#x27;, cat_l2=8.40960115651051,\n",
       "              cat_smooth=1.9302856720471997, early_stopping_round=30,\n",
       "              feature_fraction=0.8696046449823537,\n",
       "              feature_fraction_bynode=0.6274630322537907, force_col_wise=False,\n",
       "              is_unbalance=False, lambda_l1=6.498965256323587e-07,\n",
       "              lambda_l2=0.01319514705909233, learning_rate=0.0890530000187336,\n",
       "              max_bin=87, max_cat_thresh...\n",
       "              max_cat_trees=63, max_depth=23, min_data_in_leaf=24,\n",
       "              min_data_per_group=40, min_gain_to_split=0.08650778774210455,\n",
       "              min_sum_hessian_in_leaf=8.22051818136899, n_estimator=1000,\n",
       "              n_estimators=153, num_leaves=153, other_rate=0.059309435485147145,\n",
       "              path_smooth=0.15031608076346037,\n",
       "              scale_pos_weight=9.982579407068018, top_rate=0.708125028356839,\n",
       "              tweedie_variance_power=1.2200790528143706, verbose=-1)</pre></div></div></div></div></div></div></div>"
      ],
      "text/plain": [
       "Pipeline(steps=[('prep',\n",
       "                 ColumnTransformer(transformers=[('num',\n",
       "                                                  Pipeline(steps=[('imputer',\n",
       "                                                                   SimpleImputer(strategy='median'))]),\n",
       "                                                  Index(['Caloric Value', 'Fat', 'Saturated Fats', 'Monounsaturated Fats',\n",
       "       'Polyunsaturated Fats', 'Carbohydrates', 'Sugars', 'Protein',\n",
       "       'Dietary Fiber', 'Cholesterol', 'Sodium', 'Water', 'Vitamin A',\n",
       "       'Vitamin B1', 'Vitamin B11', 'Vitamin B12', 'Vitam...\n",
       "                               min_data_in_leaf=24, min_data_per_group=40,\n",
       "                               min_gain_to_split=0.08650778774210455,\n",
       "                               min_sum_hessian_in_leaf=8.22051818136899,\n",
       "                               n_estimator=1000, n_estimators=153,\n",
       "                               num_leaves=153, other_rate=0.059309435485147145,\n",
       "                               path_smooth=0.15031608076346037,\n",
       "                               scale_pos_weight=9.982579407068018,\n",
       "                               top_rate=0.708125028356839,\n",
       "                               tweedie_variance_power=1.2200790528143706,\n",
       "                               verbose=-1))])"
      ]
     },
     "execution_count": 24,
     "metadata": {},
     "output_type": "execute_result"
    }
   ],
   "source": [
    "model = Pipeline(\n",
    "    [(\"prep\", preprocessor),\n",
    "     (\"model\", model)\n",
    "     ]\n",
    ")\n",
    "\n",
    "model"
   ]
  },
  {
   "cell_type": "code",
   "execution_count": 25,
   "id": "7abee289",
   "metadata": {
    "execution": {
     "iopub.execute_input": "2024-07-16T16:06:48.130506Z",
     "iopub.status.busy": "2024-07-16T16:06:48.130110Z",
     "iopub.status.idle": "2024-07-16T16:06:48.167524Z",
     "shell.execute_reply": "2024-07-16T16:06:48.166323Z"
    },
    "papermill": {
     "duration": 0.057289,
     "end_time": "2024-07-16T16:06:48.170228",
     "exception": false,
     "start_time": "2024-07-16T16:06:48.112939",
     "status": "completed"
    },
    "tags": []
   },
   "outputs": [
    {
     "data": {
      "text/plain": [
       "['my_model.pkl']"
      ]
     },
     "execution_count": 25,
     "metadata": {},
     "output_type": "execute_result"
    }
   ],
   "source": [
    "joblib.dump(model, 'my_model.pkl')"
   ]
  },
  {
   "cell_type": "code",
   "execution_count": 26,
   "id": "25c8f619",
   "metadata": {
    "execution": {
     "iopub.execute_input": "2024-07-16T16:06:48.203979Z",
     "iopub.status.busy": "2024-07-16T16:06:48.203566Z",
     "iopub.status.idle": "2024-07-16T16:06:48.327215Z",
     "shell.execute_reply": "2024-07-16T16:06:48.326025Z"
    },
    "papermill": {
     "duration": 0.143856,
     "end_time": "2024-07-16T16:06:48.330047",
     "exception": false,
     "start_time": "2024-07-16T16:06:48.186191",
     "status": "completed"
    },
    "tags": []
   },
   "outputs": [
    {
     "data": {
      "text/html": [
       "<style>#sk-container-id-4 {color: black;background-color: white;}#sk-container-id-4 pre{padding: 0;}#sk-container-id-4 div.sk-toggleable {background-color: white;}#sk-container-id-4 label.sk-toggleable__label {cursor: pointer;display: block;width: 100%;margin-bottom: 0;padding: 0.3em;box-sizing: border-box;text-align: center;}#sk-container-id-4 label.sk-toggleable__label-arrow:before {content: \"▸\";float: left;margin-right: 0.25em;color: #696969;}#sk-container-id-4 label.sk-toggleable__label-arrow:hover:before {color: black;}#sk-container-id-4 div.sk-estimator:hover label.sk-toggleable__label-arrow:before {color: black;}#sk-container-id-4 div.sk-toggleable__content {max-height: 0;max-width: 0;overflow: hidden;text-align: left;background-color: #f0f8ff;}#sk-container-id-4 div.sk-toggleable__content pre {margin: 0.2em;color: black;border-radius: 0.25em;background-color: #f0f8ff;}#sk-container-id-4 input.sk-toggleable__control:checked~div.sk-toggleable__content {max-height: 200px;max-width: 100%;overflow: auto;}#sk-container-id-4 input.sk-toggleable__control:checked~label.sk-toggleable__label-arrow:before {content: \"▾\";}#sk-container-id-4 div.sk-estimator input.sk-toggleable__control:checked~label.sk-toggleable__label {background-color: #d4ebff;}#sk-container-id-4 div.sk-label input.sk-toggleable__control:checked~label.sk-toggleable__label {background-color: #d4ebff;}#sk-container-id-4 input.sk-hidden--visually {border: 0;clip: rect(1px 1px 1px 1px);clip: rect(1px, 1px, 1px, 1px);height: 1px;margin: -1px;overflow: hidden;padding: 0;position: absolute;width: 1px;}#sk-container-id-4 div.sk-estimator {font-family: monospace;background-color: #f0f8ff;border: 1px dotted black;border-radius: 0.25em;box-sizing: border-box;margin-bottom: 0.5em;}#sk-container-id-4 div.sk-estimator:hover {background-color: #d4ebff;}#sk-container-id-4 div.sk-parallel-item::after {content: \"\";width: 100%;border-bottom: 1px solid gray;flex-grow: 1;}#sk-container-id-4 div.sk-label:hover label.sk-toggleable__label {background-color: #d4ebff;}#sk-container-id-4 div.sk-serial::before {content: \"\";position: absolute;border-left: 1px solid gray;box-sizing: border-box;top: 0;bottom: 0;left: 50%;z-index: 0;}#sk-container-id-4 div.sk-serial {display: flex;flex-direction: column;align-items: center;background-color: white;padding-right: 0.2em;padding-left: 0.2em;position: relative;}#sk-container-id-4 div.sk-item {position: relative;z-index: 1;}#sk-container-id-4 div.sk-parallel {display: flex;align-items: stretch;justify-content: center;background-color: white;position: relative;}#sk-container-id-4 div.sk-item::before, #sk-container-id-4 div.sk-parallel-item::before {content: \"\";position: absolute;border-left: 1px solid gray;box-sizing: border-box;top: 0;bottom: 0;left: 50%;z-index: -1;}#sk-container-id-4 div.sk-parallel-item {display: flex;flex-direction: column;z-index: 1;position: relative;background-color: white;}#sk-container-id-4 div.sk-parallel-item:first-child::after {align-self: flex-end;width: 50%;}#sk-container-id-4 div.sk-parallel-item:last-child::after {align-self: flex-start;width: 50%;}#sk-container-id-4 div.sk-parallel-item:only-child::after {width: 0;}#sk-container-id-4 div.sk-dashed-wrapped {border: 1px dashed gray;margin: 0 0.4em 0.5em 0.4em;box-sizing: border-box;padding-bottom: 0.4em;background-color: white;}#sk-container-id-4 div.sk-label label {font-family: monospace;font-weight: bold;display: inline-block;line-height: 1.2em;}#sk-container-id-4 div.sk-label-container {text-align: center;}#sk-container-id-4 div.sk-container {/* jupyter's `normalize.less` sets `[hidden] { display: none; }` but bootstrap.min.css set `[hidden] { display: none !important; }` so we also need the `!important` here to be able to override the default hidden behavior on the sphinx rendered scikit-learn.org. See: https://github.com/scikit-learn/scikit-learn/issues/21755 */display: inline-block !important;position: relative;}#sk-container-id-4 div.sk-text-repr-fallback {display: none;}</style><div id=\"sk-container-id-4\" class=\"sk-top-container\"><div class=\"sk-text-repr-fallback\"><pre>Pipeline(steps=[(&#x27;prep&#x27;,\n",
       "                 ColumnTransformer(transformers=[(&#x27;num&#x27;,\n",
       "                                                  Pipeline(steps=[(&#x27;imputer&#x27;,\n",
       "                                                                   SimpleImputer(strategy=&#x27;median&#x27;))]),\n",
       "                                                  Index([&#x27;Caloric Value&#x27;, &#x27;Fat&#x27;, &#x27;Saturated Fats&#x27;, &#x27;Monounsaturated Fats&#x27;,\n",
       "       &#x27;Polyunsaturated Fats&#x27;, &#x27;Carbohydrates&#x27;, &#x27;Sugars&#x27;, &#x27;Protein&#x27;,\n",
       "       &#x27;Dietary Fiber&#x27;, &#x27;Cholesterol&#x27;, &#x27;Sodium&#x27;, &#x27;Water&#x27;, &#x27;Vitamin A&#x27;,\n",
       "       &#x27;Vitamin B1&#x27;, &#x27;Vitamin B11&#x27;, &#x27;Vitamin B12&#x27;, &#x27;Vitam...\n",
       "                               min_data_in_leaf=24, min_data_per_group=40,\n",
       "                               min_gain_to_split=0.08650778774210455,\n",
       "                               min_sum_hessian_in_leaf=8.22051818136899,\n",
       "                               n_estimator=1000, n_estimators=153,\n",
       "                               num_leaves=153, other_rate=0.059309435485147145,\n",
       "                               path_smooth=0.15031608076346037,\n",
       "                               scale_pos_weight=9.982579407068018,\n",
       "                               top_rate=0.708125028356839,\n",
       "                               tweedie_variance_power=1.2200790528143706,\n",
       "                               verbose=-1))])</pre><b>In a Jupyter environment, please rerun this cell to show the HTML representation or trust the notebook. <br />On GitHub, the HTML representation is unable to render, please try loading this page with nbviewer.org.</b></div><div class=\"sk-container\" hidden><div class=\"sk-item sk-dashed-wrapped\"><div class=\"sk-label-container\"><div class=\"sk-label sk-toggleable\"><input class=\"sk-toggleable__control sk-hidden--visually\" id=\"sk-estimator-id-16\" type=\"checkbox\" ><label for=\"sk-estimator-id-16\" class=\"sk-toggleable__label sk-toggleable__label-arrow\">Pipeline</label><div class=\"sk-toggleable__content\"><pre>Pipeline(steps=[(&#x27;prep&#x27;,\n",
       "                 ColumnTransformer(transformers=[(&#x27;num&#x27;,\n",
       "                                                  Pipeline(steps=[(&#x27;imputer&#x27;,\n",
       "                                                                   SimpleImputer(strategy=&#x27;median&#x27;))]),\n",
       "                                                  Index([&#x27;Caloric Value&#x27;, &#x27;Fat&#x27;, &#x27;Saturated Fats&#x27;, &#x27;Monounsaturated Fats&#x27;,\n",
       "       &#x27;Polyunsaturated Fats&#x27;, &#x27;Carbohydrates&#x27;, &#x27;Sugars&#x27;, &#x27;Protein&#x27;,\n",
       "       &#x27;Dietary Fiber&#x27;, &#x27;Cholesterol&#x27;, &#x27;Sodium&#x27;, &#x27;Water&#x27;, &#x27;Vitamin A&#x27;,\n",
       "       &#x27;Vitamin B1&#x27;, &#x27;Vitamin B11&#x27;, &#x27;Vitamin B12&#x27;, &#x27;Vitam...\n",
       "                               min_data_in_leaf=24, min_data_per_group=40,\n",
       "                               min_gain_to_split=0.08650778774210455,\n",
       "                               min_sum_hessian_in_leaf=8.22051818136899,\n",
       "                               n_estimator=1000, n_estimators=153,\n",
       "                               num_leaves=153, other_rate=0.059309435485147145,\n",
       "                               path_smooth=0.15031608076346037,\n",
       "                               scale_pos_weight=9.982579407068018,\n",
       "                               top_rate=0.708125028356839,\n",
       "                               tweedie_variance_power=1.2200790528143706,\n",
       "                               verbose=-1))])</pre></div></div></div><div class=\"sk-serial\"><div class=\"sk-item sk-dashed-wrapped\"><div class=\"sk-label-container\"><div class=\"sk-label sk-toggleable\"><input class=\"sk-toggleable__control sk-hidden--visually\" id=\"sk-estimator-id-17\" type=\"checkbox\" ><label for=\"sk-estimator-id-17\" class=\"sk-toggleable__label sk-toggleable__label-arrow\">prep: ColumnTransformer</label><div class=\"sk-toggleable__content\"><pre>ColumnTransformer(transformers=[(&#x27;num&#x27;,\n",
       "                                 Pipeline(steps=[(&#x27;imputer&#x27;,\n",
       "                                                  SimpleImputer(strategy=&#x27;median&#x27;))]),\n",
       "                                 Index([&#x27;Caloric Value&#x27;, &#x27;Fat&#x27;, &#x27;Saturated Fats&#x27;, &#x27;Monounsaturated Fats&#x27;,\n",
       "       &#x27;Polyunsaturated Fats&#x27;, &#x27;Carbohydrates&#x27;, &#x27;Sugars&#x27;, &#x27;Protein&#x27;,\n",
       "       &#x27;Dietary Fiber&#x27;, &#x27;Cholesterol&#x27;, &#x27;Sodium&#x27;, &#x27;Water&#x27;, &#x27;Vitamin A&#x27;,\n",
       "       &#x27;Vitamin B1&#x27;, &#x27;Vitamin B11&#x27;, &#x27;Vitamin B12&#x27;, &#x27;Vitamin B2&#x27;, &#x27;Vitamin B3&#x27;,\n",
       "       &#x27;Vitam...n B6&#x27;, &#x27;Vitamin C&#x27;, &#x27;Vitamin D&#x27;, &#x27;Vitamin E&#x27;,\n",
       "       &#x27;Vitamin K&#x27;, &#x27;Calcium&#x27;, &#x27;Copper&#x27;, &#x27;Iron&#x27;, &#x27;Magnesium&#x27;, &#x27;Manganese&#x27;,\n",
       "       &#x27;Phosphorus&#x27;, &#x27;Potassium&#x27;, &#x27;Selenium&#x27;, &#x27;Zinc&#x27;],\n",
       "      dtype=&#x27;object&#x27;)),\n",
       "                                (&#x27;cat&#x27;,\n",
       "                                 Pipeline(steps=[(&#x27;imputer&#x27;,\n",
       "                                                  SimpleImputer(strategy=&#x27;most_frequent&#x27;)),\n",
       "                                                 (&#x27;encoder&#x27;,\n",
       "                                                  OrdinalEncoder(handle_unknown=&#x27;use_encoded_value&#x27;,\n",
       "                                                                 unknown_value=-1))]),\n",
       "                                 Index([&#x27;food&#x27;], dtype=&#x27;object&#x27;))])</pre></div></div></div><div class=\"sk-parallel\"><div class=\"sk-parallel-item\"><div class=\"sk-item\"><div class=\"sk-label-container\"><div class=\"sk-label sk-toggleable\"><input class=\"sk-toggleable__control sk-hidden--visually\" id=\"sk-estimator-id-18\" type=\"checkbox\" ><label for=\"sk-estimator-id-18\" class=\"sk-toggleable__label sk-toggleable__label-arrow\">num</label><div class=\"sk-toggleable__content\"><pre>Index([&#x27;Caloric Value&#x27;, &#x27;Fat&#x27;, &#x27;Saturated Fats&#x27;, &#x27;Monounsaturated Fats&#x27;,\n",
       "       &#x27;Polyunsaturated Fats&#x27;, &#x27;Carbohydrates&#x27;, &#x27;Sugars&#x27;, &#x27;Protein&#x27;,\n",
       "       &#x27;Dietary Fiber&#x27;, &#x27;Cholesterol&#x27;, &#x27;Sodium&#x27;, &#x27;Water&#x27;, &#x27;Vitamin A&#x27;,\n",
       "       &#x27;Vitamin B1&#x27;, &#x27;Vitamin B11&#x27;, &#x27;Vitamin B12&#x27;, &#x27;Vitamin B2&#x27;, &#x27;Vitamin B3&#x27;,\n",
       "       &#x27;Vitamin B5&#x27;, &#x27;Vitamin B6&#x27;, &#x27;Vitamin C&#x27;, &#x27;Vitamin D&#x27;, &#x27;Vitamin E&#x27;,\n",
       "       &#x27;Vitamin K&#x27;, &#x27;Calcium&#x27;, &#x27;Copper&#x27;, &#x27;Iron&#x27;, &#x27;Magnesium&#x27;, &#x27;Manganese&#x27;,\n",
       "       &#x27;Phosphorus&#x27;, &#x27;Potassium&#x27;, &#x27;Selenium&#x27;, &#x27;Zinc&#x27;],\n",
       "      dtype=&#x27;object&#x27;)</pre></div></div></div><div class=\"sk-serial\"><div class=\"sk-item\"><div class=\"sk-serial\"><div class=\"sk-item\"><div class=\"sk-estimator sk-toggleable\"><input class=\"sk-toggleable__control sk-hidden--visually\" id=\"sk-estimator-id-19\" type=\"checkbox\" ><label for=\"sk-estimator-id-19\" class=\"sk-toggleable__label sk-toggleable__label-arrow\">SimpleImputer</label><div class=\"sk-toggleable__content\"><pre>SimpleImputer(strategy=&#x27;median&#x27;)</pre></div></div></div></div></div></div></div></div><div class=\"sk-parallel-item\"><div class=\"sk-item\"><div class=\"sk-label-container\"><div class=\"sk-label sk-toggleable\"><input class=\"sk-toggleable__control sk-hidden--visually\" id=\"sk-estimator-id-20\" type=\"checkbox\" ><label for=\"sk-estimator-id-20\" class=\"sk-toggleable__label sk-toggleable__label-arrow\">cat</label><div class=\"sk-toggleable__content\"><pre>Index([&#x27;food&#x27;], dtype=&#x27;object&#x27;)</pre></div></div></div><div class=\"sk-serial\"><div class=\"sk-item\"><div class=\"sk-serial\"><div class=\"sk-item\"><div class=\"sk-estimator sk-toggleable\"><input class=\"sk-toggleable__control sk-hidden--visually\" id=\"sk-estimator-id-21\" type=\"checkbox\" ><label for=\"sk-estimator-id-21\" class=\"sk-toggleable__label sk-toggleable__label-arrow\">SimpleImputer</label><div class=\"sk-toggleable__content\"><pre>SimpleImputer(strategy=&#x27;most_frequent&#x27;)</pre></div></div></div><div class=\"sk-item\"><div class=\"sk-estimator sk-toggleable\"><input class=\"sk-toggleable__control sk-hidden--visually\" id=\"sk-estimator-id-22\" type=\"checkbox\" ><label for=\"sk-estimator-id-22\" class=\"sk-toggleable__label sk-toggleable__label-arrow\">OrdinalEncoder</label><div class=\"sk-toggleable__content\"><pre>OrdinalEncoder(handle_unknown=&#x27;use_encoded_value&#x27;, unknown_value=-1)</pre></div></div></div></div></div></div></div></div></div></div><div class=\"sk-item\"><div class=\"sk-estimator sk-toggleable\"><input class=\"sk-toggleable__control sk-hidden--visually\" id=\"sk-estimator-id-23\" type=\"checkbox\" ><label for=\"sk-estimator-id-23\" class=\"sk-toggleable__label sk-toggleable__label-arrow\">LGBMRegressor</label><div class=\"sk-toggleable__content\"><pre>LGBMRegressor(boosting_type=&#x27;rf&#x27;, cat_l2=8.40960115651051,\n",
       "              cat_smooth=1.9302856720471997, early_stopping_round=30,\n",
       "              feature_fraction=0.8696046449823537,\n",
       "              feature_fraction_bynode=0.6274630322537907, force_col_wise=False,\n",
       "              is_unbalance=False, lambda_l1=6.498965256323587e-07,\n",
       "              lambda_l2=0.01319514705909233, learning_rate=0.0890530000187336,\n",
       "              max_bin=87, max_cat_thresh...\n",
       "              max_cat_trees=63, max_depth=23, min_data_in_leaf=24,\n",
       "              min_data_per_group=40, min_gain_to_split=0.08650778774210455,\n",
       "              min_sum_hessian_in_leaf=8.22051818136899, n_estimator=1000,\n",
       "              n_estimators=153, num_leaves=153, other_rate=0.059309435485147145,\n",
       "              path_smooth=0.15031608076346037,\n",
       "              scale_pos_weight=9.982579407068018, top_rate=0.708125028356839,\n",
       "              tweedie_variance_power=1.2200790528143706, verbose=-1)</pre></div></div></div></div></div></div></div>"
      ],
      "text/plain": [
       "Pipeline(steps=[('prep',\n",
       "                 ColumnTransformer(transformers=[('num',\n",
       "                                                  Pipeline(steps=[('imputer',\n",
       "                                                                   SimpleImputer(strategy='median'))]),\n",
       "                                                  Index(['Caloric Value', 'Fat', 'Saturated Fats', 'Monounsaturated Fats',\n",
       "       'Polyunsaturated Fats', 'Carbohydrates', 'Sugars', 'Protein',\n",
       "       'Dietary Fiber', 'Cholesterol', 'Sodium', 'Water', 'Vitamin A',\n",
       "       'Vitamin B1', 'Vitamin B11', 'Vitamin B12', 'Vitam...\n",
       "                               min_data_in_leaf=24, min_data_per_group=40,\n",
       "                               min_gain_to_split=0.08650778774210455,\n",
       "                               min_sum_hessian_in_leaf=8.22051818136899,\n",
       "                               n_estimator=1000, n_estimators=153,\n",
       "                               num_leaves=153, other_rate=0.059309435485147145,\n",
       "                               path_smooth=0.15031608076346037,\n",
       "                               scale_pos_weight=9.982579407068018,\n",
       "                               top_rate=0.708125028356839,\n",
       "                               tweedie_variance_power=1.2200790528143706,\n",
       "                               verbose=-1))])"
      ]
     },
     "execution_count": 26,
     "metadata": {},
     "output_type": "execute_result"
    }
   ],
   "source": [
    "load_model = joblib.load('my_model.pkl')\n",
    "load_model"
   ]
  }
 ],
 "metadata": {
  "kaggle": {
   "accelerator": "none",
   "dataSources": [
    {
     "datasetId": 5306169,
     "sourceId": 8820139,
     "sourceType": "datasetVersion"
    }
   ],
   "dockerImageVersionId": 30746,
   "isGpuEnabled": false,
   "isInternetEnabled": true,
   "language": "python",
   "sourceType": "notebook"
  },
  "kernelspec": {
   "display_name": "Python 3",
   "language": "python",
   "name": "python3"
  },
  "language_info": {
   "codemirror_mode": {
    "name": "ipython",
    "version": 3
   },
   "file_extension": ".py",
   "mimetype": "text/x-python",
   "name": "python",
   "nbconvert_exporter": "python",
   "pygments_lexer": "ipython3",
   "version": "3.10.13"
  },
  "papermill": {
   "default_parameters": {},
   "duration": 33.817241,
   "end_time": "2024-07-16T16:06:49.269914",
   "environment_variables": {},
   "exception": null,
   "input_path": "__notebook__.ipynb",
   "output_path": "__notebook__.ipynb",
   "parameters": {},
   "start_time": "2024-07-16T16:06:15.452673",
   "version": "2.5.0"
  }
 },
 "nbformat": 4,
 "nbformat_minor": 5
}
