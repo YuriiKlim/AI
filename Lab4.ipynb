{
  "nbformat": 4,
  "nbformat_minor": 0,
  "metadata": {
    "colab": {
      "provenance": [],
      "include_colab_link": true
    },
    "kernelspec": {
      "name": "python3",
      "display_name": "Python 3"
    },
    "language_info": {
      "name": "python"
    }
  },
  "cells": [
    {
      "cell_type": "markdown",
      "metadata": {
        "id": "view-in-github",
        "colab_type": "text"
      },
      "source": [
        "<a href=\"https://colab.research.google.com/github/YuriiKlim/AI/blob/neural_lesson4/Lab4.ipynb\" target=\"_parent\"><img src=\"https://colab.research.google.com/assets/colab-badge.svg\" alt=\"Open In Colab\"/></a>"
      ]
    },
    {
      "cell_type": "markdown",
      "source": [
        "Імпорт модулів"
      ],
      "metadata": {
        "id": "w1r0k1UheNCz"
      }
    },
    {
      "cell_type": "code",
      "execution_count": 111,
      "metadata": {
        "id": "4XxgJqCDoExm",
        "outputId": "aca06615-a210-4714-cf14-067843e991bc",
        "colab": {
          "base_uri": "https://localhost:8080/"
        }
      },
      "outputs": [
        {
          "output_type": "execute_result",
          "data": {
            "text/plain": [
              "<torch._C.Generator at 0x1b6ffc79190>"
            ]
          },
          "metadata": {},
          "execution_count": 111
        }
      ],
      "source": [
        "import torch\n",
        "import pandas as pd\n",
        "import os\n",
        "\n",
        "os.environ['CUDA_LAUNCH_BLOCKING'] = '1'\n",
        "os.environ['TORCH_USE_CUDA_DSA'] = '1'\n",
        "\n",
        "\n",
        "device = \"cuda\" if torch.cuda.is_available() else \"cpu\"\n",
        "torch.set_default_device(device)\n",
        "\n",
        "torch.manual_seed(0)"
      ]
    },
    {
      "cell_type": "markdown",
      "source": [
        "Дані про розпад протонів\n",
        "\n",
        "[посилання](https://www.kaggle.com/datasets/fedesoriano/multijet-primary-dataset)"
      ],
      "metadata": {
        "id": "Kpk2KycTeQEE"
      }
    },
    {
      "cell_type": "code",
      "source": [
        "# трохи обробки даних\n",
        "df = pd.read_csv('https://raw.githubusercontent.com/HalyshAnton/IT-Step-Pyton-AI/main/module3/data/MultiJetRun2010B.csv')\n",
        "\n",
        "df = df[df['nBJets'] != 2]\n",
        "\n",
        "columns = df.columns.delete(-1)\n",
        "data = df[columns]\n",
        "df[columns] = (data - data.min()) / (data.max() - data.min())"
      ],
      "metadata": {
        "id": "926S2f5pdnH6"
      },
      "execution_count": 112,
      "outputs": []
    },
    {
      "cell_type": "markdown",
      "source": [
        "Дані погано збалансовані"
      ],
      "metadata": {
        "id": "Mq24yRptMSrO"
      }
    },
    {
      "cell_type": "code",
      "source": [
        "df['nBJets'].value_counts()"
      ],
      "metadata": {
        "id": "X6CQ04GdKnuu",
        "outputId": "d044fb0e-6ddb-4fa6-f459-9798a528630b",
        "colab": {
          "base_uri": "https://localhost:8080/"
        }
      },
      "execution_count": 113,
      "outputs": [
        {
          "output_type": "execute_result",
          "data": {
            "text/plain": [
              "nBJets\n",
              "0    20615\n",
              "1     1056\n",
              "Name: count, dtype: int64"
            ]
          },
          "metadata": {},
          "execution_count": 113
        }
      ]
    },
    {
      "cell_type": "code",
      "source": [
        "df"
      ],
      "metadata": {
        "colab": {
          "base_uri": "https://localhost:8080/",
          "height": 424
        },
        "id": "eG6_dawddqwd",
        "outputId": "e72d55bf-8ed5-4d48-eb00-703232603d0b"
      },
      "execution_count": 114,
      "outputs": [
        {
          "output_type": "execute_result",
          "data": {
            "text/plain": [
              "            Run  Lumi     Event        MR       Rsq        E1       Px1  \\\n",
              "0      0.082072   0.0  0.000002  0.077191  0.041860  0.044618  0.342725   \n",
              "1      0.082072   0.0  0.000006  0.052182  0.055190  0.018690  0.493614   \n",
              "2      0.082072   0.0  0.000015  0.154156  0.035263  0.101251  0.540018   \n",
              "3      0.082072   0.0  0.000048  0.106599  0.123328  0.063472  0.306290   \n",
              "4      0.082072   0.0  0.000063  0.072599  0.024611  0.383563  0.508826   \n",
              "...         ...   ...       ...       ...       ...       ...       ...   \n",
              "21721  1.000000   1.0  0.999978  0.212416  0.025156  0.140492  0.463925   \n",
              "21722  1.000000   1.0  0.999990  0.127304  0.037219  0.070621  0.423669   \n",
              "21723  1.000000   1.0  0.999983  0.189029  0.001194  0.074007  0.380907   \n",
              "21724  1.000000   1.0  0.999999  0.077257  0.073102  0.292934  0.367161   \n",
              "21725  1.000000   1.0  0.999993  0.215234  0.001602  0.096014  0.580548   \n",
              "\n",
              "            Py1       Pz1        E2       Px2       Py2       Pz2        HT  \\\n",
              "0      0.531326  0.480732  0.055588  0.696681  0.457241  0.440224  0.061659   \n",
              "1      0.585784  0.491979  0.017684  0.567978  0.430552  0.474613  0.025133   \n",
              "2      0.671386  0.470196  0.273968  0.533484  0.338381  0.325311  0.165718   \n",
              "3      0.523352  0.483465  0.039306  0.713922  0.422854  0.493248  0.101707   \n",
              "4      0.564737  0.292545  0.224039  0.550834  0.433906  0.361549  0.110721   \n",
              "...         ...       ...       ...       ...       ...       ...       ...   \n",
              "21721  0.487819  0.523172  0.264163  0.621194  0.466781  0.329000  0.203114   \n",
              "21722  0.700663  0.527521  0.061225  0.627277  0.300568  0.451816  0.108329   \n",
              "21723  0.599091  0.522314  0.245323  0.676330  0.385055  0.338345  0.104850   \n",
              "21724  0.500285  0.650965  0.189329  0.706220  0.464775  0.580432  0.068832   \n",
              "21725  0.473465  0.486033  0.206860  0.474584  0.495769  0.575863  0.241435   \n",
              "\n",
              "            MET  nJets  nBJets  \n",
              "0      0.043047    0.0       0  \n",
              "1      0.034687    0.0       0  \n",
              "2      0.059381    0.2       0  \n",
              "3      0.108566    0.0       0  \n",
              "4      0.018941    0.2       0  \n",
              "...         ...    ...     ...  \n",
              "21721  0.118673    0.4       0  \n",
              "21722  0.054421    0.0       0  \n",
              "21723  0.008544    0.4       0  \n",
              "21724  0.049297    0.0       0  \n",
              "21725  0.004120    0.4       0  \n",
              "\n",
              "[21671 rows x 17 columns]"
            ],
            "text/html": [
              "<div>\n",
              "<style scoped>\n",
              "    .dataframe tbody tr th:only-of-type {\n",
              "        vertical-align: middle;\n",
              "    }\n",
              "\n",
              "    .dataframe tbody tr th {\n",
              "        vertical-align: top;\n",
              "    }\n",
              "\n",
              "    .dataframe thead th {\n",
              "        text-align: right;\n",
              "    }\n",
              "</style>\n",
              "<table border=\"1\" class=\"dataframe\">\n",
              "  <thead>\n",
              "    <tr style=\"text-align: right;\">\n",
              "      <th></th>\n",
              "      <th>Run</th>\n",
              "      <th>Lumi</th>\n",
              "      <th>Event</th>\n",
              "      <th>MR</th>\n",
              "      <th>Rsq</th>\n",
              "      <th>E1</th>\n",
              "      <th>Px1</th>\n",
              "      <th>Py1</th>\n",
              "      <th>Pz1</th>\n",
              "      <th>E2</th>\n",
              "      <th>Px2</th>\n",
              "      <th>Py2</th>\n",
              "      <th>Pz2</th>\n",
              "      <th>HT</th>\n",
              "      <th>MET</th>\n",
              "      <th>nJets</th>\n",
              "      <th>nBJets</th>\n",
              "    </tr>\n",
              "  </thead>\n",
              "  <tbody>\n",
              "    <tr>\n",
              "      <th>0</th>\n",
              "      <td>0.082072</td>\n",
              "      <td>0.0</td>\n",
              "      <td>0.000002</td>\n",
              "      <td>0.077191</td>\n",
              "      <td>0.041860</td>\n",
              "      <td>0.044618</td>\n",
              "      <td>0.342725</td>\n",
              "      <td>0.531326</td>\n",
              "      <td>0.480732</td>\n",
              "      <td>0.055588</td>\n",
              "      <td>0.696681</td>\n",
              "      <td>0.457241</td>\n",
              "      <td>0.440224</td>\n",
              "      <td>0.061659</td>\n",
              "      <td>0.043047</td>\n",
              "      <td>0.0</td>\n",
              "      <td>0</td>\n",
              "    </tr>\n",
              "    <tr>\n",
              "      <th>1</th>\n",
              "      <td>0.082072</td>\n",
              "      <td>0.0</td>\n",
              "      <td>0.000006</td>\n",
              "      <td>0.052182</td>\n",
              "      <td>0.055190</td>\n",
              "      <td>0.018690</td>\n",
              "      <td>0.493614</td>\n",
              "      <td>0.585784</td>\n",
              "      <td>0.491979</td>\n",
              "      <td>0.017684</td>\n",
              "      <td>0.567978</td>\n",
              "      <td>0.430552</td>\n",
              "      <td>0.474613</td>\n",
              "      <td>0.025133</td>\n",
              "      <td>0.034687</td>\n",
              "      <td>0.0</td>\n",
              "      <td>0</td>\n",
              "    </tr>\n",
              "    <tr>\n",
              "      <th>2</th>\n",
              "      <td>0.082072</td>\n",
              "      <td>0.0</td>\n",
              "      <td>0.000015</td>\n",
              "      <td>0.154156</td>\n",
              "      <td>0.035263</td>\n",
              "      <td>0.101251</td>\n",
              "      <td>0.540018</td>\n",
              "      <td>0.671386</td>\n",
              "      <td>0.470196</td>\n",
              "      <td>0.273968</td>\n",
              "      <td>0.533484</td>\n",
              "      <td>0.338381</td>\n",
              "      <td>0.325311</td>\n",
              "      <td>0.165718</td>\n",
              "      <td>0.059381</td>\n",
              "      <td>0.2</td>\n",
              "      <td>0</td>\n",
              "    </tr>\n",
              "    <tr>\n",
              "      <th>3</th>\n",
              "      <td>0.082072</td>\n",
              "      <td>0.0</td>\n",
              "      <td>0.000048</td>\n",
              "      <td>0.106599</td>\n",
              "      <td>0.123328</td>\n",
              "      <td>0.063472</td>\n",
              "      <td>0.306290</td>\n",
              "      <td>0.523352</td>\n",
              "      <td>0.483465</td>\n",
              "      <td>0.039306</td>\n",
              "      <td>0.713922</td>\n",
              "      <td>0.422854</td>\n",
              "      <td>0.493248</td>\n",
              "      <td>0.101707</td>\n",
              "      <td>0.108566</td>\n",
              "      <td>0.0</td>\n",
              "      <td>0</td>\n",
              "    </tr>\n",
              "    <tr>\n",
              "      <th>4</th>\n",
              "      <td>0.082072</td>\n",
              "      <td>0.0</td>\n",
              "      <td>0.000063</td>\n",
              "      <td>0.072599</td>\n",
              "      <td>0.024611</td>\n",
              "      <td>0.383563</td>\n",
              "      <td>0.508826</td>\n",
              "      <td>0.564737</td>\n",
              "      <td>0.292545</td>\n",
              "      <td>0.224039</td>\n",
              "      <td>0.550834</td>\n",
              "      <td>0.433906</td>\n",
              "      <td>0.361549</td>\n",
              "      <td>0.110721</td>\n",
              "      <td>0.018941</td>\n",
              "      <td>0.2</td>\n",
              "      <td>0</td>\n",
              "    </tr>\n",
              "    <tr>\n",
              "      <th>...</th>\n",
              "      <td>...</td>\n",
              "      <td>...</td>\n",
              "      <td>...</td>\n",
              "      <td>...</td>\n",
              "      <td>...</td>\n",
              "      <td>...</td>\n",
              "      <td>...</td>\n",
              "      <td>...</td>\n",
              "      <td>...</td>\n",
              "      <td>...</td>\n",
              "      <td>...</td>\n",
              "      <td>...</td>\n",
              "      <td>...</td>\n",
              "      <td>...</td>\n",
              "      <td>...</td>\n",
              "      <td>...</td>\n",
              "      <td>...</td>\n",
              "    </tr>\n",
              "    <tr>\n",
              "      <th>21721</th>\n",
              "      <td>1.000000</td>\n",
              "      <td>1.0</td>\n",
              "      <td>0.999978</td>\n",
              "      <td>0.212416</td>\n",
              "      <td>0.025156</td>\n",
              "      <td>0.140492</td>\n",
              "      <td>0.463925</td>\n",
              "      <td>0.487819</td>\n",
              "      <td>0.523172</td>\n",
              "      <td>0.264163</td>\n",
              "      <td>0.621194</td>\n",
              "      <td>0.466781</td>\n",
              "      <td>0.329000</td>\n",
              "      <td>0.203114</td>\n",
              "      <td>0.118673</td>\n",
              "      <td>0.4</td>\n",
              "      <td>0</td>\n",
              "    </tr>\n",
              "    <tr>\n",
              "      <th>21722</th>\n",
              "      <td>1.000000</td>\n",
              "      <td>1.0</td>\n",
              "      <td>0.999990</td>\n",
              "      <td>0.127304</td>\n",
              "      <td>0.037219</td>\n",
              "      <td>0.070621</td>\n",
              "      <td>0.423669</td>\n",
              "      <td>0.700663</td>\n",
              "      <td>0.527521</td>\n",
              "      <td>0.061225</td>\n",
              "      <td>0.627277</td>\n",
              "      <td>0.300568</td>\n",
              "      <td>0.451816</td>\n",
              "      <td>0.108329</td>\n",
              "      <td>0.054421</td>\n",
              "      <td>0.0</td>\n",
              "      <td>0</td>\n",
              "    </tr>\n",
              "    <tr>\n",
              "      <th>21723</th>\n",
              "      <td>1.000000</td>\n",
              "      <td>1.0</td>\n",
              "      <td>0.999983</td>\n",
              "      <td>0.189029</td>\n",
              "      <td>0.001194</td>\n",
              "      <td>0.074007</td>\n",
              "      <td>0.380907</td>\n",
              "      <td>0.599091</td>\n",
              "      <td>0.522314</td>\n",
              "      <td>0.245323</td>\n",
              "      <td>0.676330</td>\n",
              "      <td>0.385055</td>\n",
              "      <td>0.338345</td>\n",
              "      <td>0.104850</td>\n",
              "      <td>0.008544</td>\n",
              "      <td>0.4</td>\n",
              "      <td>0</td>\n",
              "    </tr>\n",
              "    <tr>\n",
              "      <th>21724</th>\n",
              "      <td>1.000000</td>\n",
              "      <td>1.0</td>\n",
              "      <td>0.999999</td>\n",
              "      <td>0.077257</td>\n",
              "      <td>0.073102</td>\n",
              "      <td>0.292934</td>\n",
              "      <td>0.367161</td>\n",
              "      <td>0.500285</td>\n",
              "      <td>0.650965</td>\n",
              "      <td>0.189329</td>\n",
              "      <td>0.706220</td>\n",
              "      <td>0.464775</td>\n",
              "      <td>0.580432</td>\n",
              "      <td>0.068832</td>\n",
              "      <td>0.049297</td>\n",
              "      <td>0.0</td>\n",
              "      <td>0</td>\n",
              "    </tr>\n",
              "    <tr>\n",
              "      <th>21725</th>\n",
              "      <td>1.000000</td>\n",
              "      <td>1.0</td>\n",
              "      <td>0.999993</td>\n",
              "      <td>0.215234</td>\n",
              "      <td>0.001602</td>\n",
              "      <td>0.096014</td>\n",
              "      <td>0.580548</td>\n",
              "      <td>0.473465</td>\n",
              "      <td>0.486033</td>\n",
              "      <td>0.206860</td>\n",
              "      <td>0.474584</td>\n",
              "      <td>0.495769</td>\n",
              "      <td>0.575863</td>\n",
              "      <td>0.241435</td>\n",
              "      <td>0.004120</td>\n",
              "      <td>0.4</td>\n",
              "      <td>0</td>\n",
              "    </tr>\n",
              "  </tbody>\n",
              "</table>\n",
              "<p>21671 rows × 17 columns</p>\n",
              "</div>"
            ]
          },
          "metadata": {},
          "execution_count": 114
        }
      ]
    },
    {
      "cell_type": "markdown",
      "source": [
        "Потрібно на основі інформації про розпад спрогнозувати наявність високоенергетичного випромінювання `nBJets`"
      ],
      "metadata": {
        "id": "KAmkR_CFejgQ"
      }
    },
    {
      "cell_type": "code",
      "source": [
        "df.info()"
      ],
      "metadata": {
        "id": "9kEV9sPtrX0P",
        "outputId": "a902c004-3654-40c1-9b94-c792d2f5fea4",
        "colab": {
          "base_uri": "https://localhost:8080/"
        }
      },
      "execution_count": 115,
      "outputs": [
        {
          "output_type": "stream",
          "name": "stdout",
          "text": [
            "<class 'pandas.core.frame.DataFrame'>\n",
            "Index: 21671 entries, 0 to 21725\n",
            "Data columns (total 17 columns):\n",
            " #   Column  Non-Null Count  Dtype  \n",
            "---  ------  --------------  -----  \n",
            " 0   Run     21671 non-null  float64\n",
            " 1   Lumi    21671 non-null  float64\n",
            " 2   Event   21671 non-null  float64\n",
            " 3   MR      21671 non-null  float64\n",
            " 4   Rsq     21671 non-null  float64\n",
            " 5   E1      21671 non-null  float64\n",
            " 6   Px1     21671 non-null  float64\n",
            " 7   Py1     21671 non-null  float64\n",
            " 8   Pz1     21671 non-null  float64\n",
            " 9   E2      21671 non-null  float64\n",
            " 10  Px2     21671 non-null  float64\n",
            " 11  Py2     21671 non-null  float64\n",
            " 12  Pz2     21671 non-null  float64\n",
            " 13  HT      21671 non-null  float64\n",
            " 14  MET     21671 non-null  float64\n",
            " 15  nJets   21671 non-null  float64\n",
            " 16  nBJets  21671 non-null  int64  \n",
            "dtypes: float64(16), int64(1)\n",
            "memory usage: 3.0 MB\n"
          ]
        }
      ]
    },
    {
      "cell_type": "markdown",
      "source": [
        "# Завдання 1\n",
        "Створіть клас Dataset для тренувальних та тестових даних"
      ],
      "metadata": {
        "id": "dBt0E5BJe6OK"
      }
    },
    {
      "cell_type": "code",
      "source": [
        "from torch.utils.data import Dataset\n",
        "from sklearn.model_selection import train_test_split\n",
        "\n",
        "class MyDataset(Dataset):\n",
        "    def __init__(self, X, y):\n",
        "      self.X = torch.FloatTensor(X.values)\n",
        "      self.y = torch.FloatTensor(y.values)\n",
        "      self.y = self.y.reshape(-1, 1)\n",
        "\n",
        "    def __len__(self):\n",
        "      return len(self.X)\n",
        "\n",
        "    def __getitem__(self, idx):\n",
        "      return self.X[idx], self.y[idx]\n",
        "\n",
        "# Create dataset object\n",
        "X = df.drop(columns=['nBJets'])\n",
        "y = df['nBJets']\n",
        "\n",
        "dataset = MyDataset(X, y)"
      ],
      "metadata": {
        "id": "zQar7xD0K21Y"
      },
      "execution_count": 116,
      "outputs": []
    },
    {
      "cell_type": "code",
      "source": [
        "X_train, X_test, y_train, y_test = train_test_split(X, y,\n",
        "                                                    train_size=0.8,\n",
        "                                                    random_state=42,\n",
        "                                                    stratify=y)\n",
        "\n",
        "dataset_train = MyDataset(X_train, y_train)\n",
        "dataset_test = MyDataset(X_test, y_test)"
      ],
      "metadata": {
        "id": "W-drODawry__"
      },
      "execution_count": 117,
      "outputs": []
    },
    {
      "cell_type": "markdown",
      "source": [
        "# Завдання 2\n",
        "Створіть DataLoader"
      ],
      "metadata": {
        "id": "zQlB_6WzfB8n"
      }
    },
    {
      "cell_type": "code",
      "source": [
        "from torch.utils.data import DataLoader\n",
        "\n",
        "batch_size = 256\n",
        "device = \"cuda\" if torch.cuda.is_available() else \"cpu\"\n",
        "generator = torch.Generator(device='cuda') if device == \"cuda\" else torch.Generator()\n",
        "\n",
        "train_dl = DataLoader(dataset_train, batch_size=batch_size, shuffle=True, generator=generator)\n",
        "test_dl = DataLoader(dataset_test, batch_size=batch_size, shuffle=True, generator=generator)"
      ],
      "metadata": {
        "id": "-6-po4H4fZQy"
      },
      "execution_count": 118,
      "outputs": []
    },
    {
      "cell_type": "markdown",
      "source": [
        "# Завдання 3\n",
        "Створіть нейромережу"
      ],
      "metadata": {
        "id": "2W93LiDxfZrx"
      }
    },
    {
      "cell_type": "code",
      "source": [
        "from torch import nn, optim\n",
        "import matplotlib.pyplot as plt\n",
        "from sklearn.metrics import ConfusionMatrixDisplay, RocCurveDisplay\n",
        "import torch.nn.functional as F\n",
        "\n",
        "class Model(nn.Module):\n",
        "    def __init__(self, input_size=2, hidden_sizes=[4], output_size=1, activations=['sigmoid'], normalizations=None):\n",
        "        super(Model, self).__init__()\n",
        "        self.layers = nn.ModuleList()\n",
        "\n",
        "        self.layers.append(nn.Linear(input_size, hidden_sizes[0]))\n",
        "\n",
        "        self.activations = [self.get_activation(act) for act in activations]\n",
        "\n",
        "        self.normalizations = normalizations\n",
        "\n",
        "        for i in range(len(hidden_sizes) - 1):\n",
        "            if normalizations and normalizations[i] is not None:\n",
        "                self.layers.append(self.get_normalization(normalizations[i], hidden_sizes[i]))\n",
        "            self.layers.append(self.activations[i])\n",
        "            self.layers.append(nn.Linear(hidden_sizes[i], hidden_sizes[i + 1]))\n",
        "\n",
        "        if normalizations and normalizations[-1] is not None:\n",
        "            self.layers.append(self.get_normalization(normalizations[-1], hidden_sizes[-1]))\n",
        "        self.layers.append(self.activations[-1])\n",
        "        self.layers.append(nn.Linear(hidden_sizes[-1], output_size))\n",
        "        self.output_activation = nn.Sigmoid()\n",
        "\n",
        "    def get_activation(self, activation):\n",
        "        if activation == 'sigmoid':\n",
        "            return nn.Sigmoid()\n",
        "        elif activation == 'relu':\n",
        "            return nn.ReLU()\n",
        "        elif activation == 'leaky_relu':\n",
        "            return nn.LeakyReLU()\n",
        "        elif activation == 'tanh':\n",
        "            return nn.Tanh()\n",
        "        else:\n",
        "            raise ValueError(\"Unknown activation function\")\n",
        "\n",
        "    def get_normalization(self, norm, num_features):\n",
        "        if norm == 'batch':\n",
        "            return nn.BatchNorm1d(num_features)\n",
        "        elif norm == 'layer':\n",
        "            return nn.LayerNorm(num_features)\n",
        "        else:\n",
        "            raise ValueError(\"Unknown normalization type\")\n",
        "\n",
        "    def forward(self, x):\n",
        "        for layer in self.layers:\n",
        "            x = layer(x)\n",
        "        return self.output_activation(x)\n",
        "\n",
        "    def predict(self, x, device='cpu'):\n",
        "        if isinstance(x, pd.DataFrame):\n",
        "            x = torch.tensor(x.values, dtype=torch.float32)\n",
        "        elif isinstance(x, np.ndarray):\n",
        "            x = torch.tensor(x, dtype=torch.float32)\n",
        "        x = x.to(device)\n",
        "        self.to(device)\n",
        "        self.eval()\n",
        "        with torch.no_grad():\n",
        "            y_pred = self.forward(x)\n",
        "            y_pred = F.sigmoid(y_pred)\n",
        "\n",
        "        return y_pred.cpu().numpy()\n",
        "\n",
        "model = Model(input_size=16,\n",
        "              hidden_sizes=[42, 21, 10, 5],\n",
        "              output_size=1,\n",
        "              activations=['leaky_relu', 'relu', 'leaky_relu', 'relu'],\n",
        "              normalizations=['batch', None, None, None])          # Замість None можна вказувати 'batch' для BatchNorm або 'layer' для LayerNorm"
      ],
      "metadata": {
        "id": "p9DHog7Xf7xE"
      },
      "execution_count": 119,
      "outputs": []
    },
    {
      "cell_type": "code",
      "source": [
        "from torchsummary import summary\n",
        "\n",
        "summary(model, input_size=(16,))"
      ],
      "metadata": {
        "id": "NpAFGIsrvFIA",
        "outputId": "1cc8a941-e83b-48fe-d665-fd9560db0784",
        "colab": {
          "base_uri": "https://localhost:8080/"
        }
      },
      "execution_count": 120,
      "outputs": [
        {
          "output_type": "stream",
          "name": "stdout",
          "text": [
            "=================================================================\n",
            "Layer (type:depth-idx)                   Param #\n",
            "=================================================================\n",
            "├─ModuleList: 1-1                        --\n",
            "|    └─Linear: 2-1                       714\n",
            "|    └─BatchNorm1d: 2-2                  84\n",
            "|    └─LeakyReLU: 2-3                    --\n",
            "|    └─Linear: 2-4                       903\n",
            "|    └─ReLU: 2-5                         --\n",
            "|    └─Linear: 2-6                       220\n",
            "|    └─LeakyReLU: 2-7                    --\n",
            "|    └─Linear: 2-8                       55\n",
            "|    └─ReLU: 2-9                         --\n",
            "|    └─Linear: 2-10                      6\n",
            "├─Sigmoid: 1-2                           --\n",
            "=================================================================\n",
            "Total params: 1,982\n",
            "Trainable params: 1,982\n",
            "Non-trainable params: 0\n",
            "=================================================================\n"
          ]
        },
        {
          "output_type": "execute_result",
          "data": {
            "text/plain": [
              "=================================================================\n",
              "Layer (type:depth-idx)                   Param #\n",
              "=================================================================\n",
              "├─ModuleList: 1-1                        --\n",
              "|    └─Linear: 2-1                       714\n",
              "|    └─BatchNorm1d: 2-2                  84\n",
              "|    └─LeakyReLU: 2-3                    --\n",
              "|    └─Linear: 2-4                       903\n",
              "|    └─ReLU: 2-5                         --\n",
              "|    └─Linear: 2-6                       220\n",
              "|    └─LeakyReLU: 2-7                    --\n",
              "|    └─Linear: 2-8                       55\n",
              "|    └─ReLU: 2-9                         --\n",
              "|    └─Linear: 2-10                      6\n",
              "├─Sigmoid: 1-2                           --\n",
              "=================================================================\n",
              "Total params: 1,982\n",
              "Trainable params: 1,982\n",
              "Non-trainable params: 0\n",
              "================================================================="
            ]
          },
          "metadata": {},
          "execution_count": 120
        }
      ]
    },
    {
      "cell_type": "markdown",
      "source": [
        "# Завдання 4\n",
        "Визначте функцію втрат та оптимізатор, можливо графік швидкості навчання"
      ],
      "metadata": {
        "id": "VmNUVkkUf8gB"
      }
    },
    {
      "cell_type": "code",
      "source": [
        "import time\n",
        "\n",
        "from torch.optim import Adam, SGD, RMSprop\n",
        "from torch.optim.lr_scheduler import StepLR, ExponentialLR, ReduceLROnPlateau\n",
        "\n",
        "class TrainingComponents:\n",
        "    def __init__(self, model, y_train, loss_fn='BCEWithLogitsLoss', optimizer='Adam', scheduler='StepLR',\n",
        "                 loss_params=None, opt_params=None, sched_params=None):\n",
        "\n",
        "        self.model = model\n",
        "        self.loss_fn = self.get_loss_fn(loss_fn, y_train, loss_params)\n",
        "        self.optimizer = self.get_optimizer(optimizer, opt_params)\n",
        "        self.scheduler = self.get_scheduler(scheduler, sched_params)\n",
        "\n",
        "    def get_loss_fn(self, loss_fn, y_train, params):\n",
        "        num0 = sum(y_train == 0)\n",
        "        num1 = sum(y_train == 1)\n",
        "        if loss_fn == 'BCEWithLogitsLoss':\n",
        "            pos_weight = torch.tensor(num0 / num1)\n",
        "            return nn.BCEWithLogitsLoss(pos_weight=pos_weight)\n",
        "        elif loss_fn == 'MSELoss':\n",
        "            return nn.MSELoss(**(params if params else {}))\n",
        "        elif loss_fn == 'CrossEntropyLoss':\n",
        "            return nn.CrossEntropyLoss(**(params if params else {}))\n",
        "        else:\n",
        "            raise ValueError(\"Unknown loss function\")\n",
        "\n",
        "    def get_optimizer(self, optimizer, params):\n",
        "        if optimizer == 'Adam':\n",
        "            return Adam(self.model.parameters(), **(params if params else {'lr': 1e-3}))\n",
        "        elif optimizer == 'SGD':\n",
        "            return SGD(self.model.parameters(), **(params if params else {'lr': 1e-3, 'momentum': 0.9}))\n",
        "        elif optimizer == 'RMSprop':\n",
        "            return RMSprop(self.model.parameters(), **(params if params else {'lr': 1e-3}))\n",
        "        else:\n",
        "            raise ValueError(\"Unknown optimizer\")\n",
        "\n",
        "    def get_scheduler(self, scheduler, params):\n",
        "        if scheduler == 'StepLR':\n",
        "            return StepLR(self.optimizer, **(params if params else {'step_size': 5, 'gamma': 0.1}))\n",
        "        elif scheduler == 'ExponentialLR':\n",
        "            return ExponentialLR(self.optimizer, **(params if params else {'gamma': 0.9}))\n",
        "        elif scheduler == 'ReduceLROnPlateau':\n",
        "            return ReduceLROnPlateau(self.optimizer, **(params if params else {'mode': 'min', 'factor': 0.1, 'patience': 10}))\n",
        "        else:\n",
        "            raise ValueError(\"Unknown scheduler\")\n",
        "\n",
        "\n",
        "components = TrainingComponents(model=model,\n",
        "                                y_train=y_train,\n",
        "                                loss_fn='BCEWithLogitsLoss',\n",
        "                                optimizer='Adam',\n",
        "                                scheduler='StepLR',\n",
        "                                loss_params=None,\n",
        "                                opt_params={'lr': 1e-2, 'weight_decay': 0},\n",
        "                                sched_params={'step_size': 10, 'gamma': 0.1})"
      ],
      "metadata": {
        "id": "e1sw9oRBgDXR"
      },
      "execution_count": 121,
      "outputs": []
    },
    {
      "cell_type": "code",
      "source": [
        "loss_fn = components.loss_fn\n",
        "optimizer = components.optimizer\n",
        "scheduler = components.scheduler"
      ],
      "metadata": {
        "id": "JBAdQqspy3sH"
      },
      "execution_count": 122,
      "outputs": []
    },
    {
      "cell_type": "markdown",
      "source": [
        "# Завдання 5\n",
        "Натренуйте нейромережу."
      ],
      "metadata": {
        "id": "qTOFCl_egEFZ"
      }
    },
    {
      "cell_type": "code",
      "source": [
        "import time\n",
        "\n",
        "def train(model, optimizer, loss_fn, train_dl, val_dl, scheduler=None,\n",
        "          metrics=None, metrics_name=None, epochs=20, device='cpu', task='regression', log_interval=1):\n",
        "    metrics = metrics if metrics else []\n",
        "    metrics_name = metrics_name if metrics_name else [metric.__name__ for metric in metrics]\n",
        "\n",
        "    history = {}\n",
        "    history['loss'] = []\n",
        "    history['val_loss'] = []\n",
        "    for name in metrics_name:\n",
        "        history[name] = []\n",
        "        history[f'val_{name}'] = []\n",
        "\n",
        "    model.to(device)\n",
        "\n",
        "    start_time_train = time.time()\n",
        "\n",
        "    for epoch in range(epochs):\n",
        "        start_time_epoch = time.time()\n",
        "\n",
        "        model.train()\n",
        "        history_train = {name: 0 for name in ['loss'] + metrics_name}\n",
        "\n",
        "        for batch in train_dl:\n",
        "            x = batch[0].to(device)\n",
        "            y = batch[1].to(device)\n",
        "            y_pred = model(x)\n",
        "            loss = loss_fn(y_pred, y)\n",
        "\n",
        "            optimizer.zero_grad()\n",
        "            loss.backward()\n",
        "            optimizer.step()\n",
        "\n",
        "            y_pred = y_pred.detach().cpu().numpy()\n",
        "            y = y.detach().cpu().numpy()\n",
        "\n",
        "            history_train['loss'] += loss.item() * x.size(0)\n",
        "            for name, func in zip(metrics_name, metrics):\n",
        "                try:\n",
        "                    if func == roc_auc_score:\n",
        "                        # Check if there are both classes present in y\n",
        "                        if len(np.unique(y)) == 2:\n",
        "                            history_train[name] += func(y, y_pred) * x.size(0)\n",
        "                    else:\n",
        "                        history_train[name] += func(y, y_pred) * x.size(0)\n",
        "                except:\n",
        "                    if task == 'binary':\n",
        "                        y_pred_ = y_pred.round()\n",
        "                    elif task == 'multiclass':\n",
        "                        y_pred_ = y_pred.argmax(axis=-1)\n",
        "                    history_train[name] += func(y, y_pred_) * x.size(0)\n",
        "\n",
        "        for name in history_train:\n",
        "            history_train[name] /= len(train_dl.dataset)\n",
        "\n",
        "        model.eval()\n",
        "        history_val = {'val_' + name: 0 for name in metrics_name + ['loss']}\n",
        "\n",
        "        with torch.no_grad():\n",
        "            for batch in val_dl:\n",
        "                x = batch[0].to(device)\n",
        "                y = batch[1].to(device)\n",
        "                y_pred = model(x)\n",
        "                loss = loss_fn(y_pred, y)\n",
        "\n",
        "                y_pred = y_pred.cpu().numpy()\n",
        "                y = y.cpu().numpy()\n",
        "\n",
        "                history_val['val_loss'] += loss.item() * x.size(0)\n",
        "                for name, func in zip(metrics_name, metrics):\n",
        "                    try:\n",
        "                        if func == roc_auc_score:\n",
        "                            # Check if there are both classes present in y\n",
        "                            if len(np.unique(y)) == 2:\n",
        "                                history_val['val_' + name] += func(y, y_pred) * x.size(0)\n",
        "                        else:\n",
        "                            history_val['val_' + name] += func(y, y_pred) * x.size(0)\n",
        "                    except:\n",
        "                        if task == 'binary':\n",
        "                            y_pred_ = y_pred.round()\n",
        "                        elif task == 'multiclass':\n",
        "                            y_pred_ = y_pred.argmax(axis=-1)\n",
        "\n",
        "                        history_val['val_' + name] += func(y, y_pred_) * x.size(0)\n",
        "\n",
        "        for name in history_val:\n",
        "            history_val[name] /= len(val_dl.dataset)\n",
        "\n",
        "        end_time_epoch = time.time()\n",
        "\n",
        "        for name in history_train:\n",
        "            history[name].append(history_train[name])\n",
        "            history['val_' + name].append(history_val['val_' + name])\n",
        "\n",
        "        total_time_epoch = end_time_epoch - start_time_epoch\n",
        "\n",
        "        if epoch + 1 == 1 or (epoch + 1) % log_interval == 0 or epoch + 1 == epochs:\n",
        "            print(f'Epoch {epoch + 1:4d} {total_time_epoch:4.0f}sec', end='\\t')\n",
        "            for name in history_train:\n",
        "                print(f'{name}: {history[name][-1]:10.3g}', end='\\t')\n",
        "                print(f\"val_{name}: {history['val_' + name][-1]:10.3g}\", end='\\t')\n",
        "            print()\n",
        "\n",
        "        if scheduler:\n",
        "            if isinstance(scheduler, ReduceLROnPlateau):\n",
        "                scheduler.step(history_val['val_loss'][-1])\n",
        "            else:\n",
        "                scheduler.step()\n",
        "\n",
        "    end_time_train = time.time()\n",
        "    total_time_train = end_time_train - start_time_train\n",
        "    print()\n",
        "    print('Time total:     %5.2f sec' % (total_time_train))\n",
        "\n",
        "    return history"
      ],
      "metadata": {
        "id": "Nxo4p3IUgOx5"
      },
      "execution_count": 123,
      "outputs": []
    },
    {
      "cell_type": "code",
      "source": [
        "from sklearn.metrics import accuracy_score, roc_auc_score\n",
        "\n",
        "history = train(model, optimizer, loss_fn, train_dl, test_dl, scheduler=scheduler,\n",
        "                epochs=50,\n",
        "                metrics=[accuracy_score, roc_auc_score],\n",
        "                device=device,\n",
        "                task='binary',\n",
        "                log_interval=10)"
      ],
      "metadata": {
        "colab": {
          "base_uri": "https://localhost:8080/"
        },
        "id": "B6Sw_hYDyvyH",
        "outputId": "862c3afc-9c94-4513-b16c-98b01d0d083c"
      },
      "execution_count": 124,
      "outputs": [
        {
          "output_type": "stream",
          "name": "stdout",
          "text": [
            "Epoch    1    1sec\tloss:       1.33\tval_loss:       1.32\taccuracy_score:      0.899\tval_accuracy_score:      0.951\troc_auc_score:      0.538\tval_roc_auc_score:       0.52\t\n",
            "Epoch   10    1sec\tloss:        1.3\tval_loss:       1.31\taccuracy_score:      0.892\tval_accuracy_score:      0.925\troc_auc_score:      0.602\tval_roc_auc_score:      0.575\t\n",
            "Epoch   20    1sec\tloss:       1.29\tval_loss:       1.31\taccuracy_score:      0.871\tval_accuracy_score:      0.871\troc_auc_score:      0.619\tval_roc_auc_score:      0.579\t\n",
            "Epoch   30    1sec\tloss:       1.29\tval_loss:       1.31\taccuracy_score:      0.873\tval_accuracy_score:      0.868\troc_auc_score:       0.61\tval_roc_auc_score:      0.579\t\n",
            "Epoch   40    1sec\tloss:       1.29\tval_loss:       1.31\taccuracy_score:      0.874\tval_accuracy_score:      0.863\troc_auc_score:      0.621\tval_roc_auc_score:      0.573\t\n",
            "Epoch   50    1sec\tloss:       1.29\tval_loss:       1.31\taccuracy_score:      0.873\tval_accuracy_score:       0.86\troc_auc_score:      0.618\tval_roc_auc_score:      0.574\t\n",
            "\n",
            "Time total:     40.37 sec\n"
          ]
        }
      ]
    },
    {
      "cell_type": "markdown",
      "source": [
        "# Завдання 6\n",
        "Збережіть нейромережу та зробіть прогноз"
      ],
      "metadata": {
        "id": "aoclw4XlgPhB"
      }
    },
    {
      "cell_type": "code",
      "source": [
        "import matplotlib.pyplot as plt\n",
        "\n",
        "def plot_metric(history, name):\n",
        "  plt.title(f\"Model results with {name}\")\n",
        "  plt.plot(history[name], label='train')\n",
        "  plt.plot(history['val_'+name], label='val')\n",
        "  plt.xlabel('Epoch')\n",
        "  plt.ylabel(name)\n",
        "  plt.legend()\n",
        "\n",
        "\n",
        "plot_metric(history, 'loss')"
      ],
      "metadata": {
        "id": "UzVFg-KjgYgy",
        "colab": {
          "base_uri": "https://localhost:8080/",
          "height": 472
        },
        "outputId": "aff2cad8-c007-4cc0-8933-bdf462d0cd17"
      },
      "execution_count": 125,
      "outputs": [
        {
          "output_type": "display_data",
          "data": {
            "text/plain": [
              "<Figure size 640x480 with 1 Axes>"
            ],
            "image/png": "[encoded data removed]"
          },
          "metadata": {}
        }
      ]
    },
    {
      "cell_type": "code",
      "source": [
        "plot_metric(history, 'accuracy_score')"
      ],
      "metadata": {
        "colab": {
          "base_uri": "https://localhost:8080/",
          "height": 472
        },
        "id": "3fVaeieQ11pv",
        "outputId": "969649ab-6b94-4887-af73-72d118633062"
      },
      "execution_count": 126,
      "outputs": [
        {
          "output_type": "display_data",
          "data": {
            "text/plain": [
              "<Figure size 640x480 with 1 Axes>"
            ],
            "image/png": "[encoded data removed]"
          },
          "metadata": {}
        }
      ]
    },
    {
      "cell_type": "code",
      "source": [
        "from sklearn.metrics import ConfusionMatrixDisplay, RocCurveDisplay\n",
        "\n",
        "model = model.to('cpu')\n",
        "y_pred = model.predict(X_test, device='cpu')\n",
        "\n",
        "ConfusionMatrixDisplay.from_predictions(y_test, y_pred.round())\n",
        "plt.plot()\n",
        "\n",
        "RocCurveDisplay.from_predictions(y_test, y_pred, pos_label=1)"
      ],
      "metadata": {
        "colab": {
          "base_uri": "https://localhost:8080/",
          "height": 900
        },
        "id": "2PgGQjke14RW",
        "outputId": "a35ba2fa-7561-4765-c564-bc2be49eb96c"
      },
      "execution_count": 127,
      "outputs": [
        {
          "output_type": "execute_result",
          "data": {
            "text/plain": [
              "<sklearn.metrics._plot.roc_curve.RocCurveDisplay at 0x1b70ce98cb0>"
            ]
          },
          "metadata": {},
          "execution_count": 127
        },
        {
          "output_type": "display_data",
          "data": {
            "text/plain": [
              "<Figure size 640x480 with 2 Axes>"
            ],
            "image/png": "[encoded data removed]"
          },
          "metadata": {}
        },
        {
          "output_type": "display_data",
          "data": {
            "text/plain": [
              "<Figure size 640x480 with 1 Axes>"
            ],
            "image/png": "[encoded data removed]"
          },
          "metadata": {}
        }
      ]
    }
  ]
}