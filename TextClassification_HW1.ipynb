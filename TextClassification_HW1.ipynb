{
  "metadata": {
    "kernelspec": {
      "language": "python",
      "display_name": "Python 3",
      "name": "python3"
    },
    "language_info": {
      "name": "python",
      "version": "3.10.13",
      "mimetype": "text/x-python",
      "codemirror_mode": {
        "name": "ipython",
        "version": 3
      },
      "pygments_lexer": "ipython3",
      "nbconvert_exporter": "python",
      "file_extension": ".py"
    },
    "kaggle": {
      "accelerator": "none",
      "dataSources": [
        {
          "sourceId": 7902951,
          "sourceType": "datasetVersion",
          "datasetId": 4641655
        }
      ],
      "dockerImageVersionId": 30746,
      "isInternetEnabled": true,
      "language": "python",
      "sourceType": "notebook",
      "isGpuEnabled": false
    },
    "colab": {
      "name": "notebook44c3ba0825",
      "provenance": [],
      "include_colab_link": true
    }
  },
  "nbformat_minor": 0,
  "nbformat": 4,
  "cells": [
    {
      "cell_type": "markdown",
      "metadata": {
        "id": "view-in-github",
        "colab_type": "text"
      },
      "source": [
        "<a href=\"https://colab.research.google.com/github/YuriiKlim/AI/blob/Text_neural2/TextClassification_HW1.ipynb\" target=\"_parent\"><img src=\"https://colab.research.google.com/assets/colab-badge.svg\" alt=\"Open In Colab\"/></a>"
      ]
    },
    {
      "source": [
        "\n",
        "# IMPORTANT: RUN THIS CELL IN ORDER TO IMPORT YOUR KAGGLE DATA SOURCES\n",
        "# TO THE CORRECT LOCATION (/kaggle/input) IN YOUR NOTEBOOK,\n",
        "# THEN FEEL FREE TO DELETE THIS CELL.\n",
        "# NOTE: THIS NOTEBOOK ENVIRONMENT DIFFERS FROM KAGGLE'S PYTHON\n",
        "# ENVIRONMENT SO THERE MAY BE MISSING LIBRARIES USED BY YOUR\n",
        "# NOTEBOOK.\n",
        "\n",
        "import os\n",
        "import sys\n",
        "from tempfile import NamedTemporaryFile\n",
        "from urllib.request import urlopen\n",
        "from urllib.parse import unquote, urlparse\n",
        "from urllib.error import HTTPError\n",
        "from zipfile import ZipFile\n",
        "import tarfile\n",
        "import shutil\n",
        "\n",
        "CHUNK_SIZE = 40960\n",
        "DATA_SOURCE_MAPPING = 'telegram-spam-or-ham:https%3A%2F%2Fstorage.googleapis.com%2Fkaggle-data-sets%2F4641655%2F7902951%2Fbundle%2Farchive.zip%3FX-Goog-Algorithm%3DGOOG4-RSA-SHA256%26X-Goog-Credential%3Dgcp-kaggle-com%2540kaggle-161607.iam.gserviceaccount.com%252F20240821%252Fauto%252Fstorage%252Fgoog4_request%26X-Goog-Date%3D20240821T182639Z%26X-Goog-Expires%3D259200%26X-Goog-SignedHeaders%3Dhost%26X-Goog-Signature%3D48b2b79705dfbb61ef8d4e75f21ba23350cc9dd538f038b866763fbb09edb31617a28a80062df850a738e64f6bb230268fefafb734ef53ab94d0bd19eca7bd6e0dc961cf09a34f486b665260879df3f08d648be84f6b06f0206bd6bccd437468885d4d4c33148147b0edcd6eee532584893e8ebe332da6832dae3acd06291f8e299b7db24d1a4f014adeb7ec17aba6d87780fc0533c91bb8565e4ad94188b3cd1c76002bc287e1aa7fd5c36b5a7bb8ffa6d661ad00245f820a9c5d974477427bf811028306dead164e6eb6d2491d118136dd4ec7eeb9c369355acf0ede95cc2bb24c9a6dad7483ba00527ab9f7211da4e113bcef2e3a7746a2aa3a813aa72103'\n",
        "\n",
        "KAGGLE_INPUT_PATH='/kaggle/input'\n",
        "KAGGLE_WORKING_PATH='/kaggle/working'\n",
        "KAGGLE_SYMLINK='kaggle'\n",
        "\n",
        "!umount /kaggle/input/ 2> /dev/null\n",
        "shutil.rmtree('/kaggle/input', ignore_errors=True)\n",
        "os.makedirs(KAGGLE_INPUT_PATH, 0o777, exist_ok=True)\n",
        "os.makedirs(KAGGLE_WORKING_PATH, 0o777, exist_ok=True)\n",
        "\n",
        "try:\n",
        "  os.symlink(KAGGLE_INPUT_PATH, os.path.join(\"..\", '/kaggle/input'), target_is_directory=True)\n",
        "except FileExistsError:\n",
        "  pass\n",
        "try:\n",
        "  os.symlink(KAGGLE_WORKING_PATH, os.path.join(\"..\", '/kaggle/input'), target_is_directory=True)\n",
        "except FileExistsError:\n",
        "  pass\n",
        "\n",
        "for data_source_mapping in DATA_SOURCE_MAPPING.split(','):\n",
        "    directory, download_url_encoded = data_source_mapping.split(':')\n",
        "    download_url = unquote(download_url_encoded)\n",
        "    filename = urlparse(download_url).path\n",
        "    destination_path = os.path.join(KAGGLE_INPUT_PATH, directory)\n",
        "    try:\n",
        "        with urlopen(download_url) as fileres, NamedTemporaryFile() as tfile:\n",
        "            total_length = fileres.headers['content-length']\n",
        "            print(f'Downloading {directory}, {total_length} bytes compressed')\n",
        "            dl = 0\n",
        "            data = fileres.read(CHUNK_SIZE)\n",
        "            while len(data) > 0:\n",
        "                dl += len(data)\n",
        "                tfile.write(data)\n",
        "                done = int(50 * dl / int(total_length))\n",
        "                sys.stdout.write(f\"\\r[{'=' * done}{' ' * (50-done)}] {dl} bytes downloaded\")\n",
        "                sys.stdout.flush()\n",
        "                data = fileres.read(CHUNK_SIZE)\n",
        "            if filename.endswith('.zip'):\n",
        "              with ZipFile(tfile) as zfile:\n",
        "                zfile.extractall(destination_path)\n",
        "            else:\n",
        "              with tarfile.open(tfile.name) as tarfile:\n",
        "                tarfile.extractall(destination_path)\n",
        "            print(f'\\nDownloaded and uncompressed: {directory}')\n",
        "    except HTTPError as e:\n",
        "        print(f'Failed to load (likely expired) {download_url} to path {destination_path}')\n",
        "        continue\n",
        "    except OSError as e:\n",
        "        print(f'Failed to load {download_url} to path {destination_path}')\n",
        "        continue\n",
        "\n",
        "print('Data source import complete.')\n"
      ],
      "metadata": {
        "id": "n-MlZnqsMO8T",
        "outputId": "b0605ef9-4d8a-4dd2-96a9-3c260dacf16d",
        "colab": {
          "base_uri": "https://localhost:8080/"
        }
      },
      "cell_type": "code",
      "outputs": [
        {
          "output_type": "stream",
          "name": "stderr",
          "text": [
            "The system cannot find the path specified.\n"
          ]
        },
        {
          "output_type": "stream",
          "name": "stdout",
          "text": [
            "Downloading telegram-spam-or-ham, 2257668 bytes compressed\n",
            "[==================================================] 2257668 bytes downloaded\n",
            "Downloaded and uncompressed: telegram-spam-or-ham\n",
            "Data source import complete.\n"
          ]
        }
      ],
      "execution_count": 84
    },
    {
      "cell_type": "code",
      "source": [
        "# This Python 3 environment comes with many helpful analytics libraries installed\n",
        "# It is defined by the kaggle/python Docker image: https://github.com/kaggle/docker-python\n",
        "# For example, here's several helpful packages to load\n",
        "\n",
        "import numpy as np # linear algebra\n",
        "import pandas as pd # data processing, CSV file I/O (e.g. pd.read_csv)\n",
        "import torch\n",
        "device = \"cuda\" if torch.cuda.is_available() else \"cpu\"\n",
        "\n",
        "# Input data files are available in the read-only \"../input/\" directory\n",
        "# For example, running this (by clicking run or pressing Shift+Enter) will list all files under the input directory\n",
        "\n",
        "import os\n",
        "for dirname, _, filenames in os.walk('/kaggle/input'):\n",
        "    for filename in filenames:\n",
        "        print(os.path.join(dirname, filename))\n",
        "\n",
        "# You can write up to 20GB to the current directory (/kaggle/working/) that gets preserved as output when you create a version using \"Save & Run All\"\n",
        "# You can also write temporary files to /kaggle/temp/, but they won't be saved outside of the current session"
      ],
      "metadata": {
        "_uuid": "8f2839f25d086af736a60e9eeb907d3b93b6e0e5",
        "_cell_guid": "b1076dfc-b9ad-4769-8c92-a6c4dae69d19",
        "trusted": true,
        "id": "c80zRnFDMO8W",
        "outputId": "85b4ac56-ef88-4ce7-ae1f-19e7ee093f56",
        "colab": {
          "base_uri": "https://localhost:8080/"
        }
      },
      "execution_count": 85,
      "outputs": [
        {
          "output_type": "stream",
          "name": "stdout",
          "text": [
            "/kaggle/input\\telegram-spam-or-ham\\dataset.csv\n"
          ]
        }
      ]
    },
    {
      "cell_type": "code",
      "source": [
        "df = pd.read_csv('/kaggle/input/telegram-spam-or-ham/dataset.csv')\n",
        "df.rename(columns={'text_type': 'labels'}, inplace=True)\n",
        "df"
      ],
      "metadata": {
        "execution": {
          "iopub.status.busy": "2024-08-21T18:25:42.690687Z",
          "iopub.execute_input": "2024-08-21T18:25:42.691187Z",
          "iopub.status.idle": "2024-08-21T18:25:43.111171Z",
          "shell.execute_reply.started": "2024-08-21T18:25:42.691149Z",
          "shell.execute_reply": "2024-08-21T18:25:43.109737Z"
        },
        "trusted": true,
        "id": "rBkppMn8MO8W",
        "outputId": "fe161656-2d0d-475c-d435-96952d476130",
        "colab": {
          "base_uri": "https://localhost:8080/",
          "height": 423
        }
      },
      "execution_count": 86,
      "outputs": [
        {
          "output_type": "execute_result",
          "data": {
            "text/plain": [
              "      labels                                               text\n",
              "0       spam  naturally irresistible your corporate identity...\n",
              "1       spam  the stock trading gunslinger fanny is merrill ...\n",
              "2       spam  unbelievable new homes made easy im wanting to...\n",
              "3       spam  4 color printing special request additional in...\n",
              "4       spam  do not have money get software cds from here s...\n",
              "...      ...                                                ...\n",
              "20343    ham                                               /ban\n",
              "20344    ham                                               /ban\n",
              "20345    ham                                               /ban\n",
              "20346    ham                                          Kaisi hii\n",
              "20347    ham                                            Shock q\n",
              "\n",
              "[20348 rows x 2 columns]"
            ],
            "text/html": [
              "<div>\n",
              "<style scoped>\n",
              "    .dataframe tbody tr th:only-of-type {\n",
              "        vertical-align: middle;\n",
              "    }\n",
              "\n",
              "    .dataframe tbody tr th {\n",
              "        vertical-align: top;\n",
              "    }\n",
              "\n",
              "    .dataframe thead th {\n",
              "        text-align: right;\n",
              "    }\n",
              "</style>\n",
              "<table border=\"1\" class=\"dataframe\">\n",
              "  <thead>\n",
              "    <tr style=\"text-align: right;\">\n",
              "      <th></th>\n",
              "      <th>labels</th>\n",
              "      <th>text</th>\n",
              "    </tr>\n",
              "  </thead>\n",
              "  <tbody>\n",
              "    <tr>\n",
              "      <th>0</th>\n",
              "      <td>spam</td>\n",
              "      <td>naturally irresistible your corporate identity...</td>\n",
              "    </tr>\n",
              "    <tr>\n",
              "      <th>1</th>\n",
              "      <td>spam</td>\n",
              "      <td>the stock trading gunslinger fanny is merrill ...</td>\n",
              "    </tr>\n",
              "    <tr>\n",
              "      <th>2</th>\n",
              "      <td>spam</td>\n",
              "      <td>unbelievable new homes made easy im wanting to...</td>\n",
              "    </tr>\n",
              "    <tr>\n",
              "      <th>3</th>\n",
              "      <td>spam</td>\n",
              "      <td>4 color printing special request additional in...</td>\n",
              "    </tr>\n",
              "    <tr>\n",
              "      <th>4</th>\n",
              "      <td>spam</td>\n",
              "      <td>do not have money get software cds from here s...</td>\n",
              "    </tr>\n",
              "    <tr>\n",
              "      <th>...</th>\n",
              "      <td>...</td>\n",
              "      <td>...</td>\n",
              "    </tr>\n",
              "    <tr>\n",
              "      <th>20343</th>\n",
              "      <td>ham</td>\n",
              "      <td>/ban</td>\n",
              "    </tr>\n",
              "    <tr>\n",
              "      <th>20344</th>\n",
              "      <td>ham</td>\n",
              "      <td>/ban</td>\n",
              "    </tr>\n",
              "    <tr>\n",
              "      <th>20345</th>\n",
              "      <td>ham</td>\n",
              "      <td>/ban</td>\n",
              "    </tr>\n",
              "    <tr>\n",
              "      <th>20346</th>\n",
              "      <td>ham</td>\n",
              "      <td>Kaisi hii</td>\n",
              "    </tr>\n",
              "    <tr>\n",
              "      <th>20347</th>\n",
              "      <td>ham</td>\n",
              "      <td>Shock q</td>\n",
              "    </tr>\n",
              "  </tbody>\n",
              "</table>\n",
              "<p>20348 rows × 2 columns</p>\n",
              "</div>"
            ]
          },
          "metadata": {},
          "execution_count": 86
        }
      ]
    },
    {
      "cell_type": "code",
      "source": [
        "from torch.utils.data import Dataset\n",
        "from sklearn.preprocessing import LabelEncoder\n",
        "import torchtext\n",
        "from torchtext.vocab import GloVe\n",
        "\n",
        "\n",
        "class MyDataset(Dataset):\n",
        "    def __init__(self, X, y, max_len=200):\n",
        "        self.X = X\n",
        "        self.y = y\n",
        "        self.max_len = max_len\n",
        "\n",
        "        self.label_encoder = LabelEncoder().fit(y)\n",
        "        self.vocab = torchtext.vocab.GloVe(name='840B', dim=300)\n",
        "\n",
        "    def __len__(self):\n",
        "        return len(self.X)\n",
        "\n",
        "    def __getitem__(self, idx):\n",
        "        label = self.label_encoder.transform([self.y.iloc[idx]])\n",
        "        label = torch.tensor(label)\n",
        "\n",
        "        text = self.X.iloc[idx]\n",
        "        tokens = text.split()\n",
        "\n",
        "        if len(tokens) > self.max_len:\n",
        "            tokens = tokens[:self.max_len]\n",
        "        else:\n",
        "            diff = self.max_len - len(tokens)\n",
        "\n",
        "            tokens += ['<pad>'] * diff\n",
        "\n",
        "        X = self.vocab.get_vecs_by_tokens(tokens, lower_case_backup=True)\n",
        "\n",
        "        return X, label[0]\n",
        "\n",
        "\n",
        "dataset = MyDataset(df['text'], df['labels'])"
      ],
      "metadata": {
        "id": "hWpWMeJgMUui"
      },
      "execution_count": 87,
      "outputs": []
    },
    {
      "cell_type": "code",
      "source": [
        "dataset[0][0].shape"
      ],
      "metadata": {
        "id": "xH6vs1uJOafP",
        "outputId": "1b436f73-63ad-4a5e-a8dd-2bd60809abe2",
        "colab": {
          "base_uri": "https://localhost:8080/"
        }
      },
      "execution_count": 88,
      "outputs": [
        {
          "output_type": "execute_result",
          "data": {
            "text/plain": [
              "torch.Size([200, 300])"
            ]
          },
          "metadata": {},
          "execution_count": 88
        }
      ]
    },
    {
      "cell_type": "code",
      "source": [
        "from torch.utils.data import random_split\n",
        "\n",
        "train_ratio = 0.8\n",
        "\n",
        "train_data, test_data = random_split(dataset, [train_ratio, 1-train_ratio])"
      ],
      "metadata": {
        "id": "GX4hRdspOnji"
      },
      "execution_count": 89,
      "outputs": []
    },
    {
      "cell_type": "code",
      "source": [
        "from torch.utils.data import DataLoader\n",
        "\n",
        "batch_size = 64\n",
        "\n",
        "train_loader = torch.utils.data.DataLoader(train_data, shuffle=True, batch_size=batch_size)\n",
        "test_loader = torch.utils.data.DataLoader(test_data, shuffle=True, batch_size=batch_size)"
      ],
      "metadata": {
        "id": "bp7J4x7KOqz7"
      },
      "execution_count": 90,
      "outputs": []
    },
    {
      "cell_type": "code",
      "source": [
        "from torch import nn\n",
        "import torch.nn.functional as F\n",
        "import numpy as np\n",
        "import math\n",
        "from torch import Tensor\n",
        "\n",
        "\n",
        "# class PositionalEncoding(nn.Module):\n",
        "\n",
        "#     def __init__(self, d_model: int, dropout: float = 0.0, max_len: int = 5000):\n",
        "#         super().__init__()\n",
        "#         self.dropout = nn.Dropout(p=dropout)\n",
        "\n",
        "#         position = torch.arange(max_len).unsqueeze(1)\n",
        "#         div_term = torch.exp(torch.arange(0, d_model, 2) * (-math.log(10000.0) / d_model))\n",
        "#         pe = torch.zeros(1, max_len, d_model)\n",
        "#         pe[0, :, 0::2] = torch.sin(position * div_term)\n",
        "#         pe[0, :, 1::2] = torch.cos(position * div_term)\n",
        "#         self.register_buffer('pe', pe)\n",
        "\n",
        "#     def forward(self, x: Tensor) -> Tensor:\n",
        "#         \"\"\"\n",
        "#         Arguments:\n",
        "#             x: Tensor, shape ``[batch_size, seq_len, embedding_dim]``\n",
        "#         \"\"\"\n",
        "#         x = x + self.pe[:, :x.size(1)]\n",
        "#         return self.dropout(x)"
      ],
      "metadata": {
        "id": "F-gAgu9BOubQ"
      },
      "execution_count": 91,
      "outputs": []
    },
    {
      "cell_type": "code",
      "source": [
        "class TextClassifier(nn.Module):\n",
        "    def __init__(self, encoding_dim, max_len, num_classes):\n",
        "        super().__init__()\n",
        "\n",
        "        #self.pos_encoder = PositionalEncoding(d_model=encoding_dim, max_len=max_len)\n",
        "\n",
        "        self.encoder = nn.TransformerEncoder(\n",
        "            nn.TransformerEncoderLayer(d_model=encoding_dim, nhead=2, batch_first=True, dim_feedforward=64),\n",
        "            num_layers=1\n",
        "        )\n",
        "\n",
        "        self.flatten = nn.Flatten()\n",
        "\n",
        "        self.linear1 = nn.Linear(encoding_dim * max_len, num_classes)\n",
        "\n",
        "    def forward(self, x):\n",
        "        #out = self.pos_encoder(x)\n",
        "        out = self.encoder(x)\n",
        "        out = self.flatten(out)\n",
        "        out = self.linear1(out)\n",
        "        return out\n",
        "\n",
        "    def predict(self, X, device='cpu'):\n",
        "        X = torch.FloatTensor(np.array(X)).to(device)\n",
        "\n",
        "        with torch.no_grad():\n",
        "            y_pred = F.softmax(self.forward(X), dim=-1)\n",
        "\n",
        "        return y_pred.cpu().numpy()\n",
        "\n",
        "device = torch.device('cuda' if torch.cuda.is_available() else 'cpu')\n",
        "model = TextClassifier(encoding_dim=300, max_len=200, num_classes=2).to(device)\n",
        "model"
      ],
      "metadata": {
        "id": "DZpiLMC1Oze0",
        "outputId": "78f58df7-64d3-4ba7-94c9-c26970893571",
        "colab": {
          "base_uri": "https://localhost:8080/"
        }
      },
      "execution_count": 92,
      "outputs": [
        {
          "output_type": "execute_result",
          "data": {
            "text/plain": [
              "TextClassifier(\n",
              "  (encoder): TransformerEncoder(\n",
              "    (layers): ModuleList(\n",
              "      (0): TransformerEncoderLayer(\n",
              "        (self_attn): MultiheadAttention(\n",
              "          (out_proj): NonDynamicallyQuantizableLinear(in_features=300, out_features=300, bias=True)\n",
              "        )\n",
              "        (linear1): Linear(in_features=300, out_features=64, bias=True)\n",
              "        (dropout): Dropout(p=0.1, inplace=False)\n",
              "        (linear2): Linear(in_features=64, out_features=300, bias=True)\n",
              "        (norm1): LayerNorm((300,), eps=1e-05, elementwise_affine=True)\n",
              "        (norm2): LayerNorm((300,), eps=1e-05, elementwise_affine=True)\n",
              "        (dropout1): Dropout(p=0.1, inplace=False)\n",
              "        (dropout2): Dropout(p=0.1, inplace=False)\n",
              "      )\n",
              "    )\n",
              "  )\n",
              "  (flatten): Flatten(start_dim=1, end_dim=-1)\n",
              "  (linear1): Linear(in_features=60000, out_features=2, bias=True)\n",
              ")"
            ]
          },
          "metadata": {},
          "execution_count": 92
        }
      ]
    },
    {
      "cell_type": "code",
      "source": [
        "params_num = 0\n",
        "\n",
        "for param in model.parameters():\n",
        "    size = param.size()\n",
        "\n",
        "    num = 1\n",
        "    for item in size:\n",
        "        num *= item\n",
        "    params_num += num\n",
        "\n",
        "params_num"
      ],
      "metadata": {
        "id": "-Xa1edjDO7V8",
        "outputId": "24dd606c-e7d5-46d5-b3c6-868a302f276d",
        "colab": {
          "base_uri": "https://localhost:8080/"
        }
      },
      "execution_count": 93,
      "outputs": [
        {
          "output_type": "execute_result",
          "data": {
            "text/plain": [
              "521166"
            ]
          },
          "metadata": {},
          "execution_count": 93
        }
      ]
    },
    {
      "cell_type": "code",
      "source": [
        "class_counts = df['labels'].value_counts().sort_index().values\n",
        "\n",
        "weights = 1.0 / class_counts\n",
        "weights = torch.FloatTensor(weights).to(device)"
      ],
      "metadata": {
        "id": "cigQ7jtEPviK"
      },
      "execution_count": 94,
      "outputs": []
    },
    {
      "cell_type": "code",
      "source": [
        "loss_fn = nn.CrossEntropyLoss(weight=weights)\n",
        "optimizer = torch.optim.AdamW(model.parameters(), lr=0.00001)"
      ],
      "metadata": {
        "id": "VH-D7-RBO_cu"
      },
      "execution_count": 95,
      "outputs": []
    },
    {
      "cell_type": "code",
      "source": [
        "weights"
      ],
      "metadata": {
        "id": "Km18cqyFRvqW",
        "outputId": "4a89e1d7-91d9-4ee6-c93c-dacd91510d14",
        "colab": {
          "base_uri": "https://localhost:8080/"
        }
      },
      "execution_count": 96,
      "outputs": [
        {
          "output_type": "execute_result",
          "data": {
            "text/plain": [
              "tensor([6.9750e-05, 1.6636e-04], device='cuda:0')"
            ]
          },
          "metadata": {},
          "execution_count": 96
        }
      ]
    },
    {
      "cell_type": "code",
      "source": [
        "import time\n",
        "\n",
        "def train(model, optimizer, loss_fn, train_dl, val_dl,\n",
        "          metrics=None, metrics_name=None, epochs=20, device='cpu', task='regression'):\n",
        "    '''\n",
        "    Runs training loop for classification problems. Returns Keras-style\n",
        "    per-epoch history of loss and accuracy over training and validation data.\n",
        "\n",
        "    Parameters\n",
        "    ----------\n",
        "    model : nn.Module\n",
        "        Neural network model\n",
        "    optimizer : torch.optim.Optimizer\n",
        "        Search space optimizer (e.g. Adam)\n",
        "    loss_fn :\n",
        "        Loss function (e.g. nn.CrossEntropyLoss())\n",
        "    train_dl :\n",
        "        Iterable dataloader for training data.\n",
        "    val_dl :\n",
        "        Iterable dataloader for validation data.\n",
        "    metrics: list\n",
        "        List of sklearn metrics functions to be calculated\n",
        "    metrics_name: list\n",
        "        List of matrics names\n",
        "    epochs : int\n",
        "        Number of epochs to run\n",
        "    device : string\n",
        "        Specifies 'cuda' or 'cpu'\n",
        "    task : string\n",
        "        type of problem. It can be regression, binary or multiclass\n",
        "\n",
        "    Returns\n",
        "    -------\n",
        "    Dictionary\n",
        "        Similar to Keras' fit(), the output dictionary contains per-epoch\n",
        "        history of training loss, training accuracy, validation loss, and\n",
        "        validation accuracy.\n",
        "    '''\n",
        "\n",
        "    print('train() called: model=%s, opt=%s(lr=%f), epochs=%d, device=%s\\n' % \\\n",
        "          (type(model).__name__, type(optimizer).__name__,\n",
        "           optimizer.param_groups[0]['lr'], epochs, device))\n",
        "\n",
        "    metrics = metrics if metrics else []\n",
        "    metrics_name = metrics_name if metrics_name else [metric.__name__ for metric in metrics]\n",
        "\n",
        "    history = {} # Collects per-epoch loss and metrics like Keras' fit().\n",
        "    history['loss'] = []\n",
        "    history['val_loss'] = []\n",
        "    for name in metrics_name:\n",
        "        history[name] = []\n",
        "        history[f'val_{name}'] = []\n",
        "\n",
        "    start_time_train = time.time()\n",
        "\n",
        "    for epoch in range(epochs):\n",
        "\n",
        "        # --- TRAIN AND EVALUATE ON TRAINING SET -----------------------------\n",
        "        start_time_epoch = time.time()\n",
        "\n",
        "        model.train()\n",
        "        history_train = {name: 0 for name in ['loss']+metrics_name}\n",
        "\n",
        "        for batch in train_dl:\n",
        "            x    = batch[0].to(device).float()\n",
        "            y    = batch[1].to(device).long()\n",
        "            y_pred = model(x)\n",
        "            loss = loss_fn(y_pred, y)\n",
        "\n",
        "            optimizer.zero_grad()\n",
        "            loss.backward()\n",
        "            optimizer.step()\n",
        "\n",
        "            y_pred = y_pred.detach().cpu().numpy()\n",
        "            y = y.detach().cpu().numpy()\n",
        "\n",
        "\n",
        "            history_train['loss'] += loss.item() * x.size(0)\n",
        "            for name, func in zip(metrics_name, metrics):\n",
        "              try:\n",
        "                  history_train[name] += func(y, y_pred) * x.size(0)\n",
        "              except:\n",
        "                  if task == 'binary': y_pred_ = y_pred.round()\n",
        "                  elif task == 'multiclass': y_pred_ = y_pred.argmax(axis=-1)\n",
        "                  history_train[name] += func(y, y_pred_) * x.size(0)\n",
        "\n",
        "        for name in history_train:\n",
        "            history_train[name] /= len(train_dl.dataset)\n",
        "\n",
        "\n",
        "        # --- EVALUATE ON VALIDATION SET -------------------------------------\n",
        "        model.eval()\n",
        "        history_val = {'val_' + name: 0 for name in metrics_name+['loss']}\n",
        "\n",
        "        with torch.no_grad():\n",
        "            for batch in val_dl:\n",
        "                x    = batch[0].to(device).float()\n",
        "                y    = batch[1].to(device).long()\n",
        "                y_pred = model(x)\n",
        "                loss = loss_fn(y_pred, y)\n",
        "\n",
        "                y_pred = y_pred.cpu().numpy()\n",
        "                y = y.cpu().numpy()\n",
        "\n",
        "                history_val['val_loss'] += loss.item() * x.size(0)\n",
        "                for name, func in zip(metrics_name, metrics):\n",
        "                    try:\n",
        "                        history_val['val_'+name] += func(y, y_pred) * x.size(0)\n",
        "                    except:\n",
        "                        if task == 'binary': y_pred_ = y_pred.round()\n",
        "                        elif task == 'multiclass': y_pred_ = y_pred.argmax(axis=-1)\n",
        "\n",
        "                        history_val['val_'+name] += func(y, y_pred_) * x.size(0)\n",
        "\n",
        "        for name in history_val:\n",
        "            history_val[name] /= len(val_dl.dataset)\n",
        "\n",
        "        # PRINTING RESULTS\n",
        "\n",
        "        end_time_epoch = time.time()\n",
        "\n",
        "        for name in history_train:\n",
        "            history[name].append(history_train[name])\n",
        "            history['val_'+name].append(history_val['val_'+name])\n",
        "\n",
        "        total_time_epoch = end_time_epoch - start_time_epoch\n",
        "\n",
        "        print(f'Epoch {epoch+1:4d} {total_time_epoch:4.0f}sec', end='\\t')\n",
        "        for name in history_train:\n",
        "            print(f'{name}: {history[name][-1]:10.3g}', end='\\t')\n",
        "            print(f\"val_{name}: {history['val_'+name][-1]:10.3g}\", end='\\t')\n",
        "        print()\n",
        "\n",
        "    # END OF TRAINING LOOP\n",
        "\n",
        "    end_time_train       = time.time()\n",
        "    total_time_train     = end_time_train - start_time_train\n",
        "    print()\n",
        "    print('Time total:     %5.2f sec' % (total_time_train))\n",
        "\n",
        "    return history"
      ],
      "metadata": {
        "id": "oxhDdJDFPC5T"
      },
      "execution_count": 97,
      "outputs": []
    },
    {
      "cell_type": "code",
      "source": [
        "from sklearn.metrics import accuracy_score, roc_auc_score\n",
        "\n",
        "history = train(model, optimizer, loss_fn, train_loader, test_loader,\n",
        "                epochs=30,\n",
        "                metrics=[accuracy_score],\n",
        "                device=device,\n",
        "                task='multiclass')"
      ],
      "metadata": {
        "id": "P5cidtOtP2x8",
        "outputId": "10e5bcd7-a869-49e0-d80a-80b010ea2e8a",
        "colab": {
          "base_uri": "https://localhost:8080/"
        }
      },
      "execution_count": 98,
      "outputs": [
        {
          "output_type": "stream",
          "name": "stdout",
          "text": [
            "train() called: model=TextClassifier, opt=AdamW(lr=0.000010), epochs=30, device=cuda\n",
            "\n",
            "Epoch    1   24sec\tloss:      0.394\tval_loss:      0.319\taccuracy_score:       0.83\tval_accuracy_score:      0.863\t\n",
            "Epoch    2   25sec\tloss:      0.271\tval_loss:      0.282\taccuracy_score:      0.895\tval_accuracy_score:      0.882\t\n",
            "Epoch    3   25sec\tloss:       0.23\tval_loss:      0.242\taccuracy_score:      0.911\tval_accuracy_score:      0.899\t\n",
            "Epoch    4   25sec\tloss:      0.201\tval_loss:      0.227\taccuracy_score:      0.924\tval_accuracy_score:      0.913\t\n",
            "Epoch    5   25sec\tloss:      0.181\tval_loss:      0.213\taccuracy_score:      0.931\tval_accuracy_score:      0.915\t\n",
            "Epoch    6   25sec\tloss:      0.168\tval_loss:      0.204\taccuracy_score:      0.937\tval_accuracy_score:      0.912\t\n",
            "Epoch    7   25sec\tloss:      0.155\tval_loss:        0.2\taccuracy_score:      0.941\tval_accuracy_score:      0.922\t\n",
            "Epoch    8   25sec\tloss:      0.146\tval_loss:      0.192\taccuracy_score:      0.945\tval_accuracy_score:      0.923\t\n",
            "Epoch    9   25sec\tloss:      0.141\tval_loss:      0.187\taccuracy_score:      0.948\tval_accuracy_score:      0.931\t\n",
            "Epoch   10   25sec\tloss:      0.134\tval_loss:      0.187\taccuracy_score:      0.951\tval_accuracy_score:      0.925\t\n",
            "Epoch   11   25sec\tloss:      0.129\tval_loss:      0.187\taccuracy_score:      0.952\tval_accuracy_score:      0.929\t\n",
            "Epoch   12   25sec\tloss:      0.123\tval_loss:      0.185\taccuracy_score:      0.956\tval_accuracy_score:      0.933\t\n",
            "Epoch   13   25sec\tloss:      0.117\tval_loss:      0.178\taccuracy_score:      0.958\tval_accuracy_score:      0.928\t\n",
            "Epoch   14   25sec\tloss:      0.115\tval_loss:      0.182\taccuracy_score:      0.957\tval_accuracy_score:      0.931\t\n",
            "Epoch   15   25sec\tloss:      0.109\tval_loss:      0.192\taccuracy_score:       0.96\tval_accuracy_score:      0.935\t\n",
            "Epoch   16   25sec\tloss:      0.107\tval_loss:      0.177\taccuracy_score:       0.96\tval_accuracy_score:      0.933\t\n",
            "Epoch   17   25sec\tloss:      0.102\tval_loss:      0.183\taccuracy_score:      0.961\tval_accuracy_score:      0.931\t\n",
            "Epoch   18   25sec\tloss:     0.0983\tval_loss:      0.186\taccuracy_score:      0.963\tval_accuracy_score:      0.931\t\n",
            "Epoch   19   25sec\tloss:     0.0963\tval_loss:       0.19\taccuracy_score:      0.966\tval_accuracy_score:      0.937\t\n",
            "Epoch   20   25sec\tloss:     0.0958\tval_loss:      0.172\taccuracy_score:      0.965\tval_accuracy_score:      0.938\t\n",
            "Epoch   21   25sec\tloss:     0.0877\tval_loss:      0.181\taccuracy_score:      0.969\tval_accuracy_score:      0.932\t\n",
            "Epoch   22   25sec\tloss:     0.0868\tval_loss:      0.174\taccuracy_score:      0.968\tval_accuracy_score:      0.934\t\n",
            "Epoch   23   26sec\tloss:     0.0824\tval_loss:      0.182\taccuracy_score:      0.971\tval_accuracy_score:      0.934\t\n",
            "Epoch   24   25sec\tloss:     0.0802\tval_loss:      0.185\taccuracy_score:      0.971\tval_accuracy_score:      0.941\t\n",
            "Epoch   25   27sec\tloss:     0.0801\tval_loss:      0.182\taccuracy_score:      0.972\tval_accuracy_score:      0.938\t\n",
            "Epoch   26   25sec\tloss:     0.0764\tval_loss:      0.178\taccuracy_score:      0.974\tval_accuracy_score:      0.941\t\n",
            "Epoch   27   25sec\tloss:     0.0734\tval_loss:      0.182\taccuracy_score:      0.973\tval_accuracy_score:      0.938\t\n",
            "Epoch   28   25sec\tloss:     0.0717\tval_loss:      0.197\taccuracy_score:      0.974\tval_accuracy_score:      0.942\t\n",
            "Epoch   29   25sec\tloss:     0.0696\tval_loss:      0.181\taccuracy_score:      0.976\tval_accuracy_score:      0.942\t\n",
            "Epoch   30   25sec\tloss:     0.0648\tval_loss:      0.187\taccuracy_score:      0.976\tval_accuracy_score:      0.939\t\n",
            "\n",
            "Time total:     752.36 sec\n"
          ]
        }
      ]
    },
    {
      "cell_type": "code",
      "source": [
        "import matplotlib.pyplot as plt\n",
        "\n",
        "def plot_metric(history, name):\n",
        "    plt.title(f\"Model results with {name}\")\n",
        "    plt.plot(history[name], label='train')\n",
        "    plt.plot(history['val_'+name], label='val')\n",
        "    plt.xlabel('Epoch')\n",
        "    plt.ylabel(name)\n",
        "    plt.legend()\n",
        "\n",
        "\n",
        "plot_metric(history, 'loss')"
      ],
      "metadata": {
        "id": "0hNeQYwTQDVm",
        "outputId": "8b68c127-3b7d-49ec-8d73-0f1681122765",
        "colab": {
          "base_uri": "https://localhost:8080/",
          "height": 472
        }
      },
      "execution_count": 99,
      "outputs": [
        {
          "output_type": "display_data",
          "data": {
            "text/plain": [
              "<Figure size 640x480 with 1 Axes>"
            ],
            "image/png": "[encoded data removed]"
          },
          "metadata": {}
        }
      ]
    },
    {
      "cell_type": "code",
      "source": [
        "plot_metric(history, 'accuracy_score')"
      ],
      "metadata": {
        "id": "5bczPZHKVVWQ",
        "outputId": "b7081d5e-4a0d-42ea-afc7-34a49cee0214",
        "colab": {
          "base_uri": "https://localhost:8080/",
          "height": 472
        }
      },
      "execution_count": 100,
      "outputs": [
        {
          "output_type": "display_data",
          "data": {
            "text/plain": [
              "<Figure size 640x480 with 1 Axes>"
            ],
            "image/png": "[encoded data removed]"
          },
          "metadata": {}
        }
      ]
    },
    {
      "cell_type": "code",
      "source": [
        "from sklearn.metrics import ConfusionMatrixDisplay\n",
        "\n",
        "model = model.to('cpu')\n",
        "\n",
        "loader = torch.utils.data.DataLoader(test_data, batch_size=len(test_data))\n",
        "X_test, y_test = next(iter(loader))\n",
        "\n",
        "y_pred = model.predict(X_test)\n",
        "\n",
        "ConfusionMatrixDisplay.from_predictions(y_test, y_pred.argmax(-1), display_labels=dataset.label_encoder.classes_)\n",
        "plt.xticks(rotation=90)\n",
        "plt.plot()"
      ],
      "metadata": {
        "id": "vplcD-hVV_wN",
        "outputId": "f63db2bd-624f-4ce8-c25f-1d30b6b46a92",
        "colab": {
          "base_uri": "https://localhost:8080/",
          "height": 492
        }
      },
      "execution_count": 101,
      "outputs": [
        {
          "output_type": "execute_result",
          "data": {
            "text/plain": [
              "[]"
            ]
          },
          "metadata": {},
          "execution_count": 101
        },
        {
          "output_type": "display_data",
          "data": {
            "text/plain": [
              "<Figure size 640x480 with 2 Axes>"
            ],
            "image/png": "[encoded data removed]"
          },
          "metadata": {}
        }
      ]
    },
    {
      "cell_type": "code",
      "source": [
        "from sklearn.metrics import classification_report\n",
        "\n",
        "print(classification_report(y_test, y_pred.argmax(-1), target_names=dataset.label_encoder.classes_))"
      ],
      "metadata": {
        "id": "wjTiuw18WJS1",
        "outputId": "a16c728f-1d08-4bf1-9d08-c4395f85694c",
        "colab": {
          "base_uri": "https://localhost:8080/"
        }
      },
      "execution_count": 102,
      "outputs": [
        {
          "output_type": "stream",
          "name": "stdout",
          "text": [
            "              precision    recall  f1-score   support\n",
            "\n",
            "         ham       0.97      0.95      0.96      2831\n",
            "        spam       0.88      0.92      0.90      1238\n",
            "\n",
            "    accuracy                           0.94      4069\n",
            "   macro avg       0.92      0.93      0.93      4069\n",
            "weighted avg       0.94      0.94      0.94      4069\n",
            "\n"
          ]
        }
      ]
    }
  ]
}