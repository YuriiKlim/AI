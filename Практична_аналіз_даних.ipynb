{
  "nbformat": 4,
  "nbformat_minor": 0,
  "metadata": {
    "colab": {
      "provenance": [],
      "include_colab_link": true
    },
    "kernelspec": {
      "name": "python3",
      "display_name": "Python 3"
    },
    "language_info": {
      "name": "python"
    }
  },
  "cells": [
    {
      "cell_type": "markdown",
      "metadata": {
        "id": "view-in-github",
        "colab_type": "text"
      },
      "source": [
        "<a href=\"https://colab.research.google.com/github/YuriiKlim/AI/blob/lesson4/%D0%9F%D1%80%D0%B0%D0%BA%D1%82%D0%B8%D1%87%D0%BD%D0%B0_%D0%B0%D0%BD%D0%B0%D0%BB%D1%96%D0%B7_%D0%B4%D0%B0%D0%BD%D0%B8%D1%85.ipynb\" target=\"_parent\"><img src=\"https://colab.research.google.com/assets/colab-badge.svg\" alt=\"Open In Colab\"/></a>"
      ]
    },
    {
      "cell_type": "markdown",
      "source": [
        "Імпорт модулів та даних"
      ],
      "metadata": {
        "id": "a26cpovdIJ-z"
      }
    },
    {
      "cell_type": "code",
      "execution_count": 1,
      "metadata": {
        "id": "ELISEy_4IIQR"
      },
      "outputs": [],
      "source": [
        "import numpy as np\n",
        "import pandas as pd\n",
        "import matplotlib.pyplot as plt"
      ]
    },
    {
      "cell_type": "code",
      "source": [
        "sales = pd.read_csv(\n",
        "    'https://raw.githubusercontent.com/HalyshAnton/IT-Step-Pyton-AI/main/module2/data/bike_sales.csv',\n",
        "    index_col = \"Unnamed: 0\",\n",
        "    parse_dates=['Date'])"
      ],
      "metadata": {
        "id": "cOmUjxDBIZ0w"
      },
      "execution_count": 5,
      "outputs": []
    },
    {
      "cell_type": "code",
      "source": [
        "sales.columns = sales.columns.str.lower()"
      ],
      "metadata": {
        "id": "vkFOSVdyoW5Z"
      },
      "execution_count": 7,
      "outputs": []
    },
    {
      "cell_type": "code",
      "source": [
        "sales.head()"
      ],
      "metadata": {
        "colab": {
          "base_uri": "https://localhost:8080/",
          "height": 206
        },
        "id": "HZZLgwfnLYhd",
        "outputId": "b1ec5d5d-65c6-4de0-9658-4ec7565ff04a"
      },
      "execution_count": 10,
      "outputs": [
        {
          "output_type": "execute_result",
          "data": {
            "text/plain": [
              "        date  day     month  year  customer_age       age_group  \\\n",
              "0 2013-11-26   26  November  2013            19     Youth (<25)   \n",
              "1 2015-11-26   26  November  2015            19     Youth (<25)   \n",
              "2 2014-03-23   23     March  2014            49  Adults (35-64)   \n",
              "3 2016-03-23   23     March  2016            49  Adults (35-64)   \n",
              "4 2014-05-15   15       May  2014            47  Adults (35-64)   \n",
              "\n",
              "  customer_gender    country             state product_category sub_category  \\\n",
              "0               M     Canada  British Columbia      Accessories   Bike Racks   \n",
              "1               M     Canada  British Columbia      Accessories   Bike Racks   \n",
              "2               M  Australia   New South Wales      Accessories   Bike Racks   \n",
              "3               M  Australia   New South Wales      Accessories   Bike Racks   \n",
              "4               F  Australia   New South Wales      Accessories   Bike Racks   \n",
              "\n",
              "               product  order_quantity  unit_cost  unit_price  profit  cost  \\\n",
              "0  Hitch Rack - 4-Bike               8         45         120     590   360   \n",
              "1  Hitch Rack - 4-Bike               8         45         120     590   360   \n",
              "2  Hitch Rack - 4-Bike              23         45         120    1366  1035   \n",
              "3  Hitch Rack - 4-Bike              20         45         120    1188   900   \n",
              "4  Hitch Rack - 4-Bike               4         45         120     238   180   \n",
              "\n",
              "   revenue  \n",
              "0      950  \n",
              "1      950  \n",
              "2     2401  \n",
              "3     2088  \n",
              "4      418  "
            ],
            "text/html": [
              "<div>\n",
              "<style scoped>\n",
              "    .dataframe tbody tr th:only-of-type {\n",
              "        vertical-align: middle;\n",
              "    }\n",
              "\n",
              "    .dataframe tbody tr th {\n",
              "        vertical-align: top;\n",
              "    }\n",
              "\n",
              "    .dataframe thead th {\n",
              "        text-align: right;\n",
              "    }\n",
              "</style>\n",
              "<table border=\"1\" class=\"dataframe\">\n",
              "  <thead>\n",
              "    <tr style=\"text-align: right;\">\n",
              "      <th></th>\n",
              "      <th>date</th>\n",
              "      <th>day</th>\n",
              "      <th>month</th>\n",
              "      <th>year</th>\n",
              "      <th>customer_age</th>\n",
              "      <th>age_group</th>\n",
              "      <th>customer_gender</th>\n",
              "      <th>country</th>\n",
              "      <th>state</th>\n",
              "      <th>product_category</th>\n",
              "      <th>sub_category</th>\n",
              "      <th>product</th>\n",
              "      <th>order_quantity</th>\n",
              "      <th>unit_cost</th>\n",
              "      <th>unit_price</th>\n",
              "      <th>profit</th>\n",
              "      <th>cost</th>\n",
              "      <th>revenue</th>\n",
              "    </tr>\n",
              "  </thead>\n",
              "  <tbody>\n",
              "    <tr>\n",
              "      <th>0</th>\n",
              "      <td>2013-11-26</td>\n",
              "      <td>26</td>\n",
              "      <td>November</td>\n",
              "      <td>2013</td>\n",
              "      <td>19</td>\n",
              "      <td>Youth (&lt;25)</td>\n",
              "      <td>M</td>\n",
              "      <td>Canada</td>\n",
              "      <td>British Columbia</td>\n",
              "      <td>Accessories</td>\n",
              "      <td>Bike Racks</td>\n",
              "      <td>Hitch Rack - 4-Bike</td>\n",
              "      <td>8</td>\n",
              "      <td>45</td>\n",
              "      <td>120</td>\n",
              "      <td>590</td>\n",
              "      <td>360</td>\n",
              "      <td>950</td>\n",
              "    </tr>\n",
              "    <tr>\n",
              "      <th>1</th>\n",
              "      <td>2015-11-26</td>\n",
              "      <td>26</td>\n",
              "      <td>November</td>\n",
              "      <td>2015</td>\n",
              "      <td>19</td>\n",
              "      <td>Youth (&lt;25)</td>\n",
              "      <td>M</td>\n",
              "      <td>Canada</td>\n",
              "      <td>British Columbia</td>\n",
              "      <td>Accessories</td>\n",
              "      <td>Bike Racks</td>\n",
              "      <td>Hitch Rack - 4-Bike</td>\n",
              "      <td>8</td>\n",
              "      <td>45</td>\n",
              "      <td>120</td>\n",
              "      <td>590</td>\n",
              "      <td>360</td>\n",
              "      <td>950</td>\n",
              "    </tr>\n",
              "    <tr>\n",
              "      <th>2</th>\n",
              "      <td>2014-03-23</td>\n",
              "      <td>23</td>\n",
              "      <td>March</td>\n",
              "      <td>2014</td>\n",
              "      <td>49</td>\n",
              "      <td>Adults (35-64)</td>\n",
              "      <td>M</td>\n",
              "      <td>Australia</td>\n",
              "      <td>New South Wales</td>\n",
              "      <td>Accessories</td>\n",
              "      <td>Bike Racks</td>\n",
              "      <td>Hitch Rack - 4-Bike</td>\n",
              "      <td>23</td>\n",
              "      <td>45</td>\n",
              "      <td>120</td>\n",
              "      <td>1366</td>\n",
              "      <td>1035</td>\n",
              "      <td>2401</td>\n",
              "    </tr>\n",
              "    <tr>\n",
              "      <th>3</th>\n",
              "      <td>2016-03-23</td>\n",
              "      <td>23</td>\n",
              "      <td>March</td>\n",
              "      <td>2016</td>\n",
              "      <td>49</td>\n",
              "      <td>Adults (35-64)</td>\n",
              "      <td>M</td>\n",
              "      <td>Australia</td>\n",
              "      <td>New South Wales</td>\n",
              "      <td>Accessories</td>\n",
              "      <td>Bike Racks</td>\n",
              "      <td>Hitch Rack - 4-Bike</td>\n",
              "      <td>20</td>\n",
              "      <td>45</td>\n",
              "      <td>120</td>\n",
              "      <td>1188</td>\n",
              "      <td>900</td>\n",
              "      <td>2088</td>\n",
              "    </tr>\n",
              "    <tr>\n",
              "      <th>4</th>\n",
              "      <td>2014-05-15</td>\n",
              "      <td>15</td>\n",
              "      <td>May</td>\n",
              "      <td>2014</td>\n",
              "      <td>47</td>\n",
              "      <td>Adults (35-64)</td>\n",
              "      <td>F</td>\n",
              "      <td>Australia</td>\n",
              "      <td>New South Wales</td>\n",
              "      <td>Accessories</td>\n",
              "      <td>Bike Racks</td>\n",
              "      <td>Hitch Rack - 4-Bike</td>\n",
              "      <td>4</td>\n",
              "      <td>45</td>\n",
              "      <td>120</td>\n",
              "      <td>238</td>\n",
              "      <td>180</td>\n",
              "      <td>418</td>\n",
              "    </tr>\n",
              "  </tbody>\n",
              "</table>\n",
              "</div>"
            ]
          },
          "metadata": {},
          "execution_count": 10
        }
      ]
    },
    {
      "cell_type": "markdown",
      "source": [
        "# Завдання 1\n",
        "Виведіть середнє значення та медіану для `order_quantity`. Чи є викиди?"
      ],
      "metadata": {
        "id": "ytyQSZNHJJa4"
      }
    },
    {
      "cell_type": "code",
      "source": [
        "sales['order_quantity'].describe()"
      ],
      "metadata": {
        "id": "TFuVPnSrreF1",
        "outputId": "8a2670d2-46e5-4719-82fa-d1702768efc1",
        "colab": {
          "base_uri": "https://localhost:8080/"
        }
      },
      "execution_count": 24,
      "outputs": [
        {
          "output_type": "execute_result",
          "data": {
            "text/plain": [
              "count    113036.000000\n",
              "mean         11.901660\n",
              "std           9.561857\n",
              "min           1.000000\n",
              "25%           2.000000\n",
              "50%          10.000000\n",
              "75%          20.000000\n",
              "max          32.000000\n",
              "Name: order_quantity, dtype: float64"
            ]
          },
          "metadata": {},
          "execution_count": 24
        }
      ]
    },
    {
      "cell_type": "code",
      "source": [
        "mean_order_quantity = sales['order_quantity'].mean()\n",
        "\n",
        "mean_order_quantity"
      ],
      "metadata": {
        "id": "o1c3Caf4Idhm",
        "outputId": "db2337d5-6269-42e3-8556-fee11c494e9b",
        "colab": {
          "base_uri": "https://localhost:8080/"
        }
      },
      "execution_count": 16,
      "outputs": [
        {
          "output_type": "execute_result",
          "data": {
            "text/plain": [
              "11.901659648253654"
            ]
          },
          "metadata": {},
          "execution_count": 16
        }
      ]
    },
    {
      "cell_type": "code",
      "source": [
        "median_order_quantity = sales['order_quantity'].median()\n",
        "\n",
        "median_order_quantity"
      ],
      "metadata": {
        "id": "pXyUqzFep7xI",
        "outputId": "db33e95f-fda7-4654-a5cb-f5c6f6d7628c",
        "colab": {
          "base_uri": "https://localhost:8080/"
        }
      },
      "execution_count": 17,
      "outputs": [
        {
          "output_type": "execute_result",
          "data": {
            "text/plain": [
              "10.0"
            ]
          },
          "metadata": {},
          "execution_count": 17
        }
      ]
    },
    {
      "cell_type": "code",
      "source": [
        "Q1 = sales['order_quantity'].quantile(0.25)\n",
        "Q3 = sales['order_quantity'].quantile(0.75)\n",
        "IQR = Q3 - Q1\n",
        "lower_bound = Q1 - 1.5 * IQR\n",
        "upper_bound = Q3 + 1.5 * IQR\n",
        "outliers = sales[(sales['order_quantity'] < lower_bound) | (sales['order_quantity'] > upper_bound)]\n",
        "\n",
        "outliers"
      ],
      "metadata": {
        "id": "W91DLAfFp1zK",
        "outputId": "4842a127-aa3c-4f06-f5e8-936417f98add",
        "colab": {
          "base_uri": "https://localhost:8080/",
          "height": 49
        }
      },
      "execution_count": 30,
      "outputs": [
        {
          "output_type": "execute_result",
          "data": {
            "text/plain": [
              "Empty DataFrame\n",
              "Columns: [date, day, month, year, customer_age, age_group, customer_gender, country, state, product_category, sub_category, product, order_quantity, unit_cost, unit_price, profit, cost, revenue]\n",
              "Index: []"
            ],
            "text/html": [
              "<div>\n",
              "<style scoped>\n",
              "    .dataframe tbody tr th:only-of-type {\n",
              "        vertical-align: middle;\n",
              "    }\n",
              "\n",
              "    .dataframe tbody tr th {\n",
              "        vertical-align: top;\n",
              "    }\n",
              "\n",
              "    .dataframe thead th {\n",
              "        text-align: right;\n",
              "    }\n",
              "</style>\n",
              "<table border=\"1\" class=\"dataframe\">\n",
              "  <thead>\n",
              "    <tr style=\"text-align: right;\">\n",
              "      <th></th>\n",
              "      <th>date</th>\n",
              "      <th>day</th>\n",
              "      <th>month</th>\n",
              "      <th>year</th>\n",
              "      <th>customer_age</th>\n",
              "      <th>age_group</th>\n",
              "      <th>customer_gender</th>\n",
              "      <th>country</th>\n",
              "      <th>state</th>\n",
              "      <th>product_category</th>\n",
              "      <th>sub_category</th>\n",
              "      <th>product</th>\n",
              "      <th>order_quantity</th>\n",
              "      <th>unit_cost</th>\n",
              "      <th>unit_price</th>\n",
              "      <th>profit</th>\n",
              "      <th>cost</th>\n",
              "      <th>revenue</th>\n",
              "    </tr>\n",
              "  </thead>\n",
              "  <tbody>\n",
              "  </tbody>\n",
              "</table>\n",
              "</div>"
            ]
          },
          "metadata": {},
          "execution_count": 30
        }
      ]
    },
    {
      "cell_type": "markdown",
      "source": [
        "# Завдання 2\n",
        "Намалюйте гістограму та ящик з вусами для `order_quantity`"
      ],
      "metadata": {
        "id": "PvOAZ3mrJo69"
      }
    },
    {
      "cell_type": "code",
      "source": [
        "sales['order_quantity'].plot(kind='box', vert=False, figsize=(14,3))"
      ],
      "metadata": {
        "id": "JgEcsJ65KCt7",
        "outputId": "035e8d34-7cda-4498-ee0e-0d20e60c18ea",
        "colab": {
          "base_uri": "https://localhost:8080/",
          "height": 308
        }
      },
      "execution_count": 23,
      "outputs": [
        {
          "output_type": "execute_result",
          "data": {
            "text/plain": [
              "<Axes: >"
            ]
          },
          "metadata": {},
          "execution_count": 23
        },
        {
          "output_type": "display_data",
          "data": {
            "text/plain": [
              "<Figure size 1400x300 with 1 Axes>"
            ],
            "image/png": "[encoded data removed]"
          },
          "metadata": {}
        }
      ]
    },
    {
      "cell_type": "markdown",
      "source": [
        "# Завдання 3\n",
        "Очистіть дані від викидів. Алгоритм:\n",
        "\n",
        "1. Обчислюємо нижній `q1` та верхній `q3` квантилі\n",
        "2. Обчислюємо медіану `median`\n",
        "3. Очислюємо значення `IQR = q3 - q1`\n",
        "4. Обчислюємо `lower = q1 - 1.5*IQR`\n",
        "5. Обчислюємо `upper = q3 + 1.5*IQR`\n",
        "6. Викидами вважаємо значення які `< lower` або `>upper`"
      ],
      "metadata": {
        "id": "rSUg_-c8KWoO"
      }
    },
    {
      "cell_type": "code",
      "source": [
        "def remove_outliers(sales):\n",
        "    for column in sales.select_dtypes(include=[float, int]).columns:\n",
        "        q1 = sales[column].quantile(0.25)\n",
        "        q3 = sales[column].quantile(0.75)\n",
        "        iqr = q3 - q1\n",
        "        lower_bound = q1 - 1.5 * iqr\n",
        "        upper_bound = q3 + 1.5 * iqr\n",
        "        sales = sales[(sales[column] >= lower_bound) & (sales[column] <= upper_bound)]\n",
        "    return sales\n",
        "\n",
        "cleaned_sales = remove_outliers(sales)\n",
        "\n",
        "cleaned_sales"
      ],
      "metadata": {
        "id": "GYqIAVqZumQh",
        "outputId": "92b9ec25-1a15-40e2-f49b-e22b1c675bdb",
        "colab": {
          "base_uri": "https://localhost:8080/",
          "height": 424
        }
      },
      "execution_count": 44,
      "outputs": [
        {
          "output_type": "execute_result",
          "data": {
            "text/plain": [
              "             date  day     month  year  customer_age       age_group  \\\n",
              "1048   2014-01-04    4   January  2014            53  Adults (35-64)   \n",
              "1049   2014-01-04    4   January  2014            53  Adults (35-64)   \n",
              "1050   2016-01-04    4   January  2016            53  Adults (35-64)   \n",
              "1051   2016-01-04    4   January  2016            53  Adults (35-64)   \n",
              "1052   2014-04-26   26     April  2014            53  Adults (35-64)   \n",
              "...           ...  ...       ...   ...           ...             ...   \n",
              "113015 2015-12-10   10  December  2015            20     Youth (<25)   \n",
              "113028 2013-12-28   28  December  2013            41  Adults (35-64)   \n",
              "113029 2015-12-28   28  December  2015            41  Adults (35-64)   \n",
              "113030 2014-04-12   12     April  2014            41  Adults (35-64)   \n",
              "113031 2016-04-12   12     April  2016            41  Adults (35-64)   \n",
              "\n",
              "       customer_gender         country       state product_category  \\\n",
              "1048                 M       Australia    Victoria      Accessories   \n",
              "1049                 M       Australia    Victoria      Accessories   \n",
              "1050                 M       Australia    Victoria      Accessories   \n",
              "1051                 M       Australia    Victoria      Accessories   \n",
              "1052                 M       Australia    Victoria      Accessories   \n",
              "...                ...             ...         ...              ...   \n",
              "113015               F   United States  Washington         Clothing   \n",
              "113028               M  United Kingdom     England         Clothing   \n",
              "113029               M  United Kingdom     England         Clothing   \n",
              "113030               M  United Kingdom     England         Clothing   \n",
              "113031               M  United Kingdom     England         Clothing   \n",
              "\n",
              "             sub_category               product  order_quantity  unit_cost  \\\n",
              "1048    Bottles and Cages  Mountain Bottle Cage               3          4   \n",
              "1049    Bottles and Cages  Mountain Bottle Cage              15          4   \n",
              "1050    Bottles and Cages  Mountain Bottle Cage               3          4   \n",
              "1051    Bottles and Cages  Mountain Bottle Cage              13          4   \n",
              "1052    Bottles and Cages  Mountain Bottle Cage               8          4   \n",
              "...                   ...                   ...             ...        ...   \n",
              "113015              Vests       Classic Vest, M               6         24   \n",
              "113028              Vests       Classic Vest, S               2         24   \n",
              "113029              Vests       Classic Vest, S               2         24   \n",
              "113030              Vests       Classic Vest, S               6         24   \n",
              "113031              Vests       Classic Vest, S               3         24   \n",
              "\n",
              "        unit_price  profit  cost  revenue  \n",
              "1048            10      12    12       24  \n",
              "1049            10      59    60      119  \n",
              "1050            10      12    12       24  \n",
              "1051            10      51    52      103  \n",
              "1052            10      31    32       63  \n",
              "...            ...     ...   ...      ...  \n",
              "113015          64     156   144      300  \n",
              "113028          64      75    48      123  \n",
              "113029          64      75    48      123  \n",
              "113030          64     225   144      369  \n",
              "113031          64     112    72      184  \n",
              "\n",
              "[67414 rows x 18 columns]"
            ],
            "text/html": [
              "<div>\n",
              "<style scoped>\n",
              "    .dataframe tbody tr th:only-of-type {\n",
              "        vertical-align: middle;\n",
              "    }\n",
              "\n",
              "    .dataframe tbody tr th {\n",
              "        vertical-align: top;\n",
              "    }\n",
              "\n",
              "    .dataframe thead th {\n",
              "        text-align: right;\n",
              "    }\n",
              "</style>\n",
              "<table border=\"1\" class=\"dataframe\">\n",
              "  <thead>\n",
              "    <tr style=\"text-align: right;\">\n",
              "      <th></th>\n",
              "      <th>date</th>\n",
              "      <th>day</th>\n",
              "      <th>month</th>\n",
              "      <th>year</th>\n",
              "      <th>customer_age</th>\n",
              "      <th>age_group</th>\n",
              "      <th>customer_gender</th>\n",
              "      <th>country</th>\n",
              "      <th>state</th>\n",
              "      <th>product_category</th>\n",
              "      <th>sub_category</th>\n",
              "      <th>product</th>\n",
              "      <th>order_quantity</th>\n",
              "      <th>unit_cost</th>\n",
              "      <th>unit_price</th>\n",
              "      <th>profit</th>\n",
              "      <th>cost</th>\n",
              "      <th>revenue</th>\n",
              "    </tr>\n",
              "  </thead>\n",
              "  <tbody>\n",
              "    <tr>\n",
              "      <th>1048</th>\n",
              "      <td>2014-01-04</td>\n",
              "      <td>4</td>\n",
              "      <td>January</td>\n",
              "      <td>2014</td>\n",
              "      <td>53</td>\n",
              "      <td>Adults (35-64)</td>\n",
              "      <td>M</td>\n",
              "      <td>Australia</td>\n",
              "      <td>Victoria</td>\n",
              "      <td>Accessories</td>\n",
              "      <td>Bottles and Cages</td>\n",
              "      <td>Mountain Bottle Cage</td>\n",
              "      <td>3</td>\n",
              "      <td>4</td>\n",
              "      <td>10</td>\n",
              "      <td>12</td>\n",
              "      <td>12</td>\n",
              "      <td>24</td>\n",
              "    </tr>\n",
              "    <tr>\n",
              "      <th>1049</th>\n",
              "      <td>2014-01-04</td>\n",
              "      <td>4</td>\n",
              "      <td>January</td>\n",
              "      <td>2014</td>\n",
              "      <td>53</td>\n",
              "      <td>Adults (35-64)</td>\n",
              "      <td>M</td>\n",
              "      <td>Australia</td>\n",
              "      <td>Victoria</td>\n",
              "      <td>Accessories</td>\n",
              "      <td>Bottles and Cages</td>\n",
              "      <td>Mountain Bottle Cage</td>\n",
              "      <td>15</td>\n",
              "      <td>4</td>\n",
              "      <td>10</td>\n",
              "      <td>59</td>\n",
              "      <td>60</td>\n",
              "      <td>119</td>\n",
              "    </tr>\n",
              "    <tr>\n",
              "      <th>1050</th>\n",
              "      <td>2016-01-04</td>\n",
              "      <td>4</td>\n",
              "      <td>January</td>\n",
              "      <td>2016</td>\n",
              "      <td>53</td>\n",
              "      <td>Adults (35-64)</td>\n",
              "      <td>M</td>\n",
              "      <td>Australia</td>\n",
              "      <td>Victoria</td>\n",
              "      <td>Accessories</td>\n",
              "      <td>Bottles and Cages</td>\n",
              "      <td>Mountain Bottle Cage</td>\n",
              "      <td>3</td>\n",
              "      <td>4</td>\n",
              "      <td>10</td>\n",
              "      <td>12</td>\n",
              "      <td>12</td>\n",
              "      <td>24</td>\n",
              "    </tr>\n",
              "    <tr>\n",
              "      <th>1051</th>\n",
              "      <td>2016-01-04</td>\n",
              "      <td>4</td>\n",
              "      <td>January</td>\n",
              "      <td>2016</td>\n",
              "      <td>53</td>\n",
              "      <td>Adults (35-64)</td>\n",
              "      <td>M</td>\n",
              "      <td>Australia</td>\n",
              "      <td>Victoria</td>\n",
              "      <td>Accessories</td>\n",
              "      <td>Bottles and Cages</td>\n",
              "      <td>Mountain Bottle Cage</td>\n",
              "      <td>13</td>\n",
              "      <td>4</td>\n",
              "      <td>10</td>\n",
              "      <td>51</td>\n",
              "      <td>52</td>\n",
              "      <td>103</td>\n",
              "    </tr>\n",
              "    <tr>\n",
              "      <th>1052</th>\n",
              "      <td>2014-04-26</td>\n",
              "      <td>26</td>\n",
              "      <td>April</td>\n",
              "      <td>2014</td>\n",
              "      <td>53</td>\n",
              "      <td>Adults (35-64)</td>\n",
              "      <td>M</td>\n",
              "      <td>Australia</td>\n",
              "      <td>Victoria</td>\n",
              "      <td>Accessories</td>\n",
              "      <td>Bottles and Cages</td>\n",
              "      <td>Mountain Bottle Cage</td>\n",
              "      <td>8</td>\n",
              "      <td>4</td>\n",
              "      <td>10</td>\n",
              "      <td>31</td>\n",
              "      <td>32</td>\n",
              "      <td>63</td>\n",
              "    </tr>\n",
              "    <tr>\n",
              "      <th>...</th>\n",
              "      <td>...</td>\n",
              "      <td>...</td>\n",
              "      <td>...</td>\n",
              "      <td>...</td>\n",
              "      <td>...</td>\n",
              "      <td>...</td>\n",
              "      <td>...</td>\n",
              "      <td>...</td>\n",
              "      <td>...</td>\n",
              "      <td>...</td>\n",
              "      <td>...</td>\n",
              "      <td>...</td>\n",
              "      <td>...</td>\n",
              "      <td>...</td>\n",
              "      <td>...</td>\n",
              "      <td>...</td>\n",
              "      <td>...</td>\n",
              "      <td>...</td>\n",
              "    </tr>\n",
              "    <tr>\n",
              "      <th>113015</th>\n",
              "      <td>2015-12-10</td>\n",
              "      <td>10</td>\n",
              "      <td>December</td>\n",
              "      <td>2015</td>\n",
              "      <td>20</td>\n",
              "      <td>Youth (&lt;25)</td>\n",
              "      <td>F</td>\n",
              "      <td>United States</td>\n",
              "      <td>Washington</td>\n",
              "      <td>Clothing</td>\n",
              "      <td>Vests</td>\n",
              "      <td>Classic Vest, M</td>\n",
              "      <td>6</td>\n",
              "      <td>24</td>\n",
              "      <td>64</td>\n",
              "      <td>156</td>\n",
              "      <td>144</td>\n",
              "      <td>300</td>\n",
              "    </tr>\n",
              "    <tr>\n",
              "      <th>113028</th>\n",
              "      <td>2013-12-28</td>\n",
              "      <td>28</td>\n",
              "      <td>December</td>\n",
              "      <td>2013</td>\n",
              "      <td>41</td>\n",
              "      <td>Adults (35-64)</td>\n",
              "      <td>M</td>\n",
              "      <td>United Kingdom</td>\n",
              "      <td>England</td>\n",
              "      <td>Clothing</td>\n",
              "      <td>Vests</td>\n",
              "      <td>Classic Vest, S</td>\n",
              "      <td>2</td>\n",
              "      <td>24</td>\n",
              "      <td>64</td>\n",
              "      <td>75</td>\n",
              "      <td>48</td>\n",
              "      <td>123</td>\n",
              "    </tr>\n",
              "    <tr>\n",
              "      <th>113029</th>\n",
              "      <td>2015-12-28</td>\n",
              "      <td>28</td>\n",
              "      <td>December</td>\n",
              "      <td>2015</td>\n",
              "      <td>41</td>\n",
              "      <td>Adults (35-64)</td>\n",
              "      <td>M</td>\n",
              "      <td>United Kingdom</td>\n",
              "      <td>England</td>\n",
              "      <td>Clothing</td>\n",
              "      <td>Vests</td>\n",
              "      <td>Classic Vest, S</td>\n",
              "      <td>2</td>\n",
              "      <td>24</td>\n",
              "      <td>64</td>\n",
              "      <td>75</td>\n",
              "      <td>48</td>\n",
              "      <td>123</td>\n",
              "    </tr>\n",
              "    <tr>\n",
              "      <th>113030</th>\n",
              "      <td>2014-04-12</td>\n",
              "      <td>12</td>\n",
              "      <td>April</td>\n",
              "      <td>2014</td>\n",
              "      <td>41</td>\n",
              "      <td>Adults (35-64)</td>\n",
              "      <td>M</td>\n",
              "      <td>United Kingdom</td>\n",
              "      <td>England</td>\n",
              "      <td>Clothing</td>\n",
              "      <td>Vests</td>\n",
              "      <td>Classic Vest, S</td>\n",
              "      <td>6</td>\n",
              "      <td>24</td>\n",
              "      <td>64</td>\n",
              "      <td>225</td>\n",
              "      <td>144</td>\n",
              "      <td>369</td>\n",
              "    </tr>\n",
              "    <tr>\n",
              "      <th>113031</th>\n",
              "      <td>2016-04-12</td>\n",
              "      <td>12</td>\n",
              "      <td>April</td>\n",
              "      <td>2016</td>\n",
              "      <td>41</td>\n",
              "      <td>Adults (35-64)</td>\n",
              "      <td>M</td>\n",
              "      <td>United Kingdom</td>\n",
              "      <td>England</td>\n",
              "      <td>Clothing</td>\n",
              "      <td>Vests</td>\n",
              "      <td>Classic Vest, S</td>\n",
              "      <td>3</td>\n",
              "      <td>24</td>\n",
              "      <td>64</td>\n",
              "      <td>112</td>\n",
              "      <td>72</td>\n",
              "      <td>184</td>\n",
              "    </tr>\n",
              "  </tbody>\n",
              "</table>\n",
              "<p>67414 rows × 18 columns</p>\n",
              "</div>"
            ]
          },
          "metadata": {},
          "execution_count": 44
        }
      ]
    },
    {
      "cell_type": "markdown",
      "source": [
        "# Завдання 4\n",
        "Ввиведіть гістограму з кількістю чоловіків та жінок серед покупців."
      ],
      "metadata": {
        "id": "8gsa2GlOKpUd"
      }
    },
    {
      "cell_type": "code",
      "source": [],
      "metadata": {
        "id": "2Y-HdKpdK6RZ"
      },
      "execution_count": null,
      "outputs": []
    },
    {
      "cell_type": "markdown",
      "source": [
        "# Завдання 5\n",
        "Виведіть точкову діаграму для ознак `order_quantity` та `revenue`"
      ],
      "metadata": {
        "id": "PBeBwimbM-D1"
      }
    },
    {
      "cell_type": "code",
      "source": [],
      "metadata": {
        "id": "kcviHw18NLfG"
      },
      "execution_count": null,
      "outputs": []
    },
    {
      "cell_type": "markdown",
      "source": [
        "# Завдання 6\n",
        "Знайдіть категоріальну характеристику, від якої залежить ознака `profit`"
      ],
      "metadata": {
        "id": "x4j0MppQK7B2"
      }
    },
    {
      "cell_type": "code",
      "source": [],
      "metadata": {
        "id": "3MVGpRVDLW3U"
      },
      "execution_count": null,
      "outputs": []
    }
  ]
}