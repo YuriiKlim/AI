{
  "nbformat": 4,
  "nbformat_minor": 0,
  "metadata": {
    "colab": {
      "provenance": [],
      "gpuType": "T4",
      "include_colab_link": true
    },
    "kernelspec": {
      "name": "python3",
      "display_name": "Python 3"
    },
    "language_info": {
      "name": "python"
    },
    "accelerator": "GPU"
  },
  "cells": [
    {
      "cell_type": "markdown",
      "metadata": {
        "id": "view-in-github",
        "colab_type": "text"
      },
      "source": [
        "<a href=\"https://colab.research.google.com/github/YuriiKlim/AI/blob/Neural_lesson1/Lab11.ipynb\" target=\"_parent\"><img src=\"https://colab.research.google.com/assets/colab-badge.svg\" alt=\"Open In Colab\"/></a>"
      ]
    },
    {
      "cell_type": "markdown",
      "source": [
        "Імпорт модулів"
      ],
      "metadata": {
        "id": "ZnHVsAJ_5Py3"
      }
    },
    {
      "cell_type": "code",
      "execution_count": 57,
      "metadata": {
        "id": "yJf_g69N5LP6"
      },
      "outputs": [],
      "source": [
        "import torch\n",
        "import numpy as np"
      ]
    },
    {
      "cell_type": "markdown",
      "source": [
        "# Завдання 1\n",
        "\n",
        "Перегляньте інформацію про доступні процесори, та виведіть про них інформацію"
      ],
      "metadata": {
        "id": "pRkcTmfh6jCX"
      }
    },
    {
      "cell_type": "code",
      "source": [
        "torch.cuda.is_available()"
      ],
      "metadata": {
        "colab": {
          "base_uri": "https://localhost:8080/"
        },
        "id": "S4mPOivh4GbX",
        "outputId": "0c73d69a-2f1e-4286-e40c-38f0bd1e9b70"
      },
      "execution_count": 58,
      "outputs": [
        {
          "output_type": "execute_result",
          "data": {
            "text/plain": [
              "True"
            ]
          },
          "metadata": {},
          "execution_count": 58
        }
      ]
    },
    {
      "cell_type": "code",
      "source": [
        "torch.cuda.device_count()"
      ],
      "metadata": {
        "colab": {
          "base_uri": "https://localhost:8080/"
        },
        "id": "ZnXSpgCF4Idn",
        "outputId": "2f902789-4aaf-4656-bc47-62e3f77c3abe"
      },
      "execution_count": 59,
      "outputs": [
        {
          "output_type": "execute_result",
          "data": {
            "text/plain": [
              "1"
            ]
          },
          "metadata": {},
          "execution_count": 59
        }
      ]
    },
    {
      "cell_type": "markdown",
      "source": [
        "# Завдання 2\n",
        "Підключіть colab до процесора GPU, та знову виведіть інформацію про доступні процесори"
      ],
      "metadata": {
        "id": "xTLIVYQg6z5G"
      }
    },
    {
      "cell_type": "code",
      "source": [
        "torch.cuda.get_device_name(0)"
      ],
      "metadata": {
        "id": "iVPWDF2D8dAM",
        "colab": {
          "base_uri": "https://localhost:8080/"
        },
        "outputId": "b922ba6d-4ed3-480a-89e0-55c732293285"
      },
      "execution_count": 60,
      "outputs": [
        {
          "output_type": "execute_result",
          "data": {
            "text/plain": [
              "'NVIDIA GeForce RTX 4060'"
            ]
          },
          "metadata": {},
          "execution_count": 60
        }
      ]
    },
    {
      "cell_type": "markdown",
      "source": [
        "# Завдання 3\n",
        "Створіть випадковий тензор розміру (2, 3). Виведіть інформацію про його:\n",
        "\n",
        "* розмір\n",
        "* тип даних\n",
        "* процесор\n",
        "* наявність градієнта"
      ],
      "metadata": {
        "id": "OkMil6fb7AiX"
      }
    },
    {
      "cell_type": "code",
      "source": [
        "tensor = torch.rand(2, 3)\n",
        "\n",
        "print(tensor)\n",
        "print(tensor.size())\n",
        "print(tensor.dtype)\n",
        "print(tensor.device)\n",
        "print(tensor.requires_grad)"
      ],
      "metadata": {
        "id": "ih3MeOto8yrO",
        "colab": {
          "base_uri": "https://localhost:8080/"
        },
        "outputId": "0d45a882-68e3-45db-8d5f-991e6c524c7e"
      },
      "execution_count": 61,
      "outputs": [
        {
          "output_type": "stream",
          "name": "stdout",
          "text": [
            "tensor([[0.5646, 0.7847, 0.7633],\n",
            "        [0.3044, 0.0846, 0.0680]])\n",
            "torch.Size([2, 3])\n",
            "torch.float32\n",
            "cpu\n",
            "False\n"
          ]
        }
      ]
    },
    {
      "cell_type": "markdown",
      "source": [
        "# Завдання 4\n",
        "\n",
        "Створіть 2 тензора розміру 100. Використовуючи лише модуль `torch` обрахуйте середьню абсолютну похибку(mae) між ними. Виведіть результат як число"
      ],
      "metadata": {
        "id": "nNrrplv_9Vha"
      }
    },
    {
      "cell_type": "code",
      "source": [
        "tensor1 = torch.rand(100)\n",
        "tensor2 = torch.rand(100)\n",
        "\n",
        "mae = torch.mean(torch.abs(tensor1 - tensor2))\n",
        "\n",
        "print(mae.item())"
      ],
      "metadata": {
        "id": "HybhfrBT9wT5",
        "colab": {
          "base_uri": "https://localhost:8080/"
        },
        "outputId": "5cb877c7-ce5e-4884-f93a-f69c9af5660b"
      },
      "execution_count": 62,
      "outputs": [
        {
          "output_type": "stream",
          "name": "stdout",
          "text": [
            "0.3649728000164032\n"
          ]
        }
      ]
    },
    {
      "cell_type": "markdown",
      "source": [
        "# Завдання 5\n",
        "\n",
        "Створіть 3 випадкових тензора з розмірами:\n",
        "* 32х28х28\n",
        "* 16х28х28\n",
        "* 64х28х28\n",
        "\n",
        "Об'єднайте їх по першій розмірності. Результат має мати розмір 112х28х28"
      ],
      "metadata": {
        "id": "JoU54G199w5-"
      }
    },
    {
      "cell_type": "code",
      "source": [
        "tensor1 = torch.rand(32, 28, 28)\n",
        "tensor2 = torch.rand(16, 28, 28)\n",
        "tensor3 = torch.rand(64, 28, 28)\n",
        "\n",
        "combined_tensor = torch.cat((tensor1, tensor2, tensor3), dim=0)\n",
        "\n",
        "print(combined_tensor.shape)"
      ],
      "metadata": {
        "id": "Ar7NOowB-NBn",
        "colab": {
          "base_uri": "https://localhost:8080/"
        },
        "outputId": "294bdea2-c9a3-43b9-9788-058433398ea2"
      },
      "execution_count": 63,
      "outputs": [
        {
          "output_type": "stream",
          "name": "stdout",
          "text": [
            "torch.Size([112, 28, 28])\n"
          ]
        }
      ]
    },
    {
      "cell_type": "markdown",
      "source": [
        "# Завдання 6\n",
        "Застосуйте метод градієнтного спуску для функції"
      ],
      "metadata": {
        "id": "8v4erUf8-Tnn"
      }
    },
    {
      "cell_type": "code",
      "source": [
        "def f(x):\n",
        "    return x**2 / 3 + torch.sin(torch.pi * x)\n",
        "\n",
        "x = torch.tensor([2.0], requires_grad=True)\n",
        "\n",
        "learning_rate = 1e-2\n",
        "num_iterations = 5000\n",
        "\n",
        "optimizer = torch.optim.SGD([x], lr=learning_rate, momentum=0.9)\n",
        "\n",
        "for i in range(num_iterations):\n",
        "    optimizer.zero_grad()\n",
        "    y = f(x)\n",
        "    y.backward()\n",
        "    optimizer.step()\n",
        "\n",
        "    if i % 500 == 0:\n",
        "        print(f\"Iteration {i}: x = {x.item()}, f(x) = {y.item()}\")\n",
        "\n",
        "print(f\"Final result: x = {x.item()}, f(x) = {f(x).item()}\")\n",
        "\n"
      ],
      "metadata": {
        "id": "c89FE7vc-aWy",
        "colab": {
          "base_uri": "https://localhost:8080/"
        },
        "outputId": "43844df9-aa53-45a6-d101-bd3d5e925058"
      },
      "execution_count": 80,
      "outputs": [
        {
          "output_type": "stream",
          "name": "stdout",
          "text": [
            "Iteration 0: x = 1.9552507400512695, f(x) = 1.3333334922790527\n",
            "Iteration 500: x = 1.4037208557128906, f(x) = -0.2977929711341858\n",
            "Iteration 1000: x = 1.4037208557128906, f(x) = -0.2977929711341858\n",
            "Iteration 1500: x = 1.4037208557128906, f(x) = -0.2977929711341858\n",
            "Iteration 2000: x = 1.4037208557128906, f(x) = -0.2977929711341858\n",
            "Iteration 2500: x = 1.4037208557128906, f(x) = -0.2977929711341858\n",
            "Iteration 3000: x = 1.4037208557128906, f(x) = -0.2977929711341858\n",
            "Iteration 3500: x = 1.4037208557128906, f(x) = -0.2977929711341858\n",
            "Iteration 4000: x = 1.4037208557128906, f(x) = -0.2977929711341858\n",
            "Iteration 4500: x = 1.4037208557128906, f(x) = -0.2977929711341858\n",
            "Final result: x = 1.4037208557128906, f(x) = -0.2977929711341858\n"
          ]
        }
      ]
    },
    {
      "cell_type": "code",
      "source": [
        "import matplotlib.pyplot as plt\n",
        "\n",
        "xs = torch.linspace(-3, 5, 100)\n",
        "plt.plot(xs.cpu(), f(xs).cpu(), label='f(x)')\n",
        "plt.scatter(x.item(), f(x).item(), c='red', label='min')\n",
        "plt.legend()"
      ],
      "metadata": {
        "colab": {
          "base_uri": "https://localhost:8080/",
          "height": 448
        },
        "id": "gGpbjwhe84wu",
        "outputId": "b8a043e2-498b-46f1-891a-bd3ba2cdb467"
      },
      "execution_count": 81,
      "outputs": [
        {
          "output_type": "execute_result",
          "data": {
            "text/plain": [
              "<matplotlib.legend.Legend at 0x2192abe62d0>"
            ]
          },
          "metadata": {},
          "execution_count": 81
        },
        {
          "output_type": "display_data",
          "data": {
            "text/plain": [
              "<Figure size 640x480 with 1 Axes>"
            ],
            "image/png": "[encoded data removed]"
          },
          "metadata": {}
        }
      ]
    },
    {
      "cell_type": "markdown",
      "source": [
        "# Завдання 7\n",
        "Застосуйте метод градієнтного спуску для функції. Мінімум функції рівний 0"
      ],
      "metadata": {
        "id": "UjHK74ES-iuO"
      }
    },
    {
      "cell_type": "code",
      "source": [
        "def f1(x, y):\n",
        "  # функція Швефеля\n",
        "  return  418.9829*2 - x*torch.sin(x.abs().sqrt()) - y*torch.sin(y.abs().sqrt())\n",
        "\n",
        "x = torch.tensor([420.0], requires_grad=True)\n",
        "y = torch.tensor([420.0], requires_grad=True)\n",
        "\n",
        "learning_rate = 1e-3\n",
        "num_iterations = 1000\n",
        "\n",
        "for i in range(num_iterations):\n",
        "    z = f1(x, y)\n",
        "    z.backward()\n",
        "\n",
        "    with torch.no_grad():\n",
        "        x -= learning_rate * x.grad\n",
        "        y -= learning_rate * y.grad\n",
        "\n",
        "    x.grad.zero_()\n",
        "    y.grad.zero_()\n",
        "\n",
        "    if i % 100 == 0:\n",
        "        print(f\"Iteration {i}: x = {x.item()}, y = {y.item()}, f1(x, y) = {z.item()}\")\n",
        "\n",
        "print(f\"Final result for f1: x = {x.item()}, y = {y.item()}, f1(x, y) = {f1(x, y).item()}\")"
      ],
      "metadata": {
        "id": "vRD515Ik_xM-",
        "colab": {
          "base_uri": "https://localhost:8080/"
        },
        "outputId": "78d52c6a-6b3a-41e5-b62b-db91035a6f2e"
      },
      "execution_count": 66,
      "outputs": [
        {
          "output_type": "stream",
          "name": "stdout",
          "text": [
            "Iteration 0: x = 420.000244140625, y = 420.000244140625, f1(x, y) = 0.23687744140625\n",
            "Iteration 100: x = 420.024658203125, y = 420.024658203125, f1(x, y) = 0.22503662109375\n",
            "Iteration 200: x = 420.049072265625, y = 420.049072265625, f1(x, y) = 0.2135009765625\n",
            "Iteration 300: x = 420.07196044921875, y = 420.07196044921875, f1(x, y) = 0.2030029296875\n",
            "Iteration 400: x = 420.09332275390625, y = 420.09332275390625, f1(x, y) = 0.19342041015625\n",
            "Iteration 500: x = 420.11468505859375, y = 420.11468505859375, f1(x, y) = 0.18414306640625\n",
            "Iteration 600: x = 420.13604736328125, y = 420.13604736328125, f1(x, y) = 0.175048828125\n",
            "Iteration 700: x = 420.15740966796875, y = 420.15740966796875, f1(x, y) = 0.16619873046875\n",
            "Iteration 800: x = 420.17877197265625, y = 420.17877197265625, f1(x, y) = 0.15753173828125\n",
            "Iteration 900: x = 420.1976013183594, y = 420.1976013183594, f1(x, y) = 0.15020751953125\n",
            "Final result for f1: x = 420.2157287597656, y = 420.2157287597656, f1(x, y) = 0.14312744140625\n"
          ]
        }
      ]
    },
    {
      "cell_type": "code",
      "source": [
        "def f2(x, y):\n",
        "  # трьохгорбна функція\n",
        "  return 2*x**2  - 1.05*x**4 + 1/6*x**6 + x*y  + y**2\n",
        "\n",
        "x = torch.tensor([2.0], requires_grad=True)\n",
        "y = torch.tensor([2.0], requires_grad=True)\n",
        "\n",
        "learning_rate = 1e-3\n",
        "num_iterations = 1000\n",
        "\n",
        "for i in range(num_iterations):\n",
        "    z = f2(x, y)\n",
        "    z.backward()\n",
        "\n",
        "    with torch.no_grad():\n",
        "        x -= learning_rate * x.grad\n",
        "        y -= learning_rate * y.grad\n",
        "\n",
        "    x.grad.zero_()\n",
        "    y.grad.zero_()\n",
        "\n",
        "    if i % 100 == 0:\n",
        "        print(f\"Iteration {i}: x = {x.item()}, y = {y.item()}, f2(x, y) = {z.item()}\")\n",
        "\n",
        "print(f\"Final result for f2: x = {x.item()}, y = {y.item()}, f2(x, y) = {f2(x, y).item()}\")"
      ],
      "metadata": {
        "colab": {
          "base_uri": "https://localhost:8080/"
        },
        "id": "Uvz8UgX994b7",
        "outputId": "0444441d-efb7-47ff-a567-510091966617"
      },
      "execution_count": 67,
      "outputs": [
        {
          "output_type": "stream",
          "name": "stdout",
          "text": [
            "Iteration 0: x = 1.9916000366210938, y = 1.99399995803833, f2(x, y) = 9.866667747497559\n",
            "Iteration 100: x = 1.6580251455307007, y = 1.471152663230896, f2(x, y) = 5.652504920959473\n",
            "Iteration 200: x = 1.5609359741210938, y = 1.0589896440505981, f2(x, y) = 3.838778018951416\n",
            "Iteration 300: x = 1.523820400238037, y = 0.7272871732711792, f2(x, y) = 2.7154409885406494\n",
            "Iteration 400: x = 1.5205059051513672, y = 0.45745861530303955, f2(x, y) = 1.9819341897964478\n",
            "Iteration 500: x = 1.5401320457458496, y = 0.23575380444526672, f2(x, y) = 1.4834020137786865\n",
            "Iteration 600: x = 1.5735431909561157, y = 0.051781389862298965, f2(x, y) = 1.1318942308425903\n",
            "Iteration 700: x = 1.611114740371704, y = -0.10210733860731125, f2(x, y) = 0.8797217607498169\n",
            "Iteration 800: x = 1.6449054479599, y = -0.23135438561439514, f2(x, y) = 0.7003297805786133\n",
            "Iteration 900: x = 1.6711702346801758, y = -0.33987870812416077, f2(x, y) = 0.5749552845954895\n",
            "Final result for f2: x = 1.6898828744888306, y = -0.42991194128990173, f2(x, y) = 0.48833298683166504\n"
          ]
        }
      ]
    },
    {
      "cell_type": "code",
      "source": [
        "def f3(x, y):\n",
        "  # функція птах\n",
        "  return 106.7645 + torch.sin(x)*torch.exp((1-torch.cos(y))**2) + \\\n",
        "  torch.cos(y)*torch.exp((1-torch.sin(x))**2) + \\\n",
        "  (x-y)**2\n",
        "\n",
        "x = torch.tensor([2.0], requires_grad=True)\n",
        "y = torch.tensor([2.0], requires_grad=True)\n",
        "\n",
        "learning_rate = 1e-3\n",
        "num_iterations = 1000\n",
        "\n",
        "for i in range(num_iterations):\n",
        "    z = f3(x, y)\n",
        "    z.backward()\n",
        "\n",
        "    with torch.no_grad():\n",
        "        x -= learning_rate * x.grad\n",
        "        y -= learning_rate * y.grad\n",
        "\n",
        "    x.grad.zero_()\n",
        "    y.grad.zero_()\n",
        "\n",
        "    if i % 100 == 0:\n",
        "        print(f\"Iteration {i}: x = {x.item()}, y = {y.item()}, f3(x, y) = {z.item()}\")\n",
        "\n",
        "print(f\"Final result for f3: x = {x.item()}, y = {y.item()}, f3(x, y) = {f3(x, y).item()}\")"
      ],
      "metadata": {
        "id": "j2RaZh9E-oyK",
        "colab": {
          "base_uri": "https://localhost:8080/"
        },
        "outputId": "7684eeed-27db-4d9a-d22c-1c5d89ad8032"
      },
      "execution_count": 68,
      "outputs": [
        {
          "output_type": "stream",
          "name": "stdout",
          "text": [
            "Iteration 0: x = 2.0031235218048096, y = 1.983518123626709, f3(x, y) = 113.10063171386719\n",
            "Iteration 100: x = 2.082117795944214, y = 1.4960546493530273, f3(x, y) = 109.23965454101562\n",
            "Iteration 200: x = 2.0568418502807617, y = 1.3999743461608887, f3(x, y) = 109.12965393066406\n",
            "Iteration 300: x = 2.009514093399048, y = 1.358312964439392, f3(x, y) = 109.08916473388672\n",
            "Iteration 400: x = 1.953424096107483, y = 1.3313020467758179, f3(x, y) = 109.05033874511719\n",
            "Iteration 500: x = 1.8924598693847656, y = 1.3087677955627441, f3(x, y) = 109.00811767578125\n",
            "Iteration 600: x = 1.828104853630066, y = 1.287676453590393, f3(x, y) = 108.96226501464844\n",
            "Iteration 700: x = 1.7611361742019653, y = 1.2670965194702148, f3(x, y) = 108.91320037841797\n",
            "Iteration 800: x = 1.6921221017837524, y = 1.2467530965805054, f3(x, y) = 108.8614501953125\n",
            "Iteration 900: x = 1.6215827465057373, y = 1.2265790700912476, f3(x, y) = 108.80763244628906\n",
            "Final result for f3: x = 1.5507731437683105, y = 1.206771969795227, f3(x, y) = 108.75247955322266\n"
          ]
        }
      ]
    }
  ]
}