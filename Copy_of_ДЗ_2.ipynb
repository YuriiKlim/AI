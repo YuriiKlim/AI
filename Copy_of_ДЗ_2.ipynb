{
  "nbformat": 4,
  "nbformat_minor": 0,
  "metadata": {
    "colab": {
      "provenance": [],
      "toc_visible": true,
      "include_colab_link": true
    },
    "kernelspec": {
      "name": "python3",
      "display_name": "Python 3"
    },
    "language_info": {
      "name": "python"
    }
  },
  "cells": [
    {
      "cell_type": "markdown",
      "metadata": {
        "id": "view-in-github",
        "colab_type": "text"
      },
      "source": [
        "<a href=\"https://colab.research.google.com/github/YuriiKlim/AI/blob/lesson2/Copy_of_%D0%94%D0%97_2.ipynb\" target=\"_parent\"><img src=\"https://colab.research.google.com/assets/colab-badge.svg\" alt=\"Open In Colab\"/></a>"
      ]
    },
    {
      "cell_type": "markdown",
      "source": [
        "Імпортуйте модуль numpy"
      ],
      "metadata": {
        "id": "tk2sNnUDkXK9"
      }
    },
    {
      "cell_type": "code",
      "source": [
        "import numpy as np"
      ],
      "metadata": {
        "id": "1QbCsQ62kUmZ"
      },
      "execution_count": 2,
      "outputs": []
    },
    {
      "cell_type": "markdown",
      "source": [
        "#Завдання 1\n",
        "\n",
        "Створіть масив з парними числами між 30 і 70"
      ],
      "metadata": {
        "id": "ZVC4Yb3JZFO1"
      }
    },
    {
      "cell_type": "code",
      "source": [
        "array = np.arange(30, 71)\n",
        "\n",
        "print(array)"
      ],
      "metadata": {
        "id": "aunm4Jm_hUkL",
        "outputId": "6536aa92-61c5-4f07-eb09-2f92ea082bae",
        "colab": {
          "base_uri": "https://localhost:8080/"
        }
      },
      "execution_count": null,
      "outputs": [
        {
          "output_type": "stream",
          "name": "stdout",
          "text": [
            "[30 31 32 33 34 35 36 37 38 39 40 41 42 43 44 45 46 47 48 49 50 51 52 53\n",
            " 54 55 56 57 58 59 60 61 62 63 64 65 66 67 68 69 70]\n"
          ]
        }
      ]
    },
    {
      "cell_type": "markdown",
      "source": [
        "#Завдання 2\n",
        "Створіть масив з 10 числами між 0(включно) та 1(не включно) див документацію"
      ],
      "metadata": {
        "id": "UDSLr3f0b31r"
      }
    },
    {
      "cell_type": "code",
      "source": [
        "lin = np.linspace(0, 0.99, num=10)\n",
        "\n",
        "print(lin)"
      ],
      "metadata": {
        "id": "w7iNkGd_hUM-",
        "outputId": "a7a1c412-796e-4fa8-e084-7e02eb740d01",
        "colab": {
          "base_uri": "https://localhost:8080/"
        }
      },
      "execution_count": null,
      "outputs": [
        {
          "output_type": "stream",
          "name": "stdout",
          "text": [
            "[0.   0.11 0.22 0.33 0.44 0.55 0.66 0.77 0.88 0.99]\n"
          ]
        }
      ]
    },
    {
      "cell_type": "markdown",
      "source": [
        "#Завдання 4\n",
        "Напишіть функцію яка приймає матрицю розміру nxn та повертає матрицю розміру (n+2) x (n+2), на краях якої розміщенні 0."
      ],
      "metadata": {
        "id": "rtWKmLWhYi_j"
      }
    },
    {
      "cell_type": "code",
      "source": [
        "def pad_with_zeros(matrix):\n",
        "    n = matrix.shape[0]\n",
        "    padded_matrix = np.zeros((n + 2, n + 2))\n",
        "    padded_matrix[1:n+1, 1:n+1] = matrix\n",
        "    return padded_matrix\n",
        "\n",
        "example_matrix = np.array([[1, 2], [3, 4]])\n",
        "padded_matrix = pad_with_zeros(example_matrix)\n",
        "\n",
        "print(example_matrix)\n",
        "print(padded_matrix)"
      ],
      "metadata": {
        "id": "mU7vjsnqhVfk",
        "colab": {
          "base_uri": "https://localhost:8080/"
        },
        "outputId": "446707cb-69da-4ea5-fe64-0341df5e95fb"
      },
      "execution_count": null,
      "outputs": [
        {
          "output_type": "execute_result",
          "data": {
            "text/plain": [
              "array([[0., 0., 0., 0.],\n",
              "       [0., 1., 2., 0.],\n",
              "       [0., 3., 4., 0.],\n",
              "       [0., 0., 0., 0.]])"
            ]
          },
          "metadata": {},
          "execution_count": 34
        }
      ]
    },
    {
      "cell_type": "markdown",
      "source": [
        "#Завдання 5\n",
        "У попередьньому масиві змініть тип даних. Виведіть тип даних до та після зміни"
      ],
      "metadata": {
        "id": "ok_hMAEJa9oh"
      }
    },
    {
      "cell_type": "code",
      "source": [
        "original_dtype = padded_matrix.dtype\n",
        "padded_matrix = padded_matrix.astype(np.float32)\n",
        "new_dtype = padded_matrix.dtype\n",
        "\n",
        "print(original_dtype, new_dtype)"
      ],
      "metadata": {
        "id": "vYlj3r3ShV98",
        "outputId": "1353e65f-bc7c-48c9-cdfc-f0829e053c65",
        "colab": {
          "base_uri": "https://localhost:8080/"
        }
      },
      "execution_count": null,
      "outputs": [
        {
          "output_type": "execute_result",
          "data": {
            "text/plain": [
              "(dtype('float32'), dtype('float32'))"
            ]
          },
          "metadata": {},
          "execution_count": 33
        }
      ]
    },
    {
      "cell_type": "markdown",
      "source": [
        "#Завдання 6\n",
        "У даному масиві замініть елементи, які дорівнюють\\більші\\менші за var на -1"
      ],
      "metadata": {
        "id": "aR7TWyqgZUDg"
      }
    },
    {
      "cell_type": "code",
      "source": [
        "x = np.array([1, 5, 3, 8, 6, 5, 7, 4])\n",
        "var = 5\n",
        "equal = np.copy(x)\n",
        "more = np.copy(x)\n",
        "less = np.copy(x)\n",
        "\n",
        "equal[equal == var] = -1\n",
        "more[more > var] = -1\n",
        "less[less < var] = -1\n",
        "\n",
        "print(equal)\n",
        "print(more)\n",
        "print(less)"
      ],
      "metadata": {
        "id": "oPzL69Fbg2Wq",
        "outputId": "db70a0ee-0be1-45fc-a419-2156ebea84cc",
        "colab": {
          "base_uri": "https://localhost:8080/"
        }
      },
      "execution_count": null,
      "outputs": [
        {
          "output_type": "stream",
          "name": "stdout",
          "text": [
            "[ 1 -1  3  8  6 -1  7  4]\n",
            "[ 1  5  3 -1 -1  5 -1  4]\n",
            "[-1  5 -1  8  6  5  7 -1]\n"
          ]
        }
      ]
    },
    {
      "cell_type": "markdown",
      "source": [
        "#Завдання 7\n",
        "Замініть пропущені значення матриці(np.nan) на -1\n",
        "\n",
        "Дивись np.isnan"
      ],
      "metadata": {
        "id": "Ks3Rtc7kajMJ"
      }
    },
    {
      "cell_type": "code",
      "source": [
        "X = np.array([[1, 2, np.nan, 4],\n",
        "              [5, np.nan, np.nan, 4],\n",
        "              [np.nan, 10, 11, np.nan]])\n",
        "\n",
        "X[np.isnan(X)] = -1\n",
        "\n",
        "print(X)"
      ],
      "metadata": {
        "id": "Rr8CdINEg3Rj",
        "outputId": "7c7b5a27-4806-4fdc-8e8e-e708dfd8a1fd",
        "colab": {
          "base_uri": "https://localhost:8080/"
        }
      },
      "execution_count": null,
      "outputs": [
        {
          "output_type": "stream",
          "name": "stdout",
          "text": [
            "[[ 1.  2. -1.  4.]\n",
            " [ 5. -1. -1.  4.]\n",
            " [-1. 10. 11. -1.]]\n"
          ]
        }
      ]
    },
    {
      "cell_type": "markdown",
      "source": [
        "#Завдання 8\n",
        "Створіть матрицю розміру 4х6 з випадковими числами. Змініть її розмір на 3х8"
      ],
      "metadata": {
        "id": "teYwjikMa0gs"
      }
    },
    {
      "cell_type": "code",
      "source": [
        "random_matrix = np.random.random((4, 6))\n",
        "reshaped_matrix = random_matrix.reshape(3, 8)\n",
        "\n",
        "print(random_matrix, \"\\n\")\n",
        "\n",
        "print(reshaped_matrix)"
      ],
      "metadata": {
        "id": "JhNvUJwxhXED",
        "outputId": "b90a16a3-509a-4651-a298-a2f50948603e",
        "colab": {
          "base_uri": "https://localhost:8080/"
        }
      },
      "execution_count": null,
      "outputs": [
        {
          "output_type": "stream",
          "name": "stdout",
          "text": [
            "[[0.61058846 0.11690407 0.13513504 0.88674734 0.35801029 0.40922414]\n",
            " [0.88448484 0.89526763 0.53330587 0.28531411 0.12750739 0.29712762]\n",
            " [0.48240913 0.66295793 0.59892658 0.05275073 0.24561491 0.67713262]\n",
            " [0.79104355 0.32399909 0.40973987 0.95988415 0.6998496  0.54185851]] \n",
            "\n",
            "[[0.61058846 0.11690407 0.13513504 0.88674734 0.35801029 0.40922414\n",
            "  0.88448484 0.89526763]\n",
            " [0.53330587 0.28531411 0.12750739 0.29712762 0.48240913 0.66295793\n",
            "  0.59892658 0.05275073]\n",
            " [0.24561491 0.67713262 0.79104355 0.32399909 0.40973987 0.95988415\n",
            "  0.6998496  0.54185851]]\n"
          ]
        }
      ]
    },
    {
      "cell_type": "markdown",
      "source": [
        "#Завдання 9\n",
        "Створіть матрицю з одиниць розміром 3х4. Знайдіть середнє арифметичне(mean) кожного стовпчика"
      ],
      "metadata": {
        "id": "jVE8280acszi"
      }
    },
    {
      "cell_type": "code",
      "source": [
        "ones_matrix = np.random.random((3, 4))\n",
        "\n",
        "column_means = ones_matrix.mean(axis=0)\n",
        "\n",
        "print(ones_matrix, \"\\n\")\n",
        "print(column_means)"
      ],
      "metadata": {
        "id": "5QI6HPNHhXd4",
        "outputId": "ccc25354-1d84-41cb-f136-8873e7ead6ec",
        "colab": {
          "base_uri": "https://localhost:8080/"
        }
      },
      "execution_count": null,
      "outputs": [
        {
          "output_type": "stream",
          "name": "stdout",
          "text": [
            "[[0.98942214 0.96666569 0.27238101 0.45588513]\n",
            " [0.05012695 0.45349301 0.47873557 0.00111174]\n",
            " [0.03764764 0.73601762 0.72591401 0.06796055]] \n",
            "\n",
            "[0.35906558 0.71872544 0.49234353 0.17498581]\n"
          ]
        }
      ]
    },
    {
      "cell_type": "markdown",
      "source": [
        "#Завдання 10\n",
        "Створіть випадкову матрицю розміром 5х6. Округліть значення до одного знаку після коми(np.round). Розмістіть стовпчики так, щоб значення в першому рядку були відсортовані за зростанням"
      ],
      "metadata": {
        "id": "nK6LwLjfc9aC"
      }
    },
    {
      "cell_type": "code",
      "source": [
        "random_matrix = np.random.rand(5, 6)\n",
        "\n",
        "rounded_matrix = np.round(random_matrix, 1)\n",
        "\n",
        "sorted_indices = np.argsort(rounded_matrix[0])\n",
        "sorted_matrix = rounded_matrix[:, sorted_indices]\n",
        "\n",
        "print(sorted_matrix)"
      ],
      "metadata": {
        "id": "pERBNp12hX58",
        "outputId": "b3723954-26ca-4140-ffb9-2a37bf16cbd4",
        "colab": {
          "base_uri": "https://localhost:8080/"
        }
      },
      "execution_count": null,
      "outputs": [
        {
          "output_type": "stream",
          "name": "stdout",
          "text": [
            "[[0.1 0.2 0.3 0.6 0.7 0.8]\n",
            " [0.4 0.1 0.6 0.7 0.  0.6]\n",
            " [0.7 0.8 0.7 0.7 0.2 0.9]\n",
            " [0.6 0.6 0.9 0.1 0.6 0.5]\n",
            " [0.1 0.3 0.7 0.1 0.9 0.6]]\n"
          ]
        }
      ]
    },
    {
      "cell_type": "markdown",
      "source": [
        "#Завдання 11\n",
        "В даній матриці знайдіть всі елементи зі значенням між 3 і 6\n",
        "\n",
        "Дивись документацію np.logical_and"
      ],
      "metadata": {
        "id": "faCqq4bxiXsg"
      }
    },
    {
      "cell_type": "code",
      "source": [
        "X = np.array([[1, 2, 3, 4, 5],\n",
        "              [6, 7, 8, 9, 10],\n",
        "              [9, 8, 7, 6, 5],\n",
        "              [4, 3, 2, 1, 0]])\n",
        "\n",
        "elements = X[(X >= 3) & (X <= 6)]\n",
        "\n",
        "print(elements)"
      ],
      "metadata": {
        "id": "01ZY_c-tilOF",
        "colab": {
          "base_uri": "https://localhost:8080/"
        },
        "outputId": "accbe665-fc6f-42c7-8446-761f882775c1"
      },
      "execution_count": 6,
      "outputs": [
        {
          "output_type": "stream",
          "name": "stdout",
          "text": [
            "[3 4 5 6 6 5 4 3]\n"
          ]
        }
      ]
    },
    {
      "cell_type": "markdown",
      "source": [
        "#Завдання 12\n",
        "Створіть випадкову матрицю розміру 5х6. Нормалізуйте стовпчики: від кожного елемента ставпчика відніміть мінімальне значення та поділіть результат на різницю між максимальним та мінімальним елементом цього стовпчика.\n",
        "\n",
        "Після цього всі значення мають бути в межах [0, 1]"
      ],
      "metadata": {
        "id": "cCZSaa3DMKxb"
      }
    },
    {
      "cell_type": "code",
      "source": [
        "random_matrix = np.random.rand(5, 6)\n",
        "\n",
        "min_values = random_matrix.min(axis=0)\n",
        "max_values = random_matrix.max(axis=0)\n",
        "normalized_matrix = (random_matrix - min_values) / (max_values - min_values)\n",
        "\n",
        "print(normalized_matrix)"
      ],
      "metadata": {
        "id": "qnOYOAgOMqRi",
        "colab": {
          "base_uri": "https://localhost:8080/"
        },
        "outputId": "654bd7d7-de0e-4434-99b4-1308aeb4ccaa"
      },
      "execution_count": 7,
      "outputs": [
        {
          "output_type": "stream",
          "name": "stdout",
          "text": [
            "[[0.81153705 0.64989418 0.         0.15303004 0.91742755 0.70558186]\n",
            " [0.8716317  0.         0.44361938 0.29332294 0.01473696 0.88600304]\n",
            " [1.         0.89802963 0.03982181 1.         0.         1.        ]\n",
            " [0.         1.         0.59475627 0.         1.         0.01743908]\n",
            " [0.49919721 0.47561866 1.         0.24271756 0.30371558 0.        ]]\n"
          ]
        }
      ]
    }
  ]
}