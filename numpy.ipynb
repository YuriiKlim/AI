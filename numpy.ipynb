{
  "cells": [
    {
      "cell_type": "markdown",
      "metadata": {
        "id": "view-in-github",
        "colab_type": "text"
      },
      "source": [
        "<a href=\"https://colab.research.google.com/github/YuriiKlim/AI/blob/main/numpy.ipynb\" target=\"_parent\"><img src=\"https://colab.research.google.com/assets/colab-badge.svg\" alt=\"Open In Colab\"/></a>"
      ]
    },
    {
      "cell_type": "markdown",
      "metadata": {
        "id": "2f8f08d0-ee5d-4c3f-af38-60f72d0cc790"
      },
      "source": [
        "\n",
        "**Матеріали**:\n",
        "\n",
        "-   Корисні матеріали по numpy із зображеннями [A Visual Intro to NumPy](http://jalammar.github.io/visual-numpy/).\n"
      ],
      "id": "2f8f08d0-ee5d-4c3f-af38-60f72d0cc790"
    },
    {
      "cell_type": "markdown",
      "metadata": {
        "id": "bf02826b-e527-43b4-a42d-1577c070e3ba"
      },
      "source": [
        "## Numpy"
      ],
      "id": "bf02826b-e527-43b4-a42d-1577c070e3ba"
    },
    {
      "cell_type": "markdown",
      "metadata": {
        "id": "b4cf4645-5505-4059-87fe-1c9c6052958f"
      },
      "source": [
        "Numpy це модуль мови Python для швидких математичних обчислень. Він дозволяє створювати та обробляти масиви даних високих розмірностей."
      ],
      "id": "b4cf4645-5505-4059-87fe-1c9c6052958f"
    },
    {
      "cell_type": "markdown",
      "metadata": {
        "id": "61e9f793-d834-4362-bd11-47754caa6fd0"
      },
      "source": [
        "Щоб використовувати `numpy`, нам спочатку потрібно імпортувати пакет numpy. За домовленістю ми імпортуємо його за допомогою псевдоніма `np`. Тоді, коли ми хочемо використовувати модулі або функції в цій бібліотеці, ми перед ними ставимо `np`."
      ],
      "id": "61e9f793-d834-4362-bd11-47754caa6fd0"
    },
    {
      "cell_type": "code",
      "execution_count": null,
      "metadata": {
        "id": "03ba5ce8-938d-4219-8237-3e08291c2318"
      },
      "outputs": [],
      "source": [
        "import numpy as np"
      ],
      "id": "03ba5ce8-938d-4219-8237-3e08291c2318"
    },
    {
      "cell_type": "markdown",
      "metadata": {
        "id": "190fe0ab-4ee6-459d-8492-c816258b0286"
      },
      "source": [
        "### Масиви"
      ],
      "id": "190fe0ab-4ee6-459d-8492-c816258b0286"
    },
    {
      "cell_type": "markdown",
      "metadata": {
        "id": "b86ed7e5-47cf-4dbc-a950-8d6b3ad52f57"
      },
      "source": [
        "Масив numpy — це сітка однотипних значень. Кожен елемент індексується декількома числами, в залежності від розмірності масиву."
      ],
      "id": "b86ed7e5-47cf-4dbc-a950-8d6b3ad52f57"
    },
    {
      "cell_type": "markdown",
      "metadata": {
        "id": "0964684d-78c5-4619-8145-d224cffb1d8a"
      },
      "source": [
        "Створення на основі списків"
      ],
      "id": "0964684d-78c5-4619-8145-d224cffb1d8a"
    },
    {
      "cell_type": "code",
      "execution_count": null,
      "metadata": {
        "id": "8e173212-5a79-437b-a7b6-5346e439de82"
      },
      "outputs": [],
      "source": [
        "a = np.array([1, 2, 3])  # одновимірний масив"
      ],
      "id": "8e173212-5a79-437b-a7b6-5346e439de82"
    },
    {
      "cell_type": "markdown",
      "metadata": {
        "id": "eb5aac84-6891-446a-9a67-d5f4309f2ba6"
      },
      "source": [
        "\n",
        "\n",
        "![](http://jalammar.github.io/images/numpy/create-numpy-array-1.png)"
      ],
      "id": "eb5aac84-6891-446a-9a67-d5f4309f2ba6"
    },
    {
      "cell_type": "code",
      "execution_count": null,
      "metadata": {
        "id": "a5dd201a-213d-417a-8542-e32ceb55a687",
        "outputId": "35ca769f-6266-47fb-ca9d-9674e05b3132",
        "colab": {
          "base_uri": "https://localhost:8080/"
        }
      },
      "outputs": [
        {
          "output_type": "stream",
          "name": "stdout",
          "text": [
            "<class 'numpy.ndarray'> (3,) 1 2 3\n",
            "[1 4 3]\n"
          ]
        }
      ],
      "source": [
        "print(type(a), a.shape, a[0], a[1], a[2])\n",
        "a[1] *= 2\n",
        "print(a)"
      ],
      "id": "a5dd201a-213d-417a-8542-e32ceb55a687"
    },
    {
      "cell_type": "markdown",
      "metadata": {
        "id": "234030fa-8140-4f6e-8b8e-2a94ad931778"
      },
      "source": [
        "Можна створювати масиви багатьох розмірностей\n",
        "\n",
        "![](http://jalammar.github.io/images/numpy/numpy-array-create-2d.png)\n",
        "\n",
        "![](http://jalammar.github.io/images/numpy/numpy-3d-array.png)"
      ],
      "id": "234030fa-8140-4f6e-8b8e-2a94ad931778"
    },
    {
      "cell_type": "code",
      "execution_count": null,
      "metadata": {
        "id": "3ff3db12-c0d1-4895-8ba7-200bbdf41d0f",
        "outputId": "8ea3ed31-e73f-4912-c7f7-21b5d9589ee0",
        "colab": {
          "base_uri": "https://localhost:8080/"
        }
      },
      "outputs": [
        {
          "output_type": "stream",
          "name": "stdout",
          "text": [
            "[[1 2 5]\n",
            " [3 4 6]]\n"
          ]
        }
      ],
      "source": [
        "b = np.array([[1,2, 5],[3,4, 6]])   # двовимірний масив\n",
        "print(b)"
      ],
      "id": "3ff3db12-c0d1-4895-8ba7-200bbdf41d0f"
    },
    {
      "cell_type": "code",
      "execution_count": null,
      "metadata": {
        "id": "3898a66e-cde5-4749-980c-f72e5e453a10",
        "outputId": "75453116-8ddc-4aa6-bc6f-448648b4af07",
        "colab": {
          "base_uri": "https://localhost:8080/"
        }
      },
      "outputs": [
        {
          "output_type": "stream",
          "name": "stdout",
          "text": [
            "(2, 3)\n"
          ]
        }
      ],
      "source": [
        "print(b.shape)"
      ],
      "id": "3898a66e-cde5-4749-980c-f72e5e453a10"
    },
    {
      "cell_type": "markdown",
      "metadata": {
        "id": "59994140-982d-44d4-b735-c368cf11ab8c"
      },
      "source": [
        "Часто бувають випадки, коли ми хочемо, щоб numpy ініціалізував для нас значення масиву. numpy надає такі методи, як `ones()`, `zeros()` і `random.random()` для цих випадків. Ми просто передаємо їм ту кількість елементів, яку ми хочемо створити\n",
        "\n",
        "![](http://jalammar.github.io/images/numpy/create-numpy-array-ones-zeros-random.png)"
      ],
      "id": "59994140-982d-44d4-b735-c368cf11ab8c"
    },
    {
      "cell_type": "markdown",
      "metadata": {
        "id": "f5cd30f4-91ac-421a-b25a-8cfbddb518c7"
      },
      "source": [
        "Ми також можемо використовувати ці методи для створення багатовимірних масивів, якщо ми передаємо їм кортеж, що описує розміри матриці, яку ми хочемо створити:\n",
        "\n",
        "![](http://jalammar.github.io/images/numpy/numpy-matrix-ones-zeros-random.png)\n",
        "\n",
        "![](http://jalammar.github.io/images/numpy/numpy-3d-array-creation.png)"
      ],
      "id": "f5cd30f4-91ac-421a-b25a-8cfbddb518c7"
    },
    {
      "cell_type": "code",
      "execution_count": null,
      "metadata": {
        "id": "61dddfaf-a5eb-4d3d-a59d-85ea7e18d71a",
        "outputId": "e79911b5-e7c1-4784-b4ad-81c1e6260a22",
        "colab": {
          "base_uri": "https://localhost:8080/"
        }
      },
      "outputs": [
        {
          "output_type": "stream",
          "name": "stdout",
          "text": [
            "[[0. 0.]\n",
            " [0. 0.]]\n"
          ]
        }
      ],
      "source": [
        "a = np.zeros((2,2))  # Create an array of all zeros\n",
        "print(a)"
      ],
      "id": "61dddfaf-a5eb-4d3d-a59d-85ea7e18d71a"
    },
    {
      "cell_type": "code",
      "execution_count": null,
      "metadata": {
        "id": "aab64565-d940-42ae-915b-58c564384d48",
        "outputId": "ae250ccf-1c4a-42bb-e6ce-1c2d93916ce0",
        "colab": {
          "base_uri": "https://localhost:8080/"
        }
      },
      "outputs": [
        {
          "output_type": "stream",
          "name": "stdout",
          "text": [
            "[[1. 1.]]\n"
          ]
        }
      ],
      "source": [
        "b = np.ones((1,2))   # Create an array of all ones\n",
        "print(b)"
      ],
      "id": "aab64565-d940-42ae-915b-58c564384d48"
    },
    {
      "cell_type": "code",
      "execution_count": null,
      "metadata": {
        "id": "121ece5c-b965-44a1-9643-44c4b29e1c5a",
        "outputId": "be5c2b25-a225-46d7-95ab-7e8ea89f1e83",
        "colab": {
          "base_uri": "https://localhost:8080/"
        }
      },
      "outputs": [
        {
          "output_type": "stream",
          "name": "stdout",
          "text": [
            "[[7 7 7]\n",
            " [7 7 7]]\n"
          ]
        }
      ],
      "source": [
        "c = np.full((2,3), 7) # Create a constant array\n",
        "print(c)"
      ],
      "id": "121ece5c-b965-44a1-9643-44c4b29e1c5a"
    },
    {
      "cell_type": "code",
      "execution_count": null,
      "metadata": {
        "id": "70627e5f-197d-46cf-984e-dfba32277650",
        "outputId": "41fda115-0c25-4a2e-d1b9-a093b95fc251",
        "colab": {
          "base_uri": "https://localhost:8080/"
        }
      },
      "outputs": [
        {
          "output_type": "stream",
          "name": "stdout",
          "text": [
            "[[1. 0.]\n",
            " [0. 1.]]\n"
          ]
        }
      ],
      "source": [
        "d = np.eye(2)        # Create a 2x2 identity matrix\n",
        "print(d)"
      ],
      "id": "70627e5f-197d-46cf-984e-dfba32277650"
    },
    {
      "cell_type": "code",
      "execution_count": null,
      "metadata": {
        "id": "6f0c09f0-3894-47fd-a349-4ecc04fb9aad",
        "outputId": "9d2f7eac-49e9-436e-c1d7-bc38987976cb",
        "colab": {
          "base_uri": "https://localhost:8080/"
        }
      },
      "outputs": [
        {
          "output_type": "stream",
          "name": "stdout",
          "text": [
            "[[0.70700102 0.72772868]\n",
            " [0.78403267 0.35283885]]\n"
          ]
        }
      ],
      "source": [
        "e = np.random.random((2,2)) # Create an array filled with random values\n",
        "print(e)"
      ],
      "id": "6f0c09f0-3894-47fd-a349-4ecc04fb9aad"
    },
    {
      "cell_type": "markdown",
      "metadata": {
        "id": "8e48ce8d-88dc-4a78-9c5c-1c1edf7e02cb"
      },
      "source": [
        "Нарешті, я хочу згадати дві дуже корисні функції для створення послідовностей чисел у визначеному діапазоні, а саме `arange` і `linspace`. Функція arange у NumPy має той самий синтаксис, що й об’єкти `range` в Python: якщо надано два аргументи, перший аргумент представляє початкове значення, а друге значення визначає кінцеве значення напіввідкритого інтервалу:"
      ],
      "id": "8e48ce8d-88dc-4a78-9c5c-1c1edf7e02cb"
    },
    {
      "cell_type": "markdown",
      "metadata": {
        "id": "64c38479-b55e-4dfc-8474-90d4782c0722"
      },
      "source": [
        "Numpy також має дві корисні функції для створення послідовностей чисел: `arange` і `linspace`.\n",
        "\n",
        "Функція `arange` приймає три аргументи, які визначають початкове значення, кінцеве значення(яке на включається) інтервалу та розмір кроку. (Розмір кроку за замовчуванням, якщо не вказано явно, дорівнює 1; початкове значення за замовчуванням, якщо не вказано явно, дорівнює 0.)\n",
        "\n",
        "Функція `linspace` схожа, але ми можемо вказати кількість значень замість розміру кроку, і вона створить послідовність рівномірно розташованих значень."
      ],
      "id": "64c38479-b55e-4dfc-8474-90d4782c0722"
    },
    {
      "cell_type": "code",
      "execution_count": null,
      "metadata": {
        "id": "1c6208b2-5503-4fb0-9902-439bf83df7b0",
        "outputId": "d0570f92-d71a-4df6-a267-8b882e8b28d5",
        "colab": {
          "base_uri": "https://localhost:8080/"
        }
      },
      "outputs": [
        {
          "output_type": "stream",
          "name": "stdout",
          "text": [
            "[10 15 20 25 30 35 40 45]\n",
            "<class 'numpy.ndarray'>\n"
          ]
        }
      ],
      "source": [
        "f = np.arange(10,50,5)   # Create an array of values starting at 10 in increments of 5\n",
        "print(f)\n",
        "print(type(f))"
      ],
      "id": "1c6208b2-5503-4fb0-9902-439bf83df7b0"
    },
    {
      "cell_type": "code",
      "execution_count": null,
      "metadata": {
        "id": "9e23b524-d187-4da2-bc91-6fb6ea401764",
        "outputId": "05f28869-e611-44f2-a448-d29b84bbe1e4",
        "colab": {
          "base_uri": "https://localhost:8080/"
        }
      },
      "outputs": [
        {
          "output_type": "stream",
          "name": "stdout",
          "text": [
            "[0.   0.25 0.5  0.75 1.  ]\n"
          ]
        }
      ],
      "source": [
        "g = np.linspace(0., 1., num=5)\n",
        "print(g)"
      ],
      "id": "9e23b524-d187-4da2-bc91-6fb6ea401764"
    },
    {
      "cell_type": "markdown",
      "metadata": {
        "id": "4a46dbd6-7be1-4cff-99b0-0fa9727e638f"
      },
      "source": [
        "Іноді ми можемо захотіти побудувати масив із існуючих масивів, «складаючи» існуючі масиви вертикально або горизонтально. Ми можемо використовувати `vstack()` (або `row_stack`) і `hstack()` (або `column_stack`), відповідно."
      ],
      "id": "4a46dbd6-7be1-4cff-99b0-0fa9727e638f"
    },
    {
      "cell_type": "code",
      "execution_count": null,
      "metadata": {
        "id": "8f18be1e-aaf6-4434-83fd-beb4a5f12375",
        "outputId": "78cbd80c-1e82-411b-c483-f4969abdee07",
        "colab": {
          "base_uri": "https://localhost:8080/"
        }
      },
      "outputs": [
        {
          "output_type": "stream",
          "name": "stdout",
          "text": [
            "a=array([1, 2, 3])\n",
            "\n",
            "b=array([4, 5, 6])\n",
            "\n"
          ]
        },
        {
          "output_type": "execute_result",
          "data": {
            "text/plain": [
              "array([[1, 2, 3],\n",
              "       [4, 5, 6]])"
            ]
          },
          "metadata": {},
          "execution_count": 25
        }
      ],
      "source": [
        "a = np.array([1, 2, 3])\n",
        "b = np.array([4, 5, 6])\n",
        "\n",
        "print(f\"{a=}\\n\")\n",
        "print(f\"{b=}\\n\")\n",
        "np.vstack((a, b))"
      ],
      "id": "8f18be1e-aaf6-4434-83fd-beb4a5f12375"
    },
    {
      "cell_type": "code",
      "execution_count": null,
      "metadata": {
        "id": "1b2c6801-7af0-4b5d-a6cc-8e95997c50b4",
        "outputId": "ffe93e47-3051-4d1c-ba49-3e14fe6659c3",
        "colab": {
          "base_uri": "https://localhost:8080/"
        }
      },
      "outputs": [
        {
          "output_type": "stream",
          "name": "stdout",
          "text": [
            "a=array([[7],\n",
            "       [8],\n",
            "       [9]])\n",
            "\n",
            "b=array([[4],\n",
            "       [5],\n",
            "       [6]])\n",
            "\n"
          ]
        },
        {
          "output_type": "execute_result",
          "data": {
            "text/plain": [
              "array([[7, 4],\n",
              "       [8, 5],\n",
              "       [9, 6]])"
            ]
          },
          "metadata": {},
          "execution_count": 23
        }
      ],
      "source": [
        "a = np.array([[7], [8], [9]])\n",
        "b = np.array([[4], [5], [6]])\n",
        "\n",
        "print(f\"{a=}\\n\")\n",
        "print(f\"{b=}\\n\")\n",
        "np.hstack((a,b))"
      ],
      "id": "1b2c6801-7af0-4b5d-a6cc-8e95997c50b4"
    },
    {
      "cell_type": "markdown",
      "metadata": {
        "id": "e5fcad1c-e41e-49cf-b525-d1346167594a"
      },
      "source": [
        "### Індекси"
      ],
      "id": "e5fcad1c-e41e-49cf-b525-d1346167594a"
    },
    {
      "cell_type": "markdown",
      "metadata": {
        "id": "83f93d78-5e62-45d1-a37f-3083dd808190"
      },
      "source": [
        "\n",
        "Numpy пропонує кілька способів індексування в масиви."
      ],
      "id": "83f93d78-5e62-45d1-a37f-3083dd808190"
    },
    {
      "cell_type": "markdown",
      "metadata": {
        "id": "054e77f3-7369-426c-99ee-79ef4ad3252a"
      },
      "source": [
        "Ми можемо індексувати та використовувати розділення `slice` для масивів numpy усіма способами, як зі списками Python:\n",
        "\n",
        "![](http://jalammar.github.io/images/numpy/numpy-array-slice.png)\n",
        "\n",
        "І ви можете індексувати та розділяти масиви numpy у кількох вимірах. Якщо розрізати масив із кількома вимірами, ви повинні вказати зріз для кожного виміру:\n",
        "\n",
        "![](http://jalammar.github.io/images/numpy/numpy-matrix-indexing.png)"
      ],
      "id": "054e77f3-7369-426c-99ee-79ef4ad3252a"
    },
    {
      "cell_type": "code",
      "execution_count": null,
      "metadata": {
        "id": "d94de2b0-983c-45ca-b36c-524a2db3a32c",
        "outputId": "39acdc1d-04d7-4986-90da-8c0f7cc5e5ba",
        "colab": {
          "base_uri": "https://localhost:8080/"
        }
      },
      "outputs": [
        {
          "output_type": "stream",
          "name": "stdout",
          "text": [
            "[[ 1  2  3  4]\n",
            " [ 5  6  7  8]\n",
            " [ 9 10 11 12]]\n",
            "[[2 3]\n",
            " [6 7]]\n"
          ]
        }
      ],
      "source": [
        "# Create the following rank 2 array with shape (3, 4)\n",
        "# [[ 1  2  3  4]\n",
        "#  [ 5  6  7  8]\n",
        "#  [ 9 10 11 12]]\n",
        "a = np.array([[1,2,3,4], [5,6,7,8], [9,10,11,12]])\n",
        "\n",
        "# Use slicing to pull out the subarray consisting of the first 2 rows\n",
        "# and columns 1 and 2; b is the following array of shape (2, 2):\n",
        "# [[2 3]\n",
        "#  [6 7]]\n",
        "\n",
        "print(a)\n",
        "b = a[0:2, 1:3]\n",
        "\n",
        "print(b)"
      ],
      "id": "d94de2b0-983c-45ca-b36c-524a2db3a32c"
    },
    {
      "cell_type": "markdown",
      "metadata": {
        "id": "fadca993-9d2e-4dde-9388-6415fadeef98"
      },
      "source": [
        "Фрагмент масиву — це перегляд тих самих даних, тому його зміна призведе до зміни оригінального масиву."
      ],
      "id": "fadca993-9d2e-4dde-9388-6415fadeef98"
    },
    {
      "cell_type": "code",
      "execution_count": null,
      "metadata": {
        "id": "1041b4a5-4e49-4119-917e-615561fcf570",
        "outputId": "9db5db85-fcdf-4d80-c7dc-9f12f76b5c59",
        "colab": {
          "base_uri": "https://localhost:8080/"
        }
      },
      "outputs": [
        {
          "output_type": "stream",
          "name": "stdout",
          "text": [
            "2\n",
            "[[ 1 77 77  4]\n",
            " [ 5 77 77  8]\n",
            " [ 9 10 11 12]]\n"
          ]
        }
      ],
      "source": [
        "print(a)\n",
        "a[0:2, 1:3] = 77    # b[0, 0] is the same piece of data as a[0, 1]\n",
        "print(a)"
      ],
      "id": "1041b4a5-4e49-4119-917e-615561fcf570"
    },
    {
      "cell_type": "markdown",
      "metadata": {
        "id": "995e2a9c-2f80-469e-a40c-76a1d94a5841"
      },
      "source": [
        "Ви також можете поєднувати цілі індекси з індексуванням фрагментів. Однак це призведе до масиву нижчого виміру, ніж вихідний масив."
      ],
      "id": "995e2a9c-2f80-469e-a40c-76a1d94a5841"
    },
    {
      "cell_type": "code",
      "execution_count": null,
      "metadata": {
        "id": "b608b60c-5379-497f-9e11-d8f2caf05c55",
        "outputId": "5d22bcef-ce0d-4903-9aab-bc41155bed10",
        "colab": {
          "base_uri": "https://localhost:8080/"
        }
      },
      "outputs": [
        {
          "output_type": "stream",
          "name": "stdout",
          "text": [
            "[[ 1  2  3  4]\n",
            " [ 5  6  7  8]\n",
            " [ 9 10 11 12]]\n",
            "[2 3]\n"
          ]
        }
      ],
      "source": [
        "# Create the following rank 2 array with shape (3, 4)\n",
        "a = np.array([[1,2,3,4], [5,6,7,8], [9,10,11,12]])\n",
        "print(a)\n",
        "print(a[0, 1:3])"
      ],
      "id": "b608b60c-5379-497f-9e11-d8f2caf05c55"
    },
    {
      "cell_type": "markdown",
      "metadata": {
        "id": "58f38253-463c-48d0-a702-3ddf94120629"
      },
      "source": [
        "Два способи доступу до даних у другому рядку масиву. Змішування цілочисельної індексації з фрагментами дає масив нижчого рангу, тоді як використання лише фрагментів дає масив того самого рангу, що й вихідний масив:"
      ],
      "id": "58f38253-463c-48d0-a702-3ddf94120629"
    },
    {
      "cell_type": "code",
      "execution_count": null,
      "metadata": {
        "id": "0c3dd6e7-04b8-4f7a-b233-117cde5e2b4e",
        "outputId": "d56d0b14-6c98-4400-84d3-f4dde533d543",
        "colab": {
          "base_uri": "https://localhost:8080/"
        }
      },
      "outputs": [
        {
          "output_type": "stream",
          "name": "stdout",
          "text": [
            "[5 6 7 8] (4,)\n",
            "[[5 6 7 8]] (1, 4)\n",
            "[[5 6 7 8]] (1, 4)\n"
          ]
        }
      ],
      "source": [
        "row_r1 = a[1, :]    # Rank 1 view of the second row of a\n",
        "row_r2 = a[1:2, :]  # Rank 2 view of the second row of a\n",
        "row_r3 = a[[1], :]  # Rank 2 view of the second row of a\n",
        "\n",
        "print(row_r1, row_r1.shape)\n",
        "print(row_r2, row_r2.shape)\n",
        "print(row_r3, row_r3.shape)"
      ],
      "id": "0c3dd6e7-04b8-4f7a-b233-117cde5e2b4e"
    },
    {
      "cell_type": "code",
      "execution_count": null,
      "metadata": {
        "id": "d1c9bb25-d326-454b-89e3-be5139149855",
        "outputId": "5bd218e3-60d5-49ce-f5c9-aa9eb887641b",
        "colab": {
          "base_uri": "https://localhost:8080/"
        }
      },
      "outputs": [
        {
          "output_type": "stream",
          "name": "stdout",
          "text": [
            "[ 2  6 10] (3,)\n",
            "\n",
            "[[ 2]\n",
            " [ 6]\n",
            " [10]] (3, 1)\n"
          ]
        }
      ],
      "source": [
        "# Для стовпчиків\n",
        "col_r1 = a[:, 1]\n",
        "col_r2 = a[:, 1:2]\n",
        "print(col_r1, col_r1.shape)\n",
        "print()\n",
        "print(col_r2, col_r2.shape)"
      ],
      "id": "d1c9bb25-d326-454b-89e3-be5139149855"
    },
    {
      "cell_type": "markdown",
      "metadata": {
        "id": "a7835461-34e9-4437-8f9b-ad6b909de079"
      },
      "source": [
        "Індексування цілочисельного масиву: коли ви індексуєте масиви numpy за допомогою слайсів, отриманий масив завжди буде підмасивом вихідного масиву. Навпаки, індексація цілочисельного масиву дозволяє створювати довільні масиви, використовуючи дані з іншого масиву."
      ],
      "id": "a7835461-34e9-4437-8f9b-ad6b909de079"
    },
    {
      "cell_type": "code",
      "execution_count": null,
      "metadata": {
        "id": "806d91e7-981a-4955-9e1b-ea0226eec00e",
        "outputId": "c43a600f-ceaf-457f-e8ff-863719d666cb",
        "colab": {
          "base_uri": "https://localhost:8080/"
        }
      },
      "outputs": [
        {
          "output_type": "stream",
          "name": "stdout",
          "text": [
            "[[1 2]\n",
            " [3 4]\n",
            " [5 6]]\n",
            "\n",
            "[[1 2 1]\n",
            " [3 4 3]\n",
            " [5 6 5]]\n",
            "\n",
            "[1 4 5]\n"
          ]
        }
      ],
      "source": [
        "a = np.array([[1,2], [3, 4], [5, 6]])\n",
        "print(a)\n",
        "print()\n",
        "\n",
        "# An example of integer array indexing.\n",
        "# Результатом є масив розміру (3,)\n",
        "print(a[[0, 1, 2], [0, 1, 0]])\n",
        "print()\n",
        "\n",
        "# Даний рялок коду аналогічний наступному\n",
        "print(np.array([a[0, 0], a[1, 1], a[2, 0]]))"
      ],
      "id": "806d91e7-981a-4955-9e1b-ea0226eec00e"
    },
    {
      "cell_type": "markdown",
      "metadata": {
        "id": "24ebdd61-2313-4aec-a02a-e4b898906ec5"
      },
      "source": [
        "Отримані таким чином елементи можна змінювати у вихідному масиві"
      ],
      "id": "24ebdd61-2313-4aec-a02a-e4b898906ec5"
    },
    {
      "cell_type": "code",
      "execution_count": null,
      "metadata": {
        "id": "1260ecb9-799c-4a08-8d77-5da2abc5db8f",
        "outputId": "56178c19-8e84-4abd-eebf-2fb26fed509b",
        "colab": {
          "base_uri": "https://localhost:8080/"
        }
      },
      "outputs": [
        {
          "output_type": "stream",
          "name": "stdout",
          "text": [
            "[[ 1  2  3]\n",
            " [ 4  5  6]\n",
            " [ 7  8  9]\n",
            " [10 11 12]]\n"
          ]
        }
      ],
      "source": [
        "# Create a new array from which we will select elements\n",
        "a = np.array([[1,2,3], [4,5,6], [7,8,9], [10, 11, 12]])\n",
        "print(a)"
      ],
      "id": "1260ecb9-799c-4a08-8d77-5da2abc5db8f"
    },
    {
      "cell_type": "code",
      "execution_count": null,
      "metadata": {
        "id": "76d3c86a-3d03-423d-909b-09598b903965",
        "outputId": "4447323f-b6b3-4224-8848-f93d95ed1531",
        "colab": {
          "base_uri": "https://localhost:8080/"
        }
      },
      "outputs": [
        {
          "output_type": "stream",
          "name": "stdout",
          "text": [
            "[ 1  6  7 11]\n"
          ]
        }
      ],
      "source": [
        "# Create an array of indices\n",
        "b = np.array([0, 2, 0, 1])\n",
        "\n",
        "# Select one element from each row of a using the indices in b\n",
        "print(a[range(4), b])  # Prints \"[ 1  6  7 11]\""
      ],
      "id": "76d3c86a-3d03-423d-909b-09598b903965"
    },
    {
      "cell_type": "code",
      "execution_count": null,
      "metadata": {
        "id": "4a3a192e-ba4f-481e-92c5-2b625bcb2a80",
        "outputId": "9c584c81-f86c-4ab7-b136-29d35e191729",
        "colab": {
          "base_uri": "https://localhost:8080/"
        }
      },
      "outputs": [
        {
          "output_type": "stream",
          "name": "stdout",
          "text": [
            "[[11  2  3]\n",
            " [ 4  5 16]\n",
            " [17  8  9]\n",
            " [10 21 12]]\n"
          ]
        }
      ],
      "source": [
        "# Mutate one element from each row of a using the indices in b\n",
        "a[range(4), b] += 10\n",
        "print(a)"
      ],
      "id": "4a3a192e-ba4f-481e-92c5-2b625bcb2a80"
    },
    {
      "cell_type": "markdown",
      "metadata": {
        "id": "e61369aa-296b-428c-84df-54a0e3a69e31"
      },
      "source": [
        "Логічне індексування масиву: логічне індексування масиву дозволяє вибирати довільні елементи масиву. Часто цей тип індексування використовується для вибору елементів масиву, які задовольняють певну умову."
      ],
      "id": "e61369aa-296b-428c-84df-54a0e3a69e31"
    },
    {
      "cell_type": "code",
      "execution_count": null,
      "metadata": {
        "id": "92dd26a4-a2d2-4d0d-9d9a-6c9de8d4dbcd",
        "outputId": "554b4132-ebfa-49fa-ec51-cf11632156f0",
        "colab": {
          "base_uri": "https://localhost:8080/"
        }
      },
      "outputs": [
        {
          "output_type": "stream",
          "name": "stdout",
          "text": [
            "[[1 2]\n",
            " [3 4]\n",
            " [0 6]]\n",
            "[[False False]\n",
            " [ True  True]\n",
            " [False  True]]\n"
          ]
        }
      ],
      "source": [
        "a = np.array([[1,2], [3, 4], [0, 6]])\n",
        "\n",
        "bool_idx = (a > 2)  # знайти елементи які більше 2;\n",
        "                    # поверне масив з True/False такого ж розміру як а\n",
        "                    # де кожен елемент bool_idx каже\n",
        "                    # чи виконується умова для відповідного елемента в а\n",
        "\n",
        "print(a)\n",
        "print(bool_idx)"
      ],
      "id": "92dd26a4-a2d2-4d0d-9d9a-6c9de8d4dbcd"
    },
    {
      "cell_type": "code",
      "execution_count": null,
      "metadata": {
        "id": "52f31c05-406f-4c5d-ad25-212194c69cd0",
        "outputId": "81687cdb-0582-4679-c7d4-a44422a0ad95",
        "colab": {
          "base_uri": "https://localhost:8080/"
        }
      },
      "outputs": [
        {
          "output_type": "stream",
          "name": "stdout",
          "text": [
            "[3 4 6]\n",
            "[3 4 6]\n"
          ]
        }
      ],
      "source": [
        "# Використання логічного індексування поверне одновимірний масив\n",
        "# з елементами які відповідають True\n",
        "\n",
        "print(a[bool_idx])\n",
        "\n",
        "# В одному рядку коду\n",
        "print(a[a > 2])"
      ],
      "id": "52f31c05-406f-4c5d-ad25-212194c69cd0"
    },
    {
      "cell_type": "markdown",
      "metadata": {
        "id": "ebb38476-c368-49d4-87cf-ac5c57c7eca8"
      },
      "source": [
        "Під час роботи з масивами numpy часто корисно отримати *індекси* (а не лише значення) елементів масиву, які відповідають певним умовам. Є кілька функцій numpy, які ви точно захочете запам’ятати:\n",
        "\n",
        "-   [`argmax`](https://numpy.org/doc/stable/reference/generated/numpy.argmax.html) (індекс максимального елементу)\n",
        "-   [`argmin`](https://numpy.org/doc/stable/reference/generated/numpy.argmin.html) (індекс мінімального елементу)\n",
        "-   [`argsort`](https://numpy.org/doc/stable/reference/generated/numpy.argsort.html) (відсортований список індексів за значенням елемента в порядку зростання)\n",
        "-   [`where`](https://numpy.org/doc/stable/reference/generated/numpy.where.html) (індекси елементів, які відповідають певній умові)"
      ],
      "id": "ebb38476-c368-49d4-87cf-ac5c57c7eca8"
    },
    {
      "cell_type": "code",
      "execution_count": null,
      "metadata": {
        "id": "c26e1c0c-8c12-4df9-99cd-9614e36b64ae",
        "outputId": "b1e48b35-1a28-447c-cdc9-7f1f2af95c30",
        "colab": {
          "base_uri": "https://localhost:8080/"
        }
      },
      "outputs": [
        {
          "output_type": "stream",
          "name": "stdout",
          "text": [
            "2\n",
            "3\n",
            "[3 0 4 5 6 1 2 7]\n",
            "[7 2 1 6 5 4 0 3]\n",
            "[1 2 6 7]\n",
            "[8 9 9]\n"
          ]
        }
      ],
      "source": [
        "a = np.array([1, 8, 9, -3, 2, 4, 7, 9])\n",
        "\n",
        "print(np.argmax(a))\n",
        "\n",
        "print(np.argmin(a))\n",
        "\n",
        "print(np.argsort(a))\n",
        "\n",
        "print(np.argsort(a)[::-1])\n",
        "\n",
        "print(np.where(a > 5)[0])\n",
        "\n",
        "print(a[np.argsort(a)])"
      ],
      "id": "c26e1c0c-8c12-4df9-99cd-9614e36b64ae"
    },
    {
      "cell_type": "markdown",
      "metadata": {
        "id": "83e9e67d-6b7c-4b76-897a-ed48c3d578f9"
      },
      "source": [
        "Більше інформації у документації"
      ],
      "id": "83e9e67d-6b7c-4b76-897a-ed48c3d578f9"
    },
    {
      "cell_type": "markdown",
      "metadata": {
        "id": "7ab927d6-f7d6-4b6f-ad1d-60451d55b670"
      },
      "source": [
        "### Типи даних"
      ],
      "id": "7ab927d6-f7d6-4b6f-ad1d-60451d55b670"
    },
    {
      "cell_type": "markdown",
      "metadata": {
        "id": "3ccb9dea-1ee7-42e8-b5b9-a623fe7ab745"
      },
      "source": [
        "Кожен масив numpy є сіткою елементів одного типу. Numpy надає великий набір числових типів даних, які можна використовувати для створення масивів. Numpy намагається вгадати тип даних, коли ви створюєте масив, але функції, які створюють масиви, зазвичай також включають необов’язковий аргумент для явного визначення типу даних."
      ],
      "id": "3ccb9dea-1ee7-42e8-b5b9-a623fe7ab745"
    },
    {
      "cell_type": "code",
      "execution_count": null,
      "metadata": {
        "id": "2b021a07-6390-4216-931d-06bf28a996dc",
        "outputId": "76b6006e-b1a8-4d90-ffa9-7f5d1a14d563",
        "colab": {
          "base_uri": "https://localhost:8080/"
        }
      },
      "outputs": [
        {
          "output_type": "stream",
          "name": "stdout",
          "text": [
            "int64 float64 int32\n"
          ]
        }
      ],
      "source": [
        "x = np.array([1, 2])  # Let numpy choose the datatype\n",
        "y = np.array([1.0, 2.0])  # Let numpy choose the datatype\n",
        "z = np.array([1, 2], dtype=np.int32)  # Force a particular datatype\n",
        "\n",
        "print(x.dtype, y.dtype, z.dtype)"
      ],
      "id": "2b021a07-6390-4216-931d-06bf28a996dc"
    },
    {
      "cell_type": "markdown",
      "metadata": {
        "id": "b884c694-57a4-49d3-9df5-8a6898934831"
      },
      "source": [
        "Більше тут [documentation](http://docs.scipy.org/doc/numpy/reference/arrays.dtypes.html)."
      ],
      "id": "b884c694-57a4-49d3-9df5-8a6898934831"
    },
    {
      "cell_type": "markdown",
      "metadata": {
        "id": "cb3c901b-b344-400d-9e0f-b2fa70e28e4d"
      },
      "source": [
        "### Дії з масивами"
      ],
      "id": "cb3c901b-b344-400d-9e0f-b2fa70e28e4d"
    },
    {
      "cell_type": "markdown",
      "metadata": {
        "id": "2fea02dd-c4f7-4bd4-8006-9a2cb0c7cef2"
      },
      "source": [
        "Що робить роботу з `numpy` такою потужною та зручною, так це те, що він містить багато *векторизованих* математичних функцій для обчислень над елементами масиву. Ці функції дуже оптимізовані та *дуже* швидкі - набагато, набагато швидше, ніж використання явного циклу for.\n",
        "\n",
        "Наприклад, давайте створимо великий масив випадкових значень, а потім підсумуємо його в обох напрямках. Ми використаємо `%%time` *cell magic*, щоб визначити час."
      ],
      "id": "2fea02dd-c4f7-4bd4-8006-9a2cb0c7cef2"
    },
    {
      "cell_type": "code",
      "execution_count": null,
      "metadata": {
        "id": "92314cea-6001-4207-b40e-d0208a1597e2"
      },
      "outputs": [],
      "source": [
        "a = np.random.random(10000000)"
      ],
      "id": "92314cea-6001-4207-b40e-d0208a1597e2"
    },
    {
      "cell_type": "code",
      "execution_count": null,
      "metadata": {
        "id": "33a4e0ed-340e-436c-882a-df2224c8af21",
        "outputId": "76729b2c-cfed-4a74-df9a-3998c48b86df",
        "colab": {
          "base_uri": "https://localhost:8080/"
        }
      },
      "outputs": [
        {
          "output_type": "stream",
          "name": "stdout",
          "text": [
            "CPU times: user 11.5 ms, sys: 0 ns, total: 11.5 ms\n",
            "Wall time: 12.2 ms\n"
          ]
        }
      ],
      "source": [
        "%%time\n",
        "x = np.sum(a)"
      ],
      "id": "33a4e0ed-340e-436c-882a-df2224c8af21"
    },
    {
      "cell_type": "code",
      "execution_count": null,
      "metadata": {
        "id": "7252032c-bc87-4124-bb9d-0d2fada3e226",
        "outputId": "21413407-1f99-4a7a-8ead-5226a49a4f8e",
        "colab": {
          "base_uri": "https://localhost:8080/"
        }
      },
      "outputs": [
        {
          "output_type": "stream",
          "name": "stdout",
          "text": [
            "CPU times: user 1.96 s, sys: 1.34 ms, total: 1.96 s\n",
            "Wall time: 1.96 s\n"
          ]
        }
      ],
      "source": [
        "%%time\n",
        "x = 0\n",
        "for element in a:\n",
        "  x = x + element"
      ],
      "id": "7252032c-bc87-4124-bb9d-0d2fada3e226"
    },
    {
      "cell_type": "code",
      "source": [
        "%%time\n",
        "x = sum(a)"
      ],
      "metadata": {
        "id": "BU1LAlqPdW1E",
        "outputId": "a127aa5c-01e2-4793-82bb-6aa1b03b3732",
        "colab": {
          "base_uri": "https://localhost:8080/"
        }
      },
      "id": "BU1LAlqPdW1E",
      "execution_count": null,
      "outputs": [
        {
          "output_type": "stream",
          "name": "stdout",
          "text": [
            "CPU times: user 1.84 s, sys: 9.3 ms, total: 1.85 s\n",
            "Wall time: 1.99 s\n"
          ]
        }
      ]
    },
    {
      "cell_type": "markdown",
      "metadata": {
        "id": "c75990d9-6999-40a2-a0e3-e8207110676a"
      },
      "source": [
        "Зверніть увагу, наскільки швидша векторизована версія операції! Цей тип швидких обчислень є основним засобом машинного навчання, яке вимагає *багато* обчислень.\n",
        "\n",
        "За можливості ми намагатимемося використовувати ці векторизовані операції."
      ],
      "id": "c75990d9-6999-40a2-a0e3-e8207110676a"
    },
    {
      "cell_type": "markdown",
      "metadata": {
        "id": "b2120332-98ac-4685-9488-054a21ec141f"
      },
      "source": [
        "Деякі математичні функції доступні як перевантаження операторів, так і функції в модулі numpy."
      ],
      "id": "b2120332-98ac-4685-9488-054a21ec141f"
    },
    {
      "cell_type": "markdown",
      "metadata": {
        "id": "604243cf-4411-44a3-9b25-789631caf959"
      },
      "source": [
        "\n",
        "Наприклад, ви можете виконати поелементне підсумовування двох масивів за допомогою оператора + або функції `add()`.\n",
        "\n",
        "![](http://jalammar.github.io/images/numpy/numpy-arrays-adding-1.png)\n",
        "\n",
        "![](http://jalammar.github.io/images/numpy/numpy-matrix-arithmetic.png)"
      ],
      "id": "604243cf-4411-44a3-9b25-789631caf959"
    },
    {
      "cell_type": "code",
      "execution_count": null,
      "metadata": {
        "id": "e6d49bb6-ebfe-4416-8a7f-c1f5b77e5e8a",
        "outputId": "0bfc7456-bb29-4145-f29b-c4d6d2b56609",
        "colab": {
          "base_uri": "https://localhost:8080/"
        }
      },
      "outputs": [
        {
          "output_type": "stream",
          "name": "stdout",
          "text": [
            "[[ 4.  8.]\n",
            " [ 3. 12.]]\n",
            "[[ 4.  8.]\n",
            " [ 3. 12.]]\n"
          ]
        }
      ],
      "source": [
        "x = np.array([[-1,2],[3,4]], dtype=np.float64)\n",
        "y = np.array([[5,6],[0,8]], dtype=np.float64)\n",
        "\n",
        "# Elementwise sum; both produce the array\n",
        "print(x + y)\n",
        "print(np.add(x, y))"
      ],
      "id": "e6d49bb6-ebfe-4416-8a7f-c1f5b77e5e8a"
    },
    {
      "cell_type": "markdown",
      "metadata": {
        "id": "66adf079-d0e8-4ceb-ae88-4e78447bb6d5"
      },
      "source": [
        "І це також працює для інших операцій, а не лише для додавання:\n",
        "\n",
        "![](http://jalammar.github.io/images/numpy/numpy-array-subtract-multiply-divide.png)"
      ],
      "id": "66adf079-d0e8-4ceb-ae88-4e78447bb6d5"
    },
    {
      "cell_type": "code",
      "execution_count": null,
      "metadata": {
        "id": "83178bc8-6909-42ad-af86-1a7a76516a4c"
      },
      "outputs": [],
      "source": [
        "# Elementwise difference; both produce the array\n",
        "print(x - y)\n",
        "print(np.subtract(x, y))"
      ],
      "id": "83178bc8-6909-42ad-af86-1a7a76516a4c"
    },
    {
      "cell_type": "code",
      "execution_count": null,
      "metadata": {
        "id": "3bbca1af-53ab-44d7-a9df-e5a69463f715"
      },
      "outputs": [],
      "source": [
        "# Elementwise product; both produce the array\n",
        "print(x * y)\n",
        "print(np.multiply(x, y))"
      ],
      "id": "3bbca1af-53ab-44d7-a9df-e5a69463f715"
    },
    {
      "cell_type": "code",
      "execution_count": null,
      "metadata": {
        "id": "e98baa36-56e0-4fdc-b371-ebe02e600e0f",
        "outputId": "b429691e-0597-4879-cc04-80632ff64317",
        "colab": {
          "base_uri": "https://localhost:8080/"
        }
      },
      "outputs": [
        {
          "output_type": "stream",
          "name": "stdout",
          "text": [
            "[[0.2        0.33333333]\n",
            " [       inf 0.5       ]]\n",
            "[[0.2        0.33333333]\n",
            " [       inf 0.5       ]]\n"
          ]
        },
        {
          "output_type": "stream",
          "name": "stderr",
          "text": [
            "<ipython-input-66-fd7c7a44ea17>:4: RuntimeWarning: divide by zero encountered in divide\n",
            "  print(x / y)\n",
            "<ipython-input-66-fd7c7a44ea17>:5: RuntimeWarning: divide by zero encountered in divide\n",
            "  print(np.divide(x, y))\n"
          ]
        }
      ],
      "source": [
        "# Elementwise division; both produce the array\n",
        "# [[ 0.2         0.33333333]\n",
        "#  [ 0.42857143  0.5       ]]\n",
        "print(x / y)\n",
        "print(np.divide(x, y))"
      ],
      "id": "e98baa36-56e0-4fdc-b371-ebe02e600e0f"
    },
    {
      "cell_type": "code",
      "execution_count": null,
      "metadata": {
        "id": "226ebb2f-a24c-4f22-ae1c-d4c5302882a8",
        "outputId": "ce5e537d-cd76-4544-da22-d388130d50a7",
        "colab": {
          "base_uri": "https://localhost:8080/"
        }
      },
      "outputs": [
        {
          "output_type": "stream",
          "name": "stdout",
          "text": [
            "[[       nan 1.41421356]\n",
            " [1.73205081 2.        ]]\n"
          ]
        },
        {
          "output_type": "stream",
          "name": "stderr",
          "text": [
            "<ipython-input-69-1042fcef6159>:4: RuntimeWarning: invalid value encountered in sqrt\n",
            "  print(np.sqrt(x))\n"
          ]
        }
      ],
      "source": [
        "# Elementwise square root; produces the array\n",
        "# [[ 1.          1.41421356]\n",
        "#  [ 1.73205081  2.        ]]\n",
        "print(np.sqrt(x))"
      ],
      "id": "226ebb2f-a24c-4f22-ae1c-d4c5302882a8"
    },
    {
      "cell_type": "markdown",
      "metadata": {
        "id": "d2125bff-5063-482e-97ac-f997665fe8a9"
      },
      "source": [
        "Можна використовуємо функцію `dot()` для обчислення скалярних добутків векторів, множення вектора на матрицю та множення матриць. `dot()` доступний і як функція в модулі numpy, і як метод екземпляра об’єктів масиву:\n",
        "\n",
        "Корисне посилання: [Matrix maltuplication](http://www.mathsisfun.com/algebra/matrix-multiplying.html)\n",
        "\n",
        "![](http://jalammar.github.io/images/numpy/numpy-matrix-dot-product-1.png)"
      ],
      "id": "d2125bff-5063-482e-97ac-f997665fe8a9"
    },
    {
      "cell_type": "code",
      "execution_count": null,
      "metadata": {
        "id": "6e8eaf91-4f6a-4c82-b2a9-b4ab9c840554"
      },
      "outputs": [],
      "source": [
        "x = np.array([[1,2],[3,4]])\n",
        "y = np.array([[5,6],[7,8]])\n",
        "\n",
        "v = np.array([9,10])\n",
        "w = np.array([11, 12])\n",
        "\n",
        "# Inner product of vectors; both produce 219\n",
        "print(v.dot(w))\n",
        "print(np.dot(v, w))"
      ],
      "id": "6e8eaf91-4f6a-4c82-b2a9-b4ab9c840554"
    },
    {
      "cell_type": "markdown",
      "metadata": {
        "id": "15dfbf0b-74c0-4684-81a9-851d4ebabe6a"
      },
      "source": [
        "Ви також можете використовувати оператор `@`, який еквівалентний функції `dot` numpy."
      ],
      "id": "15dfbf0b-74c0-4684-81a9-851d4ebabe6a"
    },
    {
      "cell_type": "code",
      "execution_count": null,
      "metadata": {
        "id": "d0168e19-0fbe-43fc-a561-43db3eab3e6a"
      },
      "outputs": [],
      "source": [
        "print(v @ w)"
      ],
      "id": "d0168e19-0fbe-43fc-a561-43db3eab3e6a"
    },
    {
      "cell_type": "code",
      "execution_count": null,
      "metadata": {
        "id": "ed5a07e9-5e8c-4e92-9db6-9e0e7daf8e27"
      },
      "outputs": [],
      "source": [
        "# Matrix / vector product; both produce the rank 1 array [29 67]\n",
        "print(x.dot(v))\n",
        "print(np.dot(x, v))\n",
        "print(x @ v)"
      ],
      "id": "ed5a07e9-5e8c-4e92-9db6-9e0e7daf8e27"
    },
    {
      "cell_type": "code",
      "execution_count": null,
      "metadata": {
        "id": "e42300f0-be37-4c96-9d21-7c67cf06d370"
      },
      "outputs": [],
      "source": [
        "# Matrix / matrix product; both produce the rank 2 array\n",
        "# [[19 22]\n",
        "#  [43 50]]\n",
        "print(x, \"\\n\")\n",
        "print(y, \"\\n\")\n",
        "print(x @ y, \"\\n\")"
      ],
      "id": "e42300f0-be37-4c96-9d21-7c67cf06d370"
    },
    {
      "cell_type": "markdown",
      "source": [
        "### Практика\n",
        "Є масив калорійності продуктів та кількості продуктів у стравах. Знайти калорійності страв."
      ],
      "metadata": {
        "id": "BIu7hxstkFnk"
      },
      "id": "BIu7hxstkFnk"
    },
    {
      "cell_type": "code",
      "source": [
        "# 1 страва, 1 метод визначення калорій\n",
        "\n",
        "calories_map = {\"meat\": 100, \"rice\": 20, \"egg\": 10}\n",
        "meals_map = {\"meat\": 150, \"rice\": 200, \"egg\": 1}\n",
        "\n",
        "calories = np.array(list(calories_map.values()))\n",
        "meals = np.array(list(meals_map.values()))\n",
        "\n",
        "# (продукти,) @ (продукти,) -> ()\n",
        "total = calories @ meals\n",
        "total"
      ],
      "metadata": {
        "id": "dmc-UAxIkU89"
      },
      "id": "dmc-UAxIkU89",
      "execution_count": null,
      "outputs": []
    },
    {
      "cell_type": "code",
      "source": [
        "# багато страв, 1 метод визначення калорій\n",
        "calories_map = {\"meat\": 100, \"rice\": 20, \"egg\": 10}\n",
        "\n",
        "meals_map1 = {\"meat\": 150, \"rice\": 200, \"egg\": 1}\n",
        "meals_map2 = {\"meat\": 50, \"rice\": 150, \"egg\": 2}\n",
        "meals_map3 = {\"meat\": 200, \"rice\": 100, \"egg\": 3}\n",
        "\n",
        "calories = np.array(list(calories_map.values()))\n",
        "\n",
        "meals1 = np.array(list(meals_map1.values()))\n",
        "meals2 = np.array(list(meals_map2.values()))\n",
        "meals3 = np.array(list(meals_map3.values()))\n",
        "\n",
        "all_meals = np.array([meals1, meals2, meals3])\n",
        "\n",
        "# (n, m) @ (m, k)\n",
        "# (страва, продукт) @ (продукт) -> (страва,)\n",
        "# (продукт) @ (страва, продукт) -> error\n",
        "\n",
        "all_meals @ calories"
      ],
      "metadata": {
        "id": "D5he29eeLowa"
      },
      "id": "D5he29eeLowa",
      "execution_count": null,
      "outputs": []
    },
    {
      "cell_type": "code",
      "source": [
        "# багато страв, багато метод визначення калорій\n",
        "calories_map1 = {\"meat\": 100, \"rice\": 20, \"egg\": 10}\n",
        "calories_map2 = {\"meat\": 101, \"rice\": 21, \"egg\": 11}\n",
        "calories_map3 = {\"meat\": 99, \"rice\": 19, \"egg\": 12}\n",
        "\n",
        "meals_map1 = {\"meat\": 150, \"rice\": 200, \"egg\": 1}\n",
        "meals_map2 = {\"meat\": 50, \"rice\": 150, \"egg\": 2}\n",
        "meals_map3 = {\"meat\": 200, \"rice\": 100, \"egg\": 3}\n",
        "\n",
        "calories1 = np.array(list(calories_map1.values()))\n",
        "calories2 = np.array(list(calories_map2.values()))\n",
        "calories3 = np.array(list(calories_map3.values()))\n",
        "\n",
        "meals1 = np.array(list(meals_map1.values()))\n",
        "meals2 = np.array(list(meals_map2.values()))\n",
        "meals3 = np.array(list(meals_map3.values()))\n",
        "\n",
        "all_calories = np.array([calories1, calories2, calories3])\n",
        "all_meals = np.array([meals1, meals2, meals3])\n",
        "\n",
        "# (страва, продукт) @ (метод, продукт) -> error\n",
        "# (метод, продукт) @ (страва, продукт) -> error\n",
        "# транспонування\n",
        "# (страва, продукт) @ (продукт, метод) -> (страва, метод)\n",
        "\n",
        "all_meals @ all_calories.T"
      ],
      "metadata": {
        "id": "yqXLai8SLs4I"
      },
      "id": "yqXLai8SLs4I",
      "execution_count": null,
      "outputs": []
    },
    {
      "cell_type": "markdown",
      "metadata": {
        "id": "df7ccfe0-587f-46e6-83c4-6a6cc38ff1ea"
      },
      "source": [
        "Окрім функцій, які перевантажують оператори, Numpy також надає багато корисних функцій для виконання обчислень у масивах, таких як `min()`, `max()`, `sum()` та інші:\n",
        "\n",
        "![](http://jalammar.github.io/images/numpy/numpy-matrix-aggregation-1.png)"
      ],
      "id": "df7ccfe0-587f-46e6-83c4-6a6cc38ff1ea"
    },
    {
      "cell_type": "code",
      "execution_count": null,
      "metadata": {
        "id": "66adf5e5-773e-48fd-aff1-b42cec7a0491"
      },
      "outputs": [],
      "source": [
        "x = np.array([[1, 2], [3, 4], [5, 6]])\n",
        "\n",
        "print(np.max(x))  # Compute max of all elements; prints \"6\"\n",
        "print(np.min(x))  # Compute min of all elements; prints \"1\"\n",
        "print(np.sum(x))  # Compute sum of all elements; prints \"21\""
      ],
      "id": "66adf5e5-773e-48fd-aff1-b42cec7a0491"
    },
    {
      "cell_type": "markdown",
      "metadata": {
        "id": "96121e02-4803-40ec-a8be-5c054519754d"
      },
      "source": [
        "Ми можемо застосовувати ці функції не тільки по всіх значеннях в матриці, але застосовувати їх по рядках або стовпцях за допомогою параметра `axis`:\n",
        "\n",
        "![](http://jalammar.github.io/images/numpy/numpy-matrix-aggregation-4.png)"
      ],
      "id": "96121e02-4803-40ec-a8be-5c054519754d"
    },
    {
      "cell_type": "code",
      "execution_count": null,
      "metadata": {
        "id": "c5b0a1f4-4a9e-4d6f-aec0-21473253cda3",
        "outputId": "551388e5-913d-4105-b97b-b2d0894dc2c1",
        "colab": {
          "base_uri": "https://localhost:8080/"
        }
      },
      "outputs": [
        {
          "output_type": "stream",
          "name": "stdout",
          "text": [
            "[5 6]\n",
            "[2 5 6]\n"
          ]
        }
      ],
      "source": [
        "x = np.array([[1, 2], [5, 3], [4, 6]])\n",
        "\n",
        "print(np.max(x, axis=0))  # Compute max of each column; prints \"[5 6]\"\n",
        "print(np.max(x, axis=1))  # Compute max of each row; prints \"[2 5 6]\""
      ],
      "id": "c5b0a1f4-4a9e-4d6f-aec0-21473253cda3"
    },
    {
      "cell_type": "code",
      "source": [
        "x.shape"
      ],
      "metadata": {
        "id": "uasM3VzSj_E-",
        "outputId": "510b5e34-3200-4197-e02d-e2033ca1230b",
        "colab": {
          "base_uri": "https://localhost:8080/"
        }
      },
      "id": "uasM3VzSj_E-",
      "execution_count": null,
      "outputs": [
        {
          "output_type": "execute_result",
          "data": {
            "text/plain": [
              "(3, 2)"
            ]
          },
          "metadata": {},
          "execution_count": 71
        }
      ]
    },
    {
      "cell_type": "code",
      "source": [
        "x"
      ],
      "metadata": {
        "id": "iie68ubXkX4H",
        "outputId": "2de30ec6-34f7-4e6f-bd93-16127b97e0cc",
        "colab": {
          "base_uri": "https://localhost:8080/"
        }
      },
      "id": "iie68ubXkX4H",
      "execution_count": null,
      "outputs": [
        {
          "output_type": "execute_result",
          "data": {
            "text/plain": [
              "array([[1, 2],\n",
              "       [5, 3],\n",
              "       [4, 6]])"
            ]
          },
          "metadata": {},
          "execution_count": 73
        }
      ]
    },
    {
      "cell_type": "code",
      "source": [
        "# max в кожному стовпчику (3, 2) -> (2,)\n",
        "x.max(axis=0)"
      ],
      "metadata": {
        "id": "xLNFRviCkDYX",
        "outputId": "3fb8e68b-a395-4549-8fbf-dff9ac827cdf",
        "colab": {
          "base_uri": "https://localhost:8080/"
        }
      },
      "id": "xLNFRviCkDYX",
      "execution_count": null,
      "outputs": [
        {
          "output_type": "execute_result",
          "data": {
            "text/plain": [
              "array([5, 6])"
            ]
          },
          "metadata": {},
          "execution_count": 72
        }
      ]
    },
    {
      "cell_type": "code",
      "source": [
        "# sum в кожному рядочку (3, 2) -> (3,)\n",
        "res = np.sum(x, axis=1)\n",
        "res.shape"
      ],
      "metadata": {
        "id": "lGoNnaFGkawt",
        "outputId": "b76cd06b-54a9-4535-fa58-d78baa83037f",
        "colab": {
          "base_uri": "https://localhost:8080/"
        }
      },
      "id": "lGoNnaFGkawt",
      "execution_count": null,
      "outputs": [
        {
          "output_type": "execute_result",
          "data": {
            "text/plain": [
              "(3,)"
            ]
          },
          "metadata": {},
          "execution_count": 79
        }
      ]
    },
    {
      "cell_type": "code",
      "source": [
        "# sum в кожному рядочку (3, 2) -> (3, 1)\n",
        "res = np.sum(x, axis=1, keepdims=True)\n",
        "res.shape"
      ],
      "metadata": {
        "id": "a-jzEM0ilGau",
        "outputId": "854f1dbc-cfc8-4589-d200-2cc3f13c0d21",
        "colab": {
          "base_uri": "https://localhost:8080/"
        }
      },
      "id": "a-jzEM0ilGau",
      "execution_count": null,
      "outputs": [
        {
          "output_type": "execute_result",
          "data": {
            "text/plain": [
              "(3, 1)"
            ]
          },
          "metadata": {},
          "execution_count": 82
        }
      ]
    },
    {
      "cell_type": "markdown",
      "metadata": {
        "id": "e9b3473b-9d78-49b4-b405-9dcf386b93e0"
      },
      "source": [
        "Ви можете знайти повний список математичних функцій, які надає numpy, у [documentation](http://docs.scipy.org/doc/numpy/reference/routines.math.html)."
      ],
      "id": "e9b3473b-9d78-49b4-b405-9dcf386b93e0"
    },
    {
      "cell_type": "markdown",
      "metadata": {
        "id": "d39ad048-edd3-4c0c-9620-13a8ba6cbf01"
      },
      "source": [
        "Окрім обчислення математичних функцій за допомогою масивів, нам часто потрібно змінювати форму або іншим чином маніпулювати даними в масивах. Найпростішим прикладом цього типу операції є транспонування матриці; щоб транспонувати матрицю, просто використовуйте атрибут T об’єкта масиву.\n",
        "\n",
        "![](http://jalammar.github.io/images/numpy/numpy-transpose.png)"
      ],
      "id": "d39ad048-edd3-4c0c-9620-13a8ba6cbf01"
    },
    {
      "cell_type": "code",
      "execution_count": null,
      "metadata": {
        "id": "d50bc55d-177e-4d6a-aea9-291c48620eba",
        "outputId": "e9afc872-7a43-4edd-b15e-f932435a2cf1",
        "colab": {
          "base_uri": "https://localhost:8080/"
        }
      },
      "outputs": [
        {
          "output_type": "stream",
          "name": "stdout",
          "text": [
            "[[1 2]\n",
            " [3 4]\n",
            " [5 6]]\n",
            "(3, 2)\n",
            "(2, 3)\n",
            "transpose\n",
            " [[1 3 5]\n",
            " [2 4 6]]\n"
          ]
        }
      ],
      "source": [
        "x = np.array([[1, 2], [3, 4], [5, 6]])\n",
        "\n",
        "print(x)\n",
        "print(x.shape)\n",
        "print(x.T.shape)\n",
        "print(\"transpose\\n\", x.T)"
      ],
      "id": "d50bc55d-177e-4d6a-aea9-291c48620eba"
    },
    {
      "cell_type": "code",
      "execution_count": null,
      "metadata": {
        "id": "ddb52688-8f4d-4eb4-8249-c63a56b639a2",
        "outputId": "53c5127e-512c-4e1b-bf8e-765930bb14e1",
        "colab": {
          "base_uri": "https://localhost:8080/"
        }
      },
      "outputs": [
        {
          "output_type": "stream",
          "name": "stdout",
          "text": [
            "[[1 2 3]]\n",
            "transpose\n",
            " [[1]\n",
            " [2]\n",
            " [3]]\n"
          ]
        }
      ],
      "source": [
        "v = np.array([[1,2,3]])\n",
        "print(v )\n",
        "print(\"transpose\\n\", v.T)"
      ],
      "id": "ddb52688-8f4d-4eb4-8249-c63a56b639a2"
    },
    {
      "cell_type": "markdown",
      "metadata": {
        "id": "aed0f9ad-f114-42a5-aae1-09672bdffc97"
      },
      "source": [
        "У більш просунутому випадку використання вам може знадобитися змінити розміри певної матриці. Це часто буває в програмах машинного навчання, де певна модель очікує певної форми для вхідних даних, яка відрізняється від вашого набору даних. Метод numpy `reshape()` корисний у цих випадках.\n",
        "\n",
        "![](http://jalammar.github.io/images/numpy/numpy-reshape.png)"
      ],
      "id": "aed0f9ad-f114-42a5-aae1-09672bdffc97"
    },
    {
      "cell_type": "code",
      "execution_count": null,
      "metadata": {
        "id": "b1884a4d-c183-4c1a-b4aa-0e9e9925f284",
        "outputId": "ba80f359-29f7-4e69-d538-250a6f7cdae3",
        "colab": {
          "base_uri": "https://localhost:8080/"
        }
      },
      "outputs": [
        {
          "output_type": "stream",
          "name": "stdout",
          "text": [
            "[0 1 2 3 4 5]\n"
          ]
        },
        {
          "output_type": "execute_result",
          "data": {
            "text/plain": [
              "(6,)"
            ]
          },
          "metadata": {},
          "execution_count": 85
        }
      ],
      "source": [
        "w = np.arange(6)\n",
        "print(w)\n",
        "w.shape"
      ],
      "id": "b1884a4d-c183-4c1a-b4aa-0e9e9925f284"
    },
    {
      "cell_type": "code",
      "source": [
        "u = w.reshape((2, 3))\n",
        "print(u)\n",
        "u.shape"
      ],
      "metadata": {
        "id": "01aporUK9ze3",
        "outputId": "90e216eb-bc15-4a0e-8c7d-1f36f2c9322a",
        "colab": {
          "base_uri": "https://localhost:8080/"
        }
      },
      "id": "01aporUK9ze3",
      "execution_count": null,
      "outputs": [
        {
          "output_type": "stream",
          "name": "stdout",
          "text": [
            "[[0 1 2]\n",
            " [3 4 5]]\n"
          ]
        },
        {
          "output_type": "execute_result",
          "data": {
            "text/plain": [
              "(2, 3)"
            ]
          },
          "metadata": {},
          "execution_count": 88
        }
      ]
    },
    {
      "cell_type": "markdown",
      "metadata": {
        "id": "7bd067b9-1f56-4714-8baa-75f81a8b4d2c"
      },
      "source": [
        "Ми можемо передати -1 як один вимір, і numpy визначить правильний розмір на основі розміру нашої матриці"
      ],
      "id": "7bd067b9-1f56-4714-8baa-75f81a8b4d2c"
    },
    {
      "cell_type": "code",
      "execution_count": null,
      "metadata": {
        "id": "31ac2e61-d3de-4b10-ab04-df7d879754b1",
        "outputId": "cd663a0f-9ad6-4a04-da81-4625131ddd73",
        "colab": {
          "base_uri": "https://localhost:8080/"
        }
      },
      "outputs": [
        {
          "output_type": "stream",
          "name": "stdout",
          "text": [
            "[[0 1]\n",
            " [2 3]\n",
            " [4 5]]\n"
          ]
        },
        {
          "output_type": "execute_result",
          "data": {
            "text/plain": [
              "(3, 2)"
            ]
          },
          "metadata": {},
          "execution_count": 93
        }
      ],
      "source": [
        "y = w.reshape((-1, 2))\n",
        "print(y)\n",
        "y.shape"
      ],
      "id": "31ac2e61-d3de-4b10-ab04-df7d879754b1"
    },
    {
      "cell_type": "markdown",
      "metadata": {
        "id": "3224804b-5a14-4607-a536-4b3d584ee815"
      },
      "source": [
        "Часто в масивах є розмірності розміром в 1, що потрібно для алгоритмів, але не несе жодної додаткової інформації.\n",
        "\n",
        "Функція `squeeze()`, яка видаляє *всі* «непотрібні» розміри (розміри, які мають розмір 1) з масиву:"
      ],
      "id": "3224804b-5a14-4607-a536-4b3d584ee815"
    },
    {
      "cell_type": "code",
      "execution_count": null,
      "metadata": {
        "id": "9c4a3539-3c94-4ac1-bae5-ccf4837dcccb",
        "outputId": "d97c2a38-30f2-4ffc-83b2-d46248b3ee99",
        "colab": {
          "base_uri": "https://localhost:8080/"
        }
      },
      "outputs": [
        {
          "output_type": "stream",
          "name": "stdout",
          "text": [
            "[[[1.]\n",
            "  [1.]\n",
            "  [1.]\n",
            "  [1.]\n",
            "  [1.]]] (1, 5, 1)\n",
            "[1. 1. 1. 1. 1.] (5,)\n"
          ]
        }
      ],
      "source": [
        "x = np.ones((1, 5, 1))\n",
        "y = x.squeeze()\n",
        "print(x, x.shape)\n",
        "print(y, y.shape)"
      ],
      "id": "9c4a3539-3c94-4ac1-bae5-ccf4837dcccb"
    },
    {
      "cell_type": "code",
      "source": [
        "x = np.array([1, 2, 3])\n",
        "print(x.shape)\n",
        "\n",
        "y = x[:, np.newaxis]\n",
        "print(y.shape)"
      ],
      "metadata": {
        "id": "NcXz7rJqnNio",
        "outputId": "a86ff676-e192-4be1-8c44-c94076e4aa7f",
        "colab": {
          "base_uri": "https://localhost:8080/"
        }
      },
      "id": "NcXz7rJqnNio",
      "execution_count": null,
      "outputs": [
        {
          "output_type": "stream",
          "name": "stdout",
          "text": [
            "(3,)\n",
            "(3, 1)\n"
          ]
        }
      ]
    },
    {
      "cell_type": "markdown",
      "metadata": {
        "id": "2f732295-05f9-4b61-9f24-8efd6b41de8d"
      },
      "source": [
        "### Трансляція"
      ],
      "id": "2f732295-05f9-4b61-9f24-8efd6b41de8d"
    },
    {
      "cell_type": "markdown",
      "metadata": {
        "id": "2a85d55c-e7e9-4552-b3af-4476d5ccbe86"
      },
      "source": [
        "Трансляція - це потужний механізм, який дозволяє numpy працювати з масивами різної форми під час виконання арифметичних операцій."
      ],
      "id": "2a85d55c-e7e9-4552-b3af-4476d5ccbe86"
    },
    {
      "cell_type": "markdown",
      "metadata": {
        "id": "7c21ce51-aeab-4da1-8d7f-60507ae6c22d"
      },
      "source": [
        "Наприклад: в лінійній алгебрі ми можемо лише додаватити (і виконати інші поелементні операції) дві матриці, які мають *однаковий* розмір. У numpy, якщо ми хочемо додати дві матриці з різними розмірами, numpy неявно «розширить» розмірність однієї матриці, щоб відповідати іншій, щоб ми могли виконати операцію.\n",
        "\n",
        "Таким чином, ці операції працюватимуть, а не повертатимуть помилку:\n",
        "\n",
        "![](https://sebastianraschka.com/images/blog/2020/numpy-intro/broadcasting-1.png)\n",
        "\n",
        "![](https://sebastianraschka.com/images/blog/2020/numpy-intro/broadcasting-2.png)"
      ],
      "id": "7c21ce51-aeab-4da1-8d7f-60507ae6c22d"
    },
    {
      "cell_type": "markdown",
      "metadata": {
        "id": "aa6e5252-c604-45b4-870a-4e7c6020ae99"
      },
      "source": [
        "Трансляція двох масивів відповідає таким правилам:\n",
        "\n",
        "**Правило 1**: якщо два масиви відрізняються за кількістю вимірів, форма масиву з меншою кількістю вимірів доповнюється одиницями на його першій (лівій) стороні.\n",
        "\n",
        "Наприклад, у наступній клітинці \"a\" буде неявно розширено до форми (1,3):"
      ],
      "id": "aa6e5252-c604-45b4-870a-4e7c6020ae99"
    },
    {
      "cell_type": "code",
      "execution_count": null,
      "metadata": {
        "id": "3e32bef1-4753-4893-89ca-4edc7288c766"
      },
      "outputs": [],
      "source": [
        "a = np.array([1,2,3])         # has shape (3,): one dimension\n",
        "b = np.array([[4], [5], [6]]) # has shape (3,1): two dimensions\n",
        "c = a + b                     # will have shape (3,3) (two dimensions)"
      ],
      "id": "3e32bef1-4753-4893-89ca-4edc7288c766"
    },
    {
      "cell_type": "markdown",
      "metadata": {
        "id": "d148066a-992b-4b46-9944-0cce3ac61189"
      },
      "source": [
        "**Правило 2**: якщо форма двох масивів не збігається в жодному вимірі, масив, форма якого дорівнює 1 у цьому вимірі, розтягується, щоб відповідати іншій формі.\n",
        "\n",
        "Наприклад, у наступній клітинці `a` буде неявно розширено до форми (3,2):"
      ],
      "id": "d148066a-992b-4b46-9944-0cce3ac61189"
    },
    {
      "cell_type": "code",
      "execution_count": null,
      "metadata": {
        "id": "3ce72464-c36b-45e5-8de5-f24eb11c63fb"
      },
      "outputs": [],
      "source": [
        "a = np.array([[1],[2],[3]])         # has shape (3,1)\n",
        "b = np.array([[4,5], [6,7], [8,9]]) # has shape (3,2)\n",
        "c = a + b                           # will have shape (3,2)"
      ],
      "id": "3ce72464-c36b-45e5-8de5-f24eb11c63fb"
    },
    {
      "cell_type": "markdown",
      "metadata": {
        "id": "3cc70138-0b7f-4a3c-a561-416491b24704"
      },
      "source": [
        "**Правило 3**: якщо в будь-якому вимірі розміри не збігаються і жоден не дорівнює 1, виникає помилка:"
      ],
      "id": "3cc70138-0b7f-4a3c-a561-416491b24704"
    },
    {
      "cell_type": "code",
      "execution_count": null,
      "metadata": {
        "id": "c73f809a-5255-4958-b8af-f5c078838df5"
      },
      "outputs": [],
      "source": [
        "a = np.array([[1],[2],[3],[4]])      # has shape (4,1)\n",
        "b = np.array([[4,5], [6,7], [8,9]])  # has shape (3,2)\n",
        "c = a + b                            # ValueError: operands could not be broadcast"
      ],
      "id": "c73f809a-5255-4958-b8af-f5c078838df5"
    },
    {
      "cell_type": "markdown",
      "metadata": {
        "id": "9fcb707a-3ec0-4d0c-a1d3-7410a58262e2"
      },
      "source": [
        "Більше інформації [documentation](http://docs.scipy.org/doc/numpy/user/basics.broadcasting.html)."
      ],
      "id": "9fcb707a-3ec0-4d0c-a1d3-7410a58262e2"
    },
    {
      "cell_type": "markdown",
      "metadata": {
        "id": "bf330eac-6a83-4878-bfaa-f11f300928ac"
      },
      "source": [
        "Функції, які підтримують трансляцію, відомі як універсальні функції. Ви можете знайти список усіх універсальних функцій у [documentation](http://docs.scipy.org/doc/numpy/reference/ufuncs.html#available-ufuncs)."
      ],
      "id": "bf330eac-6a83-4878-bfaa-f11f300928ac"
    },
    {
      "cell_type": "markdown",
      "metadata": {
        "id": "497f6be0-fc5e-4d99-aec4-2435498c61ea"
      },
      "source": [
        "\n",
        "Ось кілька наочних прикладів, що стосуються трансляції.\n",
        "\n",
        "![](http://jalammar.github.io/images/numpy/numpy-array-broadcast.png)\n",
        "\n",
        "Зауважте, що ці масиви сумісні в кожному вимірі, якщо вони мають однаковий розмір у цьому вимірі або якщо один масив має розмір 1 у цьому вимірі.\n",
        "\n",
        "![](http://jalammar.github.io/images/numpy/numpy-matrix-broadcast.png)"
      ],
      "id": "497f6be0-fc5e-4d99-aec4-2435498c61ea"
    },
    {
      "cell_type": "markdown",
      "metadata": {
        "id": "cbc5165b-fc47-4e14-8b58-3012adbad24e"
      },
      "source": [
        "And here are some more practical applications:"
      ],
      "id": "cbc5165b-fc47-4e14-8b58-3012adbad24e"
    },
    {
      "cell_type": "code",
      "execution_count": null,
      "metadata": {
        "id": "e5636e31-b864-461e-b1bc-875549a857fa"
      },
      "outputs": [],
      "source": [
        "v = np.array([1,2,3])  # v has shape (3,)\n",
        "w = np.array([4,5])    # w has shape (2,)"
      ],
      "id": "e5636e31-b864-461e-b1bc-875549a857fa"
    },
    {
      "cell_type": "code",
      "execution_count": null,
      "metadata": {
        "id": "5fe4f55d-ad71-4f12-93d9-52e82790b8f0"
      },
      "outputs": [],
      "source": [
        "# Add a vector to each row of a matrix\n",
        "x = np.array([[1,2,3], [4,5,6]])\n",
        "# x has shape (2, 3) and v has shape (3,) so they broadcast to (2, 3),\n",
        "# giving the following matrix:\n",
        "\n",
        "print(x + v)"
      ],
      "id": "5fe4f55d-ad71-4f12-93d9-52e82790b8f0"
    },
    {
      "cell_type": "code",
      "execution_count": null,
      "metadata": {
        "id": "5b703d95-f109-4828-968f-6b3f42dd281e"
      },
      "outputs": [],
      "source": [
        "# Add a vector to each column of a matrix\n",
        "# x has shape (2, 3) and w has shape (2,).\n",
        "# If we transpose x then it has shape (3, 2) and can be broadcast\n",
        "# against w to yield a result of shape (3, 2); transposing this result\n",
        "# yields the final result of shape (2, 3) which is the matrix x with\n",
        "# the vector w added to each column. Gives the following matrix:\n",
        "\n",
        "print((x.T + w).T)"
      ],
      "id": "5b703d95-f109-4828-968f-6b3f42dd281e"
    },
    {
      "cell_type": "code",
      "execution_count": null,
      "metadata": {
        "id": "7f9e6053-4439-47cd-9890-e1607fa398fe"
      },
      "outputs": [],
      "source": [
        "# Another solution is to reshape w to be a row vector of shape (2, 1);\n",
        "# we can then broadcast it directly against x to produce the same\n",
        "# output.\n",
        "print(x + np.reshape(w, (2, 1)))"
      ],
      "id": "7f9e6053-4439-47cd-9890-e1607fa398fe"
    },
    {
      "cell_type": "code",
      "execution_count": null,
      "metadata": {
        "id": "2d4ac7f1-4aa5-445a-8cad-3cafc8946055"
      },
      "outputs": [],
      "source": [
        "# Multiply a matrix by a constant:\n",
        "# x has shape (2, 3). Numpy treats scalars as arrays of shape ();\n",
        "# these can be broadcast together to shape (2, 3), producing the\n",
        "# following array:\n",
        "print(x * 2)"
      ],
      "id": "2d4ac7f1-4aa5-445a-8cad-3cafc8946055"
    },
    {
      "cell_type": "markdown",
      "metadata": {
        "id": "a2b8e88d-856f-4bd2-b266-cc579edc202f"
      },
      "source": [
        "Трансляція зазвичай робить ваш код більш лаконічним і швидшим, тому ви повинні прагнути використовувати його, де це можливо."
      ],
      "id": "a2b8e88d-856f-4bd2-b266-cc579edc202f"
    },
    {
      "cell_type": "markdown",
      "metadata": {
        "id": "ea213900-99db-4c10-9047-17abbb7b8772"
      },
      "source": [
        "Цей короткий огляд торкнувся багатьох важливих речей, які вам потрібно знати про numpy, але він далеко не повний. Перегляньте [numpy](http://docs.scipy.org/doc/numpy/reference/), щоб дізнатися більше про numpy."
      ],
      "id": "ea213900-99db-4c10-9047-17abbb7b8772"
    }
  ],
  "nbformat": 4,
  "nbformat_minor": 5,
  "metadata": {
    "colab": {
      "provenance": [],
      "toc_visible": true,
      "include_colab_link": true
    },
    "language_info": {
      "name": "python"
    },
    "kernelspec": {
      "name": "python3",
      "display_name": "Python 3"
    }
  }
}