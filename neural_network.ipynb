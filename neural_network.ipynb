{
  "nbformat": 4,
  "nbformat_minor": 0,
  "metadata": {
    "colab": {
      "provenance": [],
      "toc_visible": true,
      "gpuType": "T4",
      "include_colab_link": true
    },
    "kernelspec": {
      "name": "python3",
      "display_name": "Python 3"
    },
    "language_info": {
      "name": "python"
    },
    "accelerator": "GPU"
  },
  "cells": [
    {
      "cell_type": "markdown",
      "metadata": {
        "id": "view-in-github",
        "colab_type": "text"
      },
      "source": [
        "<a href=\"https://colab.research.google.com/github/YuriiKlim/AI/blob/main/neural_network.ipynb\" target=\"_parent\"><img src=\"https://colab.research.google.com/assets/colab-badge.svg\" alt=\"Open In Colab\"/></a>"
      ]
    },
    {
      "cell_type": "markdown",
      "source": [
        "# Нейронні мережі з PyTorch\n",
        "\n",
        "Ласкаво просимо до захоплюючого світу нейронних мереж! Цей посібник познайомить вас з основними поняттями за допомогою PyTorch, потужної бібліотеки глибокого навчання."
      ],
      "metadata": {
        "id": "FylZAtlWc9YR"
      }
    },
    {
      "cell_type": "markdown",
      "source": [
        "# Натхнення: Нейрон мозку\n",
        "\n",
        "Людський мозок - це диво природи, здатне до складного навчання та вирішення складних завдань. Нейронні мережі значною мірою натхненні структурою та функціями нейронів у нашому мозку.\n",
        "\n",
        "* **Біологічний нейрон:** Нейрон - це фундаментальна одиниця мозку, яка отримує сигнали від інших нейронів, обробляє їх і передає свій власний сигнал. Він складається з\n",
        "    * **Дендритів:** Отримують сигнали від інших нейронів.\n",
        "    * **Клітинного тіла (соми):** Обробляє отримані сигнали.\n",
        "    * **Аксона:** передає оброблений сигнал до інших нейронів.\n",
        "\n",
        "<div>\n",
        "<img src=https://o.quizlet.com/paPA8iZkHWTI.4MUTSIPbA_b.png width=\"800\"/>\n",
        "</div>"
      ],
      "metadata": {
        "id": "q1WBDXZFc9WH"
      }
    },
    {
      "cell_type": "markdown",
      "source": [
        "# Штучні нейрони\n",
        "Штучні нейрони імітують основні функції біологічних нейронів. Вони:\n",
        "\n",
        "* **Отримують вхідні дані** від інших нейронів або зовнішнього середовища.\n",
        "* **Застосовують ваги** до цих вхідних даних, вказуючи на їхню важливість.\n",
        "* **Об'єднують зважені входи** за допомогою математичної функції (функції активації).\n",
        "* **Створюють вихід**, який надсилається до інших нейронів.\n",
        "\n",
        "![](https://nickmccullum.com/images/python-deep-learning/understanding-neurons-deep-learning/neuron-functionality.png)"
      ],
      "metadata": {
        "id": "kghvhH54c9T5"
      }
    },
    {
      "cell_type": "markdown",
      "source": [
        "# Складові елементи нейромережі\n",
        "\n",
        "* **Нейрон:** Фундаментальна одиниця, як описано вище.\n",
        "* **Шар:** Сукупність взаємопов'язаних нейронів. Нейронні мережі зазвичай мають кілька шарів, утворюючи складну мережу зв'язків.\n",
        "* **Вхідний шар:** Перший шар, який отримує вхідні дані.\n",
        "* **Приховані шари:** Шари між вхідним і вихідним шарами, які виконують основні обчислення. Мережі можуть мати декілька прихованих шарів для складних завдань.\n",
        "* **Вихідний шар:** Кінцевий шар, який видає прогноз мережі.\n",
        "\n",
        "![](https://galaxyinferno.com/wp-content/uploads/2020/08/neural-network.png)"
      ],
      "metadata": {
        "id": "wq-a3Vpkc9Rf"
      }
    },
    {
      "cell_type": "markdown",
      "source": [
        "# Пряме поширення\n",
        "\n",
        "Пряме поширення імітує те, як інформація протікає через мережу:\n",
        "\n",
        "1. **Вхід:** Дані подаються на вхідний шар.\n",
        "2. **Зважена сума:** Кожен вхід множиться на відповідну вагу і підсумовується в кожному нейроні.\n",
        "3. **Функція активації:** Підсумкове значення пропускається через функцію активації, вносячи нелінійність і запобігаючи простому вивченню мережею лінійних залежностей\n",
        "4. **Вихід:** Активовані значення з останнього шару стають прогнозом мережі."
      ],
      "metadata": {
        "id": "E1R7IM6Jc9Mg"
      }
    },
    {
      "cell_type": "markdown",
      "source": [
        "# Зворотне поширення: Вчимося на помилках\n",
        "\n",
        "Після прямого проходу ми порівнюємо прогноз мережі з фактичним цільовим значенням (істиною в останній інстанції). Різниця називається помилкою. Зворотне поширення допомагає мережі вчитися, коригуючи ваги:\n",
        "\n",
        "1. **Обчислення помилки:** Помилка обчислюється на вихідному шарі.\n",
        "2. **обчислення градієнтів:** йдучи назад мережею шар за шаром обчислюються градієнти для ваг.\n",
        "3. **Оновлення ваг:** Ваги коригуються на основі їхнього внеску в помилку, використовуючи алгоритм оптимізації, такий як градієнтний спуск. Цей процес повторюється, поступово покращуючи прогнози мережі.\n",
        "\n",
        "**PyTorch** надає інструменти для побудови нейронних мереж, визначення функцій втрат (помилок вимірювання) та використання оптимізаторів для ефективного зворотного розповсюдження. Це дозволяє вам навчати вашу мережу на даних і змушувати її вивчати складні закономірності.\n",
        "\n",
        "![](https://miro.medium.com/v2/resize:fit:1280/1*VF9xl3cZr2_qyoLfDJajZw.gif)"
      ],
      "metadata": {
        "id": "v_QVfDhQeDW6"
      }
    },
    {
      "cell_type": "markdown",
      "source": [
        "# Важливість функції активації\n",
        "\n",
        "Функції активації відіграють вирішальну роль у нейронних мережах, вводячи **нелінійність**. Ось чому вони важливі:\n",
        "\n",
        "* **Лінійні моделі мають обмеження:** Нейронні мережі мають на меті моделювати складні взаємозв'язки між входами та виходами. Лінійні моделі (без функцій активації) можуть вивчати лише лінійні взаємозв'язки, що є недостатнім для багатьох реальних проблем.\n",
        "* **Виразна сила:** Функції активації вносять нелінійність, дозволяючи мережі вивчати більш складні закономірності в даних. Це дозволяє мережі моделювати складні взаємозв'язки між елементами і, в кінцевому рахунку, робити більш точні прогнози.\n",
        "* **Поєднання декількох шарів** з нелінійними функціями активації створює потужну архітектуру. Кожен шар може вивчати різний рівень абстракції, що призводить до більш повного розуміння даних.\n",
        "\n",
        "Ось розбивка деяких загальних функцій активації, що використовуються в нейронних мережах:"
      ],
      "metadata": {
        "id": "9czbaoBefJM1"
      }
    },
    {
      "cell_type": "markdown",
      "source": [
        "## ReLU\n",
        "\n",
        "* **Функція:** f(x) = max(0, x)\n",
        "* **Переваги:** Проста, обчислювально ефективна, ефективна для різних задач.\n",
        "* **Недоліки:** Може страждати від проблеми \"вмирання ReLU\", коли нейрони стають постійно неактивними для від'ємних вхідних даних.\n",
        "\n",
        "![](https://www.nomidl.com/wp-content/uploads/2022/04/image-10.png)"
      ],
      "metadata": {
        "id": "kyLFcfJZfZX1"
      }
    },
    {
      "cell_type": "markdown",
      "source": [
        "## Leaky ReLU\n",
        "\n",
        "* **Функція:** f(x) = max(α * x, x), де α - невелике додатне значення\n",
        "* **Переваги:** Вирішує проблему \"вмираючої ReLU\", дозволяючи невеликий додатний градієнт для від'ємних входів.\n",
        "* **Недоліки:** Дещо складніший за ReLU.\n",
        "\n",
        "![](https://vidyasheela.com/web-contents/img/post_img/41/leaky-ReLU-activation-function-new.png)"
      ],
      "metadata": {
        "id": "SZQfTqcmfnmL"
      }
    },
    {
      "cell_type": "markdown",
      "source": [
        "## ELU\n",
        "\n",
        "* **Функція:** f(x) =\n",
        "  \\begin{cases}\n",
        "    \\beta \\cdot (\\exp(x) - 1) & \\text{if } x < 0 \\\\\n",
        "    x & \\text{інакше}\n",
        "  \\end{cases}\n",
        "    (де β - гіперпараметр)\n",
        "* **Переваги:** Плавний перехід при x = 0, уникає \"вмирання ReLU\", має тенденцію до швидшої збіжності.\n",
        "* **Недоліки:** Дещо дорожчий в обчислювальному плані, ніж ReLU.\n",
        "\n",
        "![](https://i0.wp.com/sefiks.com/wp-content/uploads/2018/01/elu-and-relu.png?resize=654%2C422&ssl=1)"
      ],
      "metadata": {
        "id": "fmamGOfBf360"
      }
    },
    {
      "cell_type": "markdown",
      "source": [
        "## GELU\n",
        "\n",
        "* **Функція:** $f(x) = 0.5x \\left(1 + \\text{erf} \\left( \\frac{x}{\\sqrt{2}} \\right)\\right)$\n",
        "\n",
        " (де erf - функція похибки)\n",
        "* **Переваги:** Плавно наближає функцію тотожності для додатних значень, уникає \"вмирання ReLU\".\n",
        "* **Недоліки:** Обчислювально дорожчий за ReLU через функцію erf.\n",
        "\n",
        "![](https://upload.wikimedia.org/wikipedia/commons/4/4e/Activation_gelu.png)"
      ],
      "metadata": {
        "id": "tOIn5HuDgGNe"
      }
    },
    {
      "cell_type": "markdown",
      "source": [
        "## Swish\n",
        "\n",
        "* **Функція:** f(x) = x * sigmoid(β * x) (де β - гіперпараметр)\n",
        "* **Переваги:** Плавна, немонотонна функція, часто добре працює на практиці.\n",
        "* **Недоліки:** Дещо складніша, ніж ReLU.\n",
        "\n",
        "![](https://wikiwandv2-19431.kxcdn.com/_next/image?url=https://upload.wikimedia.org/wikipedia/commons/thumb/1/12/Swish.svg/640px-Swish.svg.png&w=640&q=50)\n",
        "\n",
        "Вибір оптимальної функції активації залежить від вашої конкретної мережевої архітектури, набору даних і завдання. Експерименти з різними варіантами можуть допомогти вам досягти кращої продуктивності.\n",
        "\n",
        "https://playground.tensorflow.org/\n"
      ],
      "metadata": {
        "id": "kH641U3GgSD0"
      }
    },
    {
      "cell_type": "markdown",
      "source": [
        "#  Імпорт бібліотек"
      ],
      "metadata": {
        "id": "hOW-oZujqs7d"
      }
    },
    {
      "cell_type": "code",
      "execution_count": 2,
      "metadata": {
        "id": "w4zIrOVsPHJz"
      },
      "outputs": [],
      "source": [
        "import torch\n",
        "import pandas as pd\n",
        "\n",
        "device = \"cuda\" if torch.cuda.is_available() else \"cpu\"\n",
        "torch.set_default_device(device)"
      ]
    },
    {
      "cell_type": "markdown",
      "source": [
        "# Створення Dataset"
      ],
      "metadata": {
        "id": "s-qfZXZhq1b9"
      }
    },
    {
      "cell_type": "code",
      "source": [
        "df = pd.read_csv(\"https://raw.githubusercontent.com/HalyshAnton/IT-Step-Pyton-AI/main/module3/data/diamonds2.csv\",\n",
        "                 usecols=['carat', 'depth', 'price']\n",
        "                 )\n",
        "\n",
        "df.head()"
      ],
      "metadata": {
        "colab": {
          "base_uri": "https://localhost:8080/",
          "height": 206
        },
        "id": "IersguI8E_In",
        "outputId": "08919f17-cb8e-45ad-8204-cf75b91f19ae"
      },
      "execution_count": 3,
      "outputs": [
        {
          "output_type": "execute_result",
          "data": {
            "text/plain": [
              "   carat  depth  price\n",
              "0   0.23   61.5    326\n",
              "1   0.21   59.8    326\n",
              "2   0.23   56.9    327\n",
              "3   0.29   62.4    334\n",
              "4   0.31   63.3    335"
            ],
            "text/html": [
              "\n",
              "  <div id=\"df-4a5f5089-add3-44a4-a604-cf567bf7df60\" class=\"colab-df-container\">\n",
              "    <div>\n",
              "<style scoped>\n",
              "    .dataframe tbody tr th:only-of-type {\n",
              "        vertical-align: middle;\n",
              "    }\n",
              "\n",
              "    .dataframe tbody tr th {\n",
              "        vertical-align: top;\n",
              "    }\n",
              "\n",
              "    .dataframe thead th {\n",
              "        text-align: right;\n",
              "    }\n",
              "</style>\n",
              "<table border=\"1\" class=\"dataframe\">\n",
              "  <thead>\n",
              "    <tr style=\"text-align: right;\">\n",
              "      <th></th>\n",
              "      <th>carat</th>\n",
              "      <th>depth</th>\n",
              "      <th>price</th>\n",
              "    </tr>\n",
              "  </thead>\n",
              "  <tbody>\n",
              "    <tr>\n",
              "      <th>0</th>\n",
              "      <td>0.23</td>\n",
              "      <td>61.5</td>\n",
              "      <td>326</td>\n",
              "    </tr>\n",
              "    <tr>\n",
              "      <th>1</th>\n",
              "      <td>0.21</td>\n",
              "      <td>59.8</td>\n",
              "      <td>326</td>\n",
              "    </tr>\n",
              "    <tr>\n",
              "      <th>2</th>\n",
              "      <td>0.23</td>\n",
              "      <td>56.9</td>\n",
              "      <td>327</td>\n",
              "    </tr>\n",
              "    <tr>\n",
              "      <th>3</th>\n",
              "      <td>0.29</td>\n",
              "      <td>62.4</td>\n",
              "      <td>334</td>\n",
              "    </tr>\n",
              "    <tr>\n",
              "      <th>4</th>\n",
              "      <td>0.31</td>\n",
              "      <td>63.3</td>\n",
              "      <td>335</td>\n",
              "    </tr>\n",
              "  </tbody>\n",
              "</table>\n",
              "</div>\n",
              "    <div class=\"colab-df-buttons\">\n",
              "\n",
              "  <div class=\"colab-df-container\">\n",
              "    <button class=\"colab-df-convert\" onclick=\"convertToInteractive('df-4a5f5089-add3-44a4-a604-cf567bf7df60')\"\n",
              "            title=\"Convert this dataframe to an interactive table.\"\n",
              "            style=\"display:none;\">\n",
              "\n",
              "  <svg xmlns=\"http://www.w3.org/2000/svg\" height=\"24px\" viewBox=\"0 -960 960 960\">\n",
              "    <path d=\"M120-120v-720h720v720H120Zm60-500h600v-160H180v160Zm220 220h160v-160H400v160Zm0 220h160v-160H400v160ZM180-400h160v-160H180v160Zm440 0h160v-160H620v160ZM180-180h160v-160H180v160Zm440 0h160v-160H620v160Z\"/>\n",
              "  </svg>\n",
              "    </button>\n",
              "\n",
              "  <style>\n",
              "    .colab-df-container {\n",
              "      display:flex;\n",
              "      gap: 12px;\n",
              "    }\n",
              "\n",
              "    .colab-df-convert {\n",
              "      background-color: #E8F0FE;\n",
              "      border: none;\n",
              "      border-radius: 50%;\n",
              "      cursor: pointer;\n",
              "      display: none;\n",
              "      fill: #1967D2;\n",
              "      height: 32px;\n",
              "      padding: 0 0 0 0;\n",
              "      width: 32px;\n",
              "    }\n",
              "\n",
              "    .colab-df-convert:hover {\n",
              "      background-color: #E2EBFA;\n",
              "      box-shadow: 0px 1px 2px rgba(60, 64, 67, 0.3), 0px 1px 3px 1px rgba(60, 64, 67, 0.15);\n",
              "      fill: #174EA6;\n",
              "    }\n",
              "\n",
              "    .colab-df-buttons div {\n",
              "      margin-bottom: 4px;\n",
              "    }\n",
              "\n",
              "    [theme=dark] .colab-df-convert {\n",
              "      background-color: #3B4455;\n",
              "      fill: #D2E3FC;\n",
              "    }\n",
              "\n",
              "    [theme=dark] .colab-df-convert:hover {\n",
              "      background-color: #434B5C;\n",
              "      box-shadow: 0px 1px 3px 1px rgba(0, 0, 0, 0.15);\n",
              "      filter: drop-shadow(0px 1px 2px rgba(0, 0, 0, 0.3));\n",
              "      fill: #FFFFFF;\n",
              "    }\n",
              "  </style>\n",
              "\n",
              "    <script>\n",
              "      const buttonEl =\n",
              "        document.querySelector('#df-4a5f5089-add3-44a4-a604-cf567bf7df60 button.colab-df-convert');\n",
              "      buttonEl.style.display =\n",
              "        google.colab.kernel.accessAllowed ? 'block' : 'none';\n",
              "\n",
              "      async function convertToInteractive(key) {\n",
              "        const element = document.querySelector('#df-4a5f5089-add3-44a4-a604-cf567bf7df60');\n",
              "        const dataTable =\n",
              "          await google.colab.kernel.invokeFunction('convertToInteractive',\n",
              "                                                    [key], {});\n",
              "        if (!dataTable) return;\n",
              "\n",
              "        const docLinkHtml = 'Like what you see? Visit the ' +\n",
              "          '<a target=\"_blank\" href=https://colab.research.google.com/notebooks/data_table.ipynb>data table notebook</a>'\n",
              "          + ' to learn more about interactive tables.';\n",
              "        element.innerHTML = '';\n",
              "        dataTable['output_type'] = 'display_data';\n",
              "        await google.colab.output.renderOutput(dataTable, element);\n",
              "        const docLink = document.createElement('div');\n",
              "        docLink.innerHTML = docLinkHtml;\n",
              "        element.appendChild(docLink);\n",
              "      }\n",
              "    </script>\n",
              "  </div>\n",
              "\n",
              "\n",
              "<div id=\"df-b3358671-fe29-463d-b08f-402ee3ac2705\">\n",
              "  <button class=\"colab-df-quickchart\" onclick=\"quickchart('df-b3358671-fe29-463d-b08f-402ee3ac2705')\"\n",
              "            title=\"Suggest charts\"\n",
              "            style=\"display:none;\">\n",
              "\n",
              "<svg xmlns=\"http://www.w3.org/2000/svg\" height=\"24px\"viewBox=\"0 0 24 24\"\n",
              "     width=\"24px\">\n",
              "    <g>\n",
              "        <path d=\"M19 3H5c-1.1 0-2 .9-2 2v14c0 1.1.9 2 2 2h14c1.1 0 2-.9 2-2V5c0-1.1-.9-2-2-2zM9 17H7v-7h2v7zm4 0h-2V7h2v10zm4 0h-2v-4h2v4z\"/>\n",
              "    </g>\n",
              "</svg>\n",
              "  </button>\n",
              "\n",
              "<style>\n",
              "  .colab-df-quickchart {\n",
              "      --bg-color: #E8F0FE;\n",
              "      --fill-color: #1967D2;\n",
              "      --hover-bg-color: #E2EBFA;\n",
              "      --hover-fill-color: #174EA6;\n",
              "      --disabled-fill-color: #AAA;\n",
              "      --disabled-bg-color: #DDD;\n",
              "  }\n",
              "\n",
              "  [theme=dark] .colab-df-quickchart {\n",
              "      --bg-color: #3B4455;\n",
              "      --fill-color: #D2E3FC;\n",
              "      --hover-bg-color: #434B5C;\n",
              "      --hover-fill-color: #FFFFFF;\n",
              "      --disabled-bg-color: #3B4455;\n",
              "      --disabled-fill-color: #666;\n",
              "  }\n",
              "\n",
              "  .colab-df-quickchart {\n",
              "    background-color: var(--bg-color);\n",
              "    border: none;\n",
              "    border-radius: 50%;\n",
              "    cursor: pointer;\n",
              "    display: none;\n",
              "    fill: var(--fill-color);\n",
              "    height: 32px;\n",
              "    padding: 0;\n",
              "    width: 32px;\n",
              "  }\n",
              "\n",
              "  .colab-df-quickchart:hover {\n",
              "    background-color: var(--hover-bg-color);\n",
              "    box-shadow: 0 1px 2px rgba(60, 64, 67, 0.3), 0 1px 3px 1px rgba(60, 64, 67, 0.15);\n",
              "    fill: var(--button-hover-fill-color);\n",
              "  }\n",
              "\n",
              "  .colab-df-quickchart-complete:disabled,\n",
              "  .colab-df-quickchart-complete:disabled:hover {\n",
              "    background-color: var(--disabled-bg-color);\n",
              "    fill: var(--disabled-fill-color);\n",
              "    box-shadow: none;\n",
              "  }\n",
              "\n",
              "  .colab-df-spinner {\n",
              "    border: 2px solid var(--fill-color);\n",
              "    border-color: transparent;\n",
              "    border-bottom-color: var(--fill-color);\n",
              "    animation:\n",
              "      spin 1s steps(1) infinite;\n",
              "  }\n",
              "\n",
              "  @keyframes spin {\n",
              "    0% {\n",
              "      border-color: transparent;\n",
              "      border-bottom-color: var(--fill-color);\n",
              "      border-left-color: var(--fill-color);\n",
              "    }\n",
              "    20% {\n",
              "      border-color: transparent;\n",
              "      border-left-color: var(--fill-color);\n",
              "      border-top-color: var(--fill-color);\n",
              "    }\n",
              "    30% {\n",
              "      border-color: transparent;\n",
              "      border-left-color: var(--fill-color);\n",
              "      border-top-color: var(--fill-color);\n",
              "      border-right-color: var(--fill-color);\n",
              "    }\n",
              "    40% {\n",
              "      border-color: transparent;\n",
              "      border-right-color: var(--fill-color);\n",
              "      border-top-color: var(--fill-color);\n",
              "    }\n",
              "    60% {\n",
              "      border-color: transparent;\n",
              "      border-right-color: var(--fill-color);\n",
              "    }\n",
              "    80% {\n",
              "      border-color: transparent;\n",
              "      border-right-color: var(--fill-color);\n",
              "      border-bottom-color: var(--fill-color);\n",
              "    }\n",
              "    90% {\n",
              "      border-color: transparent;\n",
              "      border-bottom-color: var(--fill-color);\n",
              "    }\n",
              "  }\n",
              "</style>\n",
              "\n",
              "  <script>\n",
              "    async function quickchart(key) {\n",
              "      const quickchartButtonEl =\n",
              "        document.querySelector('#' + key + ' button');\n",
              "      quickchartButtonEl.disabled = true;  // To prevent multiple clicks.\n",
              "      quickchartButtonEl.classList.add('colab-df-spinner');\n",
              "      try {\n",
              "        const charts = await google.colab.kernel.invokeFunction(\n",
              "            'suggestCharts', [key], {});\n",
              "      } catch (error) {\n",
              "        console.error('Error during call to suggestCharts:', error);\n",
              "      }\n",
              "      quickchartButtonEl.classList.remove('colab-df-spinner');\n",
              "      quickchartButtonEl.classList.add('colab-df-quickchart-complete');\n",
              "    }\n",
              "    (() => {\n",
              "      let quickchartButtonEl =\n",
              "        document.querySelector('#df-b3358671-fe29-463d-b08f-402ee3ac2705 button');\n",
              "      quickchartButtonEl.style.display =\n",
              "        google.colab.kernel.accessAllowed ? 'block' : 'none';\n",
              "    })();\n",
              "  </script>\n",
              "</div>\n",
              "    </div>\n",
              "  </div>\n"
            ],
            "application/vnd.google.colaboratory.intrinsic+json": {
              "type": "dataframe",
              "variable_name": "df",
              "summary": "{\n  \"name\": \"df\",\n  \"rows\": 53943,\n  \"fields\": [\n    {\n      \"column\": \"carat\",\n      \"properties\": {\n        \"dtype\": \"number\",\n        \"std\": 0.4739985530964582,\n        \"min\": 0.2,\n        \"max\": 5.01,\n        \"num_unique_values\": 273,\n        \"samples\": [\n          0.77,\n          1.58,\n          0.65\n        ],\n        \"semantic_type\": \"\",\n        \"description\": \"\"\n      }\n    },\n    {\n      \"column\": \"depth\",\n      \"properties\": {\n        \"dtype\": \"number\",\n        \"std\": 1.4326262660399998,\n        \"min\": 43.0,\n        \"max\": 79.0,\n        \"num_unique_values\": 184,\n        \"samples\": [\n          61.0,\n          62.9,\n          70.2\n        ],\n        \"semantic_type\": \"\",\n        \"description\": \"\"\n      }\n    },\n    {\n      \"column\": \"price\",\n      \"properties\": {\n        \"dtype\": \"number\",\n        \"std\": 3989,\n        \"min\": 326,\n        \"max\": 18823,\n        \"num_unique_values\": 11602,\n        \"samples\": [\n          16368,\n          895,\n          748\n        ],\n        \"semantic_type\": \"\",\n        \"description\": \"\"\n      }\n    }\n  ]\n}"
            }
          },
          "metadata": {},
          "execution_count": 3
        }
      ]
    },
    {
      "cell_type": "code",
      "source": [
        "from torch.utils.data import Dataset\n",
        "\n",
        "\n",
        "class MyDataset(Dataset):\n",
        "    def __init__(self, X, y):\n",
        "      self.X = torch.FloatTensor(X.values).to(device)\n",
        "      self.y = torch.FloatTensor(y.values).to(device)\n",
        "      self.y = self.y.reshape(-1, 1)\n",
        "\n",
        "    def __len__(self):\n",
        "      return len(self.X)\n",
        "\n",
        "    def __getitem__(self, idx):\n",
        "      return self.X[idx], self.y[idx]\n",
        "\n",
        "# Create dataset object\n",
        "X = df.drop(columns=['price'])\n",
        "y = df['price']\n",
        "\n",
        "dataset = MyDataset(X, y)"
      ],
      "metadata": {
        "id": "7rsPdGlnq_YZ"
      },
      "execution_count": 4,
      "outputs": []
    },
    {
      "cell_type": "markdown",
      "source": [
        "* Створюємо Dataset даних з ознаками `X` та відповідними цільовими значеннями `y`.\n",
        "* Клас `MyDataset` успадковується від `torch.utils.data.Dataset` і визначає методи доступу до даних.\n",
        "* `__len__` повертає розмір набору даних.\n",
        "* `__getitem__` повертає вибірку даних (ознаки та ціль) за певним індексом."
      ],
      "metadata": {
        "id": "prL2G9jYrQug"
      }
    },
    {
      "cell_type": "markdown",
      "source": [
        "# Створення DataLoader"
      ],
      "metadata": {
        "id": "mqTr8xZarhX4"
      }
    },
    {
      "cell_type": "code",
      "source": [
        "from torch.utils.data import DataLoader\n",
        "\n",
        "batch_size = 128\n",
        "dataloader = DataLoader(dataset,  # датасет з даними\n",
        "                        batch_size=batch_size,  # кількість даних в одному пакеті\n",
        "                        shuffle=True,  # чи треба перемішувати дані\n",
        "                        generator=torch.Generator(device=device)) # підключення до процесора)"
      ],
      "metadata": {
        "id": "MrFMiR_Irdrw"
      },
      "execution_count": 5,
      "outputs": []
    },
    {
      "cell_type": "markdown",
      "source": [
        "* `DataLoader` керує пакетним завантаженням та перемішуванням набору даних під час навчання.\n",
        "* ``batch_size`` задає кількість вибірок, що обробляються разом у кожній ітерації.\n",
        "* `shuffle=True` рандомізує порядок зразків у кожній епосі (навчальній ітерації)."
      ],
      "metadata": {
        "id": "wJV_jwIGr-Zz"
      }
    },
    {
      "cell_type": "markdown",
      "source": [
        "У навчанні нейронних мереж за допомогою PyTorch, **пакет(batch)** означає підмножину зразків з усього вашого набору даних, які обробляються разом протягом однієї навчальної ітерації. Ось чому використання пакетів є важливим:\n",
        "\n",
        "**Ефективність:**\n",
        "\n",
        "* **Швидше навчання:** Обробка даних у пакетах ефективніше використовує апаратні ресурси порівняно з навчанням на окремих вибірках. Сучасні графічні процесори оптимізовані для паралельних обчислень, а одночасна обробка декількох зразків використовує цей паралелізм.\n",
        "* **Зменшення використання пам'яті:** Навчання на всьому наборі даних одночасно може перевантажити ресурси пам'яті, особливо для великих наборів даних. Пакетне навчання дозволяє тренуватися на менших фрагментах даних, зменшуючи навантаження на пам'ять.\n",
        "\n",
        "**Стабільність:**\n",
        "\n",
        "* **Оцінка градієнтів:** Рекурентне поширення, найважливіший крок навчання, ґрунтується на обчисленні градієнтів функції втрат відносно ваг моделі. Використання пакету для обчислення градієнта забезпечує більш **стабільну** оцінку загального градієнта порівняно з окремою вибіркою. Це допомагає оптимізатору оновлювати ваги в більш послідовному напрямку, що призводить до більш плавної збіжності.\n",
        "* **Зменшена дисперсія:** Градієнти, обчислені за окремими вибірками, можуть мати велику дисперсію, що призводить до нестабільних оновлень під час навчання. Пакетна обробка зменшує цю дисперсію шляхом усереднення градієнтів за кількома вибірками, що призводить до більш стабільного оновлення ваг."
      ],
      "metadata": {
        "id": "sZHWziTuLtiN"
      }
    },
    {
      "cell_type": "code",
      "source": [
        "X_batch, y_batch = next(iter(dataloader))"
      ],
      "metadata": {
        "id": "PF0XWGmMIJiH"
      },
      "execution_count": 6,
      "outputs": []
    },
    {
      "cell_type": "code",
      "source": [
        "X_batch.shape"
      ],
      "metadata": {
        "colab": {
          "base_uri": "https://localhost:8080/"
        },
        "id": "sVh9eOdJIVzk",
        "outputId": "c554943a-d5a8-4153-c16c-6c850cccb6cd"
      },
      "execution_count": 7,
      "outputs": [
        {
          "output_type": "execute_result",
          "data": {
            "text/plain": [
              "torch.Size([128, 2])"
            ]
          },
          "metadata": {},
          "execution_count": 7
        }
      ]
    },
    {
      "cell_type": "code",
      "source": [
        "y_batch.shape"
      ],
      "metadata": {
        "colab": {
          "base_uri": "https://localhost:8080/"
        },
        "id": "3W7NS7S3IY7-",
        "outputId": "9eaa3434-628f-42a1-a751-0c6ae000a508"
      },
      "execution_count": 8,
      "outputs": [
        {
          "output_type": "execute_result",
          "data": {
            "text/plain": [
              "torch.Size([128, 1])"
            ]
          },
          "metadata": {},
          "execution_count": 8
        }
      ]
    },
    {
      "cell_type": "code",
      "source": [
        "X_batch.device"
      ],
      "metadata": {
        "id": "D4olpmejliUx",
        "outputId": "7fcbc916-1b5a-46a6-f562-688677d86cb7",
        "colab": {
          "base_uri": "https://localhost:8080/"
        }
      },
      "execution_count": 9,
      "outputs": [
        {
          "output_type": "execute_result",
          "data": {
            "text/plain": [
              "device(type='cuda', index=0)"
            ]
          },
          "metadata": {},
          "execution_count": 9
        }
      ]
    },
    {
      "cell_type": "markdown",
      "source": [
        "# Створення моделі"
      ],
      "metadata": {
        "id": "FYRXB697sCB2"
      }
    },
    {
      "cell_type": "code",
      "source": [
        "from torch import nn\n",
        "\n",
        "\n",
        "model = nn.Sequential(\n",
        "    nn.Linear(2, 4),\n",
        "    nn.ReLU(),\n",
        "    nn.Linear(4, 1)\n",
        ")\n",
        "\n",
        "model"
      ],
      "metadata": {
        "id": "YjV7MeJGr_Qf",
        "outputId": "779bb5b4-35e0-4ff8-8efc-7c0f5e511e2c",
        "colab": {
          "base_uri": "https://localhost:8080/"
        }
      },
      "execution_count": 10,
      "outputs": [
        {
          "output_type": "execute_result",
          "data": {
            "text/plain": [
              "Sequential(\n",
              "  (0): Linear(in_features=2, out_features=4, bias=True)\n",
              "  (1): ReLU()\n",
              "  (2): Linear(in_features=4, out_features=1, bias=True)\n",
              ")"
            ]
          },
          "metadata": {},
          "execution_count": 10
        }
      ]
    },
    {
      "cell_type": "markdown",
      "source": [
        "Перевіряємо розмірності"
      ],
      "metadata": {
        "id": "1uaOXb5pnElN"
      }
    },
    {
      "cell_type": "code",
      "source": [
        "from torchsummary import summary\n",
        "\n",
        "summary(model, input_size=(2,))"
      ],
      "metadata": {
        "id": "x0uNH_13kgIV",
        "outputId": "639a6484-67c8-4320-9490-9202a8683134",
        "colab": {
          "base_uri": "https://localhost:8080/"
        }
      },
      "execution_count": 11,
      "outputs": [
        {
          "output_type": "stream",
          "name": "stdout",
          "text": [
            "----------------------------------------------------------------\n",
            "        Layer (type)               Output Shape         Param #\n",
            "================================================================\n",
            "            Linear-1                    [-1, 4]              12\n",
            "              ReLU-2                    [-1, 4]               0\n",
            "            Linear-3                    [-1, 1]               5\n",
            "================================================================\n",
            "Total params: 17\n",
            "Trainable params: 17\n",
            "Non-trainable params: 0\n",
            "----------------------------------------------------------------\n",
            "Input size (MB): 0.00\n",
            "Forward/backward pass size (MB): 0.00\n",
            "Params size (MB): 0.00\n",
            "Estimated Total Size (MB): 0.00\n",
            "----------------------------------------------------------------\n"
          ]
        }
      ]
    },
    {
      "cell_type": "markdown",
      "source": [
        "# Визначення функції втрат та оптимізатора"
      ],
      "metadata": {
        "id": "_xeemW04sXAm"
      }
    },
    {
      "cell_type": "code",
      "source": [
        "# Функція втрат середньоквадратичної помилки (MSE) для регресії\n",
        "loss_fn = nn.MSELoss()\n",
        "\n",
        "# Оптимізатор (SGD) для оновлення ваг моделі\n",
        "optimizer = torch.optim.SGD(model.parameters(), lr=0.001)"
      ],
      "metadata": {
        "id": "ji02e2dssdd5"
      },
      "execution_count": 12,
      "outputs": []
    },
    {
      "cell_type": "markdown",
      "source": [
        "* Визначаємо функцію втрат як `nn.MSELoss`, яка підходить для задач регресії (вимірює середньоквадратичну різницю між прогнозами та цілями).\n",
        "* Вибираємо оптимізатор градієнтного спуску (`torch.optim.SGD`) для налаштування ваг моделей під час навчання.\n",
        "* Швидкість навчання (`lr=0.01`) контролює розмір кроку оптимізатора."
      ],
      "metadata": {
        "id": "6M5lYsWSslKf"
      }
    },
    {
      "cell_type": "markdown",
      "source": [
        "# Цикл навчання"
      ],
      "metadata": {
        "id": "pEA-s_AQspqH"
      }
    },
    {
      "cell_type": "code",
      "source": [
        "import numpy as np\n",
        "\n",
        "num_epochs = 10\n",
        "losses = []\n",
        "\n",
        "for epoch in range(num_epochs):\n",
        "  losses_ = []\n",
        "  for X_batch, y_batch in dataloader:\n",
        "        # пряме пошерення\n",
        "        y_pred = model(X_batch)\n",
        "        loss = loss_fn(y_pred, y_batch)\n",
        "        losses_.append(loss.item())\n",
        "\n",
        "        # Зворотнє поширення\n",
        "        loss.backward() # рахуємо градієнти\n",
        "        optimizer.step()\n",
        "        optimizer.zero_grad()\n",
        "\n",
        "  losses.append(np.mean(losses_))\n",
        "\n",
        "  if epoch % 1 == 0:\n",
        "          print(f'loss={losses[-1]}')\n"
      ],
      "metadata": {
        "id": "NSVzKWZpsl1m",
        "colab": {
          "base_uri": "https://localhost:8080/"
        },
        "outputId": "dc840e9d-f267-4c75-a06c-99c4d14efdec"
      },
      "execution_count": 13,
      "outputs": [
        {
          "output_type": "stream",
          "name": "stdout",
          "text": [
            "loss=7088339550.045024\n",
            "loss=20794965.786729857\n",
            "loss=16820632.04028436\n",
            "loss=16077121.592417061\n",
            "loss=15940073.084123222\n",
            "loss=15922932.355450237\n",
            "loss=15908032.5\n",
            "loss=15909895.93127962\n",
            "loss=15905315.161137441\n",
            "loss=15915204.15521327\n"
          ]
        }
      ]
    },
    {
      "cell_type": "code",
      "source": [
        "import matplotlib.pyplot as plt\n",
        "\n",
        "plt.plot(losses)\n",
        "plt.ylim(0, 0.25*1e8)"
      ],
      "metadata": {
        "colab": {
          "base_uri": "https://localhost:8080/",
          "height": 463
        },
        "id": "9dbGiZkmIAN9",
        "outputId": "7c534f1d-29a1-48e8-d0a6-6f7065387648"
      },
      "execution_count": 14,
      "outputs": [
        {
          "output_type": "execute_result",
          "data": {
            "text/plain": [
              "(0.0, 25000000.0)"
            ]
          },
          "metadata": {},
          "execution_count": 14
        },
        {
          "output_type": "display_data",
          "data": {
            "text/plain": [
              "<Figure size 640x480 with 1 Axes>"
            ],
            "image/png": "[encoded data removed]"
          },
          "metadata": {}
        }
      ]
    },
    {
      "cell_type": "markdown",
      "source": [
        "# Збереження моделі"
      ],
      "metadata": {
        "id": "CT4cuvjWhQ4A"
      }
    },
    {
      "cell_type": "code",
      "source": [
        "torch.save(model, 'model.pt')"
      ],
      "metadata": {
        "id": "riflMjyuLlLX"
      },
      "execution_count": 15,
      "outputs": []
    },
    {
      "cell_type": "code",
      "source": [
        "load_model = torch.load('model.pt')"
      ],
      "metadata": {
        "id": "guK-l8m_hXXo"
      },
      "execution_count": 16,
      "outputs": []
    },
    {
      "cell_type": "code",
      "source": [
        "load_model"
      ],
      "metadata": {
        "id": "EkUjR32khdU2",
        "outputId": "b8dc2c61-9f5f-4eee-b1e6-60836a091860",
        "colab": {
          "base_uri": "https://localhost:8080/"
        }
      },
      "execution_count": 17,
      "outputs": [
        {
          "output_type": "execute_result",
          "data": {
            "text/plain": [
              "Sequential(\n",
              "  (0): Linear(in_features=2, out_features=4, bias=True)\n",
              "  (1): ReLU()\n",
              "  (2): Linear(in_features=4, out_features=1, bias=True)\n",
              ")"
            ]
          },
          "metadata": {},
          "execution_count": 17
        }
      ]
    },
    {
      "cell_type": "code",
      "source": [
        "X.iloc[:1]"
      ],
      "metadata": {
        "id": "jsC6saYuMjwb",
        "outputId": "a8d50316-152f-4752-bd06-a9b2b9720b46",
        "colab": {
          "base_uri": "https://localhost:8080/",
          "height": 81
        }
      },
      "execution_count": 18,
      "outputs": [
        {
          "output_type": "execute_result",
          "data": {
            "text/plain": [
              "   carat  depth\n",
              "0   0.23   61.5"
            ],
            "text/html": [
              "\n",
              "  <div id=\"df-440dc878-ce08-4c70-84d8-e012ea46a529\" class=\"colab-df-container\">\n",
              "    <div>\n",
              "<style scoped>\n",
              "    .dataframe tbody tr th:only-of-type {\n",
              "        vertical-align: middle;\n",
              "    }\n",
              "\n",
              "    .dataframe tbody tr th {\n",
              "        vertical-align: top;\n",
              "    }\n",
              "\n",
              "    .dataframe thead th {\n",
              "        text-align: right;\n",
              "    }\n",
              "</style>\n",
              "<table border=\"1\" class=\"dataframe\">\n",
              "  <thead>\n",
              "    <tr style=\"text-align: right;\">\n",
              "      <th></th>\n",
              "      <th>carat</th>\n",
              "      <th>depth</th>\n",
              "    </tr>\n",
              "  </thead>\n",
              "  <tbody>\n",
              "    <tr>\n",
              "      <th>0</th>\n",
              "      <td>0.23</td>\n",
              "      <td>61.5</td>\n",
              "    </tr>\n",
              "  </tbody>\n",
              "</table>\n",
              "</div>\n",
              "    <div class=\"colab-df-buttons\">\n",
              "\n",
              "  <div class=\"colab-df-container\">\n",
              "    <button class=\"colab-df-convert\" onclick=\"convertToInteractive('df-440dc878-ce08-4c70-84d8-e012ea46a529')\"\n",
              "            title=\"Convert this dataframe to an interactive table.\"\n",
              "            style=\"display:none;\">\n",
              "\n",
              "  <svg xmlns=\"http://www.w3.org/2000/svg\" height=\"24px\" viewBox=\"0 -960 960 960\">\n",
              "    <path d=\"M120-120v-720h720v720H120Zm60-500h600v-160H180v160Zm220 220h160v-160H400v160Zm0 220h160v-160H400v160ZM180-400h160v-160H180v160Zm440 0h160v-160H620v160ZM180-180h160v-160H180v160Zm440 0h160v-160H620v160Z\"/>\n",
              "  </svg>\n",
              "    </button>\n",
              "\n",
              "  <style>\n",
              "    .colab-df-container {\n",
              "      display:flex;\n",
              "      gap: 12px;\n",
              "    }\n",
              "\n",
              "    .colab-df-convert {\n",
              "      background-color: #E8F0FE;\n",
              "      border: none;\n",
              "      border-radius: 50%;\n",
              "      cursor: pointer;\n",
              "      display: none;\n",
              "      fill: #1967D2;\n",
              "      height: 32px;\n",
              "      padding: 0 0 0 0;\n",
              "      width: 32px;\n",
              "    }\n",
              "\n",
              "    .colab-df-convert:hover {\n",
              "      background-color: #E2EBFA;\n",
              "      box-shadow: 0px 1px 2px rgba(60, 64, 67, 0.3), 0px 1px 3px 1px rgba(60, 64, 67, 0.15);\n",
              "      fill: #174EA6;\n",
              "    }\n",
              "\n",
              "    .colab-df-buttons div {\n",
              "      margin-bottom: 4px;\n",
              "    }\n",
              "\n",
              "    [theme=dark] .colab-df-convert {\n",
              "      background-color: #3B4455;\n",
              "      fill: #D2E3FC;\n",
              "    }\n",
              "\n",
              "    [theme=dark] .colab-df-convert:hover {\n",
              "      background-color: #434B5C;\n",
              "      box-shadow: 0px 1px 3px 1px rgba(0, 0, 0, 0.15);\n",
              "      filter: drop-shadow(0px 1px 2px rgba(0, 0, 0, 0.3));\n",
              "      fill: #FFFFFF;\n",
              "    }\n",
              "  </style>\n",
              "\n",
              "    <script>\n",
              "      const buttonEl =\n",
              "        document.querySelector('#df-440dc878-ce08-4c70-84d8-e012ea46a529 button.colab-df-convert');\n",
              "      buttonEl.style.display =\n",
              "        google.colab.kernel.accessAllowed ? 'block' : 'none';\n",
              "\n",
              "      async function convertToInteractive(key) {\n",
              "        const element = document.querySelector('#df-440dc878-ce08-4c70-84d8-e012ea46a529');\n",
              "        const dataTable =\n",
              "          await google.colab.kernel.invokeFunction('convertToInteractive',\n",
              "                                                    [key], {});\n",
              "        if (!dataTable) return;\n",
              "\n",
              "        const docLinkHtml = 'Like what you see? Visit the ' +\n",
              "          '<a target=\"_blank\" href=https://colab.research.google.com/notebooks/data_table.ipynb>data table notebook</a>'\n",
              "          + ' to learn more about interactive tables.';\n",
              "        element.innerHTML = '';\n",
              "        dataTable['output_type'] = 'display_data';\n",
              "        await google.colab.output.renderOutput(dataTable, element);\n",
              "        const docLink = document.createElement('div');\n",
              "        docLink.innerHTML = docLinkHtml;\n",
              "        element.appendChild(docLink);\n",
              "      }\n",
              "    </script>\n",
              "  </div>\n",
              "\n",
              "    </div>\n",
              "  </div>\n"
            ],
            "application/vnd.google.colaboratory.intrinsic+json": {
              "type": "dataframe",
              "summary": "{\n  \"name\": \"X\",\n  \"rows\": 1,\n  \"fields\": [\n    {\n      \"column\": \"carat\",\n      \"properties\": {\n        \"dtype\": \"number\",\n        \"std\": null,\n        \"min\": 0.23,\n        \"max\": 0.23,\n        \"num_unique_values\": 1,\n        \"samples\": [\n          0.23\n        ],\n        \"semantic_type\": \"\",\n        \"description\": \"\"\n      }\n    },\n    {\n      \"column\": \"depth\",\n      \"properties\": {\n        \"dtype\": \"number\",\n        \"std\": null,\n        \"min\": 61.5,\n        \"max\": 61.5,\n        \"num_unique_values\": 1,\n        \"samples\": [\n          61.5\n        ],\n        \"semantic_type\": \"\",\n        \"description\": \"\"\n      }\n    }\n  ]\n}"
            }
          },
          "metadata": {},
          "execution_count": 18
        }
      ]
    },
    {
      "cell_type": "code",
      "source": [
        "X_data = torch.FloatTensor(X.iloc[:1].values)\n",
        "X_data = X_data.to(device)\n",
        "\n",
        "print(X_data)\n",
        "print(X_data.shape)"
      ],
      "metadata": {
        "id": "Z_juPQ5VjUUi",
        "outputId": "68c83acd-552b-4937-ce4e-39926502357a",
        "colab": {
          "base_uri": "https://localhost:8080/"
        }
      },
      "execution_count": 19,
      "outputs": [
        {
          "output_type": "stream",
          "name": "stdout",
          "text": [
            "tensor([[ 0.2300, 61.5000]], device='cuda:0')\n",
            "torch.Size([1, 2])\n"
          ]
        }
      ]
    },
    {
      "cell_type": "code",
      "source": [
        "load_model(X_data) # порахує грабієнти"
      ],
      "metadata": {
        "id": "LoYFcNWYhuYs",
        "outputId": "9137b047-f592-4190-e8ff-acd1f23967ef",
        "colab": {
          "base_uri": "https://localhost:8080/"
        }
      },
      "execution_count": 20,
      "outputs": [
        {
          "output_type": "execute_result",
          "data": {
            "text/plain": [
              "tensor([[3925.8972]], device='cuda:0', grad_fn=<AddmmBackward0>)"
            ]
          },
          "metadata": {},
          "execution_count": 20
        }
      ]
    },
    {
      "cell_type": "code",
      "source": [
        "with torch.no_grad(): # без градієнтів\n",
        "  print(load_model(X_data))"
      ],
      "metadata": {
        "id": "wI9dM8vrh7Op",
        "outputId": "78cba9f3-898a-47f4-e1b5-63593a4fe624",
        "colab": {
          "base_uri": "https://localhost:8080/"
        }
      },
      "execution_count": 21,
      "outputs": [
        {
          "output_type": "stream",
          "name": "stdout",
          "text": [
            "tensor([[3925.8972]], device='cuda:0')\n"
          ]
        }
      ]
    },
    {
      "cell_type": "code",
      "source": [],
      "metadata": {
        "id": "JSRgreOoj6z_"
      },
      "execution_count": 21,
      "outputs": []
    }
  ]
}